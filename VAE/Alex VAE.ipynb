{
 "cells": [
  {
   "cell_type": "markdown",
   "source": [
    "# Top of notebook"
   ],
   "metadata": {}
  },
  {
   "cell_type": "code",
   "execution_count": 1,
   "source": [
    "import numpy as np\n",
    "import glob\n",
    "import time\n",
    "import matplotlib.pyplot as plt\n",
    "from matplotlib.animation import FuncAnimation\n",
    "import mpl_toolkits.mplot3d.axes3d as p3\n",
    "\n",
    "\n",
    "# %matplotlib widget\n",
    "# %matplotlib inline\n",
    "# %matplotlib widget\n",
    "%matplotlib tk"
   ],
   "outputs": [],
   "metadata": {}
  },
  {
   "cell_type": "markdown",
   "source": [
    "## Loading data and visualizations"
   ],
   "metadata": {}
  },
  {
   "cell_type": "markdown",
   "source": [
    "The cell below loads a few npy files. They each have pose data from the original motinocapture files, however, **they are already\n",
    "egocentered** such that the rat always looks to the right."
   ],
   "metadata": {}
  },
  {
   "cell_type": "code",
   "execution_count": 2,
   "source": [
    "dnames = glob.glob('mocap_clean_eh5/*.npy')\n",
    "egoh5s = []\n",
    "for dname in dnames:\n",
    "    egoh5s.append(np.load(dname, allow_pickle=True))"
   ],
   "outputs": [],
   "metadata": {}
  },
  {
   "cell_type": "code",
   "execution_count": 3,
   "source": [
    "print(np.array(egoh5s).shape)"
   ],
   "outputs": [
    {
     "output_type": "stream",
     "name": "stdout",
     "text": [
      "(1, 247197, 57)\n"
     ]
    }
   ],
   "metadata": {}
  },
  {
   "cell_type": "code",
   "execution_count": 6,
   "source": [
    "connections2 = [[5, 4, 6,5], [4,17,18], [17,11,12,18], [0,2,15,17,16,3,1], [13,9,7,18,8,10,14]]\n",
    "\n",
    "fig = plt.figure()\n",
    "ax = p3.Axes3D(fig, auto_add_to_figure=False )\n",
    "fig.add_axes(ax)\n",
    "\n",
    "def animfunc(t, skip=1):\n",
    "    ax.clear()\n",
    "    \n",
    "    lines = []\n",
    "    frame = t*skip\n",
    "    figure = egoh5s[0]\n",
    "    for conn in connections2:\n",
    "        x = [3*i for i in conn]\n",
    "        y = [i+1 for i in x]\n",
    "        z = [i+2 for i in x]\n",
    "        lines.append(ax.plot(figure[frame, x], figure[frame, y],  figure[frame, z], linewidth=3))\n",
    "    ax.set_title('(%i, %i)'%((t, t*skip)))\n",
    "    return lines,\n",
    "        \n",
    "anim = FuncAnimation(fig, animfunc, frames=100, fargs=(50,), interval=500, repeat=False)"
   ],
   "outputs": [],
   "metadata": {}
  },
  {
   "cell_type": "code",
   "execution_count": 7,
   "source": [
    "anim.event_source.stop()        "
   ],
   "outputs": [],
   "metadata": {}
  },
  {
   "cell_type": "markdown",
   "source": [
    "Let's plot the center of mass of these poses. If they are not very erronous, they should all lie in a clumb near origin. "
   ],
   "metadata": {}
  },
  {
   "cell_type": "code",
   "execution_count": 8,
   "source": [
    "# np.argwhere(coms[:,0])"
   ],
   "outputs": [],
   "metadata": {}
  },
  {
   "cell_type": "code",
   "execution_count": 9,
   "source": [
    "ax.get_xlim()"
   ],
   "outputs": [
    {
     "output_type": "execute_result",
     "data": {
      "text/plain": [
       "(-31.32535658658453, 113.38318342566257)"
      ]
     },
     "metadata": {},
     "execution_count": 9
    }
   ],
   "metadata": {}
  },
  {
   "cell_type": "code",
   "execution_count": 13,
   "source": [
    "alleh5s = np.concatenate(egoh5s, axis=0)\n",
    "print(alleh5s.shape)\n",
    "# alleh5s = alleh5s.reshape((-1, alleh5s.shape[1]//3, 3))\n",
    "alleh5s = alleh5s.reshape((-1, 19, 3))\n",
    "coms = np.mean(alleh5s, axis=1)\n",
    "print(coms.shape)\n",
    "print(coms[:,0].shape)\n",
    "\n",
    "# fig6 = plt.figure()\n",
    "# ax6 = p3.Axes3D(fig6, auto_add_to_figure=False)\n",
    "# fig6.add_axes(ax6)\n",
    "# ax6.scatter(coms[:,0], coms[:,1], coms[:,2], s=1)\n",
    "fig, ax = plt.subplots()\n",
    "ax.set_title(\"Center of Mass\")\n",
    "ax.set_xlabel(\"X axis\")\n",
    "ax.set_ylabel(\"Y axis\")\n",
    "ax.scatter(coms[:,0], coms[:,1], s=1)"
   ],
   "outputs": [
    {
     "output_type": "stream",
     "name": "stdout",
     "text": [
      "(247197, 57)\n",
      "(247197, 3)\n",
      "(247197,)\n"
     ]
    },
    {
     "output_type": "execute_result",
     "data": {
      "text/plain": [
       "<matplotlib.collections.PathCollection at 0x7f93fe5895b0>"
      ]
     },
     "metadata": {},
     "execution_count": 13
    }
   ],
   "metadata": {}
  },
  {
   "cell_type": "markdown",
   "source": [
    "Zoom in in the figure above to enclose only the central blob. Then run the cell below to select points that are in the central blob."
   ],
   "metadata": {}
  },
  {
   "cell_type": "code",
   "execution_count": 14,
   "source": [
    "xlim, ylim = ax.get_xlim(), ax.get_ylim()\n",
    "\n",
    "inds = np.where((coms[:,0]<xlim[1]) & (coms[:,0]>xlim[0]) & (coms[:,1]<ylim[1]) & (coms[:,1]>ylim[0]))[0]\n",
    "\n",
    "\n",
    "connections2 = [[5, 4, 6, 5], [4,17,18], [17,11,12,18], [0,2,15,17,16,3,1], [13,9,7,18,8,10,14]]\n",
    "\n",
    "fig2 = plt.figure()\n",
    "ax2 = p3.Axes3D(fig2, auto_add_to_figure=False)\n",
    "fig2.add_axes(ax2)\n",
    "\n",
    "def animfunc(t):\n",
    "    ax2.clear()\n",
    "    lines = []\n",
    "    for conn in connections2: \n",
    "        x = alleh5s[inds[t], conn, 0]\n",
    "        y = alleh5s[inds[t], conn, 1]\n",
    "        z = alleh5s[inds[t], conn, 2]\n",
    "        lines.append(ax2.plot(x, y, z, linewidth=3))\n",
    "    ax2.set_title('(%i/%i, %i)'%((t, len(inds), inds[t])))\n",
    "#     ax2.set_xlim([-250, 250])\n",
    "#     ax2.set_ylim([-300, 300])\n",
    "    return lines,\n",
    "\n",
    "anim = FuncAnimation(fig2, animfunc, frames=len(inds), interval=500, repeat=False)\n"
   ],
   "outputs": [],
   "metadata": {}
  },
  {
   "cell_type": "code",
   "execution_count": 15,
   "source": [
    "anim.event_source.stop()"
   ],
   "outputs": [],
   "metadata": {}
  },
  {
   "cell_type": "markdown",
   "source": [
    "So not all poses have a center of mass at origin, so we don't have a very clean pose data to start with. "
   ],
   "metadata": {}
  },
  {
   "cell_type": "code",
   "execution_count": 16,
   "source": [
    "alleh5s_clean = alleh5s[inds]"
   ],
   "outputs": [],
   "metadata": {}
  },
  {
   "cell_type": "markdown",
   "source": [
    "## Training AE model "
   ],
   "metadata": {}
  },
  {
   "cell_type": "markdown",
   "source": [
    "Before moving on to a variationa autoencoder, let's try to train a simple autoencode, and see if it is able to reconstruct poses with sufficiently low error. \n",
    "This also gives opportunity to change different parameters (activation functions, number of units) for the overall network architecture."
   ],
   "metadata": {}
  },
  {
   "cell_type": "code",
   "execution_count": 17,
   "source": [
    "alleh5s_clean.shape[0]/alleh5s.shape[0]"
   ],
   "outputs": [
    {
     "output_type": "execute_result",
     "data": {
      "text/plain": [
       "1.0"
      ]
     },
     "metadata": {},
     "execution_count": 17
    }
   ],
   "metadata": {}
  },
  {
   "cell_type": "code",
   "execution_count": 18,
   "source": [
    "trainx = alleh5s_clean[::30].reshape((-1, 57)).astype('float32')\n",
    "valx = alleh5s_clean[15::60].reshape((-1, 57)).astype('float32')\n",
    "print(trainx.shape, valx.shape)\n",
    "print(trainx.min(), trainx.max())"
   ],
   "outputs": [
    {
     "output_type": "stream",
     "name": "stdout",
     "text": [
      "(8240, 57) (4120, 57)\n",
      "-167.06784 174.58513\n"
     ]
    }
   ],
   "metadata": {}
  },
  {
   "cell_type": "code",
   "execution_count": 19,
   "source": [
    "import tensorflow as tf\n",
    "import tensorflow.keras as k\n",
    "import os\n",
    "os.environ['CUDA_VISIBLE_DEVICES'] = '3'"
   ],
   "outputs": [],
   "metadata": {}
  },
  {
   "cell_type": "code",
   "execution_count": 20,
   "source": [
    "AE = tf.keras.Sequential([\n",
    "            tf.keras.layers.InputLayer(input_shape=(57,)),\n",
    "            tf.keras.layers.Dense(32, activation='relu'),\n",
    "            tf.keras.layers.Dense(16, activation='relu'),\n",
    "            tf.keras.layers.Dense(8, activation=None),\n",
    "            tf.keras.layers.Dense(16, activation='relu'),\n",
    "            tf.keras.layers.Dense(32, activation='relu'),\n",
    "            tf.keras.layers.Dense(57, activation=None)])\n",
    "\n",
    "AE.compile('adam', 'mse')"
   ],
   "outputs": [],
   "metadata": {}
  },
  {
   "cell_type": "code",
   "execution_count": 21,
   "source": [
    "AE.fit(trainx, trainx, batch_size=64, epochs=50, validation_data=(valx, valx), callbacks = [tf.keras.callbacks.ModelCheckpoint(\n",
    "    'MotionCapture_AE.h5', monitor=\"val_loss\", verbose=1, save_best_only=True)])"
   ],
   "outputs": [
    {
     "output_type": "stream",
     "name": "stdout",
     "text": [
      "Epoch 1/50\n",
      "129/129 [==============================] - 1s 4ms/step - loss: 669.9118 - val_loss: 121.3683\n",
      "\n",
      "Epoch 00001: val_loss improved from inf to 121.36828, saving model to MotionCapture_AE.h5\n",
      "Epoch 2/50\n",
      "129/129 [==============================] - 0s 2ms/step - loss: 81.4802 - val_loss: 59.9620\n",
      "\n",
      "Epoch 00002: val_loss improved from 121.36828 to 59.96202, saving model to MotionCapture_AE.h5\n",
      "Epoch 3/50\n",
      "129/129 [==============================] - 0s 2ms/step - loss: 49.0400 - val_loss: 40.7644\n",
      "\n",
      "Epoch 00003: val_loss improved from 59.96202 to 40.76439, saving model to MotionCapture_AE.h5\n",
      "Epoch 4/50\n",
      "129/129 [==============================] - 0s 2ms/step - loss: 34.9498 - val_loss: 28.0888\n",
      "\n",
      "Epoch 00004: val_loss improved from 40.76439 to 28.08879, saving model to MotionCapture_AE.h5\n",
      "Epoch 5/50\n",
      "129/129 [==============================] - 0s 2ms/step - loss: 24.2302 - val_loss: 21.0215\n",
      "\n",
      "Epoch 00005: val_loss improved from 28.08879 to 21.02148, saving model to MotionCapture_AE.h5\n",
      "Epoch 6/50\n",
      "129/129 [==============================] - 0s 3ms/step - loss: 19.4161 - val_loss: 17.9188\n",
      "\n",
      "Epoch 00006: val_loss improved from 21.02148 to 17.91878, saving model to MotionCapture_AE.h5\n",
      "Epoch 7/50\n",
      "129/129 [==============================] - 0s 2ms/step - loss: 17.3276 - val_loss: 16.7105\n",
      "\n",
      "Epoch 00007: val_loss improved from 17.91878 to 16.71047, saving model to MotionCapture_AE.h5\n",
      "Epoch 8/50\n",
      "129/129 [==============================] - 0s 2ms/step - loss: 16.2544 - val_loss: 15.6997\n",
      "\n",
      "Epoch 00008: val_loss improved from 16.71047 to 15.69967, saving model to MotionCapture_AE.h5\n",
      "Epoch 9/50\n",
      "129/129 [==============================] - 0s 2ms/step - loss: 15.5951 - val_loss: 15.0709\n",
      "\n",
      "Epoch 00009: val_loss improved from 15.69967 to 15.07094, saving model to MotionCapture_AE.h5\n",
      "Epoch 10/50\n",
      "129/129 [==============================] - 0s 2ms/step - loss: 15.0272 - val_loss: 14.6907\n",
      "\n",
      "Epoch 00010: val_loss improved from 15.07094 to 14.69073, saving model to MotionCapture_AE.h5\n",
      "Epoch 11/50\n",
      "129/129 [==============================] - 0s 2ms/step - loss: 14.5891 - val_loss: 14.3197\n",
      "\n",
      "Epoch 00011: val_loss improved from 14.69073 to 14.31971, saving model to MotionCapture_AE.h5\n",
      "Epoch 12/50\n",
      "129/129 [==============================] - 0s 2ms/step - loss: 14.2228 - val_loss: 13.8387\n",
      "\n",
      "Epoch 00012: val_loss improved from 14.31971 to 13.83875, saving model to MotionCapture_AE.h5\n",
      "Epoch 13/50\n",
      "129/129 [==============================] - 0s 3ms/step - loss: 13.8366 - val_loss: 13.5498\n",
      "\n",
      "Epoch 00013: val_loss improved from 13.83875 to 13.54980, saving model to MotionCapture_AE.h5\n",
      "Epoch 14/50\n",
      "129/129 [==============================] - 0s 2ms/step - loss: 13.4772 - val_loss: 13.1546\n",
      "\n",
      "Epoch 00014: val_loss improved from 13.54980 to 13.15459, saving model to MotionCapture_AE.h5\n",
      "Epoch 15/50\n",
      "129/129 [==============================] - 0s 2ms/step - loss: 13.0427 - val_loss: 12.6277\n",
      "\n",
      "Epoch 00015: val_loss improved from 13.15459 to 12.62767, saving model to MotionCapture_AE.h5\n",
      "Epoch 16/50\n",
      "129/129 [==============================] - 0s 2ms/step - loss: 12.6167 - val_loss: 12.2877\n",
      "\n",
      "Epoch 00016: val_loss improved from 12.62767 to 12.28773, saving model to MotionCapture_AE.h5\n",
      "Epoch 17/50\n",
      "129/129 [==============================] - 0s 2ms/step - loss: 12.1994 - val_loss: 11.7806\n",
      "\n",
      "Epoch 00017: val_loss improved from 12.28773 to 11.78064, saving model to MotionCapture_AE.h5\n",
      "Epoch 18/50\n",
      "129/129 [==============================] - 0s 2ms/step - loss: 11.7325 - val_loss: 11.6013\n",
      "\n",
      "Epoch 00018: val_loss improved from 11.78064 to 11.60128, saving model to MotionCapture_AE.h5\n",
      "Epoch 19/50\n",
      "129/129 [==============================] - 0s 2ms/step - loss: 11.4541 - val_loss: 11.0622\n",
      "\n",
      "Epoch 00019: val_loss improved from 11.60128 to 11.06221, saving model to MotionCapture_AE.h5\n",
      "Epoch 20/50\n",
      "129/129 [==============================] - 0s 2ms/step - loss: 11.1273 - val_loss: 10.9556\n",
      "\n",
      "Epoch 00020: val_loss improved from 11.06221 to 10.95557, saving model to MotionCapture_AE.h5\n",
      "Epoch 21/50\n",
      "129/129 [==============================] - 0s 2ms/step - loss: 10.9320 - val_loss: 10.7441\n",
      "\n",
      "Epoch 00021: val_loss improved from 10.95557 to 10.74413, saving model to MotionCapture_AE.h5\n",
      "Epoch 22/50\n",
      "129/129 [==============================] - 0s 3ms/step - loss: 10.7239 - val_loss: 10.7636\n",
      "\n",
      "Epoch 00022: val_loss did not improve from 10.74413\n",
      "Epoch 23/50\n",
      "129/129 [==============================] - 0s 2ms/step - loss: 10.6033 - val_loss: 10.3012\n",
      "\n",
      "Epoch 00023: val_loss improved from 10.74413 to 10.30125, saving model to MotionCapture_AE.h5\n",
      "Epoch 24/50\n",
      "129/129 [==============================] - 0s 3ms/step - loss: 10.3915 - val_loss: 10.2228\n",
      "\n",
      "Epoch 00024: val_loss improved from 10.30125 to 10.22283, saving model to MotionCapture_AE.h5\n",
      "Epoch 25/50\n",
      "129/129 [==============================] - 1s 6ms/step - loss: 10.1883 - val_loss: 9.8829\n",
      "\n",
      "Epoch 00025: val_loss improved from 10.22283 to 9.88295, saving model to MotionCapture_AE.h5\n",
      "Epoch 26/50\n",
      "129/129 [==============================] - 1s 5ms/step - loss: 10.0386 - val_loss: 9.8524\n",
      "\n",
      "Epoch 00026: val_loss improved from 9.88295 to 9.85239, saving model to MotionCapture_AE.h5\n",
      "Epoch 27/50\n",
      "129/129 [==============================] - 1s 4ms/step - loss: 9.8950 - val_loss: 9.8220\n",
      "\n",
      "Epoch 00027: val_loss improved from 9.85239 to 9.82202, saving model to MotionCapture_AE.h5\n",
      "Epoch 28/50\n",
      "129/129 [==============================] - 0s 3ms/step - loss: 9.6935 - val_loss: 9.5866\n",
      "\n",
      "Epoch 00028: val_loss improved from 9.82202 to 9.58661, saving model to MotionCapture_AE.h5\n",
      "Epoch 29/50\n",
      "129/129 [==============================] - 0s 3ms/step - loss: 9.5407 - val_loss: 9.4252\n",
      "\n",
      "Epoch 00029: val_loss improved from 9.58661 to 9.42516, saving model to MotionCapture_AE.h5\n",
      "Epoch 30/50\n",
      "129/129 [==============================] - 0s 2ms/step - loss: 9.4106 - val_loss: 9.2288\n",
      "\n",
      "Epoch 00030: val_loss improved from 9.42516 to 9.22879, saving model to MotionCapture_AE.h5\n",
      "Epoch 31/50\n",
      "129/129 [==============================] - 0s 2ms/step - loss: 9.2343 - val_loss: 9.1461\n",
      "\n",
      "Epoch 00031: val_loss improved from 9.22879 to 9.14609, saving model to MotionCapture_AE.h5\n",
      "Epoch 32/50\n",
      "129/129 [==============================] - 0s 2ms/step - loss: 9.0874 - val_loss: 8.9488\n",
      "\n",
      "Epoch 00032: val_loss improved from 9.14609 to 8.94882, saving model to MotionCapture_AE.h5\n",
      "Epoch 33/50\n",
      "129/129 [==============================] - 0s 2ms/step - loss: 8.9412 - val_loss: 8.9910\n",
      "\n",
      "Epoch 00033: val_loss did not improve from 8.94882\n",
      "Epoch 34/50\n",
      "129/129 [==============================] - 0s 2ms/step - loss: 8.8546 - val_loss: 8.7876\n",
      "\n",
      "Epoch 00034: val_loss improved from 8.94882 to 8.78756, saving model to MotionCapture_AE.h5\n",
      "Epoch 35/50\n",
      "129/129 [==============================] - 0s 2ms/step - loss: 8.6546 - val_loss: 8.6492\n",
      "\n",
      "Epoch 00035: val_loss improved from 8.78756 to 8.64917, saving model to MotionCapture_AE.h5\n",
      "Epoch 36/50\n",
      "129/129 [==============================] - 0s 2ms/step - loss: 8.5364 - val_loss: 8.4862\n",
      "\n",
      "Epoch 00036: val_loss improved from 8.64917 to 8.48618, saving model to MotionCapture_AE.h5\n",
      "Epoch 37/50\n",
      "129/129 [==============================] - 0s 2ms/step - loss: 8.4016 - val_loss: 8.4540\n",
      "\n",
      "Epoch 00037: val_loss improved from 8.48618 to 8.45401, saving model to MotionCapture_AE.h5\n",
      "Epoch 38/50\n",
      "129/129 [==============================] - 0s 2ms/step - loss: 8.2734 - val_loss: 8.3156\n",
      "\n",
      "Epoch 00038: val_loss improved from 8.45401 to 8.31557, saving model to MotionCapture_AE.h5\n",
      "Epoch 39/50\n",
      "129/129 [==============================] - 0s 3ms/step - loss: 8.1209 - val_loss: 8.1936\n",
      "\n",
      "Epoch 00039: val_loss improved from 8.31557 to 8.19359, saving model to MotionCapture_AE.h5\n",
      "Epoch 40/50\n",
      "129/129 [==============================] - 0s 3ms/step - loss: 8.0386 - val_loss: 8.0224\n",
      "\n",
      "Epoch 00040: val_loss improved from 8.19359 to 8.02242, saving model to MotionCapture_AE.h5\n",
      "Epoch 41/50\n",
      "129/129 [==============================] - 0s 3ms/step - loss: 7.9297 - val_loss: 7.9806\n",
      "\n",
      "Epoch 00041: val_loss improved from 8.02242 to 7.98064, saving model to MotionCapture_AE.h5\n",
      "Epoch 42/50\n",
      "129/129 [==============================] - 0s 3ms/step - loss: 7.8501 - val_loss: 8.0092\n",
      "\n",
      "Epoch 00042: val_loss did not improve from 7.98064\n",
      "Epoch 43/50\n",
      "129/129 [==============================] - 0s 3ms/step - loss: 7.7400 - val_loss: 7.9430\n"
     ]
    },
    {
     "output_type": "stream",
     "name": "stdout",
     "text": [
      "\n",
      "Epoch 00043: val_loss improved from 7.98064 to 7.94301, saving model to MotionCapture_AE.h5\n",
      "Epoch 44/50\n",
      "129/129 [==============================] - 0s 2ms/step - loss: 7.6799 - val_loss: 7.7690\n",
      "\n",
      "Epoch 00044: val_loss improved from 7.94301 to 7.76898, saving model to MotionCapture_AE.h5\n",
      "Epoch 45/50\n",
      "129/129 [==============================] - 0s 2ms/step - loss: 7.6098 - val_loss: 7.7786\n",
      "\n",
      "Epoch 00045: val_loss did not improve from 7.76898\n",
      "Epoch 46/50\n",
      "129/129 [==============================] - 0s 3ms/step - loss: 7.5235 - val_loss: 7.6408\n",
      "\n",
      "Epoch 00046: val_loss improved from 7.76898 to 7.64076, saving model to MotionCapture_AE.h5\n",
      "Epoch 47/50\n",
      "129/129 [==============================] - 0s 2ms/step - loss: 7.4554 - val_loss: 7.6315\n",
      "\n",
      "Epoch 00047: val_loss improved from 7.64076 to 7.63151, saving model to MotionCapture_AE.h5\n",
      "Epoch 48/50\n",
      "129/129 [==============================] - 0s 2ms/step - loss: 7.3821 - val_loss: 7.5241\n",
      "\n",
      "Epoch 00048: val_loss improved from 7.63151 to 7.52407, saving model to MotionCapture_AE.h5\n",
      "Epoch 49/50\n",
      "129/129 [==============================] - 0s 2ms/step - loss: 7.3015 - val_loss: 7.4909\n",
      "\n",
      "Epoch 00049: val_loss improved from 7.52407 to 7.49086, saving model to MotionCapture_AE.h5\n",
      "Epoch 50/50\n",
      "129/129 [==============================] - 0s 2ms/step - loss: 7.2296 - val_loss: 7.3240\n",
      "\n",
      "Epoch 00050: val_loss improved from 7.49086 to 7.32402, saving model to MotionCapture_AE.h5\n"
     ]
    },
    {
     "output_type": "execute_result",
     "data": {
      "text/plain": [
       "<tensorflow.python.keras.callbacks.History at 0x7f93f8f17280>"
      ]
     },
     "metadata": {},
     "execution_count": 21
    }
   ],
   "metadata": {
    "scrolled": true,
    "tags": []
   }
  },
  {
   "cell_type": "markdown",
   "source": [
    "#all data AE error 70\n",
    "\n",
    "#clean data AE error 22\n",
    "\n",
    "\n",
    "\n",
    "            tf.keras.layers.InputLayer(input_shape=(57,)),\n",
    "            tf.keras.layers.Dense(32, activation='relu'),\n",
    "            tf.keras.layers.Dense(16, activation='relu'),\n",
    "            tf.keras.layers.Dense(8, activation='sigmoid'), #24 with 'tanh' here #16 with None!!!\n",
    "            tf.keras.layers.Dense(16, activation='relu'),\n",
    "            tf.keras.layers.Dense(32, activation='relu'),\n",
    "            tf.keras.layers.Dense(57, activation=None)])\n",
    "\n",
    "\n",
    "\n",
    "#clean data AE error 61\n",
    "\n",
    "\n",
    "\n",
    "            tf.keras.layers.InputLayer(input_shape=(57,)),\n",
    "            tf.keras.layers.Dense(32, activation=None),\n",
    "            tf.keras.layers.Dense(16, activation=None),\n",
    "            tf.keras.layers.Dense(8, activation='tanh'),\n",
    "            tf.keras.layers.Dense(16, activation=None),\n",
    "            tf.keras.layers.Dense(32, activation=None),\n",
    "            tf.keras.layers.Dense(57, activation=None)])\n",
    "\n",
    "\n",
    "\n",
    "#clean data AE error 41 with wonky activations - \n",
    "\n",
    "\n",
    "\n",
    "            tf.keras.layers.InputLayer(input_shape=(57,)),\n",
    "            tf.keras.layers.Dense(32, activation='sigmoid'),\n",
    "            tf.keras.layers.Dense(16, activation='relu'),\n",
    "            tf.keras.layers.Dense(8, activation='tanh'),\n",
    "            tf.keras.layers.Dense(16, activation='relu'),\n",
    "            tf.keras.layers.Dense(32, activation='sigmoid'),\n",
    "            tf.keras.layers.Dense(57, activation=None)])\n",
    "\n",
    "\n",
    "\n",
    "#clean data AE error 38 with wonky activations - \n",
    "\n",
    "\n",
    "\n",
    "            tf.keras.layers.InputLayer(input_shape=(57,)),\n",
    "            tf.keras.layers.Dense(32, activation='tanh'),\n",
    "            tf.keras.layers.Dense(16, activation='relu'),\n",
    "            tf.keras.layers.Dense(8, activation='sigmoid'),\n",
    "            tf.keras.layers.Dense(16, activation='tanh'),\n",
    "            tf.keras.layers.Dense(32, activation='relu'),\n",
    "            tf.keras.layers.Dense(57, activation=None)])\n",
    "\n",
    "\n",
    "\n",
    "#clean data AE error 66 with  - \n",
    "\n",
    "\n",
    "\n",
    "            tf.keras.layers.InputLayer(input_shape=(57,)),\n",
    "            tf.keras.layers.Dense(32, activation='sigmoid'),\n",
    "            tf.keras.layers.Dense(16, activation='sigmoid'),\n",
    "            tf.keras.layers.Dense(8, activation='sigmoid'),\n",
    "            tf.keras.layers.Dense(16, activation='sigmoid'),\n",
    "            tf.keras.layers.Dense(32, activation='sigmoid'),\n",
    "            tf.keras.layers.Dense(57, activation=None)])\n"
   ],
   "metadata": {}
  },
  {
   "cell_type": "code",
   "execution_count": 22,
   "source": [
    "valx_pred = AE.predict(valx, verbose=1)"
   ],
   "outputs": [
    {
     "output_type": "stream",
     "name": "stdout",
     "text": [
      "129/129 [==============================] - 0s 1ms/step\n"
     ]
    }
   ],
   "metadata": {}
  },
  {
   "cell_type": "code",
   "execution_count": 23,
   "source": [
    "connections2 = [[5, 4, 6, 5], [4,17,18], [17,11,12,18], [0,2,15,17,16,3,1], [13,9,7,18,8,10,14]]\n",
    "\n",
    "fig3 = plt.figure()\n",
    "ax3 = p3.Axes3D(fig3, auto_add_to_figure=False)\n",
    "fig3.add_axes(ax3)\n",
    "\n",
    "def animfunc(t, skip=1):\n",
    "    ax3.clear()\n",
    "    lines = []\n",
    "    for conn in connections2:\n",
    "        x = [3*i for i in conn]\n",
    "        y = [i+1 for i in x]\n",
    "        z = [i+2 for i in x]\n",
    "        lines.append(ax3.plot(valx[t*skip, x], valx[t*skip, y], valx[t*skip, z], color='royalblue'))\n",
    "        lines.append(ax3.plot(valx_pred[t*skip, x], valx_pred[t*skip, y], valx_pred[t*skip, z], color='firebrick'))\n",
    "    ax3.set_title('(%i, %i)'%((t, t*skip)))\n",
    "    return lines,\n",
    "\n",
    "anim = FuncAnimation(fig3, animfunc, frames=50, fargs=(10,), interval=500, repeat=False)       "
   ],
   "outputs": [],
   "metadata": {}
  },
  {
   "cell_type": "markdown",
   "source": [
    "Seems like the errors in the validation set are very close to less than 3px. That is great, \n",
    "especially since we did not normalize our data in any way. "
   ],
   "metadata": {}
  },
  {
   "cell_type": "code",
   "execution_count": 67,
   "source": [
    "anim.event_source.stop()        "
   ],
   "outputs": [],
   "metadata": {}
  },
  {
   "cell_type": "code",
   "execution_count": 24,
   "source": [
    "errors = np.abs(valx_pred-valx).reshape((-1, 19, 3))\n",
    "np.mean(errors, axis=(0,1))"
   ],
   "outputs": [
    {
     "output_type": "execute_result",
     "data": {
      "text/plain": [
       "array([1.7310153, 1.5736636, 1.9898667], dtype=float32)"
      ]
     },
     "metadata": {},
     "execution_count": 24
    }
   ],
   "metadata": {}
  },
  {
   "cell_type": "markdown",
   "source": [
    "We can get the latent layer values by defining a new model with output from layer 2 of our autoencoder"
   ],
   "metadata": {}
  },
  {
   "cell_type": "code",
   "execution_count": 25,
   "source": [
    "AE.layers"
   ],
   "outputs": [
    {
     "output_type": "execute_result",
     "data": {
      "text/plain": [
       "[<tensorflow.python.keras.layers.core.Dense at 0x7fb40621d340>,\n",
       " <tensorflow.python.keras.layers.core.Dense at 0x7fb40621d760>,\n",
       " <tensorflow.python.keras.layers.core.Dense at 0x7fb40621d9a0>,\n",
       " <tensorflow.python.keras.layers.core.Dense at 0x7fb40621dca0>,\n",
       " <tensorflow.python.keras.layers.core.Dense at 0x7fb40628b070>,\n",
       " <tensorflow.python.keras.layers.core.Dense at 0x7fb40628b2e0>]"
      ]
     },
     "metadata": {},
     "execution_count": 25
    }
   ],
   "metadata": {}
  },
  {
   "cell_type": "code",
   "execution_count": 26,
   "source": [
    "AE2 = k.models.Model(inputs=AE.input, outputs=AE.layers[2].output)"
   ],
   "outputs": [],
   "metadata": {}
  },
  {
   "cell_type": "code",
   "execution_count": 27,
   "source": [
    "#check if the weights are same \n",
    "[np.all(w1==w2) for w1,w2 in zip(AE.get_weights(),AE2.get_weights())]"
   ],
   "outputs": [
    {
     "output_type": "execute_result",
     "data": {
      "text/plain": [
       "[True, True, True, True, True, True]"
      ]
     },
     "metadata": {},
     "execution_count": 27
    }
   ],
   "metadata": {}
  },
  {
   "cell_type": "code",
   "execution_count": 28,
   "source": [
    "alleh5s_clean_ae = AE2.predict(alleh5s_clean.reshape((-1, 57)).astype('float32'), verbose=1)\n",
    "alleh5s_clean_ae.shape"
   ],
   "outputs": [
    {
     "output_type": "stream",
     "name": "stdout",
     "text": [
      "7708/7708 [==============================] - 6s 735us/step\n"
     ]
    },
    {
     "output_type": "execute_result",
     "data": {
      "text/plain": [
       "(246652, 8)"
      ]
     },
     "metadata": {},
     "execution_count": 28
    }
   ],
   "metadata": {}
  },
  {
   "cell_type": "markdown",
   "source": [
    "## Training a VAE Model\n",
    "\n",
    "Now that we have some idea of what network architecture works for our data, we can try to add the variational inference \n",
    "inside the network. "
   ],
   "metadata": {}
  },
  {
   "cell_type": "code",
   "execution_count": 29,
   "source": [
    "class Sampling(k.layers.Layer):\n",
    "    \"\"\"Uses (z_mean, z_log_var) to sample z, the vector encoding a digit.\"\"\"\n",
    "    def call(self, inputs):\n",
    "        z_mean, z_log_var = inputs\n",
    "        batch = tf.shape(z_mean)[0]\n",
    "        dim = tf.shape(z_mean)[1]\n",
    "        epsilon = tf.keras.backend.random_normal(shape=(batch, dim))\n",
    "        return z_mean + tf.exp(0.5 * z_log_var) * epsilon"
   ],
   "outputs": [],
   "metadata": {}
  },
  {
   "cell_type": "code",
   "execution_count": 30,
   "source": [
    "class VAEModel(k.Model):\n",
    "    def __init__(self, latent_dim=8, **kwargs):\n",
    "        super(VAEModel, self).__init__(**kwargs)\n",
    "        self.latent_dim = latent_dim\n",
    "        self.encoder = self.create_encoder()\n",
    "        self.decoder = self.create_decoder()\n",
    "        self.total_loss_tracker = k.metrics.Mean(name=\"total_loss\")\n",
    "        self.reconstruction_loss_tracker = k.metrics.Mean(name=\"reconstruction_loss\")\n",
    "        self.kl_loss_tracker = k.metrics.Mean(name=\"kl_loss\")\n",
    "\n",
    "    def create_encoder(self):\n",
    "        encoder_input = tf.keras.Sequential([\n",
    "                    tf.keras.layers.InputLayer(input_shape=(57,)),\n",
    "                    tf.keras.layers.Dense(32, activation='relu'),\n",
    "                   tf.keras.layers.Dense(16, activation='relu'),])\n",
    "\n",
    "        z_mean = k.layers.Dense(self.latent_dim, name=\"z_mean\", activation='tanh')(encoder_input.output)\n",
    "        z_log_var = k.layers.Dense(self.latent_dim, name=\"z_log_var\", activation='tanh')(encoder_input.output)\n",
    "\n",
    "        z = Sampling()([z_mean, z_log_var])\n",
    "        encoder = k.Model(encoder_input.input, [z_mean, z_log_var, z], name=\"encoder\")        \n",
    "        return encoder\n",
    "    \n",
    "    def create_decoder(self):\n",
    "        decoder = tf.keras.Sequential([\n",
    "            tf.keras.layers.InputLayer(input_shape=(self.latent_dim,)),\n",
    "           tf.keras.layers.Dense(16, activation='relu'),\n",
    "            tf.keras.layers.Dense(32, activation='relu'),\n",
    "            tf.keras.layers.Dense(57)])\n",
    "        return decoder\n",
    "\n",
    "    @property\n",
    "    def metrics(self):\n",
    "        return [\n",
    "            self.total_loss_tracker,\n",
    "            self.reconstruction_loss_tracker,\n",
    "            self.kl_loss_tracker,\n",
    "        ]\n",
    "\n",
    "    def train_step(self, data):\n",
    "        with tf.GradientTape() as tape:\n",
    "            z_mean, z_log_var, z = self.encoder(data)\n",
    "            reconstruction = self.decoder(z)\n",
    "            reconstruction_loss = tf.reduce_mean(\n",
    "                    k.losses.mean_squared_error(data, reconstruction))\n",
    "            kl_loss = -0.5 * (1 + z_log_var - tf.square(z_mean) - tf.exp(z_log_var))\n",
    "            kl_loss = tf.reduce_mean(kl_loss)\n",
    "            total_loss = reconstruction_loss + kl_loss\n",
    "        grads = tape.gradient(total_loss, self.trainable_weights)\n",
    "        self.optimizer.apply_gradients(zip(grads, self.trainable_weights))\n",
    "        self.total_loss_tracker.update_state(total_loss)\n",
    "        self.reconstruction_loss_tracker.update_state(reconstruction_loss)\n",
    "        self.kl_loss_tracker.update_state(kl_loss)\n",
    "        return {\n",
    "            \"loss\": self.total_loss_tracker.result(),\n",
    "            \"reconstruction_loss\": self.reconstruction_loss_tracker.result(),\n",
    "            \"kl_loss\": self.kl_loss_tracker.result(),\n",
    "        }\n",
    "\n",
    "    def call(self, data):\n",
    "        z_mean, z_log_var, z = self.encoder(data)\n",
    "        reconstruction = self.decoder(z)\n",
    "        return reconstruction"
   ],
   "outputs": [],
   "metadata": {}
  },
  {
   "cell_type": "code",
   "execution_count": 31,
   "source": [
    "figloss, axloss = plt.subplots(figsize=(16, 8))\n",
    "axloss2 = axloss.twinx()\n",
    "\n",
    "class LossPlot(k.callbacks.Callback):\n",
    "    def __init__(self):\n",
    "        self.losses = [0,0,0]\n",
    "        \n",
    "    def on_epoch_end(self, epoch, logs=None):\n",
    "        keys = list(logs.keys())\n",
    "        self.losses = np.vstack([self.losses, [logs['loss'], logs['reconstruction_loss'], logs['kl_loss']]])\n",
    "        axloss.clear()\n",
    "        axloss.plot(self.losses[1:,0], '-', color='black', label='loss')\n",
    "        axloss.plot(self.losses[1:,1], '-', color='royalblue', label='loss (recon)')\n",
    "        axloss2.plot(self.losses[1:,2], '-', color='firebrick', label='loss (kl)')\n",
    "        figloss.canvas.draw()"
   ],
   "outputs": [
    {
     "output_type": "display_data",
     "data": {
      "text/plain": [
       "<IPython.core.display.Javascript object>"
      ],
      "application/javascript": "/* Put everything inside the global mpl namespace */\n/* global mpl */\nwindow.mpl = {};\n\nmpl.get_websocket_type = function () {\n    if (typeof WebSocket !== 'undefined') {\n        return WebSocket;\n    } else if (typeof MozWebSocket !== 'undefined') {\n        return MozWebSocket;\n    } else {\n        alert(\n            'Your browser does not have WebSocket support. ' +\n                'Please try Chrome, Safari or Firefox ≥ 6. ' +\n                'Firefox 4 and 5 are also supported but you ' +\n                'have to enable WebSockets in about:config.'\n        );\n    }\n};\n\nmpl.figure = function (figure_id, websocket, ondownload, parent_element) {\n    this.id = figure_id;\n\n    this.ws = websocket;\n\n    this.supports_binary = this.ws.binaryType !== undefined;\n\n    if (!this.supports_binary) {\n        var warnings = document.getElementById('mpl-warnings');\n        if (warnings) {\n            warnings.style.display = 'block';\n            warnings.textContent =\n                'This browser does not support binary websocket messages. ' +\n                'Performance may be slow.';\n        }\n    }\n\n    this.imageObj = new Image();\n\n    this.context = undefined;\n    this.message = undefined;\n    this.canvas = undefined;\n    this.rubberband_canvas = undefined;\n    this.rubberband_context = undefined;\n    this.format_dropdown = undefined;\n\n    this.image_mode = 'full';\n\n    this.root = document.createElement('div');\n    this.root.setAttribute('style', 'display: inline-block');\n    this._root_extra_style(this.root);\n\n    parent_element.appendChild(this.root);\n\n    this._init_header(this);\n    this._init_canvas(this);\n    this._init_toolbar(this);\n\n    var fig = this;\n\n    this.waiting = false;\n\n    this.ws.onopen = function () {\n        fig.send_message('supports_binary', { value: fig.supports_binary });\n        fig.send_message('send_image_mode', {});\n        if (fig.ratio !== 1) {\n            fig.send_message('set_dpi_ratio', { dpi_ratio: fig.ratio });\n        }\n        fig.send_message('refresh', {});\n    };\n\n    this.imageObj.onload = function () {\n        if (fig.image_mode === 'full') {\n            // Full images could contain transparency (where diff images\n            // almost always do), so we need to clear the canvas so that\n            // there is no ghosting.\n            fig.context.clearRect(0, 0, fig.canvas.width, fig.canvas.height);\n        }\n        fig.context.drawImage(fig.imageObj, 0, 0);\n    };\n\n    this.imageObj.onunload = function () {\n        fig.ws.close();\n    };\n\n    this.ws.onmessage = this._make_on_message_function(this);\n\n    this.ondownload = ondownload;\n};\n\nmpl.figure.prototype._init_header = function () {\n    var titlebar = document.createElement('div');\n    titlebar.classList =\n        'ui-dialog-titlebar ui-widget-header ui-corner-all ui-helper-clearfix';\n    var titletext = document.createElement('div');\n    titletext.classList = 'ui-dialog-title';\n    titletext.setAttribute(\n        'style',\n        'width: 100%; text-align: center; padding: 3px;'\n    );\n    titlebar.appendChild(titletext);\n    this.root.appendChild(titlebar);\n    this.header = titletext;\n};\n\nmpl.figure.prototype._canvas_extra_style = function (_canvas_div) {};\n\nmpl.figure.prototype._root_extra_style = function (_canvas_div) {};\n\nmpl.figure.prototype._init_canvas = function () {\n    var fig = this;\n\n    var canvas_div = (this.canvas_div = document.createElement('div'));\n    canvas_div.setAttribute(\n        'style',\n        'border: 1px solid #ddd;' +\n            'box-sizing: content-box;' +\n            'clear: both;' +\n            'min-height: 1px;' +\n            'min-width: 1px;' +\n            'outline: 0;' +\n            'overflow: hidden;' +\n            'position: relative;' +\n            'resize: both;'\n    );\n\n    function on_keyboard_event_closure(name) {\n        return function (event) {\n            return fig.key_event(event, name);\n        };\n    }\n\n    canvas_div.addEventListener(\n        'keydown',\n        on_keyboard_event_closure('key_press')\n    );\n    canvas_div.addEventListener(\n        'keyup',\n        on_keyboard_event_closure('key_release')\n    );\n\n    this._canvas_extra_style(canvas_div);\n    this.root.appendChild(canvas_div);\n\n    var canvas = (this.canvas = document.createElement('canvas'));\n    canvas.classList.add('mpl-canvas');\n    canvas.setAttribute('style', 'box-sizing: content-box;');\n\n    this.context = canvas.getContext('2d');\n\n    var backingStore =\n        this.context.backingStorePixelRatio ||\n        this.context.webkitBackingStorePixelRatio ||\n        this.context.mozBackingStorePixelRatio ||\n        this.context.msBackingStorePixelRatio ||\n        this.context.oBackingStorePixelRatio ||\n        this.context.backingStorePixelRatio ||\n        1;\n\n    this.ratio = (window.devicePixelRatio || 1) / backingStore;\n\n    var rubberband_canvas = (this.rubberband_canvas = document.createElement(\n        'canvas'\n    ));\n    rubberband_canvas.setAttribute(\n        'style',\n        'box-sizing: content-box; position: absolute; left: 0; top: 0; z-index: 1;'\n    );\n\n    // Apply a ponyfill if ResizeObserver is not implemented by browser.\n    if (this.ResizeObserver === undefined) {\n        if (window.ResizeObserver !== undefined) {\n            this.ResizeObserver = window.ResizeObserver;\n        } else {\n            var obs = _JSXTOOLS_RESIZE_OBSERVER({});\n            this.ResizeObserver = obs.ResizeObserver;\n        }\n    }\n\n    this.resizeObserverInstance = new this.ResizeObserver(function (entries) {\n        var nentries = entries.length;\n        for (var i = 0; i < nentries; i++) {\n            var entry = entries[i];\n            var width, height;\n            if (entry.contentBoxSize) {\n                if (entry.contentBoxSize instanceof Array) {\n                    // Chrome 84 implements new version of spec.\n                    width = entry.contentBoxSize[0].inlineSize;\n                    height = entry.contentBoxSize[0].blockSize;\n                } else {\n                    // Firefox implements old version of spec.\n                    width = entry.contentBoxSize.inlineSize;\n                    height = entry.contentBoxSize.blockSize;\n                }\n            } else {\n                // Chrome <84 implements even older version of spec.\n                width = entry.contentRect.width;\n                height = entry.contentRect.height;\n            }\n\n            // Keep the size of the canvas and rubber band canvas in sync with\n            // the canvas container.\n            if (entry.devicePixelContentBoxSize) {\n                // Chrome 84 implements new version of spec.\n                canvas.setAttribute(\n                    'width',\n                    entry.devicePixelContentBoxSize[0].inlineSize\n                );\n                canvas.setAttribute(\n                    'height',\n                    entry.devicePixelContentBoxSize[0].blockSize\n                );\n            } else {\n                canvas.setAttribute('width', width * fig.ratio);\n                canvas.setAttribute('height', height * fig.ratio);\n            }\n            canvas.setAttribute(\n                'style',\n                'width: ' + width + 'px; height: ' + height + 'px;'\n            );\n\n            rubberband_canvas.setAttribute('width', width);\n            rubberband_canvas.setAttribute('height', height);\n\n            // And update the size in Python. We ignore the initial 0/0 size\n            // that occurs as the element is placed into the DOM, which should\n            // otherwise not happen due to the minimum size styling.\n            if (fig.ws.readyState == 1 && width != 0 && height != 0) {\n                fig.request_resize(width, height);\n            }\n        }\n    });\n    this.resizeObserverInstance.observe(canvas_div);\n\n    function on_mouse_event_closure(name) {\n        return function (event) {\n            return fig.mouse_event(event, name);\n        };\n    }\n\n    rubberband_canvas.addEventListener(\n        'mousedown',\n        on_mouse_event_closure('button_press')\n    );\n    rubberband_canvas.addEventListener(\n        'mouseup',\n        on_mouse_event_closure('button_release')\n    );\n    rubberband_canvas.addEventListener(\n        'dblclick',\n        on_mouse_event_closure('dblclick')\n    );\n    // Throttle sequential mouse events to 1 every 20ms.\n    rubberband_canvas.addEventListener(\n        'mousemove',\n        on_mouse_event_closure('motion_notify')\n    );\n\n    rubberband_canvas.addEventListener(\n        'mouseenter',\n        on_mouse_event_closure('figure_enter')\n    );\n    rubberband_canvas.addEventListener(\n        'mouseleave',\n        on_mouse_event_closure('figure_leave')\n    );\n\n    canvas_div.addEventListener('wheel', function (event) {\n        if (event.deltaY < 0) {\n            event.step = 1;\n        } else {\n            event.step = -1;\n        }\n        on_mouse_event_closure('scroll')(event);\n    });\n\n    canvas_div.appendChild(canvas);\n    canvas_div.appendChild(rubberband_canvas);\n\n    this.rubberband_context = rubberband_canvas.getContext('2d');\n    this.rubberband_context.strokeStyle = '#000000';\n\n    this._resize_canvas = function (width, height, forward) {\n        if (forward) {\n            canvas_div.style.width = width + 'px';\n            canvas_div.style.height = height + 'px';\n        }\n    };\n\n    // Disable right mouse context menu.\n    this.rubberband_canvas.addEventListener('contextmenu', function (_e) {\n        event.preventDefault();\n        return false;\n    });\n\n    function set_focus() {\n        canvas.focus();\n        canvas_div.focus();\n    }\n\n    window.setTimeout(set_focus, 100);\n};\n\nmpl.figure.prototype._init_toolbar = function () {\n    var fig = this;\n\n    var toolbar = document.createElement('div');\n    toolbar.classList = 'mpl-toolbar';\n    this.root.appendChild(toolbar);\n\n    function on_click_closure(name) {\n        return function (_event) {\n            return fig.toolbar_button_onclick(name);\n        };\n    }\n\n    function on_mouseover_closure(tooltip) {\n        return function (event) {\n            if (!event.currentTarget.disabled) {\n                return fig.toolbar_button_onmouseover(tooltip);\n            }\n        };\n    }\n\n    fig.buttons = {};\n    var buttonGroup = document.createElement('div');\n    buttonGroup.classList = 'mpl-button-group';\n    for (var toolbar_ind in mpl.toolbar_items) {\n        var name = mpl.toolbar_items[toolbar_ind][0];\n        var tooltip = mpl.toolbar_items[toolbar_ind][1];\n        var image = mpl.toolbar_items[toolbar_ind][2];\n        var method_name = mpl.toolbar_items[toolbar_ind][3];\n\n        if (!name) {\n            /* Instead of a spacer, we start a new button group. */\n            if (buttonGroup.hasChildNodes()) {\n                toolbar.appendChild(buttonGroup);\n            }\n            buttonGroup = document.createElement('div');\n            buttonGroup.classList = 'mpl-button-group';\n            continue;\n        }\n\n        var button = (fig.buttons[name] = document.createElement('button'));\n        button.classList = 'mpl-widget';\n        button.setAttribute('role', 'button');\n        button.setAttribute('aria-disabled', 'false');\n        button.addEventListener('click', on_click_closure(method_name));\n        button.addEventListener('mouseover', on_mouseover_closure(tooltip));\n\n        var icon_img = document.createElement('img');\n        icon_img.src = '_images/' + image + '.png';\n        icon_img.srcset = '_images/' + image + '_large.png 2x';\n        icon_img.alt = tooltip;\n        button.appendChild(icon_img);\n\n        buttonGroup.appendChild(button);\n    }\n\n    if (buttonGroup.hasChildNodes()) {\n        toolbar.appendChild(buttonGroup);\n    }\n\n    var fmt_picker = document.createElement('select');\n    fmt_picker.classList = 'mpl-widget';\n    toolbar.appendChild(fmt_picker);\n    this.format_dropdown = fmt_picker;\n\n    for (var ind in mpl.extensions) {\n        var fmt = mpl.extensions[ind];\n        var option = document.createElement('option');\n        option.selected = fmt === mpl.default_extension;\n        option.innerHTML = fmt;\n        fmt_picker.appendChild(option);\n    }\n\n    var status_bar = document.createElement('span');\n    status_bar.classList = 'mpl-message';\n    toolbar.appendChild(status_bar);\n    this.message = status_bar;\n};\n\nmpl.figure.prototype.request_resize = function (x_pixels, y_pixels) {\n    // Request matplotlib to resize the figure. Matplotlib will then trigger a resize in the client,\n    // which will in turn request a refresh of the image.\n    this.send_message('resize', { width: x_pixels, height: y_pixels });\n};\n\nmpl.figure.prototype.send_message = function (type, properties) {\n    properties['type'] = type;\n    properties['figure_id'] = this.id;\n    this.ws.send(JSON.stringify(properties));\n};\n\nmpl.figure.prototype.send_draw_message = function () {\n    if (!this.waiting) {\n        this.waiting = true;\n        this.ws.send(JSON.stringify({ type: 'draw', figure_id: this.id }));\n    }\n};\n\nmpl.figure.prototype.handle_save = function (fig, _msg) {\n    var format_dropdown = fig.format_dropdown;\n    var format = format_dropdown.options[format_dropdown.selectedIndex].value;\n    fig.ondownload(fig, format);\n};\n\nmpl.figure.prototype.handle_resize = function (fig, msg) {\n    var size = msg['size'];\n    if (size[0] !== fig.canvas.width || size[1] !== fig.canvas.height) {\n        fig._resize_canvas(size[0], size[1], msg['forward']);\n        fig.send_message('refresh', {});\n    }\n};\n\nmpl.figure.prototype.handle_rubberband = function (fig, msg) {\n    var x0 = msg['x0'] / fig.ratio;\n    var y0 = (fig.canvas.height - msg['y0']) / fig.ratio;\n    var x1 = msg['x1'] / fig.ratio;\n    var y1 = (fig.canvas.height - msg['y1']) / fig.ratio;\n    x0 = Math.floor(x0) + 0.5;\n    y0 = Math.floor(y0) + 0.5;\n    x1 = Math.floor(x1) + 0.5;\n    y1 = Math.floor(y1) + 0.5;\n    var min_x = Math.min(x0, x1);\n    var min_y = Math.min(y0, y1);\n    var width = Math.abs(x1 - x0);\n    var height = Math.abs(y1 - y0);\n\n    fig.rubberband_context.clearRect(\n        0,\n        0,\n        fig.canvas.width / fig.ratio,\n        fig.canvas.height / fig.ratio\n    );\n\n    fig.rubberband_context.strokeRect(min_x, min_y, width, height);\n};\n\nmpl.figure.prototype.handle_figure_label = function (fig, msg) {\n    // Updates the figure title.\n    fig.header.textContent = msg['label'];\n};\n\nmpl.figure.prototype.handle_cursor = function (fig, msg) {\n    var cursor = msg['cursor'];\n    switch (cursor) {\n        case 0:\n            cursor = 'pointer';\n            break;\n        case 1:\n            cursor = 'default';\n            break;\n        case 2:\n            cursor = 'crosshair';\n            break;\n        case 3:\n            cursor = 'move';\n            break;\n    }\n    fig.rubberband_canvas.style.cursor = cursor;\n};\n\nmpl.figure.prototype.handle_message = function (fig, msg) {\n    fig.message.textContent = msg['message'];\n};\n\nmpl.figure.prototype.handle_draw = function (fig, _msg) {\n    // Request the server to send over a new figure.\n    fig.send_draw_message();\n};\n\nmpl.figure.prototype.handle_image_mode = function (fig, msg) {\n    fig.image_mode = msg['mode'];\n};\n\nmpl.figure.prototype.handle_history_buttons = function (fig, msg) {\n    for (var key in msg) {\n        if (!(key in fig.buttons)) {\n            continue;\n        }\n        fig.buttons[key].disabled = !msg[key];\n        fig.buttons[key].setAttribute('aria-disabled', !msg[key]);\n    }\n};\n\nmpl.figure.prototype.handle_navigate_mode = function (fig, msg) {\n    if (msg['mode'] === 'PAN') {\n        fig.buttons['Pan'].classList.add('active');\n        fig.buttons['Zoom'].classList.remove('active');\n    } else if (msg['mode'] === 'ZOOM') {\n        fig.buttons['Pan'].classList.remove('active');\n        fig.buttons['Zoom'].classList.add('active');\n    } else {\n        fig.buttons['Pan'].classList.remove('active');\n        fig.buttons['Zoom'].classList.remove('active');\n    }\n};\n\nmpl.figure.prototype.updated_canvas_event = function () {\n    // Called whenever the canvas gets updated.\n    this.send_message('ack', {});\n};\n\n// A function to construct a web socket function for onmessage handling.\n// Called in the figure constructor.\nmpl.figure.prototype._make_on_message_function = function (fig) {\n    return function socket_on_message(evt) {\n        if (evt.data instanceof Blob) {\n            var img = evt.data;\n            if (img.type !== 'image/png') {\n                /* FIXME: We get \"Resource interpreted as Image but\n                 * transferred with MIME type text/plain:\" errors on\n                 * Chrome.  But how to set the MIME type?  It doesn't seem\n                 * to be part of the websocket stream */\n                img.type = 'image/png';\n            }\n\n            /* Free the memory for the previous frames */\n            if (fig.imageObj.src) {\n                (window.URL || window.webkitURL).revokeObjectURL(\n                    fig.imageObj.src\n                );\n            }\n\n            fig.imageObj.src = (window.URL || window.webkitURL).createObjectURL(\n                img\n            );\n            fig.updated_canvas_event();\n            fig.waiting = false;\n            return;\n        } else if (\n            typeof evt.data === 'string' &&\n            evt.data.slice(0, 21) === 'data:image/png;base64'\n        ) {\n            fig.imageObj.src = evt.data;\n            fig.updated_canvas_event();\n            fig.waiting = false;\n            return;\n        }\n\n        var msg = JSON.parse(evt.data);\n        var msg_type = msg['type'];\n\n        // Call the  \"handle_{type}\" callback, which takes\n        // the figure and JSON message as its only arguments.\n        try {\n            var callback = fig['handle_' + msg_type];\n        } catch (e) {\n            console.log(\n                \"No handler for the '\" + msg_type + \"' message type: \",\n                msg\n            );\n            return;\n        }\n\n        if (callback) {\n            try {\n                // console.log(\"Handling '\" + msg_type + \"' message: \", msg);\n                callback(fig, msg);\n            } catch (e) {\n                console.log(\n                    \"Exception inside the 'handler_\" + msg_type + \"' callback:\",\n                    e,\n                    e.stack,\n                    msg\n                );\n            }\n        }\n    };\n};\n\n// from http://stackoverflow.com/questions/1114465/getting-mouse-location-in-canvas\nmpl.findpos = function (e) {\n    //this section is from http://www.quirksmode.org/js/events_properties.html\n    var targ;\n    if (!e) {\n        e = window.event;\n    }\n    if (e.target) {\n        targ = e.target;\n    } else if (e.srcElement) {\n        targ = e.srcElement;\n    }\n    if (targ.nodeType === 3) {\n        // defeat Safari bug\n        targ = targ.parentNode;\n    }\n\n    // pageX,Y are the mouse positions relative to the document\n    var boundingRect = targ.getBoundingClientRect();\n    var x = e.pageX - (boundingRect.left + document.body.scrollLeft);\n    var y = e.pageY - (boundingRect.top + document.body.scrollTop);\n\n    return { x: x, y: y };\n};\n\n/*\n * return a copy of an object with only non-object keys\n * we need this to avoid circular references\n * http://stackoverflow.com/a/24161582/3208463\n */\nfunction simpleKeys(original) {\n    return Object.keys(original).reduce(function (obj, key) {\n        if (typeof original[key] !== 'object') {\n            obj[key] = original[key];\n        }\n        return obj;\n    }, {});\n}\n\nmpl.figure.prototype.mouse_event = function (event, name) {\n    var canvas_pos = mpl.findpos(event);\n\n    if (name === 'button_press') {\n        this.canvas.focus();\n        this.canvas_div.focus();\n    }\n\n    var x = canvas_pos.x * this.ratio;\n    var y = canvas_pos.y * this.ratio;\n\n    this.send_message(name, {\n        x: x,\n        y: y,\n        button: event.button,\n        step: event.step,\n        guiEvent: simpleKeys(event),\n    });\n\n    /* This prevents the web browser from automatically changing to\n     * the text insertion cursor when the button is pressed.  We want\n     * to control all of the cursor setting manually through the\n     * 'cursor' event from matplotlib */\n    event.preventDefault();\n    return false;\n};\n\nmpl.figure.prototype._key_event_extra = function (_event, _name) {\n    // Handle any extra behaviour associated with a key event\n};\n\nmpl.figure.prototype.key_event = function (event, name) {\n    // Prevent repeat events\n    if (name === 'key_press') {\n        if (event.key === this._key) {\n            return;\n        } else {\n            this._key = event.key;\n        }\n    }\n    if (name === 'key_release') {\n        this._key = null;\n    }\n\n    var value = '';\n    if (event.ctrlKey && event.key !== 'Control') {\n        value += 'ctrl+';\n    }\n    else if (event.altKey && event.key !== 'Alt') {\n        value += 'alt+';\n    }\n    else if (event.shiftKey && event.key !== 'Shift') {\n        value += 'shift+';\n    }\n\n    value += 'k' + event.key;\n\n    this._key_event_extra(event, name);\n\n    this.send_message(name, { key: value, guiEvent: simpleKeys(event) });\n    return false;\n};\n\nmpl.figure.prototype.toolbar_button_onclick = function (name) {\n    if (name === 'download') {\n        this.handle_save(this, null);\n    } else {\n        this.send_message('toolbar_button', { name: name });\n    }\n};\n\nmpl.figure.prototype.toolbar_button_onmouseover = function (tooltip) {\n    this.message.textContent = tooltip;\n};\n\n///////////////// REMAINING CONTENT GENERATED BY embed_js.py /////////////////\n// prettier-ignore\nvar _JSXTOOLS_RESIZE_OBSERVER=function(A){var t,i=new WeakMap,n=new WeakMap,a=new WeakMap,r=new WeakMap,o=new Set;function s(e){if(!(this instanceof s))throw new TypeError(\"Constructor requires 'new' operator\");i.set(this,e)}function h(){throw new TypeError(\"Function is not a constructor\")}function c(e,t,i,n){e=0 in arguments?Number(arguments[0]):0,t=1 in arguments?Number(arguments[1]):0,i=2 in arguments?Number(arguments[2]):0,n=3 in arguments?Number(arguments[3]):0,this.right=(this.x=this.left=e)+(this.width=i),this.bottom=(this.y=this.top=t)+(this.height=n),Object.freeze(this)}function d(){t=requestAnimationFrame(d);var s=new WeakMap,p=new Set;o.forEach((function(t){r.get(t).forEach((function(i){var r=t instanceof window.SVGElement,o=a.get(t),d=r?0:parseFloat(o.paddingTop),f=r?0:parseFloat(o.paddingRight),l=r?0:parseFloat(o.paddingBottom),u=r?0:parseFloat(o.paddingLeft),g=r?0:parseFloat(o.borderTopWidth),m=r?0:parseFloat(o.borderRightWidth),w=r?0:parseFloat(o.borderBottomWidth),b=u+f,F=d+l,v=(r?0:parseFloat(o.borderLeftWidth))+m,W=g+w,y=r?0:t.offsetHeight-W-t.clientHeight,E=r?0:t.offsetWidth-v-t.clientWidth,R=b+v,z=F+W,M=r?t.width:parseFloat(o.width)-R-E,O=r?t.height:parseFloat(o.height)-z-y;if(n.has(t)){var k=n.get(t);if(k[0]===M&&k[1]===O)return}n.set(t,[M,O]);var S=Object.create(h.prototype);S.target=t,S.contentRect=new c(u,d,M,O),s.has(i)||(s.set(i,[]),p.add(i)),s.get(i).push(S)}))})),p.forEach((function(e){i.get(e).call(e,s.get(e),e)}))}return s.prototype.observe=function(i){if(i instanceof window.Element){r.has(i)||(r.set(i,new Set),o.add(i),a.set(i,window.getComputedStyle(i)));var n=r.get(i);n.has(this)||n.add(this),cancelAnimationFrame(t),t=requestAnimationFrame(d)}},s.prototype.unobserve=function(i){if(i instanceof window.Element&&r.has(i)){var n=r.get(i);n.has(this)&&(n.delete(this),n.size||(r.delete(i),o.delete(i))),n.size||r.delete(i),o.size||cancelAnimationFrame(t)}},A.DOMRectReadOnly=c,A.ResizeObserver=s,A.ResizeObserverEntry=h,A}; // eslint-disable-line\nmpl.toolbar_items = [[\"Home\", \"Reset original view\", \"fa fa-home icon-home\", \"home\"], [\"Back\", \"Back to previous view\", \"fa fa-arrow-left icon-arrow-left\", \"back\"], [\"Forward\", \"Forward to next view\", \"fa fa-arrow-right icon-arrow-right\", \"forward\"], [\"\", \"\", \"\", \"\"], [\"Pan\", \"Left button pans, Right button zooms\\nx/y fixes axis, CTRL fixes aspect\", \"fa fa-arrows icon-move\", \"pan\"], [\"Zoom\", \"Zoom to rectangle\\nx/y fixes axis, CTRL fixes aspect\", \"fa fa-square-o icon-check-empty\", \"zoom\"], [\"\", \"\", \"\", \"\"], [\"Download\", \"Download plot\", \"fa fa-floppy-o icon-save\", \"download\"]];\n\nmpl.extensions = [\"eps\", \"jpeg\", \"pgf\", \"pdf\", \"png\", \"ps\", \"raw\", \"svg\", \"tif\"];\n\nmpl.default_extension = \"png\";/* global mpl */\n\nvar comm_websocket_adapter = function (comm) {\n    // Create a \"websocket\"-like object which calls the given IPython comm\n    // object with the appropriate methods. Currently this is a non binary\n    // socket, so there is still some room for performance tuning.\n    var ws = {};\n\n    ws.binaryType = comm.kernel.ws.binaryType;\n    ws.readyState = comm.kernel.ws.readyState;\n    function updateReadyState(_event) {\n        if (comm.kernel.ws) {\n            ws.readyState = comm.kernel.ws.readyState;\n        } else {\n            ws.readyState = 3; // Closed state.\n        }\n    }\n    comm.kernel.ws.addEventListener('open', updateReadyState);\n    comm.kernel.ws.addEventListener('close', updateReadyState);\n    comm.kernel.ws.addEventListener('error', updateReadyState);\n\n    ws.close = function () {\n        comm.close();\n    };\n    ws.send = function (m) {\n        //console.log('sending', m);\n        comm.send(m);\n    };\n    // Register the callback with on_msg.\n    comm.on_msg(function (msg) {\n        //console.log('receiving', msg['content']['data'], msg);\n        var data = msg['content']['data'];\n        if (data['blob'] !== undefined) {\n            data = {\n                data: new Blob(msg['buffers'], { type: data['blob'] }),\n            };\n        }\n        // Pass the mpl event to the overridden (by mpl) onmessage function.\n        ws.onmessage(data);\n    });\n    return ws;\n};\n\nmpl.mpl_figure_comm = function (comm, msg) {\n    // This is the function which gets called when the mpl process\n    // starts-up an IPython Comm through the \"matplotlib\" channel.\n\n    var id = msg.content.data.id;\n    // Get hold of the div created by the display call when the Comm\n    // socket was opened in Python.\n    var element = document.getElementById(id);\n    var ws_proxy = comm_websocket_adapter(comm);\n\n    function ondownload(figure, _format) {\n        window.open(figure.canvas.toDataURL());\n    }\n\n    var fig = new mpl.figure(id, ws_proxy, ondownload, element);\n\n    // Call onopen now - mpl needs it, as it is assuming we've passed it a real\n    // web socket which is closed, not our websocket->open comm proxy.\n    ws_proxy.onopen();\n\n    fig.parent_element = element;\n    fig.cell_info = mpl.find_output_cell(\"<div id='\" + id + \"'></div>\");\n    if (!fig.cell_info) {\n        console.error('Failed to find cell for figure', id, fig);\n        return;\n    }\n    fig.cell_info[0].output_area.element.on(\n        'cleared',\n        { fig: fig },\n        fig._remove_fig_handler\n    );\n};\n\nmpl.figure.prototype.handle_close = function (fig, msg) {\n    var width = fig.canvas.width / fig.ratio;\n    fig.cell_info[0].output_area.element.off(\n        'cleared',\n        fig._remove_fig_handler\n    );\n    fig.resizeObserverInstance.unobserve(fig.canvas_div);\n\n    // Update the output cell to use the data from the current canvas.\n    fig.push_to_output();\n    var dataURL = fig.canvas.toDataURL();\n    // Re-enable the keyboard manager in IPython - without this line, in FF,\n    // the notebook keyboard shortcuts fail.\n    IPython.keyboard_manager.enable();\n    fig.parent_element.innerHTML =\n        '<img src=\"' + dataURL + '\" width=\"' + width + '\">';\n    fig.close_ws(fig, msg);\n};\n\nmpl.figure.prototype.close_ws = function (fig, msg) {\n    fig.send_message('closing', msg);\n    // fig.ws.close()\n};\n\nmpl.figure.prototype.push_to_output = function (_remove_interactive) {\n    // Turn the data on the canvas into data in the output cell.\n    var width = this.canvas.width / this.ratio;\n    var dataURL = this.canvas.toDataURL();\n    this.cell_info[1]['text/html'] =\n        '<img src=\"' + dataURL + '\" width=\"' + width + '\">';\n};\n\nmpl.figure.prototype.updated_canvas_event = function () {\n    // Tell IPython that the notebook contents must change.\n    IPython.notebook.set_dirty(true);\n    this.send_message('ack', {});\n    var fig = this;\n    // Wait a second, then push the new image to the DOM so\n    // that it is saved nicely (might be nice to debounce this).\n    setTimeout(function () {\n        fig.push_to_output();\n    }, 1000);\n};\n\nmpl.figure.prototype._init_toolbar = function () {\n    var fig = this;\n\n    var toolbar = document.createElement('div');\n    toolbar.classList = 'btn-toolbar';\n    this.root.appendChild(toolbar);\n\n    function on_click_closure(name) {\n        return function (_event) {\n            return fig.toolbar_button_onclick(name);\n        };\n    }\n\n    function on_mouseover_closure(tooltip) {\n        return function (event) {\n            if (!event.currentTarget.disabled) {\n                return fig.toolbar_button_onmouseover(tooltip);\n            }\n        };\n    }\n\n    fig.buttons = {};\n    var buttonGroup = document.createElement('div');\n    buttonGroup.classList = 'btn-group';\n    var button;\n    for (var toolbar_ind in mpl.toolbar_items) {\n        var name = mpl.toolbar_items[toolbar_ind][0];\n        var tooltip = mpl.toolbar_items[toolbar_ind][1];\n        var image = mpl.toolbar_items[toolbar_ind][2];\n        var method_name = mpl.toolbar_items[toolbar_ind][3];\n\n        if (!name) {\n            /* Instead of a spacer, we start a new button group. */\n            if (buttonGroup.hasChildNodes()) {\n                toolbar.appendChild(buttonGroup);\n            }\n            buttonGroup = document.createElement('div');\n            buttonGroup.classList = 'btn-group';\n            continue;\n        }\n\n        button = fig.buttons[name] = document.createElement('button');\n        button.classList = 'btn btn-default';\n        button.href = '#';\n        button.title = name;\n        button.innerHTML = '<i class=\"fa ' + image + ' fa-lg\"></i>';\n        button.addEventListener('click', on_click_closure(method_name));\n        button.addEventListener('mouseover', on_mouseover_closure(tooltip));\n        buttonGroup.appendChild(button);\n    }\n\n    if (buttonGroup.hasChildNodes()) {\n        toolbar.appendChild(buttonGroup);\n    }\n\n    // Add the status bar.\n    var status_bar = document.createElement('span');\n    status_bar.classList = 'mpl-message pull-right';\n    toolbar.appendChild(status_bar);\n    this.message = status_bar;\n\n    // Add the close button to the window.\n    var buttongrp = document.createElement('div');\n    buttongrp.classList = 'btn-group inline pull-right';\n    button = document.createElement('button');\n    button.classList = 'btn btn-mini btn-primary';\n    button.href = '#';\n    button.title = 'Stop Interaction';\n    button.innerHTML = '<i class=\"fa fa-power-off icon-remove icon-large\"></i>';\n    button.addEventListener('click', function (_evt) {\n        fig.handle_close(fig, {});\n    });\n    button.addEventListener(\n        'mouseover',\n        on_mouseover_closure('Stop Interaction')\n    );\n    buttongrp.appendChild(button);\n    var titlebar = this.root.querySelector('.ui-dialog-titlebar');\n    titlebar.insertBefore(buttongrp, titlebar.firstChild);\n};\n\nmpl.figure.prototype._remove_fig_handler = function (event) {\n    var fig = event.data.fig;\n    if (event.target !== this) {\n        // Ignore bubbled events from children.\n        return;\n    }\n    fig.close_ws(fig, {});\n};\n\nmpl.figure.prototype._root_extra_style = function (el) {\n    el.style.boxSizing = 'content-box'; // override notebook setting of border-box.\n};\n\nmpl.figure.prototype._canvas_extra_style = function (el) {\n    // this is important to make the div 'focusable\n    el.setAttribute('tabindex', 0);\n    // reach out to IPython and tell the keyboard manager to turn it's self\n    // off when our div gets focus\n\n    // location in version 3\n    if (IPython.notebook.keyboard_manager) {\n        IPython.notebook.keyboard_manager.register_events(el);\n    } else {\n        // location in version 2\n        IPython.keyboard_manager.register_events(el);\n    }\n};\n\nmpl.figure.prototype._key_event_extra = function (event, _name) {\n    var manager = IPython.notebook.keyboard_manager;\n    if (!manager) {\n        manager = IPython.keyboard_manager;\n    }\n\n    // Check for shift+enter\n    if (event.shiftKey && event.which === 13) {\n        this.canvas_div.blur();\n        // select the cell after this one\n        var index = IPython.notebook.find_cell_index(this.cell_info[0]);\n        IPython.notebook.select(index + 1);\n    }\n};\n\nmpl.figure.prototype.handle_save = function (fig, _msg) {\n    fig.ondownload(fig, null);\n};\n\nmpl.find_output_cell = function (html_output) {\n    // Return the cell and output element which can be found *uniquely* in the notebook.\n    // Note - this is a bit hacky, but it is done because the \"notebook_saving.Notebook\"\n    // IPython event is triggered only after the cells have been serialised, which for\n    // our purposes (turning an active figure into a static one), is too late.\n    var cells = IPython.notebook.get_cells();\n    var ncells = cells.length;\n    for (var i = 0; i < ncells; i++) {\n        var cell = cells[i];\n        if (cell.cell_type === 'code') {\n            for (var j = 0; j < cell.output_area.outputs.length; j++) {\n                var data = cell.output_area.outputs[j];\n                if (data.data) {\n                    // IPython >= 3 moved mimebundle to data attribute of output\n                    data = data.data;\n                }\n                if (data['text/html'] === html_output) {\n                    return [cell, data, j];\n                }\n            }\n        }\n    }\n};\n\n// Register the function which deals with the matplotlib target/channel.\n// The kernel may be null if the page has been refreshed.\nif (IPython.notebook.kernel !== null) {\n    IPython.notebook.kernel.comm_manager.register_target(\n        'matplotlib',\n        mpl.mpl_figure_comm\n    );\n}\n"
     },
     "metadata": {}
    },
    {
     "output_type": "display_data",
     "data": {
      "text/plain": [
       "<IPython.core.display.HTML object>"
      ],
      "text/html": [
       "<img src=\"data:image/png;base64,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\" width=\"1600\">"
      ]
     },
     "metadata": {}
    }
   ],
   "metadata": {}
  },
  {
   "cell_type": "code",
   "execution_count": 32,
   "source": [
    "vae = VAEModel(latent_dim=8)\n",
    "vae.compile(optimizer=k.optimizers.Adam(learning_rate=0.001))\n",
    "vae.fit(trainx, epochs=50, batch_size=64, workers=1, callbacks=LossPlot())"
   ],
   "outputs": [
    {
     "output_type": "stream",
     "name": "stdout",
     "text": [
      "Epoch 1/50\n",
      "129/129 [==============================] - 1s 2ms/step - loss: 1721.1624 - reconstruction_loss: 1532.4070 - kl_loss: 0.7706\n",
      "Epoch 2/50\n",
      "129/129 [==============================] - 0s 2ms/step - loss: 714.6185 - reconstruction_loss: 607.4051 - kl_loss: 0.8146\n",
      "Epoch 3/50\n",
      "129/129 [==============================] - 0s 3ms/step - loss: 458.6078 - reconstruction_loss: 442.1735 - kl_loss: 0.8133\n",
      "Epoch 4/50\n",
      "129/129 [==============================] - 0s 2ms/step - loss: 400.8618 - reconstruction_loss: 397.0123 - kl_loss: 0.7928\n",
      "Epoch 5/50\n",
      "129/129 [==============================] - 0s 2ms/step - loss: 390.3628 - reconstruction_loss: 382.0163 - kl_loss: 0.7609\n",
      "Epoch 6/50\n",
      "129/129 [==============================] - 0s 2ms/step - loss: 378.4098 - reconstruction_loss: 375.8134 - kl_loss: 0.7568\n",
      "Epoch 7/50\n",
      "129/129 [==============================] - 0s 2ms/step - loss: 370.6680 - reconstruction_loss: 368.7832 - kl_loss: 0.7626\n",
      "Epoch 8/50\n",
      "129/129 [==============================] - 0s 2ms/step - loss: 364.1236 - reconstruction_loss: 362.2830 - kl_loss: 0.7608\n",
      "Epoch 9/50\n",
      "129/129 [==============================] - 0s 2ms/step - loss: 357.2845 - reconstruction_loss: 354.0690 - kl_loss: 0.7510\n",
      "Epoch 10/50\n",
      "129/129 [==============================] - 0s 2ms/step - loss: 349.3716 - reconstruction_loss: 347.5550 - kl_loss: 0.7552\n",
      "Epoch 11/50\n",
      "129/129 [==============================] - 0s 2ms/step - loss: 342.5174 - reconstruction_loss: 334.9067 - kl_loss: 0.7517\n",
      "Epoch 12/50\n",
      "129/129 [==============================] - 0s 2ms/step - loss: 303.6905 - reconstruction_loss: 282.8309 - kl_loss: 0.7476\n",
      "Epoch 13/50\n",
      "129/129 [==============================] - 0s 2ms/step - loss: 216.9570 - reconstruction_loss: 203.7746 - kl_loss: 0.7438\n",
      "Epoch 14/50\n",
      "129/129 [==============================] - 0s 2ms/step - loss: 177.7691 - reconstruction_loss: 170.0934 - kl_loss: 0.7341\n",
      "Epoch 15/50\n",
      "129/129 [==============================] - 0s 2ms/step - loss: 155.7234 - reconstruction_loss: 153.2082 - kl_loss: 0.7345\n",
      "Epoch 16/50\n",
      "129/129 [==============================] - 0s 2ms/step - loss: 149.4048 - reconstruction_loss: 145.5399 - kl_loss: 0.7291\n",
      "Epoch 17/50\n",
      "129/129 [==============================] - 0s 2ms/step - loss: 143.6821 - reconstruction_loss: 139.2599 - kl_loss: 0.7271\n",
      "Epoch 18/50\n",
      "129/129 [==============================] - 0s 2ms/step - loss: 133.9091 - reconstruction_loss: 135.0298 - kl_loss: 0.7272\n",
      "Epoch 19/50\n",
      "129/129 [==============================] - 0s 2ms/step - loss: 132.1156 - reconstruction_loss: 132.8090 - kl_loss: 0.7273\n",
      "Epoch 20/50\n",
      "129/129 [==============================] - 0s 2ms/step - loss: 131.9662 - reconstruction_loss: 131.4491 - kl_loss: 0.7273\n",
      "Epoch 21/50\n",
      "129/129 [==============================] - 0s 2ms/step - loss: 130.9246 - reconstruction_loss: 129.9481 - kl_loss: 0.7188\n",
      "Epoch 22/50\n",
      "129/129 [==============================] - 0s 2ms/step - loss: 128.5322 - reconstruction_loss: 129.9420 - kl_loss: 0.7201\n",
      "Epoch 23/50\n",
      "129/129 [==============================] - 0s 2ms/step - loss: 128.6115 - reconstruction_loss: 128.2720 - kl_loss: 0.7206\n",
      "Epoch 24/50\n",
      "129/129 [==============================] - 0s 2ms/step - loss: 129.8266 - reconstruction_loss: 127.2456 - kl_loss: 0.7218\n",
      "Epoch 25/50\n",
      "129/129 [==============================] - 1s 4ms/step - loss: 124.5744 - reconstruction_loss: 125.5376 - kl_loss: 0.7217\n",
      "Epoch 26/50\n",
      "129/129 [==============================] - 1s 5ms/step - loss: 123.5158 - reconstruction_loss: 123.4052 - kl_loss: 0.7223\n",
      "Epoch 27/50\n",
      "129/129 [==============================] - 0s 3ms/step - loss: 124.8567 - reconstruction_loss: 123.6208 - kl_loss: 0.7201\n",
      "Epoch 28/50\n",
      "129/129 [==============================] - 0s 2ms/step - loss: 124.4892 - reconstruction_loss: 121.8470 - kl_loss: 0.7203\n",
      "Epoch 29/50\n",
      "129/129 [==============================] - 0s 2ms/step - loss: 119.6578 - reconstruction_loss: 119.7564 - kl_loss: 0.7195\n",
      "Epoch 30/50\n",
      "129/129 [==============================] - 0s 2ms/step - loss: 120.6611 - reconstruction_loss: 119.7617 - kl_loss: 0.7208\n",
      "Epoch 31/50\n",
      "129/129 [==============================] - 1s 10ms/step - loss: 121.5548 - reconstruction_loss: 119.3191 - kl_loss: 0.7217\n",
      "Epoch 32/50\n",
      "129/129 [==============================] - 0s 3ms/step - loss: 121.5674 - reconstruction_loss: 119.1551 - kl_loss: 0.7203\n",
      "Epoch 33/50\n",
      "129/129 [==============================] - 0s 2ms/step - loss: 118.1001 - reconstruction_loss: 117.4091 - kl_loss: 0.7182\n",
      "Epoch 34/50\n",
      "129/129 [==============================] - 0s 2ms/step - loss: 120.1211 - reconstruction_loss: 119.3868 - kl_loss: 0.7194\n",
      "Epoch 35/50\n",
      "129/129 [==============================] - 0s 4ms/step - loss: 118.6044 - reconstruction_loss: 117.4060 - kl_loss: 0.7221\n",
      "Epoch 36/50\n",
      "129/129 [==============================] - 0s 4ms/step - loss: 116.1925 - reconstruction_loss: 116.9995 - kl_loss: 0.7206\n",
      "Epoch 37/50\n",
      "129/129 [==============================] - 0s 3ms/step - loss: 114.7673 - reconstruction_loss: 116.5692 - kl_loss: 0.7217\n",
      "Epoch 38/50\n",
      "129/129 [==============================] - 0s 3ms/step - loss: 114.8024 - reconstruction_loss: 115.9157 - kl_loss: 0.7204\n",
      "Epoch 39/50\n",
      "129/129 [==============================] - 0s 3ms/step - loss: 115.7596 - reconstruction_loss: 116.4006 - kl_loss: 0.7161\n",
      "Epoch 40/50\n",
      "129/129 [==============================] - 0s 2ms/step - loss: 116.1631 - reconstruction_loss: 116.3239 - kl_loss: 0.7171\n",
      "Epoch 41/50\n",
      "129/129 [==============================] - 0s 2ms/step - loss: 116.4732 - reconstruction_loss: 115.1017 - kl_loss: 0.7162\n",
      "Epoch 42/50\n",
      "129/129 [==============================] - 0s 2ms/step - loss: 114.9894 - reconstruction_loss: 113.9823 - kl_loss: 0.7159\n",
      "Epoch 43/50\n",
      "129/129 [==============================] - 0s 4ms/step - loss: 113.8211 - reconstruction_loss: 114.0061 - kl_loss: 0.7173\n",
      "Epoch 44/50\n",
      "129/129 [==============================] - 0s 2ms/step - loss: 114.8815 - reconstruction_loss: 113.4541 - kl_loss: 0.7159\n",
      "Epoch 45/50\n",
      "129/129 [==============================] - 0s 2ms/step - loss: 115.1287 - reconstruction_loss: 113.7168 - kl_loss: 0.7167\n",
      "Epoch 46/50\n",
      "129/129 [==============================] - 0s 3ms/step - loss: 113.5333 - reconstruction_loss: 113.7405 - kl_loss: 0.7153\n",
      "Epoch 47/50\n",
      "129/129 [==============================] - 0s 3ms/step - loss: 116.1472 - reconstruction_loss: 112.9509 - kl_loss: 0.7160\n",
      "Epoch 48/50\n",
      "129/129 [==============================] - 0s 4ms/step - loss: 113.5111 - reconstruction_loss: 112.2992 - kl_loss: 0.7160\n",
      "Epoch 49/50\n",
      "129/129 [==============================] - 0s 2ms/step - loss: 111.5693 - reconstruction_loss: 112.6297 - kl_loss: 0.7150\n",
      "Epoch 50/50\n",
      "129/129 [==============================] - 0s 3ms/step - loss: 113.2647 - reconstruction_loss: 113.3491 - kl_loss: 0.7166\n"
     ]
    },
    {
     "output_type": "execute_result",
     "data": {
      "text/plain": [
       "<tensorflow.python.keras.callbacks.History at 0x7fb3ffe4ba00>"
      ]
     },
     "metadata": {},
     "execution_count": 32
    }
   ],
   "metadata": {
    "scrolled": true,
    "tags": []
   }
  },
  {
   "cell_type": "code",
   "execution_count": 33,
   "source": [
    "valx_pred_vae = vae.predict(valx, verbose=1)"
   ],
   "outputs": [
    {
     "output_type": "stream",
     "name": "stdout",
     "text": [
      "129/129 [==============================] - 0s 1ms/step\n"
     ]
    }
   ],
   "metadata": {}
  },
  {
   "cell_type": "code",
   "execution_count": 66,
   "source": [
    "connections2 = [[5, 4, 6, 5], [4,17,18], [17,11,12,18], [0,2,15,17,16,3,1], [13,9,7,18,8,10,14]]\n",
    "\n",
    "fig4 = plt.figure()\n",
    "ax4 = p3.Axes3D(fig4, auto_add_to_figure=False)\n",
    "fig4.add_axes(ax4)\n",
    "\n",
    "def animfunc(t, skip=1):\n",
    "    ax4.clear()\n",
    "    lines = []\n",
    "    for conn in connections2:\n",
    "        x = [3*i for i in conn]\n",
    "        y = [i+1 for i in x]\n",
    "        z = [i+2 for i in x]\n",
    "        lines.append(ax4.plot(valx[t*skip, x], valx[t*skip, y], valx[t*skip, z], color='royalblue'))\n",
    "        lines.append(ax4.plot(valx_pred_vae[t*skip, x], valx_pred_vae[t*skip, y], valx_pred_vae[t*skip, z], color='firebrick'))\n",
    "    ax4.set_title('(%i, %i)'%((t, t*skip)))\n",
    "    return lines,\n",
    "\n",
    "anim = FuncAnimation(fig4, animfunc, frames=100, fargs=(100,), interval=500, repeat=False)"
   ],
   "outputs": [
    {
     "output_type": "display_data",
     "data": {
      "text/plain": [
       "<IPython.core.display.Javascript object>"
      ],
      "application/javascript": "/* Put everything inside the global mpl namespace */\n/* global mpl */\nwindow.mpl = {};\n\nmpl.get_websocket_type = function () {\n    if (typeof WebSocket !== 'undefined') {\n        return WebSocket;\n    } else if (typeof MozWebSocket !== 'undefined') {\n        return MozWebSocket;\n    } else {\n        alert(\n            'Your browser does not have WebSocket support. ' +\n                'Please try Chrome, Safari or Firefox ≥ 6. ' +\n                'Firefox 4 and 5 are also supported but you ' +\n                'have to enable WebSockets in about:config.'\n        );\n    }\n};\n\nmpl.figure = function (figure_id, websocket, ondownload, parent_element) {\n    this.id = figure_id;\n\n    this.ws = websocket;\n\n    this.supports_binary = this.ws.binaryType !== undefined;\n\n    if (!this.supports_binary) {\n        var warnings = document.getElementById('mpl-warnings');\n        if (warnings) {\n            warnings.style.display = 'block';\n            warnings.textContent =\n                'This browser does not support binary websocket messages. ' +\n                'Performance may be slow.';\n        }\n    }\n\n    this.imageObj = new Image();\n\n    this.context = undefined;\n    this.message = undefined;\n    this.canvas = undefined;\n    this.rubberband_canvas = undefined;\n    this.rubberband_context = undefined;\n    this.format_dropdown = undefined;\n\n    this.image_mode = 'full';\n\n    this.root = document.createElement('div');\n    this.root.setAttribute('style', 'display: inline-block');\n    this._root_extra_style(this.root);\n\n    parent_element.appendChild(this.root);\n\n    this._init_header(this);\n    this._init_canvas(this);\n    this._init_toolbar(this);\n\n    var fig = this;\n\n    this.waiting = false;\n\n    this.ws.onopen = function () {\n        fig.send_message('supports_binary', { value: fig.supports_binary });\n        fig.send_message('send_image_mode', {});\n        if (fig.ratio !== 1) {\n            fig.send_message('set_dpi_ratio', { dpi_ratio: fig.ratio });\n        }\n        fig.send_message('refresh', {});\n    };\n\n    this.imageObj.onload = function () {\n        if (fig.image_mode === 'full') {\n            // Full images could contain transparency (where diff images\n            // almost always do), so we need to clear the canvas so that\n            // there is no ghosting.\n            fig.context.clearRect(0, 0, fig.canvas.width, fig.canvas.height);\n        }\n        fig.context.drawImage(fig.imageObj, 0, 0);\n    };\n\n    this.imageObj.onunload = function () {\n        fig.ws.close();\n    };\n\n    this.ws.onmessage = this._make_on_message_function(this);\n\n    this.ondownload = ondownload;\n};\n\nmpl.figure.prototype._init_header = function () {\n    var titlebar = document.createElement('div');\n    titlebar.classList =\n        'ui-dialog-titlebar ui-widget-header ui-corner-all ui-helper-clearfix';\n    var titletext = document.createElement('div');\n    titletext.classList = 'ui-dialog-title';\n    titletext.setAttribute(\n        'style',\n        'width: 100%; text-align: center; padding: 3px;'\n    );\n    titlebar.appendChild(titletext);\n    this.root.appendChild(titlebar);\n    this.header = titletext;\n};\n\nmpl.figure.prototype._canvas_extra_style = function (_canvas_div) {};\n\nmpl.figure.prototype._root_extra_style = function (_canvas_div) {};\n\nmpl.figure.prototype._init_canvas = function () {\n    var fig = this;\n\n    var canvas_div = (this.canvas_div = document.createElement('div'));\n    canvas_div.setAttribute(\n        'style',\n        'border: 1px solid #ddd;' +\n            'box-sizing: content-box;' +\n            'clear: both;' +\n            'min-height: 1px;' +\n            'min-width: 1px;' +\n            'outline: 0;' +\n            'overflow: hidden;' +\n            'position: relative;' +\n            'resize: both;'\n    );\n\n    function on_keyboard_event_closure(name) {\n        return function (event) {\n            return fig.key_event(event, name);\n        };\n    }\n\n    canvas_div.addEventListener(\n        'keydown',\n        on_keyboard_event_closure('key_press')\n    );\n    canvas_div.addEventListener(\n        'keyup',\n        on_keyboard_event_closure('key_release')\n    );\n\n    this._canvas_extra_style(canvas_div);\n    this.root.appendChild(canvas_div);\n\n    var canvas = (this.canvas = document.createElement('canvas'));\n    canvas.classList.add('mpl-canvas');\n    canvas.setAttribute('style', 'box-sizing: content-box;');\n\n    this.context = canvas.getContext('2d');\n\n    var backingStore =\n        this.context.backingStorePixelRatio ||\n        this.context.webkitBackingStorePixelRatio ||\n        this.context.mozBackingStorePixelRatio ||\n        this.context.msBackingStorePixelRatio ||\n        this.context.oBackingStorePixelRatio ||\n        this.context.backingStorePixelRatio ||\n        1;\n\n    this.ratio = (window.devicePixelRatio || 1) / backingStore;\n\n    var rubberband_canvas = (this.rubberband_canvas = document.createElement(\n        'canvas'\n    ));\n    rubberband_canvas.setAttribute(\n        'style',\n        'box-sizing: content-box; position: absolute; left: 0; top: 0; z-index: 1;'\n    );\n\n    // Apply a ponyfill if ResizeObserver is not implemented by browser.\n    if (this.ResizeObserver === undefined) {\n        if (window.ResizeObserver !== undefined) {\n            this.ResizeObserver = window.ResizeObserver;\n        } else {\n            var obs = _JSXTOOLS_RESIZE_OBSERVER({});\n            this.ResizeObserver = obs.ResizeObserver;\n        }\n    }\n\n    this.resizeObserverInstance = new this.ResizeObserver(function (entries) {\n        var nentries = entries.length;\n        for (var i = 0; i < nentries; i++) {\n            var entry = entries[i];\n            var width, height;\n            if (entry.contentBoxSize) {\n                if (entry.contentBoxSize instanceof Array) {\n                    // Chrome 84 implements new version of spec.\n                    width = entry.contentBoxSize[0].inlineSize;\n                    height = entry.contentBoxSize[0].blockSize;\n                } else {\n                    // Firefox implements old version of spec.\n                    width = entry.contentBoxSize.inlineSize;\n                    height = entry.contentBoxSize.blockSize;\n                }\n            } else {\n                // Chrome <84 implements even older version of spec.\n                width = entry.contentRect.width;\n                height = entry.contentRect.height;\n            }\n\n            // Keep the size of the canvas and rubber band canvas in sync with\n            // the canvas container.\n            if (entry.devicePixelContentBoxSize) {\n                // Chrome 84 implements new version of spec.\n                canvas.setAttribute(\n                    'width',\n                    entry.devicePixelContentBoxSize[0].inlineSize\n                );\n                canvas.setAttribute(\n                    'height',\n                    entry.devicePixelContentBoxSize[0].blockSize\n                );\n            } else {\n                canvas.setAttribute('width', width * fig.ratio);\n                canvas.setAttribute('height', height * fig.ratio);\n            }\n            canvas.setAttribute(\n                'style',\n                'width: ' + width + 'px; height: ' + height + 'px;'\n            );\n\n            rubberband_canvas.setAttribute('width', width);\n            rubberband_canvas.setAttribute('height', height);\n\n            // And update the size in Python. We ignore the initial 0/0 size\n            // that occurs as the element is placed into the DOM, which should\n            // otherwise not happen due to the minimum size styling.\n            if (fig.ws.readyState == 1 && width != 0 && height != 0) {\n                fig.request_resize(width, height);\n            }\n        }\n    });\n    this.resizeObserverInstance.observe(canvas_div);\n\n    function on_mouse_event_closure(name) {\n        return function (event) {\n            return fig.mouse_event(event, name);\n        };\n    }\n\n    rubberband_canvas.addEventListener(\n        'mousedown',\n        on_mouse_event_closure('button_press')\n    );\n    rubberband_canvas.addEventListener(\n        'mouseup',\n        on_mouse_event_closure('button_release')\n    );\n    rubberband_canvas.addEventListener(\n        'dblclick',\n        on_mouse_event_closure('dblclick')\n    );\n    // Throttle sequential mouse events to 1 every 20ms.\n    rubberband_canvas.addEventListener(\n        'mousemove',\n        on_mouse_event_closure('motion_notify')\n    );\n\n    rubberband_canvas.addEventListener(\n        'mouseenter',\n        on_mouse_event_closure('figure_enter')\n    );\n    rubberband_canvas.addEventListener(\n        'mouseleave',\n        on_mouse_event_closure('figure_leave')\n    );\n\n    canvas_div.addEventListener('wheel', function (event) {\n        if (event.deltaY < 0) {\n            event.step = 1;\n        } else {\n            event.step = -1;\n        }\n        on_mouse_event_closure('scroll')(event);\n    });\n\n    canvas_div.appendChild(canvas);\n    canvas_div.appendChild(rubberband_canvas);\n\n    this.rubberband_context = rubberband_canvas.getContext('2d');\n    this.rubberband_context.strokeStyle = '#000000';\n\n    this._resize_canvas = function (width, height, forward) {\n        if (forward) {\n            canvas_div.style.width = width + 'px';\n            canvas_div.style.height = height + 'px';\n        }\n    };\n\n    // Disable right mouse context menu.\n    this.rubberband_canvas.addEventListener('contextmenu', function (_e) {\n        event.preventDefault();\n        return false;\n    });\n\n    function set_focus() {\n        canvas.focus();\n        canvas_div.focus();\n    }\n\n    window.setTimeout(set_focus, 100);\n};\n\nmpl.figure.prototype._init_toolbar = function () {\n    var fig = this;\n\n    var toolbar = document.createElement('div');\n    toolbar.classList = 'mpl-toolbar';\n    this.root.appendChild(toolbar);\n\n    function on_click_closure(name) {\n        return function (_event) {\n            return fig.toolbar_button_onclick(name);\n        };\n    }\n\n    function on_mouseover_closure(tooltip) {\n        return function (event) {\n            if (!event.currentTarget.disabled) {\n                return fig.toolbar_button_onmouseover(tooltip);\n            }\n        };\n    }\n\n    fig.buttons = {};\n    var buttonGroup = document.createElement('div');\n    buttonGroup.classList = 'mpl-button-group';\n    for (var toolbar_ind in mpl.toolbar_items) {\n        var name = mpl.toolbar_items[toolbar_ind][0];\n        var tooltip = mpl.toolbar_items[toolbar_ind][1];\n        var image = mpl.toolbar_items[toolbar_ind][2];\n        var method_name = mpl.toolbar_items[toolbar_ind][3];\n\n        if (!name) {\n            /* Instead of a spacer, we start a new button group. */\n            if (buttonGroup.hasChildNodes()) {\n                toolbar.appendChild(buttonGroup);\n            }\n            buttonGroup = document.createElement('div');\n            buttonGroup.classList = 'mpl-button-group';\n            continue;\n        }\n\n        var button = (fig.buttons[name] = document.createElement('button'));\n        button.classList = 'mpl-widget';\n        button.setAttribute('role', 'button');\n        button.setAttribute('aria-disabled', 'false');\n        button.addEventListener('click', on_click_closure(method_name));\n        button.addEventListener('mouseover', on_mouseover_closure(tooltip));\n\n        var icon_img = document.createElement('img');\n        icon_img.src = '_images/' + image + '.png';\n        icon_img.srcset = '_images/' + image + '_large.png 2x';\n        icon_img.alt = tooltip;\n        button.appendChild(icon_img);\n\n        buttonGroup.appendChild(button);\n    }\n\n    if (buttonGroup.hasChildNodes()) {\n        toolbar.appendChild(buttonGroup);\n    }\n\n    var fmt_picker = document.createElement('select');\n    fmt_picker.classList = 'mpl-widget';\n    toolbar.appendChild(fmt_picker);\n    this.format_dropdown = fmt_picker;\n\n    for (var ind in mpl.extensions) {\n        var fmt = mpl.extensions[ind];\n        var option = document.createElement('option');\n        option.selected = fmt === mpl.default_extension;\n        option.innerHTML = fmt;\n        fmt_picker.appendChild(option);\n    }\n\n    var status_bar = document.createElement('span');\n    status_bar.classList = 'mpl-message';\n    toolbar.appendChild(status_bar);\n    this.message = status_bar;\n};\n\nmpl.figure.prototype.request_resize = function (x_pixels, y_pixels) {\n    // Request matplotlib to resize the figure. Matplotlib will then trigger a resize in the client,\n    // which will in turn request a refresh of the image.\n    this.send_message('resize', { width: x_pixels, height: y_pixels });\n};\n\nmpl.figure.prototype.send_message = function (type, properties) {\n    properties['type'] = type;\n    properties['figure_id'] = this.id;\n    this.ws.send(JSON.stringify(properties));\n};\n\nmpl.figure.prototype.send_draw_message = function () {\n    if (!this.waiting) {\n        this.waiting = true;\n        this.ws.send(JSON.stringify({ type: 'draw', figure_id: this.id }));\n    }\n};\n\nmpl.figure.prototype.handle_save = function (fig, _msg) {\n    var format_dropdown = fig.format_dropdown;\n    var format = format_dropdown.options[format_dropdown.selectedIndex].value;\n    fig.ondownload(fig, format);\n};\n\nmpl.figure.prototype.handle_resize = function (fig, msg) {\n    var size = msg['size'];\n    if (size[0] !== fig.canvas.width || size[1] !== fig.canvas.height) {\n        fig._resize_canvas(size[0], size[1], msg['forward']);\n        fig.send_message('refresh', {});\n    }\n};\n\nmpl.figure.prototype.handle_rubberband = function (fig, msg) {\n    var x0 = msg['x0'] / fig.ratio;\n    var y0 = (fig.canvas.height - msg['y0']) / fig.ratio;\n    var x1 = msg['x1'] / fig.ratio;\n    var y1 = (fig.canvas.height - msg['y1']) / fig.ratio;\n    x0 = Math.floor(x0) + 0.5;\n    y0 = Math.floor(y0) + 0.5;\n    x1 = Math.floor(x1) + 0.5;\n    y1 = Math.floor(y1) + 0.5;\n    var min_x = Math.min(x0, x1);\n    var min_y = Math.min(y0, y1);\n    var width = Math.abs(x1 - x0);\n    var height = Math.abs(y1 - y0);\n\n    fig.rubberband_context.clearRect(\n        0,\n        0,\n        fig.canvas.width / fig.ratio,\n        fig.canvas.height / fig.ratio\n    );\n\n    fig.rubberband_context.strokeRect(min_x, min_y, width, height);\n};\n\nmpl.figure.prototype.handle_figure_label = function (fig, msg) {\n    // Updates the figure title.\n    fig.header.textContent = msg['label'];\n};\n\nmpl.figure.prototype.handle_cursor = function (fig, msg) {\n    var cursor = msg['cursor'];\n    switch (cursor) {\n        case 0:\n            cursor = 'pointer';\n            break;\n        case 1:\n            cursor = 'default';\n            break;\n        case 2:\n            cursor = 'crosshair';\n            break;\n        case 3:\n            cursor = 'move';\n            break;\n    }\n    fig.rubberband_canvas.style.cursor = cursor;\n};\n\nmpl.figure.prototype.handle_message = function (fig, msg) {\n    fig.message.textContent = msg['message'];\n};\n\nmpl.figure.prototype.handle_draw = function (fig, _msg) {\n    // Request the server to send over a new figure.\n    fig.send_draw_message();\n};\n\nmpl.figure.prototype.handle_image_mode = function (fig, msg) {\n    fig.image_mode = msg['mode'];\n};\n\nmpl.figure.prototype.handle_history_buttons = function (fig, msg) {\n    for (var key in msg) {\n        if (!(key in fig.buttons)) {\n            continue;\n        }\n        fig.buttons[key].disabled = !msg[key];\n        fig.buttons[key].setAttribute('aria-disabled', !msg[key]);\n    }\n};\n\nmpl.figure.prototype.handle_navigate_mode = function (fig, msg) {\n    if (msg['mode'] === 'PAN') {\n        fig.buttons['Pan'].classList.add('active');\n        fig.buttons['Zoom'].classList.remove('active');\n    } else if (msg['mode'] === 'ZOOM') {\n        fig.buttons['Pan'].classList.remove('active');\n        fig.buttons['Zoom'].classList.add('active');\n    } else {\n        fig.buttons['Pan'].classList.remove('active');\n        fig.buttons['Zoom'].classList.remove('active');\n    }\n};\n\nmpl.figure.prototype.updated_canvas_event = function () {\n    // Called whenever the canvas gets updated.\n    this.send_message('ack', {});\n};\n\n// A function to construct a web socket function for onmessage handling.\n// Called in the figure constructor.\nmpl.figure.prototype._make_on_message_function = function (fig) {\n    return function socket_on_message(evt) {\n        if (evt.data instanceof Blob) {\n            var img = evt.data;\n            if (img.type !== 'image/png') {\n                /* FIXME: We get \"Resource interpreted as Image but\n                 * transferred with MIME type text/plain:\" errors on\n                 * Chrome.  But how to set the MIME type?  It doesn't seem\n                 * to be part of the websocket stream */\n                img.type = 'image/png';\n            }\n\n            /* Free the memory for the previous frames */\n            if (fig.imageObj.src) {\n                (window.URL || window.webkitURL).revokeObjectURL(\n                    fig.imageObj.src\n                );\n            }\n\n            fig.imageObj.src = (window.URL || window.webkitURL).createObjectURL(\n                img\n            );\n            fig.updated_canvas_event();\n            fig.waiting = false;\n            return;\n        } else if (\n            typeof evt.data === 'string' &&\n            evt.data.slice(0, 21) === 'data:image/png;base64'\n        ) {\n            fig.imageObj.src = evt.data;\n            fig.updated_canvas_event();\n            fig.waiting = false;\n            return;\n        }\n\n        var msg = JSON.parse(evt.data);\n        var msg_type = msg['type'];\n\n        // Call the  \"handle_{type}\" callback, which takes\n        // the figure and JSON message as its only arguments.\n        try {\n            var callback = fig['handle_' + msg_type];\n        } catch (e) {\n            console.log(\n                \"No handler for the '\" + msg_type + \"' message type: \",\n                msg\n            );\n            return;\n        }\n\n        if (callback) {\n            try {\n                // console.log(\"Handling '\" + msg_type + \"' message: \", msg);\n                callback(fig, msg);\n            } catch (e) {\n                console.log(\n                    \"Exception inside the 'handler_\" + msg_type + \"' callback:\",\n                    e,\n                    e.stack,\n                    msg\n                );\n            }\n        }\n    };\n};\n\n// from http://stackoverflow.com/questions/1114465/getting-mouse-location-in-canvas\nmpl.findpos = function (e) {\n    //this section is from http://www.quirksmode.org/js/events_properties.html\n    var targ;\n    if (!e) {\n        e = window.event;\n    }\n    if (e.target) {\n        targ = e.target;\n    } else if (e.srcElement) {\n        targ = e.srcElement;\n    }\n    if (targ.nodeType === 3) {\n        // defeat Safari bug\n        targ = targ.parentNode;\n    }\n\n    // pageX,Y are the mouse positions relative to the document\n    var boundingRect = targ.getBoundingClientRect();\n    var x = e.pageX - (boundingRect.left + document.body.scrollLeft);\n    var y = e.pageY - (boundingRect.top + document.body.scrollTop);\n\n    return { x: x, y: y };\n};\n\n/*\n * return a copy of an object with only non-object keys\n * we need this to avoid circular references\n * http://stackoverflow.com/a/24161582/3208463\n */\nfunction simpleKeys(original) {\n    return Object.keys(original).reduce(function (obj, key) {\n        if (typeof original[key] !== 'object') {\n            obj[key] = original[key];\n        }\n        return obj;\n    }, {});\n}\n\nmpl.figure.prototype.mouse_event = function (event, name) {\n    var canvas_pos = mpl.findpos(event);\n\n    if (name === 'button_press') {\n        this.canvas.focus();\n        this.canvas_div.focus();\n    }\n\n    var x = canvas_pos.x * this.ratio;\n    var y = canvas_pos.y * this.ratio;\n\n    this.send_message(name, {\n        x: x,\n        y: y,\n        button: event.button,\n        step: event.step,\n        guiEvent: simpleKeys(event),\n    });\n\n    /* This prevents the web browser from automatically changing to\n     * the text insertion cursor when the button is pressed.  We want\n     * to control all of the cursor setting manually through the\n     * 'cursor' event from matplotlib */\n    event.preventDefault();\n    return false;\n};\n\nmpl.figure.prototype._key_event_extra = function (_event, _name) {\n    // Handle any extra behaviour associated with a key event\n};\n\nmpl.figure.prototype.key_event = function (event, name) {\n    // Prevent repeat events\n    if (name === 'key_press') {\n        if (event.key === this._key) {\n            return;\n        } else {\n            this._key = event.key;\n        }\n    }\n    if (name === 'key_release') {\n        this._key = null;\n    }\n\n    var value = '';\n    if (event.ctrlKey && event.key !== 'Control') {\n        value += 'ctrl+';\n    }\n    else if (event.altKey && event.key !== 'Alt') {\n        value += 'alt+';\n    }\n    else if (event.shiftKey && event.key !== 'Shift') {\n        value += 'shift+';\n    }\n\n    value += 'k' + event.key;\n\n    this._key_event_extra(event, name);\n\n    this.send_message(name, { key: value, guiEvent: simpleKeys(event) });\n    return false;\n};\n\nmpl.figure.prototype.toolbar_button_onclick = function (name) {\n    if (name === 'download') {\n        this.handle_save(this, null);\n    } else {\n        this.send_message('toolbar_button', { name: name });\n    }\n};\n\nmpl.figure.prototype.toolbar_button_onmouseover = function (tooltip) {\n    this.message.textContent = tooltip;\n};\n\n///////////////// REMAINING CONTENT GENERATED BY embed_js.py /////////////////\n// prettier-ignore\nvar _JSXTOOLS_RESIZE_OBSERVER=function(A){var t,i=new WeakMap,n=new WeakMap,a=new WeakMap,r=new WeakMap,o=new Set;function s(e){if(!(this instanceof s))throw new TypeError(\"Constructor requires 'new' operator\");i.set(this,e)}function h(){throw new TypeError(\"Function is not a constructor\")}function c(e,t,i,n){e=0 in arguments?Number(arguments[0]):0,t=1 in arguments?Number(arguments[1]):0,i=2 in arguments?Number(arguments[2]):0,n=3 in arguments?Number(arguments[3]):0,this.right=(this.x=this.left=e)+(this.width=i),this.bottom=(this.y=this.top=t)+(this.height=n),Object.freeze(this)}function d(){t=requestAnimationFrame(d);var s=new WeakMap,p=new Set;o.forEach((function(t){r.get(t).forEach((function(i){var r=t instanceof window.SVGElement,o=a.get(t),d=r?0:parseFloat(o.paddingTop),f=r?0:parseFloat(o.paddingRight),l=r?0:parseFloat(o.paddingBottom),u=r?0:parseFloat(o.paddingLeft),g=r?0:parseFloat(o.borderTopWidth),m=r?0:parseFloat(o.borderRightWidth),w=r?0:parseFloat(o.borderBottomWidth),b=u+f,F=d+l,v=(r?0:parseFloat(o.borderLeftWidth))+m,W=g+w,y=r?0:t.offsetHeight-W-t.clientHeight,E=r?0:t.offsetWidth-v-t.clientWidth,R=b+v,z=F+W,M=r?t.width:parseFloat(o.width)-R-E,O=r?t.height:parseFloat(o.height)-z-y;if(n.has(t)){var k=n.get(t);if(k[0]===M&&k[1]===O)return}n.set(t,[M,O]);var S=Object.create(h.prototype);S.target=t,S.contentRect=new c(u,d,M,O),s.has(i)||(s.set(i,[]),p.add(i)),s.get(i).push(S)}))})),p.forEach((function(e){i.get(e).call(e,s.get(e),e)}))}return s.prototype.observe=function(i){if(i instanceof window.Element){r.has(i)||(r.set(i,new Set),o.add(i),a.set(i,window.getComputedStyle(i)));var n=r.get(i);n.has(this)||n.add(this),cancelAnimationFrame(t),t=requestAnimationFrame(d)}},s.prototype.unobserve=function(i){if(i instanceof window.Element&&r.has(i)){var n=r.get(i);n.has(this)&&(n.delete(this),n.size||(r.delete(i),o.delete(i))),n.size||r.delete(i),o.size||cancelAnimationFrame(t)}},A.DOMRectReadOnly=c,A.ResizeObserver=s,A.ResizeObserverEntry=h,A}; // eslint-disable-line\nmpl.toolbar_items = [[\"Home\", \"Reset original view\", \"fa fa-home icon-home\", \"home\"], [\"Back\", \"Back to previous view\", \"fa fa-arrow-left icon-arrow-left\", \"back\"], [\"Forward\", \"Forward to next view\", \"fa fa-arrow-right icon-arrow-right\", \"forward\"], [\"\", \"\", \"\", \"\"], [\"Pan\", \"Left button pans, Right button zooms\\nx/y fixes axis, CTRL fixes aspect\", \"fa fa-arrows icon-move\", \"pan\"], [\"Zoom\", \"Zoom to rectangle\\nx/y fixes axis, CTRL fixes aspect\", \"fa fa-square-o icon-check-empty\", \"zoom\"], [\"\", \"\", \"\", \"\"], [\"Download\", \"Download plot\", \"fa fa-floppy-o icon-save\", \"download\"]];\n\nmpl.extensions = [\"eps\", \"jpeg\", \"pgf\", \"pdf\", \"png\", \"ps\", \"raw\", \"svg\", \"tif\"];\n\nmpl.default_extension = \"png\";/* global mpl */\n\nvar comm_websocket_adapter = function (comm) {\n    // Create a \"websocket\"-like object which calls the given IPython comm\n    // object with the appropriate methods. Currently this is a non binary\n    // socket, so there is still some room for performance tuning.\n    var ws = {};\n\n    ws.binaryType = comm.kernel.ws.binaryType;\n    ws.readyState = comm.kernel.ws.readyState;\n    function updateReadyState(_event) {\n        if (comm.kernel.ws) {\n            ws.readyState = comm.kernel.ws.readyState;\n        } else {\n            ws.readyState = 3; // Closed state.\n        }\n    }\n    comm.kernel.ws.addEventListener('open', updateReadyState);\n    comm.kernel.ws.addEventListener('close', updateReadyState);\n    comm.kernel.ws.addEventListener('error', updateReadyState);\n\n    ws.close = function () {\n        comm.close();\n    };\n    ws.send = function (m) {\n        //console.log('sending', m);\n        comm.send(m);\n    };\n    // Register the callback with on_msg.\n    comm.on_msg(function (msg) {\n        //console.log('receiving', msg['content']['data'], msg);\n        var data = msg['content']['data'];\n        if (data['blob'] !== undefined) {\n            data = {\n                data: new Blob(msg['buffers'], { type: data['blob'] }),\n            };\n        }\n        // Pass the mpl event to the overridden (by mpl) onmessage function.\n        ws.onmessage(data);\n    });\n    return ws;\n};\n\nmpl.mpl_figure_comm = function (comm, msg) {\n    // This is the function which gets called when the mpl process\n    // starts-up an IPython Comm through the \"matplotlib\" channel.\n\n    var id = msg.content.data.id;\n    // Get hold of the div created by the display call when the Comm\n    // socket was opened in Python.\n    var element = document.getElementById(id);\n    var ws_proxy = comm_websocket_adapter(comm);\n\n    function ondownload(figure, _format) {\n        window.open(figure.canvas.toDataURL());\n    }\n\n    var fig = new mpl.figure(id, ws_proxy, ondownload, element);\n\n    // Call onopen now - mpl needs it, as it is assuming we've passed it a real\n    // web socket which is closed, not our websocket->open comm proxy.\n    ws_proxy.onopen();\n\n    fig.parent_element = element;\n    fig.cell_info = mpl.find_output_cell(\"<div id='\" + id + \"'></div>\");\n    if (!fig.cell_info) {\n        console.error('Failed to find cell for figure', id, fig);\n        return;\n    }\n    fig.cell_info[0].output_area.element.on(\n        'cleared',\n        { fig: fig },\n        fig._remove_fig_handler\n    );\n};\n\nmpl.figure.prototype.handle_close = function (fig, msg) {\n    var width = fig.canvas.width / fig.ratio;\n    fig.cell_info[0].output_area.element.off(\n        'cleared',\n        fig._remove_fig_handler\n    );\n    fig.resizeObserverInstance.unobserve(fig.canvas_div);\n\n    // Update the output cell to use the data from the current canvas.\n    fig.push_to_output();\n    var dataURL = fig.canvas.toDataURL();\n    // Re-enable the keyboard manager in IPython - without this line, in FF,\n    // the notebook keyboard shortcuts fail.\n    IPython.keyboard_manager.enable();\n    fig.parent_element.innerHTML =\n        '<img src=\"' + dataURL + '\" width=\"' + width + '\">';\n    fig.close_ws(fig, msg);\n};\n\nmpl.figure.prototype.close_ws = function (fig, msg) {\n    fig.send_message('closing', msg);\n    // fig.ws.close()\n};\n\nmpl.figure.prototype.push_to_output = function (_remove_interactive) {\n    // Turn the data on the canvas into data in the output cell.\n    var width = this.canvas.width / this.ratio;\n    var dataURL = this.canvas.toDataURL();\n    this.cell_info[1]['text/html'] =\n        '<img src=\"' + dataURL + '\" width=\"' + width + '\">';\n};\n\nmpl.figure.prototype.updated_canvas_event = function () {\n    // Tell IPython that the notebook contents must change.\n    IPython.notebook.set_dirty(true);\n    this.send_message('ack', {});\n    var fig = this;\n    // Wait a second, then push the new image to the DOM so\n    // that it is saved nicely (might be nice to debounce this).\n    setTimeout(function () {\n        fig.push_to_output();\n    }, 1000);\n};\n\nmpl.figure.prototype._init_toolbar = function () {\n    var fig = this;\n\n    var toolbar = document.createElement('div');\n    toolbar.classList = 'btn-toolbar';\n    this.root.appendChild(toolbar);\n\n    function on_click_closure(name) {\n        return function (_event) {\n            return fig.toolbar_button_onclick(name);\n        };\n    }\n\n    function on_mouseover_closure(tooltip) {\n        return function (event) {\n            if (!event.currentTarget.disabled) {\n                return fig.toolbar_button_onmouseover(tooltip);\n            }\n        };\n    }\n\n    fig.buttons = {};\n    var buttonGroup = document.createElement('div');\n    buttonGroup.classList = 'btn-group';\n    var button;\n    for (var toolbar_ind in mpl.toolbar_items) {\n        var name = mpl.toolbar_items[toolbar_ind][0];\n        var tooltip = mpl.toolbar_items[toolbar_ind][1];\n        var image = mpl.toolbar_items[toolbar_ind][2];\n        var method_name = mpl.toolbar_items[toolbar_ind][3];\n\n        if (!name) {\n            /* Instead of a spacer, we start a new button group. */\n            if (buttonGroup.hasChildNodes()) {\n                toolbar.appendChild(buttonGroup);\n            }\n            buttonGroup = document.createElement('div');\n            buttonGroup.classList = 'btn-group';\n            continue;\n        }\n\n        button = fig.buttons[name] = document.createElement('button');\n        button.classList = 'btn btn-default';\n        button.href = '#';\n        button.title = name;\n        button.innerHTML = '<i class=\"fa ' + image + ' fa-lg\"></i>';\n        button.addEventListener('click', on_click_closure(method_name));\n        button.addEventListener('mouseover', on_mouseover_closure(tooltip));\n        buttonGroup.appendChild(button);\n    }\n\n    if (buttonGroup.hasChildNodes()) {\n        toolbar.appendChild(buttonGroup);\n    }\n\n    // Add the status bar.\n    var status_bar = document.createElement('span');\n    status_bar.classList = 'mpl-message pull-right';\n    toolbar.appendChild(status_bar);\n    this.message = status_bar;\n\n    // Add the close button to the window.\n    var buttongrp = document.createElement('div');\n    buttongrp.classList = 'btn-group inline pull-right';\n    button = document.createElement('button');\n    button.classList = 'btn btn-mini btn-primary';\n    button.href = '#';\n    button.title = 'Stop Interaction';\n    button.innerHTML = '<i class=\"fa fa-power-off icon-remove icon-large\"></i>';\n    button.addEventListener('click', function (_evt) {\n        fig.handle_close(fig, {});\n    });\n    button.addEventListener(\n        'mouseover',\n        on_mouseover_closure('Stop Interaction')\n    );\n    buttongrp.appendChild(button);\n    var titlebar = this.root.querySelector('.ui-dialog-titlebar');\n    titlebar.insertBefore(buttongrp, titlebar.firstChild);\n};\n\nmpl.figure.prototype._remove_fig_handler = function (event) {\n    var fig = event.data.fig;\n    if (event.target !== this) {\n        // Ignore bubbled events from children.\n        return;\n    }\n    fig.close_ws(fig, {});\n};\n\nmpl.figure.prototype._root_extra_style = function (el) {\n    el.style.boxSizing = 'content-box'; // override notebook setting of border-box.\n};\n\nmpl.figure.prototype._canvas_extra_style = function (el) {\n    // this is important to make the div 'focusable\n    el.setAttribute('tabindex', 0);\n    // reach out to IPython and tell the keyboard manager to turn it's self\n    // off when our div gets focus\n\n    // location in version 3\n    if (IPython.notebook.keyboard_manager) {\n        IPython.notebook.keyboard_manager.register_events(el);\n    } else {\n        // location in version 2\n        IPython.keyboard_manager.register_events(el);\n    }\n};\n\nmpl.figure.prototype._key_event_extra = function (event, _name) {\n    var manager = IPython.notebook.keyboard_manager;\n    if (!manager) {\n        manager = IPython.keyboard_manager;\n    }\n\n    // Check for shift+enter\n    if (event.shiftKey && event.which === 13) {\n        this.canvas_div.blur();\n        // select the cell after this one\n        var index = IPython.notebook.find_cell_index(this.cell_info[0]);\n        IPython.notebook.select(index + 1);\n    }\n};\n\nmpl.figure.prototype.handle_save = function (fig, _msg) {\n    fig.ondownload(fig, null);\n};\n\nmpl.find_output_cell = function (html_output) {\n    // Return the cell and output element which can be found *uniquely* in the notebook.\n    // Note - this is a bit hacky, but it is done because the \"notebook_saving.Notebook\"\n    // IPython event is triggered only after the cells have been serialised, which for\n    // our purposes (turning an active figure into a static one), is too late.\n    var cells = IPython.notebook.get_cells();\n    var ncells = cells.length;\n    for (var i = 0; i < ncells; i++) {\n        var cell = cells[i];\n        if (cell.cell_type === 'code') {\n            for (var j = 0; j < cell.output_area.outputs.length; j++) {\n                var data = cell.output_area.outputs[j];\n                if (data.data) {\n                    // IPython >= 3 moved mimebundle to data attribute of output\n                    data = data.data;\n                }\n                if (data['text/html'] === html_output) {\n                    return [cell, data, j];\n                }\n            }\n        }\n    }\n};\n\n// Register the function which deals with the matplotlib target/channel.\n// The kernel may be null if the page has been refreshed.\nif (IPython.notebook.kernel !== null) {\n    IPython.notebook.kernel.comm_manager.register_target(\n        'matplotlib',\n        mpl.mpl_figure_comm\n    );\n}\n"
     },
     "metadata": {}
    },
    {
     "output_type": "display_data",
     "data": {
      "text/plain": [
       "<IPython.core.display.HTML object>"
      ],
      "text/html": [
       "<img src=\"data:image/png;base64,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\" width=\"640\">"
      ]
     },
     "metadata": {}
    }
   ],
   "metadata": {}
  },
  {
   "cell_type": "markdown",
   "source": [
    "Seems like the errors in the validation set are around 7px (they were 3px w/ AE)"
   ],
   "metadata": {}
  },
  {
   "cell_type": "code",
   "execution_count": 59,
   "source": [
    "errors = np.abs(valx_pred_vae-valx).reshape((-1, 19, 3))\n",
    "np.mean(errors, axis=(0,1))"
   ],
   "outputs": [
    {
     "output_type": "execute_result",
     "data": {
      "text/plain": [
       "array([7.948758, 7.543772, 7.229991], dtype=float32)"
      ]
     },
     "metadata": {},
     "execution_count": 59
    }
   ],
   "metadata": {}
  },
  {
   "cell_type": "markdown",
   "source": [
    "The latent layer values can be obtained using the VAE 'encoder' sub-model. "
   ],
   "metadata": {}
  },
  {
   "cell_type": "code",
   "execution_count": 60,
   "source": [
    "z_mean, z_log_var, z = vae.encoder.predict(alleh5s_clean.reshape((-1, 57)), verbose=1)"
   ],
   "outputs": [
    {
     "output_type": "stream",
     "name": "stdout",
     "text": [
      "7708/7708 [==============================] - 8s 1ms/step\n"
     ]
    }
   ],
   "metadata": {}
  },
  {
   "cell_type": "code",
   "execution_count": 61,
   "source": [
    "print(z_mean.shape, z_log_var.shape, z.shape)"
   ],
   "outputs": [
    {
     "output_type": "stream",
     "name": "stdout",
     "text": [
      "(246652, 8) (246652, 8) (246652, 8)\n"
     ]
    }
   ],
   "metadata": {}
  },
  {
   "cell_type": "code",
   "execution_count": null,
   "source": [],
   "outputs": [],
   "metadata": {}
  }
 ],
 "metadata": {
  "interpreter": {
   "hash": "8de543a527d38bc21d309dfa8a60aed366b41867ed03b1c23b526625b89003b8"
  },
  "kernelspec": {
   "display_name": "Python 3",
   "language": "python",
   "name": "python3"
  },
  "language_info": {
   "codemirror_mode": {
    "name": "ipython",
    "version": 3
   },
   "file_extension": ".py",
   "mimetype": "text/x-python",
   "name": "python",
   "nbconvert_exporter": "python",
   "pygments_lexer": "ipython3",
   "version": "3.8.5"
  },
  "widgets": {
   "application/vnd.jupyter.widget-state+json": {
    "state": {
     "00bbf1c019ca42609bac652c8f97cd60": {
      "model_module": "jupyter-matplotlib",
      "model_module_version": "^0.9.0",
      "model_name": "MPLCanvasModel",
      "state": {
       "_cursor": "default",
       "_figure_label": "Figure 28",
       "_height": 360,
       "_width": 864,
       "layout": "IPY_MODEL_6707f1d85e2a465898e14b78896410bc",
       "toolbar": "IPY_MODEL_95ca2244a1b74449af753307a2aca747",
       "toolbar_position": "left"
      }
     },
     "00d95c317dc44e12a46830c8ef6bfb0c": {
      "model_module": "jupyter-matplotlib",
      "model_module_version": "^0.9.0",
      "model_name": "MPLCanvasModel",
      "state": {
       "_cursor": "default",
       "_figure_label": "Figure 27",
       "_height": 360,
       "_width": 864,
       "layout": "IPY_MODEL_e097ecdc2f124f7fb9e72fe25a0fe335",
       "toolbar": "IPY_MODEL_6793b12e78d64e3a9c67da8b190eb005",
       "toolbar_position": "left"
      }
     },
     "012f2d62823943339ec0f78305bb741e": {
      "model_module": "jupyter-matplotlib",
      "model_module_version": "^0.9.0",
      "model_name": "MPLCanvasModel",
      "state": {
       "_cursor": "default",
       "_figure_label": "Figure 23",
       "_height": 576,
       "_width": 864,
       "layout": "IPY_MODEL_f35e4eece78d4acdab08653956b7d94e",
       "toolbar": "IPY_MODEL_43068f96e6524570be1f03edb750f9c2",
       "toolbar_position": "left"
      }
     },
     "028b51637e114cde9e10cc4dac82d0b8": {
      "model_module": "@jupyter-widgets/base",
      "model_module_version": "1.2.0",
      "model_name": "LayoutModel",
      "state": {}
     },
     "047998e74baf43d7b15c076be50d7a3d": {
      "model_module": "jupyter-matplotlib",
      "model_module_version": "^0.9.0",
      "model_name": "ToolbarModel",
      "state": {
       "layout": "IPY_MODEL_d8fc6dcc0f7c406f887dcb7f86f6d0e7",
       "toolitems": [
        [
         "Home",
         "Reset original view",
         "home",
         "home"
        ],
        [
         "Back",
         "Back to previous view",
         "arrow-left",
         "back"
        ],
        [
         "Forward",
         "Forward to next view",
         "arrow-right",
         "forward"
        ],
        [
         "Pan",
         "Left button pans, Right button zooms\nx/y fixes axis, CTRL fixes aspect",
         "arrows",
         "pan"
        ],
        [
         "Zoom",
         "Zoom to rectangle\nx/y fixes axis, CTRL fixes aspect",
         "square-o",
         "zoom"
        ],
        [
         "Download",
         "Download plot",
         "floppy-o",
         "save_figure"
        ]
       ]
      }
     },
     "04adf30c07564078a833b77faeb2d6d1": {
      "model_module": "jupyter-matplotlib",
      "model_module_version": "^0.9.0",
      "model_name": "MPLCanvasModel",
      "state": {
       "_cursor": "default",
       "_figure_label": "Figure 30",
       "_height": 360,
       "_width": 864,
       "layout": "IPY_MODEL_3c8a5ae87f204c548fdc715a84c5d310",
       "toolbar": "IPY_MODEL_d20fce5322724c7e8e058e639e934821",
       "toolbar_position": "left"
      }
     },
     "093fbacb462b43d2a09705537dd61d2c": {
      "model_module": "jupyter-matplotlib",
      "model_module_version": "^0.9.0",
      "model_name": "MPLCanvasModel",
      "state": {
       "_cursor": "default",
       "_figure_label": "Figure 35",
       "_height": 720,
       "_width": 1152,
       "layout": "IPY_MODEL_327b6e6819524b49bf54336fa620ca3f",
       "toolbar": "IPY_MODEL_9b864356a3574131a2716d0626c670dc",
       "toolbar_position": "left"
      }
     },
     "0a4c09debcbb4bba90b8ccc92c0d15d4": {
      "model_module": "jupyter-matplotlib",
      "model_module_version": "^0.9.0",
      "model_name": "MPLCanvasModel",
      "state": {
       "_cursor": "default",
       "_figure_label": "Figure 24",
       "_height": 360,
       "_width": 864,
       "layout": "IPY_MODEL_cf16c1d40d00420c8a09c2dcf71d36de",
       "toolbar": "IPY_MODEL_326819bbfc654a58abbe44657b35bde8",
       "toolbar_position": "left"
      }
     },
     "0e7cf29d51b74363917cf16d2ab8fdc4": {
      "model_module": "jupyter-matplotlib",
      "model_module_version": "^0.9.0",
      "model_name": "MPLCanvasModel",
      "state": {
       "_cursor": "default",
       "_figure_label": "Figure 10",
       "_height": 288,
       "_message": "zoom rect",
       "_rubberband_y": 288,
       "_width": 432,
       "layout": "IPY_MODEL_eb11ad77b7fa40e7970bc426be9a549c",
       "toolbar": "IPY_MODEL_e88eed40b43e4ad6805ca2c9883c89c1",
       "toolbar_position": "left"
      }
     },
     "0f8d43223e514f4cb79dd8f614815106": {
      "model_module": "@jupyter-widgets/base",
      "model_module_version": "1.2.0",
      "model_name": "LayoutModel",
      "state": {}
     },
     "18279ee26771462aab820dce54e943d2": {
      "model_module": "@jupyter-widgets/base",
      "model_module_version": "1.2.0",
      "model_name": "LayoutModel",
      "state": {}
     },
     "19b8620948ea49de9b6bcc79265fd0ce": {
      "model_module": "jupyter-matplotlib",
      "model_module_version": "^0.9.0",
      "model_name": "ToolbarModel",
      "state": {
       "layout": "IPY_MODEL_ae6d2d6e0a0a4fd390df78ce17623c58",
       "toolitems": [
        [
         "Home",
         "Reset original view",
         "home",
         "home"
        ],
        [
         "Back",
         "Back to previous view",
         "arrow-left",
         "back"
        ],
        [
         "Forward",
         "Forward to next view",
         "arrow-right",
         "forward"
        ],
        [
         "Pan",
         "Left button pans, Right button zooms\nx/y fixes axis, CTRL fixes aspect",
         "arrows",
         "pan"
        ],
        [
         "Zoom",
         "Zoom to rectangle\nx/y fixes axis, CTRL fixes aspect",
         "square-o",
         "zoom"
        ],
        [
         "Download",
         "Download plot",
         "floppy-o",
         "save_figure"
        ]
       ]
      }
     },
     "1b14cc4c0a6c4f8d96c92ed8f9e1ea4b": {
      "model_module": "jupyter-matplotlib",
      "model_module_version": "^0.9.0",
      "model_name": "MPLCanvasModel",
      "state": {
       "_cursor": "default",
       "_figure_label": "Figure 21",
       "_height": 288,
       "_message": "x=0.308 y=0.654",
       "_width": 432,
       "layout": "IPY_MODEL_a89bd88bfc6542068d7a9055ad27b98f",
       "toolbar": "IPY_MODEL_7130b43f76144155aa9d0b8389453def",
       "toolbar_position": "left"
      }
     },
     "1eec482b89e6453c882ba6185ed39789": {
      "model_module": "jupyter-matplotlib",
      "model_module_version": "^0.9.0",
      "model_name": "MPLCanvasModel",
      "state": {
       "_cursor": "default",
       "_figure_label": "Figure 6",
       "_height": 288,
       "_message": "zoom rect",
       "_rubberband_y": 288,
       "_width": 432,
       "layout": "IPY_MODEL_2735adec02da474bbca9239b026b72d4",
       "toolbar": "IPY_MODEL_8e9a6cec2ae64f4abf0391c8d4b204fc",
       "toolbar_position": "left"
      }
     },
     "1efe2471f84d4cd49867372cdd1e0f0e": {
      "model_module": "jupyter-matplotlib",
      "model_module_version": "^0.9.0",
      "model_name": "ToolbarModel",
      "state": {
       "_current_action": "zoom",
       "layout": "IPY_MODEL_2331b278196f41fcbc6b94cf47e11e66",
       "toolitems": [
        [
         "Home",
         "Reset original view",
         "home",
         "home"
        ],
        [
         "Back",
         "Back to previous view",
         "arrow-left",
         "back"
        ],
        [
         "Forward",
         "Forward to next view",
         "arrow-right",
         "forward"
        ],
        [
         "Pan",
         "Left button pans, Right button zooms\nx/y fixes axis, CTRL fixes aspect",
         "arrows",
         "pan"
        ],
        [
         "Zoom",
         "Zoom to rectangle\nx/y fixes axis, CTRL fixes aspect",
         "square-o",
         "zoom"
        ],
        [
         "Download",
         "Download plot",
         "floppy-o",
         "save_figure"
        ]
       ]
      }
     },
     "20c35d984ee94bdfa5cfd47361cadf04": {
      "model_module": "@jupyter-widgets/base",
      "model_module_version": "1.2.0",
      "model_name": "LayoutModel",
      "state": {}
     },
     "21c1f651737f4e51af468b925bff9da4": {
      "model_module": "jupyter-matplotlib",
      "model_module_version": "^0.9.0",
      "model_name": "ToolbarModel",
      "state": {
       "layout": "IPY_MODEL_804f55611012493b80eee291fcf326af",
       "toolitems": [
        [
         "Home",
         "Reset original view",
         "home",
         "home"
        ],
        [
         "Back",
         "Back to previous view",
         "arrow-left",
         "back"
        ],
        [
         "Forward",
         "Forward to next view",
         "arrow-right",
         "forward"
        ],
        [
         "Pan",
         "Left button pans, Right button zooms\nx/y fixes axis, CTRL fixes aspect",
         "arrows",
         "pan"
        ],
        [
         "Zoom",
         "Zoom to rectangle\nx/y fixes axis, CTRL fixes aspect",
         "square-o",
         "zoom"
        ],
        [
         "Download",
         "Download plot",
         "floppy-o",
         "save_figure"
        ]
       ]
      }
     },
     "21fe9bd6afc3426cafeba34b19de0687": {
      "model_module": "jupyter-matplotlib",
      "model_module_version": "^0.9.0",
      "model_name": "ToolbarModel",
      "state": {
       "layout": "IPY_MODEL_18279ee26771462aab820dce54e943d2",
       "toolitems": [
        [
         "Home",
         "Reset original view",
         "home",
         "home"
        ],
        [
         "Back",
         "Back to previous view",
         "arrow-left",
         "back"
        ],
        [
         "Forward",
         "Forward to next view",
         "arrow-right",
         "forward"
        ],
        [
         "Pan",
         "Left button pans, Right button zooms\nx/y fixes axis, CTRL fixes aspect",
         "arrows",
         "pan"
        ],
        [
         "Zoom",
         "Zoom to rectangle\nx/y fixes axis, CTRL fixes aspect",
         "square-o",
         "zoom"
        ],
        [
         "Download",
         "Download plot",
         "floppy-o",
         "save_figure"
        ]
       ]
      }
     },
     "2331b278196f41fcbc6b94cf47e11e66": {
      "model_module": "@jupyter-widgets/base",
      "model_module_version": "1.2.0",
      "model_name": "LayoutModel",
      "state": {}
     },
     "26b530c4a09c462c8322b5eba1666e9c": {
      "model_module": "jupyter-matplotlib",
      "model_module_version": "^0.9.0",
      "model_name": "ToolbarModel",
      "state": {
       "layout": "IPY_MODEL_c9af6d7d481442eea7ffb32c937c31e8",
       "toolitems": [
        [
         "Home",
         "Reset original view",
         "home",
         "home"
        ],
        [
         "Back",
         "Back to previous view",
         "arrow-left",
         "back"
        ],
        [
         "Forward",
         "Forward to next view",
         "arrow-right",
         "forward"
        ],
        [
         "Pan",
         "Left button pans, Right button zooms\nx/y fixes axis, CTRL fixes aspect",
         "arrows",
         "pan"
        ],
        [
         "Zoom",
         "Zoom to rectangle\nx/y fixes axis, CTRL fixes aspect",
         "square-o",
         "zoom"
        ],
        [
         "Download",
         "Download plot",
         "floppy-o",
         "save_figure"
        ]
       ]
      }
     },
     "272e7a3eafdf415fa4b6119098d537bd": {
      "model_module": "jupyter-matplotlib",
      "model_module_version": "^0.9.0",
      "model_name": "ToolbarModel",
      "state": {
       "layout": "IPY_MODEL_d0cdfa46a90948f8a1cb40198ca8986a",
       "toolitems": [
        [
         "Home",
         "Reset original view",
         "home",
         "home"
        ],
        [
         "Back",
         "Back to previous view",
         "arrow-left",
         "back"
        ],
        [
         "Forward",
         "Forward to next view",
         "arrow-right",
         "forward"
        ],
        [
         "Pan",
         "Left button pans, Right button zooms\nx/y fixes axis, CTRL fixes aspect",
         "arrows",
         "pan"
        ],
        [
         "Zoom",
         "Zoom to rectangle\nx/y fixes axis, CTRL fixes aspect",
         "square-o",
         "zoom"
        ],
        [
         "Download",
         "Download plot",
         "floppy-o",
         "save_figure"
        ]
       ]
      }
     },
     "2735adec02da474bbca9239b026b72d4": {
      "model_module": "@jupyter-widgets/base",
      "model_module_version": "1.2.0",
      "model_name": "LayoutModel",
      "state": {}
     },
     "29442134e00942978bfbb394ca6845bc": {
      "model_module": "jupyter-matplotlib",
      "model_module_version": "^0.9.0",
      "model_name": "MPLCanvasModel",
      "state": {
       "_cursor": "default",
       "_figure_label": "Figure 4",
       "_height": 288,
       "_width": 432,
       "layout": "IPY_MODEL_89fdcb2bcf284e6db96968eddd77af64",
       "toolbar": "IPY_MODEL_cefe2cae434a430aa454bfa1eeabf239",
       "toolbar_position": "left"
      }
     },
     "29c16af36d834485857ca16f914aa4d0": {
      "model_module": "jupyter-matplotlib",
      "model_module_version": "^0.9.0",
      "model_name": "MPLCanvasModel",
      "state": {
       "_cursor": "default",
       "_figure_label": "Figure 34",
       "_height": 720,
       "_width": 1080,
       "layout": "IPY_MODEL_5fe3c06fee4346feb38cf3dcc5cad343",
       "toolbar": "IPY_MODEL_e22c1da0fb4542268dd38be350e65a64",
       "toolbar_position": "left"
      }
     },
     "2c922ea7cda140b787a994ba5c6ed896": {
      "model_module": "jupyter-matplotlib",
      "model_module_version": "^0.9.0",
      "model_name": "ToolbarModel",
      "state": {
       "layout": "IPY_MODEL_028b51637e114cde9e10cc4dac82d0b8",
       "toolitems": [
        [
         "Home",
         "Reset original view",
         "home",
         "home"
        ],
        [
         "Back",
         "Back to previous view",
         "arrow-left",
         "back"
        ],
        [
         "Forward",
         "Forward to next view",
         "arrow-right",
         "forward"
        ],
        [
         "Pan",
         "Left button pans, Right button zooms\nx/y fixes axis, CTRL fixes aspect",
         "arrows",
         "pan"
        ],
        [
         "Zoom",
         "Zoom to rectangle\nx/y fixes axis, CTRL fixes aspect",
         "square-o",
         "zoom"
        ],
        [
         "Download",
         "Download plot",
         "floppy-o",
         "save_figure"
        ]
       ]
      }
     },
     "2dd899936fc14fa6aaa905e3c6aa9448": {
      "model_module": "@jupyter-widgets/base",
      "model_module_version": "1.2.0",
      "model_name": "LayoutModel",
      "state": {}
     },
     "2f862d75ba2741dc8afc79d724adcfde": {
      "model_module": "jupyter-matplotlib",
      "model_module_version": "^0.9.0",
      "model_name": "MPLCanvasModel",
      "state": {
       "_cursor": "default",
       "_figure_label": "Figure 1",
       "_height": 288,
       "_message": "x=−10.1 y=12.8",
       "_width": 432,
       "layout": "IPY_MODEL_d8b3ab7df5cc440790c10abadef88e31",
       "toolbar": "IPY_MODEL_525a19feaa7a4de9961551797036e83d",
       "toolbar_position": "left"
      }
     },
     "310bbccebef64675823465544185affe": {
      "model_module": "jupyter-matplotlib",
      "model_module_version": "^0.9.0",
      "model_name": "MPLCanvasModel",
      "state": {
       "_cursor": "default",
       "_figure_label": "Figure 26",
       "_height": 360,
       "_width": 864,
       "layout": "IPY_MODEL_a445c832b0cf45dca42a98cfdc4183fb",
       "toolbar": "IPY_MODEL_26b530c4a09c462c8322b5eba1666e9c",
       "toolbar_position": "left"
      }
     },
     "315407326d5d481e8fd571eaab0b8ff3": {
      "model_module": "@jupyter-widgets/base",
      "model_module_version": "1.2.0",
      "model_name": "LayoutModel",
      "state": {}
     },
     "326819bbfc654a58abbe44657b35bde8": {
      "model_module": "jupyter-matplotlib",
      "model_module_version": "^0.9.0",
      "model_name": "ToolbarModel",
      "state": {
       "layout": "IPY_MODEL_20c35d984ee94bdfa5cfd47361cadf04",
       "toolitems": [
        [
         "Home",
         "Reset original view",
         "home",
         "home"
        ],
        [
         "Back",
         "Back to previous view",
         "arrow-left",
         "back"
        ],
        [
         "Forward",
         "Forward to next view",
         "arrow-right",
         "forward"
        ],
        [
         "Pan",
         "Left button pans, Right button zooms\nx/y fixes axis, CTRL fixes aspect",
         "arrows",
         "pan"
        ],
        [
         "Zoom",
         "Zoom to rectangle\nx/y fixes axis, CTRL fixes aspect",
         "square-o",
         "zoom"
        ],
        [
         "Download",
         "Download plot",
         "floppy-o",
         "save_figure"
        ]
       ]
      }
     },
     "3272976e6eb34a5d834afa11b4f96a8c": {
      "model_module": "@jupyter-widgets/base",
      "model_module_version": "1.2.0",
      "model_name": "LayoutModel",
      "state": {}
     },
     "327b6e6819524b49bf54336fa620ca3f": {
      "model_module": "@jupyter-widgets/base",
      "model_module_version": "1.2.0",
      "model_name": "LayoutModel",
      "state": {}
     },
     "39a8574fec1941e2b374db88eed10fcc": {
      "model_module": "@jupyter-widgets/base",
      "model_module_version": "1.2.0",
      "model_name": "LayoutModel",
      "state": {}
     },
     "3b56711557d541f490caae31fa4f6ba6": {
      "model_module": "jupyter-matplotlib",
      "model_module_version": "^0.9.0",
      "model_name": "ToolbarModel",
      "state": {
       "layout": "IPY_MODEL_b34db8c9336340c59d259a5b89f748f8",
       "toolitems": [
        [
         "Home",
         "Reset original view",
         "home",
         "home"
        ],
        [
         "Back",
         "Back to previous view",
         "arrow-left",
         "back"
        ],
        [
         "Forward",
         "Forward to next view",
         "arrow-right",
         "forward"
        ],
        [
         "Pan",
         "Left button pans, Right button zooms\nx/y fixes axis, CTRL fixes aspect",
         "arrows",
         "pan"
        ],
        [
         "Zoom",
         "Zoom to rectangle\nx/y fixes axis, CTRL fixes aspect",
         "square-o",
         "zoom"
        ],
        [
         "Download",
         "Download plot",
         "floppy-o",
         "save_figure"
        ]
       ]
      }
     },
     "3c8a5ae87f204c548fdc715a84c5d310": {
      "model_module": "@jupyter-widgets/base",
      "model_module_version": "1.2.0",
      "model_name": "LayoutModel",
      "state": {}
     },
     "3f3367c83c6a4ac0ae8c8cc23cbd9835": {
      "model_module": "jupyter-matplotlib",
      "model_module_version": "^0.9.0",
      "model_name": "ToolbarModel",
      "state": {
       "layout": "IPY_MODEL_0f8d43223e514f4cb79dd8f614815106",
       "toolitems": [
        [
         "Home",
         "Reset original view",
         "home",
         "home"
        ],
        [
         "Back",
         "Back to previous view",
         "arrow-left",
         "back"
        ],
        [
         "Forward",
         "Forward to next view",
         "arrow-right",
         "forward"
        ],
        [
         "Pan",
         "Left button pans, Right button zooms\nx/y fixes axis, CTRL fixes aspect",
         "arrows",
         "pan"
        ],
        [
         "Zoom",
         "Zoom to rectangle\nx/y fixes axis, CTRL fixes aspect",
         "square-o",
         "zoom"
        ],
        [
         "Download",
         "Download plot",
         "floppy-o",
         "save_figure"
        ]
       ]
      }
     },
     "43068f96e6524570be1f03edb750f9c2": {
      "model_module": "jupyter-matplotlib",
      "model_module_version": "^0.9.0",
      "model_name": "ToolbarModel",
      "state": {
       "layout": "IPY_MODEL_39a8574fec1941e2b374db88eed10fcc",
       "toolitems": [
        [
         "Home",
         "Reset original view",
         "home",
         "home"
        ],
        [
         "Back",
         "Back to previous view",
         "arrow-left",
         "back"
        ],
        [
         "Forward",
         "Forward to next view",
         "arrow-right",
         "forward"
        ],
        [
         "Pan",
         "Left button pans, Right button zooms\nx/y fixes axis, CTRL fixes aspect",
         "arrows",
         "pan"
        ],
        [
         "Zoom",
         "Zoom to rectangle\nx/y fixes axis, CTRL fixes aspect",
         "square-o",
         "zoom"
        ],
        [
         "Download",
         "Download plot",
         "floppy-o",
         "save_figure"
        ]
       ]
      }
     },
     "435290932a344054ba917d6582297d35": {
      "model_module": "jupyter-matplotlib",
      "model_module_version": "^0.9.0",
      "model_name": "ToolbarModel",
      "state": {
       "layout": "IPY_MODEL_d09e061dfab141bb88989469e179777b",
       "toolitems": [
        [
         "Home",
         "Reset original view",
         "home",
         "home"
        ],
        [
         "Back",
         "Back to previous view",
         "arrow-left",
         "back"
        ],
        [
         "Forward",
         "Forward to next view",
         "arrow-right",
         "forward"
        ],
        [
         "Pan",
         "Left button pans, Right button zooms\nx/y fixes axis, CTRL fixes aspect",
         "arrows",
         "pan"
        ],
        [
         "Zoom",
         "Zoom to rectangle\nx/y fixes axis, CTRL fixes aspect",
         "square-o",
         "zoom"
        ],
        [
         "Download",
         "Download plot",
         "floppy-o",
         "save_figure"
        ]
       ]
      }
     },
     "4365d4a46e7344e998390cae4ad68974": {
      "model_module": "@jupyter-widgets/base",
      "model_module_version": "1.2.0",
      "model_name": "LayoutModel",
      "state": {}
     },
     "46974c2189194eb391670f529e2691d5": {
      "model_module": "@jupyter-widgets/base",
      "model_module_version": "1.2.0",
      "model_name": "LayoutModel",
      "state": {}
     },
     "4831d029e5a54ac0ab5cc2ada60661ac": {
      "model_module": "@jupyter-widgets/base",
      "model_module_version": "1.2.0",
      "model_name": "LayoutModel",
      "state": {}
     },
     "4b877fa727db4d12876ac6ccd9925d33": {
      "model_module": "jupyter-matplotlib",
      "model_module_version": "^0.9.0",
      "model_name": "MPLCanvasModel",
      "state": {
       "_cursor": "default",
       "_figure_label": "Figure 16",
       "_height": 288,
       "_message": "x=61.8 y=−12.9",
       "_width": 432,
       "layout": "IPY_MODEL_f0235d240f3a4d69bd2949e09bcb660d",
       "toolbar": "IPY_MODEL_d0baa7d542d84800a15409b96e6cae1d",
       "toolbar_position": "left"
      }
     },
     "4c1d4323cb7044739119c3dc74f1274e": {
      "model_module": "jupyter-matplotlib",
      "model_module_version": "^0.9.0",
      "model_name": "MPLCanvasModel",
      "state": {
       "_cursor": "default",
       "_figure_label": "Figure 7",
       "_height": 288,
       "_width": 432,
       "layout": "IPY_MODEL_c8a56412795845de806a89f1c7b28849",
       "toolbar": "IPY_MODEL_21c1f651737f4e51af468b925bff9da4",
       "toolbar_position": "left"
      }
     },
     "4e155759eb8645a3a64d9292d19a67ce": {
      "model_module": "@jupyter-widgets/base",
      "model_module_version": "1.2.0",
      "model_name": "LayoutModel",
      "state": {}
     },
     "4e3f1792ddb049f0b1022b5609550661": {
      "model_module": "jupyter-matplotlib",
      "model_module_version": "^0.9.0",
      "model_name": "ToolbarModel",
      "state": {
       "layout": "IPY_MODEL_4365d4a46e7344e998390cae4ad68974",
       "toolitems": [
        [
         "Home",
         "Reset original view",
         "home",
         "home"
        ],
        [
         "Back",
         "Back to previous view",
         "arrow-left",
         "back"
        ],
        [
         "Forward",
         "Forward to next view",
         "arrow-right",
         "forward"
        ],
        [
         "Pan",
         "Left button pans, Right button zooms\nx/y fixes axis, CTRL fixes aspect",
         "arrows",
         "pan"
        ],
        [
         "Zoom",
         "Zoom to rectangle\nx/y fixes axis, CTRL fixes aspect",
         "square-o",
         "zoom"
        ],
        [
         "Download",
         "Download plot",
         "floppy-o",
         "save_figure"
        ]
       ]
      }
     },
     "4ec248476f474e7993b635edb74d0a7d": {
      "model_module": "jupyter-matplotlib",
      "model_module_version": "^0.9.0",
      "model_name": "MPLCanvasModel",
      "state": {
       "_cursor": "default",
       "_figure_label": "Figure 31",
       "_height": 360,
       "_width": 864,
       "layout": "IPY_MODEL_5262ee21e6004f6f8a3c9a3fb76c170a",
       "toolbar": "IPY_MODEL_a8a70c3982e044188b66c911fa2b16ef",
       "toolbar_position": "left"
      }
     },
     "525a19feaa7a4de9961551797036e83d": {
      "model_module": "jupyter-matplotlib",
      "model_module_version": "^0.9.0",
      "model_name": "ToolbarModel",
      "state": {
       "layout": "IPY_MODEL_ec8dc6921a394ff19033454930592693",
       "toolitems": [
        [
         "Home",
         "Reset original view",
         "home",
         "home"
        ],
        [
         "Back",
         "Back to previous view",
         "arrow-left",
         "back"
        ],
        [
         "Forward",
         "Forward to next view",
         "arrow-right",
         "forward"
        ],
        [
         "Pan",
         "Left button pans, Right button zooms\nx/y fixes axis, CTRL fixes aspect",
         "arrows",
         "pan"
        ],
        [
         "Zoom",
         "Zoom to rectangle\nx/y fixes axis, CTRL fixes aspect",
         "square-o",
         "zoom"
        ],
        [
         "Download",
         "Download plot",
         "floppy-o",
         "save_figure"
        ]
       ]
      }
     },
     "5262ee21e6004f6f8a3c9a3fb76c170a": {
      "model_module": "@jupyter-widgets/base",
      "model_module_version": "1.2.0",
      "model_name": "LayoutModel",
      "state": {}
     },
     "5305dee3f39b402aa349dd1b4810eb75": {
      "model_module": "@jupyter-widgets/base",
      "model_module_version": "1.2.0",
      "model_name": "LayoutModel",
      "state": {}
     },
     "531434c46ad849bf8f26d043be171ad1": {
      "model_module": "@jupyter-widgets/base",
      "model_module_version": "1.2.0",
      "model_name": "LayoutModel",
      "state": {}
     },
     "5417d285f0e842e0bd3da99349437de0": {
      "model_module": "jupyter-matplotlib",
      "model_module_version": "^0.9.0",
      "model_name": "MPLCanvasModel",
      "state": {
       "_cursor": "default",
       "_figure_label": "Figure 22",
       "_height": 288,
       "_width": 432,
       "layout": "IPY_MODEL_851b4b598a75481e889153fd84d27a23",
       "toolbar": "IPY_MODEL_435290932a344054ba917d6582297d35",
       "toolbar_position": "left"
      }
     },
     "5780cb42ba8a451cb7f2893378f66d37": {
      "model_module": "jupyter-matplotlib",
      "model_module_version": "^0.9.0",
      "model_name": "ToolbarModel",
      "state": {
       "layout": "IPY_MODEL_d67776e54a1840f99aab14a7f90f36b1",
       "toolitems": [
        [
         "Home",
         "Reset original view",
         "home",
         "home"
        ],
        [
         "Back",
         "Back to previous view",
         "arrow-left",
         "back"
        ],
        [
         "Forward",
         "Forward to next view",
         "arrow-right",
         "forward"
        ],
        [
         "Pan",
         "Left button pans, Right button zooms\nx/y fixes axis, CTRL fixes aspect",
         "arrows",
         "pan"
        ],
        [
         "Zoom",
         "Zoom to rectangle\nx/y fixes axis, CTRL fixes aspect",
         "square-o",
         "zoom"
        ],
        [
         "Download",
         "Download plot",
         "floppy-o",
         "save_figure"
        ]
       ]
      }
     },
     "58069f4780694b40b147295b88a1d1c1": {
      "model_module": "jupyter-matplotlib",
      "model_module_version": "^0.9.0",
      "model_name": "MPLCanvasModel",
      "state": {
       "_cursor": "default",
       "_figure_label": "Figure 5",
       "_height": 288,
       "_width": 432,
       "layout": "IPY_MODEL_87f2a28fa53d4a959f7c192553476e1e",
       "toolbar": "IPY_MODEL_8f4aa161f6ee4f0a8d3e9fbbf8ac54b4",
       "toolbar_position": "left"
      }
     },
     "5864b77cee28467d837d0d3fd9a43dcc": {
      "model_module": "@jupyter-widgets/base",
      "model_module_version": "1.2.0",
      "model_name": "LayoutModel",
      "state": {}
     },
     "5a50d3f4ab944891902a7c6569f25c6d": {
      "model_module": "jupyter-matplotlib",
      "model_module_version": "^0.9.0",
      "model_name": "ToolbarModel",
      "state": {
       "layout": "IPY_MODEL_d4b3cd89b23c45df9b6a6d378266e505",
       "toolitems": [
        [
         "Home",
         "Reset original view",
         "home",
         "home"
        ],
        [
         "Back",
         "Back to previous view",
         "arrow-left",
         "back"
        ],
        [
         "Forward",
         "Forward to next view",
         "arrow-right",
         "forward"
        ],
        [
         "Pan",
         "Left button pans, Right button zooms\nx/y fixes axis, CTRL fixes aspect",
         "arrows",
         "pan"
        ],
        [
         "Zoom",
         "Zoom to rectangle\nx/y fixes axis, CTRL fixes aspect",
         "square-o",
         "zoom"
        ],
        [
         "Download",
         "Download plot",
         "floppy-o",
         "save_figure"
        ]
       ]
      }
     },
     "5e11602be30a4e50a7f4ca0ab29d96e6": {
      "model_module": "jupyter-matplotlib",
      "model_module_version": "^0.9.0",
      "model_name": "MPLCanvasModel",
      "state": {
       "_cursor": "default",
       "_figure_label": "Figure 19",
       "_height": 288,
       "_width": 432,
       "layout": "IPY_MODEL_f386514c9b944879b45ed2dfa6c3f303",
       "toolbar": "IPY_MODEL_962d82e11d5641c99e9418d0105af9c3",
       "toolbar_position": "left"
      }
     },
     "5e5a999fd7614986907a03fe3dfe6661": {
      "model_module": "jupyter-matplotlib",
      "model_module_version": "^0.9.0",
      "model_name": "MPLCanvasModel",
      "state": {
       "_cursor": "default",
       "_figure_label": "Figure 29",
       "_height": 360,
       "_width": 864,
       "layout": "IPY_MODEL_4831d029e5a54ac0ab5cc2ada60661ac",
       "toolbar": "IPY_MODEL_86b51e441892433682e252f38582c138",
       "toolbar_position": "left"
      }
     },
     "5e6a846f7c7c46588bbebfec54d2dc9e": {
      "model_module": "@jupyter-widgets/base",
      "model_module_version": "1.2.0",
      "model_name": "LayoutModel",
      "state": {}
     },
     "5e823fad52a741bfabb65d7139bfe0cf": {
      "model_module": "jupyter-matplotlib",
      "model_module_version": "^0.9.0",
      "model_name": "MPLCanvasModel",
      "state": {
       "_cursor": "default",
       "_figure_label": "Figure 41",
       "_height": 288,
       "_width": 432,
       "layout": "IPY_MODEL_ea884a39217249d4aa28a36372473fe3",
       "toolbar": "IPY_MODEL_7c3e17cc862b40a69de370f11dd51a54",
       "toolbar_position": "left"
      }
     },
     "5fe3c06fee4346feb38cf3dcc5cad343": {
      "model_module": "@jupyter-widgets/base",
      "model_module_version": "1.2.0",
      "model_name": "LayoutModel",
      "state": {}
     },
     "6532e3dd99f04c04bd785692b7037fc9": {
      "model_module": "@jupyter-widgets/base",
      "model_module_version": "1.2.0",
      "model_name": "LayoutModel",
      "state": {}
     },
     "66e786c1321244e9b0f852739d125fb2": {
      "model_module": "@jupyter-widgets/base",
      "model_module_version": "1.2.0",
      "model_name": "LayoutModel",
      "state": {}
     },
     "6707f1d85e2a465898e14b78896410bc": {
      "model_module": "@jupyter-widgets/base",
      "model_module_version": "1.2.0",
      "model_name": "LayoutModel",
      "state": {}
     },
     "6793b12e78d64e3a9c67da8b190eb005": {
      "model_module": "jupyter-matplotlib",
      "model_module_version": "^0.9.0",
      "model_name": "ToolbarModel",
      "state": {
       "layout": "IPY_MODEL_d822b46d450a4325806075dc74ff87d9",
       "toolitems": [
        [
         "Home",
         "Reset original view",
         "home",
         "home"
        ],
        [
         "Back",
         "Back to previous view",
         "arrow-left",
         "back"
        ],
        [
         "Forward",
         "Forward to next view",
         "arrow-right",
         "forward"
        ],
        [
         "Pan",
         "Left button pans, Right button zooms\nx/y fixes axis, CTRL fixes aspect",
         "arrows",
         "pan"
        ],
        [
         "Zoom",
         "Zoom to rectangle\nx/y fixes axis, CTRL fixes aspect",
         "square-o",
         "zoom"
        ],
        [
         "Download",
         "Download plot",
         "floppy-o",
         "save_figure"
        ]
       ]
      }
     },
     "6c685b2b841745e3a98ff62c075889e8": {
      "model_module": "jupyter-matplotlib",
      "model_module_version": "^0.9.0",
      "model_name": "MPLCanvasModel",
      "state": {
       "_cursor": "default",
       "_figure_label": "Figure 14",
       "_height": 288,
       "_width": 432,
       "layout": "IPY_MODEL_aa348c107d6c4dc095ab6ff6669938c0",
       "toolbar": "IPY_MODEL_b3359aaa8fe041babd64097e265756cc",
       "toolbar_position": "left"
      }
     },
     "6e68e14042dc4ba5877998e70e7281f0": {
      "model_module": "jupyter-matplotlib",
      "model_module_version": "^0.9.0",
      "model_name": "MPLCanvasModel",
      "state": {
       "_cursor": "default",
       "_figure_label": "Figure 8",
       "_height": 288,
       "_width": 432,
       "layout": "IPY_MODEL_bebcd6b0005743d7b7951b1ac2765aec",
       "toolbar": "IPY_MODEL_19b8620948ea49de9b6bcc79265fd0ce",
       "toolbar_position": "left"
      }
     },
     "6f37bc6faed84c4f94198543a9879882": {
      "model_module": "jupyter-matplotlib",
      "model_module_version": "^0.9.0",
      "model_name": "ToolbarModel",
      "state": {
       "layout": "IPY_MODEL_f3be64e4854c4ca1a265c3aa4a1fd849",
       "toolitems": [
        [
         "Home",
         "Reset original view",
         "home",
         "home"
        ],
        [
         "Back",
         "Back to previous view",
         "arrow-left",
         "back"
        ],
        [
         "Forward",
         "Forward to next view",
         "arrow-right",
         "forward"
        ],
        [
         "Pan",
         "Left button pans, Right button zooms\nx/y fixes axis, CTRL fixes aspect",
         "arrows",
         "pan"
        ],
        [
         "Zoom",
         "Zoom to rectangle\nx/y fixes axis, CTRL fixes aspect",
         "square-o",
         "zoom"
        ],
        [
         "Download",
         "Download plot",
         "floppy-o",
         "save_figure"
        ]
       ]
      }
     },
     "7130b43f76144155aa9d0b8389453def": {
      "model_module": "jupyter-matplotlib",
      "model_module_version": "^0.9.0",
      "model_name": "ToolbarModel",
      "state": {
       "layout": "IPY_MODEL_e2ed79b6f1ad47f7b0478dcc21613b7d",
       "toolitems": [
        [
         "Home",
         "Reset original view",
         "home",
         "home"
        ],
        [
         "Back",
         "Back to previous view",
         "arrow-left",
         "back"
        ],
        [
         "Forward",
         "Forward to next view",
         "arrow-right",
         "forward"
        ],
        [
         "Pan",
         "Left button pans, Right button zooms\nx/y fixes axis, CTRL fixes aspect",
         "arrows",
         "pan"
        ],
        [
         "Zoom",
         "Zoom to rectangle\nx/y fixes axis, CTRL fixes aspect",
         "square-o",
         "zoom"
        ],
        [
         "Download",
         "Download plot",
         "floppy-o",
         "save_figure"
        ]
       ]
      }
     },
     "724d5f95ad1247aca1feb971bad0e786": {
      "model_module": "jupyter-matplotlib",
      "model_module_version": "^0.9.0",
      "model_name": "MPLCanvasModel",
      "state": {
       "_cursor": "default",
       "_figure_label": "Figure 20",
       "_height": 288,
       "_width": 432,
       "layout": "IPY_MODEL_531434c46ad849bf8f26d043be171ad1",
       "toolbar": "IPY_MODEL_2c922ea7cda140b787a994ba5c6ed896",
       "toolbar_position": "left"
      }
     },
     "74540a341b68406f8d19524c6d0c726c": {
      "model_module": "jupyter-matplotlib",
      "model_module_version": "^0.9.0",
      "model_name": "ToolbarModel",
      "state": {
       "layout": "IPY_MODEL_9d65b8bf89824c5f99dbc22ccec3adcb",
       "toolitems": [
        [
         "Home",
         "Reset original view",
         "home",
         "home"
        ],
        [
         "Back",
         "Back to previous view",
         "arrow-left",
         "back"
        ],
        [
         "Forward",
         "Forward to next view",
         "arrow-right",
         "forward"
        ],
        [
         "Pan",
         "Left button pans, Right button zooms\nx/y fixes axis, CTRL fixes aspect",
         "arrows",
         "pan"
        ],
        [
         "Zoom",
         "Zoom to rectangle\nx/y fixes axis, CTRL fixes aspect",
         "square-o",
         "zoom"
        ],
        [
         "Download",
         "Download plot",
         "floppy-o",
         "save_figure"
        ]
       ]
      }
     },
     "75821bb8f80c4fb88d663f01ab14379c": {
      "model_module": "jupyter-matplotlib",
      "model_module_version": "^0.9.0",
      "model_name": "MPLCanvasModel",
      "state": {
       "_cursor": "default",
       "_figure_label": "Figure 11",
       "_height": 288,
       "_message": "x=0.565 y=0.629",
       "_width": 432,
       "layout": "IPY_MODEL_e38c6ab73d34436995cf0565420536e2",
       "toolbar": "IPY_MODEL_4e3f1792ddb049f0b1022b5609550661",
       "toolbar_position": "left"
      }
     },
     "7979b888c31145128715b4fedeaf2ba3": {
      "model_module": "@jupyter-widgets/base",
      "model_module_version": "1.2.0",
      "model_name": "LayoutModel",
      "state": {}
     },
     "7c11c7f2b7854cdea9360db087e2a122": {
      "model_module": "@jupyter-widgets/base",
      "model_module_version": "1.2.0",
      "model_name": "LayoutModel",
      "state": {}
     },
     "7c3e17cc862b40a69de370f11dd51a54": {
      "model_module": "jupyter-matplotlib",
      "model_module_version": "^0.9.0",
      "model_name": "ToolbarModel",
      "state": {
       "layout": "IPY_MODEL_d4d18210ecf545a1b9dfc3df374e6c98",
       "toolitems": [
        [
         "Home",
         "Reset original view",
         "home",
         "home"
        ],
        [
         "Back",
         "Back to previous view",
         "arrow-left",
         "back"
        ],
        [
         "Forward",
         "Forward to next view",
         "arrow-right",
         "forward"
        ],
        [
         "Pan",
         "Left button pans, Right button zooms\nx/y fixes axis, CTRL fixes aspect",
         "arrows",
         "pan"
        ],
        [
         "Zoom",
         "Zoom to rectangle\nx/y fixes axis, CTRL fixes aspect",
         "square-o",
         "zoom"
        ],
        [
         "Download",
         "Download plot",
         "floppy-o",
         "save_figure"
        ]
       ]
      }
     },
     "7d6c041876b547aa83c2ca2a30e67242": {
      "model_module": "jupyter-matplotlib",
      "model_module_version": "^0.9.0",
      "model_name": "MPLCanvasModel",
      "state": {
       "_cursor": "default",
       "_figure_label": "Figure 12",
       "_height": 288,
       "_width": 432,
       "layout": "IPY_MODEL_b02540aa067549d0ba5b1fb367371319",
       "toolbar": "IPY_MODEL_5780cb42ba8a451cb7f2893378f66d37",
       "toolbar_position": "left"
      }
     },
     "7edac610b0e3458292f69a70329ad6d8": {
      "model_module": "@jupyter-widgets/base",
      "model_module_version": "1.2.0",
      "model_name": "LayoutModel",
      "state": {}
     },
     "804f55611012493b80eee291fcf326af": {
      "model_module": "@jupyter-widgets/base",
      "model_module_version": "1.2.0",
      "model_name": "LayoutModel",
      "state": {}
     },
     "81b9da88ef634def9ed9fbeb3f2563d1": {
      "model_module": "jupyter-matplotlib",
      "model_module_version": "^0.9.0",
      "model_name": "ToolbarModel",
      "state": {
       "layout": "IPY_MODEL_e7a94f5fb6fe487989536b7d488949a6",
       "toolitems": [
        [
         "Home",
         "Reset original view",
         "home",
         "home"
        ],
        [
         "Back",
         "Back to previous view",
         "arrow-left",
         "back"
        ],
        [
         "Forward",
         "Forward to next view",
         "arrow-right",
         "forward"
        ],
        [
         "Pan",
         "Left button pans, Right button zooms\nx/y fixes axis, CTRL fixes aspect",
         "arrows",
         "pan"
        ],
        [
         "Zoom",
         "Zoom to rectangle\nx/y fixes axis, CTRL fixes aspect",
         "square-o",
         "zoom"
        ],
        [
         "Download",
         "Download plot",
         "floppy-o",
         "save_figure"
        ]
       ]
      }
     },
     "82b45eec6d534baea30185efe3ae5fcc": {
      "model_module": "@jupyter-widgets/base",
      "model_module_version": "1.2.0",
      "model_name": "LayoutModel",
      "state": {}
     },
     "84c53b17ec994656b7762cdd3a04be36": {
      "model_module": "@jupyter-widgets/base",
      "model_module_version": "1.2.0",
      "model_name": "LayoutModel",
      "state": {}
     },
     "851b4b598a75481e889153fd84d27a23": {
      "model_module": "@jupyter-widgets/base",
      "model_module_version": "1.2.0",
      "model_name": "LayoutModel",
      "state": {}
     },
     "86b51e441892433682e252f38582c138": {
      "model_module": "jupyter-matplotlib",
      "model_module_version": "^0.9.0",
      "model_name": "ToolbarModel",
      "state": {
       "layout": "IPY_MODEL_7c11c7f2b7854cdea9360db087e2a122",
       "toolitems": [
        [
         "Home",
         "Reset original view",
         "home",
         "home"
        ],
        [
         "Back",
         "Back to previous view",
         "arrow-left",
         "back"
        ],
        [
         "Forward",
         "Forward to next view",
         "arrow-right",
         "forward"
        ],
        [
         "Pan",
         "Left button pans, Right button zooms\nx/y fixes axis, CTRL fixes aspect",
         "arrows",
         "pan"
        ],
        [
         "Zoom",
         "Zoom to rectangle\nx/y fixes axis, CTRL fixes aspect",
         "square-o",
         "zoom"
        ],
        [
         "Download",
         "Download plot",
         "floppy-o",
         "save_figure"
        ]
       ]
      }
     },
     "87f2a28fa53d4a959f7c192553476e1e": {
      "model_module": "@jupyter-widgets/base",
      "model_module_version": "1.2.0",
      "model_name": "LayoutModel",
      "state": {}
     },
     "8896f240a3104d12bef8100bee1fb34b": {
      "model_module": "@jupyter-widgets/base",
      "model_module_version": "1.2.0",
      "model_name": "LayoutModel",
      "state": {}
     },
     "89fdcb2bcf284e6db96968eddd77af64": {
      "model_module": "@jupyter-widgets/base",
      "model_module_version": "1.2.0",
      "model_name": "LayoutModel",
      "state": {}
     },
     "8a577bbc4d614465bb4dbff6c3651497": {
      "model_module": "jupyter-matplotlib",
      "model_module_version": "^0.9.0",
      "model_name": "MPLCanvasModel",
      "state": {
       "_cursor": "default",
       "_figure_label": "Figure 18",
       "_height": 288,
       "_message": "x=16.2 y=−20.1",
       "_width": 432,
       "layout": "IPY_MODEL_bef7c8771be44a638a848940cc511a48",
       "toolbar": "IPY_MODEL_3b56711557d541f490caae31fa4f6ba6",
       "toolbar_position": "left"
      }
     },
     "8e9a6cec2ae64f4abf0391c8d4b204fc": {
      "model_module": "jupyter-matplotlib",
      "model_module_version": "^0.9.0",
      "model_name": "ToolbarModel",
      "state": {
       "_current_action": "zoom",
       "layout": "IPY_MODEL_8896f240a3104d12bef8100bee1fb34b",
       "toolitems": [
        [
         "Home",
         "Reset original view",
         "home",
         "home"
        ],
        [
         "Back",
         "Back to previous view",
         "arrow-left",
         "back"
        ],
        [
         "Forward",
         "Forward to next view",
         "arrow-right",
         "forward"
        ],
        [
         "Pan",
         "Left button pans, Right button zooms\nx/y fixes axis, CTRL fixes aspect",
         "arrows",
         "pan"
        ],
        [
         "Zoom",
         "Zoom to rectangle\nx/y fixes axis, CTRL fixes aspect",
         "square-o",
         "zoom"
        ],
        [
         "Download",
         "Download plot",
         "floppy-o",
         "save_figure"
        ]
       ]
      }
     },
     "8f1c80cbf0e14538b36a055ce653f15b": {
      "model_module": "@jupyter-widgets/base",
      "model_module_version": "1.2.0",
      "model_name": "LayoutModel",
      "state": {}
     },
     "8f4aa161f6ee4f0a8d3e9fbbf8ac54b4": {
      "model_module": "jupyter-matplotlib",
      "model_module_version": "^0.9.0",
      "model_name": "ToolbarModel",
      "state": {
       "layout": "IPY_MODEL_db5c8afd22464b88bd549e7865827f22",
       "toolitems": [
        [
         "Home",
         "Reset original view",
         "home",
         "home"
        ],
        [
         "Back",
         "Back to previous view",
         "arrow-left",
         "back"
        ],
        [
         "Forward",
         "Forward to next view",
         "arrow-right",
         "forward"
        ],
        [
         "Pan",
         "Left button pans, Right button zooms\nx/y fixes axis, CTRL fixes aspect",
         "arrows",
         "pan"
        ],
        [
         "Zoom",
         "Zoom to rectangle\nx/y fixes axis, CTRL fixes aspect",
         "square-o",
         "zoom"
        ],
        [
         "Download",
         "Download plot",
         "floppy-o",
         "save_figure"
        ]
       ]
      }
     },
     "95ca2244a1b74449af753307a2aca747": {
      "model_module": "jupyter-matplotlib",
      "model_module_version": "^0.9.0",
      "model_name": "ToolbarModel",
      "state": {
       "layout": "IPY_MODEL_2dd899936fc14fa6aaa905e3c6aa9448",
       "toolitems": [
        [
         "Home",
         "Reset original view",
         "home",
         "home"
        ],
        [
         "Back",
         "Back to previous view",
         "arrow-left",
         "back"
        ],
        [
         "Forward",
         "Forward to next view",
         "arrow-right",
         "forward"
        ],
        [
         "Pan",
         "Left button pans, Right button zooms\nx/y fixes axis, CTRL fixes aspect",
         "arrows",
         "pan"
        ],
        [
         "Zoom",
         "Zoom to rectangle\nx/y fixes axis, CTRL fixes aspect",
         "square-o",
         "zoom"
        ],
        [
         "Download",
         "Download plot",
         "floppy-o",
         "save_figure"
        ]
       ]
      }
     },
     "962d82e11d5641c99e9418d0105af9c3": {
      "model_module": "jupyter-matplotlib",
      "model_module_version": "^0.9.0",
      "model_name": "ToolbarModel",
      "state": {
       "layout": "IPY_MODEL_8f1c80cbf0e14538b36a055ce653f15b",
       "toolitems": [
        [
         "Home",
         "Reset original view",
         "home",
         "home"
        ],
        [
         "Back",
         "Back to previous view",
         "arrow-left",
         "back"
        ],
        [
         "Forward",
         "Forward to next view",
         "arrow-right",
         "forward"
        ],
        [
         "Pan",
         "Left button pans, Right button zooms\nx/y fixes axis, CTRL fixes aspect",
         "arrows",
         "pan"
        ],
        [
         "Zoom",
         "Zoom to rectangle\nx/y fixes axis, CTRL fixes aspect",
         "square-o",
         "zoom"
        ],
        [
         "Download",
         "Download plot",
         "floppy-o",
         "save_figure"
        ]
       ]
      }
     },
     "970be8c1fa354f458b64c5f9b3c45ac9": {
      "model_module": "jupyter-matplotlib",
      "model_module_version": "^0.9.0",
      "model_name": "MPLCanvasModel",
      "state": {
       "_cursor": "default",
       "_figure_label": "Figure 3",
       "_height": 288,
       "_width": 432,
       "layout": "IPY_MODEL_6532e3dd99f04c04bd785692b7037fc9",
       "toolbar": "IPY_MODEL_c2f710aecef743e8a3cc3d44089b62d9",
       "toolbar_position": "left"
      }
     },
     "99f7b460e90641b6b1eb73331e0dc0d2": {
      "model_module": "jupyter-matplotlib",
      "model_module_version": "^0.9.0",
      "model_name": "ToolbarModel",
      "state": {
       "layout": "IPY_MODEL_e73822b78b114ad9ad8a71a22ce37df5",
       "toolitems": [
        [
         "Home",
         "Reset original view",
         "home",
         "home"
        ],
        [
         "Back",
         "Back to previous view",
         "arrow-left",
         "back"
        ],
        [
         "Forward",
         "Forward to next view",
         "arrow-right",
         "forward"
        ],
        [
         "Pan",
         "Left button pans, Right button zooms\nx/y fixes axis, CTRL fixes aspect",
         "arrows",
         "pan"
        ],
        [
         "Zoom",
         "Zoom to rectangle\nx/y fixes axis, CTRL fixes aspect",
         "square-o",
         "zoom"
        ],
        [
         "Download",
         "Download plot",
         "floppy-o",
         "save_figure"
        ]
       ]
      }
     },
     "9b864356a3574131a2716d0626c670dc": {
      "model_module": "jupyter-matplotlib",
      "model_module_version": "^0.9.0",
      "model_name": "ToolbarModel",
      "state": {
       "layout": "IPY_MODEL_315407326d5d481e8fd571eaab0b8ff3",
       "toolitems": [
        [
         "Home",
         "Reset original view",
         "home",
         "home"
        ],
        [
         "Back",
         "Back to previous view",
         "arrow-left",
         "back"
        ],
        [
         "Forward",
         "Forward to next view",
         "arrow-right",
         "forward"
        ],
        [
         "Pan",
         "Left button pans, Right button zooms\nx/y fixes axis, CTRL fixes aspect",
         "arrows",
         "pan"
        ],
        [
         "Zoom",
         "Zoom to rectangle\nx/y fixes axis, CTRL fixes aspect",
         "square-o",
         "zoom"
        ],
        [
         "Download",
         "Download plot",
         "floppy-o",
         "save_figure"
        ]
       ]
      }
     },
     "9c7a1f11fb84426fbfd8cbbf07680814": {
      "model_module": "jupyter-matplotlib",
      "model_module_version": "^0.9.0",
      "model_name": "MPLCanvasModel",
      "state": {
       "_cursor": "crosshair",
       "_figure_label": "Figure 2",
       "_height": 288,
       "_message": "x=−90.35 y=94.8",
       "_rubberband_y": 288,
       "_width": 432,
       "layout": "IPY_MODEL_dbc258d1c3674da49f9396bf59576eae",
       "toolbar": "IPY_MODEL_1efe2471f84d4cd49867372cdd1e0f0e",
       "toolbar_position": "left"
      }
     },
     "9d65b8bf89824c5f99dbc22ccec3adcb": {
      "model_module": "@jupyter-widgets/base",
      "model_module_version": "1.2.0",
      "model_name": "LayoutModel",
      "state": {}
     },
     "a445c832b0cf45dca42a98cfdc4183fb": {
      "model_module": "@jupyter-widgets/base",
      "model_module_version": "1.2.0",
      "model_name": "LayoutModel",
      "state": {}
     },
     "a4e0689472064f3199012f98a0e1d2f4": {
      "model_module": "jupyter-matplotlib",
      "model_module_version": "^0.9.0",
      "model_name": "MPLCanvasModel",
      "state": {
       "_cursor": "default",
       "_figure_label": "Figure 33",
       "_height": 576,
       "_width": 864,
       "layout": "IPY_MODEL_fc1c794a01c549e88ccfc71dc83ac305",
       "toolbar": "IPY_MODEL_5a50d3f4ab944891902a7c6569f25c6d",
       "toolbar_position": "left"
      }
     },
     "a80777ff188249c789d730dffb6d669e": {
      "model_module": "@jupyter-widgets/base",
      "model_module_version": "1.2.0",
      "model_name": "LayoutModel",
      "state": {}
     },
     "a89bd88bfc6542068d7a9055ad27b98f": {
      "model_module": "@jupyter-widgets/base",
      "model_module_version": "1.2.0",
      "model_name": "LayoutModel",
      "state": {}
     },
     "a8a70c3982e044188b66c911fa2b16ef": {
      "model_module": "jupyter-matplotlib",
      "model_module_version": "^0.9.0",
      "model_name": "ToolbarModel",
      "state": {
       "layout": "IPY_MODEL_eda8ea79a9d843e9a944ee301a5b45f9",
       "toolitems": [
        [
         "Home",
         "Reset original view",
         "home",
         "home"
        ],
        [
         "Back",
         "Back to previous view",
         "arrow-left",
         "back"
        ],
        [
         "Forward",
         "Forward to next view",
         "arrow-right",
         "forward"
        ],
        [
         "Pan",
         "Left button pans, Right button zooms\nx/y fixes axis, CTRL fixes aspect",
         "arrows",
         "pan"
        ],
        [
         "Zoom",
         "Zoom to rectangle\nx/y fixes axis, CTRL fixes aspect",
         "square-o",
         "zoom"
        ],
        [
         "Download",
         "Download plot",
         "floppy-o",
         "save_figure"
        ]
       ]
      }
     },
     "aa348c107d6c4dc095ab6ff6669938c0": {
      "model_module": "@jupyter-widgets/base",
      "model_module_version": "1.2.0",
      "model_name": "LayoutModel",
      "state": {}
     },
     "aa93940f839941e692e15ea8c21d5e35": {
      "model_module": "@jupyter-widgets/base",
      "model_module_version": "1.2.0",
      "model_name": "LayoutModel",
      "state": {}
     },
     "ae6d2d6e0a0a4fd390df78ce17623c58": {
      "model_module": "@jupyter-widgets/base",
      "model_module_version": "1.2.0",
      "model_name": "LayoutModel",
      "state": {}
     },
     "b02540aa067549d0ba5b1fb367371319": {
      "model_module": "@jupyter-widgets/base",
      "model_module_version": "1.2.0",
      "model_name": "LayoutModel",
      "state": {}
     },
     "b3359aaa8fe041babd64097e265756cc": {
      "model_module": "jupyter-matplotlib",
      "model_module_version": "^0.9.0",
      "model_name": "ToolbarModel",
      "state": {
       "layout": "IPY_MODEL_5305dee3f39b402aa349dd1b4810eb75",
       "toolitems": [
        [
         "Home",
         "Reset original view",
         "home",
         "home"
        ],
        [
         "Back",
         "Back to previous view",
         "arrow-left",
         "back"
        ],
        [
         "Forward",
         "Forward to next view",
         "arrow-right",
         "forward"
        ],
        [
         "Pan",
         "Left button pans, Right button zooms\nx/y fixes axis, CTRL fixes aspect",
         "arrows",
         "pan"
        ],
        [
         "Zoom",
         "Zoom to rectangle\nx/y fixes axis, CTRL fixes aspect",
         "square-o",
         "zoom"
        ],
        [
         "Download",
         "Download plot",
         "floppy-o",
         "save_figure"
        ]
       ]
      }
     },
     "b33ee3ec134f431aaa57a47e2e4bf74a": {
      "model_module": "@jupyter-widgets/base",
      "model_module_version": "1.2.0",
      "model_name": "LayoutModel",
      "state": {}
     },
     "b34db8c9336340c59d259a5b89f748f8": {
      "model_module": "@jupyter-widgets/base",
      "model_module_version": "1.2.0",
      "model_name": "LayoutModel",
      "state": {}
     },
     "b43ac9df4f684a52a77c265c27b93604": {
      "model_module": "@jupyter-widgets/base",
      "model_module_version": "1.2.0",
      "model_name": "LayoutModel",
      "state": {}
     },
     "b8995a3ccc654306af55207ea1a92488": {
      "model_module": "jupyter-matplotlib",
      "model_module_version": "^0.9.0",
      "model_name": "MPLCanvasModel",
      "state": {
       "_cursor": "default",
       "_figure_label": "Figure 17",
       "_height": 288,
       "_width": 432,
       "layout": "IPY_MODEL_db665b62cd47499bb752f0e3f707805e",
       "toolbar": "IPY_MODEL_6f37bc6faed84c4f94198543a9879882",
       "toolbar_position": "left"
      }
     },
     "bac1c1eafb2749609f0aeac1888f9061": {
      "model_module": "@jupyter-widgets/base",
      "model_module_version": "1.2.0",
      "model_name": "LayoutModel",
      "state": {}
     },
     "bebcd6b0005743d7b7951b1ac2765aec": {
      "model_module": "@jupyter-widgets/base",
      "model_module_version": "1.2.0",
      "model_name": "LayoutModel",
      "state": {}
     },
     "bef7c8771be44a638a848940cc511a48": {
      "model_module": "@jupyter-widgets/base",
      "model_module_version": "1.2.0",
      "model_name": "LayoutModel",
      "state": {}
     },
     "c0182f3d783f46b19408987df72f8ea5": {
      "model_module": "jupyter-matplotlib",
      "model_module_version": "^0.9.0",
      "model_name": "MPLCanvasModel",
      "state": {
       "_cursor": "default",
       "_figure_label": "Figure 40",
       "_height": 576,
       "_width": 1152,
       "layout": "IPY_MODEL_c75523ff8a8d46bca9ff4d091e659c6c",
       "toolbar": "IPY_MODEL_272e7a3eafdf415fa4b6119098d537bd",
       "toolbar_position": "left"
      }
     },
     "c2f710aecef743e8a3cc3d44089b62d9": {
      "model_module": "jupyter-matplotlib",
      "model_module_version": "^0.9.0",
      "model_name": "ToolbarModel",
      "state": {
       "layout": "IPY_MODEL_e59279e335e74b1398bde08304b40584",
       "toolitems": [
        [
         "Home",
         "Reset original view",
         "home",
         "home"
        ],
        [
         "Back",
         "Back to previous view",
         "arrow-left",
         "back"
        ],
        [
         "Forward",
         "Forward to next view",
         "arrow-right",
         "forward"
        ],
        [
         "Pan",
         "Left button pans, Right button zooms\nx/y fixes axis, CTRL fixes aspect",
         "arrows",
         "pan"
        ],
        [
         "Zoom",
         "Zoom to rectangle\nx/y fixes axis, CTRL fixes aspect",
         "square-o",
         "zoom"
        ],
        [
         "Download",
         "Download plot",
         "floppy-o",
         "save_figure"
        ]
       ]
      }
     },
     "c35047ac1b0f443db62dfabd019913a4": {
      "model_module": "jupyter-matplotlib",
      "model_module_version": "^0.9.0",
      "model_name": "MPLCanvasModel",
      "state": {
       "_cursor": "default",
       "_figure_label": "Figure 25",
       "_height": 360,
       "_message": "x=−0.0024 y=258.4",
       "_width": 864,
       "layout": "IPY_MODEL_a80777ff188249c789d730dffb6d669e",
       "toolbar": "IPY_MODEL_21fe9bd6afc3426cafeba34b19de0687",
       "toolbar_position": "left"
      }
     },
     "c63827b4036a4e4e8389637d38e30dfe": {
      "model_module": "jupyter-matplotlib",
      "model_module_version": "^0.9.0",
      "model_name": "ToolbarModel",
      "state": {
       "layout": "IPY_MODEL_5864b77cee28467d837d0d3fd9a43dcc",
       "toolitems": [
        [
         "Home",
         "Reset original view",
         "home",
         "home"
        ],
        [
         "Back",
         "Back to previous view",
         "arrow-left",
         "back"
        ],
        [
         "Forward",
         "Forward to next view",
         "arrow-right",
         "forward"
        ],
        [
         "Pan",
         "Left button pans, Right button zooms\nx/y fixes axis, CTRL fixes aspect",
         "arrows",
         "pan"
        ],
        [
         "Zoom",
         "Zoom to rectangle\nx/y fixes axis, CTRL fixes aspect",
         "square-o",
         "zoom"
        ],
        [
         "Download",
         "Download plot",
         "floppy-o",
         "save_figure"
        ]
       ]
      }
     },
     "c75523ff8a8d46bca9ff4d091e659c6c": {
      "model_module": "@jupyter-widgets/base",
      "model_module_version": "1.2.0",
      "model_name": "LayoutModel",
      "state": {}
     },
     "c7b6f73b3ead48349ae39a788a6c66de": {
      "model_module": "jupyter-matplotlib",
      "model_module_version": "^0.9.0",
      "model_name": "MPLCanvasModel",
      "state": {
       "_cursor": "default",
       "_figure_label": "Figure 13",
       "_height": 288,
       "_width": 432,
       "layout": "IPY_MODEL_84c53b17ec994656b7762cdd3a04be36",
       "toolbar": "IPY_MODEL_99f7b460e90641b6b1eb73331e0dc0d2",
       "toolbar_position": "left"
      }
     },
     "c8a56412795845de806a89f1c7b28849": {
      "model_module": "@jupyter-widgets/base",
      "model_module_version": "1.2.0",
      "model_name": "LayoutModel",
      "state": {}
     },
     "c9af6d7d481442eea7ffb32c937c31e8": {
      "model_module": "@jupyter-widgets/base",
      "model_module_version": "1.2.0",
      "model_name": "LayoutModel",
      "state": {}
     },
     "cefe2cae434a430aa454bfa1eeabf239": {
      "model_module": "jupyter-matplotlib",
      "model_module_version": "^0.9.0",
      "model_name": "ToolbarModel",
      "state": {
       "layout": "IPY_MODEL_66e786c1321244e9b0f852739d125fb2",
       "toolitems": [
        [
         "Home",
         "Reset original view",
         "home",
         "home"
        ],
        [
         "Back",
         "Back to previous view",
         "arrow-left",
         "back"
        ],
        [
         "Forward",
         "Forward to next view",
         "arrow-right",
         "forward"
        ],
        [
         "Pan",
         "Left button pans, Right button zooms\nx/y fixes axis, CTRL fixes aspect",
         "arrows",
         "pan"
        ],
        [
         "Zoom",
         "Zoom to rectangle\nx/y fixes axis, CTRL fixes aspect",
         "square-o",
         "zoom"
        ],
        [
         "Download",
         "Download plot",
         "floppy-o",
         "save_figure"
        ]
       ]
      }
     },
     "cf16c1d40d00420c8a09c2dcf71d36de": {
      "model_module": "@jupyter-widgets/base",
      "model_module_version": "1.2.0",
      "model_name": "LayoutModel",
      "state": {}
     },
     "d09e061dfab141bb88989469e179777b": {
      "model_module": "@jupyter-widgets/base",
      "model_module_version": "1.2.0",
      "model_name": "LayoutModel",
      "state": {}
     },
     "d0baa7d542d84800a15409b96e6cae1d": {
      "model_module": "jupyter-matplotlib",
      "model_module_version": "^0.9.0",
      "model_name": "ToolbarModel",
      "state": {
       "layout": "IPY_MODEL_b33ee3ec134f431aaa57a47e2e4bf74a",
       "toolitems": [
        [
         "Home",
         "Reset original view",
         "home",
         "home"
        ],
        [
         "Back",
         "Back to previous view",
         "arrow-left",
         "back"
        ],
        [
         "Forward",
         "Forward to next view",
         "arrow-right",
         "forward"
        ],
        [
         "Pan",
         "Left button pans, Right button zooms\nx/y fixes axis, CTRL fixes aspect",
         "arrows",
         "pan"
        ],
        [
         "Zoom",
         "Zoom to rectangle\nx/y fixes axis, CTRL fixes aspect",
         "square-o",
         "zoom"
        ],
        [
         "Download",
         "Download plot",
         "floppy-o",
         "save_figure"
        ]
       ]
      }
     },
     "d0cdfa46a90948f8a1cb40198ca8986a": {
      "model_module": "@jupyter-widgets/base",
      "model_module_version": "1.2.0",
      "model_name": "LayoutModel",
      "state": {}
     },
     "d118870be30c4ef0885a01e7aef50fd0": {
      "model_module": "jupyter-matplotlib",
      "model_module_version": "^0.9.0",
      "model_name": "MPLCanvasModel",
      "state": {
       "_cursor": "default",
       "_figure_label": "Figure 32",
       "_height": 360,
       "_message": "x=−4.5 y=0.6406",
       "_width": 864,
       "layout": "IPY_MODEL_fac78aee1d9e4c0ba64048331b3750c6",
       "toolbar": "IPY_MODEL_eab33a8f9be94db0a54b86289845b35f",
       "toolbar_position": "left"
      }
     },
     "d20fce5322724c7e8e058e639e934821": {
      "model_module": "jupyter-matplotlib",
      "model_module_version": "^0.9.0",
      "model_name": "ToolbarModel",
      "state": {
       "layout": "IPY_MODEL_46974c2189194eb391670f529e2691d5",
       "toolitems": [
        [
         "Home",
         "Reset original view",
         "home",
         "home"
        ],
        [
         "Back",
         "Back to previous view",
         "arrow-left",
         "back"
        ],
        [
         "Forward",
         "Forward to next view",
         "arrow-right",
         "forward"
        ],
        [
         "Pan",
         "Left button pans, Right button zooms\nx/y fixes axis, CTRL fixes aspect",
         "arrows",
         "pan"
        ],
        [
         "Zoom",
         "Zoom to rectangle\nx/y fixes axis, CTRL fixes aspect",
         "square-o",
         "zoom"
        ],
        [
         "Download",
         "Download plot",
         "floppy-o",
         "save_figure"
        ]
       ]
      }
     },
     "d238c8d8a46243da8e0fc6a0aaccc8fc": {
      "model_module": "jupyter-matplotlib",
      "model_module_version": "^0.9.0",
      "model_name": "MPLCanvasModel",
      "state": {
       "_cursor": "default",
       "_figure_label": "Figure 36",
       "_height": 576,
       "_width": 1152,
       "layout": "IPY_MODEL_82b45eec6d534baea30185efe3ae5fcc",
       "toolbar": "IPY_MODEL_047998e74baf43d7b15c076be50d7a3d",
       "toolbar_position": "left"
      }
     },
     "d3db3bf5205d46ab82b86d45b724e83d": {
      "model_module": "jupyter-matplotlib",
      "model_module_version": "^0.9.0",
      "model_name": "MPLCanvasModel",
      "state": {
       "_cursor": "default",
       "_figure_label": "Figure 38",
       "_height": 576,
       "_width": 1152,
       "layout": "IPY_MODEL_bac1c1eafb2749609f0aeac1888f9061",
       "toolbar": "IPY_MODEL_74540a341b68406f8d19524c6d0c726c",
       "toolbar_position": "left"
      }
     },
     "d4b3cd89b23c45df9b6a6d378266e505": {
      "model_module": "@jupyter-widgets/base",
      "model_module_version": "1.2.0",
      "model_name": "LayoutModel",
      "state": {}
     },
     "d4d18210ecf545a1b9dfc3df374e6c98": {
      "model_module": "@jupyter-widgets/base",
      "model_module_version": "1.2.0",
      "model_name": "LayoutModel",
      "state": {}
     },
     "d67776e54a1840f99aab14a7f90f36b1": {
      "model_module": "@jupyter-widgets/base",
      "model_module_version": "1.2.0",
      "model_name": "LayoutModel",
      "state": {}
     },
     "d822b46d450a4325806075dc74ff87d9": {
      "model_module": "@jupyter-widgets/base",
      "model_module_version": "1.2.0",
      "model_name": "LayoutModel",
      "state": {}
     },
     "d8b3ab7df5cc440790c10abadef88e31": {
      "model_module": "@jupyter-widgets/base",
      "model_module_version": "1.2.0",
      "model_name": "LayoutModel",
      "state": {}
     },
     "d8fc6dcc0f7c406f887dcb7f86f6d0e7": {
      "model_module": "@jupyter-widgets/base",
      "model_module_version": "1.2.0",
      "model_name": "LayoutModel",
      "state": {}
     },
     "db5c8afd22464b88bd549e7865827f22": {
      "model_module": "@jupyter-widgets/base",
      "model_module_version": "1.2.0",
      "model_name": "LayoutModel",
      "state": {}
     },
     "db665b62cd47499bb752f0e3f707805e": {
      "model_module": "@jupyter-widgets/base",
      "model_module_version": "1.2.0",
      "model_name": "LayoutModel",
      "state": {}
     },
     "dbc258d1c3674da49f9396bf59576eae": {
      "model_module": "@jupyter-widgets/base",
      "model_module_version": "1.2.0",
      "model_name": "LayoutModel",
      "state": {}
     },
     "df33ce8e785947228d6dab8f00f962e1": {
      "model_module": "jupyter-matplotlib",
      "model_module_version": "^0.9.0",
      "model_name": "ToolbarModel",
      "state": {
       "layout": "IPY_MODEL_faaa66de948b4dddb20e3709baa1bc64",
       "toolitems": [
        [
         "Home",
         "Reset original view",
         "home",
         "home"
        ],
        [
         "Back",
         "Back to previous view",
         "arrow-left",
         "back"
        ],
        [
         "Forward",
         "Forward to next view",
         "arrow-right",
         "forward"
        ],
        [
         "Pan",
         "Left button pans, Right button zooms\nx/y fixes axis, CTRL fixes aspect",
         "arrows",
         "pan"
        ],
        [
         "Zoom",
         "Zoom to rectangle\nx/y fixes axis, CTRL fixes aspect",
         "square-o",
         "zoom"
        ],
        [
         "Download",
         "Download plot",
         "floppy-o",
         "save_figure"
        ]
       ]
      }
     },
     "e097ecdc2f124f7fb9e72fe25a0fe335": {
      "model_module": "@jupyter-widgets/base",
      "model_module_version": "1.2.0",
      "model_name": "LayoutModel",
      "state": {}
     },
     "e22c1da0fb4542268dd38be350e65a64": {
      "model_module": "jupyter-matplotlib",
      "model_module_version": "^0.9.0",
      "model_name": "ToolbarModel",
      "state": {
       "layout": "IPY_MODEL_7979b888c31145128715b4fedeaf2ba3",
       "toolitems": [
        [
         "Home",
         "Reset original view",
         "home",
         "home"
        ],
        [
         "Back",
         "Back to previous view",
         "arrow-left",
         "back"
        ],
        [
         "Forward",
         "Forward to next view",
         "arrow-right",
         "forward"
        ],
        [
         "Pan",
         "Left button pans, Right button zooms\nx/y fixes axis, CTRL fixes aspect",
         "arrows",
         "pan"
        ],
        [
         "Zoom",
         "Zoom to rectangle\nx/y fixes axis, CTRL fixes aspect",
         "square-o",
         "zoom"
        ],
        [
         "Download",
         "Download plot",
         "floppy-o",
         "save_figure"
        ]
       ]
      }
     },
     "e2ed79b6f1ad47f7b0478dcc21613b7d": {
      "model_module": "@jupyter-widgets/base",
      "model_module_version": "1.2.0",
      "model_name": "LayoutModel",
      "state": {}
     },
     "e38c6ab73d34436995cf0565420536e2": {
      "model_module": "@jupyter-widgets/base",
      "model_module_version": "1.2.0",
      "model_name": "LayoutModel",
      "state": {}
     },
     "e59279e335e74b1398bde08304b40584": {
      "model_module": "@jupyter-widgets/base",
      "model_module_version": "1.2.0",
      "model_name": "LayoutModel",
      "state": {}
     },
     "e73822b78b114ad9ad8a71a22ce37df5": {
      "model_module": "@jupyter-widgets/base",
      "model_module_version": "1.2.0",
      "model_name": "LayoutModel",
      "state": {}
     },
     "e7a94f5fb6fe487989536b7d488949a6": {
      "model_module": "@jupyter-widgets/base",
      "model_module_version": "1.2.0",
      "model_name": "LayoutModel",
      "state": {}
     },
     "e88eed40b43e4ad6805ca2c9883c89c1": {
      "model_module": "jupyter-matplotlib",
      "model_module_version": "^0.9.0",
      "model_name": "ToolbarModel",
      "state": {
       "_current_action": "zoom",
       "layout": "IPY_MODEL_b43ac9df4f684a52a77c265c27b93604",
       "toolitems": [
        [
         "Home",
         "Reset original view",
         "home",
         "home"
        ],
        [
         "Back",
         "Back to previous view",
         "arrow-left",
         "back"
        ],
        [
         "Forward",
         "Forward to next view",
         "arrow-right",
         "forward"
        ],
        [
         "Pan",
         "Left button pans, Right button zooms\nx/y fixes axis, CTRL fixes aspect",
         "arrows",
         "pan"
        ],
        [
         "Zoom",
         "Zoom to rectangle\nx/y fixes axis, CTRL fixes aspect",
         "square-o",
         "zoom"
        ],
        [
         "Download",
         "Download plot",
         "floppy-o",
         "save_figure"
        ]
       ]
      }
     },
     "ea884a39217249d4aa28a36372473fe3": {
      "model_module": "@jupyter-widgets/base",
      "model_module_version": "1.2.0",
      "model_name": "LayoutModel",
      "state": {}
     },
     "eab33a8f9be94db0a54b86289845b35f": {
      "model_module": "jupyter-matplotlib",
      "model_module_version": "^0.9.0",
      "model_name": "ToolbarModel",
      "state": {
       "layout": "IPY_MODEL_3272976e6eb34a5d834afa11b4f96a8c",
       "toolitems": [
        [
         "Home",
         "Reset original view",
         "home",
         "home"
        ],
        [
         "Back",
         "Back to previous view",
         "arrow-left",
         "back"
        ],
        [
         "Forward",
         "Forward to next view",
         "arrow-right",
         "forward"
        ],
        [
         "Pan",
         "Left button pans, Right button zooms\nx/y fixes axis, CTRL fixes aspect",
         "arrows",
         "pan"
        ],
        [
         "Zoom",
         "Zoom to rectangle\nx/y fixes axis, CTRL fixes aspect",
         "square-o",
         "zoom"
        ],
        [
         "Download",
         "Download plot",
         "floppy-o",
         "save_figure"
        ]
       ]
      }
     },
     "eb11ad77b7fa40e7970bc426be9a549c": {
      "model_module": "@jupyter-widgets/base",
      "model_module_version": "1.2.0",
      "model_name": "LayoutModel",
      "state": {}
     },
     "ec8dc6921a394ff19033454930592693": {
      "model_module": "@jupyter-widgets/base",
      "model_module_version": "1.2.0",
      "model_name": "LayoutModel",
      "state": {}
     },
     "eda8ea79a9d843e9a944ee301a5b45f9": {
      "model_module": "@jupyter-widgets/base",
      "model_module_version": "1.2.0",
      "model_name": "LayoutModel",
      "state": {}
     },
     "edb7772aee9843cda6e2e48fde5c8cb2": {
      "model_module": "jupyter-matplotlib",
      "model_module_version": "^0.9.0",
      "model_name": "MPLCanvasModel",
      "state": {
       "_cursor": "default",
       "_figure_label": "Figure 39",
       "_height": 576,
       "_width": 1152,
       "layout": "IPY_MODEL_4e155759eb8645a3a64d9292d19a67ce",
       "toolbar": "IPY_MODEL_81b9da88ef634def9ed9fbeb3f2563d1",
       "toolbar_position": "left"
      }
     },
     "ef4933de43114e208f34c910c738a2a4": {
      "model_module": "jupyter-matplotlib",
      "model_module_version": "^0.9.0",
      "model_name": "MPLCanvasModel",
      "state": {
       "_cursor": "default",
       "_figure_label": "Figure 9",
       "_height": 288,
       "_width": 432,
       "layout": "IPY_MODEL_aa93940f839941e692e15ea8c21d5e35",
       "toolbar": "IPY_MODEL_3f3367c83c6a4ac0ae8c8cc23cbd9835",
       "toolbar_position": "left"
      }
     },
     "f0235d240f3a4d69bd2949e09bcb660d": {
      "model_module": "@jupyter-widgets/base",
      "model_module_version": "1.2.0",
      "model_name": "LayoutModel",
      "state": {}
     },
     "f35e4eece78d4acdab08653956b7d94e": {
      "model_module": "@jupyter-widgets/base",
      "model_module_version": "1.2.0",
      "model_name": "LayoutModel",
      "state": {}
     },
     "f386514c9b944879b45ed2dfa6c3f303": {
      "model_module": "@jupyter-widgets/base",
      "model_module_version": "1.2.0",
      "model_name": "LayoutModel",
      "state": {}
     },
     "f3be64e4854c4ca1a265c3aa4a1fd849": {
      "model_module": "@jupyter-widgets/base",
      "model_module_version": "1.2.0",
      "model_name": "LayoutModel",
      "state": {}
     },
     "f92e201f457a40819d4ea9f11b273721": {
      "model_module": "jupyter-matplotlib",
      "model_module_version": "^0.9.0",
      "model_name": "MPLCanvasModel",
      "state": {
       "_cursor": "default",
       "_figure_label": "Figure 15",
       "_height": 288,
       "_message": "x=−206.7 y=44.",
       "_width": 432,
       "layout": "IPY_MODEL_7edac610b0e3458292f69a70329ad6d8",
       "toolbar": "IPY_MODEL_c63827b4036a4e4e8389637d38e30dfe",
       "toolbar_position": "left"
      }
     },
     "faaa66de948b4dddb20e3709baa1bc64": {
      "model_module": "@jupyter-widgets/base",
      "model_module_version": "1.2.0",
      "model_name": "LayoutModel",
      "state": {}
     },
     "fac78aee1d9e4c0ba64048331b3750c6": {
      "model_module": "@jupyter-widgets/base",
      "model_module_version": "1.2.0",
      "model_name": "LayoutModel",
      "state": {}
     },
     "fc1c794a01c549e88ccfc71dc83ac305": {
      "model_module": "@jupyter-widgets/base",
      "model_module_version": "1.2.0",
      "model_name": "LayoutModel",
      "state": {}
     },
     "fd80225266d1491d8d3b6bd14d8773ab": {
      "model_module": "jupyter-matplotlib",
      "model_module_version": "^0.9.0",
      "model_name": "MPLCanvasModel",
      "state": {
       "_cursor": "default",
       "_figure_label": "Figure 37",
       "_height": 576,
       "_width": 1152,
       "layout": "IPY_MODEL_5e6a846f7c7c46588bbebfec54d2dc9e",
       "toolbar": "IPY_MODEL_df33ce8e785947228d6dab8f00f962e1",
       "toolbar_position": "left"
      }
     }
    },
    "version_major": 2,
    "version_minor": 0
   }
  }
 },
 "nbformat": 4,
 "nbformat_minor": 5
}