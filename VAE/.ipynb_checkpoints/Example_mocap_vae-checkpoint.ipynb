{
 "cells": [
  {
   "cell_type": "markdown",
   "metadata": {},
   "source": [
    "# Top of notebook"
   ]
  },
  {
   "cell_type": "code",
   "execution_count": 1,
   "metadata": {},
   "outputs": [],
   "source": [
    "import numpy as np\n",
    "import glob\n",
    "import time\n",
    "import matplotlib.pyplot as plt\n",
    "from matplotlib.animation import FuncAnimation\n",
    "\n",
    "\n",
    "# %matplotlib widget\n",
    "# %matplotlib inline\n",
    "# %matplotlib widget\n",
    "%matplotlib notebook"
   ]
  },
  {
   "cell_type": "markdown",
   "metadata": {},
   "source": [
    "## Loading data and visualizations"
   ]
  },
  {
   "cell_type": "markdown",
   "metadata": {},
   "source": [
    "The cell below loads a few npy files. They each have pose data from the original motinocapture files, however, **they are already\n",
    "egocentered** such that the rat always looks to the right."
   ]
  },
  {
   "cell_type": "code",
   "execution_count": 2,
   "metadata": {},
   "outputs": [],
   "source": [
    "dnames = glob.glob('mocap_clean_eh5/*.npy')\n",
    "egoh5s = []\n",
    "for dname in dnames:\n",
    "    egoh5s.append(np.load(dname, allow_pickle=True))\n",
    "\n",
    "# egoh5s = [eh5.reshape((eh5.shape[0], eh5.shape[1]//3, 3)) for eh5 in egoh5s]"
   ]
  },
  {
   "cell_type": "code",
   "execution_count": 3,
   "metadata": {},
   "outputs": [
    {
     "data": {
      "application/javascript": [
       "/* Put everything inside the global mpl namespace */\n",
       "/* global mpl */\n",
       "window.mpl = {};\n",
       "\n",
       "mpl.get_websocket_type = function () {\n",
       "    if (typeof WebSocket !== 'undefined') {\n",
       "        return WebSocket;\n",
       "    } else if (typeof MozWebSocket !== 'undefined') {\n",
       "        return MozWebSocket;\n",
       "    } else {\n",
       "        alert(\n",
       "            'Your browser does not have WebSocket support. ' +\n",
       "                'Please try Chrome, Safari or Firefox ≥ 6. ' +\n",
       "                'Firefox 4 and 5 are also supported but you ' +\n",
       "                'have to enable WebSockets in about:config.'\n",
       "        );\n",
       "    }\n",
       "};\n",
       "\n",
       "mpl.figure = function (figure_id, websocket, ondownload, parent_element) {\n",
       "    this.id = figure_id;\n",
       "\n",
       "    this.ws = websocket;\n",
       "\n",
       "    this.supports_binary = this.ws.binaryType !== undefined;\n",
       "\n",
       "    if (!this.supports_binary) {\n",
       "        var warnings = document.getElementById('mpl-warnings');\n",
       "        if (warnings) {\n",
       "            warnings.style.display = 'block';\n",
       "            warnings.textContent =\n",
       "                'This browser does not support binary websocket messages. ' +\n",
       "                'Performance may be slow.';\n",
       "        }\n",
       "    }\n",
       "\n",
       "    this.imageObj = new Image();\n",
       "\n",
       "    this.context = undefined;\n",
       "    this.message = undefined;\n",
       "    this.canvas = undefined;\n",
       "    this.rubberband_canvas = undefined;\n",
       "    this.rubberband_context = undefined;\n",
       "    this.format_dropdown = undefined;\n",
       "\n",
       "    this.image_mode = 'full';\n",
       "\n",
       "    this.root = document.createElement('div');\n",
       "    this.root.setAttribute('style', 'display: inline-block');\n",
       "    this._root_extra_style(this.root);\n",
       "\n",
       "    parent_element.appendChild(this.root);\n",
       "\n",
       "    this._init_header(this);\n",
       "    this._init_canvas(this);\n",
       "    this._init_toolbar(this);\n",
       "\n",
       "    var fig = this;\n",
       "\n",
       "    this.waiting = false;\n",
       "\n",
       "    this.ws.onopen = function () {\n",
       "        fig.send_message('supports_binary', { value: fig.supports_binary });\n",
       "        fig.send_message('send_image_mode', {});\n",
       "        if (fig.ratio !== 1) {\n",
       "            fig.send_message('set_dpi_ratio', { dpi_ratio: fig.ratio });\n",
       "        }\n",
       "        fig.send_message('refresh', {});\n",
       "    };\n",
       "\n",
       "    this.imageObj.onload = function () {\n",
       "        if (fig.image_mode === 'full') {\n",
       "            // Full images could contain transparency (where diff images\n",
       "            // almost always do), so we need to clear the canvas so that\n",
       "            // there is no ghosting.\n",
       "            fig.context.clearRect(0, 0, fig.canvas.width, fig.canvas.height);\n",
       "        }\n",
       "        fig.context.drawImage(fig.imageObj, 0, 0);\n",
       "    };\n",
       "\n",
       "    this.imageObj.onunload = function () {\n",
       "        fig.ws.close();\n",
       "    };\n",
       "\n",
       "    this.ws.onmessage = this._make_on_message_function(this);\n",
       "\n",
       "    this.ondownload = ondownload;\n",
       "};\n",
       "\n",
       "mpl.figure.prototype._init_header = function () {\n",
       "    var titlebar = document.createElement('div');\n",
       "    titlebar.classList =\n",
       "        'ui-dialog-titlebar ui-widget-header ui-corner-all ui-helper-clearfix';\n",
       "    var titletext = document.createElement('div');\n",
       "    titletext.classList = 'ui-dialog-title';\n",
       "    titletext.setAttribute(\n",
       "        'style',\n",
       "        'width: 100%; text-align: center; padding: 3px;'\n",
       "    );\n",
       "    titlebar.appendChild(titletext);\n",
       "    this.root.appendChild(titlebar);\n",
       "    this.header = titletext;\n",
       "};\n",
       "\n",
       "mpl.figure.prototype._canvas_extra_style = function (_canvas_div) {};\n",
       "\n",
       "mpl.figure.prototype._root_extra_style = function (_canvas_div) {};\n",
       "\n",
       "mpl.figure.prototype._init_canvas = function () {\n",
       "    var fig = this;\n",
       "\n",
       "    var canvas_div = (this.canvas_div = document.createElement('div'));\n",
       "    canvas_div.setAttribute(\n",
       "        'style',\n",
       "        'border: 1px solid #ddd;' +\n",
       "            'box-sizing: content-box;' +\n",
       "            'clear: both;' +\n",
       "            'min-height: 1px;' +\n",
       "            'min-width: 1px;' +\n",
       "            'outline: 0;' +\n",
       "            'overflow: hidden;' +\n",
       "            'position: relative;' +\n",
       "            'resize: both;'\n",
       "    );\n",
       "\n",
       "    function on_keyboard_event_closure(name) {\n",
       "        return function (event) {\n",
       "            return fig.key_event(event, name);\n",
       "        };\n",
       "    }\n",
       "\n",
       "    canvas_div.addEventListener(\n",
       "        'keydown',\n",
       "        on_keyboard_event_closure('key_press')\n",
       "    );\n",
       "    canvas_div.addEventListener(\n",
       "        'keyup',\n",
       "        on_keyboard_event_closure('key_release')\n",
       "    );\n",
       "\n",
       "    this._canvas_extra_style(canvas_div);\n",
       "    this.root.appendChild(canvas_div);\n",
       "\n",
       "    var canvas = (this.canvas = document.createElement('canvas'));\n",
       "    canvas.classList.add('mpl-canvas');\n",
       "    canvas.setAttribute('style', 'box-sizing: content-box;');\n",
       "\n",
       "    this.context = canvas.getContext('2d');\n",
       "\n",
       "    var backingStore =\n",
       "        this.context.backingStorePixelRatio ||\n",
       "        this.context.webkitBackingStorePixelRatio ||\n",
       "        this.context.mozBackingStorePixelRatio ||\n",
       "        this.context.msBackingStorePixelRatio ||\n",
       "        this.context.oBackingStorePixelRatio ||\n",
       "        this.context.backingStorePixelRatio ||\n",
       "        1;\n",
       "\n",
       "    this.ratio = (window.devicePixelRatio || 1) / backingStore;\n",
       "\n",
       "    var rubberband_canvas = (this.rubberband_canvas = document.createElement(\n",
       "        'canvas'\n",
       "    ));\n",
       "    rubberband_canvas.setAttribute(\n",
       "        'style',\n",
       "        'box-sizing: content-box; position: absolute; left: 0; top: 0; z-index: 1;'\n",
       "    );\n",
       "\n",
       "    // Apply a ponyfill if ResizeObserver is not implemented by browser.\n",
       "    if (this.ResizeObserver === undefined) {\n",
       "        if (window.ResizeObserver !== undefined) {\n",
       "            this.ResizeObserver = window.ResizeObserver;\n",
       "        } else {\n",
       "            var obs = _JSXTOOLS_RESIZE_OBSERVER({});\n",
       "            this.ResizeObserver = obs.ResizeObserver;\n",
       "        }\n",
       "    }\n",
       "\n",
       "    this.resizeObserverInstance = new this.ResizeObserver(function (entries) {\n",
       "        var nentries = entries.length;\n",
       "        for (var i = 0; i < nentries; i++) {\n",
       "            var entry = entries[i];\n",
       "            var width, height;\n",
       "            if (entry.contentBoxSize) {\n",
       "                if (entry.contentBoxSize instanceof Array) {\n",
       "                    // Chrome 84 implements new version of spec.\n",
       "                    width = entry.contentBoxSize[0].inlineSize;\n",
       "                    height = entry.contentBoxSize[0].blockSize;\n",
       "                } else {\n",
       "                    // Firefox implements old version of spec.\n",
       "                    width = entry.contentBoxSize.inlineSize;\n",
       "                    height = entry.contentBoxSize.blockSize;\n",
       "                }\n",
       "            } else {\n",
       "                // Chrome <84 implements even older version of spec.\n",
       "                width = entry.contentRect.width;\n",
       "                height = entry.contentRect.height;\n",
       "            }\n",
       "\n",
       "            // Keep the size of the canvas and rubber band canvas in sync with\n",
       "            // the canvas container.\n",
       "            if (entry.devicePixelContentBoxSize) {\n",
       "                // Chrome 84 implements new version of spec.\n",
       "                canvas.setAttribute(\n",
       "                    'width',\n",
       "                    entry.devicePixelContentBoxSize[0].inlineSize\n",
       "                );\n",
       "                canvas.setAttribute(\n",
       "                    'height',\n",
       "                    entry.devicePixelContentBoxSize[0].blockSize\n",
       "                );\n",
       "            } else {\n",
       "                canvas.setAttribute('width', width * fig.ratio);\n",
       "                canvas.setAttribute('height', height * fig.ratio);\n",
       "            }\n",
       "            canvas.setAttribute(\n",
       "                'style',\n",
       "                'width: ' + width + 'px; height: ' + height + 'px;'\n",
       "            );\n",
       "\n",
       "            rubberband_canvas.setAttribute('width', width);\n",
       "            rubberband_canvas.setAttribute('height', height);\n",
       "\n",
       "            // And update the size in Python. We ignore the initial 0/0 size\n",
       "            // that occurs as the element is placed into the DOM, which should\n",
       "            // otherwise not happen due to the minimum size styling.\n",
       "            if (fig.ws.readyState == 1 && width != 0 && height != 0) {\n",
       "                fig.request_resize(width, height);\n",
       "            }\n",
       "        }\n",
       "    });\n",
       "    this.resizeObserverInstance.observe(canvas_div);\n",
       "\n",
       "    function on_mouse_event_closure(name) {\n",
       "        return function (event) {\n",
       "            return fig.mouse_event(event, name);\n",
       "        };\n",
       "    }\n",
       "\n",
       "    rubberband_canvas.addEventListener(\n",
       "        'mousedown',\n",
       "        on_mouse_event_closure('button_press')\n",
       "    );\n",
       "    rubberband_canvas.addEventListener(\n",
       "        'mouseup',\n",
       "        on_mouse_event_closure('button_release')\n",
       "    );\n",
       "    rubberband_canvas.addEventListener(\n",
       "        'dblclick',\n",
       "        on_mouse_event_closure('dblclick')\n",
       "    );\n",
       "    // Throttle sequential mouse events to 1 every 20ms.\n",
       "    rubberband_canvas.addEventListener(\n",
       "        'mousemove',\n",
       "        on_mouse_event_closure('motion_notify')\n",
       "    );\n",
       "\n",
       "    rubberband_canvas.addEventListener(\n",
       "        'mouseenter',\n",
       "        on_mouse_event_closure('figure_enter')\n",
       "    );\n",
       "    rubberband_canvas.addEventListener(\n",
       "        'mouseleave',\n",
       "        on_mouse_event_closure('figure_leave')\n",
       "    );\n",
       "\n",
       "    canvas_div.addEventListener('wheel', function (event) {\n",
       "        if (event.deltaY < 0) {\n",
       "            event.step = 1;\n",
       "        } else {\n",
       "            event.step = -1;\n",
       "        }\n",
       "        on_mouse_event_closure('scroll')(event);\n",
       "    });\n",
       "\n",
       "    canvas_div.appendChild(canvas);\n",
       "    canvas_div.appendChild(rubberband_canvas);\n",
       "\n",
       "    this.rubberband_context = rubberband_canvas.getContext('2d');\n",
       "    this.rubberband_context.strokeStyle = '#000000';\n",
       "\n",
       "    this._resize_canvas = function (width, height, forward) {\n",
       "        if (forward) {\n",
       "            canvas_div.style.width = width + 'px';\n",
       "            canvas_div.style.height = height + 'px';\n",
       "        }\n",
       "    };\n",
       "\n",
       "    // Disable right mouse context menu.\n",
       "    this.rubberband_canvas.addEventListener('contextmenu', function (_e) {\n",
       "        event.preventDefault();\n",
       "        return false;\n",
       "    });\n",
       "\n",
       "    function set_focus() {\n",
       "        canvas.focus();\n",
       "        canvas_div.focus();\n",
       "    }\n",
       "\n",
       "    window.setTimeout(set_focus, 100);\n",
       "};\n",
       "\n",
       "mpl.figure.prototype._init_toolbar = function () {\n",
       "    var fig = this;\n",
       "\n",
       "    var toolbar = document.createElement('div');\n",
       "    toolbar.classList = 'mpl-toolbar';\n",
       "    this.root.appendChild(toolbar);\n",
       "\n",
       "    function on_click_closure(name) {\n",
       "        return function (_event) {\n",
       "            return fig.toolbar_button_onclick(name);\n",
       "        };\n",
       "    }\n",
       "\n",
       "    function on_mouseover_closure(tooltip) {\n",
       "        return function (event) {\n",
       "            if (!event.currentTarget.disabled) {\n",
       "                return fig.toolbar_button_onmouseover(tooltip);\n",
       "            }\n",
       "        };\n",
       "    }\n",
       "\n",
       "    fig.buttons = {};\n",
       "    var buttonGroup = document.createElement('div');\n",
       "    buttonGroup.classList = 'mpl-button-group';\n",
       "    for (var toolbar_ind in mpl.toolbar_items) {\n",
       "        var name = mpl.toolbar_items[toolbar_ind][0];\n",
       "        var tooltip = mpl.toolbar_items[toolbar_ind][1];\n",
       "        var image = mpl.toolbar_items[toolbar_ind][2];\n",
       "        var method_name = mpl.toolbar_items[toolbar_ind][3];\n",
       "\n",
       "        if (!name) {\n",
       "            /* Instead of a spacer, we start a new button group. */\n",
       "            if (buttonGroup.hasChildNodes()) {\n",
       "                toolbar.appendChild(buttonGroup);\n",
       "            }\n",
       "            buttonGroup = document.createElement('div');\n",
       "            buttonGroup.classList = 'mpl-button-group';\n",
       "            continue;\n",
       "        }\n",
       "\n",
       "        var button = (fig.buttons[name] = document.createElement('button'));\n",
       "        button.classList = 'mpl-widget';\n",
       "        button.setAttribute('role', 'button');\n",
       "        button.setAttribute('aria-disabled', 'false');\n",
       "        button.addEventListener('click', on_click_closure(method_name));\n",
       "        button.addEventListener('mouseover', on_mouseover_closure(tooltip));\n",
       "\n",
       "        var icon_img = document.createElement('img');\n",
       "        icon_img.src = '_images/' + image + '.png';\n",
       "        icon_img.srcset = '_images/' + image + '_large.png 2x';\n",
       "        icon_img.alt = tooltip;\n",
       "        button.appendChild(icon_img);\n",
       "\n",
       "        buttonGroup.appendChild(button);\n",
       "    }\n",
       "\n",
       "    if (buttonGroup.hasChildNodes()) {\n",
       "        toolbar.appendChild(buttonGroup);\n",
       "    }\n",
       "\n",
       "    var fmt_picker = document.createElement('select');\n",
       "    fmt_picker.classList = 'mpl-widget';\n",
       "    toolbar.appendChild(fmt_picker);\n",
       "    this.format_dropdown = fmt_picker;\n",
       "\n",
       "    for (var ind in mpl.extensions) {\n",
       "        var fmt = mpl.extensions[ind];\n",
       "        var option = document.createElement('option');\n",
       "        option.selected = fmt === mpl.default_extension;\n",
       "        option.innerHTML = fmt;\n",
       "        fmt_picker.appendChild(option);\n",
       "    }\n",
       "\n",
       "    var status_bar = document.createElement('span');\n",
       "    status_bar.classList = 'mpl-message';\n",
       "    toolbar.appendChild(status_bar);\n",
       "    this.message = status_bar;\n",
       "};\n",
       "\n",
       "mpl.figure.prototype.request_resize = function (x_pixels, y_pixels) {\n",
       "    // Request matplotlib to resize the figure. Matplotlib will then trigger a resize in the client,\n",
       "    // which will in turn request a refresh of the image.\n",
       "    this.send_message('resize', { width: x_pixels, height: y_pixels });\n",
       "};\n",
       "\n",
       "mpl.figure.prototype.send_message = function (type, properties) {\n",
       "    properties['type'] = type;\n",
       "    properties['figure_id'] = this.id;\n",
       "    this.ws.send(JSON.stringify(properties));\n",
       "};\n",
       "\n",
       "mpl.figure.prototype.send_draw_message = function () {\n",
       "    if (!this.waiting) {\n",
       "        this.waiting = true;\n",
       "        this.ws.send(JSON.stringify({ type: 'draw', figure_id: this.id }));\n",
       "    }\n",
       "};\n",
       "\n",
       "mpl.figure.prototype.handle_save = function (fig, _msg) {\n",
       "    var format_dropdown = fig.format_dropdown;\n",
       "    var format = format_dropdown.options[format_dropdown.selectedIndex].value;\n",
       "    fig.ondownload(fig, format);\n",
       "};\n",
       "\n",
       "mpl.figure.prototype.handle_resize = function (fig, msg) {\n",
       "    var size = msg['size'];\n",
       "    if (size[0] !== fig.canvas.width || size[1] !== fig.canvas.height) {\n",
       "        fig._resize_canvas(size[0], size[1], msg['forward']);\n",
       "        fig.send_message('refresh', {});\n",
       "    }\n",
       "};\n",
       "\n",
       "mpl.figure.prototype.handle_rubberband = function (fig, msg) {\n",
       "    var x0 = msg['x0'] / fig.ratio;\n",
       "    var y0 = (fig.canvas.height - msg['y0']) / fig.ratio;\n",
       "    var x1 = msg['x1'] / fig.ratio;\n",
       "    var y1 = (fig.canvas.height - msg['y1']) / fig.ratio;\n",
       "    x0 = Math.floor(x0) + 0.5;\n",
       "    y0 = Math.floor(y0) + 0.5;\n",
       "    x1 = Math.floor(x1) + 0.5;\n",
       "    y1 = Math.floor(y1) + 0.5;\n",
       "    var min_x = Math.min(x0, x1);\n",
       "    var min_y = Math.min(y0, y1);\n",
       "    var width = Math.abs(x1 - x0);\n",
       "    var height = Math.abs(y1 - y0);\n",
       "\n",
       "    fig.rubberband_context.clearRect(\n",
       "        0,\n",
       "        0,\n",
       "        fig.canvas.width / fig.ratio,\n",
       "        fig.canvas.height / fig.ratio\n",
       "    );\n",
       "\n",
       "    fig.rubberband_context.strokeRect(min_x, min_y, width, height);\n",
       "};\n",
       "\n",
       "mpl.figure.prototype.handle_figure_label = function (fig, msg) {\n",
       "    // Updates the figure title.\n",
       "    fig.header.textContent = msg['label'];\n",
       "};\n",
       "\n",
       "mpl.figure.prototype.handle_cursor = function (fig, msg) {\n",
       "    var cursor = msg['cursor'];\n",
       "    switch (cursor) {\n",
       "        case 0:\n",
       "            cursor = 'pointer';\n",
       "            break;\n",
       "        case 1:\n",
       "            cursor = 'default';\n",
       "            break;\n",
       "        case 2:\n",
       "            cursor = 'crosshair';\n",
       "            break;\n",
       "        case 3:\n",
       "            cursor = 'move';\n",
       "            break;\n",
       "    }\n",
       "    fig.rubberband_canvas.style.cursor = cursor;\n",
       "};\n",
       "\n",
       "mpl.figure.prototype.handle_message = function (fig, msg) {\n",
       "    fig.message.textContent = msg['message'];\n",
       "};\n",
       "\n",
       "mpl.figure.prototype.handle_draw = function (fig, _msg) {\n",
       "    // Request the server to send over a new figure.\n",
       "    fig.send_draw_message();\n",
       "};\n",
       "\n",
       "mpl.figure.prototype.handle_image_mode = function (fig, msg) {\n",
       "    fig.image_mode = msg['mode'];\n",
       "};\n",
       "\n",
       "mpl.figure.prototype.handle_history_buttons = function (fig, msg) {\n",
       "    for (var key in msg) {\n",
       "        if (!(key in fig.buttons)) {\n",
       "            continue;\n",
       "        }\n",
       "        fig.buttons[key].disabled = !msg[key];\n",
       "        fig.buttons[key].setAttribute('aria-disabled', !msg[key]);\n",
       "    }\n",
       "};\n",
       "\n",
       "mpl.figure.prototype.handle_navigate_mode = function (fig, msg) {\n",
       "    if (msg['mode'] === 'PAN') {\n",
       "        fig.buttons['Pan'].classList.add('active');\n",
       "        fig.buttons['Zoom'].classList.remove('active');\n",
       "    } else if (msg['mode'] === 'ZOOM') {\n",
       "        fig.buttons['Pan'].classList.remove('active');\n",
       "        fig.buttons['Zoom'].classList.add('active');\n",
       "    } else {\n",
       "        fig.buttons['Pan'].classList.remove('active');\n",
       "        fig.buttons['Zoom'].classList.remove('active');\n",
       "    }\n",
       "};\n",
       "\n",
       "mpl.figure.prototype.updated_canvas_event = function () {\n",
       "    // Called whenever the canvas gets updated.\n",
       "    this.send_message('ack', {});\n",
       "};\n",
       "\n",
       "// A function to construct a web socket function for onmessage handling.\n",
       "// Called in the figure constructor.\n",
       "mpl.figure.prototype._make_on_message_function = function (fig) {\n",
       "    return function socket_on_message(evt) {\n",
       "        if (evt.data instanceof Blob) {\n",
       "            var img = evt.data;\n",
       "            if (img.type !== 'image/png') {\n",
       "                /* FIXME: We get \"Resource interpreted as Image but\n",
       "                 * transferred with MIME type text/plain:\" errors on\n",
       "                 * Chrome.  But how to set the MIME type?  It doesn't seem\n",
       "                 * to be part of the websocket stream */\n",
       "                img.type = 'image/png';\n",
       "            }\n",
       "\n",
       "            /* Free the memory for the previous frames */\n",
       "            if (fig.imageObj.src) {\n",
       "                (window.URL || window.webkitURL).revokeObjectURL(\n",
       "                    fig.imageObj.src\n",
       "                );\n",
       "            }\n",
       "\n",
       "            fig.imageObj.src = (window.URL || window.webkitURL).createObjectURL(\n",
       "                img\n",
       "            );\n",
       "            fig.updated_canvas_event();\n",
       "            fig.waiting = false;\n",
       "            return;\n",
       "        } else if (\n",
       "            typeof evt.data === 'string' &&\n",
       "            evt.data.slice(0, 21) === 'data:image/png;base64'\n",
       "        ) {\n",
       "            fig.imageObj.src = evt.data;\n",
       "            fig.updated_canvas_event();\n",
       "            fig.waiting = false;\n",
       "            return;\n",
       "        }\n",
       "\n",
       "        var msg = JSON.parse(evt.data);\n",
       "        var msg_type = msg['type'];\n",
       "\n",
       "        // Call the  \"handle_{type}\" callback, which takes\n",
       "        // the figure and JSON message as its only arguments.\n",
       "        try {\n",
       "            var callback = fig['handle_' + msg_type];\n",
       "        } catch (e) {\n",
       "            console.log(\n",
       "                \"No handler for the '\" + msg_type + \"' message type: \",\n",
       "                msg\n",
       "            );\n",
       "            return;\n",
       "        }\n",
       "\n",
       "        if (callback) {\n",
       "            try {\n",
       "                // console.log(\"Handling '\" + msg_type + \"' message: \", msg);\n",
       "                callback(fig, msg);\n",
       "            } catch (e) {\n",
       "                console.log(\n",
       "                    \"Exception inside the 'handler_\" + msg_type + \"' callback:\",\n",
       "                    e,\n",
       "                    e.stack,\n",
       "                    msg\n",
       "                );\n",
       "            }\n",
       "        }\n",
       "    };\n",
       "};\n",
       "\n",
       "// from http://stackoverflow.com/questions/1114465/getting-mouse-location-in-canvas\n",
       "mpl.findpos = function (e) {\n",
       "    //this section is from http://www.quirksmode.org/js/events_properties.html\n",
       "    var targ;\n",
       "    if (!e) {\n",
       "        e = window.event;\n",
       "    }\n",
       "    if (e.target) {\n",
       "        targ = e.target;\n",
       "    } else if (e.srcElement) {\n",
       "        targ = e.srcElement;\n",
       "    }\n",
       "    if (targ.nodeType === 3) {\n",
       "        // defeat Safari bug\n",
       "        targ = targ.parentNode;\n",
       "    }\n",
       "\n",
       "    // pageX,Y are the mouse positions relative to the document\n",
       "    var boundingRect = targ.getBoundingClientRect();\n",
       "    var x = e.pageX - (boundingRect.left + document.body.scrollLeft);\n",
       "    var y = e.pageY - (boundingRect.top + document.body.scrollTop);\n",
       "\n",
       "    return { x: x, y: y };\n",
       "};\n",
       "\n",
       "/*\n",
       " * return a copy of an object with only non-object keys\n",
       " * we need this to avoid circular references\n",
       " * http://stackoverflow.com/a/24161582/3208463\n",
       " */\n",
       "function simpleKeys(original) {\n",
       "    return Object.keys(original).reduce(function (obj, key) {\n",
       "        if (typeof original[key] !== 'object') {\n",
       "            obj[key] = original[key];\n",
       "        }\n",
       "        return obj;\n",
       "    }, {});\n",
       "}\n",
       "\n",
       "mpl.figure.prototype.mouse_event = function (event, name) {\n",
       "    var canvas_pos = mpl.findpos(event);\n",
       "\n",
       "    if (name === 'button_press') {\n",
       "        this.canvas.focus();\n",
       "        this.canvas_div.focus();\n",
       "    }\n",
       "\n",
       "    var x = canvas_pos.x * this.ratio;\n",
       "    var y = canvas_pos.y * this.ratio;\n",
       "\n",
       "    this.send_message(name, {\n",
       "        x: x,\n",
       "        y: y,\n",
       "        button: event.button,\n",
       "        step: event.step,\n",
       "        guiEvent: simpleKeys(event),\n",
       "    });\n",
       "\n",
       "    /* This prevents the web browser from automatically changing to\n",
       "     * the text insertion cursor when the button is pressed.  We want\n",
       "     * to control all of the cursor setting manually through the\n",
       "     * 'cursor' event from matplotlib */\n",
       "    event.preventDefault();\n",
       "    return false;\n",
       "};\n",
       "\n",
       "mpl.figure.prototype._key_event_extra = function (_event, _name) {\n",
       "    // Handle any extra behaviour associated with a key event\n",
       "};\n",
       "\n",
       "mpl.figure.prototype.key_event = function (event, name) {\n",
       "    // Prevent repeat events\n",
       "    if (name === 'key_press') {\n",
       "        if (event.key === this._key) {\n",
       "            return;\n",
       "        } else {\n",
       "            this._key = event.key;\n",
       "        }\n",
       "    }\n",
       "    if (name === 'key_release') {\n",
       "        this._key = null;\n",
       "    }\n",
       "\n",
       "    var value = '';\n",
       "    if (event.ctrlKey && event.key !== 'Control') {\n",
       "        value += 'ctrl+';\n",
       "    }\n",
       "    else if (event.altKey && event.key !== 'Alt') {\n",
       "        value += 'alt+';\n",
       "    }\n",
       "    else if (event.shiftKey && event.key !== 'Shift') {\n",
       "        value += 'shift+';\n",
       "    }\n",
       "\n",
       "    value += 'k' + event.key;\n",
       "\n",
       "    this._key_event_extra(event, name);\n",
       "\n",
       "    this.send_message(name, { key: value, guiEvent: simpleKeys(event) });\n",
       "    return false;\n",
       "};\n",
       "\n",
       "mpl.figure.prototype.toolbar_button_onclick = function (name) {\n",
       "    if (name === 'download') {\n",
       "        this.handle_save(this, null);\n",
       "    } else {\n",
       "        this.send_message('toolbar_button', { name: name });\n",
       "    }\n",
       "};\n",
       "\n",
       "mpl.figure.prototype.toolbar_button_onmouseover = function (tooltip) {\n",
       "    this.message.textContent = tooltip;\n",
       "};\n",
       "\n",
       "///////////////// REMAINING CONTENT GENERATED BY embed_js.py /////////////////\n",
       "// prettier-ignore\n",
       "var _JSXTOOLS_RESIZE_OBSERVER=function(A){var t,i=new WeakMap,n=new WeakMap,a=new WeakMap,r=new WeakMap,o=new Set;function s(e){if(!(this instanceof s))throw new TypeError(\"Constructor requires 'new' operator\");i.set(this,e)}function h(){throw new TypeError(\"Function is not a constructor\")}function c(e,t,i,n){e=0 in arguments?Number(arguments[0]):0,t=1 in arguments?Number(arguments[1]):0,i=2 in arguments?Number(arguments[2]):0,n=3 in arguments?Number(arguments[3]):0,this.right=(this.x=this.left=e)+(this.width=i),this.bottom=(this.y=this.top=t)+(this.height=n),Object.freeze(this)}function d(){t=requestAnimationFrame(d);var s=new WeakMap,p=new Set;o.forEach((function(t){r.get(t).forEach((function(i){var r=t instanceof window.SVGElement,o=a.get(t),d=r?0:parseFloat(o.paddingTop),f=r?0:parseFloat(o.paddingRight),l=r?0:parseFloat(o.paddingBottom),u=r?0:parseFloat(o.paddingLeft),g=r?0:parseFloat(o.borderTopWidth),m=r?0:parseFloat(o.borderRightWidth),w=r?0:parseFloat(o.borderBottomWidth),b=u+f,F=d+l,v=(r?0:parseFloat(o.borderLeftWidth))+m,W=g+w,y=r?0:t.offsetHeight-W-t.clientHeight,E=r?0:t.offsetWidth-v-t.clientWidth,R=b+v,z=F+W,M=r?t.width:parseFloat(o.width)-R-E,O=r?t.height:parseFloat(o.height)-z-y;if(n.has(t)){var k=n.get(t);if(k[0]===M&&k[1]===O)return}n.set(t,[M,O]);var S=Object.create(h.prototype);S.target=t,S.contentRect=new c(u,d,M,O),s.has(i)||(s.set(i,[]),p.add(i)),s.get(i).push(S)}))})),p.forEach((function(e){i.get(e).call(e,s.get(e),e)}))}return s.prototype.observe=function(i){if(i instanceof window.Element){r.has(i)||(r.set(i,new Set),o.add(i),a.set(i,window.getComputedStyle(i)));var n=r.get(i);n.has(this)||n.add(this),cancelAnimationFrame(t),t=requestAnimationFrame(d)}},s.prototype.unobserve=function(i){if(i instanceof window.Element&&r.has(i)){var n=r.get(i);n.has(this)&&(n.delete(this),n.size||(r.delete(i),o.delete(i))),n.size||r.delete(i),o.size||cancelAnimationFrame(t)}},A.DOMRectReadOnly=c,A.ResizeObserver=s,A.ResizeObserverEntry=h,A}; // eslint-disable-line\n",
       "mpl.toolbar_items = [[\"Home\", \"Reset original view\", \"fa fa-home icon-home\", \"home\"], [\"Back\", \"Back to previous view\", \"fa fa-arrow-left icon-arrow-left\", \"back\"], [\"Forward\", \"Forward to next view\", \"fa fa-arrow-right icon-arrow-right\", \"forward\"], [\"\", \"\", \"\", \"\"], [\"Pan\", \"Left button pans, Right button zooms\\nx/y fixes axis, CTRL fixes aspect\", \"fa fa-arrows icon-move\", \"pan\"], [\"Zoom\", \"Zoom to rectangle\\nx/y fixes axis, CTRL fixes aspect\", \"fa fa-square-o icon-check-empty\", \"zoom\"], [\"\", \"\", \"\", \"\"], [\"Download\", \"Download plot\", \"fa fa-floppy-o icon-save\", \"download\"]];\n",
       "\n",
       "mpl.extensions = [\"eps\", \"jpeg\", \"pgf\", \"pdf\", \"png\", \"ps\", \"raw\", \"svg\", \"tif\"];\n",
       "\n",
       "mpl.default_extension = \"png\";/* global mpl */\n",
       "\n",
       "var comm_websocket_adapter = function (comm) {\n",
       "    // Create a \"websocket\"-like object which calls the given IPython comm\n",
       "    // object with the appropriate methods. Currently this is a non binary\n",
       "    // socket, so there is still some room for performance tuning.\n",
       "    var ws = {};\n",
       "\n",
       "    ws.binaryType = comm.kernel.ws.binaryType;\n",
       "    ws.readyState = comm.kernel.ws.readyState;\n",
       "    function updateReadyState(_event) {\n",
       "        if (comm.kernel.ws) {\n",
       "            ws.readyState = comm.kernel.ws.readyState;\n",
       "        } else {\n",
       "            ws.readyState = 3; // Closed state.\n",
       "        }\n",
       "    }\n",
       "    comm.kernel.ws.addEventListener('open', updateReadyState);\n",
       "    comm.kernel.ws.addEventListener('close', updateReadyState);\n",
       "    comm.kernel.ws.addEventListener('error', updateReadyState);\n",
       "\n",
       "    ws.close = function () {\n",
       "        comm.close();\n",
       "    };\n",
       "    ws.send = function (m) {\n",
       "        //console.log('sending', m);\n",
       "        comm.send(m);\n",
       "    };\n",
       "    // Register the callback with on_msg.\n",
       "    comm.on_msg(function (msg) {\n",
       "        //console.log('receiving', msg['content']['data'], msg);\n",
       "        var data = msg['content']['data'];\n",
       "        if (data['blob'] !== undefined) {\n",
       "            data = {\n",
       "                data: new Blob(msg['buffers'], { type: data['blob'] }),\n",
       "            };\n",
       "        }\n",
       "        // Pass the mpl event to the overridden (by mpl) onmessage function.\n",
       "        ws.onmessage(data);\n",
       "    });\n",
       "    return ws;\n",
       "};\n",
       "\n",
       "mpl.mpl_figure_comm = function (comm, msg) {\n",
       "    // This is the function which gets called when the mpl process\n",
       "    // starts-up an IPython Comm through the \"matplotlib\" channel.\n",
       "\n",
       "    var id = msg.content.data.id;\n",
       "    // Get hold of the div created by the display call when the Comm\n",
       "    // socket was opened in Python.\n",
       "    var element = document.getElementById(id);\n",
       "    var ws_proxy = comm_websocket_adapter(comm);\n",
       "\n",
       "    function ondownload(figure, _format) {\n",
       "        window.open(figure.canvas.toDataURL());\n",
       "    }\n",
       "\n",
       "    var fig = new mpl.figure(id, ws_proxy, ondownload, element);\n",
       "\n",
       "    // Call onopen now - mpl needs it, as it is assuming we've passed it a real\n",
       "    // web socket which is closed, not our websocket->open comm proxy.\n",
       "    ws_proxy.onopen();\n",
       "\n",
       "    fig.parent_element = element;\n",
       "    fig.cell_info = mpl.find_output_cell(\"<div id='\" + id + \"'></div>\");\n",
       "    if (!fig.cell_info) {\n",
       "        console.error('Failed to find cell for figure', id, fig);\n",
       "        return;\n",
       "    }\n",
       "    fig.cell_info[0].output_area.element.on(\n",
       "        'cleared',\n",
       "        { fig: fig },\n",
       "        fig._remove_fig_handler\n",
       "    );\n",
       "};\n",
       "\n",
       "mpl.figure.prototype.handle_close = function (fig, msg) {\n",
       "    var width = fig.canvas.width / fig.ratio;\n",
       "    fig.cell_info[0].output_area.element.off(\n",
       "        'cleared',\n",
       "        fig._remove_fig_handler\n",
       "    );\n",
       "    fig.resizeObserverInstance.unobserve(fig.canvas_div);\n",
       "\n",
       "    // Update the output cell to use the data from the current canvas.\n",
       "    fig.push_to_output();\n",
       "    var dataURL = fig.canvas.toDataURL();\n",
       "    // Re-enable the keyboard manager in IPython - without this line, in FF,\n",
       "    // the notebook keyboard shortcuts fail.\n",
       "    IPython.keyboard_manager.enable();\n",
       "    fig.parent_element.innerHTML =\n",
       "        '<img src=\"' + dataURL + '\" width=\"' + width + '\">';\n",
       "    fig.close_ws(fig, msg);\n",
       "};\n",
       "\n",
       "mpl.figure.prototype.close_ws = function (fig, msg) {\n",
       "    fig.send_message('closing', msg);\n",
       "    // fig.ws.close()\n",
       "};\n",
       "\n",
       "mpl.figure.prototype.push_to_output = function (_remove_interactive) {\n",
       "    // Turn the data on the canvas into data in the output cell.\n",
       "    var width = this.canvas.width / this.ratio;\n",
       "    var dataURL = this.canvas.toDataURL();\n",
       "    this.cell_info[1]['text/html'] =\n",
       "        '<img src=\"' + dataURL + '\" width=\"' + width + '\">';\n",
       "};\n",
       "\n",
       "mpl.figure.prototype.updated_canvas_event = function () {\n",
       "    // Tell IPython that the notebook contents must change.\n",
       "    IPython.notebook.set_dirty(true);\n",
       "    this.send_message('ack', {});\n",
       "    var fig = this;\n",
       "    // Wait a second, then push the new image to the DOM so\n",
       "    // that it is saved nicely (might be nice to debounce this).\n",
       "    setTimeout(function () {\n",
       "        fig.push_to_output();\n",
       "    }, 1000);\n",
       "};\n",
       "\n",
       "mpl.figure.prototype._init_toolbar = function () {\n",
       "    var fig = this;\n",
       "\n",
       "    var toolbar = document.createElement('div');\n",
       "    toolbar.classList = 'btn-toolbar';\n",
       "    this.root.appendChild(toolbar);\n",
       "\n",
       "    function on_click_closure(name) {\n",
       "        return function (_event) {\n",
       "            return fig.toolbar_button_onclick(name);\n",
       "        };\n",
       "    }\n",
       "\n",
       "    function on_mouseover_closure(tooltip) {\n",
       "        return function (event) {\n",
       "            if (!event.currentTarget.disabled) {\n",
       "                return fig.toolbar_button_onmouseover(tooltip);\n",
       "            }\n",
       "        };\n",
       "    }\n",
       "\n",
       "    fig.buttons = {};\n",
       "    var buttonGroup = document.createElement('div');\n",
       "    buttonGroup.classList = 'btn-group';\n",
       "    var button;\n",
       "    for (var toolbar_ind in mpl.toolbar_items) {\n",
       "        var name = mpl.toolbar_items[toolbar_ind][0];\n",
       "        var tooltip = mpl.toolbar_items[toolbar_ind][1];\n",
       "        var image = mpl.toolbar_items[toolbar_ind][2];\n",
       "        var method_name = mpl.toolbar_items[toolbar_ind][3];\n",
       "\n",
       "        if (!name) {\n",
       "            /* Instead of a spacer, we start a new button group. */\n",
       "            if (buttonGroup.hasChildNodes()) {\n",
       "                toolbar.appendChild(buttonGroup);\n",
       "            }\n",
       "            buttonGroup = document.createElement('div');\n",
       "            buttonGroup.classList = 'btn-group';\n",
       "            continue;\n",
       "        }\n",
       "\n",
       "        button = fig.buttons[name] = document.createElement('button');\n",
       "        button.classList = 'btn btn-default';\n",
       "        button.href = '#';\n",
       "        button.title = name;\n",
       "        button.innerHTML = '<i class=\"fa ' + image + ' fa-lg\"></i>';\n",
       "        button.addEventListener('click', on_click_closure(method_name));\n",
       "        button.addEventListener('mouseover', on_mouseover_closure(tooltip));\n",
       "        buttonGroup.appendChild(button);\n",
       "    }\n",
       "\n",
       "    if (buttonGroup.hasChildNodes()) {\n",
       "        toolbar.appendChild(buttonGroup);\n",
       "    }\n",
       "\n",
       "    // Add the status bar.\n",
       "    var status_bar = document.createElement('span');\n",
       "    status_bar.classList = 'mpl-message pull-right';\n",
       "    toolbar.appendChild(status_bar);\n",
       "    this.message = status_bar;\n",
       "\n",
       "    // Add the close button to the window.\n",
       "    var buttongrp = document.createElement('div');\n",
       "    buttongrp.classList = 'btn-group inline pull-right';\n",
       "    button = document.createElement('button');\n",
       "    button.classList = 'btn btn-mini btn-primary';\n",
       "    button.href = '#';\n",
       "    button.title = 'Stop Interaction';\n",
       "    button.innerHTML = '<i class=\"fa fa-power-off icon-remove icon-large\"></i>';\n",
       "    button.addEventListener('click', function (_evt) {\n",
       "        fig.handle_close(fig, {});\n",
       "    });\n",
       "    button.addEventListener(\n",
       "        'mouseover',\n",
       "        on_mouseover_closure('Stop Interaction')\n",
       "    );\n",
       "    buttongrp.appendChild(button);\n",
       "    var titlebar = this.root.querySelector('.ui-dialog-titlebar');\n",
       "    titlebar.insertBefore(buttongrp, titlebar.firstChild);\n",
       "};\n",
       "\n",
       "mpl.figure.prototype._remove_fig_handler = function (event) {\n",
       "    var fig = event.data.fig;\n",
       "    if (event.target !== this) {\n",
       "        // Ignore bubbled events from children.\n",
       "        return;\n",
       "    }\n",
       "    fig.close_ws(fig, {});\n",
       "};\n",
       "\n",
       "mpl.figure.prototype._root_extra_style = function (el) {\n",
       "    el.style.boxSizing = 'content-box'; // override notebook setting of border-box.\n",
       "};\n",
       "\n",
       "mpl.figure.prototype._canvas_extra_style = function (el) {\n",
       "    // this is important to make the div 'focusable\n",
       "    el.setAttribute('tabindex', 0);\n",
       "    // reach out to IPython and tell the keyboard manager to turn it's self\n",
       "    // off when our div gets focus\n",
       "\n",
       "    // location in version 3\n",
       "    if (IPython.notebook.keyboard_manager) {\n",
       "        IPython.notebook.keyboard_manager.register_events(el);\n",
       "    } else {\n",
       "        // location in version 2\n",
       "        IPython.keyboard_manager.register_events(el);\n",
       "    }\n",
       "};\n",
       "\n",
       "mpl.figure.prototype._key_event_extra = function (event, _name) {\n",
       "    var manager = IPython.notebook.keyboard_manager;\n",
       "    if (!manager) {\n",
       "        manager = IPython.keyboard_manager;\n",
       "    }\n",
       "\n",
       "    // Check for shift+enter\n",
       "    if (event.shiftKey && event.which === 13) {\n",
       "        this.canvas_div.blur();\n",
       "        // select the cell after this one\n",
       "        var index = IPython.notebook.find_cell_index(this.cell_info[0]);\n",
       "        IPython.notebook.select(index + 1);\n",
       "    }\n",
       "};\n",
       "\n",
       "mpl.figure.prototype.handle_save = function (fig, _msg) {\n",
       "    fig.ondownload(fig, null);\n",
       "};\n",
       "\n",
       "mpl.find_output_cell = function (html_output) {\n",
       "    // Return the cell and output element which can be found *uniquely* in the notebook.\n",
       "    // Note - this is a bit hacky, but it is done because the \"notebook_saving.Notebook\"\n",
       "    // IPython event is triggered only after the cells have been serialised, which for\n",
       "    // our purposes (turning an active figure into a static one), is too late.\n",
       "    var cells = IPython.notebook.get_cells();\n",
       "    var ncells = cells.length;\n",
       "    for (var i = 0; i < ncells; i++) {\n",
       "        var cell = cells[i];\n",
       "        if (cell.cell_type === 'code') {\n",
       "            for (var j = 0; j < cell.output_area.outputs.length; j++) {\n",
       "                var data = cell.output_area.outputs[j];\n",
       "                if (data.data) {\n",
       "                    // IPython >= 3 moved mimebundle to data attribute of output\n",
       "                    data = data.data;\n",
       "                }\n",
       "                if (data['text/html'] === html_output) {\n",
       "                    return [cell, data, j];\n",
       "                }\n",
       "            }\n",
       "        }\n",
       "    }\n",
       "};\n",
       "\n",
       "// Register the function which deals with the matplotlib target/channel.\n",
       "// The kernel may be null if the page has been refreshed.\n",
       "if (IPython.notebook.kernel !== null) {\n",
       "    IPython.notebook.kernel.comm_manager.register_target(\n",
       "        'matplotlib',\n",
       "        mpl.mpl_figure_comm\n",
       "    );\n",
       "}\n"
      ],
      "text/plain": [
       "<IPython.core.display.Javascript object>"
      ]
     },
     "metadata": {},
     "output_type": "display_data"
    },
    {
     "data": {
      "text/html": [
       "<img src=\"data:image/png;base64,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\" width=\"640\">"
      ],
      "text/plain": [
       "<IPython.core.display.HTML object>"
      ]
     },
     "metadata": {},
     "output_type": "display_data"
    }
   ],
   "source": [
    "connections2 = [[5, 4, 6], [4,17,18], [11,12], [0,2,15,17,16,3,1], [13,9,7,18,8,10,14]]\n",
    "\n",
    "fig, ax = plt.subplots()\n",
    "\n",
    "def animfunc(t, skip=1):\n",
    "    ax.clear()\n",
    "    lines = []\n",
    "    for conn in connections2:\n",
    "        conn = [3*i for i in conn]\n",
    "        lines.append(ax.plot(egoh5s[0][t*skip, conn], egoh5s[0][t*skip, [i+1 for i in conn]])[0])\n",
    "    ax.set_title('(%i, %i)'%((t, t*skip)))\n",
    "    return lines,\n",
    "\n",
    "anim = FuncAnimation(fig, animfunc, frames=20, fargs=(1500,), repeat=False)\n",
    "        \n",
    "#anim.event_source.stop()        "
   ]
  },
  {
   "cell_type": "markdown",
   "metadata": {},
   "source": [
    "Let's plot the center of mass of these poses. If they are not very erronous, they should all lie in a clumb near origin. "
   ]
  },
  {
   "cell_type": "code",
   "execution_count": 5,
   "metadata": {},
   "outputs": [
    {
     "ename": "NameError",
     "evalue": "name 'coms' is not defined",
     "output_type": "error",
     "traceback": [
      "\u001b[0;31m---------------------------------------------------------------------------\u001b[0m",
      "\u001b[0;31mNameError\u001b[0m                                 Traceback (most recent call last)",
      "\u001b[0;32m<ipython-input-5-49b95fdc43a0>\u001b[0m in \u001b[0;36m<module>\u001b[0;34m\u001b[0m\n\u001b[0;32m----> 1\u001b[0;31m \u001b[0mnp\u001b[0m\u001b[0;34m.\u001b[0m\u001b[0margwhere\u001b[0m\u001b[0;34m(\u001b[0m\u001b[0mcoms\u001b[0m\u001b[0;34m[\u001b[0m\u001b[0;34m:\u001b[0m\u001b[0;34m,\u001b[0m\u001b[0;36m0\u001b[0m\u001b[0;34m]\u001b[0m\u001b[0;34m)\u001b[0m\u001b[0;34m\u001b[0m\u001b[0;34m\u001b[0m\u001b[0m\n\u001b[0m",
      "\u001b[0;31mNameError\u001b[0m: name 'coms' is not defined"
     ]
    }
   ],
   "source": [
    "np.argwhere(coms[:,0])"
   ]
  },
  {
   "cell_type": "code",
   "execution_count": 6,
   "metadata": {},
   "outputs": [
    {
     "data": {
      "text/plain": [
       "(0.0, 1.0)"
      ]
     },
     "execution_count": 6,
     "metadata": {},
     "output_type": "execute_result"
    }
   ],
   "source": [
    "ax.get_xlim()"
   ]
  },
  {
   "cell_type": "code",
   "execution_count": 38,
   "metadata": {},
   "outputs": [
    {
     "data": {
      "application/vnd.jupyter.widget-view+json": {
       "model_id": "0e7cf29d51b74363917cf16d2ab8fdc4",
       "version_major": 2,
       "version_minor": 0
      },
      "text/plain": [
       "Canvas(toolbar=Toolbar(toolitems=[('Home', 'Reset original view', 'home', 'home'), ('Back', 'Back to previous …"
      ]
     },
     "metadata": {},
     "output_type": "display_data"
    },
    {
     "data": {
      "text/plain": [
       "<matplotlib.collections.PathCollection at 0x7f31242be2e0>"
      ]
     },
     "execution_count": 38,
     "metadata": {},
     "output_type": "execute_result"
    }
   ],
   "source": [
    "alleh5s = np.concatenate(egoh5s, axis=0)\n",
    "alleh5s = alleh5s.reshape((-1, alleh5s.shape[1]//3, 3))\n",
    "coms = np.mean(alleh5s, axis=1)\n",
    "\n",
    "\n",
    "fig, ax = plt.subplots()\n",
    "ax.scatter(coms[:,0], coms[:,1], s=1)"
   ]
  },
  {
   "cell_type": "markdown",
   "metadata": {},
   "source": [
    "Zoom in in the figure above to enclose only the central blob. Then run the cell below to select points that are in the central blob."
   ]
  },
  {
   "cell_type": "code",
   "execution_count": 48,
   "metadata": {},
   "outputs": [
    {
     "data": {
      "application/vnd.jupyter.widget-view+json": {
       "model_id": "f92e201f457a40819d4ea9f11b273721",
       "version_major": 2,
       "version_minor": 0
      },
      "text/plain": [
       "Canvas(toolbar=Toolbar(toolitems=[('Home', 'Reset original view', 'home', 'home'), ('Back', 'Back to previous …"
      ]
     },
     "metadata": {},
     "output_type": "display_data"
    }
   ],
   "source": [
    "xlim, ylim = ax.get_xlim(), ax.get_ylim()\n",
    "\n",
    "inds = np.where((coms[:,0]<xlim[1]) & (coms[:,0]>xlim[0]) & (coms[:,1]<ylim[1]) & (coms[:,1]>ylim[0]))[0]\n",
    "\n",
    "\n",
    "connections2 = [[5, 4, 6], [4,17,18], [11,12], [0,2,15,17,16,3,1], [13,9,7,18,8,10,14]]\n",
    "\n",
    "fig2, ax2 = plt.subplots()\n",
    "\n",
    "def animfunc(t):\n",
    "    ax2.clear()\n",
    "    lines = []\n",
    "    for conn in connections2:        \n",
    "        lines.append(ax2.plot(alleh5s[inds[t], conn, 0], alleh5s[inds[t], conn, 1])[0])\n",
    "    ax2.set_title('(%i/%i, %i)'%((t, len(inds), inds[t])))\n",
    "    ax2.set_xlim([-250, 250])\n",
    "    ax2.set_ylim([-300, 300])\n",
    "    return lines,\n",
    "\n",
    "anim = FuncAnimation(fig2, animfunc, frames=len(inds), repeat=False)\n"
   ]
  },
  {
   "cell_type": "code",
   "execution_count": 49,
   "metadata": {},
   "outputs": [],
   "source": [
    "anim.event_source.stop()"
   ]
  },
  {
   "cell_type": "markdown",
   "metadata": {},
   "source": [
    "So not all poses have a center of mass at origin, so we don't have a very clean pose data to start with. "
   ]
  },
  {
   "cell_type": "code",
   "execution_count": 50,
   "metadata": {},
   "outputs": [],
   "source": [
    "alleh5s_clean = alleh5s[inds]"
   ]
  },
  {
   "cell_type": "markdown",
   "metadata": {},
   "source": [
    "## Training AE model "
   ]
  },
  {
   "cell_type": "markdown",
   "metadata": {},
   "source": [
    "Before moving on to a variationa autoencoder, let's try to train a simple autoencode, and see if it is able to reconstruct poses with sufficiently low error. \n",
    "This also gives opportunity to change different parameters (activation functions, number of units) for the overall network architecture."
   ]
  },
  {
   "cell_type": "code",
   "execution_count": 100,
   "metadata": {},
   "outputs": [
    {
     "data": {
      "text/plain": [
       "0.9994232202082776"
      ]
     },
     "execution_count": 100,
     "metadata": {},
     "output_type": "execute_result"
    }
   ],
   "source": [
    "alleh5s_clean.shape[0]/alleh5s.shape[0]"
   ]
  },
  {
   "cell_type": "code",
   "execution_count": 189,
   "metadata": {},
   "outputs": [
    {
     "name": "stdout",
     "output_type": "stream",
     "text": [
      "(109858, 57) (54929, 57)\n",
      "-224.95145 258.52106\n"
     ]
    }
   ],
   "source": [
    "trainx = alleh5s_clean[::30].reshape((-1, 57)).astype('float32')\n",
    "valx = alleh5s_clean[15::60].reshape((-1, 57)).astype('float32')\n",
    "print(trainx.shape, valx.shape)\n",
    "print(trainx.min(), trainx.max())"
   ]
  },
  {
   "cell_type": "code",
   "execution_count": 53,
   "metadata": {},
   "outputs": [],
   "source": [
    "import tensorflow as tf\n",
    "import tensorflow.keras as k\n",
    "import os\n",
    "os.environ['CUDA_VISIBLE_DEVICES'] = '3'"
   ]
  },
  {
   "cell_type": "code",
   "execution_count": 229,
   "metadata": {},
   "outputs": [],
   "source": [
    "AE = tf.keras.Sequential([\n",
    "            tf.keras.layers.InputLayer(input_shape=(57,)),\n",
    "            tf.keras.layers.Dense(32, activation='relu'),\n",
    "            tf.keras.layers.Dense(16, activation='relu'),\n",
    "            tf.keras.layers.Dense(8, activation=None),\n",
    "            tf.keras.layers.Dense(16, activation='relu'),\n",
    "            tf.keras.layers.Dense(32, activation='relu'),\n",
    "            tf.keras.layers.Dense(57, activation=None)])\n",
    "\n",
    "AE.compile('adam', 'mse')"
   ]
  },
  {
   "cell_type": "code",
   "execution_count": 230,
   "metadata": {
    "scrolled": true,
    "tags": []
   },
   "outputs": [
    {
     "name": "stdout",
     "output_type": "stream",
     "text": [
      "Epoch 1/50\n",
      "1717/1717 [==============================] - 4s 2ms/step - loss: 304.7823 - val_loss: 35.5200\n",
      "\n",
      "Epoch 00001: val_loss improved from inf to 35.51999, saving model to MotionCapture_AE.h5\n",
      "Epoch 2/50\n",
      "1717/1717 [==============================] - 4s 2ms/step - loss: 34.4955 - val_loss: 31.0455\n",
      "\n",
      "Epoch 00002: val_loss improved from 35.51999 to 31.04551, saving model to MotionCapture_AE.h5\n",
      "Epoch 3/50\n",
      "1717/1717 [==============================] - 4s 2ms/step - loss: 30.0738 - val_loss: 26.7740\n",
      "\n",
      "Epoch 00003: val_loss improved from 31.04551 to 26.77399, saving model to MotionCapture_AE.h5\n",
      "Epoch 4/50\n",
      "1717/1717 [==============================] - 4s 2ms/step - loss: 26.3440 - val_loss: 24.8504\n",
      "\n",
      "Epoch 00004: val_loss improved from 26.77399 to 24.85043, saving model to MotionCapture_AE.h5\n",
      "Epoch 5/50\n",
      "1717/1717 [==============================] - 4s 2ms/step - loss: 24.7223 - val_loss: 22.2776\n",
      "\n",
      "Epoch 00005: val_loss improved from 24.85043 to 22.27761, saving model to MotionCapture_AE.h5\n",
      "Epoch 6/50\n",
      "1717/1717 [==============================] - 4s 2ms/step - loss: 22.5155 - val_loss: 21.4009\n",
      "\n",
      "Epoch 00006: val_loss improved from 22.27761 to 21.40092, saving model to MotionCapture_AE.h5\n",
      "Epoch 7/50\n",
      "1717/1717 [==============================] - 4s 2ms/step - loss: 21.4114 - val_loss: 20.8590\n",
      "\n",
      "Epoch 00007: val_loss improved from 21.40092 to 20.85896, saving model to MotionCapture_AE.h5\n",
      "Epoch 8/50\n",
      "1717/1717 [==============================] - 4s 2ms/step - loss: 20.6943 - val_loss: 20.3427\n",
      "\n",
      "Epoch 00008: val_loss improved from 20.85896 to 20.34272, saving model to MotionCapture_AE.h5\n",
      "Epoch 9/50\n",
      "1717/1717 [==============================] - 4s 2ms/step - loss: 20.2303 - val_loss: 19.6680\n",
      "\n",
      "Epoch 00009: val_loss improved from 20.34272 to 19.66800, saving model to MotionCapture_AE.h5\n",
      "Epoch 10/50\n",
      "1717/1717 [==============================] - 4s 2ms/step - loss: 19.7065 - val_loss: 19.5196\n",
      "\n",
      "Epoch 00010: val_loss improved from 19.66800 to 19.51957, saving model to MotionCapture_AE.h5\n",
      "Epoch 11/50\n",
      "1717/1717 [==============================] - 4s 2ms/step - loss: 19.6172 - val_loss: 19.1221\n",
      "\n",
      "Epoch 00011: val_loss improved from 19.51957 to 19.12211, saving model to MotionCapture_AE.h5\n",
      "Epoch 12/50\n",
      "1717/1717 [==============================] - 4s 2ms/step - loss: 19.4385 - val_loss: 18.9462\n",
      "\n",
      "Epoch 00012: val_loss improved from 19.12211 to 18.94622, saving model to MotionCapture_AE.h5\n",
      "Epoch 13/50\n",
      "1717/1717 [==============================] - 4s 2ms/step - loss: 19.1191 - val_loss: 18.8431\n",
      "\n",
      "Epoch 00013: val_loss improved from 18.94622 to 18.84306, saving model to MotionCapture_AE.h5\n",
      "Epoch 14/50\n",
      "1717/1717 [==============================] - 4s 2ms/step - loss: 18.8823 - val_loss: 18.7107\n",
      "\n",
      "Epoch 00014: val_loss improved from 18.84306 to 18.71068, saving model to MotionCapture_AE.h5\n",
      "Epoch 15/50\n",
      "1717/1717 [==============================] - 4s 2ms/step - loss: 18.7451 - val_loss: 18.5147\n",
      "\n",
      "Epoch 00015: val_loss improved from 18.71068 to 18.51466, saving model to MotionCapture_AE.h5\n",
      "Epoch 16/50\n",
      "1717/1717 [==============================] - 4s 2ms/step - loss: 18.8533 - val_loss: 18.5481\n",
      "\n",
      "Epoch 00016: val_loss did not improve from 18.51466\n",
      "Epoch 17/50\n",
      "1717/1717 [==============================] - 4s 2ms/step - loss: 18.5836 - val_loss: 18.2060\n",
      "\n",
      "Epoch 00017: val_loss improved from 18.51466 to 18.20600, saving model to MotionCapture_AE.h5\n",
      "Epoch 18/50\n",
      "1717/1717 [==============================] - 4s 2ms/step - loss: 18.4224 - val_loss: 18.3087\n",
      "\n",
      "Epoch 00018: val_loss did not improve from 18.20600\n",
      "Epoch 19/50\n",
      "1717/1717 [==============================] - 4s 2ms/step - loss: 18.3736 - val_loss: 17.9168\n",
      "\n",
      "Epoch 00019: val_loss improved from 18.20600 to 17.91683, saving model to MotionCapture_AE.h5\n",
      "Epoch 20/50\n",
      "1717/1717 [==============================] - 4s 2ms/step - loss: 18.2676 - val_loss: 17.7576\n",
      "\n",
      "Epoch 00020: val_loss improved from 17.91683 to 17.75757, saving model to MotionCapture_AE.h5\n",
      "Epoch 21/50\n",
      "1717/1717 [==============================] - 4s 2ms/step - loss: 18.0456 - val_loss: 17.7410\n",
      "\n",
      "Epoch 00021: val_loss improved from 17.75757 to 17.74102, saving model to MotionCapture_AE.h5\n",
      "Epoch 22/50\n",
      "1717/1717 [==============================] - 4s 2ms/step - loss: 17.8410 - val_loss: 18.1757\n",
      "\n",
      "Epoch 00022: val_loss did not improve from 17.74102\n",
      "Epoch 23/50\n",
      "1717/1717 [==============================] - 4s 2ms/step - loss: 18.0128 - val_loss: 17.5452\n",
      "\n",
      "Epoch 00023: val_loss improved from 17.74102 to 17.54516, saving model to MotionCapture_AE.h5\n",
      "Epoch 24/50\n",
      "1717/1717 [==============================] - 4s 2ms/step - loss: 17.7235 - val_loss: 17.5743\n",
      "\n",
      "Epoch 00024: val_loss did not improve from 17.54516\n",
      "Epoch 25/50\n",
      "1717/1717 [==============================] - 4s 2ms/step - loss: 17.6792 - val_loss: 17.4430\n",
      "\n",
      "Epoch 00025: val_loss improved from 17.54516 to 17.44297, saving model to MotionCapture_AE.h5\n",
      "Epoch 26/50\n",
      "1717/1717 [==============================] - 4s 2ms/step - loss: 17.9541 - val_loss: 17.4369\n",
      "\n",
      "Epoch 00026: val_loss improved from 17.44297 to 17.43691, saving model to MotionCapture_AE.h5\n",
      "Epoch 27/50\n",
      "1717/1717 [==============================] - 4s 2ms/step - loss: 17.6598 - val_loss: 17.5308\n",
      "\n",
      "Epoch 00027: val_loss did not improve from 17.43691\n",
      "Epoch 28/50\n",
      "1717/1717 [==============================] - 4s 2ms/step - loss: 17.7791 - val_loss: 17.4300\n",
      "\n",
      "Epoch 00028: val_loss improved from 17.43691 to 17.43001, saving model to MotionCapture_AE.h5\n",
      "Epoch 29/50\n",
      "1717/1717 [==============================] - 4s 2ms/step - loss: 17.4904 - val_loss: 17.6272\n",
      "\n",
      "Epoch 00029: val_loss did not improve from 17.43001\n",
      "Epoch 30/50\n",
      "1717/1717 [==============================] - 4s 2ms/step - loss: 17.5301 - val_loss: 17.2268\n",
      "\n",
      "Epoch 00030: val_loss improved from 17.43001 to 17.22677, saving model to MotionCapture_AE.h5\n",
      "Epoch 31/50\n",
      "1717/1717 [==============================] - 4s 2ms/step - loss: 17.2751 - val_loss: 17.1659\n",
      "\n",
      "Epoch 00031: val_loss improved from 17.22677 to 17.16586, saving model to MotionCapture_AE.h5\n",
      "Epoch 32/50\n",
      "1717/1717 [==============================] - 4s 2ms/step - loss: 17.4274 - val_loss: 16.9035\n",
      "\n",
      "Epoch 00032: val_loss improved from 17.16586 to 16.90348, saving model to MotionCapture_AE.h5\n",
      "Epoch 33/50\n",
      "1717/1717 [==============================] - 4s 2ms/step - loss: 17.2076 - val_loss: 17.2421\n",
      "\n",
      "Epoch 00033: val_loss did not improve from 16.90348\n",
      "Epoch 34/50\n",
      "1717/1717 [==============================] - 4s 2ms/step - loss: 17.0975 - val_loss: 16.9267\n",
      "\n",
      "Epoch 00034: val_loss did not improve from 16.90348\n",
      "Epoch 35/50\n",
      "1717/1717 [==============================] - 4s 2ms/step - loss: 17.2097 - val_loss: 16.8954\n",
      "\n",
      "Epoch 00035: val_loss improved from 16.90348 to 16.89540, saving model to MotionCapture_AE.h5\n",
      "Epoch 36/50\n",
      "1717/1717 [==============================] - 4s 2ms/step - loss: 17.3502 - val_loss: 17.2174\n",
      "\n",
      "Epoch 00036: val_loss did not improve from 16.89540\n",
      "Epoch 37/50\n",
      "1717/1717 [==============================] - 4s 2ms/step - loss: 17.2695 - val_loss: 16.7042\n",
      "\n",
      "Epoch 00037: val_loss improved from 16.89540 to 16.70418, saving model to MotionCapture_AE.h5\n",
      "Epoch 38/50\n",
      "1717/1717 [==============================] - 4s 2ms/step - loss: 16.9636 - val_loss: 16.6263\n",
      "\n",
      "Epoch 00038: val_loss improved from 16.70418 to 16.62633, saving model to MotionCapture_AE.h5\n",
      "Epoch 39/50\n",
      "1717/1717 [==============================] - 4s 2ms/step - loss: 16.8917 - val_loss: 16.6606\n",
      "\n",
      "Epoch 00039: val_loss did not improve from 16.62633\n",
      "Epoch 40/50\n",
      "1717/1717 [==============================] - 4s 2ms/step - loss: 16.9465 - val_loss: 16.8835\n",
      "\n",
      "Epoch 00040: val_loss did not improve from 16.62633\n",
      "Epoch 41/50\n",
      "1717/1717 [==============================] - 4s 2ms/step - loss: 16.8848 - val_loss: 16.4918\n",
      "\n",
      "Epoch 00041: val_loss improved from 16.62633 to 16.49178, saving model to MotionCapture_AE.h5\n",
      "Epoch 42/50\n",
      "1717/1717 [==============================] - 4s 2ms/step - loss: 16.6391 - val_loss: 16.7270\n",
      "\n",
      "Epoch 00042: val_loss did not improve from 16.49178\n",
      "Epoch 43/50\n",
      "1717/1717 [==============================] - 4s 2ms/step - loss: 16.5354 - val_loss: 16.5461\n",
      "\n",
      "Epoch 00043: val_loss did not improve from 16.49178\n",
      "Epoch 44/50\n",
      "1717/1717 [==============================] - 4s 2ms/step - loss: 16.5711 - val_loss: 16.3046\n",
      "\n",
      "Epoch 00044: val_loss improved from 16.49178 to 16.30462, saving model to MotionCapture_AE.h5\n",
      "Epoch 45/50\n",
      "1717/1717 [==============================] - 4s 2ms/step - loss: 16.4203 - val_loss: 16.5874\n",
      "\n",
      "Epoch 00045: val_loss did not improve from 16.30462\n",
      "Epoch 46/50\n",
      "1717/1717 [==============================] - 4s 2ms/step - loss: 16.3272 - val_loss: 16.3004\n",
      "\n",
      "Epoch 00046: val_loss improved from 16.30462 to 16.30036, saving model to MotionCapture_AE.h5\n",
      "Epoch 47/50\n",
      "1717/1717 [==============================] - 4s 2ms/step - loss: 16.4529 - val_loss: 16.1936\n",
      "\n",
      "Epoch 00047: val_loss improved from 16.30036 to 16.19357, saving model to MotionCapture_AE.h5\n",
      "Epoch 48/50\n",
      "1717/1717 [==============================] - 4s 2ms/step - loss: 16.3454 - val_loss: 16.1335\n",
      "\n",
      "Epoch 00048: val_loss improved from 16.19357 to 16.13345, saving model to MotionCapture_AE.h5\n",
      "Epoch 49/50\n",
      "1717/1717 [==============================] - 4s 2ms/step - loss: 16.4033 - val_loss: 16.1697\n",
      "\n",
      "Epoch 00049: val_loss did not improve from 16.13345\n",
      "Epoch 50/50\n",
      "1717/1717 [==============================] - 4s 2ms/step - loss: 16.3340 - val_loss: 16.1256\n",
      "\n",
      "Epoch 00050: val_loss improved from 16.13345 to 16.12562, saving model to MotionCapture_AE.h5\n"
     ]
    },
    {
     "data": {
      "text/plain": [
       "<tensorflow.python.keras.callbacks.History at 0x7f2c5a95fe50>"
      ]
     },
     "execution_count": 230,
     "metadata": {},
     "output_type": "execute_result"
    }
   ],
   "source": [
    "AE.fit(trainx, trainx, batch_size=64, epochs=50, validation_data=(valx, valx), callbacks = [tf.keras.callbacks.ModelCheckpoint(\n",
    "    'MotionCapture_AE.h5', monitor=\"val_loss\", verbose=1, save_best_only=True)])"
   ]
  },
  {
   "cell_type": "markdown",
   "metadata": {},
   "source": [
    "#all data AE error 70\n",
    "\n",
    "#clean data AE error 22\n",
    "\n",
    "\n",
    "\n",
    "            tf.keras.layers.InputLayer(input_shape=(57,)),\n",
    "            tf.keras.layers.Dense(32, activation='relu'),\n",
    "            tf.keras.layers.Dense(16, activation='relu'),\n",
    "            tf.keras.layers.Dense(8, activation='sigmoid'), #24 with 'tanh' here #16 with None!!!\n",
    "            tf.keras.layers.Dense(16, activation='relu'),\n",
    "            tf.keras.layers.Dense(32, activation='relu'),\n",
    "            tf.keras.layers.Dense(57, activation=None)])\n",
    "\n",
    "\n",
    "\n",
    "#clean data AE error 61\n",
    "\n",
    "\n",
    "\n",
    "            tf.keras.layers.InputLayer(input_shape=(57,)),\n",
    "            tf.keras.layers.Dense(32, activation=None),\n",
    "            tf.keras.layers.Dense(16, activation=None),\n",
    "            tf.keras.layers.Dense(8, activation='tanh'),\n",
    "            tf.keras.layers.Dense(16, activation=None),\n",
    "            tf.keras.layers.Dense(32, activation=None),\n",
    "            tf.keras.layers.Dense(57, activation=None)])\n",
    "\n",
    "\n",
    "\n",
    "#clean data AE error 41 with wonky activations - \n",
    "\n",
    "\n",
    "\n",
    "            tf.keras.layers.InputLayer(input_shape=(57,)),\n",
    "            tf.keras.layers.Dense(32, activation='sigmoid'),\n",
    "            tf.keras.layers.Dense(16, activation='relu'),\n",
    "            tf.keras.layers.Dense(8, activation='tanh'),\n",
    "            tf.keras.layers.Dense(16, activation='relu'),\n",
    "            tf.keras.layers.Dense(32, activation='sigmoid'),\n",
    "            tf.keras.layers.Dense(57, activation=None)])\n",
    "\n",
    "\n",
    "\n",
    "#clean data AE error 38 with wonky activations - \n",
    "\n",
    "\n",
    "\n",
    "            tf.keras.layers.InputLayer(input_shape=(57,)),\n",
    "            tf.keras.layers.Dense(32, activation='tanh'),\n",
    "            tf.keras.layers.Dense(16, activation='relu'),\n",
    "            tf.keras.layers.Dense(8, activation='sigmoid'),\n",
    "            tf.keras.layers.Dense(16, activation='tanh'),\n",
    "            tf.keras.layers.Dense(32, activation='relu'),\n",
    "            tf.keras.layers.Dense(57, activation=None)])\n",
    "\n",
    "\n",
    "\n",
    "#clean data AE error 66 with  - \n",
    "\n",
    "\n",
    "\n",
    "            tf.keras.layers.InputLayer(input_shape=(57,)),\n",
    "            tf.keras.layers.Dense(32, activation='sigmoid'),\n",
    "            tf.keras.layers.Dense(16, activation='sigmoid'),\n",
    "            tf.keras.layers.Dense(8, activation='sigmoid'),\n",
    "            tf.keras.layers.Dense(16, activation='sigmoid'),\n",
    "            tf.keras.layers.Dense(32, activation='sigmoid'),\n",
    "            tf.keras.layers.Dense(57, activation=None)])\n"
   ]
  },
  {
   "cell_type": "code",
   "execution_count": 231,
   "metadata": {},
   "outputs": [
    {
     "name": "stdout",
     "output_type": "stream",
     "text": [
      "1717/1717 [==============================] - 1s 681us/step\n"
     ]
    }
   ],
   "source": [
    "valx_pred = AE.predict(valx, verbose=1)"
   ]
  },
  {
   "cell_type": "code",
   "execution_count": 232,
   "metadata": {},
   "outputs": [
    {
     "data": {
      "application/vnd.jupyter.widget-view+json": {
       "model_id": "5e11602be30a4e50a7f4ca0ab29d96e6",
       "version_major": 2,
       "version_minor": 0
      },
      "text/plain": [
       "Canvas(toolbar=Toolbar(toolitems=[('Home', 'Reset original view', 'home', 'home'), ('Back', 'Back to previous …"
      ]
     },
     "metadata": {},
     "output_type": "display_data"
    }
   ],
   "source": [
    "connections2 = [[5, 4, 6], [4,17,18], [11,12], [0,2,15,17,16,3,1], [13,9,7,18,8,10,14]]\n",
    "\n",
    "fig, ax = plt.subplots()\n",
    "\n",
    "def animfunc(t, skip=1):\n",
    "    ax.clear()\n",
    "    lines = []\n",
    "    for conn in connections2:\n",
    "        conn = [3*i for i in conn]\n",
    "        lines.append(ax.plot(valx[t*skip, conn], valx[t*skip, [i+1 for i in conn]], color='royalblue')[0])\n",
    "        lines.append(ax.plot(valx_pred[t*skip, conn], valx_pred[t*skip, [i+1 for i in conn]], color='firebrick')[0])\n",
    "    ax.set_title('(%i, %i)'%((t, t*skip)))\n",
    "    return lines,\n",
    "\n",
    "anim = FuncAnimation(fig, animfunc, frames=50, fargs=(1000,), repeat=False)\n",
    "        \n",
    "#anim.event_source.stop()        "
   ]
  },
  {
   "cell_type": "markdown",
   "metadata": {},
   "source": [
    "Seems like the errors in the validation set are very close to less than 3px. That is great, \n",
    "especially since we did not normalize our data in any way. "
   ]
  },
  {
   "cell_type": "code",
   "execution_count": 233,
   "metadata": {},
   "outputs": [
    {
     "data": {
      "text/plain": [
       "array([2.7490234, 2.8410492, 2.7641344], dtype=float32)"
      ]
     },
     "execution_count": 233,
     "metadata": {},
     "output_type": "execute_result"
    }
   ],
   "source": [
    "errors = np.abs(valx_pred-valx).reshape((-1, 19, 3))\n",
    "np.mean(errors, axis=(0,1))"
   ]
  },
  {
   "cell_type": "markdown",
   "metadata": {},
   "source": [
    "We can get the latent layer values by defining a new model with output from layer 2 of our autoencoder"
   ]
  },
  {
   "cell_type": "code",
   "execution_count": 368,
   "metadata": {},
   "outputs": [
    {
     "data": {
      "text/plain": [
       "[<tensorflow.python.keras.layers.core.Dense at 0x7f2c5a8ca430>,\n",
       " <tensorflow.python.keras.layers.core.Dense at 0x7f2c5afa6e20>,\n",
       " <tensorflow.python.keras.layers.core.Dense at 0x7f2c5afa62b0>,\n",
       " <tensorflow.python.keras.layers.core.Dense at 0x7f2c5afa61f0>,\n",
       " <tensorflow.python.keras.layers.core.Dense at 0x7f2c5afa6400>,\n",
       " <tensorflow.python.keras.layers.core.Dense at 0x7f2c5afa67f0>]"
      ]
     },
     "execution_count": 368,
     "metadata": {},
     "output_type": "execute_result"
    }
   ],
   "source": [
    "AE.layers"
   ]
  },
  {
   "cell_type": "code",
   "execution_count": 236,
   "metadata": {},
   "outputs": [],
   "source": [
    "AE2 = k.models.Model(inputs=AE.input, outputs=AE.layers[2].output)"
   ]
  },
  {
   "cell_type": "code",
   "execution_count": 237,
   "metadata": {},
   "outputs": [
    {
     "data": {
      "text/plain": [
       "[True, True, True, True, True, True]"
      ]
     },
     "execution_count": 237,
     "metadata": {},
     "output_type": "execute_result"
    }
   ],
   "source": [
    "#check if the weights are same \n",
    "[np.all(w1==w2) for w1,w2 in zip(AE.get_weights(),AE2.get_weights())]"
   ]
  },
  {
   "cell_type": "code",
   "execution_count": 238,
   "metadata": {},
   "outputs": [
    {
     "name": "stdout",
     "output_type": "stream",
     "text": [
      "102992/102992 [==============================] - 60s 585us/step\n"
     ]
    }
   ],
   "source": [
    "alleh5s_clean_ae = AE2.predict(alleh5s_clean.reshape((-1, 57)).astype('float32'), verbose=1)\n",
    "alleh5s_clean_ae.shape"
   ]
  },
  {
   "cell_type": "markdown",
   "metadata": {},
   "source": [
    "## Training a VAE Model\n",
    "\n",
    "Now that we have some idea of what network architecture works for our data, we can try to add the variational inference \n",
    "inside the network. "
   ]
  },
  {
   "cell_type": "code",
   "execution_count": 307,
   "metadata": {},
   "outputs": [],
   "source": [
    "class Sampling(k.layers.Layer):\n",
    "    \"\"\"Uses (z_mean, z_log_var) to sample z, the vector encoding a digit.\"\"\"\n",
    "    def call(self, inputs):\n",
    "        z_mean, z_log_var = inputs\n",
    "        batch = tf.shape(z_mean)[0]\n",
    "        dim = tf.shape(z_mean)[1]\n",
    "        epsilon = tf.keras.backend.random_normal(shape=(batch, dim))\n",
    "        return z_mean + tf.exp(0.5 * z_log_var) * epsilon"
   ]
  },
  {
   "cell_type": "code",
   "execution_count": 365,
   "metadata": {},
   "outputs": [],
   "source": [
    "class VAEModel(k.Model):\n",
    "    def __init__(self, latent_dim=8, **kwargs):\n",
    "        super(VAEModel, self).__init__(**kwargs)\n",
    "        self.latent_dim = latent_dim\n",
    "        self.encoder = self.create_encoder()\n",
    "        self.decoder = self.create_decoder()\n",
    "        self.total_loss_tracker = k.metrics.Mean(name=\"total_loss\")\n",
    "        self.reconstruction_loss_tracker = k.metrics.Mean(name=\"reconstruction_loss\")\n",
    "        self.kl_loss_tracker = k.metrics.Mean(name=\"kl_loss\")\n",
    "\n",
    "    def create_encoder(self):\n",
    "        encoder_input = tf.keras.Sequential([\n",
    "                    tf.keras.layers.InputLayer(input_shape=(57,)),\n",
    "                    tf.keras.layers.Dense(32, activation='relu'),\n",
    "                   tf.keras.layers.Dense(16, activation='relu'),])\n",
    "\n",
    "        z_mean = k.layers.Dense(self.latent_dim, name=\"z_mean\", activation='tanh')(encoder_input.output)\n",
    "        z_log_var = k.layers.Dense(self.latent_dim, name=\"z_log_var\", activation='tanh')(encoder_input.output)\n",
    "\n",
    "        z = Sampling()([z_mean, z_log_var])\n",
    "        encoder = k.Model(encoder_input.input, [z_mean, z_log_var, z], name=\"encoder\")        \n",
    "        return encoder\n",
    "    \n",
    "    def create_decoder(self):\n",
    "        decoder = tf.keras.Sequential([\n",
    "            tf.keras.layers.InputLayer(input_shape=(self.latent_dim,)),\n",
    "           tf.keras.layers.Dense(16, activation='relu'),\n",
    "            tf.keras.layers.Dense(32, activation='relu'),\n",
    "            tf.keras.layers.Dense(57)])\n",
    "        return decoder\n",
    "\n",
    "    @property\n",
    "    def metrics(self):\n",
    "        return [\n",
    "            self.total_loss_tracker,\n",
    "            self.reconstruction_loss_tracker,\n",
    "            self.kl_loss_tracker,\n",
    "        ]\n",
    "\n",
    "    def train_step(self, data):\n",
    "        with tf.GradientTape() as tape:\n",
    "            z_mean, z_log_var, z = self.encoder(data)\n",
    "            reconstruction = self.decoder(z)\n",
    "            reconstruction_loss = tf.reduce_mean(\n",
    "                    k.losses.mean_squared_error(data, reconstruction))\n",
    "            kl_loss = -0.5 * (1 + z_log_var - tf.square(z_mean) - tf.exp(z_log_var))\n",
    "            kl_loss = tf.reduce_mean(kl_loss)\n",
    "            total_loss = reconstruction_loss + kl_loss\n",
    "        grads = tape.gradient(total_loss, self.trainable_weights)\n",
    "        self.optimizer.apply_gradients(zip(grads, self.trainable_weights))\n",
    "        self.total_loss_tracker.update_state(total_loss)\n",
    "        self.reconstruction_loss_tracker.update_state(reconstruction_loss)\n",
    "        self.kl_loss_tracker.update_state(kl_loss)\n",
    "        return {\n",
    "            \"loss\": self.total_loss_tracker.result(),\n",
    "            \"reconstruction_loss\": self.reconstruction_loss_tracker.result(),\n",
    "            \"kl_loss\": self.kl_loss_tracker.result(),\n",
    "        }\n",
    "\n",
    "    def call(self, data):\n",
    "        z_mean, z_log_var, z = self.encoder(data)\n",
    "        reconstruction = self.decoder(z)\n",
    "        return reconstruction"
   ]
  },
  {
   "cell_type": "code",
   "execution_count": 366,
   "metadata": {},
   "outputs": [
    {
     "data": {
      "application/vnd.jupyter.widget-view+json": {
       "model_id": "c0182f3d783f46b19408987df72f8ea5",
       "version_major": 2,
       "version_minor": 0
      },
      "text/plain": [
       "Canvas(toolbar=Toolbar(toolitems=[('Home', 'Reset original view', 'home', 'home'), ('Back', 'Back to previous …"
      ]
     },
     "metadata": {},
     "output_type": "display_data"
    }
   ],
   "source": [
    "figloss, axloss = plt.subplots(figsize=(16, 8))\n",
    "axloss2 = axloss.twinx()\n",
    "\n",
    "class LossPlot(k.callbacks.Callback):\n",
    "    def __init__(self):\n",
    "        self.losses = [0,0,0]\n",
    "        \n",
    "    def on_epoch_end(self, epoch, logs=None):\n",
    "        keys = list(logs.keys())\n",
    "        self.losses = np.vstack([self.losses, [logs['loss'], logs['reconstruction_loss'], logs['kl_loss']]])\n",
    "        axloss.clear()\n",
    "        axloss.plot(self.losses[1:,0], '-', color='black', label='loss')\n",
    "        axloss.plot(self.losses[1:,1], '-', color='royalblue', label='loss (recon)')\n",
    "        axloss2.plot(self.losses[1:,2], '-', color='firebrick', label='loss (kl)')\n",
    "        figloss.canvas.draw()"
   ]
  },
  {
   "cell_type": "code",
   "execution_count": 367,
   "metadata": {
    "scrolled": true,
    "tags": []
   },
   "outputs": [
    {
     "name": "stdout",
     "output_type": "stream",
     "text": [
      "Epoch 1/50\n",
      "1717/1717 [==============================] - 4s 2ms/step - loss: 743.9176 - reconstruction_loss: 442.6275 - kl_loss: 0.7584\n",
      "Epoch 2/50\n",
      "1717/1717 [==============================] - 4s 2ms/step - loss: 237.5290 - reconstruction_loss: 225.5734 - kl_loss: 0.7056\n",
      "Epoch 3/50\n",
      "1717/1717 [==============================] - 4s 2ms/step - loss: 202.7113 - reconstruction_loss: 194.2894 - kl_loss: 0.7028\n",
      "Epoch 4/50\n",
      "1717/1717 [==============================] - 4s 2ms/step - loss: 183.5383 - reconstruction_loss: 182.1982 - kl_loss: 0.7040\n",
      "Epoch 5/50\n",
      "1717/1717 [==============================] - 4s 2ms/step - loss: 179.6710 - reconstruction_loss: 175.8767 - kl_loss: 0.6940\n",
      "Epoch 6/50\n",
      "1717/1717 [==============================] - 4s 2ms/step - loss: 167.4005 - reconstruction_loss: 163.6813 - kl_loss: 0.6867\n",
      "Epoch 7/50\n",
      "1717/1717 [==============================] - 4s 2ms/step - loss: 155.4556 - reconstruction_loss: 151.8230 - kl_loss: 0.6850\n",
      "Epoch 8/50\n",
      "1717/1717 [==============================] - 4s 2ms/step - loss: 142.6866 - reconstruction_loss: 140.0252 - kl_loss: 0.6785\n",
      "Epoch 9/50\n",
      "1717/1717 [==============================] - 4s 2ms/step - loss: 135.9828 - reconstruction_loss: 134.5039 - kl_loss: 0.6788\n",
      "Epoch 10/50\n",
      "1717/1717 [==============================] - 4s 2ms/step - loss: 133.4236 - reconstruction_loss: 131.9398 - kl_loss: 0.6793\n",
      "Epoch 11/50\n",
      "1717/1717 [==============================] - 4s 2ms/step - loss: 131.1511 - reconstruction_loss: 129.9286 - kl_loss: 0.6794\n",
      "Epoch 12/50\n",
      "1717/1717 [==============================] - 4s 2ms/step - loss: 128.6672 - reconstruction_loss: 127.9846 - kl_loss: 0.6798\n",
      "Epoch 13/50\n",
      "1717/1717 [==============================] - 4s 2ms/step - loss: 126.6270 - reconstruction_loss: 125.4697 - kl_loss: 0.6799\n",
      "Epoch 14/50\n",
      "1717/1717 [==============================] - 4s 2ms/step - loss: 125.1427 - reconstruction_loss: 124.2723 - kl_loss: 0.6802\n",
      "Epoch 15/50\n",
      "1717/1717 [==============================] - 4s 2ms/step - loss: 124.9223 - reconstruction_loss: 123.6055 - kl_loss: 0.6805\n",
      "Epoch 16/50\n",
      "1717/1717 [==============================] - 4s 2ms/step - loss: 122.1641 - reconstruction_loss: 122.0545 - kl_loss: 0.6807\n",
      "Epoch 17/50\n",
      "1717/1717 [==============================] - 4s 2ms/step - loss: 121.6420 - reconstruction_loss: 121.1352 - kl_loss: 0.6808\n",
      "Epoch 18/50\n",
      "1717/1717 [==============================] - 4s 2ms/step - loss: 119.7899 - reconstruction_loss: 119.9349 - kl_loss: 0.6811\n",
      "Epoch 19/50\n",
      "1717/1717 [==============================] - 4s 2ms/step - loss: 120.0467 - reconstruction_loss: 119.1392 - kl_loss: 0.6813\n",
      "Epoch 20/50\n",
      "1717/1717 [==============================] - 4s 2ms/step - loss: 119.1281 - reconstruction_loss: 119.2967 - kl_loss: 0.6814\n",
      "Epoch 21/50\n",
      "1717/1717 [==============================] - 4s 2ms/step - loss: 119.5470 - reconstruction_loss: 118.5598 - kl_loss: 0.6814\n",
      "Epoch 22/50\n",
      "1717/1717 [==============================] - 4s 2ms/step - loss: 118.2307 - reconstruction_loss: 117.8780 - kl_loss: 0.6815\n",
      "Epoch 23/50\n",
      "1717/1717 [==============================] - 4s 2ms/step - loss: 118.5922 - reconstruction_loss: 116.7922 - kl_loss: 0.6816\n",
      "Epoch 24/50\n",
      "1717/1717 [==============================] - 4s 2ms/step - loss: 118.0421 - reconstruction_loss: 116.8401 - kl_loss: 0.6818\n",
      "Epoch 25/50\n",
      "1717/1717 [==============================] - 4s 2ms/step - loss: 115.9093 - reconstruction_loss: 116.1091 - kl_loss: 0.6817\n",
      "Epoch 26/50\n",
      "1717/1717 [==============================] - 4s 2ms/step - loss: 116.4362 - reconstruction_loss: 116.0590 - kl_loss: 0.6819\n",
      "Epoch 27/50\n",
      "1717/1717 [==============================] - 4s 2ms/step - loss: 116.5106 - reconstruction_loss: 115.9274 - kl_loss: 0.6820\n",
      "Epoch 28/50\n",
      "1717/1717 [==============================] - 4s 2ms/step - loss: 116.2087 - reconstruction_loss: 114.5834 - kl_loss: 0.6820\n",
      "Epoch 29/50\n",
      "1717/1717 [==============================] - 4s 2ms/step - loss: 115.6166 - reconstruction_loss: 114.2098 - kl_loss: 0.6821\n",
      "Epoch 30/50\n",
      "1717/1717 [==============================] - 4s 2ms/step - loss: 116.0353 - reconstruction_loss: 114.5154 - kl_loss: 0.6823\n",
      "Epoch 31/50\n",
      "1717/1717 [==============================] - 4s 2ms/step - loss: 116.6318 - reconstruction_loss: 115.0457 - kl_loss: 0.6824\n",
      "Epoch 32/50\n",
      "1717/1717 [==============================] - 4s 2ms/step - loss: 115.0418 - reconstruction_loss: 114.1803 - kl_loss: 0.6824\n",
      "Epoch 33/50\n",
      "1717/1717 [==============================] - 4s 2ms/step - loss: 115.1027 - reconstruction_loss: 114.1753 - kl_loss: 0.6824\n",
      "Epoch 34/50\n",
      "1717/1717 [==============================] - 4s 2ms/step - loss: 114.3538 - reconstruction_loss: 113.6228 - kl_loss: 0.6825\n",
      "Epoch 35/50\n",
      "1717/1717 [==============================] - 4s 2ms/step - loss: 114.7869 - reconstruction_loss: 113.7520 - kl_loss: 0.6826\n",
      "Epoch 36/50\n",
      "1717/1717 [==============================] - 4s 2ms/step - loss: 113.0772 - reconstruction_loss: 112.8552 - kl_loss: 0.6827\n",
      "Epoch 37/50\n",
      "1717/1717 [==============================] - 4s 2ms/step - loss: 113.0635 - reconstruction_loss: 113.3266 - kl_loss: 0.6827\n",
      "Epoch 38/50\n",
      "1717/1717 [==============================] - 4s 2ms/step - loss: 112.9881 - reconstruction_loss: 113.1148 - kl_loss: 0.6828\n",
      "Epoch 39/50\n",
      "1717/1717 [==============================] - 4s 2ms/step - loss: 114.1988 - reconstruction_loss: 114.0669 - kl_loss: 0.6828\n",
      "Epoch 40/50\n",
      "1717/1717 [==============================] - 4s 2ms/step - loss: 114.3219 - reconstruction_loss: 113.8043 - kl_loss: 0.6828\n",
      "Epoch 41/50\n",
      "1717/1717 [==============================] - 4s 2ms/step - loss: 114.4729 - reconstruction_loss: 114.2293 - kl_loss: 0.6829\n",
      "Epoch 42/50\n",
      "1717/1717 [==============================] - 4s 2ms/step - loss: 114.5143 - reconstruction_loss: 113.4602 - kl_loss: 0.6829\n",
      "Epoch 43/50\n",
      "1717/1717 [==============================] - 4s 2ms/step - loss: 113.8136 - reconstruction_loss: 113.1563 - kl_loss: 0.6830\n",
      "Epoch 44/50\n",
      "1717/1717 [==============================] - 4s 2ms/step - loss: 112.7099 - reconstruction_loss: 111.8251 - kl_loss: 0.6830\n",
      "Epoch 45/50\n",
      "1717/1717 [==============================] - 4s 2ms/step - loss: 111.9429 - reconstruction_loss: 111.9323 - kl_loss: 0.6831\n",
      "Epoch 46/50\n",
      "1717/1717 [==============================] - 4s 2ms/step - loss: 112.9634 - reconstruction_loss: 112.1743 - kl_loss: 0.6831\n",
      "Epoch 47/50\n",
      "1717/1717 [==============================] - 4s 2ms/step - loss: 113.4309 - reconstruction_loss: 112.6020 - kl_loss: 0.6831\n",
      "Epoch 48/50\n",
      "1717/1717 [==============================] - 4s 2ms/step - loss: 113.9783 - reconstruction_loss: 111.7618 - kl_loss: 0.6831\n",
      "Epoch 49/50\n",
      "1717/1717 [==============================] - 4s 2ms/step - loss: 112.8132 - reconstruction_loss: 111.6871 - kl_loss: 0.6831\n",
      "Epoch 50/50\n",
      "1717/1717 [==============================] - 4s 2ms/step - loss: 111.6153 - reconstruction_loss: 111.1216 - kl_loss: 0.6832\n"
     ]
    },
    {
     "data": {
      "text/plain": [
       "<tensorflow.python.keras.callbacks.History at 0x7f2c5a0ba340>"
      ]
     },
     "execution_count": 367,
     "metadata": {},
     "output_type": "execute_result"
    }
   ],
   "source": [
    "vae = VAEModel(latent_dim=8)\n",
    "vae.compile(optimizer=k.optimizers.Adam(learning_rate=0.001))\n",
    "vae.fit(trainx, epochs=50, batch_size=64, workers=1, callbacks=LossPlot())"
   ]
  },
  {
   "cell_type": "code",
   "execution_count": 369,
   "metadata": {},
   "outputs": [
    {
     "name": "stdout",
     "output_type": "stream",
     "text": [
      "1717/1717 [==============================] - 1s 785us/step\n"
     ]
    }
   ],
   "source": [
    "valx_pred_vae = vae.predict(valx, verbose=1)"
   ]
  },
  {
   "cell_type": "code",
   "execution_count": 370,
   "metadata": {},
   "outputs": [
    {
     "data": {
      "application/vnd.jupyter.widget-view+json": {
       "model_id": "5e823fad52a741bfabb65d7139bfe0cf",
       "version_major": 2,
       "version_minor": 0
      },
      "text/plain": [
       "Canvas(toolbar=Toolbar(toolitems=[('Home', 'Reset original view', 'home', 'home'), ('Back', 'Back to previous …"
      ]
     },
     "metadata": {},
     "output_type": "display_data"
    }
   ],
   "source": [
    "connections2 = [[5, 4, 6], [4,17,18], [11,12], [0,2,15,17,16,3,1], [13,9,7,18,8,10,14]]\n",
    "\n",
    "fig, ax = plt.subplots()\n",
    "\n",
    "def animfunc(t, skip=1):\n",
    "    ax.clear()\n",
    "    lines = []\n",
    "    for conn in connections2:\n",
    "        conn = [3*i for i in conn]\n",
    "        lines.append(ax.plot(valx[t*skip, conn], valx[t*skip, [i+1 for i in conn]], color='royalblue')[0])\n",
    "        lines.append(ax.plot(valx_pred_vae[t*skip, conn], valx_pred_vae[t*skip, [i+1 for i in conn]], color='firebrick')[0])\n",
    "    ax.set_title('(%i, %i)'%((t, t*skip)))\n",
    "    return lines,\n",
    "\n",
    "anim = FuncAnimation(fig, animfunc, frames=50, fargs=(1000,), repeat=False)\n",
    "        \n",
    "#anim.event_source.stop()        "
   ]
  },
  {
   "cell_type": "markdown",
   "metadata": {},
   "source": [
    "Seems like the errors in the validation set are around 7px (they were 3px w/ AE)"
   ]
  },
  {
   "cell_type": "code",
   "execution_count": 371,
   "metadata": {},
   "outputs": [
    {
     "data": {
      "text/plain": [
       "array([7.718824, 7.4027  , 7.435683], dtype=float32)"
      ]
     },
     "execution_count": 371,
     "metadata": {},
     "output_type": "execute_result"
    }
   ],
   "source": [
    "errors = np.abs(valx_pred_vae-valx).reshape((-1, 19, 3))\n",
    "np.mean(errors, axis=(0,1))"
   ]
  },
  {
   "cell_type": "markdown",
   "metadata": {},
   "source": [
    "The latent layer values can be obtained using the VAE 'encoder' sub-model. "
   ]
  },
  {
   "cell_type": "code",
   "execution_count": 374,
   "metadata": {},
   "outputs": [],
   "source": [
    "z_mean, z_log_var, z = vae.encoder.predict(alleh5s_clean.reshape((-1, 57)), verbose=1)"
   ]
  },
  {
   "cell_type": "code",
   "execution_count": 375,
   "metadata": {},
   "outputs": [
    {
     "name": "stdout",
     "output_type": "stream",
     "text": [
      "(3295717, 8) (3295717, 8) (3295717, 8)\n"
     ]
    }
   ],
   "source": [
    "print(z_mean.shape, z_log_var.shape, z.shape)"
   ]
  },
  {
   "cell_type": "code",
   "execution_count": null,
   "metadata": {},
   "outputs": [],
   "source": []
  }
 ],
 "metadata": {
  "kernelspec": {
   "display_name": "Python 3",
   "language": "python",
   "name": "python3"
  },
  "language_info": {
   "codemirror_mode": {
    "name": "ipython",
    "version": 3
   },
   "file_extension": ".py",
   "mimetype": "text/x-python",
   "name": "python",
   "nbconvert_exporter": "python",
   "pygments_lexer": "ipython3",
   "version": "3.8.5"
  },
  "widgets": {
   "application/vnd.jupyter.widget-state+json": {
    "state": {
     "00bbf1c019ca42609bac652c8f97cd60": {
      "model_module": "jupyter-matplotlib",
      "model_module_version": "^0.9.0",
      "model_name": "MPLCanvasModel",
      "state": {
       "_cursor": "default",
       "_figure_label": "Figure 28",
       "_height": 360,
       "_width": 864,
       "layout": "IPY_MODEL_6707f1d85e2a465898e14b78896410bc",
       "toolbar": "IPY_MODEL_95ca2244a1b74449af753307a2aca747",
       "toolbar_position": "left"
      }
     },
     "00d95c317dc44e12a46830c8ef6bfb0c": {
      "model_module": "jupyter-matplotlib",
      "model_module_version": "^0.9.0",
      "model_name": "MPLCanvasModel",
      "state": {
       "_cursor": "default",
       "_figure_label": "Figure 27",
       "_height": 360,
       "_width": 864,
       "layout": "IPY_MODEL_e097ecdc2f124f7fb9e72fe25a0fe335",
       "toolbar": "IPY_MODEL_6793b12e78d64e3a9c67da8b190eb005",
       "toolbar_position": "left"
      }
     },
     "012f2d62823943339ec0f78305bb741e": {
      "model_module": "jupyter-matplotlib",
      "model_module_version": "^0.9.0",
      "model_name": "MPLCanvasModel",
      "state": {
       "_cursor": "default",
       "_figure_label": "Figure 23",
       "_height": 576,
       "_width": 864,
       "layout": "IPY_MODEL_f35e4eece78d4acdab08653956b7d94e",
       "toolbar": "IPY_MODEL_43068f96e6524570be1f03edb750f9c2",
       "toolbar_position": "left"
      }
     },
     "028b51637e114cde9e10cc4dac82d0b8": {
      "model_module": "@jupyter-widgets/base",
      "model_module_version": "1.2.0",
      "model_name": "LayoutModel",
      "state": {}
     },
     "047998e74baf43d7b15c076be50d7a3d": {
      "model_module": "jupyter-matplotlib",
      "model_module_version": "^0.9.0",
      "model_name": "ToolbarModel",
      "state": {
       "layout": "IPY_MODEL_d8fc6dcc0f7c406f887dcb7f86f6d0e7",
       "toolitems": [
        [
         "Home",
         "Reset original view",
         "home",
         "home"
        ],
        [
         "Back",
         "Back to previous view",
         "arrow-left",
         "back"
        ],
        [
         "Forward",
         "Forward to next view",
         "arrow-right",
         "forward"
        ],
        [
         "Pan",
         "Left button pans, Right button zooms\nx/y fixes axis, CTRL fixes aspect",
         "arrows",
         "pan"
        ],
        [
         "Zoom",
         "Zoom to rectangle\nx/y fixes axis, CTRL fixes aspect",
         "square-o",
         "zoom"
        ],
        [
         "Download",
         "Download plot",
         "floppy-o",
         "save_figure"
        ]
       ]
      }
     },
     "04adf30c07564078a833b77faeb2d6d1": {
      "model_module": "jupyter-matplotlib",
      "model_module_version": "^0.9.0",
      "model_name": "MPLCanvasModel",
      "state": {
       "_cursor": "default",
       "_figure_label": "Figure 30",
       "_height": 360,
       "_width": 864,
       "layout": "IPY_MODEL_3c8a5ae87f204c548fdc715a84c5d310",
       "toolbar": "IPY_MODEL_d20fce5322724c7e8e058e639e934821",
       "toolbar_position": "left"
      }
     },
     "093fbacb462b43d2a09705537dd61d2c": {
      "model_module": "jupyter-matplotlib",
      "model_module_version": "^0.9.0",
      "model_name": "MPLCanvasModel",
      "state": {
       "_cursor": "default",
       "_figure_label": "Figure 35",
       "_height": 720,
       "_width": 1152,
       "layout": "IPY_MODEL_327b6e6819524b49bf54336fa620ca3f",
       "toolbar": "IPY_MODEL_9b864356a3574131a2716d0626c670dc",
       "toolbar_position": "left"
      }
     },
     "0a4c09debcbb4bba90b8ccc92c0d15d4": {
      "model_module": "jupyter-matplotlib",
      "model_module_version": "^0.9.0",
      "model_name": "MPLCanvasModel",
      "state": {
       "_cursor": "default",
       "_figure_label": "Figure 24",
       "_height": 360,
       "_width": 864,
       "layout": "IPY_MODEL_cf16c1d40d00420c8a09c2dcf71d36de",
       "toolbar": "IPY_MODEL_326819bbfc654a58abbe44657b35bde8",
       "toolbar_position": "left"
      }
     },
     "0e7cf29d51b74363917cf16d2ab8fdc4": {
      "model_module": "jupyter-matplotlib",
      "model_module_version": "^0.9.0",
      "model_name": "MPLCanvasModel",
      "state": {
       "_cursor": "default",
       "_figure_label": "Figure 10",
       "_height": 288,
       "_message": "zoom rect",
       "_rubberband_y": 288,
       "_width": 432,
       "layout": "IPY_MODEL_eb11ad77b7fa40e7970bc426be9a549c",
       "toolbar": "IPY_MODEL_e88eed40b43e4ad6805ca2c9883c89c1",
       "toolbar_position": "left"
      }
     },
     "0f8d43223e514f4cb79dd8f614815106": {
      "model_module": "@jupyter-widgets/base",
      "model_module_version": "1.2.0",
      "model_name": "LayoutModel",
      "state": {}
     },
     "18279ee26771462aab820dce54e943d2": {
      "model_module": "@jupyter-widgets/base",
      "model_module_version": "1.2.0",
      "model_name": "LayoutModel",
      "state": {}
     },
     "19b8620948ea49de9b6bcc79265fd0ce": {
      "model_module": "jupyter-matplotlib",
      "model_module_version": "^0.9.0",
      "model_name": "ToolbarModel",
      "state": {
       "layout": "IPY_MODEL_ae6d2d6e0a0a4fd390df78ce17623c58",
       "toolitems": [
        [
         "Home",
         "Reset original view",
         "home",
         "home"
        ],
        [
         "Back",
         "Back to previous view",
         "arrow-left",
         "back"
        ],
        [
         "Forward",
         "Forward to next view",
         "arrow-right",
         "forward"
        ],
        [
         "Pan",
         "Left button pans, Right button zooms\nx/y fixes axis, CTRL fixes aspect",
         "arrows",
         "pan"
        ],
        [
         "Zoom",
         "Zoom to rectangle\nx/y fixes axis, CTRL fixes aspect",
         "square-o",
         "zoom"
        ],
        [
         "Download",
         "Download plot",
         "floppy-o",
         "save_figure"
        ]
       ]
      }
     },
     "1b14cc4c0a6c4f8d96c92ed8f9e1ea4b": {
      "model_module": "jupyter-matplotlib",
      "model_module_version": "^0.9.0",
      "model_name": "MPLCanvasModel",
      "state": {
       "_cursor": "default",
       "_figure_label": "Figure 21",
       "_height": 288,
       "_message": "x=0.308 y=0.654",
       "_width": 432,
       "layout": "IPY_MODEL_a89bd88bfc6542068d7a9055ad27b98f",
       "toolbar": "IPY_MODEL_7130b43f76144155aa9d0b8389453def",
       "toolbar_position": "left"
      }
     },
     "1eec482b89e6453c882ba6185ed39789": {
      "model_module": "jupyter-matplotlib",
      "model_module_version": "^0.9.0",
      "model_name": "MPLCanvasModel",
      "state": {
       "_cursor": "default",
       "_figure_label": "Figure 6",
       "_height": 288,
       "_message": "zoom rect",
       "_rubberband_y": 288,
       "_width": 432,
       "layout": "IPY_MODEL_2735adec02da474bbca9239b026b72d4",
       "toolbar": "IPY_MODEL_8e9a6cec2ae64f4abf0391c8d4b204fc",
       "toolbar_position": "left"
      }
     },
     "1efe2471f84d4cd49867372cdd1e0f0e": {
      "model_module": "jupyter-matplotlib",
      "model_module_version": "^0.9.0",
      "model_name": "ToolbarModel",
      "state": {
       "_current_action": "zoom",
       "layout": "IPY_MODEL_2331b278196f41fcbc6b94cf47e11e66",
       "toolitems": [
        [
         "Home",
         "Reset original view",
         "home",
         "home"
        ],
        [
         "Back",
         "Back to previous view",
         "arrow-left",
         "back"
        ],
        [
         "Forward",
         "Forward to next view",
         "arrow-right",
         "forward"
        ],
        [
         "Pan",
         "Left button pans, Right button zooms\nx/y fixes axis, CTRL fixes aspect",
         "arrows",
         "pan"
        ],
        [
         "Zoom",
         "Zoom to rectangle\nx/y fixes axis, CTRL fixes aspect",
         "square-o",
         "zoom"
        ],
        [
         "Download",
         "Download plot",
         "floppy-o",
         "save_figure"
        ]
       ]
      }
     },
     "20c35d984ee94bdfa5cfd47361cadf04": {
      "model_module": "@jupyter-widgets/base",
      "model_module_version": "1.2.0",
      "model_name": "LayoutModel",
      "state": {}
     },
     "21c1f651737f4e51af468b925bff9da4": {
      "model_module": "jupyter-matplotlib",
      "model_module_version": "^0.9.0",
      "model_name": "ToolbarModel",
      "state": {
       "layout": "IPY_MODEL_804f55611012493b80eee291fcf326af",
       "toolitems": [
        [
         "Home",
         "Reset original view",
         "home",
         "home"
        ],
        [
         "Back",
         "Back to previous view",
         "arrow-left",
         "back"
        ],
        [
         "Forward",
         "Forward to next view",
         "arrow-right",
         "forward"
        ],
        [
         "Pan",
         "Left button pans, Right button zooms\nx/y fixes axis, CTRL fixes aspect",
         "arrows",
         "pan"
        ],
        [
         "Zoom",
         "Zoom to rectangle\nx/y fixes axis, CTRL fixes aspect",
         "square-o",
         "zoom"
        ],
        [
         "Download",
         "Download plot",
         "floppy-o",
         "save_figure"
        ]
       ]
      }
     },
     "21fe9bd6afc3426cafeba34b19de0687": {
      "model_module": "jupyter-matplotlib",
      "model_module_version": "^0.9.0",
      "model_name": "ToolbarModel",
      "state": {
       "layout": "IPY_MODEL_18279ee26771462aab820dce54e943d2",
       "toolitems": [
        [
         "Home",
         "Reset original view",
         "home",
         "home"
        ],
        [
         "Back",
         "Back to previous view",
         "arrow-left",
         "back"
        ],
        [
         "Forward",
         "Forward to next view",
         "arrow-right",
         "forward"
        ],
        [
         "Pan",
         "Left button pans, Right button zooms\nx/y fixes axis, CTRL fixes aspect",
         "arrows",
         "pan"
        ],
        [
         "Zoom",
         "Zoom to rectangle\nx/y fixes axis, CTRL fixes aspect",
         "square-o",
         "zoom"
        ],
        [
         "Download",
         "Download plot",
         "floppy-o",
         "save_figure"
        ]
       ]
      }
     },
     "2331b278196f41fcbc6b94cf47e11e66": {
      "model_module": "@jupyter-widgets/base",
      "model_module_version": "1.2.0",
      "model_name": "LayoutModel",
      "state": {}
     },
     "26b530c4a09c462c8322b5eba1666e9c": {
      "model_module": "jupyter-matplotlib",
      "model_module_version": "^0.9.0",
      "model_name": "ToolbarModel",
      "state": {
       "layout": "IPY_MODEL_c9af6d7d481442eea7ffb32c937c31e8",
       "toolitems": [
        [
         "Home",
         "Reset original view",
         "home",
         "home"
        ],
        [
         "Back",
         "Back to previous view",
         "arrow-left",
         "back"
        ],
        [
         "Forward",
         "Forward to next view",
         "arrow-right",
         "forward"
        ],
        [
         "Pan",
         "Left button pans, Right button zooms\nx/y fixes axis, CTRL fixes aspect",
         "arrows",
         "pan"
        ],
        [
         "Zoom",
         "Zoom to rectangle\nx/y fixes axis, CTRL fixes aspect",
         "square-o",
         "zoom"
        ],
        [
         "Download",
         "Download plot",
         "floppy-o",
         "save_figure"
        ]
       ]
      }
     },
     "272e7a3eafdf415fa4b6119098d537bd": {
      "model_module": "jupyter-matplotlib",
      "model_module_version": "^0.9.0",
      "model_name": "ToolbarModel",
      "state": {
       "layout": "IPY_MODEL_d0cdfa46a90948f8a1cb40198ca8986a",
       "toolitems": [
        [
         "Home",
         "Reset original view",
         "home",
         "home"
        ],
        [
         "Back",
         "Back to previous view",
         "arrow-left",
         "back"
        ],
        [
         "Forward",
         "Forward to next view",
         "arrow-right",
         "forward"
        ],
        [
         "Pan",
         "Left button pans, Right button zooms\nx/y fixes axis, CTRL fixes aspect",
         "arrows",
         "pan"
        ],
        [
         "Zoom",
         "Zoom to rectangle\nx/y fixes axis, CTRL fixes aspect",
         "square-o",
         "zoom"
        ],
        [
         "Download",
         "Download plot",
         "floppy-o",
         "save_figure"
        ]
       ]
      }
     },
     "2735adec02da474bbca9239b026b72d4": {
      "model_module": "@jupyter-widgets/base",
      "model_module_version": "1.2.0",
      "model_name": "LayoutModel",
      "state": {}
     },
     "29442134e00942978bfbb394ca6845bc": {
      "model_module": "jupyter-matplotlib",
      "model_module_version": "^0.9.0",
      "model_name": "MPLCanvasModel",
      "state": {
       "_cursor": "default",
       "_figure_label": "Figure 4",
       "_height": 288,
       "_width": 432,
       "layout": "IPY_MODEL_89fdcb2bcf284e6db96968eddd77af64",
       "toolbar": "IPY_MODEL_cefe2cae434a430aa454bfa1eeabf239",
       "toolbar_position": "left"
      }
     },
     "29c16af36d834485857ca16f914aa4d0": {
      "model_module": "jupyter-matplotlib",
      "model_module_version": "^0.9.0",
      "model_name": "MPLCanvasModel",
      "state": {
       "_cursor": "default",
       "_figure_label": "Figure 34",
       "_height": 720,
       "_width": 1080,
       "layout": "IPY_MODEL_5fe3c06fee4346feb38cf3dcc5cad343",
       "toolbar": "IPY_MODEL_e22c1da0fb4542268dd38be350e65a64",
       "toolbar_position": "left"
      }
     },
     "2c922ea7cda140b787a994ba5c6ed896": {
      "model_module": "jupyter-matplotlib",
      "model_module_version": "^0.9.0",
      "model_name": "ToolbarModel",
      "state": {
       "layout": "IPY_MODEL_028b51637e114cde9e10cc4dac82d0b8",
       "toolitems": [
        [
         "Home",
         "Reset original view",
         "home",
         "home"
        ],
        [
         "Back",
         "Back to previous view",
         "arrow-left",
         "back"
        ],
        [
         "Forward",
         "Forward to next view",
         "arrow-right",
         "forward"
        ],
        [
         "Pan",
         "Left button pans, Right button zooms\nx/y fixes axis, CTRL fixes aspect",
         "arrows",
         "pan"
        ],
        [
         "Zoom",
         "Zoom to rectangle\nx/y fixes axis, CTRL fixes aspect",
         "square-o",
         "zoom"
        ],
        [
         "Download",
         "Download plot",
         "floppy-o",
         "save_figure"
        ]
       ]
      }
     },
     "2dd899936fc14fa6aaa905e3c6aa9448": {
      "model_module": "@jupyter-widgets/base",
      "model_module_version": "1.2.0",
      "model_name": "LayoutModel",
      "state": {}
     },
     "2f862d75ba2741dc8afc79d724adcfde": {
      "model_module": "jupyter-matplotlib",
      "model_module_version": "^0.9.0",
      "model_name": "MPLCanvasModel",
      "state": {
       "_cursor": "default",
       "_figure_label": "Figure 1",
       "_height": 288,
       "_message": "x=−10.1 y=12.8",
       "_width": 432,
       "layout": "IPY_MODEL_d8b3ab7df5cc440790c10abadef88e31",
       "toolbar": "IPY_MODEL_525a19feaa7a4de9961551797036e83d",
       "toolbar_position": "left"
      }
     },
     "310bbccebef64675823465544185affe": {
      "model_module": "jupyter-matplotlib",
      "model_module_version": "^0.9.0",
      "model_name": "MPLCanvasModel",
      "state": {
       "_cursor": "default",
       "_figure_label": "Figure 26",
       "_height": 360,
       "_width": 864,
       "layout": "IPY_MODEL_a445c832b0cf45dca42a98cfdc4183fb",
       "toolbar": "IPY_MODEL_26b530c4a09c462c8322b5eba1666e9c",
       "toolbar_position": "left"
      }
     },
     "315407326d5d481e8fd571eaab0b8ff3": {
      "model_module": "@jupyter-widgets/base",
      "model_module_version": "1.2.0",
      "model_name": "LayoutModel",
      "state": {}
     },
     "326819bbfc654a58abbe44657b35bde8": {
      "model_module": "jupyter-matplotlib",
      "model_module_version": "^0.9.0",
      "model_name": "ToolbarModel",
      "state": {
       "layout": "IPY_MODEL_20c35d984ee94bdfa5cfd47361cadf04",
       "toolitems": [
        [
         "Home",
         "Reset original view",
         "home",
         "home"
        ],
        [
         "Back",
         "Back to previous view",
         "arrow-left",
         "back"
        ],
        [
         "Forward",
         "Forward to next view",
         "arrow-right",
         "forward"
        ],
        [
         "Pan",
         "Left button pans, Right button zooms\nx/y fixes axis, CTRL fixes aspect",
         "arrows",
         "pan"
        ],
        [
         "Zoom",
         "Zoom to rectangle\nx/y fixes axis, CTRL fixes aspect",
         "square-o",
         "zoom"
        ],
        [
         "Download",
         "Download plot",
         "floppy-o",
         "save_figure"
        ]
       ]
      }
     },
     "3272976e6eb34a5d834afa11b4f96a8c": {
      "model_module": "@jupyter-widgets/base",
      "model_module_version": "1.2.0",
      "model_name": "LayoutModel",
      "state": {}
     },
     "327b6e6819524b49bf54336fa620ca3f": {
      "model_module": "@jupyter-widgets/base",
      "model_module_version": "1.2.0",
      "model_name": "LayoutModel",
      "state": {}
     },
     "39a8574fec1941e2b374db88eed10fcc": {
      "model_module": "@jupyter-widgets/base",
      "model_module_version": "1.2.0",
      "model_name": "LayoutModel",
      "state": {}
     },
     "3b56711557d541f490caae31fa4f6ba6": {
      "model_module": "jupyter-matplotlib",
      "model_module_version": "^0.9.0",
      "model_name": "ToolbarModel",
      "state": {
       "layout": "IPY_MODEL_b34db8c9336340c59d259a5b89f748f8",
       "toolitems": [
        [
         "Home",
         "Reset original view",
         "home",
         "home"
        ],
        [
         "Back",
         "Back to previous view",
         "arrow-left",
         "back"
        ],
        [
         "Forward",
         "Forward to next view",
         "arrow-right",
         "forward"
        ],
        [
         "Pan",
         "Left button pans, Right button zooms\nx/y fixes axis, CTRL fixes aspect",
         "arrows",
         "pan"
        ],
        [
         "Zoom",
         "Zoom to rectangle\nx/y fixes axis, CTRL fixes aspect",
         "square-o",
         "zoom"
        ],
        [
         "Download",
         "Download plot",
         "floppy-o",
         "save_figure"
        ]
       ]
      }
     },
     "3c8a5ae87f204c548fdc715a84c5d310": {
      "model_module": "@jupyter-widgets/base",
      "model_module_version": "1.2.0",
      "model_name": "LayoutModel",
      "state": {}
     },
     "3f3367c83c6a4ac0ae8c8cc23cbd9835": {
      "model_module": "jupyter-matplotlib",
      "model_module_version": "^0.9.0",
      "model_name": "ToolbarModel",
      "state": {
       "layout": "IPY_MODEL_0f8d43223e514f4cb79dd8f614815106",
       "toolitems": [
        [
         "Home",
         "Reset original view",
         "home",
         "home"
        ],
        [
         "Back",
         "Back to previous view",
         "arrow-left",
         "back"
        ],
        [
         "Forward",
         "Forward to next view",
         "arrow-right",
         "forward"
        ],
        [
         "Pan",
         "Left button pans, Right button zooms\nx/y fixes axis, CTRL fixes aspect",
         "arrows",
         "pan"
        ],
        [
         "Zoom",
         "Zoom to rectangle\nx/y fixes axis, CTRL fixes aspect",
         "square-o",
         "zoom"
        ],
        [
         "Download",
         "Download plot",
         "floppy-o",
         "save_figure"
        ]
       ]
      }
     },
     "43068f96e6524570be1f03edb750f9c2": {
      "model_module": "jupyter-matplotlib",
      "model_module_version": "^0.9.0",
      "model_name": "ToolbarModel",
      "state": {
       "layout": "IPY_MODEL_39a8574fec1941e2b374db88eed10fcc",
       "toolitems": [
        [
         "Home",
         "Reset original view",
         "home",
         "home"
        ],
        [
         "Back",
         "Back to previous view",
         "arrow-left",
         "back"
        ],
        [
         "Forward",
         "Forward to next view",
         "arrow-right",
         "forward"
        ],
        [
         "Pan",
         "Left button pans, Right button zooms\nx/y fixes axis, CTRL fixes aspect",
         "arrows",
         "pan"
        ],
        [
         "Zoom",
         "Zoom to rectangle\nx/y fixes axis, CTRL fixes aspect",
         "square-o",
         "zoom"
        ],
        [
         "Download",
         "Download plot",
         "floppy-o",
         "save_figure"
        ]
       ]
      }
     },
     "435290932a344054ba917d6582297d35": {
      "model_module": "jupyter-matplotlib",
      "model_module_version": "^0.9.0",
      "model_name": "ToolbarModel",
      "state": {
       "layout": "IPY_MODEL_d09e061dfab141bb88989469e179777b",
       "toolitems": [
        [
         "Home",
         "Reset original view",
         "home",
         "home"
        ],
        [
         "Back",
         "Back to previous view",
         "arrow-left",
         "back"
        ],
        [
         "Forward",
         "Forward to next view",
         "arrow-right",
         "forward"
        ],
        [
         "Pan",
         "Left button pans, Right button zooms\nx/y fixes axis, CTRL fixes aspect",
         "arrows",
         "pan"
        ],
        [
         "Zoom",
         "Zoom to rectangle\nx/y fixes axis, CTRL fixes aspect",
         "square-o",
         "zoom"
        ],
        [
         "Download",
         "Download plot",
         "floppy-o",
         "save_figure"
        ]
       ]
      }
     },
     "4365d4a46e7344e998390cae4ad68974": {
      "model_module": "@jupyter-widgets/base",
      "model_module_version": "1.2.0",
      "model_name": "LayoutModel",
      "state": {}
     },
     "46974c2189194eb391670f529e2691d5": {
      "model_module": "@jupyter-widgets/base",
      "model_module_version": "1.2.0",
      "model_name": "LayoutModel",
      "state": {}
     },
     "4831d029e5a54ac0ab5cc2ada60661ac": {
      "model_module": "@jupyter-widgets/base",
      "model_module_version": "1.2.0",
      "model_name": "LayoutModel",
      "state": {}
     },
     "4b877fa727db4d12876ac6ccd9925d33": {
      "model_module": "jupyter-matplotlib",
      "model_module_version": "^0.9.0",
      "model_name": "MPLCanvasModel",
      "state": {
       "_cursor": "default",
       "_figure_label": "Figure 16",
       "_height": 288,
       "_message": "x=61.8 y=−12.9",
       "_width": 432,
       "layout": "IPY_MODEL_f0235d240f3a4d69bd2949e09bcb660d",
       "toolbar": "IPY_MODEL_d0baa7d542d84800a15409b96e6cae1d",
       "toolbar_position": "left"
      }
     },
     "4c1d4323cb7044739119c3dc74f1274e": {
      "model_module": "jupyter-matplotlib",
      "model_module_version": "^0.9.0",
      "model_name": "MPLCanvasModel",
      "state": {
       "_cursor": "default",
       "_figure_label": "Figure 7",
       "_height": 288,
       "_width": 432,
       "layout": "IPY_MODEL_c8a56412795845de806a89f1c7b28849",
       "toolbar": "IPY_MODEL_21c1f651737f4e51af468b925bff9da4",
       "toolbar_position": "left"
      }
     },
     "4e155759eb8645a3a64d9292d19a67ce": {
      "model_module": "@jupyter-widgets/base",
      "model_module_version": "1.2.0",
      "model_name": "LayoutModel",
      "state": {}
     },
     "4e3f1792ddb049f0b1022b5609550661": {
      "model_module": "jupyter-matplotlib",
      "model_module_version": "^0.9.0",
      "model_name": "ToolbarModel",
      "state": {
       "layout": "IPY_MODEL_4365d4a46e7344e998390cae4ad68974",
       "toolitems": [
        [
         "Home",
         "Reset original view",
         "home",
         "home"
        ],
        [
         "Back",
         "Back to previous view",
         "arrow-left",
         "back"
        ],
        [
         "Forward",
         "Forward to next view",
         "arrow-right",
         "forward"
        ],
        [
         "Pan",
         "Left button pans, Right button zooms\nx/y fixes axis, CTRL fixes aspect",
         "arrows",
         "pan"
        ],
        [
         "Zoom",
         "Zoom to rectangle\nx/y fixes axis, CTRL fixes aspect",
         "square-o",
         "zoom"
        ],
        [
         "Download",
         "Download plot",
         "floppy-o",
         "save_figure"
        ]
       ]
      }
     },
     "4ec248476f474e7993b635edb74d0a7d": {
      "model_module": "jupyter-matplotlib",
      "model_module_version": "^0.9.0",
      "model_name": "MPLCanvasModel",
      "state": {
       "_cursor": "default",
       "_figure_label": "Figure 31",
       "_height": 360,
       "_width": 864,
       "layout": "IPY_MODEL_5262ee21e6004f6f8a3c9a3fb76c170a",
       "toolbar": "IPY_MODEL_a8a70c3982e044188b66c911fa2b16ef",
       "toolbar_position": "left"
      }
     },
     "525a19feaa7a4de9961551797036e83d": {
      "model_module": "jupyter-matplotlib",
      "model_module_version": "^0.9.0",
      "model_name": "ToolbarModel",
      "state": {
       "layout": "IPY_MODEL_ec8dc6921a394ff19033454930592693",
       "toolitems": [
        [
         "Home",
         "Reset original view",
         "home",
         "home"
        ],
        [
         "Back",
         "Back to previous view",
         "arrow-left",
         "back"
        ],
        [
         "Forward",
         "Forward to next view",
         "arrow-right",
         "forward"
        ],
        [
         "Pan",
         "Left button pans, Right button zooms\nx/y fixes axis, CTRL fixes aspect",
         "arrows",
         "pan"
        ],
        [
         "Zoom",
         "Zoom to rectangle\nx/y fixes axis, CTRL fixes aspect",
         "square-o",
         "zoom"
        ],
        [
         "Download",
         "Download plot",
         "floppy-o",
         "save_figure"
        ]
       ]
      }
     },
     "5262ee21e6004f6f8a3c9a3fb76c170a": {
      "model_module": "@jupyter-widgets/base",
      "model_module_version": "1.2.0",
      "model_name": "LayoutModel",
      "state": {}
     },
     "5305dee3f39b402aa349dd1b4810eb75": {
      "model_module": "@jupyter-widgets/base",
      "model_module_version": "1.2.0",
      "model_name": "LayoutModel",
      "state": {}
     },
     "531434c46ad849bf8f26d043be171ad1": {
      "model_module": "@jupyter-widgets/base",
      "model_module_version": "1.2.0",
      "model_name": "LayoutModel",
      "state": {}
     },
     "5417d285f0e842e0bd3da99349437de0": {
      "model_module": "jupyter-matplotlib",
      "model_module_version": "^0.9.0",
      "model_name": "MPLCanvasModel",
      "state": {
       "_cursor": "default",
       "_figure_label": "Figure 22",
       "_height": 288,
       "_width": 432,
       "layout": "IPY_MODEL_851b4b598a75481e889153fd84d27a23",
       "toolbar": "IPY_MODEL_435290932a344054ba917d6582297d35",
       "toolbar_position": "left"
      }
     },
     "5780cb42ba8a451cb7f2893378f66d37": {
      "model_module": "jupyter-matplotlib",
      "model_module_version": "^0.9.0",
      "model_name": "ToolbarModel",
      "state": {
       "layout": "IPY_MODEL_d67776e54a1840f99aab14a7f90f36b1",
       "toolitems": [
        [
         "Home",
         "Reset original view",
         "home",
         "home"
        ],
        [
         "Back",
         "Back to previous view",
         "arrow-left",
         "back"
        ],
        [
         "Forward",
         "Forward to next view",
         "arrow-right",
         "forward"
        ],
        [
         "Pan",
         "Left button pans, Right button zooms\nx/y fixes axis, CTRL fixes aspect",
         "arrows",
         "pan"
        ],
        [
         "Zoom",
         "Zoom to rectangle\nx/y fixes axis, CTRL fixes aspect",
         "square-o",
         "zoom"
        ],
        [
         "Download",
         "Download plot",
         "floppy-o",
         "save_figure"
        ]
       ]
      }
     },
     "58069f4780694b40b147295b88a1d1c1": {
      "model_module": "jupyter-matplotlib",
      "model_module_version": "^0.9.0",
      "model_name": "MPLCanvasModel",
      "state": {
       "_cursor": "default",
       "_figure_label": "Figure 5",
       "_height": 288,
       "_width": 432,
       "layout": "IPY_MODEL_87f2a28fa53d4a959f7c192553476e1e",
       "toolbar": "IPY_MODEL_8f4aa161f6ee4f0a8d3e9fbbf8ac54b4",
       "toolbar_position": "left"
      }
     },
     "5864b77cee28467d837d0d3fd9a43dcc": {
      "model_module": "@jupyter-widgets/base",
      "model_module_version": "1.2.0",
      "model_name": "LayoutModel",
      "state": {}
     },
     "5a50d3f4ab944891902a7c6569f25c6d": {
      "model_module": "jupyter-matplotlib",
      "model_module_version": "^0.9.0",
      "model_name": "ToolbarModel",
      "state": {
       "layout": "IPY_MODEL_d4b3cd89b23c45df9b6a6d378266e505",
       "toolitems": [
        [
         "Home",
         "Reset original view",
         "home",
         "home"
        ],
        [
         "Back",
         "Back to previous view",
         "arrow-left",
         "back"
        ],
        [
         "Forward",
         "Forward to next view",
         "arrow-right",
         "forward"
        ],
        [
         "Pan",
         "Left button pans, Right button zooms\nx/y fixes axis, CTRL fixes aspect",
         "arrows",
         "pan"
        ],
        [
         "Zoom",
         "Zoom to rectangle\nx/y fixes axis, CTRL fixes aspect",
         "square-o",
         "zoom"
        ],
        [
         "Download",
         "Download plot",
         "floppy-o",
         "save_figure"
        ]
       ]
      }
     },
     "5e11602be30a4e50a7f4ca0ab29d96e6": {
      "model_module": "jupyter-matplotlib",
      "model_module_version": "^0.9.0",
      "model_name": "MPLCanvasModel",
      "state": {
       "_cursor": "default",
       "_figure_label": "Figure 19",
       "_height": 288,
       "_width": 432,
       "layout": "IPY_MODEL_f386514c9b944879b45ed2dfa6c3f303",
       "toolbar": "IPY_MODEL_962d82e11d5641c99e9418d0105af9c3",
       "toolbar_position": "left"
      }
     },
     "5e5a999fd7614986907a03fe3dfe6661": {
      "model_module": "jupyter-matplotlib",
      "model_module_version": "^0.9.0",
      "model_name": "MPLCanvasModel",
      "state": {
       "_cursor": "default",
       "_figure_label": "Figure 29",
       "_height": 360,
       "_width": 864,
       "layout": "IPY_MODEL_4831d029e5a54ac0ab5cc2ada60661ac",
       "toolbar": "IPY_MODEL_86b51e441892433682e252f38582c138",
       "toolbar_position": "left"
      }
     },
     "5e6a846f7c7c46588bbebfec54d2dc9e": {
      "model_module": "@jupyter-widgets/base",
      "model_module_version": "1.2.0",
      "model_name": "LayoutModel",
      "state": {}
     },
     "5e823fad52a741bfabb65d7139bfe0cf": {
      "model_module": "jupyter-matplotlib",
      "model_module_version": "^0.9.0",
      "model_name": "MPLCanvasModel",
      "state": {
       "_cursor": "default",
       "_figure_label": "Figure 41",
       "_height": 288,
       "_width": 432,
       "layout": "IPY_MODEL_ea884a39217249d4aa28a36372473fe3",
       "toolbar": "IPY_MODEL_7c3e17cc862b40a69de370f11dd51a54",
       "toolbar_position": "left"
      }
     },
     "5fe3c06fee4346feb38cf3dcc5cad343": {
      "model_module": "@jupyter-widgets/base",
      "model_module_version": "1.2.0",
      "model_name": "LayoutModel",
      "state": {}
     },
     "6532e3dd99f04c04bd785692b7037fc9": {
      "model_module": "@jupyter-widgets/base",
      "model_module_version": "1.2.0",
      "model_name": "LayoutModel",
      "state": {}
     },
     "66e786c1321244e9b0f852739d125fb2": {
      "model_module": "@jupyter-widgets/base",
      "model_module_version": "1.2.0",
      "model_name": "LayoutModel",
      "state": {}
     },
     "6707f1d85e2a465898e14b78896410bc": {
      "model_module": "@jupyter-widgets/base",
      "model_module_version": "1.2.0",
      "model_name": "LayoutModel",
      "state": {}
     },
     "6793b12e78d64e3a9c67da8b190eb005": {
      "model_module": "jupyter-matplotlib",
      "model_module_version": "^0.9.0",
      "model_name": "ToolbarModel",
      "state": {
       "layout": "IPY_MODEL_d822b46d450a4325806075dc74ff87d9",
       "toolitems": [
        [
         "Home",
         "Reset original view",
         "home",
         "home"
        ],
        [
         "Back",
         "Back to previous view",
         "arrow-left",
         "back"
        ],
        [
         "Forward",
         "Forward to next view",
         "arrow-right",
         "forward"
        ],
        [
         "Pan",
         "Left button pans, Right button zooms\nx/y fixes axis, CTRL fixes aspect",
         "arrows",
         "pan"
        ],
        [
         "Zoom",
         "Zoom to rectangle\nx/y fixes axis, CTRL fixes aspect",
         "square-o",
         "zoom"
        ],
        [
         "Download",
         "Download plot",
         "floppy-o",
         "save_figure"
        ]
       ]
      }
     },
     "6c685b2b841745e3a98ff62c075889e8": {
      "model_module": "jupyter-matplotlib",
      "model_module_version": "^0.9.0",
      "model_name": "MPLCanvasModel",
      "state": {
       "_cursor": "default",
       "_figure_label": "Figure 14",
       "_height": 288,
       "_width": 432,
       "layout": "IPY_MODEL_aa348c107d6c4dc095ab6ff6669938c0",
       "toolbar": "IPY_MODEL_b3359aaa8fe041babd64097e265756cc",
       "toolbar_position": "left"
      }
     },
     "6e68e14042dc4ba5877998e70e7281f0": {
      "model_module": "jupyter-matplotlib",
      "model_module_version": "^0.9.0",
      "model_name": "MPLCanvasModel",
      "state": {
       "_cursor": "default",
       "_figure_label": "Figure 8",
       "_height": 288,
       "_width": 432,
       "layout": "IPY_MODEL_bebcd6b0005743d7b7951b1ac2765aec",
       "toolbar": "IPY_MODEL_19b8620948ea49de9b6bcc79265fd0ce",
       "toolbar_position": "left"
      }
     },
     "6f37bc6faed84c4f94198543a9879882": {
      "model_module": "jupyter-matplotlib",
      "model_module_version": "^0.9.0",
      "model_name": "ToolbarModel",
      "state": {
       "layout": "IPY_MODEL_f3be64e4854c4ca1a265c3aa4a1fd849",
       "toolitems": [
        [
         "Home",
         "Reset original view",
         "home",
         "home"
        ],
        [
         "Back",
         "Back to previous view",
         "arrow-left",
         "back"
        ],
        [
         "Forward",
         "Forward to next view",
         "arrow-right",
         "forward"
        ],
        [
         "Pan",
         "Left button pans, Right button zooms\nx/y fixes axis, CTRL fixes aspect",
         "arrows",
         "pan"
        ],
        [
         "Zoom",
         "Zoom to rectangle\nx/y fixes axis, CTRL fixes aspect",
         "square-o",
         "zoom"
        ],
        [
         "Download",
         "Download plot",
         "floppy-o",
         "save_figure"
        ]
       ]
      }
     },
     "7130b43f76144155aa9d0b8389453def": {
      "model_module": "jupyter-matplotlib",
      "model_module_version": "^0.9.0",
      "model_name": "ToolbarModel",
      "state": {
       "layout": "IPY_MODEL_e2ed79b6f1ad47f7b0478dcc21613b7d",
       "toolitems": [
        [
         "Home",
         "Reset original view",
         "home",
         "home"
        ],
        [
         "Back",
         "Back to previous view",
         "arrow-left",
         "back"
        ],
        [
         "Forward",
         "Forward to next view",
         "arrow-right",
         "forward"
        ],
        [
         "Pan",
         "Left button pans, Right button zooms\nx/y fixes axis, CTRL fixes aspect",
         "arrows",
         "pan"
        ],
        [
         "Zoom",
         "Zoom to rectangle\nx/y fixes axis, CTRL fixes aspect",
         "square-o",
         "zoom"
        ],
        [
         "Download",
         "Download plot",
         "floppy-o",
         "save_figure"
        ]
       ]
      }
     },
     "724d5f95ad1247aca1feb971bad0e786": {
      "model_module": "jupyter-matplotlib",
      "model_module_version": "^0.9.0",
      "model_name": "MPLCanvasModel",
      "state": {
       "_cursor": "default",
       "_figure_label": "Figure 20",
       "_height": 288,
       "_width": 432,
       "layout": "IPY_MODEL_531434c46ad849bf8f26d043be171ad1",
       "toolbar": "IPY_MODEL_2c922ea7cda140b787a994ba5c6ed896",
       "toolbar_position": "left"
      }
     },
     "74540a341b68406f8d19524c6d0c726c": {
      "model_module": "jupyter-matplotlib",
      "model_module_version": "^0.9.0",
      "model_name": "ToolbarModel",
      "state": {
       "layout": "IPY_MODEL_9d65b8bf89824c5f99dbc22ccec3adcb",
       "toolitems": [
        [
         "Home",
         "Reset original view",
         "home",
         "home"
        ],
        [
         "Back",
         "Back to previous view",
         "arrow-left",
         "back"
        ],
        [
         "Forward",
         "Forward to next view",
         "arrow-right",
         "forward"
        ],
        [
         "Pan",
         "Left button pans, Right button zooms\nx/y fixes axis, CTRL fixes aspect",
         "arrows",
         "pan"
        ],
        [
         "Zoom",
         "Zoom to rectangle\nx/y fixes axis, CTRL fixes aspect",
         "square-o",
         "zoom"
        ],
        [
         "Download",
         "Download plot",
         "floppy-o",
         "save_figure"
        ]
       ]
      }
     },
     "75821bb8f80c4fb88d663f01ab14379c": {
      "model_module": "jupyter-matplotlib",
      "model_module_version": "^0.9.0",
      "model_name": "MPLCanvasModel",
      "state": {
       "_cursor": "default",
       "_figure_label": "Figure 11",
       "_height": 288,
       "_message": "x=0.565 y=0.629",
       "_width": 432,
       "layout": "IPY_MODEL_e38c6ab73d34436995cf0565420536e2",
       "toolbar": "IPY_MODEL_4e3f1792ddb049f0b1022b5609550661",
       "toolbar_position": "left"
      }
     },
     "7979b888c31145128715b4fedeaf2ba3": {
      "model_module": "@jupyter-widgets/base",
      "model_module_version": "1.2.0",
      "model_name": "LayoutModel",
      "state": {}
     },
     "7c11c7f2b7854cdea9360db087e2a122": {
      "model_module": "@jupyter-widgets/base",
      "model_module_version": "1.2.0",
      "model_name": "LayoutModel",
      "state": {}
     },
     "7c3e17cc862b40a69de370f11dd51a54": {
      "model_module": "jupyter-matplotlib",
      "model_module_version": "^0.9.0",
      "model_name": "ToolbarModel",
      "state": {
       "layout": "IPY_MODEL_d4d18210ecf545a1b9dfc3df374e6c98",
       "toolitems": [
        [
         "Home",
         "Reset original view",
         "home",
         "home"
        ],
        [
         "Back",
         "Back to previous view",
         "arrow-left",
         "back"
        ],
        [
         "Forward",
         "Forward to next view",
         "arrow-right",
         "forward"
        ],
        [
         "Pan",
         "Left button pans, Right button zooms\nx/y fixes axis, CTRL fixes aspect",
         "arrows",
         "pan"
        ],
        [
         "Zoom",
         "Zoom to rectangle\nx/y fixes axis, CTRL fixes aspect",
         "square-o",
         "zoom"
        ],
        [
         "Download",
         "Download plot",
         "floppy-o",
         "save_figure"
        ]
       ]
      }
     },
     "7d6c041876b547aa83c2ca2a30e67242": {
      "model_module": "jupyter-matplotlib",
      "model_module_version": "^0.9.0",
      "model_name": "MPLCanvasModel",
      "state": {
       "_cursor": "default",
       "_figure_label": "Figure 12",
       "_height": 288,
       "_width": 432,
       "layout": "IPY_MODEL_b02540aa067549d0ba5b1fb367371319",
       "toolbar": "IPY_MODEL_5780cb42ba8a451cb7f2893378f66d37",
       "toolbar_position": "left"
      }
     },
     "7edac610b0e3458292f69a70329ad6d8": {
      "model_module": "@jupyter-widgets/base",
      "model_module_version": "1.2.0",
      "model_name": "LayoutModel",
      "state": {}
     },
     "804f55611012493b80eee291fcf326af": {
      "model_module": "@jupyter-widgets/base",
      "model_module_version": "1.2.0",
      "model_name": "LayoutModel",
      "state": {}
     },
     "81b9da88ef634def9ed9fbeb3f2563d1": {
      "model_module": "jupyter-matplotlib",
      "model_module_version": "^0.9.0",
      "model_name": "ToolbarModel",
      "state": {
       "layout": "IPY_MODEL_e7a94f5fb6fe487989536b7d488949a6",
       "toolitems": [
        [
         "Home",
         "Reset original view",
         "home",
         "home"
        ],
        [
         "Back",
         "Back to previous view",
         "arrow-left",
         "back"
        ],
        [
         "Forward",
         "Forward to next view",
         "arrow-right",
         "forward"
        ],
        [
         "Pan",
         "Left button pans, Right button zooms\nx/y fixes axis, CTRL fixes aspect",
         "arrows",
         "pan"
        ],
        [
         "Zoom",
         "Zoom to rectangle\nx/y fixes axis, CTRL fixes aspect",
         "square-o",
         "zoom"
        ],
        [
         "Download",
         "Download plot",
         "floppy-o",
         "save_figure"
        ]
       ]
      }
     },
     "82b45eec6d534baea30185efe3ae5fcc": {
      "model_module": "@jupyter-widgets/base",
      "model_module_version": "1.2.0",
      "model_name": "LayoutModel",
      "state": {}
     },
     "84c53b17ec994656b7762cdd3a04be36": {
      "model_module": "@jupyter-widgets/base",
      "model_module_version": "1.2.0",
      "model_name": "LayoutModel",
      "state": {}
     },
     "851b4b598a75481e889153fd84d27a23": {
      "model_module": "@jupyter-widgets/base",
      "model_module_version": "1.2.0",
      "model_name": "LayoutModel",
      "state": {}
     },
     "86b51e441892433682e252f38582c138": {
      "model_module": "jupyter-matplotlib",
      "model_module_version": "^0.9.0",
      "model_name": "ToolbarModel",
      "state": {
       "layout": "IPY_MODEL_7c11c7f2b7854cdea9360db087e2a122",
       "toolitems": [
        [
         "Home",
         "Reset original view",
         "home",
         "home"
        ],
        [
         "Back",
         "Back to previous view",
         "arrow-left",
         "back"
        ],
        [
         "Forward",
         "Forward to next view",
         "arrow-right",
         "forward"
        ],
        [
         "Pan",
         "Left button pans, Right button zooms\nx/y fixes axis, CTRL fixes aspect",
         "arrows",
         "pan"
        ],
        [
         "Zoom",
         "Zoom to rectangle\nx/y fixes axis, CTRL fixes aspect",
         "square-o",
         "zoom"
        ],
        [
         "Download",
         "Download plot",
         "floppy-o",
         "save_figure"
        ]
       ]
      }
     },
     "87f2a28fa53d4a959f7c192553476e1e": {
      "model_module": "@jupyter-widgets/base",
      "model_module_version": "1.2.0",
      "model_name": "LayoutModel",
      "state": {}
     },
     "8896f240a3104d12bef8100bee1fb34b": {
      "model_module": "@jupyter-widgets/base",
      "model_module_version": "1.2.0",
      "model_name": "LayoutModel",
      "state": {}
     },
     "89fdcb2bcf284e6db96968eddd77af64": {
      "model_module": "@jupyter-widgets/base",
      "model_module_version": "1.2.0",
      "model_name": "LayoutModel",
      "state": {}
     },
     "8a577bbc4d614465bb4dbff6c3651497": {
      "model_module": "jupyter-matplotlib",
      "model_module_version": "^0.9.0",
      "model_name": "MPLCanvasModel",
      "state": {
       "_cursor": "default",
       "_figure_label": "Figure 18",
       "_height": 288,
       "_message": "x=16.2 y=−20.1",
       "_width": 432,
       "layout": "IPY_MODEL_bef7c8771be44a638a848940cc511a48",
       "toolbar": "IPY_MODEL_3b56711557d541f490caae31fa4f6ba6",
       "toolbar_position": "left"
      }
     },
     "8e9a6cec2ae64f4abf0391c8d4b204fc": {
      "model_module": "jupyter-matplotlib",
      "model_module_version": "^0.9.0",
      "model_name": "ToolbarModel",
      "state": {
       "_current_action": "zoom",
       "layout": "IPY_MODEL_8896f240a3104d12bef8100bee1fb34b",
       "toolitems": [
        [
         "Home",
         "Reset original view",
         "home",
         "home"
        ],
        [
         "Back",
         "Back to previous view",
         "arrow-left",
         "back"
        ],
        [
         "Forward",
         "Forward to next view",
         "arrow-right",
         "forward"
        ],
        [
         "Pan",
         "Left button pans, Right button zooms\nx/y fixes axis, CTRL fixes aspect",
         "arrows",
         "pan"
        ],
        [
         "Zoom",
         "Zoom to rectangle\nx/y fixes axis, CTRL fixes aspect",
         "square-o",
         "zoom"
        ],
        [
         "Download",
         "Download plot",
         "floppy-o",
         "save_figure"
        ]
       ]
      }
     },
     "8f1c80cbf0e14538b36a055ce653f15b": {
      "model_module": "@jupyter-widgets/base",
      "model_module_version": "1.2.0",
      "model_name": "LayoutModel",
      "state": {}
     },
     "8f4aa161f6ee4f0a8d3e9fbbf8ac54b4": {
      "model_module": "jupyter-matplotlib",
      "model_module_version": "^0.9.0",
      "model_name": "ToolbarModel",
      "state": {
       "layout": "IPY_MODEL_db5c8afd22464b88bd549e7865827f22",
       "toolitems": [
        [
         "Home",
         "Reset original view",
         "home",
         "home"
        ],
        [
         "Back",
         "Back to previous view",
         "arrow-left",
         "back"
        ],
        [
         "Forward",
         "Forward to next view",
         "arrow-right",
         "forward"
        ],
        [
         "Pan",
         "Left button pans, Right button zooms\nx/y fixes axis, CTRL fixes aspect",
         "arrows",
         "pan"
        ],
        [
         "Zoom",
         "Zoom to rectangle\nx/y fixes axis, CTRL fixes aspect",
         "square-o",
         "zoom"
        ],
        [
         "Download",
         "Download plot",
         "floppy-o",
         "save_figure"
        ]
       ]
      }
     },
     "95ca2244a1b74449af753307a2aca747": {
      "model_module": "jupyter-matplotlib",
      "model_module_version": "^0.9.0",
      "model_name": "ToolbarModel",
      "state": {
       "layout": "IPY_MODEL_2dd899936fc14fa6aaa905e3c6aa9448",
       "toolitems": [
        [
         "Home",
         "Reset original view",
         "home",
         "home"
        ],
        [
         "Back",
         "Back to previous view",
         "arrow-left",
         "back"
        ],
        [
         "Forward",
         "Forward to next view",
         "arrow-right",
         "forward"
        ],
        [
         "Pan",
         "Left button pans, Right button zooms\nx/y fixes axis, CTRL fixes aspect",
         "arrows",
         "pan"
        ],
        [
         "Zoom",
         "Zoom to rectangle\nx/y fixes axis, CTRL fixes aspect",
         "square-o",
         "zoom"
        ],
        [
         "Download",
         "Download plot",
         "floppy-o",
         "save_figure"
        ]
       ]
      }
     },
     "962d82e11d5641c99e9418d0105af9c3": {
      "model_module": "jupyter-matplotlib",
      "model_module_version": "^0.9.0",
      "model_name": "ToolbarModel",
      "state": {
       "layout": "IPY_MODEL_8f1c80cbf0e14538b36a055ce653f15b",
       "toolitems": [
        [
         "Home",
         "Reset original view",
         "home",
         "home"
        ],
        [
         "Back",
         "Back to previous view",
         "arrow-left",
         "back"
        ],
        [
         "Forward",
         "Forward to next view",
         "arrow-right",
         "forward"
        ],
        [
         "Pan",
         "Left button pans, Right button zooms\nx/y fixes axis, CTRL fixes aspect",
         "arrows",
         "pan"
        ],
        [
         "Zoom",
         "Zoom to rectangle\nx/y fixes axis, CTRL fixes aspect",
         "square-o",
         "zoom"
        ],
        [
         "Download",
         "Download plot",
         "floppy-o",
         "save_figure"
        ]
       ]
      }
     },
     "970be8c1fa354f458b64c5f9b3c45ac9": {
      "model_module": "jupyter-matplotlib",
      "model_module_version": "^0.9.0",
      "model_name": "MPLCanvasModel",
      "state": {
       "_cursor": "default",
       "_figure_label": "Figure 3",
       "_height": 288,
       "_width": 432,
       "layout": "IPY_MODEL_6532e3dd99f04c04bd785692b7037fc9",
       "toolbar": "IPY_MODEL_c2f710aecef743e8a3cc3d44089b62d9",
       "toolbar_position": "left"
      }
     },
     "99f7b460e90641b6b1eb73331e0dc0d2": {
      "model_module": "jupyter-matplotlib",
      "model_module_version": "^0.9.0",
      "model_name": "ToolbarModel",
      "state": {
       "layout": "IPY_MODEL_e73822b78b114ad9ad8a71a22ce37df5",
       "toolitems": [
        [
         "Home",
         "Reset original view",
         "home",
         "home"
        ],
        [
         "Back",
         "Back to previous view",
         "arrow-left",
         "back"
        ],
        [
         "Forward",
         "Forward to next view",
         "arrow-right",
         "forward"
        ],
        [
         "Pan",
         "Left button pans, Right button zooms\nx/y fixes axis, CTRL fixes aspect",
         "arrows",
         "pan"
        ],
        [
         "Zoom",
         "Zoom to rectangle\nx/y fixes axis, CTRL fixes aspect",
         "square-o",
         "zoom"
        ],
        [
         "Download",
         "Download plot",
         "floppy-o",
         "save_figure"
        ]
       ]
      }
     },
     "9b864356a3574131a2716d0626c670dc": {
      "model_module": "jupyter-matplotlib",
      "model_module_version": "^0.9.0",
      "model_name": "ToolbarModel",
      "state": {
       "layout": "IPY_MODEL_315407326d5d481e8fd571eaab0b8ff3",
       "toolitems": [
        [
         "Home",
         "Reset original view",
         "home",
         "home"
        ],
        [
         "Back",
         "Back to previous view",
         "arrow-left",
         "back"
        ],
        [
         "Forward",
         "Forward to next view",
         "arrow-right",
         "forward"
        ],
        [
         "Pan",
         "Left button pans, Right button zooms\nx/y fixes axis, CTRL fixes aspect",
         "arrows",
         "pan"
        ],
        [
         "Zoom",
         "Zoom to rectangle\nx/y fixes axis, CTRL fixes aspect",
         "square-o",
         "zoom"
        ],
        [
         "Download",
         "Download plot",
         "floppy-o",
         "save_figure"
        ]
       ]
      }
     },
     "9c7a1f11fb84426fbfd8cbbf07680814": {
      "model_module": "jupyter-matplotlib",
      "model_module_version": "^0.9.0",
      "model_name": "MPLCanvasModel",
      "state": {
       "_cursor": "crosshair",
       "_figure_label": "Figure 2",
       "_height": 288,
       "_message": "x=−90.35 y=94.8",
       "_rubberband_y": 288,
       "_width": 432,
       "layout": "IPY_MODEL_dbc258d1c3674da49f9396bf59576eae",
       "toolbar": "IPY_MODEL_1efe2471f84d4cd49867372cdd1e0f0e",
       "toolbar_position": "left"
      }
     },
     "9d65b8bf89824c5f99dbc22ccec3adcb": {
      "model_module": "@jupyter-widgets/base",
      "model_module_version": "1.2.0",
      "model_name": "LayoutModel",
      "state": {}
     },
     "a445c832b0cf45dca42a98cfdc4183fb": {
      "model_module": "@jupyter-widgets/base",
      "model_module_version": "1.2.0",
      "model_name": "LayoutModel",
      "state": {}
     },
     "a4e0689472064f3199012f98a0e1d2f4": {
      "model_module": "jupyter-matplotlib",
      "model_module_version": "^0.9.0",
      "model_name": "MPLCanvasModel",
      "state": {
       "_cursor": "default",
       "_figure_label": "Figure 33",
       "_height": 576,
       "_width": 864,
       "layout": "IPY_MODEL_fc1c794a01c549e88ccfc71dc83ac305",
       "toolbar": "IPY_MODEL_5a50d3f4ab944891902a7c6569f25c6d",
       "toolbar_position": "left"
      }
     },
     "a80777ff188249c789d730dffb6d669e": {
      "model_module": "@jupyter-widgets/base",
      "model_module_version": "1.2.0",
      "model_name": "LayoutModel",
      "state": {}
     },
     "a89bd88bfc6542068d7a9055ad27b98f": {
      "model_module": "@jupyter-widgets/base",
      "model_module_version": "1.2.0",
      "model_name": "LayoutModel",
      "state": {}
     },
     "a8a70c3982e044188b66c911fa2b16ef": {
      "model_module": "jupyter-matplotlib",
      "model_module_version": "^0.9.0",
      "model_name": "ToolbarModel",
      "state": {
       "layout": "IPY_MODEL_eda8ea79a9d843e9a944ee301a5b45f9",
       "toolitems": [
        [
         "Home",
         "Reset original view",
         "home",
         "home"
        ],
        [
         "Back",
         "Back to previous view",
         "arrow-left",
         "back"
        ],
        [
         "Forward",
         "Forward to next view",
         "arrow-right",
         "forward"
        ],
        [
         "Pan",
         "Left button pans, Right button zooms\nx/y fixes axis, CTRL fixes aspect",
         "arrows",
         "pan"
        ],
        [
         "Zoom",
         "Zoom to rectangle\nx/y fixes axis, CTRL fixes aspect",
         "square-o",
         "zoom"
        ],
        [
         "Download",
         "Download plot",
         "floppy-o",
         "save_figure"
        ]
       ]
      }
     },
     "aa348c107d6c4dc095ab6ff6669938c0": {
      "model_module": "@jupyter-widgets/base",
      "model_module_version": "1.2.0",
      "model_name": "LayoutModel",
      "state": {}
     },
     "aa93940f839941e692e15ea8c21d5e35": {
      "model_module": "@jupyter-widgets/base",
      "model_module_version": "1.2.0",
      "model_name": "LayoutModel",
      "state": {}
     },
     "ae6d2d6e0a0a4fd390df78ce17623c58": {
      "model_module": "@jupyter-widgets/base",
      "model_module_version": "1.2.0",
      "model_name": "LayoutModel",
      "state": {}
     },
     "b02540aa067549d0ba5b1fb367371319": {
      "model_module": "@jupyter-widgets/base",
      "model_module_version": "1.2.0",
      "model_name": "LayoutModel",
      "state": {}
     },
     "b3359aaa8fe041babd64097e265756cc": {
      "model_module": "jupyter-matplotlib",
      "model_module_version": "^0.9.0",
      "model_name": "ToolbarModel",
      "state": {
       "layout": "IPY_MODEL_5305dee3f39b402aa349dd1b4810eb75",
       "toolitems": [
        [
         "Home",
         "Reset original view",
         "home",
         "home"
        ],
        [
         "Back",
         "Back to previous view",
         "arrow-left",
         "back"
        ],
        [
         "Forward",
         "Forward to next view",
         "arrow-right",
         "forward"
        ],
        [
         "Pan",
         "Left button pans, Right button zooms\nx/y fixes axis, CTRL fixes aspect",
         "arrows",
         "pan"
        ],
        [
         "Zoom",
         "Zoom to rectangle\nx/y fixes axis, CTRL fixes aspect",
         "square-o",
         "zoom"
        ],
        [
         "Download",
         "Download plot",
         "floppy-o",
         "save_figure"
        ]
       ]
      }
     },
     "b33ee3ec134f431aaa57a47e2e4bf74a": {
      "model_module": "@jupyter-widgets/base",
      "model_module_version": "1.2.0",
      "model_name": "LayoutModel",
      "state": {}
     },
     "b34db8c9336340c59d259a5b89f748f8": {
      "model_module": "@jupyter-widgets/base",
      "model_module_version": "1.2.0",
      "model_name": "LayoutModel",
      "state": {}
     },
     "b43ac9df4f684a52a77c265c27b93604": {
      "model_module": "@jupyter-widgets/base",
      "model_module_version": "1.2.0",
      "model_name": "LayoutModel",
      "state": {}
     },
     "b8995a3ccc654306af55207ea1a92488": {
      "model_module": "jupyter-matplotlib",
      "model_module_version": "^0.9.0",
      "model_name": "MPLCanvasModel",
      "state": {
       "_cursor": "default",
       "_figure_label": "Figure 17",
       "_height": 288,
       "_width": 432,
       "layout": "IPY_MODEL_db665b62cd47499bb752f0e3f707805e",
       "toolbar": "IPY_MODEL_6f37bc6faed84c4f94198543a9879882",
       "toolbar_position": "left"
      }
     },
     "bac1c1eafb2749609f0aeac1888f9061": {
      "model_module": "@jupyter-widgets/base",
      "model_module_version": "1.2.0",
      "model_name": "LayoutModel",
      "state": {}
     },
     "bebcd6b0005743d7b7951b1ac2765aec": {
      "model_module": "@jupyter-widgets/base",
      "model_module_version": "1.2.0",
      "model_name": "LayoutModel",
      "state": {}
     },
     "bef7c8771be44a638a848940cc511a48": {
      "model_module": "@jupyter-widgets/base",
      "model_module_version": "1.2.0",
      "model_name": "LayoutModel",
      "state": {}
     },
     "c0182f3d783f46b19408987df72f8ea5": {
      "model_module": "jupyter-matplotlib",
      "model_module_version": "^0.9.0",
      "model_name": "MPLCanvasModel",
      "state": {
       "_cursor": "default",
       "_figure_label": "Figure 40",
       "_height": 576,
       "_width": 1152,
       "layout": "IPY_MODEL_c75523ff8a8d46bca9ff4d091e659c6c",
       "toolbar": "IPY_MODEL_272e7a3eafdf415fa4b6119098d537bd",
       "toolbar_position": "left"
      }
     },
     "c2f710aecef743e8a3cc3d44089b62d9": {
      "model_module": "jupyter-matplotlib",
      "model_module_version": "^0.9.0",
      "model_name": "ToolbarModel",
      "state": {
       "layout": "IPY_MODEL_e59279e335e74b1398bde08304b40584",
       "toolitems": [
        [
         "Home",
         "Reset original view",
         "home",
         "home"
        ],
        [
         "Back",
         "Back to previous view",
         "arrow-left",
         "back"
        ],
        [
         "Forward",
         "Forward to next view",
         "arrow-right",
         "forward"
        ],
        [
         "Pan",
         "Left button pans, Right button zooms\nx/y fixes axis, CTRL fixes aspect",
         "arrows",
         "pan"
        ],
        [
         "Zoom",
         "Zoom to rectangle\nx/y fixes axis, CTRL fixes aspect",
         "square-o",
         "zoom"
        ],
        [
         "Download",
         "Download plot",
         "floppy-o",
         "save_figure"
        ]
       ]
      }
     },
     "c35047ac1b0f443db62dfabd019913a4": {
      "model_module": "jupyter-matplotlib",
      "model_module_version": "^0.9.0",
      "model_name": "MPLCanvasModel",
      "state": {
       "_cursor": "default",
       "_figure_label": "Figure 25",
       "_height": 360,
       "_message": "x=−0.0024 y=258.4",
       "_width": 864,
       "layout": "IPY_MODEL_a80777ff188249c789d730dffb6d669e",
       "toolbar": "IPY_MODEL_21fe9bd6afc3426cafeba34b19de0687",
       "toolbar_position": "left"
      }
     },
     "c63827b4036a4e4e8389637d38e30dfe": {
      "model_module": "jupyter-matplotlib",
      "model_module_version": "^0.9.0",
      "model_name": "ToolbarModel",
      "state": {
       "layout": "IPY_MODEL_5864b77cee28467d837d0d3fd9a43dcc",
       "toolitems": [
        [
         "Home",
         "Reset original view",
         "home",
         "home"
        ],
        [
         "Back",
         "Back to previous view",
         "arrow-left",
         "back"
        ],
        [
         "Forward",
         "Forward to next view",
         "arrow-right",
         "forward"
        ],
        [
         "Pan",
         "Left button pans, Right button zooms\nx/y fixes axis, CTRL fixes aspect",
         "arrows",
         "pan"
        ],
        [
         "Zoom",
         "Zoom to rectangle\nx/y fixes axis, CTRL fixes aspect",
         "square-o",
         "zoom"
        ],
        [
         "Download",
         "Download plot",
         "floppy-o",
         "save_figure"
        ]
       ]
      }
     },
     "c75523ff8a8d46bca9ff4d091e659c6c": {
      "model_module": "@jupyter-widgets/base",
      "model_module_version": "1.2.0",
      "model_name": "LayoutModel",
      "state": {}
     },
     "c7b6f73b3ead48349ae39a788a6c66de": {
      "model_module": "jupyter-matplotlib",
      "model_module_version": "^0.9.0",
      "model_name": "MPLCanvasModel",
      "state": {
       "_cursor": "default",
       "_figure_label": "Figure 13",
       "_height": 288,
       "_width": 432,
       "layout": "IPY_MODEL_84c53b17ec994656b7762cdd3a04be36",
       "toolbar": "IPY_MODEL_99f7b460e90641b6b1eb73331e0dc0d2",
       "toolbar_position": "left"
      }
     },
     "c8a56412795845de806a89f1c7b28849": {
      "model_module": "@jupyter-widgets/base",
      "model_module_version": "1.2.0",
      "model_name": "LayoutModel",
      "state": {}
     },
     "c9af6d7d481442eea7ffb32c937c31e8": {
      "model_module": "@jupyter-widgets/base",
      "model_module_version": "1.2.0",
      "model_name": "LayoutModel",
      "state": {}
     },
     "cefe2cae434a430aa454bfa1eeabf239": {
      "model_module": "jupyter-matplotlib",
      "model_module_version": "^0.9.0",
      "model_name": "ToolbarModel",
      "state": {
       "layout": "IPY_MODEL_66e786c1321244e9b0f852739d125fb2",
       "toolitems": [
        [
         "Home",
         "Reset original view",
         "home",
         "home"
        ],
        [
         "Back",
         "Back to previous view",
         "arrow-left",
         "back"
        ],
        [
         "Forward",
         "Forward to next view",
         "arrow-right",
         "forward"
        ],
        [
         "Pan",
         "Left button pans, Right button zooms\nx/y fixes axis, CTRL fixes aspect",
         "arrows",
         "pan"
        ],
        [
         "Zoom",
         "Zoom to rectangle\nx/y fixes axis, CTRL fixes aspect",
         "square-o",
         "zoom"
        ],
        [
         "Download",
         "Download plot",
         "floppy-o",
         "save_figure"
        ]
       ]
      }
     },
     "cf16c1d40d00420c8a09c2dcf71d36de": {
      "model_module": "@jupyter-widgets/base",
      "model_module_version": "1.2.0",
      "model_name": "LayoutModel",
      "state": {}
     },
     "d09e061dfab141bb88989469e179777b": {
      "model_module": "@jupyter-widgets/base",
      "model_module_version": "1.2.0",
      "model_name": "LayoutModel",
      "state": {}
     },
     "d0baa7d542d84800a15409b96e6cae1d": {
      "model_module": "jupyter-matplotlib",
      "model_module_version": "^0.9.0",
      "model_name": "ToolbarModel",
      "state": {
       "layout": "IPY_MODEL_b33ee3ec134f431aaa57a47e2e4bf74a",
       "toolitems": [
        [
         "Home",
         "Reset original view",
         "home",
         "home"
        ],
        [
         "Back",
         "Back to previous view",
         "arrow-left",
         "back"
        ],
        [
         "Forward",
         "Forward to next view",
         "arrow-right",
         "forward"
        ],
        [
         "Pan",
         "Left button pans, Right button zooms\nx/y fixes axis, CTRL fixes aspect",
         "arrows",
         "pan"
        ],
        [
         "Zoom",
         "Zoom to rectangle\nx/y fixes axis, CTRL fixes aspect",
         "square-o",
         "zoom"
        ],
        [
         "Download",
         "Download plot",
         "floppy-o",
         "save_figure"
        ]
       ]
      }
     },
     "d0cdfa46a90948f8a1cb40198ca8986a": {
      "model_module": "@jupyter-widgets/base",
      "model_module_version": "1.2.0",
      "model_name": "LayoutModel",
      "state": {}
     },
     "d118870be30c4ef0885a01e7aef50fd0": {
      "model_module": "jupyter-matplotlib",
      "model_module_version": "^0.9.0",
      "model_name": "MPLCanvasModel",
      "state": {
       "_cursor": "default",
       "_figure_label": "Figure 32",
       "_height": 360,
       "_message": "x=−4.5 y=0.6406",
       "_width": 864,
       "layout": "IPY_MODEL_fac78aee1d9e4c0ba64048331b3750c6",
       "toolbar": "IPY_MODEL_eab33a8f9be94db0a54b86289845b35f",
       "toolbar_position": "left"
      }
     },
     "d20fce5322724c7e8e058e639e934821": {
      "model_module": "jupyter-matplotlib",
      "model_module_version": "^0.9.0",
      "model_name": "ToolbarModel",
      "state": {
       "layout": "IPY_MODEL_46974c2189194eb391670f529e2691d5",
       "toolitems": [
        [
         "Home",
         "Reset original view",
         "home",
         "home"
        ],
        [
         "Back",
         "Back to previous view",
         "arrow-left",
         "back"
        ],
        [
         "Forward",
         "Forward to next view",
         "arrow-right",
         "forward"
        ],
        [
         "Pan",
         "Left button pans, Right button zooms\nx/y fixes axis, CTRL fixes aspect",
         "arrows",
         "pan"
        ],
        [
         "Zoom",
         "Zoom to rectangle\nx/y fixes axis, CTRL fixes aspect",
         "square-o",
         "zoom"
        ],
        [
         "Download",
         "Download plot",
         "floppy-o",
         "save_figure"
        ]
       ]
      }
     },
     "d238c8d8a46243da8e0fc6a0aaccc8fc": {
      "model_module": "jupyter-matplotlib",
      "model_module_version": "^0.9.0",
      "model_name": "MPLCanvasModel",
      "state": {
       "_cursor": "default",
       "_figure_label": "Figure 36",
       "_height": 576,
       "_width": 1152,
       "layout": "IPY_MODEL_82b45eec6d534baea30185efe3ae5fcc",
       "toolbar": "IPY_MODEL_047998e74baf43d7b15c076be50d7a3d",
       "toolbar_position": "left"
      }
     },
     "d3db3bf5205d46ab82b86d45b724e83d": {
      "model_module": "jupyter-matplotlib",
      "model_module_version": "^0.9.0",
      "model_name": "MPLCanvasModel",
      "state": {
       "_cursor": "default",
       "_figure_label": "Figure 38",
       "_height": 576,
       "_width": 1152,
       "layout": "IPY_MODEL_bac1c1eafb2749609f0aeac1888f9061",
       "toolbar": "IPY_MODEL_74540a341b68406f8d19524c6d0c726c",
       "toolbar_position": "left"
      }
     },
     "d4b3cd89b23c45df9b6a6d378266e505": {
      "model_module": "@jupyter-widgets/base",
      "model_module_version": "1.2.0",
      "model_name": "LayoutModel",
      "state": {}
     },
     "d4d18210ecf545a1b9dfc3df374e6c98": {
      "model_module": "@jupyter-widgets/base",
      "model_module_version": "1.2.0",
      "model_name": "LayoutModel",
      "state": {}
     },
     "d67776e54a1840f99aab14a7f90f36b1": {
      "model_module": "@jupyter-widgets/base",
      "model_module_version": "1.2.0",
      "model_name": "LayoutModel",
      "state": {}
     },
     "d822b46d450a4325806075dc74ff87d9": {
      "model_module": "@jupyter-widgets/base",
      "model_module_version": "1.2.0",
      "model_name": "LayoutModel",
      "state": {}
     },
     "d8b3ab7df5cc440790c10abadef88e31": {
      "model_module": "@jupyter-widgets/base",
      "model_module_version": "1.2.0",
      "model_name": "LayoutModel",
      "state": {}
     },
     "d8fc6dcc0f7c406f887dcb7f86f6d0e7": {
      "model_module": "@jupyter-widgets/base",
      "model_module_version": "1.2.0",
      "model_name": "LayoutModel",
      "state": {}
     },
     "db5c8afd22464b88bd549e7865827f22": {
      "model_module": "@jupyter-widgets/base",
      "model_module_version": "1.2.0",
      "model_name": "LayoutModel",
      "state": {}
     },
     "db665b62cd47499bb752f0e3f707805e": {
      "model_module": "@jupyter-widgets/base",
      "model_module_version": "1.2.0",
      "model_name": "LayoutModel",
      "state": {}
     },
     "dbc258d1c3674da49f9396bf59576eae": {
      "model_module": "@jupyter-widgets/base",
      "model_module_version": "1.2.0",
      "model_name": "LayoutModel",
      "state": {}
     },
     "df33ce8e785947228d6dab8f00f962e1": {
      "model_module": "jupyter-matplotlib",
      "model_module_version": "^0.9.0",
      "model_name": "ToolbarModel",
      "state": {
       "layout": "IPY_MODEL_faaa66de948b4dddb20e3709baa1bc64",
       "toolitems": [
        [
         "Home",
         "Reset original view",
         "home",
         "home"
        ],
        [
         "Back",
         "Back to previous view",
         "arrow-left",
         "back"
        ],
        [
         "Forward",
         "Forward to next view",
         "arrow-right",
         "forward"
        ],
        [
         "Pan",
         "Left button pans, Right button zooms\nx/y fixes axis, CTRL fixes aspect",
         "arrows",
         "pan"
        ],
        [
         "Zoom",
         "Zoom to rectangle\nx/y fixes axis, CTRL fixes aspect",
         "square-o",
         "zoom"
        ],
        [
         "Download",
         "Download plot",
         "floppy-o",
         "save_figure"
        ]
       ]
      }
     },
     "e097ecdc2f124f7fb9e72fe25a0fe335": {
      "model_module": "@jupyter-widgets/base",
      "model_module_version": "1.2.0",
      "model_name": "LayoutModel",
      "state": {}
     },
     "e22c1da0fb4542268dd38be350e65a64": {
      "model_module": "jupyter-matplotlib",
      "model_module_version": "^0.9.0",
      "model_name": "ToolbarModel",
      "state": {
       "layout": "IPY_MODEL_7979b888c31145128715b4fedeaf2ba3",
       "toolitems": [
        [
         "Home",
         "Reset original view",
         "home",
         "home"
        ],
        [
         "Back",
         "Back to previous view",
         "arrow-left",
         "back"
        ],
        [
         "Forward",
         "Forward to next view",
         "arrow-right",
         "forward"
        ],
        [
         "Pan",
         "Left button pans, Right button zooms\nx/y fixes axis, CTRL fixes aspect",
         "arrows",
         "pan"
        ],
        [
         "Zoom",
         "Zoom to rectangle\nx/y fixes axis, CTRL fixes aspect",
         "square-o",
         "zoom"
        ],
        [
         "Download",
         "Download plot",
         "floppy-o",
         "save_figure"
        ]
       ]
      }
     },
     "e2ed79b6f1ad47f7b0478dcc21613b7d": {
      "model_module": "@jupyter-widgets/base",
      "model_module_version": "1.2.0",
      "model_name": "LayoutModel",
      "state": {}
     },
     "e38c6ab73d34436995cf0565420536e2": {
      "model_module": "@jupyter-widgets/base",
      "model_module_version": "1.2.0",
      "model_name": "LayoutModel",
      "state": {}
     },
     "e59279e335e74b1398bde08304b40584": {
      "model_module": "@jupyter-widgets/base",
      "model_module_version": "1.2.0",
      "model_name": "LayoutModel",
      "state": {}
     },
     "e73822b78b114ad9ad8a71a22ce37df5": {
      "model_module": "@jupyter-widgets/base",
      "model_module_version": "1.2.0",
      "model_name": "LayoutModel",
      "state": {}
     },
     "e7a94f5fb6fe487989536b7d488949a6": {
      "model_module": "@jupyter-widgets/base",
      "model_module_version": "1.2.0",
      "model_name": "LayoutModel",
      "state": {}
     },
     "e88eed40b43e4ad6805ca2c9883c89c1": {
      "model_module": "jupyter-matplotlib",
      "model_module_version": "^0.9.0",
      "model_name": "ToolbarModel",
      "state": {
       "_current_action": "zoom",
       "layout": "IPY_MODEL_b43ac9df4f684a52a77c265c27b93604",
       "toolitems": [
        [
         "Home",
         "Reset original view",
         "home",
         "home"
        ],
        [
         "Back",
         "Back to previous view",
         "arrow-left",
         "back"
        ],
        [
         "Forward",
         "Forward to next view",
         "arrow-right",
         "forward"
        ],
        [
         "Pan",
         "Left button pans, Right button zooms\nx/y fixes axis, CTRL fixes aspect",
         "arrows",
         "pan"
        ],
        [
         "Zoom",
         "Zoom to rectangle\nx/y fixes axis, CTRL fixes aspect",
         "square-o",
         "zoom"
        ],
        [
         "Download",
         "Download plot",
         "floppy-o",
         "save_figure"
        ]
       ]
      }
     },
     "ea884a39217249d4aa28a36372473fe3": {
      "model_module": "@jupyter-widgets/base",
      "model_module_version": "1.2.0",
      "model_name": "LayoutModel",
      "state": {}
     },
     "eab33a8f9be94db0a54b86289845b35f": {
      "model_module": "jupyter-matplotlib",
      "model_module_version": "^0.9.0",
      "model_name": "ToolbarModel",
      "state": {
       "layout": "IPY_MODEL_3272976e6eb34a5d834afa11b4f96a8c",
       "toolitems": [
        [
         "Home",
         "Reset original view",
         "home",
         "home"
        ],
        [
         "Back",
         "Back to previous view",
         "arrow-left",
         "back"
        ],
        [
         "Forward",
         "Forward to next view",
         "arrow-right",
         "forward"
        ],
        [
         "Pan",
         "Left button pans, Right button zooms\nx/y fixes axis, CTRL fixes aspect",
         "arrows",
         "pan"
        ],
        [
         "Zoom",
         "Zoom to rectangle\nx/y fixes axis, CTRL fixes aspect",
         "square-o",
         "zoom"
        ],
        [
         "Download",
         "Download plot",
         "floppy-o",
         "save_figure"
        ]
       ]
      }
     },
     "eb11ad77b7fa40e7970bc426be9a549c": {
      "model_module": "@jupyter-widgets/base",
      "model_module_version": "1.2.0",
      "model_name": "LayoutModel",
      "state": {}
     },
     "ec8dc6921a394ff19033454930592693": {
      "model_module": "@jupyter-widgets/base",
      "model_module_version": "1.2.0",
      "model_name": "LayoutModel",
      "state": {}
     },
     "eda8ea79a9d843e9a944ee301a5b45f9": {
      "model_module": "@jupyter-widgets/base",
      "model_module_version": "1.2.0",
      "model_name": "LayoutModel",
      "state": {}
     },
     "edb7772aee9843cda6e2e48fde5c8cb2": {
      "model_module": "jupyter-matplotlib",
      "model_module_version": "^0.9.0",
      "model_name": "MPLCanvasModel",
      "state": {
       "_cursor": "default",
       "_figure_label": "Figure 39",
       "_height": 576,
       "_width": 1152,
       "layout": "IPY_MODEL_4e155759eb8645a3a64d9292d19a67ce",
       "toolbar": "IPY_MODEL_81b9da88ef634def9ed9fbeb3f2563d1",
       "toolbar_position": "left"
      }
     },
     "ef4933de43114e208f34c910c738a2a4": {
      "model_module": "jupyter-matplotlib",
      "model_module_version": "^0.9.0",
      "model_name": "MPLCanvasModel",
      "state": {
       "_cursor": "default",
       "_figure_label": "Figure 9",
       "_height": 288,
       "_width": 432,
       "layout": "IPY_MODEL_aa93940f839941e692e15ea8c21d5e35",
       "toolbar": "IPY_MODEL_3f3367c83c6a4ac0ae8c8cc23cbd9835",
       "toolbar_position": "left"
      }
     },
     "f0235d240f3a4d69bd2949e09bcb660d": {
      "model_module": "@jupyter-widgets/base",
      "model_module_version": "1.2.0",
      "model_name": "LayoutModel",
      "state": {}
     },
     "f35e4eece78d4acdab08653956b7d94e": {
      "model_module": "@jupyter-widgets/base",
      "model_module_version": "1.2.0",
      "model_name": "LayoutModel",
      "state": {}
     },
     "f386514c9b944879b45ed2dfa6c3f303": {
      "model_module": "@jupyter-widgets/base",
      "model_module_version": "1.2.0",
      "model_name": "LayoutModel",
      "state": {}
     },
     "f3be64e4854c4ca1a265c3aa4a1fd849": {
      "model_module": "@jupyter-widgets/base",
      "model_module_version": "1.2.0",
      "model_name": "LayoutModel",
      "state": {}
     },
     "f92e201f457a40819d4ea9f11b273721": {
      "model_module": "jupyter-matplotlib",
      "model_module_version": "^0.9.0",
      "model_name": "MPLCanvasModel",
      "state": {
       "_cursor": "default",
       "_figure_label": "Figure 15",
       "_height": 288,
       "_message": "x=−206.7 y=44.",
       "_width": 432,
       "layout": "IPY_MODEL_7edac610b0e3458292f69a70329ad6d8",
       "toolbar": "IPY_MODEL_c63827b4036a4e4e8389637d38e30dfe",
       "toolbar_position": "left"
      }
     },
     "faaa66de948b4dddb20e3709baa1bc64": {
      "model_module": "@jupyter-widgets/base",
      "model_module_version": "1.2.0",
      "model_name": "LayoutModel",
      "state": {}
     },
     "fac78aee1d9e4c0ba64048331b3750c6": {
      "model_module": "@jupyter-widgets/base",
      "model_module_version": "1.2.0",
      "model_name": "LayoutModel",
      "state": {}
     },
     "fc1c794a01c549e88ccfc71dc83ac305": {
      "model_module": "@jupyter-widgets/base",
      "model_module_version": "1.2.0",
      "model_name": "LayoutModel",
      "state": {}
     },
     "fd80225266d1491d8d3b6bd14d8773ab": {
      "model_module": "jupyter-matplotlib",
      "model_module_version": "^0.9.0",
      "model_name": "MPLCanvasModel",
      "state": {
       "_cursor": "default",
       "_figure_label": "Figure 37",
       "_height": 576,
       "_width": 1152,
       "layout": "IPY_MODEL_5e6a846f7c7c46588bbebfec54d2dc9e",
       "toolbar": "IPY_MODEL_df33ce8e785947228d6dab8f00f962e1",
       "toolbar_position": "left"
      }
     }
    },
    "version_major": 2,
    "version_minor": 0
   }
  }
 },
 "nbformat": 4,
 "nbformat_minor": 5
}
