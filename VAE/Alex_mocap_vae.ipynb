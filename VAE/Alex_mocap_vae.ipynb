{
 "cells": [
  {
   "cell_type": "markdown",
   "metadata": {},
   "source": [
    "# Top of notebook"
   ]
  },
  {
   "cell_type": "code",
   "execution_count": 2,
   "metadata": {},
   "outputs": [],
   "source": [
    "import numpy as np\n",
    "import glob\n",
    "import time\n",
    "import matplotlib.pyplot as plt\n",
    "from matplotlib.animation import FuncAnimation\n",
    "\n",
    "\n",
    "# %matplotlib widget\n",
    "# %matplotlib inline\n",
    "# %matplotlib widget"
   ]
  },
  {
   "cell_type": "markdown",
   "metadata": {},
   "source": [
    "## Loading data and visualizations"
   ]
  },
  {
   "cell_type": "markdown",
   "metadata": {},
   "source": [
    "The cell below loads a few npy files. They each have pose data from the original motinocapture files, however, **they are already\n",
    "egocentered** such that the rat always looks to the right."
   ]
  },
  {
   "cell_type": "code",
   "execution_count": 7,
   "metadata": {},
   "outputs": [],
   "source": [
    "dnames = glob.glob('mocap_clean_eh5/*.npy')\n",
    "egoh5s = []\n",
    "for dname in dnames:\n",
    "    egoh5s.append(np.load(dname, allow_pickle=True))\n",
    "\n",
    "# egoh5s = [eh5.reshape((eh5.shape[0], eh5.shape[1]//3, 3)) for eh5 in egoh5s]"
   ]
  },
  {
   "cell_type": "code",
   "execution_count": 8,
   "metadata": {},
   "outputs": [
    {
     "data": {
      "image/png": "[encoded data removed]",
      "text/plain": [
       "<Figure size 432x288 with 1 Axes>"
      ]
     },
     "metadata": {
      "needs_background": "light"
     },
     "output_type": "display_data"
    }
   ],
   "source": [
    "connections2 = [[5, 4, 6], [4,17,18], [11,12], [0,2,15,17,16,3,1], [13,9,7,18,8,10,14]]\n",
    "\n",
    "fig, ax = plt.subplots()\n",
    "\n",
    "def animfunc(t, skip=1):\n",
    "    ax.clear()\n",
    "    lines = []\n",
    "    for conn in connections2:\n",
    "        conn = [3*i for i in conn]\n",
    "        lines.append(ax.plot(egoh5s[0][t*skip, conn], egoh5s[0][t*skip, [i+1 for i in conn]])[0])\n",
    "    ax.set_title('(%i, %i)'%((t, t*skip)))\n",
    "    return lines,\n",
    "\n",
    "anim = FuncAnimation(fig, animfunc, frames=20, fargs=(1500,), repeat=False)\n",
    "        \n",
    "#anim.event_source.stop()        "
   ]
  },
  {
   "cell_type": "markdown",
   "metadata": {},
   "source": [
    "Let's plot the center of mass of these poses. If they are not very erronous, they should all lie in a clumb near origin. "
   ]
  },
  {
   "cell_type": "code",
   "execution_count": 9,
   "metadata": {},
   "outputs": [
    {
     "ename": "NameError",
     "evalue": "name 'coms' is not defined",
     "output_type": "error",
     "traceback": [
      "\u001b[0;31m---------------------------------------------------------------------------\u001b[0m",
      "\u001b[0;31mNameError\u001b[0m                                 Traceback (most recent call last)",
      "\u001b[0;32m<ipython-input-9-49b95fdc43a0>\u001b[0m in \u001b[0;36m<module>\u001b[0;34m\u001b[0m\n\u001b[0;32m----> 1\u001b[0;31m \u001b[0mnp\u001b[0m\u001b[0;34m.\u001b[0m\u001b[0margwhere\u001b[0m\u001b[0;34m(\u001b[0m\u001b[0mcoms\u001b[0m\u001b[0;34m[\u001b[0m\u001b[0;34m:\u001b[0m\u001b[0;34m,\u001b[0m\u001b[0;36m0\u001b[0m\u001b[0;34m]\u001b[0m\u001b[0;34m)\u001b[0m\u001b[0;34m\u001b[0m\u001b[0;34m\u001b[0m\u001b[0m\n\u001b[0m",
      "\u001b[0;31mNameError\u001b[0m: name 'coms' is not defined"
     ]
    }
   ],
   "source": [
    "np.argwhere(coms[:,0])"
   ]
  },
  {
   "cell_type": "code",
   "execution_count": 10,
   "metadata": {},
   "outputs": [
    {
     "data": {
      "text/plain": [
       "(0.0, 1.0)"
      ]
     },
     "execution_count": 10,
     "metadata": {},
     "output_type": "execute_result"
    }
   ],
   "source": [
    "ax.get_xlim()"
   ]
  },
  {
   "cell_type": "code",
   "execution_count": 11,
   "metadata": {},
   "outputs": [
    {
     "data": {
      "text/plain": [
       "<matplotlib.collections.PathCollection at 0x7ff064de0640>"
      ]
     },
     "execution_count": 11,
     "metadata": {},
     "output_type": "execute_result"
    },
    {
     "data": {
      "image/png": "[encoded data removed]",
      "text/plain": [
       "<Figure size 432x288 with 1 Axes>"
      ]
     },
     "metadata": {
      "needs_background": "light"
     },
     "output_type": "display_data"
    }
   ],
   "source": [
    "alleh5s = np.concatenate(egoh5s, axis=0)\n",
    "alleh5s = alleh5s.reshape((-1, alleh5s.shape[1]//3, 3))\n",
    "coms = np.mean(alleh5s, axis=1)\n",
    "\n",
    "\n",
    "fig, ax = plt.subplots()\n",
    "ax.scatter(coms[:,0], coms[:,1], s=1)"
   ]
  },
  {
   "cell_type": "markdown",
   "metadata": {},
   "source": [
    "Zoom in in the figure above to enclose only the central blob. Then run the cell below to select points that are in the central blob."
   ]
  },
  {
   "cell_type": "code",
   "execution_count": 13,
   "metadata": {},
   "outputs": [
    {
     "data": {
      "image/png": "[encoded data removed]",
      "text/plain": [
       "<Figure size 432x288 with 1 Axes>"
      ]
     },
     "metadata": {
      "needs_background": "light"
     },
     "output_type": "display_data"
    }
   ],
   "source": [
    "xlim, ylim = ax.get_xlim(), ax.get_ylim()\n",
    "\n",
    "inds = np.where((coms[:,0]<xlim[1]) & (coms[:,0]>xlim[0]) & (coms[:,1]<ylim[1]) & (coms[:,1]>ylim[0]))[0]\n",
    "\n",
    "\n",
    "connections2 = [[5, 4, 6], [4,17,18], [11,12], [0,2,15,17,16,3,1], [13,9,7,18,8,10,14]]\n",
    "\n",
    "fig2, ax2 = plt.subplots()\n",
    "\n",
    "def animfunc(t):\n",
    "    ax2.clear()\n",
    "    lines = []\n",
    "    for conn in connections2:        \n",
    "        lines.append(ax2.plot(alleh5s[inds[t], conn, 0], alleh5s[inds[t], conn, 1])[0])\n",
    "    ax2.set_title('(%i/%i, %i)'%((t, len(inds), inds[t])))\n",
    "    ax2.set_xlim([-250, 250])\n",
    "    ax2.set_ylim([-300, 300])\n",
    "    return lines,\n",
    "\n",
    "anim = FuncAnimation(fig2, animfunc, frames=len(inds), repeat=False)\n"
   ]
  },
  {
   "cell_type": "code",
   "execution_count": 14,
   "metadata": {},
   "outputs": [],
   "source": [
    "anim.event_source.stop()"
   ]
  },
  {
   "cell_type": "markdown",
   "metadata": {},
   "source": [
    "So not all poses have a center of mass at origin, so we don't have a very clean pose data to start with. "
   ]
  },
  {
   "cell_type": "code",
   "execution_count": 15,
   "metadata": {},
   "outputs": [],
   "source": [
    "alleh5s_clean = alleh5s[inds]"
   ]
  },
  {
   "cell_type": "markdown",
   "metadata": {},
   "source": [
    "## Training AE model "
   ]
  },
  {
   "cell_type": "markdown",
   "metadata": {},
   "source": [
    "Before moving on to a variationa autoencoder, let's try to train a simple autoencode, and see if it is able to reconstruct poses with sufficiently low error. \n",
    "This also gives opportunity to change different parameters (activation functions, number of units) for the overall network architecture."
   ]
  },
  {
   "cell_type": "code",
   "execution_count": 16,
   "metadata": {},
   "outputs": [
    {
     "data": {
      "text/plain": [
       "1.0"
      ]
     },
     "execution_count": 16,
     "metadata": {},
     "output_type": "execute_result"
    }
   ],
   "source": [
    "alleh5s_clean.shape[0]/alleh5s.shape[0]"
   ]
  },
  {
   "cell_type": "code",
   "execution_count": 17,
   "metadata": {},
   "outputs": [
    {
     "name": "stdout",
     "output_type": "stream",
     "text": [
      "(8240, 57) (4120, 57)\n",
      "-167.06784 174.58513\n"
     ]
    }
   ],
   "source": [
    "trainx = alleh5s_clean[::30].reshape((-1, 57)).astype('float32')\n",
    "valx = alleh5s_clean[15::60].reshape((-1, 57)).astype('float32')\n",
    "print(trainx.shape, valx.shape)\n",
    "print(trainx.min(), trainx.max())"
   ]
  },
  {
   "cell_type": "code",
   "execution_count": 18,
   "metadata": {},
   "outputs": [],
   "source": [
    "import tensorflow as tf\n",
    "import tensorflow.keras as k\n",
    "import os\n",
    "os.environ['CUDA_VISIBLE_DEVICES'] = '3'"
   ]
  },
  {
   "cell_type": "code",
   "execution_count": 19,
   "metadata": {},
   "outputs": [],
   "source": [
    "AE = tf.keras.Sequential([\n",
    "            tf.keras.layers.InputLayer(input_shape=(57,)),\n",
    "            tf.keras.layers.Dense(32, activation='relu'),\n",
    "            tf.keras.layers.Dense(16, activation='relu'),\n",
    "            tf.keras.layers.Dense(8, activation=None),\n",
    "            tf.keras.layers.Dense(16, activation='relu'),\n",
    "            tf.keras.layers.Dense(32, activation='relu'),\n",
    "            tf.keras.layers.Dense(57, activation=None)])\n",
    "\n",
    "AE.compile('adam', 'mse')"
   ]
  },
  {
   "cell_type": "code",
   "execution_count": 20,
   "metadata": {
    "scrolled": true,
    "tags": []
   },
   "outputs": [
    {
     "name": "stdout",
     "output_type": "stream",
     "text": [
      "Epoch 1/50\n",
      "129/129 [==============================] - 2s 5ms/step - loss: 603.0623 - val_loss: 109.3010\n",
      "\n",
      "Epoch 00001: val_loss improved from inf to 109.30099, saving model to MotionCapture_AE.h5\n",
      "Epoch 2/50\n",
      "129/129 [==============================] - 1s 4ms/step - loss: 84.6243 - val_loss: 69.2582\n",
      "\n",
      "Epoch 00002: val_loss improved from 109.30099 to 69.25822, saving model to MotionCapture_AE.h5\n",
      "Epoch 3/50\n",
      "129/129 [==============================] - 1s 5ms/step - loss: 58.0224 - val_loss: 46.4537\n",
      "\n",
      "Epoch 00003: val_loss improved from 69.25822 to 46.45373, saving model to MotionCapture_AE.h5\n",
      "Epoch 4/50\n",
      "129/129 [==============================] - 1s 5ms/step - loss: 37.7033 - val_loss: 29.5164\n",
      "\n",
      "Epoch 00004: val_loss improved from 46.45373 to 29.51638, saving model to MotionCapture_AE.h5\n",
      "Epoch 5/50\n",
      "129/129 [==============================] - 1s 4ms/step - loss: 24.3450 - val_loss: 20.1535\n",
      "\n",
      "Epoch 00005: val_loss improved from 29.51638 to 20.15347, saving model to MotionCapture_AE.h5\n",
      "Epoch 6/50\n",
      "129/129 [==============================] - 1s 5ms/step - loss: 17.9322 - val_loss: 15.8099\n",
      "\n",
      "Epoch 00006: val_loss improved from 20.15347 to 15.80993, saving model to MotionCapture_AE.h5\n",
      "Epoch 7/50\n",
      "129/129 [==============================] - 1s 5ms/step - loss: 15.2093 - val_loss: 14.1892\n",
      "\n",
      "Epoch 00007: val_loss improved from 15.80993 to 14.18924, saving model to MotionCapture_AE.h5\n",
      "Epoch 8/50\n",
      "129/129 [==============================] - 1s 4ms/step - loss: 14.0233 - val_loss: 13.4534\n",
      "\n",
      "Epoch 00008: val_loss improved from 14.18924 to 13.45341, saving model to MotionCapture_AE.h5\n",
      "Epoch 9/50\n",
      "129/129 [==============================] - 1s 5ms/step - loss: 13.2633 - val_loss: 12.9724\n",
      "\n",
      "Epoch 00009: val_loss improved from 13.45341 to 12.97243, saving model to MotionCapture_AE.h5\n",
      "Epoch 10/50\n",
      "129/129 [==============================] - 1s 5ms/step - loss: 12.7108 - val_loss: 12.2157\n",
      "\n",
      "Epoch 00010: val_loss improved from 12.97243 to 12.21565, saving model to MotionCapture_AE.h5\n",
      "Epoch 11/50\n",
      "129/129 [==============================] - 1s 5ms/step - loss: 12.2248 - val_loss: 11.9534\n",
      "\n",
      "Epoch 00011: val_loss improved from 12.21565 to 11.95341, saving model to MotionCapture_AE.h5\n",
      "Epoch 12/50\n",
      "129/129 [==============================] - 1s 5ms/step - loss: 11.7427 - val_loss: 11.4927\n",
      "\n",
      "Epoch 00012: val_loss improved from 11.95341 to 11.49268, saving model to MotionCapture_AE.h5\n",
      "Epoch 13/50\n",
      "129/129 [==============================] - 0s 2ms/step - loss: 11.4186 - val_loss: 11.1449\n",
      "\n",
      "Epoch 00013: val_loss improved from 11.49268 to 11.14493, saving model to MotionCapture_AE.h5\n",
      "Epoch 14/50\n",
      "129/129 [==============================] - 0s 2ms/step - loss: 11.1040 - val_loss: 10.8583\n",
      "\n",
      "Epoch 00014: val_loss improved from 11.14493 to 10.85826, saving model to MotionCapture_AE.h5\n",
      "Epoch 15/50\n",
      "129/129 [==============================] - 0s 2ms/step - loss: 10.8516 - val_loss: 10.6533\n",
      "\n",
      "Epoch 00015: val_loss improved from 10.85826 to 10.65326, saving model to MotionCapture_AE.h5\n",
      "Epoch 16/50\n",
      "129/129 [==============================] - 0s 4ms/step - loss: 10.6686 - val_loss: 10.5117\n",
      "\n",
      "Epoch 00016: val_loss improved from 10.65326 to 10.51169, saving model to MotionCapture_AE.h5\n",
      "Epoch 17/50\n",
      "129/129 [==============================] - 0s 3ms/step - loss: 10.4361 - val_loss: 10.3820\n",
      "\n",
      "Epoch 00017: val_loss improved from 10.51169 to 10.38205, saving model to MotionCapture_AE.h5\n",
      "Epoch 18/50\n",
      "129/129 [==============================] - 0s 2ms/step - loss: 10.2928 - val_loss: 10.4529\n",
      "\n",
      "Epoch 00018: val_loss did not improve from 10.38205\n",
      "Epoch 19/50\n",
      "129/129 [==============================] - 0s 3ms/step - loss: 10.1102 - val_loss: 10.0435\n",
      "\n",
      "Epoch 00019: val_loss improved from 10.38205 to 10.04354, saving model to MotionCapture_AE.h5\n",
      "Epoch 20/50\n",
      "129/129 [==============================] - 0s 2ms/step - loss: 9.8761 - val_loss: 9.8952\n",
      "\n",
      "Epoch 00020: val_loss improved from 10.04354 to 9.89519, saving model to MotionCapture_AE.h5\n",
      "Epoch 21/50\n",
      "129/129 [==============================] - 0s 3ms/step - loss: 9.6556 - val_loss: 9.6561\n",
      "\n",
      "Epoch 00021: val_loss improved from 9.89519 to 9.65609, saving model to MotionCapture_AE.h5\n",
      "Epoch 22/50\n",
      "129/129 [==============================] - 0s 2ms/step - loss: 9.4764 - val_loss: 9.6919\n",
      "\n",
      "Epoch 00022: val_loss did not improve from 9.65609\n",
      "Epoch 23/50\n",
      "129/129 [==============================] - 0s 2ms/step - loss: 9.2861 - val_loss: 9.4784\n",
      "\n",
      "Epoch 00023: val_loss improved from 9.65609 to 9.47843, saving model to MotionCapture_AE.h5\n",
      "Epoch 24/50\n",
      "129/129 [==============================] - 0s 2ms/step - loss: 9.1420 - val_loss: 9.1881\n",
      "\n",
      "Epoch 00024: val_loss improved from 9.47843 to 9.18810, saving model to MotionCapture_AE.h5\n",
      "Epoch 25/50\n",
      "129/129 [==============================] - 0s 2ms/step - loss: 8.9950 - val_loss: 9.0791\n",
      "\n",
      "Epoch 00025: val_loss improved from 9.18810 to 9.07913, saving model to MotionCapture_AE.h5\n",
      "Epoch 26/50\n",
      "129/129 [==============================] - 0s 2ms/step - loss: 8.8950 - val_loss: 9.2712\n",
      "\n",
      "Epoch 00026: val_loss did not improve from 9.07913\n",
      "Epoch 27/50\n",
      "129/129 [==============================] - 0s 2ms/step - loss: 8.7795 - val_loss: 8.8483\n",
      "\n",
      "Epoch 00027: val_loss improved from 9.07913 to 8.84827, saving model to MotionCapture_AE.h5\n",
      "Epoch 28/50\n",
      "129/129 [==============================] - 0s 2ms/step - loss: 8.6566 - val_loss: 8.8128\n",
      "\n",
      "Epoch 00028: val_loss improved from 8.84827 to 8.81280, saving model to MotionCapture_AE.h5\n",
      "Epoch 29/50\n",
      "129/129 [==============================] - 0s 2ms/step - loss: 8.5400 - val_loss: 8.6740\n",
      "\n",
      "Epoch 00029: val_loss improved from 8.81280 to 8.67402, saving model to MotionCapture_AE.h5\n",
      "Epoch 30/50\n",
      "129/129 [==============================] - 0s 3ms/step - loss: 8.4442 - val_loss: 8.5398\n",
      "\n",
      "Epoch 00030: val_loss improved from 8.67402 to 8.53975, saving model to MotionCapture_AE.h5\n",
      "Epoch 31/50\n",
      "129/129 [==============================] - 0s 3ms/step - loss: 8.3398 - val_loss: 8.3957\n",
      "\n",
      "Epoch 00031: val_loss improved from 8.53975 to 8.39571, saving model to MotionCapture_AE.h5\n",
      "Epoch 32/50\n",
      "129/129 [==============================] - 0s 2ms/step - loss: 8.2715 - val_loss: 8.3840\n",
      "\n",
      "Epoch 00032: val_loss improved from 8.39571 to 8.38400, saving model to MotionCapture_AE.h5\n",
      "Epoch 33/50\n",
      "129/129 [==============================] - 0s 3ms/step - loss: 8.1452 - val_loss: 8.2199\n",
      "\n",
      "Epoch 00033: val_loss improved from 8.38400 to 8.21995, saving model to MotionCapture_AE.h5\n",
      "Epoch 34/50\n",
      "129/129 [==============================] - 0s 3ms/step - loss: 8.0862 - val_loss: 8.1221\n",
      "\n",
      "Epoch 00034: val_loss improved from 8.21995 to 8.12215, saving model to MotionCapture_AE.h5\n",
      "Epoch 35/50\n",
      "129/129 [==============================] - 0s 3ms/step - loss: 7.9670 - val_loss: 8.1548\n",
      "\n",
      "Epoch 00035: val_loss did not improve from 8.12215\n",
      "Epoch 36/50\n",
      "129/129 [==============================] - 0s 3ms/step - loss: 7.9196 - val_loss: 8.0774\n",
      "\n",
      "Epoch 00036: val_loss improved from 8.12215 to 8.07737, saving model to MotionCapture_AE.h5\n",
      "Epoch 37/50\n",
      "129/129 [==============================] - 0s 2ms/step - loss: 7.8541 - val_loss: 7.9764\n",
      "\n",
      "Epoch 00037: val_loss improved from 8.07737 to 7.97638, saving model to MotionCapture_AE.h5\n",
      "Epoch 38/50\n",
      "129/129 [==============================] - 0s 2ms/step - loss: 7.8192 - val_loss: 8.1498\n",
      "\n",
      "Epoch 00038: val_loss did not improve from 7.97638\n",
      "Epoch 39/50\n",
      "129/129 [==============================] - 1s 5ms/step - loss: 7.7548 - val_loss: 7.9014\n",
      "\n",
      "Epoch 00039: val_loss improved from 7.97638 to 7.90136, saving model to MotionCapture_AE.h5\n",
      "Epoch 40/50\n",
      "129/129 [==============================] - 1s 5ms/step - loss: 7.7104 - val_loss: 7.9814\n",
      "\n",
      "Epoch 00040: val_loss did not improve from 7.90136\n",
      "Epoch 41/50\n",
      "129/129 [==============================] - 0s 4ms/step - loss: 7.6787 - val_loss: 7.8810\n",
      "\n",
      "Epoch 00041: val_loss improved from 7.90136 to 7.88105, saving model to MotionCapture_AE.h5\n",
      "Epoch 42/50\n",
      "129/129 [==============================] - 1s 5ms/step - loss: 7.6290 - val_loss: 7.7495\n",
      "\n",
      "Epoch 00042: val_loss improved from 7.88105 to 7.74954, saving model to MotionCapture_AE.h5\n",
      "Epoch 43/50\n",
      "129/129 [==============================] - 1s 6ms/step - loss: 7.6184 - val_loss: 7.7787\n",
      "\n",
      "Epoch 00043: val_loss did not improve from 7.74954\n",
      "Epoch 44/50\n",
      "129/129 [==============================] - 1s 5ms/step - loss: 7.5726 - val_loss: 7.7432\n",
      "\n",
      "Epoch 00044: val_loss improved from 7.74954 to 7.74320, saving model to MotionCapture_AE.h5\n",
      "Epoch 45/50\n",
      "129/129 [==============================] - 1s 5ms/step - loss: 7.5270 - val_loss: 7.8670\n",
      "\n",
      "Epoch 00045: val_loss did not improve from 7.74320\n",
      "Epoch 46/50\n",
      "129/129 [==============================] - 1s 5ms/step - loss: 7.5030 - val_loss: 7.7765\n",
      "\n",
      "Epoch 00046: val_loss did not improve from 7.74320\n",
      "Epoch 47/50\n",
      "129/129 [==============================] - 1s 4ms/step - loss: 7.4638 - val_loss: 7.6231\n",
      "\n",
      "Epoch 00047: val_loss improved from 7.74320 to 7.62309, saving model to MotionCapture_AE.h5\n",
      "Epoch 48/50\n",
      "129/129 [==============================] - 1s 5ms/step - loss: 7.4151 - val_loss: 7.6879\n",
      "\n",
      "Epoch 00048: val_loss did not improve from 7.62309\n",
      "Epoch 49/50\n",
      "129/129 [==============================] - 1s 5ms/step - loss: 7.3911 - val_loss: 7.6188\n",
      "\n",
      "Epoch 00049: val_loss improved from 7.62309 to 7.61883, saving model to MotionCapture_AE.h5\n",
      "Epoch 50/50\n",
      "129/129 [==============================] - 1s 5ms/step - loss: 7.3829 - val_loss: 7.6169\n",
      "\n",
      "Epoch 00050: val_loss improved from 7.61883 to 7.61685, saving model to MotionCapture_AE.h5\n"
     ]
    },
    {
     "data": {
      "text/plain": [
       "<tensorflow.python.keras.callbacks.History at 0x7ff03ab7adf0>"
      ]
     },
     "execution_count": 20,
     "metadata": {},
     "output_type": "execute_result"
    }
   ],
   "source": [
    "AE.fit(trainx, trainx, batch_size=64, epochs=50, validation_data=(valx, valx), callbacks = [tf.keras.callbacks.ModelCheckpoint(\n",
    "    'MotionCapture_AE.h5', monitor=\"val_loss\", verbose=1, save_best_only=True)])"
   ]
  },
  {
   "cell_type": "markdown",
   "metadata": {},
   "source": [
    "#all data AE error 70\n",
    "\n",
    "#clean data AE error 22\n",
    "\n",
    "\n",
    "\n",
    "            tf.keras.layers.InputLayer(input_shape=(57,)),\n",
    "            tf.keras.layers.Dense(32, activation='relu'),\n",
    "            tf.keras.layers.Dense(16, activation='relu'),\n",
    "            tf.keras.layers.Dense(8, activation='sigmoid'), #24 with 'tanh' here #16 with None!!!\n",
    "            tf.keras.layers.Dense(16, activation='relu'),\n",
    "            tf.keras.layers.Dense(32, activation='relu'),\n",
    "            tf.keras.layers.Dense(57, activation=None)])\n",
    "\n",
    "\n",
    "\n",
    "#clean data AE error 61\n",
    "\n",
    "\n",
    "\n",
    "            tf.keras.layers.InputLayer(input_shape=(57,)),\n",
    "            tf.keras.layers.Dense(32, activation=None),\n",
    "            tf.keras.layers.Dense(16, activation=None),\n",
    "            tf.keras.layers.Dense(8, activation='tanh'),\n",
    "            tf.keras.layers.Dense(16, activation=None),\n",
    "            tf.keras.layers.Dense(32, activation=None),\n",
    "            tf.keras.layers.Dense(57, activation=None)])\n",
    "\n",
    "\n",
    "\n",
    "#clean data AE error 41 with wonky activations - \n",
    "\n",
    "\n",
    "\n",
    "            tf.keras.layers.InputLayer(input_shape=(57,)),\n",
    "            tf.keras.layers.Dense(32, activation='sigmoid'),\n",
    "            tf.keras.layers.Dense(16, activation='relu'),\n",
    "            tf.keras.layers.Dense(8, activation='tanh'),\n",
    "            tf.keras.layers.Dense(16, activation='relu'),\n",
    "            tf.keras.layers.Dense(32, activation='sigmoid'),\n",
    "            tf.keras.layers.Dense(57, activation=None)])\n",
    "\n",
    "\n",
    "\n",
    "#clean data AE error 38 with wonky activations - \n",
    "\n",
    "\n",
    "\n",
    "            tf.keras.layers.InputLayer(input_shape=(57,)),\n",
    "            tf.keras.layers.Dense(32, activation='tanh'),\n",
    "            tf.keras.layers.Dense(16, activation='relu'),\n",
    "            tf.keras.layers.Dense(8, activation='sigmoid'),\n",
    "            tf.keras.layers.Dense(16, activation='tanh'),\n",
    "            tf.keras.layers.Dense(32, activation='relu'),\n",
    "            tf.keras.layers.Dense(57, activation=None)])\n",
    "\n",
    "\n",
    "\n",
    "#clean data AE error 66 with  - \n",
    "\n",
    "\n",
    "\n",
    "            tf.keras.layers.InputLayer(input_shape=(57,)),\n",
    "            tf.keras.layers.Dense(32, activation='sigmoid'),\n",
    "            tf.keras.layers.Dense(16, activation='sigmoid'),\n",
    "            tf.keras.layers.Dense(8, activation='sigmoid'),\n",
    "            tf.keras.layers.Dense(16, activation='sigmoid'),\n",
    "            tf.keras.layers.Dense(32, activation='sigmoid'),\n",
    "            tf.keras.layers.Dense(57, activation=None)])\n"
   ]
  },
  {
   "cell_type": "code",
   "execution_count": 21,
   "metadata": {},
   "outputs": [
    {
     "name": "stdout",
     "output_type": "stream",
     "text": [
      "129/129 [==============================] - 0s 2ms/step\n"
     ]
    }
   ],
   "source": [
    "valx_pred = AE.predict(valx, verbose=1)"
   ]
  },
  {
   "cell_type": "code",
   "execution_count": 23,
   "metadata": {},
   "outputs": [
    {
     "data": {
      "image/png": "[encoded data removed]",
      "text/plain": [
       "<Figure size 432x288 with 1 Axes>"
      ]
     },
     "metadata": {
      "needs_background": "light"
     },
     "output_type": "display_data"
    }
   ],
   "source": [
    "connections2 = [[5, 4, 6], [4,17,18], [11,12], [0,2,15,17,16,3,1], [13,9,7,18,8,10,14]]\n",
    "\n",
    "fig, ax = plt.subplots()\n",
    "\n",
    "def animfunc(t, skip=1):\n",
    "    ax.clear()\n",
    "    lines = []\n",
    "    for conn in connections2:\n",
    "        conn = [3*i for i in conn]\n",
    "        lines.append(ax.plot(valx[t*skip, conn], valx[t*skip, [i+1 for i in conn]], color='royalblue')[0])\n",
    "        lines.append(ax.plot(valx_pred[t*skip, conn], valx_pred[t*skip, [i+1 for i in conn]], color='firebrick')[0])\n",
    "    ax.set_title('(%i, %i)'%((t, t*skip)))\n",
    "    return lines,\n",
    "\n",
    "anim = FuncAnimation(fig, animfunc, frames=50, fargs=(1000,), repeat=False)\n",
    "        \n",
    "#anim.event_source.stop()        "
   ]
  },
  {
   "cell_type": "markdown",
   "metadata": {},
   "source": [
    "Seems like the errors in the validation set are very close to less than 3px. That is great, \n",
    "especially since we did not normalize our data in any way. "
   ]
  },
  {
   "cell_type": "code",
   "execution_count": 24,
   "metadata": {},
   "outputs": [
    {
     "data": {
      "text/plain": [
       "array([1.7889936, 1.5754648, 1.9673542], dtype=float32)"
      ]
     },
     "execution_count": 24,
     "metadata": {},
     "output_type": "execute_result"
    }
   ],
   "source": [
    "errors = np.abs(valx_pred-valx).reshape((-1, 19, 3))\n",
    "np.mean(errors, axis=(0,1))"
   ]
  },
  {
   "cell_type": "markdown",
   "metadata": {},
   "source": [
    "We can get the latent layer values by defining a new model with output from layer 2 of our autoencoder"
   ]
  },
  {
   "cell_type": "code",
   "execution_count": 25,
   "metadata": {},
   "outputs": [
    {
     "data": {
      "text/plain": [
       "[<tensorflow.python.keras.layers.core.Dense at 0x7ff0396e9910>,\n",
       " <tensorflow.python.keras.layers.core.Dense at 0x7ff0396e9c70>,\n",
       " <tensorflow.python.keras.layers.core.Dense at 0x7ff0396e9fa0>,\n",
       " <tensorflow.python.keras.layers.core.Dense at 0x7ff03976c280>,\n",
       " <tensorflow.python.keras.layers.core.Dense at 0x7ff03976c580>,\n",
       " <tensorflow.python.keras.layers.core.Dense at 0x7ff03976c880>]"
      ]
     },
     "execution_count": 25,
     "metadata": {},
     "output_type": "execute_result"
    }
   ],
   "source": [
    "AE.layers"
   ]
  },
  {
   "cell_type": "code",
   "execution_count": 26,
   "metadata": {},
   "outputs": [],
   "source": [
    "AE2 = k.models.Model(inputs=AE.input, outputs=AE.layers[2].output)"
   ]
  },
  {
   "cell_type": "code",
   "execution_count": 27,
   "metadata": {},
   "outputs": [
    {
     "data": {
      "text/plain": [
       "[True, True, True, True, True, True]"
      ]
     },
     "execution_count": 27,
     "metadata": {},
     "output_type": "execute_result"
    }
   ],
   "source": [
    "#check if the weights are same \n",
    "[np.all(w1==w2) for w1,w2 in zip(AE.get_weights(),AE2.get_weights())]"
   ]
  },
  {
   "cell_type": "code",
   "execution_count": 28,
   "metadata": {},
   "outputs": [
    {
     "name": "stdout",
     "output_type": "stream",
     "text": [
      "7725/7725 [==============================] - 15s 2ms/step\n"
     ]
    },
    {
     "data": {
      "text/plain": [
       "(247197, 8)"
      ]
     },
     "execution_count": 28,
     "metadata": {},
     "output_type": "execute_result"
    }
   ],
   "source": [
    "alleh5s_clean_ae = AE2.predict(alleh5s_clean.reshape((-1, 57)).astype('float32'), verbose=1)\n",
    "alleh5s_clean_ae.shape"
   ]
  },
  {
   "cell_type": "markdown",
   "metadata": {},
   "source": [
    "## Training a VAE Model\n",
    "\n",
    "Now that we have some idea of what network architecture works for our data, we can try to add the variational inference \n",
    "inside the network. "
   ]
  },
  {
   "cell_type": "code",
   "execution_count": 29,
   "metadata": {},
   "outputs": [],
   "source": [
    "class Sampling(k.layers.Layer):\n",
    "    \"\"\"Uses (z_mean, z_log_var) to sample z, the vector encoding a digit.\"\"\"\n",
    "    def call(self, inputs):\n",
    "        z_mean, z_log_var = inputs\n",
    "        batch = tf.shape(z_mean)[0]\n",
    "        dim = tf.shape(z_mean)[1]\n",
    "        epsilon = tf.keras.backend.random_normal(shape=(batch, dim))\n",
    "        return z_mean + tf.exp(0.5 * z_log_var) * epsilon"
   ]
  },
  {
   "cell_type": "code",
   "execution_count": 30,
   "metadata": {},
   "outputs": [],
   "source": [
    "class VAEModel(k.Model):\n",
    "    def __init__(self, latent_dim=8, **kwargs):\n",
    "        super(VAEModel, self).__init__(**kwargs)\n",
    "        self.latent_dim = latent_dim\n",
    "        self.encoder = self.create_encoder()\n",
    "        self.decoder = self.create_decoder()\n",
    "        self.total_loss_tracker = k.metrics.Mean(name=\"total_loss\")\n",
    "        self.reconstruction_loss_tracker = k.metrics.Mean(name=\"reconstruction_loss\")\n",
    "        self.kl_loss_tracker = k.metrics.Mean(name=\"kl_loss\")\n",
    "\n",
    "    def create_encoder(self):\n",
    "        encoder_input = tf.keras.Sequential([\n",
    "                    tf.keras.layers.InputLayer(input_shape=(57,)),\n",
    "                    tf.keras.layers.Dense(32, activation='relu'),\n",
    "                   tf.keras.layers.Dense(16, activation='relu'),])\n",
    "\n",
    "        z_mean = k.layers.Dense(self.latent_dim, name=\"z_mean\", activation='tanh')(encoder_input.output)\n",
    "        z_log_var = k.layers.Dense(self.latent_dim, name=\"z_log_var\", activation='tanh')(encoder_input.output)\n",
    "\n",
    "        z = Sampling()([z_mean, z_log_var])\n",
    "        encoder = k.Model(encoder_input.input, [z_mean, z_log_var, z], name=\"encoder\")        \n",
    "        return encoder\n",
    "    \n",
    "    def create_decoder(self):\n",
    "        decoder = tf.keras.Sequential([\n",
    "            tf.keras.layers.InputLayer(input_shape=(self.latent_dim,)),\n",
    "           tf.keras.layers.Dense(16, activation='relu'),\n",
    "            tf.keras.layers.Dense(32, activation='relu'),\n",
    "            tf.keras.layers.Dense(57)])\n",
    "        return decoder\n",
    "\n",
    "    @property\n",
    "    def metrics(self):\n",
    "        return [\n",
    "            self.total_loss_tracker,\n",
    "            self.reconstruction_loss_tracker,\n",
    "            self.kl_loss_tracker,\n",
    "        ]\n",
    "\n",
    "    def train_step(self, data):\n",
    "        with tf.GradientTape() as tape:\n",
    "            z_mean, z_log_var, z = self.encoder(data)\n",
    "            reconstruction = self.decoder(z)\n",
    "            reconstruction_loss = tf.reduce_mean(\n",
    "                    k.losses.mean_squared_error(data, reconstruction))\n",
    "            kl_loss = -0.5 * (1 + z_log_var - tf.square(z_mean) - tf.exp(z_log_var))\n",
    "            kl_loss = tf.reduce_mean(kl_loss)\n",
    "            total_loss = reconstruction_loss + kl_loss\n",
    "        grads = tape.gradient(total_loss, self.trainable_weights)\n",
    "        self.optimizer.apply_gradients(zip(grads, self.trainable_weights))\n",
    "        self.total_loss_tracker.update_state(total_loss)\n",
    "        self.reconstruction_loss_tracker.update_state(reconstruction_loss)\n",
    "        self.kl_loss_tracker.update_state(kl_loss)\n",
    "        return {\n",
    "            \"loss\": self.total_loss_tracker.result(),\n",
    "            \"reconstruction_loss\": self.reconstruction_loss_tracker.result(),\n",
    "            \"kl_loss\": self.kl_loss_tracker.result(),\n",
    "        }\n",
    "\n",
    "    def call(self, data):\n",
    "        z_mean, z_log_var, z = self.encoder(data)\n",
    "        reconstruction = self.decoder(z)\n",
    "        return reconstruction"
   ]
  },
  {
   "cell_type": "code",
   "execution_count": 31,
   "metadata": {},
   "outputs": [
    {
     "data": {
      "image/png": "[encoded data removed]",
      "text/plain": [
       "<Figure size 1152x576 with 2 Axes>"
      ]
     },
     "metadata": {
      "needs_background": "light"
     },
     "output_type": "display_data"
    }
   ],
   "source": [
    "figloss, axloss = plt.subplots(figsize=(16, 8))\n",
    "axloss2 = axloss.twinx()\n",
    "\n",
    "class LossPlot(k.callbacks.Callback):\n",
    "    def __init__(self):\n",
    "        self.losses = [0,0,0]\n",
    "        \n",
    "    def on_epoch_end(self, epoch, logs=None):\n",
    "        keys = list(logs.keys())\n",
    "        self.losses = np.vstack([self.losses, [logs['loss'], logs['reconstruction_loss'], logs['kl_loss']]])\n",
    "        axloss.clear()\n",
    "        axloss.plot(self.losses[1:,0], '-', color='black', label='loss')\n",
    "        axloss.plot(self.losses[1:,1], '-', color='royalblue', label='loss (recon)')\n",
    "        axloss2.plot(self.losses[1:,2], '-', color='firebrick', label='loss (kl)')\n",
    "        figloss.canvas.draw()"
   ]
  },
  {
   "cell_type": "code",
   "execution_count": 32,
   "metadata": {
    "scrolled": true,
    "tags": []
   },
   "outputs": [
    {
     "name": "stdout",
     "output_type": "stream",
     "text": [
      "Epoch 1/50\n",
      "129/129 [==============================] - 1s 3ms/step - loss: 1683.2663 - reconstruction_loss: 1456.9875 - kl_loss: 0.8082\n",
      "Epoch 2/50\n",
      "129/129 [==============================] - 1s 5ms/step - loss: 627.0160 - reconstruction_loss: 543.0972 - kl_loss: 0.8009\n",
      "Epoch 3/50\n",
      "129/129 [==============================] - 1s 5ms/step - loss: 417.7366 - reconstruction_loss: 410.5760 - kl_loss: 0.7715\n",
      "Epoch 4/50\n",
      "129/129 [==============================] - 1s 5ms/step - loss: 392.8343 - reconstruction_loss: 390.9403 - kl_loss: 0.7715\n",
      "Epoch 5/50\n",
      "129/129 [==============================] - 1s 4ms/step - loss: 381.5882 - reconstruction_loss: 382.3748 - kl_loss: 0.7715\n",
      "Epoch 6/50\n",
      "129/129 [==============================] - 1s 4ms/step - loss: 379.2711 - reconstruction_loss: 378.1516 - kl_loss: 0.7715\n",
      "Epoch 7/50\n",
      "129/129 [==============================] - 0s 4ms/step - loss: 376.7365 - reconstruction_loss: 373.1167 - kl_loss: 0.7715\n",
      "Epoch 8/50\n",
      "129/129 [==============================] - 1s 4ms/step - loss: 371.9042 - reconstruction_loss: 367.6976 - kl_loss: 0.7715\n",
      "Epoch 9/50\n",
      "129/129 [==============================] - 1s 4ms/step - loss: 363.7164 - reconstruction_loss: 363.2453 - kl_loss: 0.7714\n",
      "Epoch 10/50\n",
      "129/129 [==============================] - 0s 4ms/step - loss: 361.5076 - reconstruction_loss: 358.1409 - kl_loss: 0.7714\n",
      "Epoch 11/50\n",
      "129/129 [==============================] - 0s 3ms/step - loss: 355.9498 - reconstruction_loss: 353.2181 - kl_loss: 0.7705\n",
      "Epoch 12/50\n",
      "129/129 [==============================] - 0s 3ms/step - loss: 348.0631 - reconstruction_loss: 346.9528 - kl_loss: 0.7596\n",
      "Epoch 13/50\n",
      "129/129 [==============================] - 0s 4ms/step - loss: 340.3024 - reconstruction_loss: 340.3723 - kl_loss: 0.7491\n",
      "Epoch 14/50\n",
      "129/129 [==============================] - 1s 4ms/step - loss: 335.0236 - reconstruction_loss: 329.0652 - kl_loss: 0.7484\n",
      "Epoch 15/50\n",
      "129/129 [==============================] - 1s 4ms/step - loss: 294.8142 - reconstruction_loss: 268.2372 - kl_loss: 0.7484\n",
      "Epoch 16/50\n",
      "129/129 [==============================] - 0s 3ms/step - loss: 189.3094 - reconstruction_loss: 174.7604 - kl_loss: 0.7489\n",
      "Epoch 17/50\n",
      "129/129 [==============================] - 1s 4ms/step - loss: 159.4707 - reconstruction_loss: 155.9345 - kl_loss: 0.7478\n",
      "Epoch 18/50\n",
      "129/129 [==============================] - 0s 3ms/step - loss: 152.5922 - reconstruction_loss: 152.2075 - kl_loss: 0.7371\n",
      "Epoch 19/50\n",
      "129/129 [==============================] - 0s 3ms/step - loss: 149.4736 - reconstruction_loss: 150.4282 - kl_loss: 0.7363\n",
      "Epoch 20/50\n",
      "129/129 [==============================] - 0s 3ms/step - loss: 150.1044 - reconstruction_loss: 148.4439 - kl_loss: 0.7360\n",
      "Epoch 21/50\n",
      "129/129 [==============================] - 1s 4ms/step - loss: 152.7367 - reconstruction_loss: 147.8001 - kl_loss: 0.7380\n",
      "Epoch 22/50\n",
      "129/129 [==============================] - 0s 4ms/step - loss: 149.5568 - reconstruction_loss: 148.5567 - kl_loss: 0.7390\n",
      "Epoch 23/50\n",
      "129/129 [==============================] - 0s 3ms/step - loss: 147.3828 - reconstruction_loss: 146.6631 - kl_loss: 0.7407\n",
      "Epoch 24/50\n",
      "129/129 [==============================] - 0s 3ms/step - loss: 145.4723 - reconstruction_loss: 146.1529 - kl_loss: 0.7408\n",
      "Epoch 25/50\n",
      "129/129 [==============================] - 0s 3ms/step - loss: 147.6053 - reconstruction_loss: 143.7693 - kl_loss: 0.7400\n",
      "Epoch 26/50\n",
      "129/129 [==============================] - 0s 3ms/step - loss: 143.1180 - reconstruction_loss: 144.1965 - kl_loss: 0.7401\n",
      "Epoch 27/50\n",
      "129/129 [==============================] - 0s 3ms/step - loss: 143.6481 - reconstruction_loss: 142.0638 - kl_loss: 0.7404\n",
      "Epoch 28/50\n",
      "129/129 [==============================] - 0s 2ms/step - loss: 142.3394 - reconstruction_loss: 141.5131 - kl_loss: 0.7403\n",
      "Epoch 29/50\n",
      "129/129 [==============================] - 0s 3ms/step - loss: 142.8129 - reconstruction_loss: 139.7909 - kl_loss: 0.7404\n",
      "Epoch 30/50\n",
      "129/129 [==============================] - 0s 3ms/step - loss: 139.2976 - reconstruction_loss: 139.5273 - kl_loss: 0.7414\n",
      "Epoch 31/50\n",
      "129/129 [==============================] - 0s 4ms/step - loss: 139.8765 - reconstruction_loss: 138.5699 - kl_loss: 0.7406\n",
      "Epoch 32/50\n",
      "129/129 [==============================] - 0s 3ms/step - loss: 141.9487 - reconstruction_loss: 139.7881 - kl_loss: 0.7375\n",
      "Epoch 33/50\n",
      "129/129 [==============================] - 0s 3ms/step - loss: 137.0645 - reconstruction_loss: 138.3332 - kl_loss: 0.7368\n",
      "Epoch 34/50\n",
      "129/129 [==============================] - 0s 2ms/step - loss: 135.4110 - reconstruction_loss: 137.1706 - kl_loss: 0.7398\n",
      "Epoch 35/50\n",
      "129/129 [==============================] - 0s 1ms/step - loss: 138.9307 - reconstruction_loss: 136.6960 - kl_loss: 0.7395\n",
      "Epoch 36/50\n",
      "129/129 [==============================] - 0s 2ms/step - loss: 132.8962 - reconstruction_loss: 135.8416 - kl_loss: 0.7388\n",
      "Epoch 37/50\n",
      "129/129 [==============================] - 0s 3ms/step - loss: 133.9100 - reconstruction_loss: 135.3579 - kl_loss: 0.7388\n",
      "Epoch 38/50\n",
      "129/129 [==============================] - 1s 5ms/step - loss: 137.8356 - reconstruction_loss: 135.0289 - kl_loss: 0.7399\n",
      "Epoch 39/50\n",
      "129/129 [==============================] - 0s 3ms/step - loss: 134.6667 - reconstruction_loss: 133.7746 - kl_loss: 0.7400\n",
      "Epoch 40/50\n",
      "129/129 [==============================] - 0s 3ms/step - loss: 134.0538 - reconstruction_loss: 132.4216 - kl_loss: 0.7402\n",
      "Epoch 41/50\n",
      "129/129 [==============================] - 0s 2ms/step - loss: 132.9843 - reconstruction_loss: 131.5816 - kl_loss: 0.7397\n",
      "Epoch 42/50\n",
      "129/129 [==============================] - 0s 3ms/step - loss: 136.3279 - reconstruction_loss: 135.6303 - kl_loss: 0.7396\n",
      "Epoch 43/50\n",
      "129/129 [==============================] - 0s 3ms/step - loss: 134.2862 - reconstruction_loss: 132.7340 - kl_loss: 0.7357\n",
      "Epoch 44/50\n",
      "129/129 [==============================] - 0s 3ms/step - loss: 128.2704 - reconstruction_loss: 125.3835 - kl_loss: 0.7353\n",
      "Epoch 45/50\n",
      "129/129 [==============================] - 0s 3ms/step - loss: 124.8367 - reconstruction_loss: 123.8935 - kl_loss: 0.7341\n",
      "Epoch 46/50\n",
      "129/129 [==============================] - 0s 3ms/step - loss: 123.9476 - reconstruction_loss: 122.7005 - kl_loss: 0.7339\n",
      "Epoch 47/50\n",
      "129/129 [==============================] - 0s 3ms/step - loss: 123.0648 - reconstruction_loss: 120.8298 - kl_loss: 0.7337\n",
      "Epoch 48/50\n",
      "129/129 [==============================] - 0s 3ms/step - loss: 120.6323 - reconstruction_loss: 118.5301 - kl_loss: 0.7292\n",
      "Epoch 49/50\n",
      "129/129 [==============================] - 0s 2ms/step - loss: 114.2508 - reconstruction_loss: 114.9978 - kl_loss: 0.7262\n",
      "Epoch 50/50\n",
      "129/129 [==============================] - 0s 2ms/step - loss: 111.8947 - reconstruction_loss: 113.1746 - kl_loss: 0.7260\n"
     ]
    },
    {
     "data": {
      "text/plain": [
       "<tensorflow.python.keras.callbacks.History at 0x7ff03fb66970>"
      ]
     },
     "execution_count": 32,
     "metadata": {},
     "output_type": "execute_result"
    }
   ],
   "source": [
    "vae = VAEModel(latent_dim=8)\n",
    "vae.compile(optimizer=k.optimizers.Adam(learning_rate=0.001))\n",
    "vae.fit(trainx, epochs=50, batch_size=64, workers=1, callbacks=LossPlot())"
   ]
  },
  {
   "cell_type": "code",
   "execution_count": 33,
   "metadata": {},
   "outputs": [
    {
     "name": "stdout",
     "output_type": "stream",
     "text": [
      "129/129 [==============================] - 0s 2ms/step\n"
     ]
    }
   ],
   "source": [
    "valx_pred_vae = vae.predict(valx, verbose=1)"
   ]
  },
  {
   "cell_type": "code",
   "execution_count": 35,
   "metadata": {},
   "outputs": [
    {
     "data": {
      "image/png": "[encoded data removed]",
      "text/plain": [
       "<Figure size 432x288 with 1 Axes>"
      ]
     },
     "metadata": {
      "needs_background": "light"
     },
     "output_type": "display_data"
    }
   ],
   "source": [
    "connections2 = [[5, 4, 6], [4,17,18], [11,12], [0,2,15,17,16,3,1], [13,9,7,18,8,10,14]]\n",
    "\n",
    "fig, ax = plt.subplots()\n",
    "\n",
    "def animfunc(t, skip=1):\n",
    "    ax.clear()\n",
    "    lines = []\n",
    "    for conn in connections2:\n",
    "        conn = [3*i for i in conn]\n",
    "        lines.append(ax.plot(valx[t*skip, conn], valx[t*skip, [i+1 for i in conn]], color='royalblue')[0])\n",
    "        lines.append(ax.plot(valx_pred_vae[t*skip, conn], valx_pred_vae[t*skip, [i+1 for i in conn]], color='firebrick')[0])\n",
    "    ax.set_title('(%i, %i)'%((t, t*skip)))\n",
    "    return lines,\n",
    "\n",
    "anim = FuncAnimation(fig, animfunc, frames=50, fargs=(1000,), repeat=False)\n",
    "        \n",
    "#anim.event_source.stop()        "
   ]
  },
  {
   "cell_type": "markdown",
   "metadata": {},
   "source": [
    "Seems like the errors in the validation set are around 7px (they were 3px w/ AE)"
   ]
  },
  {
   "cell_type": "code",
   "execution_count": 36,
   "metadata": {},
   "outputs": [
    {
     "data": {
      "text/plain": [
       "array([7.8969455, 6.980976 , 7.304529 ], dtype=float32)"
      ]
     },
     "execution_count": 36,
     "metadata": {},
     "output_type": "execute_result"
    }
   ],
   "source": [
    "errors = np.abs(valx_pred_vae-valx).reshape((-1, 19, 3))\n",
    "np.mean(errors, axis=(0,1))"
   ]
  },
  {
   "cell_type": "markdown",
   "metadata": {},
   "source": [
    "The latent layer values can be obtained using the VAE 'encoder' sub-model. "
   ]
  },
  {
   "cell_type": "code",
   "execution_count": 37,
   "metadata": {},
   "outputs": [
    {
     "name": "stdout",
     "output_type": "stream",
     "text": [
      "7725/7725 [==============================] - 13s 2ms/step\n"
     ]
    }
   ],
   "source": [
    "z_mean, z_log_var, z = vae.encoder.predict(alleh5s_clean.reshape((-1, 57)), verbose=1)"
   ]
  },
  {
   "cell_type": "code",
   "execution_count": 38,
   "metadata": {},
   "outputs": [
    {
     "name": "stdout",
     "output_type": "stream",
     "text": [
      "(247197, 8) (247197, 8) (247197, 8)\n"
     ]
    }
   ],
   "source": [
    "print(z_mean.shape, z_log_var.shape, z.shape)"
   ]
  },
  {
   "cell_type": "code",
   "execution_count": null,
   "metadata": {},
   "outputs": [],
   "source": []
  }
 ],
 "metadata": {
  "interpreter": {
   "hash": "8de543a527d38bc21d309dfa8a60aed366b41867ed03b1c23b526625b89003b8"
  },
  "kernelspec": {
   "display_name": "Python 3.8.5 64-bit ('base': conda)",
   "name": "python3"
  },
  "language_info": {
   "codemirror_mode": {
    "name": "ipython",
    "version": 3
   },
   "file_extension": ".py",
   "mimetype": "text/x-python",
   "name": "python",
   "nbconvert_exporter": "python",
   "pygments_lexer": "ipython3",
   "version": "3.8.5"
  },
  "widgets": {
   "application/vnd.jupyter.widget-state+json": {
    "state": {
     "00bbf1c019ca42609bac652c8f97cd60": {
      "model_module": "jupyter-matplotlib",
      "model_module_version": "^0.9.0",
      "model_name": "MPLCanvasModel",
      "state": {
       "_cursor": "default",
       "_figure_label": "Figure 28",
       "_height": 360,
       "_width": 864,
       "layout": "IPY_MODEL_6707f1d85e2a465898e14b78896410bc",
       "toolbar": "IPY_MODEL_95ca2244a1b74449af753307a2aca747",
       "toolbar_position": "left"
      }
     },
     "00d95c317dc44e12a46830c8ef6bfb0c": {
      "model_module": "jupyter-matplotlib",
      "model_module_version": "^0.9.0",
      "model_name": "MPLCanvasModel",
      "state": {
       "_cursor": "default",
       "_figure_label": "Figure 27",
       "_height": 360,
       "_width": 864,
       "layout": "IPY_MODEL_e097ecdc2f124f7fb9e72fe25a0fe335",
       "toolbar": "IPY_MODEL_6793b12e78d64e3a9c67da8b190eb005",
       "toolbar_position": "left"
      }
     },
     "012f2d62823943339ec0f78305bb741e": {
      "model_module": "jupyter-matplotlib",
      "model_module_version": "^0.9.0",
      "model_name": "MPLCanvasModel",
      "state": {
       "_cursor": "default",
       "_figure_label": "Figure 23",
       "_height": 576,
       "_width": 864,
       "layout": "IPY_MODEL_f35e4eece78d4acdab08653956b7d94e",
       "toolbar": "IPY_MODEL_43068f96e6524570be1f03edb750f9c2",
       "toolbar_position": "left"
      }
     },
     "028b51637e114cde9e10cc4dac82d0b8": {
      "model_module": "@jupyter-widgets/base",
      "model_module_version": "1.2.0",
      "model_name": "LayoutModel",
      "state": {}
     },
     "047998e74baf43d7b15c076be50d7a3d": {
      "model_module": "jupyter-matplotlib",
      "model_module_version": "^0.9.0",
      "model_name": "ToolbarModel",
      "state": {
       "layout": "IPY_MODEL_d8fc6dcc0f7c406f887dcb7f86f6d0e7",
       "toolitems": [
        [
         "Home",
         "Reset original view",
         "home",
         "home"
        ],
        [
         "Back",
         "Back to previous view",
         "arrow-left",
         "back"
        ],
        [
         "Forward",
         "Forward to next view",
         "arrow-right",
         "forward"
        ],
        [
         "Pan",
         "Left button pans, Right button zooms\nx/y fixes axis, CTRL fixes aspect",
         "arrows",
         "pan"
        ],
        [
         "Zoom",
         "Zoom to rectangle\nx/y fixes axis, CTRL fixes aspect",
         "square-o",
         "zoom"
        ],
        [
         "Download",
         "Download plot",
         "floppy-o",
         "save_figure"
        ]
       ]
      }
     },
     "04adf30c07564078a833b77faeb2d6d1": {
      "model_module": "jupyter-matplotlib",
      "model_module_version": "^0.9.0",
      "model_name": "MPLCanvasModel",
      "state": {
       "_cursor": "default",
       "_figure_label": "Figure 30",
       "_height": 360,
       "_width": 864,
       "layout": "IPY_MODEL_3c8a5ae87f204c548fdc715a84c5d310",
       "toolbar": "IPY_MODEL_d20fce5322724c7e8e058e639e934821",
       "toolbar_position": "left"
      }
     },
     "093fbacb462b43d2a09705537dd61d2c": {
      "model_module": "jupyter-matplotlib",
      "model_module_version": "^0.9.0",
      "model_name": "MPLCanvasModel",
      "state": {
       "_cursor": "default",
       "_figure_label": "Figure 35",
       "_height": 720,
       "_width": 1152,
       "layout": "IPY_MODEL_327b6e6819524b49bf54336fa620ca3f",
       "toolbar": "IPY_MODEL_9b864356a3574131a2716d0626c670dc",
       "toolbar_position": "left"
      }
     },
     "0a4c09debcbb4bba90b8ccc92c0d15d4": {
      "model_module": "jupyter-matplotlib",
      "model_module_version": "^0.9.0",
      "model_name": "MPLCanvasModel",
      "state": {
       "_cursor": "default",
       "_figure_label": "Figure 24",
       "_height": 360,
       "_width": 864,
       "layout": "IPY_MODEL_cf16c1d40d00420c8a09c2dcf71d36de",
       "toolbar": "IPY_MODEL_326819bbfc654a58abbe44657b35bde8",
       "toolbar_position": "left"
      }
     },
     "0e7cf29d51b74363917cf16d2ab8fdc4": {
      "model_module": "jupyter-matplotlib",
      "model_module_version": "^0.9.0",
      "model_name": "MPLCanvasModel",
      "state": {
       "_cursor": "default",
       "_figure_label": "Figure 10",
       "_height": 288,
       "_message": "zoom rect",
       "_rubberband_y": 288,
       "_width": 432,
       "layout": "IPY_MODEL_eb11ad77b7fa40e7970bc426be9a549c",
       "toolbar": "IPY_MODEL_e88eed40b43e4ad6805ca2c9883c89c1",
       "toolbar_position": "left"
      }
     },
     "0f8d43223e514f4cb79dd8f614815106": {
      "model_module": "@jupyter-widgets/base",
      "model_module_version": "1.2.0",
      "model_name": "LayoutModel",
      "state": {}
     },
     "18279ee26771462aab820dce54e943d2": {
      "model_module": "@jupyter-widgets/base",
      "model_module_version": "1.2.0",
      "model_name": "LayoutModel",
      "state": {}
     },
     "19b8620948ea49de9b6bcc79265fd0ce": {
      "model_module": "jupyter-matplotlib",
      "model_module_version": "^0.9.0",
      "model_name": "ToolbarModel",
      "state": {
       "layout": "IPY_MODEL_ae6d2d6e0a0a4fd390df78ce17623c58",
       "toolitems": [
        [
         "Home",
         "Reset original view",
         "home",
         "home"
        ],
        [
         "Back",
         "Back to previous view",
         "arrow-left",
         "back"
        ],
        [
         "Forward",
         "Forward to next view",
         "arrow-right",
         "forward"
        ],
        [
         "Pan",
         "Left button pans, Right button zooms\nx/y fixes axis, CTRL fixes aspect",
         "arrows",
         "pan"
        ],
        [
         "Zoom",
         "Zoom to rectangle\nx/y fixes axis, CTRL fixes aspect",
         "square-o",
         "zoom"
        ],
        [
         "Download",
         "Download plot",
         "floppy-o",
         "save_figure"
        ]
       ]
      }
     },
     "1b14cc4c0a6c4f8d96c92ed8f9e1ea4b": {
      "model_module": "jupyter-matplotlib",
      "model_module_version": "^0.9.0",
      "model_name": "MPLCanvasModel",
      "state": {
       "_cursor": "default",
       "_figure_label": "Figure 21",
       "_height": 288,
       "_message": "x=0.308 y=0.654",
       "_width": 432,
       "layout": "IPY_MODEL_a89bd88bfc6542068d7a9055ad27b98f",
       "toolbar": "IPY_MODEL_7130b43f76144155aa9d0b8389453def",
       "toolbar_position": "left"
      }
     },
     "1eec482b89e6453c882ba6185ed39789": {
      "model_module": "jupyter-matplotlib",
      "model_module_version": "^0.9.0",
      "model_name": "MPLCanvasModel",
      "state": {
       "_cursor": "default",
       "_figure_label": "Figure 6",
       "_height": 288,
       "_message": "zoom rect",
       "_rubberband_y": 288,
       "_width": 432,
       "layout": "IPY_MODEL_2735adec02da474bbca9239b026b72d4",
       "toolbar": "IPY_MODEL_8e9a6cec2ae64f4abf0391c8d4b204fc",
       "toolbar_position": "left"
      }
     },
     "1efe2471f84d4cd49867372cdd1e0f0e": {
      "model_module": "jupyter-matplotlib",
      "model_module_version": "^0.9.0",
      "model_name": "ToolbarModel",
      "state": {
       "_current_action": "zoom",
       "layout": "IPY_MODEL_2331b278196f41fcbc6b94cf47e11e66",
       "toolitems": [
        [
         "Home",
         "Reset original view",
         "home",
         "home"
        ],
        [
         "Back",
         "Back to previous view",
         "arrow-left",
         "back"
        ],
        [
         "Forward",
         "Forward to next view",
         "arrow-right",
         "forward"
        ],
        [
         "Pan",
         "Left button pans, Right button zooms\nx/y fixes axis, CTRL fixes aspect",
         "arrows",
         "pan"
        ],
        [
         "Zoom",
         "Zoom to rectangle\nx/y fixes axis, CTRL fixes aspect",
         "square-o",
         "zoom"
        ],
        [
         "Download",
         "Download plot",
         "floppy-o",
         "save_figure"
        ]
       ]
      }
     },
     "20c35d984ee94bdfa5cfd47361cadf04": {
      "model_module": "@jupyter-widgets/base",
      "model_module_version": "1.2.0",
      "model_name": "LayoutModel",
      "state": {}
     },
     "21c1f651737f4e51af468b925bff9da4": {
      "model_module": "jupyter-matplotlib",
      "model_module_version": "^0.9.0",
      "model_name": "ToolbarModel",
      "state": {
       "layout": "IPY_MODEL_804f55611012493b80eee291fcf326af",
       "toolitems": [
        [
         "Home",
         "Reset original view",
         "home",
         "home"
        ],
        [
         "Back",
         "Back to previous view",
         "arrow-left",
         "back"
        ],
        [
         "Forward",
         "Forward to next view",
         "arrow-right",
         "forward"
        ],
        [
         "Pan",
         "Left button pans, Right button zooms\nx/y fixes axis, CTRL fixes aspect",
         "arrows",
         "pan"
        ],
        [
         "Zoom",
         "Zoom to rectangle\nx/y fixes axis, CTRL fixes aspect",
         "square-o",
         "zoom"
        ],
        [
         "Download",
         "Download plot",
         "floppy-o",
         "save_figure"
        ]
       ]
      }
     },
     "21fe9bd6afc3426cafeba34b19de0687": {
      "model_module": "jupyter-matplotlib",
      "model_module_version": "^0.9.0",
      "model_name": "ToolbarModel",
      "state": {
       "layout": "IPY_MODEL_18279ee26771462aab820dce54e943d2",
       "toolitems": [
        [
         "Home",
         "Reset original view",
         "home",
         "home"
        ],
        [
         "Back",
         "Back to previous view",
         "arrow-left",
         "back"
        ],
        [
         "Forward",
         "Forward to next view",
         "arrow-right",
         "forward"
        ],
        [
         "Pan",
         "Left button pans, Right button zooms\nx/y fixes axis, CTRL fixes aspect",
         "arrows",
         "pan"
        ],
        [
         "Zoom",
         "Zoom to rectangle\nx/y fixes axis, CTRL fixes aspect",
         "square-o",
         "zoom"
        ],
        [
         "Download",
         "Download plot",
         "floppy-o",
         "save_figure"
        ]
       ]
      }
     },
     "2331b278196f41fcbc6b94cf47e11e66": {
      "model_module": "@jupyter-widgets/base",
      "model_module_version": "1.2.0",
      "model_name": "LayoutModel",
      "state": {}
     },
     "26b530c4a09c462c8322b5eba1666e9c": {
      "model_module": "jupyter-matplotlib",
      "model_module_version": "^0.9.0",
      "model_name": "ToolbarModel",
      "state": {
       "layout": "IPY_MODEL_c9af6d7d481442eea7ffb32c937c31e8",
       "toolitems": [
        [
         "Home",
         "Reset original view",
         "home",
         "home"
        ],
        [
         "Back",
         "Back to previous view",
         "arrow-left",
         "back"
        ],
        [
         "Forward",
         "Forward to next view",
         "arrow-right",
         "forward"
        ],
        [
         "Pan",
         "Left button pans, Right button zooms\nx/y fixes axis, CTRL fixes aspect",
         "arrows",
         "pan"
        ],
        [
         "Zoom",
         "Zoom to rectangle\nx/y fixes axis, CTRL fixes aspect",
         "square-o",
         "zoom"
        ],
        [
         "Download",
         "Download plot",
         "floppy-o",
         "save_figure"
        ]
       ]
      }
     },
     "272e7a3eafdf415fa4b6119098d537bd": {
      "model_module": "jupyter-matplotlib",
      "model_module_version": "^0.9.0",
      "model_name": "ToolbarModel",
      "state": {
       "layout": "IPY_MODEL_d0cdfa46a90948f8a1cb40198ca8986a",
       "toolitems": [
        [
         "Home",
         "Reset original view",
         "home",
         "home"
        ],
        [
         "Back",
         "Back to previous view",
         "arrow-left",
         "back"
        ],
        [
         "Forward",
         "Forward to next view",
         "arrow-right",
         "forward"
        ],
        [
         "Pan",
         "Left button pans, Right button zooms\nx/y fixes axis, CTRL fixes aspect",
         "arrows",
         "pan"
        ],
        [
         "Zoom",
         "Zoom to rectangle\nx/y fixes axis, CTRL fixes aspect",
         "square-o",
         "zoom"
        ],
        [
         "Download",
         "Download plot",
         "floppy-o",
         "save_figure"
        ]
       ]
      }
     },
     "2735adec02da474bbca9239b026b72d4": {
      "model_module": "@jupyter-widgets/base",
      "model_module_version": "1.2.0",
      "model_name": "LayoutModel",
      "state": {}
     },
     "29442134e00942978bfbb394ca6845bc": {
      "model_module": "jupyter-matplotlib",
      "model_module_version": "^0.9.0",
      "model_name": "MPLCanvasModel",
      "state": {
       "_cursor": "default",
       "_figure_label": "Figure 4",
       "_height": 288,
       "_width": 432,
       "layout": "IPY_MODEL_89fdcb2bcf284e6db96968eddd77af64",
       "toolbar": "IPY_MODEL_cefe2cae434a430aa454bfa1eeabf239",
       "toolbar_position": "left"
      }
     },
     "29c16af36d834485857ca16f914aa4d0": {
      "model_module": "jupyter-matplotlib",
      "model_module_version": "^0.9.0",
      "model_name": "MPLCanvasModel",
      "state": {
       "_cursor": "default",
       "_figure_label": "Figure 34",
       "_height": 720,
       "_width": 1080,
       "layout": "IPY_MODEL_5fe3c06fee4346feb38cf3dcc5cad343",
       "toolbar": "IPY_MODEL_e22c1da0fb4542268dd38be350e65a64",
       "toolbar_position": "left"
      }
     },
     "2c922ea7cda140b787a994ba5c6ed896": {
      "model_module": "jupyter-matplotlib",
      "model_module_version": "^0.9.0",
      "model_name": "ToolbarModel",
      "state": {
       "layout": "IPY_MODEL_028b51637e114cde9e10cc4dac82d0b8",
       "toolitems": [
        [
         "Home",
         "Reset original view",
         "home",
         "home"
        ],
        [
         "Back",
         "Back to previous view",
         "arrow-left",
         "back"
        ],
        [
         "Forward",
         "Forward to next view",
         "arrow-right",
         "forward"
        ],
        [
         "Pan",
         "Left button pans, Right button zooms\nx/y fixes axis, CTRL fixes aspect",
         "arrows",
         "pan"
        ],
        [
         "Zoom",
         "Zoom to rectangle\nx/y fixes axis, CTRL fixes aspect",
         "square-o",
         "zoom"
        ],
        [
         "Download",
         "Download plot",
         "floppy-o",
         "save_figure"
        ]
       ]
      }
     },
     "2dd899936fc14fa6aaa905e3c6aa9448": {
      "model_module": "@jupyter-widgets/base",
      "model_module_version": "1.2.0",
      "model_name": "LayoutModel",
      "state": {}
     },
     "2f862d75ba2741dc8afc79d724adcfde": {
      "model_module": "jupyter-matplotlib",
      "model_module_version": "^0.9.0",
      "model_name": "MPLCanvasModel",
      "state": {
       "_cursor": "default",
       "_figure_label": "Figure 1",
       "_height": 288,
       "_message": "x=−10.1 y=12.8",
       "_width": 432,
       "layout": "IPY_MODEL_d8b3ab7df5cc440790c10abadef88e31",
       "toolbar": "IPY_MODEL_525a19feaa7a4de9961551797036e83d",
       "toolbar_position": "left"
      }
     },
     "310bbccebef64675823465544185affe": {
      "model_module": "jupyter-matplotlib",
      "model_module_version": "^0.9.0",
      "model_name": "MPLCanvasModel",
      "state": {
       "_cursor": "default",
       "_figure_label": "Figure 26",
       "_height": 360,
       "_width": 864,
       "layout": "IPY_MODEL_a445c832b0cf45dca42a98cfdc4183fb",
       "toolbar": "IPY_MODEL_26b530c4a09c462c8322b5eba1666e9c",
       "toolbar_position": "left"
      }
     },
     "315407326d5d481e8fd571eaab0b8ff3": {
      "model_module": "@jupyter-widgets/base",
      "model_module_version": "1.2.0",
      "model_name": "LayoutModel",
      "state": {}
     },
     "326819bbfc654a58abbe44657b35bde8": {
      "model_module": "jupyter-matplotlib",
      "model_module_version": "^0.9.0",
      "model_name": "ToolbarModel",
      "state": {
       "layout": "IPY_MODEL_20c35d984ee94bdfa5cfd47361cadf04",
       "toolitems": [
        [
         "Home",
         "Reset original view",
         "home",
         "home"
        ],
        [
         "Back",
         "Back to previous view",
         "arrow-left",
         "back"
        ],
        [
         "Forward",
         "Forward to next view",
         "arrow-right",
         "forward"
        ],
        [
         "Pan",
         "Left button pans, Right button zooms\nx/y fixes axis, CTRL fixes aspect",
         "arrows",
         "pan"
        ],
        [
         "Zoom",
         "Zoom to rectangle\nx/y fixes axis, CTRL fixes aspect",
         "square-o",
         "zoom"
        ],
        [
         "Download",
         "Download plot",
         "floppy-o",
         "save_figure"
        ]
       ]
      }
     },
     "3272976e6eb34a5d834afa11b4f96a8c": {
      "model_module": "@jupyter-widgets/base",
      "model_module_version": "1.2.0",
      "model_name": "LayoutModel",
      "state": {}
     },
     "327b6e6819524b49bf54336fa620ca3f": {
      "model_module": "@jupyter-widgets/base",
      "model_module_version": "1.2.0",
      "model_name": "LayoutModel",
      "state": {}
     },
     "39a8574fec1941e2b374db88eed10fcc": {
      "model_module": "@jupyter-widgets/base",
      "model_module_version": "1.2.0",
      "model_name": "LayoutModel",
      "state": {}
     },
     "3b56711557d541f490caae31fa4f6ba6": {
      "model_module": "jupyter-matplotlib",
      "model_module_version": "^0.9.0",
      "model_name": "ToolbarModel",
      "state": {
       "layout": "IPY_MODEL_b34db8c9336340c59d259a5b89f748f8",
       "toolitems": [
        [
         "Home",
         "Reset original view",
         "home",
         "home"
        ],
        [
         "Back",
         "Back to previous view",
         "arrow-left",
         "back"
        ],
        [
         "Forward",
         "Forward to next view",
         "arrow-right",
         "forward"
        ],
        [
         "Pan",
         "Left button pans, Right button zooms\nx/y fixes axis, CTRL fixes aspect",
         "arrows",
         "pan"
        ],
        [
         "Zoom",
         "Zoom to rectangle\nx/y fixes axis, CTRL fixes aspect",
         "square-o",
         "zoom"
        ],
        [
         "Download",
         "Download plot",
         "floppy-o",
         "save_figure"
        ]
       ]
      }
     },
     "3c8a5ae87f204c548fdc715a84c5d310": {
      "model_module": "@jupyter-widgets/base",
      "model_module_version": "1.2.0",
      "model_name": "LayoutModel",
      "state": {}
     },
     "3f3367c83c6a4ac0ae8c8cc23cbd9835": {
      "model_module": "jupyter-matplotlib",
      "model_module_version": "^0.9.0",
      "model_name": "ToolbarModel",
      "state": {
       "layout": "IPY_MODEL_0f8d43223e514f4cb79dd8f614815106",
       "toolitems": [
        [
         "Home",
         "Reset original view",
         "home",
         "home"
        ],
        [
         "Back",
         "Back to previous view",
         "arrow-left",
         "back"
        ],
        [
         "Forward",
         "Forward to next view",
         "arrow-right",
         "forward"
        ],
        [
         "Pan",
         "Left button pans, Right button zooms\nx/y fixes axis, CTRL fixes aspect",
         "arrows",
         "pan"
        ],
        [
         "Zoom",
         "Zoom to rectangle\nx/y fixes axis, CTRL fixes aspect",
         "square-o",
         "zoom"
        ],
        [
         "Download",
         "Download plot",
         "floppy-o",
         "save_figure"
        ]
       ]
      }
     },
     "43068f96e6524570be1f03edb750f9c2": {
      "model_module": "jupyter-matplotlib",
      "model_module_version": "^0.9.0",
      "model_name": "ToolbarModel",
      "state": {
       "layout": "IPY_MODEL_39a8574fec1941e2b374db88eed10fcc",
       "toolitems": [
        [
         "Home",
         "Reset original view",
         "home",
         "home"
        ],
        [
         "Back",
         "Back to previous view",
         "arrow-left",
         "back"
        ],
        [
         "Forward",
         "Forward to next view",
         "arrow-right",
         "forward"
        ],
        [
         "Pan",
         "Left button pans, Right button zooms\nx/y fixes axis, CTRL fixes aspect",
         "arrows",
         "pan"
        ],
        [
         "Zoom",
         "Zoom to rectangle\nx/y fixes axis, CTRL fixes aspect",
         "square-o",
         "zoom"
        ],
        [
         "Download",
         "Download plot",
         "floppy-o",
         "save_figure"
        ]
       ]
      }
     },
     "435290932a344054ba917d6582297d35": {
      "model_module": "jupyter-matplotlib",
      "model_module_version": "^0.9.0",
      "model_name": "ToolbarModel",
      "state": {
       "layout": "IPY_MODEL_d09e061dfab141bb88989469e179777b",
       "toolitems": [
        [
         "Home",
         "Reset original view",
         "home",
         "home"
        ],
        [
         "Back",
         "Back to previous view",
         "arrow-left",
         "back"
        ],
        [
         "Forward",
         "Forward to next view",
         "arrow-right",
         "forward"
        ],
        [
         "Pan",
         "Left button pans, Right button zooms\nx/y fixes axis, CTRL fixes aspect",
         "arrows",
         "pan"
        ],
        [
         "Zoom",
         "Zoom to rectangle\nx/y fixes axis, CTRL fixes aspect",
         "square-o",
         "zoom"
        ],
        [
         "Download",
         "Download plot",
         "floppy-o",
         "save_figure"
        ]
       ]
      }
     },
     "4365d4a46e7344e998390cae4ad68974": {
      "model_module": "@jupyter-widgets/base",
      "model_module_version": "1.2.0",
      "model_name": "LayoutModel",
      "state": {}
     },
     "46974c2189194eb391670f529e2691d5": {
      "model_module": "@jupyter-widgets/base",
      "model_module_version": "1.2.0",
      "model_name": "LayoutModel",
      "state": {}
     },
     "4831d029e5a54ac0ab5cc2ada60661ac": {
      "model_module": "@jupyter-widgets/base",
      "model_module_version": "1.2.0",
      "model_name": "LayoutModel",
      "state": {}
     },
     "4b877fa727db4d12876ac6ccd9925d33": {
      "model_module": "jupyter-matplotlib",
      "model_module_version": "^0.9.0",
      "model_name": "MPLCanvasModel",
      "state": {
       "_cursor": "default",
       "_figure_label": "Figure 16",
       "_height": 288,
       "_message": "x=61.8 y=−12.9",
       "_width": 432,
       "layout": "IPY_MODEL_f0235d240f3a4d69bd2949e09bcb660d",
       "toolbar": "IPY_MODEL_d0baa7d542d84800a15409b96e6cae1d",
       "toolbar_position": "left"
      }
     },
     "4c1d4323cb7044739119c3dc74f1274e": {
      "model_module": "jupyter-matplotlib",
      "model_module_version": "^0.9.0",
      "model_name": "MPLCanvasModel",
      "state": {
       "_cursor": "default",
       "_figure_label": "Figure 7",
       "_height": 288,
       "_width": 432,
       "layout": "IPY_MODEL_c8a56412795845de806a89f1c7b28849",
       "toolbar": "IPY_MODEL_21c1f651737f4e51af468b925bff9da4",
       "toolbar_position": "left"
      }
     },
     "4e155759eb8645a3a64d9292d19a67ce": {
      "model_module": "@jupyter-widgets/base",
      "model_module_version": "1.2.0",
      "model_name": "LayoutModel",
      "state": {}
     },
     "4e3f1792ddb049f0b1022b5609550661": {
      "model_module": "jupyter-matplotlib",
      "model_module_version": "^0.9.0",
      "model_name": "ToolbarModel",
      "state": {
       "layout": "IPY_MODEL_4365d4a46e7344e998390cae4ad68974",
       "toolitems": [
        [
         "Home",
         "Reset original view",
         "home",
         "home"
        ],
        [
         "Back",
         "Back to previous view",
         "arrow-left",
         "back"
        ],
        [
         "Forward",
         "Forward to next view",
         "arrow-right",
         "forward"
        ],
        [
         "Pan",
         "Left button pans, Right button zooms\nx/y fixes axis, CTRL fixes aspect",
         "arrows",
         "pan"
        ],
        [
         "Zoom",
         "Zoom to rectangle\nx/y fixes axis, CTRL fixes aspect",
         "square-o",
         "zoom"
        ],
        [
         "Download",
         "Download plot",
         "floppy-o",
         "save_figure"
        ]
       ]
      }
     },
     "4ec248476f474e7993b635edb74d0a7d": {
      "model_module": "jupyter-matplotlib",
      "model_module_version": "^0.9.0",
      "model_name": "MPLCanvasModel",
      "state": {
       "_cursor": "default",
       "_figure_label": "Figure 31",
       "_height": 360,
       "_width": 864,
       "layout": "IPY_MODEL_5262ee21e6004f6f8a3c9a3fb76c170a",
       "toolbar": "IPY_MODEL_a8a70c3982e044188b66c911fa2b16ef",
       "toolbar_position": "left"
      }
     },
     "525a19feaa7a4de9961551797036e83d": {
      "model_module": "jupyter-matplotlib",
      "model_module_version": "^0.9.0",
      "model_name": "ToolbarModel",
      "state": {
       "layout": "IPY_MODEL_ec8dc6921a394ff19033454930592693",
       "toolitems": [
        [
         "Home",
         "Reset original view",
         "home",
         "home"
        ],
        [
         "Back",
         "Back to previous view",
         "arrow-left",
         "back"
        ],
        [
         "Forward",
         "Forward to next view",
         "arrow-right",
         "forward"
        ],
        [
         "Pan",
         "Left button pans, Right button zooms\nx/y fixes axis, CTRL fixes aspect",
         "arrows",
         "pan"
        ],
        [
         "Zoom",
         "Zoom to rectangle\nx/y fixes axis, CTRL fixes aspect",
         "square-o",
         "zoom"
        ],
        [
         "Download",
         "Download plot",
         "floppy-o",
         "save_figure"
        ]
       ]
      }
     },
     "5262ee21e6004f6f8a3c9a3fb76c170a": {
      "model_module": "@jupyter-widgets/base",
      "model_module_version": "1.2.0",
      "model_name": "LayoutModel",
      "state": {}
     },
     "5305dee3f39b402aa349dd1b4810eb75": {
      "model_module": "@jupyter-widgets/base",
      "model_module_version": "1.2.0",
      "model_name": "LayoutModel",
      "state": {}
     },
     "531434c46ad849bf8f26d043be171ad1": {
      "model_module": "@jupyter-widgets/base",
      "model_module_version": "1.2.0",
      "model_name": "LayoutModel",
      "state": {}
     },
     "5417d285f0e842e0bd3da99349437de0": {
      "model_module": "jupyter-matplotlib",
      "model_module_version": "^0.9.0",
      "model_name": "MPLCanvasModel",
      "state": {
       "_cursor": "default",
       "_figure_label": "Figure 22",
       "_height": 288,
       "_width": 432,
       "layout": "IPY_MODEL_851b4b598a75481e889153fd84d27a23",
       "toolbar": "IPY_MODEL_435290932a344054ba917d6582297d35",
       "toolbar_position": "left"
      }
     },
     "5780cb42ba8a451cb7f2893378f66d37": {
      "model_module": "jupyter-matplotlib",
      "model_module_version": "^0.9.0",
      "model_name": "ToolbarModel",
      "state": {
       "layout": "IPY_MODEL_d67776e54a1840f99aab14a7f90f36b1",
       "toolitems": [
        [
         "Home",
         "Reset original view",
         "home",
         "home"
        ],
        [
         "Back",
         "Back to previous view",
         "arrow-left",
         "back"
        ],
        [
         "Forward",
         "Forward to next view",
         "arrow-right",
         "forward"
        ],
        [
         "Pan",
         "Left button pans, Right button zooms\nx/y fixes axis, CTRL fixes aspect",
         "arrows",
         "pan"
        ],
        [
         "Zoom",
         "Zoom to rectangle\nx/y fixes axis, CTRL fixes aspect",
         "square-o",
         "zoom"
        ],
        [
         "Download",
         "Download plot",
         "floppy-o",
         "save_figure"
        ]
       ]
      }
     },
     "58069f4780694b40b147295b88a1d1c1": {
      "model_module": "jupyter-matplotlib",
      "model_module_version": "^0.9.0",
      "model_name": "MPLCanvasModel",
      "state": {
       "_cursor": "default",
       "_figure_label": "Figure 5",
       "_height": 288,
       "_width": 432,
       "layout": "IPY_MODEL_87f2a28fa53d4a959f7c192553476e1e",
       "toolbar": "IPY_MODEL_8f4aa161f6ee4f0a8d3e9fbbf8ac54b4",
       "toolbar_position": "left"
      }
     },
     "5864b77cee28467d837d0d3fd9a43dcc": {
      "model_module": "@jupyter-widgets/base",
      "model_module_version": "1.2.0",
      "model_name": "LayoutModel",
      "state": {}
     },
     "5a50d3f4ab944891902a7c6569f25c6d": {
      "model_module": "jupyter-matplotlib",
      "model_module_version": "^0.9.0",
      "model_name": "ToolbarModel",
      "state": {
       "layout": "IPY_MODEL_d4b3cd89b23c45df9b6a6d378266e505",
       "toolitems": [
        [
         "Home",
         "Reset original view",
         "home",
         "home"
        ],
        [
         "Back",
         "Back to previous view",
         "arrow-left",
         "back"
        ],
        [
         "Forward",
         "Forward to next view",
         "arrow-right",
         "forward"
        ],
        [
         "Pan",
         "Left button pans, Right button zooms\nx/y fixes axis, CTRL fixes aspect",
         "arrows",
         "pan"
        ],
        [
         "Zoom",
         "Zoom to rectangle\nx/y fixes axis, CTRL fixes aspect",
         "square-o",
         "zoom"
        ],
        [
         "Download",
         "Download plot",
         "floppy-o",
         "save_figure"
        ]
       ]
      }
     },
     "5e11602be30a4e50a7f4ca0ab29d96e6": {
      "model_module": "jupyter-matplotlib",
      "model_module_version": "^0.9.0",
      "model_name": "MPLCanvasModel",
      "state": {
       "_cursor": "default",
       "_figure_label": "Figure 19",
       "_height": 288,
       "_width": 432,
       "layout": "IPY_MODEL_f386514c9b944879b45ed2dfa6c3f303",
       "toolbar": "IPY_MODEL_962d82e11d5641c99e9418d0105af9c3",
       "toolbar_position": "left"
      }
     },
     "5e5a999fd7614986907a03fe3dfe6661": {
      "model_module": "jupyter-matplotlib",
      "model_module_version": "^0.9.0",
      "model_name": "MPLCanvasModel",
      "state": {
       "_cursor": "default",
       "_figure_label": "Figure 29",
       "_height": 360,
       "_width": 864,
       "layout": "IPY_MODEL_4831d029e5a54ac0ab5cc2ada60661ac",
       "toolbar": "IPY_MODEL_86b51e441892433682e252f38582c138",
       "toolbar_position": "left"
      }
     },
     "5e6a846f7c7c46588bbebfec54d2dc9e": {
      "model_module": "@jupyter-widgets/base",
      "model_module_version": "1.2.0",
      "model_name": "LayoutModel",
      "state": {}
     },
     "5e823fad52a741bfabb65d7139bfe0cf": {
      "model_module": "jupyter-matplotlib",
      "model_module_version": "^0.9.0",
      "model_name": "MPLCanvasModel",
      "state": {
       "_cursor": "default",
       "_figure_label": "Figure 41",
       "_height": 288,
       "_width": 432,
       "layout": "IPY_MODEL_ea884a39217249d4aa28a36372473fe3",
       "toolbar": "IPY_MODEL_7c3e17cc862b40a69de370f11dd51a54",
       "toolbar_position": "left"
      }
     },
     "5fe3c06fee4346feb38cf3dcc5cad343": {
      "model_module": "@jupyter-widgets/base",
      "model_module_version": "1.2.0",
      "model_name": "LayoutModel",
      "state": {}
     },
     "6532e3dd99f04c04bd785692b7037fc9": {
      "model_module": "@jupyter-widgets/base",
      "model_module_version": "1.2.0",
      "model_name": "LayoutModel",
      "state": {}
     },
     "66e786c1321244e9b0f852739d125fb2": {
      "model_module": "@jupyter-widgets/base",
      "model_module_version": "1.2.0",
      "model_name": "LayoutModel",
      "state": {}
     },
     "6707f1d85e2a465898e14b78896410bc": {
      "model_module": "@jupyter-widgets/base",
      "model_module_version": "1.2.0",
      "model_name": "LayoutModel",
      "state": {}
     },
     "6793b12e78d64e3a9c67da8b190eb005": {
      "model_module": "jupyter-matplotlib",
      "model_module_version": "^0.9.0",
      "model_name": "ToolbarModel",
      "state": {
       "layout": "IPY_MODEL_d822b46d450a4325806075dc74ff87d9",
       "toolitems": [
        [
         "Home",
         "Reset original view",
         "home",
         "home"
        ],
        [
         "Back",
         "Back to previous view",
         "arrow-left",
         "back"
        ],
        [
         "Forward",
         "Forward to next view",
         "arrow-right",
         "forward"
        ],
        [
         "Pan",
         "Left button pans, Right button zooms\nx/y fixes axis, CTRL fixes aspect",
         "arrows",
         "pan"
        ],
        [
         "Zoom",
         "Zoom to rectangle\nx/y fixes axis, CTRL fixes aspect",
         "square-o",
         "zoom"
        ],
        [
         "Download",
         "Download plot",
         "floppy-o",
         "save_figure"
        ]
       ]
      }
     },
     "6c685b2b841745e3a98ff62c075889e8": {
      "model_module": "jupyter-matplotlib",
      "model_module_version": "^0.9.0",
      "model_name": "MPLCanvasModel",
      "state": {
       "_cursor": "default",
       "_figure_label": "Figure 14",
       "_height": 288,
       "_width": 432,
       "layout": "IPY_MODEL_aa348c107d6c4dc095ab6ff6669938c0",
       "toolbar": "IPY_MODEL_b3359aaa8fe041babd64097e265756cc",
       "toolbar_position": "left"
      }
     },
     "6e68e14042dc4ba5877998e70e7281f0": {
      "model_module": "jupyter-matplotlib",
      "model_module_version": "^0.9.0",
      "model_name": "MPLCanvasModel",
      "state": {
       "_cursor": "default",
       "_figure_label": "Figure 8",
       "_height": 288,
       "_width": 432,
       "layout": "IPY_MODEL_bebcd6b0005743d7b7951b1ac2765aec",
       "toolbar": "IPY_MODEL_19b8620948ea49de9b6bcc79265fd0ce",
       "toolbar_position": "left"
      }
     },
     "6f37bc6faed84c4f94198543a9879882": {
      "model_module": "jupyter-matplotlib",
      "model_module_version": "^0.9.0",
      "model_name": "ToolbarModel",
      "state": {
       "layout": "IPY_MODEL_f3be64e4854c4ca1a265c3aa4a1fd849",
       "toolitems": [
        [
         "Home",
         "Reset original view",
         "home",
         "home"
        ],
        [
         "Back",
         "Back to previous view",
         "arrow-left",
         "back"
        ],
        [
         "Forward",
         "Forward to next view",
         "arrow-right",
         "forward"
        ],
        [
         "Pan",
         "Left button pans, Right button zooms\nx/y fixes axis, CTRL fixes aspect",
         "arrows",
         "pan"
        ],
        [
         "Zoom",
         "Zoom to rectangle\nx/y fixes axis, CTRL fixes aspect",
         "square-o",
         "zoom"
        ],
        [
         "Download",
         "Download plot",
         "floppy-o",
         "save_figure"
        ]
       ]
      }
     },
     "7130b43f76144155aa9d0b8389453def": {
      "model_module": "jupyter-matplotlib",
      "model_module_version": "^0.9.0",
      "model_name": "ToolbarModel",
      "state": {
       "layout": "IPY_MODEL_e2ed79b6f1ad47f7b0478dcc21613b7d",
       "toolitems": [
        [
         "Home",
         "Reset original view",
         "home",
         "home"
        ],
        [
         "Back",
         "Back to previous view",
         "arrow-left",
         "back"
        ],
        [
         "Forward",
         "Forward to next view",
         "arrow-right",
         "forward"
        ],
        [
         "Pan",
         "Left button pans, Right button zooms\nx/y fixes axis, CTRL fixes aspect",
         "arrows",
         "pan"
        ],
        [
         "Zoom",
         "Zoom to rectangle\nx/y fixes axis, CTRL fixes aspect",
         "square-o",
         "zoom"
        ],
        [
         "Download",
         "Download plot",
         "floppy-o",
         "save_figure"
        ]
       ]
      }
     },
     "724d5f95ad1247aca1feb971bad0e786": {
      "model_module": "jupyter-matplotlib",
      "model_module_version": "^0.9.0",
      "model_name": "MPLCanvasModel",
      "state": {
       "_cursor": "default",
       "_figure_label": "Figure 20",
       "_height": 288,
       "_width": 432,
       "layout": "IPY_MODEL_531434c46ad849bf8f26d043be171ad1",
       "toolbar": "IPY_MODEL_2c922ea7cda140b787a994ba5c6ed896",
       "toolbar_position": "left"
      }
     },
     "74540a341b68406f8d19524c6d0c726c": {
      "model_module": "jupyter-matplotlib",
      "model_module_version": "^0.9.0",
      "model_name": "ToolbarModel",
      "state": {
       "layout": "IPY_MODEL_9d65b8bf89824c5f99dbc22ccec3adcb",
       "toolitems": [
        [
         "Home",
         "Reset original view",
         "home",
         "home"
        ],
        [
         "Back",
         "Back to previous view",
         "arrow-left",
         "back"
        ],
        [
         "Forward",
         "Forward to next view",
         "arrow-right",
         "forward"
        ],
        [
         "Pan",
         "Left button pans, Right button zooms\nx/y fixes axis, CTRL fixes aspect",
         "arrows",
         "pan"
        ],
        [
         "Zoom",
         "Zoom to rectangle\nx/y fixes axis, CTRL fixes aspect",
         "square-o",
         "zoom"
        ],
        [
         "Download",
         "Download plot",
         "floppy-o",
         "save_figure"
        ]
       ]
      }
     },
     "75821bb8f80c4fb88d663f01ab14379c": {
      "model_module": "jupyter-matplotlib",
      "model_module_version": "^0.9.0",
      "model_name": "MPLCanvasModel",
      "state": {
       "_cursor": "default",
       "_figure_label": "Figure 11",
       "_height": 288,
       "_message": "x=0.565 y=0.629",
       "_width": 432,
       "layout": "IPY_MODEL_e38c6ab73d34436995cf0565420536e2",
       "toolbar": "IPY_MODEL_4e3f1792ddb049f0b1022b5609550661",
       "toolbar_position": "left"
      }
     },
     "7979b888c31145128715b4fedeaf2ba3": {
      "model_module": "@jupyter-widgets/base",
      "model_module_version": "1.2.0",
      "model_name": "LayoutModel",
      "state": {}
     },
     "7c11c7f2b7854cdea9360db087e2a122": {
      "model_module": "@jupyter-widgets/base",
      "model_module_version": "1.2.0",
      "model_name": "LayoutModel",
      "state": {}
     },
     "7c3e17cc862b40a69de370f11dd51a54": {
      "model_module": "jupyter-matplotlib",
      "model_module_version": "^0.9.0",
      "model_name": "ToolbarModel",
      "state": {
       "layout": "IPY_MODEL_d4d18210ecf545a1b9dfc3df374e6c98",
       "toolitems": [
        [
         "Home",
         "Reset original view",
         "home",
         "home"
        ],
        [
         "Back",
         "Back to previous view",
         "arrow-left",
         "back"
        ],
        [
         "Forward",
         "Forward to next view",
         "arrow-right",
         "forward"
        ],
        [
         "Pan",
         "Left button pans, Right button zooms\nx/y fixes axis, CTRL fixes aspect",
         "arrows",
         "pan"
        ],
        [
         "Zoom",
         "Zoom to rectangle\nx/y fixes axis, CTRL fixes aspect",
         "square-o",
         "zoom"
        ],
        [
         "Download",
         "Download plot",
         "floppy-o",
         "save_figure"
        ]
       ]
      }
     },
     "7d6c041876b547aa83c2ca2a30e67242": {
      "model_module": "jupyter-matplotlib",
      "model_module_version": "^0.9.0",
      "model_name": "MPLCanvasModel",
      "state": {
       "_cursor": "default",
       "_figure_label": "Figure 12",
       "_height": 288,
       "_width": 432,
       "layout": "IPY_MODEL_b02540aa067549d0ba5b1fb367371319",
       "toolbar": "IPY_MODEL_5780cb42ba8a451cb7f2893378f66d37",
       "toolbar_position": "left"
      }
     },
     "7edac610b0e3458292f69a70329ad6d8": {
      "model_module": "@jupyter-widgets/base",
      "model_module_version": "1.2.0",
      "model_name": "LayoutModel",
      "state": {}
     },
     "804f55611012493b80eee291fcf326af": {
      "model_module": "@jupyter-widgets/base",
      "model_module_version": "1.2.0",
      "model_name": "LayoutModel",
      "state": {}
     },
     "81b9da88ef634def9ed9fbeb3f2563d1": {
      "model_module": "jupyter-matplotlib",
      "model_module_version": "^0.9.0",
      "model_name": "ToolbarModel",
      "state": {
       "layout": "IPY_MODEL_e7a94f5fb6fe487989536b7d488949a6",
       "toolitems": [
        [
         "Home",
         "Reset original view",
         "home",
         "home"
        ],
        [
         "Back",
         "Back to previous view",
         "arrow-left",
         "back"
        ],
        [
         "Forward",
         "Forward to next view",
         "arrow-right",
         "forward"
        ],
        [
         "Pan",
         "Left button pans, Right button zooms\nx/y fixes axis, CTRL fixes aspect",
         "arrows",
         "pan"
        ],
        [
         "Zoom",
         "Zoom to rectangle\nx/y fixes axis, CTRL fixes aspect",
         "square-o",
         "zoom"
        ],
        [
         "Download",
         "Download plot",
         "floppy-o",
         "save_figure"
        ]
       ]
      }
     },
     "82b45eec6d534baea30185efe3ae5fcc": {
      "model_module": "@jupyter-widgets/base",
      "model_module_version": "1.2.0",
      "model_name": "LayoutModel",
      "state": {}
     },
     "84c53b17ec994656b7762cdd3a04be36": {
      "model_module": "@jupyter-widgets/base",
      "model_module_version": "1.2.0",
      "model_name": "LayoutModel",
      "state": {}
     },
     "851b4b598a75481e889153fd84d27a23": {
      "model_module": "@jupyter-widgets/base",
      "model_module_version": "1.2.0",
      "model_name": "LayoutModel",
      "state": {}
     },
     "86b51e441892433682e252f38582c138": {
      "model_module": "jupyter-matplotlib",
      "model_module_version": "^0.9.0",
      "model_name": "ToolbarModel",
      "state": {
       "layout": "IPY_MODEL_7c11c7f2b7854cdea9360db087e2a122",
       "toolitems": [
        [
         "Home",
         "Reset original view",
         "home",
         "home"
        ],
        [
         "Back",
         "Back to previous view",
         "arrow-left",
         "back"
        ],
        [
         "Forward",
         "Forward to next view",
         "arrow-right",
         "forward"
        ],
        [
         "Pan",
         "Left button pans, Right button zooms\nx/y fixes axis, CTRL fixes aspect",
         "arrows",
         "pan"
        ],
        [
         "Zoom",
         "Zoom to rectangle\nx/y fixes axis, CTRL fixes aspect",
         "square-o",
         "zoom"
        ],
        [
         "Download",
         "Download plot",
         "floppy-o",
         "save_figure"
        ]
       ]
      }
     },
     "87f2a28fa53d4a959f7c192553476e1e": {
      "model_module": "@jupyter-widgets/base",
      "model_module_version": "1.2.0",
      "model_name": "LayoutModel",
      "state": {}
     },
     "8896f240a3104d12bef8100bee1fb34b": {
      "model_module": "@jupyter-widgets/base",
      "model_module_version": "1.2.0",
      "model_name": "LayoutModel",
      "state": {}
     },
     "89fdcb2bcf284e6db96968eddd77af64": {
      "model_module": "@jupyter-widgets/base",
      "model_module_version": "1.2.0",
      "model_name": "LayoutModel",
      "state": {}
     },
     "8a577bbc4d614465bb4dbff6c3651497": {
      "model_module": "jupyter-matplotlib",
      "model_module_version": "^0.9.0",
      "model_name": "MPLCanvasModel",
      "state": {
       "_cursor": "default",
       "_figure_label": "Figure 18",
       "_height": 288,
       "_message": "x=16.2 y=−20.1",
       "_width": 432,
       "layout": "IPY_MODEL_bef7c8771be44a638a848940cc511a48",
       "toolbar": "IPY_MODEL_3b56711557d541f490caae31fa4f6ba6",
       "toolbar_position": "left"
      }
     },
     "8e9a6cec2ae64f4abf0391c8d4b204fc": {
      "model_module": "jupyter-matplotlib",
      "model_module_version": "^0.9.0",
      "model_name": "ToolbarModel",
      "state": {
       "_current_action": "zoom",
       "layout": "IPY_MODEL_8896f240a3104d12bef8100bee1fb34b",
       "toolitems": [
        [
         "Home",
         "Reset original view",
         "home",
         "home"
        ],
        [
         "Back",
         "Back to previous view",
         "arrow-left",
         "back"
        ],
        [
         "Forward",
         "Forward to next view",
         "arrow-right",
         "forward"
        ],
        [
         "Pan",
         "Left button pans, Right button zooms\nx/y fixes axis, CTRL fixes aspect",
         "arrows",
         "pan"
        ],
        [
         "Zoom",
         "Zoom to rectangle\nx/y fixes axis, CTRL fixes aspect",
         "square-o",
         "zoom"
        ],
        [
         "Download",
         "Download plot",
         "floppy-o",
         "save_figure"
        ]
       ]
      }
     },
     "8f1c80cbf0e14538b36a055ce653f15b": {
      "model_module": "@jupyter-widgets/base",
      "model_module_version": "1.2.0",
      "model_name": "LayoutModel",
      "state": {}
     },
     "8f4aa161f6ee4f0a8d3e9fbbf8ac54b4": {
      "model_module": "jupyter-matplotlib",
      "model_module_version": "^0.9.0",
      "model_name": "ToolbarModel",
      "state": {
       "layout": "IPY_MODEL_db5c8afd22464b88bd549e7865827f22",
       "toolitems": [
        [
         "Home",
         "Reset original view",
         "home",
         "home"
        ],
        [
         "Back",
         "Back to previous view",
         "arrow-left",
         "back"
        ],
        [
         "Forward",
         "Forward to next view",
         "arrow-right",
         "forward"
        ],
        [
         "Pan",
         "Left button pans, Right button zooms\nx/y fixes axis, CTRL fixes aspect",
         "arrows",
         "pan"
        ],
        [
         "Zoom",
         "Zoom to rectangle\nx/y fixes axis, CTRL fixes aspect",
         "square-o",
         "zoom"
        ],
        [
         "Download",
         "Download plot",
         "floppy-o",
         "save_figure"
        ]
       ]
      }
     },
     "95ca2244a1b74449af753307a2aca747": {
      "model_module": "jupyter-matplotlib",
      "model_module_version": "^0.9.0",
      "model_name": "ToolbarModel",
      "state": {
       "layout": "IPY_MODEL_2dd899936fc14fa6aaa905e3c6aa9448",
       "toolitems": [
        [
         "Home",
         "Reset original view",
         "home",
         "home"
        ],
        [
         "Back",
         "Back to previous view",
         "arrow-left",
         "back"
        ],
        [
         "Forward",
         "Forward to next view",
         "arrow-right",
         "forward"
        ],
        [
         "Pan",
         "Left button pans, Right button zooms\nx/y fixes axis, CTRL fixes aspect",
         "arrows",
         "pan"
        ],
        [
         "Zoom",
         "Zoom to rectangle\nx/y fixes axis, CTRL fixes aspect",
         "square-o",
         "zoom"
        ],
        [
         "Download",
         "Download plot",
         "floppy-o",
         "save_figure"
        ]
       ]
      }
     },
     "962d82e11d5641c99e9418d0105af9c3": {
      "model_module": "jupyter-matplotlib",
      "model_module_version": "^0.9.0",
      "model_name": "ToolbarModel",
      "state": {
       "layout": "IPY_MODEL_8f1c80cbf0e14538b36a055ce653f15b",
       "toolitems": [
        [
         "Home",
         "Reset original view",
         "home",
         "home"
        ],
        [
         "Back",
         "Back to previous view",
         "arrow-left",
         "back"
        ],
        [
         "Forward",
         "Forward to next view",
         "arrow-right",
         "forward"
        ],
        [
         "Pan",
         "Left button pans, Right button zooms\nx/y fixes axis, CTRL fixes aspect",
         "arrows",
         "pan"
        ],
        [
         "Zoom",
         "Zoom to rectangle\nx/y fixes axis, CTRL fixes aspect",
         "square-o",
         "zoom"
        ],
        [
         "Download",
         "Download plot",
         "floppy-o",
         "save_figure"
        ]
       ]
      }
     },
     "970be8c1fa354f458b64c5f9b3c45ac9": {
      "model_module": "jupyter-matplotlib",
      "model_module_version": "^0.9.0",
      "model_name": "MPLCanvasModel",
      "state": {
       "_cursor": "default",
       "_figure_label": "Figure 3",
       "_height": 288,
       "_width": 432,
       "layout": "IPY_MODEL_6532e3dd99f04c04bd785692b7037fc9",
       "toolbar": "IPY_MODEL_c2f710aecef743e8a3cc3d44089b62d9",
       "toolbar_position": "left"
      }
     },
     "99f7b460e90641b6b1eb73331e0dc0d2": {
      "model_module": "jupyter-matplotlib",
      "model_module_version": "^0.9.0",
      "model_name": "ToolbarModel",
      "state": {
       "layout": "IPY_MODEL_e73822b78b114ad9ad8a71a22ce37df5",
       "toolitems": [
        [
         "Home",
         "Reset original view",
         "home",
         "home"
        ],
        [
         "Back",
         "Back to previous view",
         "arrow-left",
         "back"
        ],
        [
         "Forward",
         "Forward to next view",
         "arrow-right",
         "forward"
        ],
        [
         "Pan",
         "Left button pans, Right button zooms\nx/y fixes axis, CTRL fixes aspect",
         "arrows",
         "pan"
        ],
        [
         "Zoom",
         "Zoom to rectangle\nx/y fixes axis, CTRL fixes aspect",
         "square-o",
         "zoom"
        ],
        [
         "Download",
         "Download plot",
         "floppy-o",
         "save_figure"
        ]
       ]
      }
     },
     "9b864356a3574131a2716d0626c670dc": {
      "model_module": "jupyter-matplotlib",
      "model_module_version": "^0.9.0",
      "model_name": "ToolbarModel",
      "state": {
       "layout": "IPY_MODEL_315407326d5d481e8fd571eaab0b8ff3",
       "toolitems": [
        [
         "Home",
         "Reset original view",
         "home",
         "home"
        ],
        [
         "Back",
         "Back to previous view",
         "arrow-left",
         "back"
        ],
        [
         "Forward",
         "Forward to next view",
         "arrow-right",
         "forward"
        ],
        [
         "Pan",
         "Left button pans, Right button zooms\nx/y fixes axis, CTRL fixes aspect",
         "arrows",
         "pan"
        ],
        [
         "Zoom",
         "Zoom to rectangle\nx/y fixes axis, CTRL fixes aspect",
         "square-o",
         "zoom"
        ],
        [
         "Download",
         "Download plot",
         "floppy-o",
         "save_figure"
        ]
       ]
      }
     },
     "9c7a1f11fb84426fbfd8cbbf07680814": {
      "model_module": "jupyter-matplotlib",
      "model_module_version": "^0.9.0",
      "model_name": "MPLCanvasModel",
      "state": {
       "_cursor": "crosshair",
       "_figure_label": "Figure 2",
       "_height": 288,
       "_message": "x=−90.35 y=94.8",
       "_rubberband_y": 288,
       "_width": 432,
       "layout": "IPY_MODEL_dbc258d1c3674da49f9396bf59576eae",
       "toolbar": "IPY_MODEL_1efe2471f84d4cd49867372cdd1e0f0e",
       "toolbar_position": "left"
      }
     },
     "9d65b8bf89824c5f99dbc22ccec3adcb": {
      "model_module": "@jupyter-widgets/base",
      "model_module_version": "1.2.0",
      "model_name": "LayoutModel",
      "state": {}
     },
     "a445c832b0cf45dca42a98cfdc4183fb": {
      "model_module": "@jupyter-widgets/base",
      "model_module_version": "1.2.0",
      "model_name": "LayoutModel",
      "state": {}
     },
     "a4e0689472064f3199012f98a0e1d2f4": {
      "model_module": "jupyter-matplotlib",
      "model_module_version": "^0.9.0",
      "model_name": "MPLCanvasModel",
      "state": {
       "_cursor": "default",
       "_figure_label": "Figure 33",
       "_height": 576,
       "_width": 864,
       "layout": "IPY_MODEL_fc1c794a01c549e88ccfc71dc83ac305",
       "toolbar": "IPY_MODEL_5a50d3f4ab944891902a7c6569f25c6d",
       "toolbar_position": "left"
      }
     },
     "a80777ff188249c789d730dffb6d669e": {
      "model_module": "@jupyter-widgets/base",
      "model_module_version": "1.2.0",
      "model_name": "LayoutModel",
      "state": {}
     },
     "a89bd88bfc6542068d7a9055ad27b98f": {
      "model_module": "@jupyter-widgets/base",
      "model_module_version": "1.2.0",
      "model_name": "LayoutModel",
      "state": {}
     },
     "a8a70c3982e044188b66c911fa2b16ef": {
      "model_module": "jupyter-matplotlib",
      "model_module_version": "^0.9.0",
      "model_name": "ToolbarModel",
      "state": {
       "layout": "IPY_MODEL_eda8ea79a9d843e9a944ee301a5b45f9",
       "toolitems": [
        [
         "Home",
         "Reset original view",
         "home",
         "home"
        ],
        [
         "Back",
         "Back to previous view",
         "arrow-left",
         "back"
        ],
        [
         "Forward",
         "Forward to next view",
         "arrow-right",
         "forward"
        ],
        [
         "Pan",
         "Left button pans, Right button zooms\nx/y fixes axis, CTRL fixes aspect",
         "arrows",
         "pan"
        ],
        [
         "Zoom",
         "Zoom to rectangle\nx/y fixes axis, CTRL fixes aspect",
         "square-o",
         "zoom"
        ],
        [
         "Download",
         "Download plot",
         "floppy-o",
         "save_figure"
        ]
       ]
      }
     },
     "aa348c107d6c4dc095ab6ff6669938c0": {
      "model_module": "@jupyter-widgets/base",
      "model_module_version": "1.2.0",
      "model_name": "LayoutModel",
      "state": {}
     },
     "aa93940f839941e692e15ea8c21d5e35": {
      "model_module": "@jupyter-widgets/base",
      "model_module_version": "1.2.0",
      "model_name": "LayoutModel",
      "state": {}
     },
     "ae6d2d6e0a0a4fd390df78ce17623c58": {
      "model_module": "@jupyter-widgets/base",
      "model_module_version": "1.2.0",
      "model_name": "LayoutModel",
      "state": {}
     },
     "b02540aa067549d0ba5b1fb367371319": {
      "model_module": "@jupyter-widgets/base",
      "model_module_version": "1.2.0",
      "model_name": "LayoutModel",
      "state": {}
     },
     "b3359aaa8fe041babd64097e265756cc": {
      "model_module": "jupyter-matplotlib",
      "model_module_version": "^0.9.0",
      "model_name": "ToolbarModel",
      "state": {
       "layout": "IPY_MODEL_5305dee3f39b402aa349dd1b4810eb75",
       "toolitems": [
        [
         "Home",
         "Reset original view",
         "home",
         "home"
        ],
        [
         "Back",
         "Back to previous view",
         "arrow-left",
         "back"
        ],
        [
         "Forward",
         "Forward to next view",
         "arrow-right",
         "forward"
        ],
        [
         "Pan",
         "Left button pans, Right button zooms\nx/y fixes axis, CTRL fixes aspect",
         "arrows",
         "pan"
        ],
        [
         "Zoom",
         "Zoom to rectangle\nx/y fixes axis, CTRL fixes aspect",
         "square-o",
         "zoom"
        ],
        [
         "Download",
         "Download plot",
         "floppy-o",
         "save_figure"
        ]
       ]
      }
     },
     "b33ee3ec134f431aaa57a47e2e4bf74a": {
      "model_module": "@jupyter-widgets/base",
      "model_module_version": "1.2.0",
      "model_name": "LayoutModel",
      "state": {}
     },
     "b34db8c9336340c59d259a5b89f748f8": {
      "model_module": "@jupyter-widgets/base",
      "model_module_version": "1.2.0",
      "model_name": "LayoutModel",
      "state": {}
     },
     "b43ac9df4f684a52a77c265c27b93604": {
      "model_module": "@jupyter-widgets/base",
      "model_module_version": "1.2.0",
      "model_name": "LayoutModel",
      "state": {}
     },
     "b8995a3ccc654306af55207ea1a92488": {
      "model_module": "jupyter-matplotlib",
      "model_module_version": "^0.9.0",
      "model_name": "MPLCanvasModel",
      "state": {
       "_cursor": "default",
       "_figure_label": "Figure 17",
       "_height": 288,
       "_width": 432,
       "layout": "IPY_MODEL_db665b62cd47499bb752f0e3f707805e",
       "toolbar": "IPY_MODEL_6f37bc6faed84c4f94198543a9879882",
       "toolbar_position": "left"
      }
     },
     "bac1c1eafb2749609f0aeac1888f9061": {
      "model_module": "@jupyter-widgets/base",
      "model_module_version": "1.2.0",
      "model_name": "LayoutModel",
      "state": {}
     },
     "bebcd6b0005743d7b7951b1ac2765aec": {
      "model_module": "@jupyter-widgets/base",
      "model_module_version": "1.2.0",
      "model_name": "LayoutModel",
      "state": {}
     },
     "bef7c8771be44a638a848940cc511a48": {
      "model_module": "@jupyter-widgets/base",
      "model_module_version": "1.2.0",
      "model_name": "LayoutModel",
      "state": {}
     },
     "c0182f3d783f46b19408987df72f8ea5": {
      "model_module": "jupyter-matplotlib",
      "model_module_version": "^0.9.0",
      "model_name": "MPLCanvasModel",
      "state": {
       "_cursor": "default",
       "_figure_label": "Figure 40",
       "_height": 576,
       "_width": 1152,
       "layout": "IPY_MODEL_c75523ff8a8d46bca9ff4d091e659c6c",
       "toolbar": "IPY_MODEL_272e7a3eafdf415fa4b6119098d537bd",
       "toolbar_position": "left"
      }
     },
     "c2f710aecef743e8a3cc3d44089b62d9": {
      "model_module": "jupyter-matplotlib",
      "model_module_version": "^0.9.0",
      "model_name": "ToolbarModel",
      "state": {
       "layout": "IPY_MODEL_e59279e335e74b1398bde08304b40584",
       "toolitems": [
        [
         "Home",
         "Reset original view",
         "home",
         "home"
        ],
        [
         "Back",
         "Back to previous view",
         "arrow-left",
         "back"
        ],
        [
         "Forward",
         "Forward to next view",
         "arrow-right",
         "forward"
        ],
        [
         "Pan",
         "Left button pans, Right button zooms\nx/y fixes axis, CTRL fixes aspect",
         "arrows",
         "pan"
        ],
        [
         "Zoom",
         "Zoom to rectangle\nx/y fixes axis, CTRL fixes aspect",
         "square-o",
         "zoom"
        ],
        [
         "Download",
         "Download plot",
         "floppy-o",
         "save_figure"
        ]
       ]
      }
     },
     "c35047ac1b0f443db62dfabd019913a4": {
      "model_module": "jupyter-matplotlib",
      "model_module_version": "^0.9.0",
      "model_name": "MPLCanvasModel",
      "state": {
       "_cursor": "default",
       "_figure_label": "Figure 25",
       "_height": 360,
       "_message": "x=−0.0024 y=258.4",
       "_width": 864,
       "layout": "IPY_MODEL_a80777ff188249c789d730dffb6d669e",
       "toolbar": "IPY_MODEL_21fe9bd6afc3426cafeba34b19de0687",
       "toolbar_position": "left"
      }
     },
     "c63827b4036a4e4e8389637d38e30dfe": {
      "model_module": "jupyter-matplotlib",
      "model_module_version": "^0.9.0",
      "model_name": "ToolbarModel",
      "state": {
       "layout": "IPY_MODEL_5864b77cee28467d837d0d3fd9a43dcc",
       "toolitems": [
        [
         "Home",
         "Reset original view",
         "home",
         "home"
        ],
        [
         "Back",
         "Back to previous view",
         "arrow-left",
         "back"
        ],
        [
         "Forward",
         "Forward to next view",
         "arrow-right",
         "forward"
        ],
        [
         "Pan",
         "Left button pans, Right button zooms\nx/y fixes axis, CTRL fixes aspect",
         "arrows",
         "pan"
        ],
        [
         "Zoom",
         "Zoom to rectangle\nx/y fixes axis, CTRL fixes aspect",
         "square-o",
         "zoom"
        ],
        [
         "Download",
         "Download plot",
         "floppy-o",
         "save_figure"
        ]
       ]
      }
     },
     "c75523ff8a8d46bca9ff4d091e659c6c": {
      "model_module": "@jupyter-widgets/base",
      "model_module_version": "1.2.0",
      "model_name": "LayoutModel",
      "state": {}
     },
     "c7b6f73b3ead48349ae39a788a6c66de": {
      "model_module": "jupyter-matplotlib",
      "model_module_version": "^0.9.0",
      "model_name": "MPLCanvasModel",
      "state": {
       "_cursor": "default",
       "_figure_label": "Figure 13",
       "_height": 288,
       "_width": 432,
       "layout": "IPY_MODEL_84c53b17ec994656b7762cdd3a04be36",
       "toolbar": "IPY_MODEL_99f7b460e90641b6b1eb73331e0dc0d2",
       "toolbar_position": "left"
      }
     },
     "c8a56412795845de806a89f1c7b28849": {
      "model_module": "@jupyter-widgets/base",
      "model_module_version": "1.2.0",
      "model_name": "LayoutModel",
      "state": {}
     },
     "c9af6d7d481442eea7ffb32c937c31e8": {
      "model_module": "@jupyter-widgets/base",
      "model_module_version": "1.2.0",
      "model_name": "LayoutModel",
      "state": {}
     },
     "cefe2cae434a430aa454bfa1eeabf239": {
      "model_module": "jupyter-matplotlib",
      "model_module_version": "^0.9.0",
      "model_name": "ToolbarModel",
      "state": {
       "layout": "IPY_MODEL_66e786c1321244e9b0f852739d125fb2",
       "toolitems": [
        [
         "Home",
         "Reset original view",
         "home",
         "home"
        ],
        [
         "Back",
         "Back to previous view",
         "arrow-left",
         "back"
        ],
        [
         "Forward",
         "Forward to next view",
         "arrow-right",
         "forward"
        ],
        [
         "Pan",
         "Left button pans, Right button zooms\nx/y fixes axis, CTRL fixes aspect",
         "arrows",
         "pan"
        ],
        [
         "Zoom",
         "Zoom to rectangle\nx/y fixes axis, CTRL fixes aspect",
         "square-o",
         "zoom"
        ],
        [
         "Download",
         "Download plot",
         "floppy-o",
         "save_figure"
        ]
       ]
      }
     },
     "cf16c1d40d00420c8a09c2dcf71d36de": {
      "model_module": "@jupyter-widgets/base",
      "model_module_version": "1.2.0",
      "model_name": "LayoutModel",
      "state": {}
     },
     "d09e061dfab141bb88989469e179777b": {
      "model_module": "@jupyter-widgets/base",
      "model_module_version": "1.2.0",
      "model_name": "LayoutModel",
      "state": {}
     },
     "d0baa7d542d84800a15409b96e6cae1d": {
      "model_module": "jupyter-matplotlib",
      "model_module_version": "^0.9.0",
      "model_name": "ToolbarModel",
      "state": {
       "layout": "IPY_MODEL_b33ee3ec134f431aaa57a47e2e4bf74a",
       "toolitems": [
        [
         "Home",
         "Reset original view",
         "home",
         "home"
        ],
        [
         "Back",
         "Back to previous view",
         "arrow-left",
         "back"
        ],
        [
         "Forward",
         "Forward to next view",
         "arrow-right",
         "forward"
        ],
        [
         "Pan",
         "Left button pans, Right button zooms\nx/y fixes axis, CTRL fixes aspect",
         "arrows",
         "pan"
        ],
        [
         "Zoom",
         "Zoom to rectangle\nx/y fixes axis, CTRL fixes aspect",
         "square-o",
         "zoom"
        ],
        [
         "Download",
         "Download plot",
         "floppy-o",
         "save_figure"
        ]
       ]
      }
     },
     "d0cdfa46a90948f8a1cb40198ca8986a": {
      "model_module": "@jupyter-widgets/base",
      "model_module_version": "1.2.0",
      "model_name": "LayoutModel",
      "state": {}
     },
     "d118870be30c4ef0885a01e7aef50fd0": {
      "model_module": "jupyter-matplotlib",
      "model_module_version": "^0.9.0",
      "model_name": "MPLCanvasModel",
      "state": {
       "_cursor": "default",
       "_figure_label": "Figure 32",
       "_height": 360,
       "_message": "x=−4.5 y=0.6406",
       "_width": 864,
       "layout": "IPY_MODEL_fac78aee1d9e4c0ba64048331b3750c6",
       "toolbar": "IPY_MODEL_eab33a8f9be94db0a54b86289845b35f",
       "toolbar_position": "left"
      }
     },
     "d20fce5322724c7e8e058e639e934821": {
      "model_module": "jupyter-matplotlib",
      "model_module_version": "^0.9.0",
      "model_name": "ToolbarModel",
      "state": {
       "layout": "IPY_MODEL_46974c2189194eb391670f529e2691d5",
       "toolitems": [
        [
         "Home",
         "Reset original view",
         "home",
         "home"
        ],
        [
         "Back",
         "Back to previous view",
         "arrow-left",
         "back"
        ],
        [
         "Forward",
         "Forward to next view",
         "arrow-right",
         "forward"
        ],
        [
         "Pan",
         "Left button pans, Right button zooms\nx/y fixes axis, CTRL fixes aspect",
         "arrows",
         "pan"
        ],
        [
         "Zoom",
         "Zoom to rectangle\nx/y fixes axis, CTRL fixes aspect",
         "square-o",
         "zoom"
        ],
        [
         "Download",
         "Download plot",
         "floppy-o",
         "save_figure"
        ]
       ]
      }
     },
     "d238c8d8a46243da8e0fc6a0aaccc8fc": {
      "model_module": "jupyter-matplotlib",
      "model_module_version": "^0.9.0",
      "model_name": "MPLCanvasModel",
      "state": {
       "_cursor": "default",
       "_figure_label": "Figure 36",
       "_height": 576,
       "_width": 1152,
       "layout": "IPY_MODEL_82b45eec6d534baea30185efe3ae5fcc",
       "toolbar": "IPY_MODEL_047998e74baf43d7b15c076be50d7a3d",
       "toolbar_position": "left"
      }
     },
     "d3db3bf5205d46ab82b86d45b724e83d": {
      "model_module": "jupyter-matplotlib",
      "model_module_version": "^0.9.0",
      "model_name": "MPLCanvasModel",
      "state": {
       "_cursor": "default",
       "_figure_label": "Figure 38",
       "_height": 576,
       "_width": 1152,
       "layout": "IPY_MODEL_bac1c1eafb2749609f0aeac1888f9061",
       "toolbar": "IPY_MODEL_74540a341b68406f8d19524c6d0c726c",
       "toolbar_position": "left"
      }
     },
     "d4b3cd89b23c45df9b6a6d378266e505": {
      "model_module": "@jupyter-widgets/base",
      "model_module_version": "1.2.0",
      "model_name": "LayoutModel",
      "state": {}
     },
     "d4d18210ecf545a1b9dfc3df374e6c98": {
      "model_module": "@jupyter-widgets/base",
      "model_module_version": "1.2.0",
      "model_name": "LayoutModel",
      "state": {}
     },
     "d67776e54a1840f99aab14a7f90f36b1": {
      "model_module": "@jupyter-widgets/base",
      "model_module_version": "1.2.0",
      "model_name": "LayoutModel",
      "state": {}
     },
     "d822b46d450a4325806075dc74ff87d9": {
      "model_module": "@jupyter-widgets/base",
      "model_module_version": "1.2.0",
      "model_name": "LayoutModel",
      "state": {}
     },
     "d8b3ab7df5cc440790c10abadef88e31": {
      "model_module": "@jupyter-widgets/base",
      "model_module_version": "1.2.0",
      "model_name": "LayoutModel",
      "state": {}
     },
     "d8fc6dcc0f7c406f887dcb7f86f6d0e7": {
      "model_module": "@jupyter-widgets/base",
      "model_module_version": "1.2.0",
      "model_name": "LayoutModel",
      "state": {}
     },
     "db5c8afd22464b88bd549e7865827f22": {
      "model_module": "@jupyter-widgets/base",
      "model_module_version": "1.2.0",
      "model_name": "LayoutModel",
      "state": {}
     },
     "db665b62cd47499bb752f0e3f707805e": {
      "model_module": "@jupyter-widgets/base",
      "model_module_version": "1.2.0",
      "model_name": "LayoutModel",
      "state": {}
     },
     "dbc258d1c3674da49f9396bf59576eae": {
      "model_module": "@jupyter-widgets/base",
      "model_module_version": "1.2.0",
      "model_name": "LayoutModel",
      "state": {}
     },
     "df33ce8e785947228d6dab8f00f962e1": {
      "model_module": "jupyter-matplotlib",
      "model_module_version": "^0.9.0",
      "model_name": "ToolbarModel",
      "state": {
       "layout": "IPY_MODEL_faaa66de948b4dddb20e3709baa1bc64",
       "toolitems": [
        [
         "Home",
         "Reset original view",
         "home",
         "home"
        ],
        [
         "Back",
         "Back to previous view",
         "arrow-left",
         "back"
        ],
        [
         "Forward",
         "Forward to next view",
         "arrow-right",
         "forward"
        ],
        [
         "Pan",
         "Left button pans, Right button zooms\nx/y fixes axis, CTRL fixes aspect",
         "arrows",
         "pan"
        ],
        [
         "Zoom",
         "Zoom to rectangle\nx/y fixes axis, CTRL fixes aspect",
         "square-o",
         "zoom"
        ],
        [
         "Download",
         "Download plot",
         "floppy-o",
         "save_figure"
        ]
       ]
      }
     },
     "e097ecdc2f124f7fb9e72fe25a0fe335": {
      "model_module": "@jupyter-widgets/base",
      "model_module_version": "1.2.0",
      "model_name": "LayoutModel",
      "state": {}
     },
     "e22c1da0fb4542268dd38be350e65a64": {
      "model_module": "jupyter-matplotlib",
      "model_module_version": "^0.9.0",
      "model_name": "ToolbarModel",
      "state": {
       "layout": "IPY_MODEL_7979b888c31145128715b4fedeaf2ba3",
       "toolitems": [
        [
         "Home",
         "Reset original view",
         "home",
         "home"
        ],
        [
         "Back",
         "Back to previous view",
         "arrow-left",
         "back"
        ],
        [
         "Forward",
         "Forward to next view",
         "arrow-right",
         "forward"
        ],
        [
         "Pan",
         "Left button pans, Right button zooms\nx/y fixes axis, CTRL fixes aspect",
         "arrows",
         "pan"
        ],
        [
         "Zoom",
         "Zoom to rectangle\nx/y fixes axis, CTRL fixes aspect",
         "square-o",
         "zoom"
        ],
        [
         "Download",
         "Download plot",
         "floppy-o",
         "save_figure"
        ]
       ]
      }
     },
     "e2ed79b6f1ad47f7b0478dcc21613b7d": {
      "model_module": "@jupyter-widgets/base",
      "model_module_version": "1.2.0",
      "model_name": "LayoutModel",
      "state": {}
     },
     "e38c6ab73d34436995cf0565420536e2": {
      "model_module": "@jupyter-widgets/base",
      "model_module_version": "1.2.0",
      "model_name": "LayoutModel",
      "state": {}
     },
     "e59279e335e74b1398bde08304b40584": {
      "model_module": "@jupyter-widgets/base",
      "model_module_version": "1.2.0",
      "model_name": "LayoutModel",
      "state": {}
     },
     "e73822b78b114ad9ad8a71a22ce37df5": {
      "model_module": "@jupyter-widgets/base",
      "model_module_version": "1.2.0",
      "model_name": "LayoutModel",
      "state": {}
     },
     "e7a94f5fb6fe487989536b7d488949a6": {
      "model_module": "@jupyter-widgets/base",
      "model_module_version": "1.2.0",
      "model_name": "LayoutModel",
      "state": {}
     },
     "e88eed40b43e4ad6805ca2c9883c89c1": {
      "model_module": "jupyter-matplotlib",
      "model_module_version": "^0.9.0",
      "model_name": "ToolbarModel",
      "state": {
       "_current_action": "zoom",
       "layout": "IPY_MODEL_b43ac9df4f684a52a77c265c27b93604",
       "toolitems": [
        [
         "Home",
         "Reset original view",
         "home",
         "home"
        ],
        [
         "Back",
         "Back to previous view",
         "arrow-left",
         "back"
        ],
        [
         "Forward",
         "Forward to next view",
         "arrow-right",
         "forward"
        ],
        [
         "Pan",
         "Left button pans, Right button zooms\nx/y fixes axis, CTRL fixes aspect",
         "arrows",
         "pan"
        ],
        [
         "Zoom",
         "Zoom to rectangle\nx/y fixes axis, CTRL fixes aspect",
         "square-o",
         "zoom"
        ],
        [
         "Download",
         "Download plot",
         "floppy-o",
         "save_figure"
        ]
       ]
      }
     },
     "ea884a39217249d4aa28a36372473fe3": {
      "model_module": "@jupyter-widgets/base",
      "model_module_version": "1.2.0",
      "model_name": "LayoutModel",
      "state": {}
     },
     "eab33a8f9be94db0a54b86289845b35f": {
      "model_module": "jupyter-matplotlib",
      "model_module_version": "^0.9.0",
      "model_name": "ToolbarModel",
      "state": {
       "layout": "IPY_MODEL_3272976e6eb34a5d834afa11b4f96a8c",
       "toolitems": [
        [
         "Home",
         "Reset original view",
         "home",
         "home"
        ],
        [
         "Back",
         "Back to previous view",
         "arrow-left",
         "back"
        ],
        [
         "Forward",
         "Forward to next view",
         "arrow-right",
         "forward"
        ],
        [
         "Pan",
         "Left button pans, Right button zooms\nx/y fixes axis, CTRL fixes aspect",
         "arrows",
         "pan"
        ],
        [
         "Zoom",
         "Zoom to rectangle\nx/y fixes axis, CTRL fixes aspect",
         "square-o",
         "zoom"
        ],
        [
         "Download",
         "Download plot",
         "floppy-o",
         "save_figure"
        ]
       ]
      }
     },
     "eb11ad77b7fa40e7970bc426be9a549c": {
      "model_module": "@jupyter-widgets/base",
      "model_module_version": "1.2.0",
      "model_name": "LayoutModel",
      "state": {}
     },
     "ec8dc6921a394ff19033454930592693": {
      "model_module": "@jupyter-widgets/base",
      "model_module_version": "1.2.0",
      "model_name": "LayoutModel",
      "state": {}
     },
     "eda8ea79a9d843e9a944ee301a5b45f9": {
      "model_module": "@jupyter-widgets/base",
      "model_module_version": "1.2.0",
      "model_name": "LayoutModel",
      "state": {}
     },
     "edb7772aee9843cda6e2e48fde5c8cb2": {
      "model_module": "jupyter-matplotlib",
      "model_module_version": "^0.9.0",
      "model_name": "MPLCanvasModel",
      "state": {
       "_cursor": "default",
       "_figure_label": "Figure 39",
       "_height": 576,
       "_width": 1152,
       "layout": "IPY_MODEL_4e155759eb8645a3a64d9292d19a67ce",
       "toolbar": "IPY_MODEL_81b9da88ef634def9ed9fbeb3f2563d1",
       "toolbar_position": "left"
      }
     },
     "ef4933de43114e208f34c910c738a2a4": {
      "model_module": "jupyter-matplotlib",
      "model_module_version": "^0.9.0",
      "model_name": "MPLCanvasModel",
      "state": {
       "_cursor": "default",
       "_figure_label": "Figure 9",
       "_height": 288,
       "_width": 432,
       "layout": "IPY_MODEL_aa93940f839941e692e15ea8c21d5e35",
       "toolbar": "IPY_MODEL_3f3367c83c6a4ac0ae8c8cc23cbd9835",
       "toolbar_position": "left"
      }
     },
     "f0235d240f3a4d69bd2949e09bcb660d": {
      "model_module": "@jupyter-widgets/base",
      "model_module_version": "1.2.0",
      "model_name": "LayoutModel",
      "state": {}
     },
     "f35e4eece78d4acdab08653956b7d94e": {
      "model_module": "@jupyter-widgets/base",
      "model_module_version": "1.2.0",
      "model_name": "LayoutModel",
      "state": {}
     },
     "f386514c9b944879b45ed2dfa6c3f303": {
      "model_module": "@jupyter-widgets/base",
      "model_module_version": "1.2.0",
      "model_name": "LayoutModel",
      "state": {}
     },
     "f3be64e4854c4ca1a265c3aa4a1fd849": {
      "model_module": "@jupyter-widgets/base",
      "model_module_version": "1.2.0",
      "model_name": "LayoutModel",
      "state": {}
     },
     "f92e201f457a40819d4ea9f11b273721": {
      "model_module": "jupyter-matplotlib",
      "model_module_version": "^0.9.0",
      "model_name": "MPLCanvasModel",
      "state": {
       "_cursor": "default",
       "_figure_label": "Figure 15",
       "_height": 288,
       "_message": "x=−206.7 y=44.",
       "_width": 432,
       "layout": "IPY_MODEL_7edac610b0e3458292f69a70329ad6d8",
       "toolbar": "IPY_MODEL_c63827b4036a4e4e8389637d38e30dfe",
       "toolbar_position": "left"
      }
     },
     "faaa66de948b4dddb20e3709baa1bc64": {
      "model_module": "@jupyter-widgets/base",
      "model_module_version": "1.2.0",
      "model_name": "LayoutModel",
      "state": {}
     },
     "fac78aee1d9e4c0ba64048331b3750c6": {
      "model_module": "@jupyter-widgets/base",
      "model_module_version": "1.2.0",
      "model_name": "LayoutModel",
      "state": {}
     },
     "fc1c794a01c549e88ccfc71dc83ac305": {
      "model_module": "@jupyter-widgets/base",
      "model_module_version": "1.2.0",
      "model_name": "LayoutModel",
      "state": {}
     },
     "fd80225266d1491d8d3b6bd14d8773ab": {
      "model_module": "jupyter-matplotlib",
      "model_module_version": "^0.9.0",
      "model_name": "MPLCanvasModel",
      "state": {
       "_cursor": "default",
       "_figure_label": "Figure 37",
       "_height": 576,
       "_width": 1152,
       "layout": "IPY_MODEL_5e6a846f7c7c46588bbebfec54d2dc9e",
       "toolbar": "IPY_MODEL_df33ce8e785947228d6dab8f00f962e1",
       "toolbar_position": "left"
      }
     }
    },
    "version_major": 2,
    "version_minor": 0
   }
  }
 },
 "nbformat": 4,
 "nbformat_minor": 5
}