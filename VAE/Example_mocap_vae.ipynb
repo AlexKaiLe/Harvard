{
 "cells": [
  {
   "cell_type": "markdown",
   "source": [
    "# Top of notebook"
   ],
   "metadata": {}
  },
  {
   "cell_type": "code",
   "execution_count": 2,
   "source": [
    "import numpy as np\n",
    "import glob\n",
    "import time\n",
    "import matplotlib.pyplot as plt\n",
    "from matplotlib.animation import FuncAnimation\n",
    "\n",
    "\n",
    "# %matplotlib widget\n",
    "# %matplotlib inline\n",
    "# %matplotlib widget\n",
    "%matplotlib notebook"
   ],
   "outputs": [],
   "metadata": {}
  },
  {
   "cell_type": "markdown",
   "source": [
    "## Loading data and visualizations"
   ],
   "metadata": {}
  },
  {
   "cell_type": "markdown",
   "source": [
    "The cell below loads a few npy files. They each have pose data from the original motinocapture files, however, **they are already\n",
    "egocentered** such that the rat always looks to the right."
   ],
   "metadata": {}
  },
  {
   "cell_type": "code",
   "execution_count": 3,
   "source": [
    "dnames = glob.glob('mocap_clean_eh5/*.npy')\n",
    "egoh5s = []\n",
    "for dname in dnames:\n",
    "    egoh5s.append(np.load(dname, allow_pickle=True))\n",
    "\n",
    "# egoh5s = [eh5.reshape((eh5.shape[0], eh5.shape[1]//3, 3)) for eh5 in egoh5s]"
   ],
   "outputs": [],
   "metadata": {}
  },
  {
   "cell_type": "code",
   "execution_count": 4,
   "source": [
    "connections2 = [[5, 4, 6], [4,17,18], [11,12], [0,2,15,17,16,3,1], [13,9,7,18,8,10,14]]\n",
    "\n",
    "fig, ax = plt.subplots()\n",
    "\n",
    "def animfunc(t, skip=1):\n",
    "    ax.clear()\n",
    "    lines = []\n",
    "    for conn in connections2:\n",
    "        conn = [3*i for i in conn]\n",
    "        lines.append(ax.plot(egoh5s[0][t*skip, conn], egoh5s[0][t*skip, [i+1 for i in conn]])[0])\n",
    "    ax.set_title('(%i, %i)'%((t, t*skip)))\n",
    "    return lines,\n",
    "\n",
    "anim = FuncAnimation(fig, animfunc, frames=20, fargs=(1500,), repeat=False)\n",
    "        \n",
    "#anim.event_source.stop()        "
   ],
   "outputs": [
    {
     "output_type": "display_data",
     "data": {
      "text/plain": [
       "<IPython.core.display.Javascript object>"
      ],
      "application/javascript": "/* Put everything inside the global mpl namespace */\n/* global mpl */\nwindow.mpl = {};\n\nmpl.get_websocket_type = function () {\n    if (typeof WebSocket !== 'undefined') {\n        return WebSocket;\n    } else if (typeof MozWebSocket !== 'undefined') {\n        return MozWebSocket;\n    } else {\n        alert(\n            'Your browser does not have WebSocket support. ' +\n                'Please try Chrome, Safari or Firefox ≥ 6. ' +\n                'Firefox 4 and 5 are also supported but you ' +\n                'have to enable WebSockets in about:config.'\n        );\n    }\n};\n\nmpl.figure = function (figure_id, websocket, ondownload, parent_element) {\n    this.id = figure_id;\n\n    this.ws = websocket;\n\n    this.supports_binary = this.ws.binaryType !== undefined;\n\n    if (!this.supports_binary) {\n        var warnings = document.getElementById('mpl-warnings');\n        if (warnings) {\n            warnings.style.display = 'block';\n            warnings.textContent =\n                'This browser does not support binary websocket messages. ' +\n                'Performance may be slow.';\n        }\n    }\n\n    this.imageObj = new Image();\n\n    this.context = undefined;\n    this.message = undefined;\n    this.canvas = undefined;\n    this.rubberband_canvas = undefined;\n    this.rubberband_context = undefined;\n    this.format_dropdown = undefined;\n\n    this.image_mode = 'full';\n\n    this.root = document.createElement('div');\n    this.root.setAttribute('style', 'display: inline-block');\n    this._root_extra_style(this.root);\n\n    parent_element.appendChild(this.root);\n\n    this._init_header(this);\n    this._init_canvas(this);\n    this._init_toolbar(this);\n\n    var fig = this;\n\n    this.waiting = false;\n\n    this.ws.onopen = function () {\n        fig.send_message('supports_binary', { value: fig.supports_binary });\n        fig.send_message('send_image_mode', {});\n        if (fig.ratio !== 1) {\n            fig.send_message('set_dpi_ratio', { dpi_ratio: fig.ratio });\n        }\n        fig.send_message('refresh', {});\n    };\n\n    this.imageObj.onload = function () {\n        if (fig.image_mode === 'full') {\n            // Full images could contain transparency (where diff images\n            // almost always do), so we need to clear the canvas so that\n            // there is no ghosting.\n            fig.context.clearRect(0, 0, fig.canvas.width, fig.canvas.height);\n        }\n        fig.context.drawImage(fig.imageObj, 0, 0);\n    };\n\n    this.imageObj.onunload = function () {\n        fig.ws.close();\n    };\n\n    this.ws.onmessage = this._make_on_message_function(this);\n\n    this.ondownload = ondownload;\n};\n\nmpl.figure.prototype._init_header = function () {\n    var titlebar = document.createElement('div');\n    titlebar.classList =\n        'ui-dialog-titlebar ui-widget-header ui-corner-all ui-helper-clearfix';\n    var titletext = document.createElement('div');\n    titletext.classList = 'ui-dialog-title';\n    titletext.setAttribute(\n        'style',\n        'width: 100%; text-align: center; padding: 3px;'\n    );\n    titlebar.appendChild(titletext);\n    this.root.appendChild(titlebar);\n    this.header = titletext;\n};\n\nmpl.figure.prototype._canvas_extra_style = function (_canvas_div) {};\n\nmpl.figure.prototype._root_extra_style = function (_canvas_div) {};\n\nmpl.figure.prototype._init_canvas = function () {\n    var fig = this;\n\n    var canvas_div = (this.canvas_div = document.createElement('div'));\n    canvas_div.setAttribute(\n        'style',\n        'border: 1px solid #ddd;' +\n            'box-sizing: content-box;' +\n            'clear: both;' +\n            'min-height: 1px;' +\n            'min-width: 1px;' +\n            'outline: 0;' +\n            'overflow: hidden;' +\n            'position: relative;' +\n            'resize: both;'\n    );\n\n    function on_keyboard_event_closure(name) {\n        return function (event) {\n            return fig.key_event(event, name);\n        };\n    }\n\n    canvas_div.addEventListener(\n        'keydown',\n        on_keyboard_event_closure('key_press')\n    );\n    canvas_div.addEventListener(\n        'keyup',\n        on_keyboard_event_closure('key_release')\n    );\n\n    this._canvas_extra_style(canvas_div);\n    this.root.appendChild(canvas_div);\n\n    var canvas = (this.canvas = document.createElement('canvas'));\n    canvas.classList.add('mpl-canvas');\n    canvas.setAttribute('style', 'box-sizing: content-box;');\n\n    this.context = canvas.getContext('2d');\n\n    var backingStore =\n        this.context.backingStorePixelRatio ||\n        this.context.webkitBackingStorePixelRatio ||\n        this.context.mozBackingStorePixelRatio ||\n        this.context.msBackingStorePixelRatio ||\n        this.context.oBackingStorePixelRatio ||\n        this.context.backingStorePixelRatio ||\n        1;\n\n    this.ratio = (window.devicePixelRatio || 1) / backingStore;\n\n    var rubberband_canvas = (this.rubberband_canvas = document.createElement(\n        'canvas'\n    ));\n    rubberband_canvas.setAttribute(\n        'style',\n        'box-sizing: content-box; position: absolute; left: 0; top: 0; z-index: 1;'\n    );\n\n    // Apply a ponyfill if ResizeObserver is not implemented by browser.\n    if (this.ResizeObserver === undefined) {\n        if (window.ResizeObserver !== undefined) {\n            this.ResizeObserver = window.ResizeObserver;\n        } else {\n            var obs = _JSXTOOLS_RESIZE_OBSERVER({});\n            this.ResizeObserver = obs.ResizeObserver;\n        }\n    }\n\n    this.resizeObserverInstance = new this.ResizeObserver(function (entries) {\n        var nentries = entries.length;\n        for (var i = 0; i < nentries; i++) {\n            var entry = entries[i];\n            var width, height;\n            if (entry.contentBoxSize) {\n                if (entry.contentBoxSize instanceof Array) {\n                    // Chrome 84 implements new version of spec.\n                    width = entry.contentBoxSize[0].inlineSize;\n                    height = entry.contentBoxSize[0].blockSize;\n                } else {\n                    // Firefox implements old version of spec.\n                    width = entry.contentBoxSize.inlineSize;\n                    height = entry.contentBoxSize.blockSize;\n                }\n            } else {\n                // Chrome <84 implements even older version of spec.\n                width = entry.contentRect.width;\n                height = entry.contentRect.height;\n            }\n\n            // Keep the size of the canvas and rubber band canvas in sync with\n            // the canvas container.\n            if (entry.devicePixelContentBoxSize) {\n                // Chrome 84 implements new version of spec.\n                canvas.setAttribute(\n                    'width',\n                    entry.devicePixelContentBoxSize[0].inlineSize\n                );\n                canvas.setAttribute(\n                    'height',\n                    entry.devicePixelContentBoxSize[0].blockSize\n                );\n            } else {\n                canvas.setAttribute('width', width * fig.ratio);\n                canvas.setAttribute('height', height * fig.ratio);\n            }\n            canvas.setAttribute(\n                'style',\n                'width: ' + width + 'px; height: ' + height + 'px;'\n            );\n\n            rubberband_canvas.setAttribute('width', width);\n            rubberband_canvas.setAttribute('height', height);\n\n            // And update the size in Python. We ignore the initial 0/0 size\n            // that occurs as the element is placed into the DOM, which should\n            // otherwise not happen due to the minimum size styling.\n            if (fig.ws.readyState == 1 && width != 0 && height != 0) {\n                fig.request_resize(width, height);\n            }\n        }\n    });\n    this.resizeObserverInstance.observe(canvas_div);\n\n    function on_mouse_event_closure(name) {\n        return function (event) {\n            return fig.mouse_event(event, name);\n        };\n    }\n\n    rubberband_canvas.addEventListener(\n        'mousedown',\n        on_mouse_event_closure('button_press')\n    );\n    rubberband_canvas.addEventListener(\n        'mouseup',\n        on_mouse_event_closure('button_release')\n    );\n    rubberband_canvas.addEventListener(\n        'dblclick',\n        on_mouse_event_closure('dblclick')\n    );\n    // Throttle sequential mouse events to 1 every 20ms.\n    rubberband_canvas.addEventListener(\n        'mousemove',\n        on_mouse_event_closure('motion_notify')\n    );\n\n    rubberband_canvas.addEventListener(\n        'mouseenter',\n        on_mouse_event_closure('figure_enter')\n    );\n    rubberband_canvas.addEventListener(\n        'mouseleave',\n        on_mouse_event_closure('figure_leave')\n    );\n\n    canvas_div.addEventListener('wheel', function (event) {\n        if (event.deltaY < 0) {\n            event.step = 1;\n        } else {\n            event.step = -1;\n        }\n        on_mouse_event_closure('scroll')(event);\n    });\n\n    canvas_div.appendChild(canvas);\n    canvas_div.appendChild(rubberband_canvas);\n\n    this.rubberband_context = rubberband_canvas.getContext('2d');\n    this.rubberband_context.strokeStyle = '#000000';\n\n    this._resize_canvas = function (width, height, forward) {\n        if (forward) {\n            canvas_div.style.width = width + 'px';\n            canvas_div.style.height = height + 'px';\n        }\n    };\n\n    // Disable right mouse context menu.\n    this.rubberband_canvas.addEventListener('contextmenu', function (_e) {\n        event.preventDefault();\n        return false;\n    });\n\n    function set_focus() {\n        canvas.focus();\n        canvas_div.focus();\n    }\n\n    window.setTimeout(set_focus, 100);\n};\n\nmpl.figure.prototype._init_toolbar = function () {\n    var fig = this;\n\n    var toolbar = document.createElement('div');\n    toolbar.classList = 'mpl-toolbar';\n    this.root.appendChild(toolbar);\n\n    function on_click_closure(name) {\n        return function (_event) {\n            return fig.toolbar_button_onclick(name);\n        };\n    }\n\n    function on_mouseover_closure(tooltip) {\n        return function (event) {\n            if (!event.currentTarget.disabled) {\n                return fig.toolbar_button_onmouseover(tooltip);\n            }\n        };\n    }\n\n    fig.buttons = {};\n    var buttonGroup = document.createElement('div');\n    buttonGroup.classList = 'mpl-button-group';\n    for (var toolbar_ind in mpl.toolbar_items) {\n        var name = mpl.toolbar_items[toolbar_ind][0];\n        var tooltip = mpl.toolbar_items[toolbar_ind][1];\n        var image = mpl.toolbar_items[toolbar_ind][2];\n        var method_name = mpl.toolbar_items[toolbar_ind][3];\n\n        if (!name) {\n            /* Instead of a spacer, we start a new button group. */\n            if (buttonGroup.hasChildNodes()) {\n                toolbar.appendChild(buttonGroup);\n            }\n            buttonGroup = document.createElement('div');\n            buttonGroup.classList = 'mpl-button-group';\n            continue;\n        }\n\n        var button = (fig.buttons[name] = document.createElement('button'));\n        button.classList = 'mpl-widget';\n        button.setAttribute('role', 'button');\n        button.setAttribute('aria-disabled', 'false');\n        button.addEventListener('click', on_click_closure(method_name));\n        button.addEventListener('mouseover', on_mouseover_closure(tooltip));\n\n        var icon_img = document.createElement('img');\n        icon_img.src = '_images/' + image + '.png';\n        icon_img.srcset = '_images/' + image + '_large.png 2x';\n        icon_img.alt = tooltip;\n        button.appendChild(icon_img);\n\n        buttonGroup.appendChild(button);\n    }\n\n    if (buttonGroup.hasChildNodes()) {\n        toolbar.appendChild(buttonGroup);\n    }\n\n    var fmt_picker = document.createElement('select');\n    fmt_picker.classList = 'mpl-widget';\n    toolbar.appendChild(fmt_picker);\n    this.format_dropdown = fmt_picker;\n\n    for (var ind in mpl.extensions) {\n        var fmt = mpl.extensions[ind];\n        var option = document.createElement('option');\n        option.selected = fmt === mpl.default_extension;\n        option.innerHTML = fmt;\n        fmt_picker.appendChild(option);\n    }\n\n    var status_bar = document.createElement('span');\n    status_bar.classList = 'mpl-message';\n    toolbar.appendChild(status_bar);\n    this.message = status_bar;\n};\n\nmpl.figure.prototype.request_resize = function (x_pixels, y_pixels) {\n    // Request matplotlib to resize the figure. Matplotlib will then trigger a resize in the client,\n    // which will in turn request a refresh of the image.\n    this.send_message('resize', { width: x_pixels, height: y_pixels });\n};\n\nmpl.figure.prototype.send_message = function (type, properties) {\n    properties['type'] = type;\n    properties['figure_id'] = this.id;\n    this.ws.send(JSON.stringify(properties));\n};\n\nmpl.figure.prototype.send_draw_message = function () {\n    if (!this.waiting) {\n        this.waiting = true;\n        this.ws.send(JSON.stringify({ type: 'draw', figure_id: this.id }));\n    }\n};\n\nmpl.figure.prototype.handle_save = function (fig, _msg) {\n    var format_dropdown = fig.format_dropdown;\n    var format = format_dropdown.options[format_dropdown.selectedIndex].value;\n    fig.ondownload(fig, format);\n};\n\nmpl.figure.prototype.handle_resize = function (fig, msg) {\n    var size = msg['size'];\n    if (size[0] !== fig.canvas.width || size[1] !== fig.canvas.height) {\n        fig._resize_canvas(size[0], size[1], msg['forward']);\n        fig.send_message('refresh', {});\n    }\n};\n\nmpl.figure.prototype.handle_rubberband = function (fig, msg) {\n    var x0 = msg['x0'] / fig.ratio;\n    var y0 = (fig.canvas.height - msg['y0']) / fig.ratio;\n    var x1 = msg['x1'] / fig.ratio;\n    var y1 = (fig.canvas.height - msg['y1']) / fig.ratio;\n    x0 = Math.floor(x0) + 0.5;\n    y0 = Math.floor(y0) + 0.5;\n    x1 = Math.floor(x1) + 0.5;\n    y1 = Math.floor(y1) + 0.5;\n    var min_x = Math.min(x0, x1);\n    var min_y = Math.min(y0, y1);\n    var width = Math.abs(x1 - x0);\n    var height = Math.abs(y1 - y0);\n\n    fig.rubberband_context.clearRect(\n        0,\n        0,\n        fig.canvas.width / fig.ratio,\n        fig.canvas.height / fig.ratio\n    );\n\n    fig.rubberband_context.strokeRect(min_x, min_y, width, height);\n};\n\nmpl.figure.prototype.handle_figure_label = function (fig, msg) {\n    // Updates the figure title.\n    fig.header.textContent = msg['label'];\n};\n\nmpl.figure.prototype.handle_cursor = function (fig, msg) {\n    var cursor = msg['cursor'];\n    switch (cursor) {\n        case 0:\n            cursor = 'pointer';\n            break;\n        case 1:\n            cursor = 'default';\n            break;\n        case 2:\n            cursor = 'crosshair';\n            break;\n        case 3:\n            cursor = 'move';\n            break;\n    }\n    fig.rubberband_canvas.style.cursor = cursor;\n};\n\nmpl.figure.prototype.handle_message = function (fig, msg) {\n    fig.message.textContent = msg['message'];\n};\n\nmpl.figure.prototype.handle_draw = function (fig, _msg) {\n    // Request the server to send over a new figure.\n    fig.send_draw_message();\n};\n\nmpl.figure.prototype.handle_image_mode = function (fig, msg) {\n    fig.image_mode = msg['mode'];\n};\n\nmpl.figure.prototype.handle_history_buttons = function (fig, msg) {\n    for (var key in msg) {\n        if (!(key in fig.buttons)) {\n            continue;\n        }\n        fig.buttons[key].disabled = !msg[key];\n        fig.buttons[key].setAttribute('aria-disabled', !msg[key]);\n    }\n};\n\nmpl.figure.prototype.handle_navigate_mode = function (fig, msg) {\n    if (msg['mode'] === 'PAN') {\n        fig.buttons['Pan'].classList.add('active');\n        fig.buttons['Zoom'].classList.remove('active');\n    } else if (msg['mode'] === 'ZOOM') {\n        fig.buttons['Pan'].classList.remove('active');\n        fig.buttons['Zoom'].classList.add('active');\n    } else {\n        fig.buttons['Pan'].classList.remove('active');\n        fig.buttons['Zoom'].classList.remove('active');\n    }\n};\n\nmpl.figure.prototype.updated_canvas_event = function () {\n    // Called whenever the canvas gets updated.\n    this.send_message('ack', {});\n};\n\n// A function to construct a web socket function for onmessage handling.\n// Called in the figure constructor.\nmpl.figure.prototype._make_on_message_function = function (fig) {\n    return function socket_on_message(evt) {\n        if (evt.data instanceof Blob) {\n            var img = evt.data;\n            if (img.type !== 'image/png') {\n                /* FIXME: We get \"Resource interpreted as Image but\n                 * transferred with MIME type text/plain:\" errors on\n                 * Chrome.  But how to set the MIME type?  It doesn't seem\n                 * to be part of the websocket stream */\n                img.type = 'image/png';\n            }\n\n            /* Free the memory for the previous frames */\n            if (fig.imageObj.src) {\n                (window.URL || window.webkitURL).revokeObjectURL(\n                    fig.imageObj.src\n                );\n            }\n\n            fig.imageObj.src = (window.URL || window.webkitURL).createObjectURL(\n                img\n            );\n            fig.updated_canvas_event();\n            fig.waiting = false;\n            return;\n        } else if (\n            typeof evt.data === 'string' &&\n            evt.data.slice(0, 21) === 'data:image/png;base64'\n        ) {\n            fig.imageObj.src = evt.data;\n            fig.updated_canvas_event();\n            fig.waiting = false;\n            return;\n        }\n\n        var msg = JSON.parse(evt.data);\n        var msg_type = msg['type'];\n\n        // Call the  \"handle_{type}\" callback, which takes\n        // the figure and JSON message as its only arguments.\n        try {\n            var callback = fig['handle_' + msg_type];\n        } catch (e) {\n            console.log(\n                \"No handler for the '\" + msg_type + \"' message type: \",\n                msg\n            );\n            return;\n        }\n\n        if (callback) {\n            try {\n                // console.log(\"Handling '\" + msg_type + \"' message: \", msg);\n                callback(fig, msg);\n            } catch (e) {\n                console.log(\n                    \"Exception inside the 'handler_\" + msg_type + \"' callback:\",\n                    e,\n                    e.stack,\n                    msg\n                );\n            }\n        }\n    };\n};\n\n// from http://stackoverflow.com/questions/1114465/getting-mouse-location-in-canvas\nmpl.findpos = function (e) {\n    //this section is from http://www.quirksmode.org/js/events_properties.html\n    var targ;\n    if (!e) {\n        e = window.event;\n    }\n    if (e.target) {\n        targ = e.target;\n    } else if (e.srcElement) {\n        targ = e.srcElement;\n    }\n    if (targ.nodeType === 3) {\n        // defeat Safari bug\n        targ = targ.parentNode;\n    }\n\n    // pageX,Y are the mouse positions relative to the document\n    var boundingRect = targ.getBoundingClientRect();\n    var x = e.pageX - (boundingRect.left + document.body.scrollLeft);\n    var y = e.pageY - (boundingRect.top + document.body.scrollTop);\n\n    return { x: x, y: y };\n};\n\n/*\n * return a copy of an object with only non-object keys\n * we need this to avoid circular references\n * http://stackoverflow.com/a/24161582/3208463\n */\nfunction simpleKeys(original) {\n    return Object.keys(original).reduce(function (obj, key) {\n        if (typeof original[key] !== 'object') {\n            obj[key] = original[key];\n        }\n        return obj;\n    }, {});\n}\n\nmpl.figure.prototype.mouse_event = function (event, name) {\n    var canvas_pos = mpl.findpos(event);\n\n    if (name === 'button_press') {\n        this.canvas.focus();\n        this.canvas_div.focus();\n    }\n\n    var x = canvas_pos.x * this.ratio;\n    var y = canvas_pos.y * this.ratio;\n\n    this.send_message(name, {\n        x: x,\n        y: y,\n        button: event.button,\n        step: event.step,\n        guiEvent: simpleKeys(event),\n    });\n\n    /* This prevents the web browser from automatically changing to\n     * the text insertion cursor when the button is pressed.  We want\n     * to control all of the cursor setting manually through the\n     * 'cursor' event from matplotlib */\n    event.preventDefault();\n    return false;\n};\n\nmpl.figure.prototype._key_event_extra = function (_event, _name) {\n    // Handle any extra behaviour associated with a key event\n};\n\nmpl.figure.prototype.key_event = function (event, name) {\n    // Prevent repeat events\n    if (name === 'key_press') {\n        if (event.key === this._key) {\n            return;\n        } else {\n            this._key = event.key;\n        }\n    }\n    if (name === 'key_release') {\n        this._key = null;\n    }\n\n    var value = '';\n    if (event.ctrlKey && event.key !== 'Control') {\n        value += 'ctrl+';\n    }\n    else if (event.altKey && event.key !== 'Alt') {\n        value += 'alt+';\n    }\n    else if (event.shiftKey && event.key !== 'Shift') {\n        value += 'shift+';\n    }\n\n    value += 'k' + event.key;\n\n    this._key_event_extra(event, name);\n\n    this.send_message(name, { key: value, guiEvent: simpleKeys(event) });\n    return false;\n};\n\nmpl.figure.prototype.toolbar_button_onclick = function (name) {\n    if (name === 'download') {\n        this.handle_save(this, null);\n    } else {\n        this.send_message('toolbar_button', { name: name });\n    }\n};\n\nmpl.figure.prototype.toolbar_button_onmouseover = function (tooltip) {\n    this.message.textContent = tooltip;\n};\n\n///////////////// REMAINING CONTENT GENERATED BY embed_js.py /////////////////\n// prettier-ignore\nvar _JSXTOOLS_RESIZE_OBSERVER=function(A){var t,i=new WeakMap,n=new WeakMap,a=new WeakMap,r=new WeakMap,o=new Set;function s(e){if(!(this instanceof s))throw new TypeError(\"Constructor requires 'new' operator\");i.set(this,e)}function h(){throw new TypeError(\"Function is not a constructor\")}function c(e,t,i,n){e=0 in arguments?Number(arguments[0]):0,t=1 in arguments?Number(arguments[1]):0,i=2 in arguments?Number(arguments[2]):0,n=3 in arguments?Number(arguments[3]):0,this.right=(this.x=this.left=e)+(this.width=i),this.bottom=(this.y=this.top=t)+(this.height=n),Object.freeze(this)}function d(){t=requestAnimationFrame(d);var s=new WeakMap,p=new Set;o.forEach((function(t){r.get(t).forEach((function(i){var r=t instanceof window.SVGElement,o=a.get(t),d=r?0:parseFloat(o.paddingTop),f=r?0:parseFloat(o.paddingRight),l=r?0:parseFloat(o.paddingBottom),u=r?0:parseFloat(o.paddingLeft),g=r?0:parseFloat(o.borderTopWidth),m=r?0:parseFloat(o.borderRightWidth),w=r?0:parseFloat(o.borderBottomWidth),b=u+f,F=d+l,v=(r?0:parseFloat(o.borderLeftWidth))+m,W=g+w,y=r?0:t.offsetHeight-W-t.clientHeight,E=r?0:t.offsetWidth-v-t.clientWidth,R=b+v,z=F+W,M=r?t.width:parseFloat(o.width)-R-E,O=r?t.height:parseFloat(o.height)-z-y;if(n.has(t)){var k=n.get(t);if(k[0]===M&&k[1]===O)return}n.set(t,[M,O]);var S=Object.create(h.prototype);S.target=t,S.contentRect=new c(u,d,M,O),s.has(i)||(s.set(i,[]),p.add(i)),s.get(i).push(S)}))})),p.forEach((function(e){i.get(e).call(e,s.get(e),e)}))}return s.prototype.observe=function(i){if(i instanceof window.Element){r.has(i)||(r.set(i,new Set),o.add(i),a.set(i,window.getComputedStyle(i)));var n=r.get(i);n.has(this)||n.add(this),cancelAnimationFrame(t),t=requestAnimationFrame(d)}},s.prototype.unobserve=function(i){if(i instanceof window.Element&&r.has(i)){var n=r.get(i);n.has(this)&&(n.delete(this),n.size||(r.delete(i),o.delete(i))),n.size||r.delete(i),o.size||cancelAnimationFrame(t)}},A.DOMRectReadOnly=c,A.ResizeObserver=s,A.ResizeObserverEntry=h,A}; // eslint-disable-line\nmpl.toolbar_items = [[\"Home\", \"Reset original view\", \"fa fa-home icon-home\", \"home\"], [\"Back\", \"Back to previous view\", \"fa fa-arrow-left icon-arrow-left\", \"back\"], [\"Forward\", \"Forward to next view\", \"fa fa-arrow-right icon-arrow-right\", \"forward\"], [\"\", \"\", \"\", \"\"], [\"Pan\", \"Left button pans, Right button zooms\\nx/y fixes axis, CTRL fixes aspect\", \"fa fa-arrows icon-move\", \"pan\"], [\"Zoom\", \"Zoom to rectangle\\nx/y fixes axis, CTRL fixes aspect\", \"fa fa-square-o icon-check-empty\", \"zoom\"], [\"\", \"\", \"\", \"\"], [\"Download\", \"Download plot\", \"fa fa-floppy-o icon-save\", \"download\"]];\n\nmpl.extensions = [\"eps\", \"jpeg\", \"pgf\", \"pdf\", \"png\", \"ps\", \"raw\", \"svg\", \"tif\"];\n\nmpl.default_extension = \"png\";/* global mpl */\n\nvar comm_websocket_adapter = function (comm) {\n    // Create a \"websocket\"-like object which calls the given IPython comm\n    // object with the appropriate methods. Currently this is a non binary\n    // socket, so there is still some room for performance tuning.\n    var ws = {};\n\n    ws.binaryType = comm.kernel.ws.binaryType;\n    ws.readyState = comm.kernel.ws.readyState;\n    function updateReadyState(_event) {\n        if (comm.kernel.ws) {\n            ws.readyState = comm.kernel.ws.readyState;\n        } else {\n            ws.readyState = 3; // Closed state.\n        }\n    }\n    comm.kernel.ws.addEventListener('open', updateReadyState);\n    comm.kernel.ws.addEventListener('close', updateReadyState);\n    comm.kernel.ws.addEventListener('error', updateReadyState);\n\n    ws.close = function () {\n        comm.close();\n    };\n    ws.send = function (m) {\n        //console.log('sending', m);\n        comm.send(m);\n    };\n    // Register the callback with on_msg.\n    comm.on_msg(function (msg) {\n        //console.log('receiving', msg['content']['data'], msg);\n        var data = msg['content']['data'];\n        if (data['blob'] !== undefined) {\n            data = {\n                data: new Blob(msg['buffers'], { type: data['blob'] }),\n            };\n        }\n        // Pass the mpl event to the overridden (by mpl) onmessage function.\n        ws.onmessage(data);\n    });\n    return ws;\n};\n\nmpl.mpl_figure_comm = function (comm, msg) {\n    // This is the function which gets called when the mpl process\n    // starts-up an IPython Comm through the \"matplotlib\" channel.\n\n    var id = msg.content.data.id;\n    // Get hold of the div created by the display call when the Comm\n    // socket was opened in Python.\n    var element = document.getElementById(id);\n    var ws_proxy = comm_websocket_adapter(comm);\n\n    function ondownload(figure, _format) {\n        window.open(figure.canvas.toDataURL());\n    }\n\n    var fig = new mpl.figure(id, ws_proxy, ondownload, element);\n\n    // Call onopen now - mpl needs it, as it is assuming we've passed it a real\n    // web socket which is closed, not our websocket->open comm proxy.\n    ws_proxy.onopen();\n\n    fig.parent_element = element;\n    fig.cell_info = mpl.find_output_cell(\"<div id='\" + id + \"'></div>\");\n    if (!fig.cell_info) {\n        console.error('Failed to find cell for figure', id, fig);\n        return;\n    }\n    fig.cell_info[0].output_area.element.on(\n        'cleared',\n        { fig: fig },\n        fig._remove_fig_handler\n    );\n};\n\nmpl.figure.prototype.handle_close = function (fig, msg) {\n    var width = fig.canvas.width / fig.ratio;\n    fig.cell_info[0].output_area.element.off(\n        'cleared',\n        fig._remove_fig_handler\n    );\n    fig.resizeObserverInstance.unobserve(fig.canvas_div);\n\n    // Update the output cell to use the data from the current canvas.\n    fig.push_to_output();\n    var dataURL = fig.canvas.toDataURL();\n    // Re-enable the keyboard manager in IPython - without this line, in FF,\n    // the notebook keyboard shortcuts fail.\n    IPython.keyboard_manager.enable();\n    fig.parent_element.innerHTML =\n        '<img src=\"' + dataURL + '\" width=\"' + width + '\">';\n    fig.close_ws(fig, msg);\n};\n\nmpl.figure.prototype.close_ws = function (fig, msg) {\n    fig.send_message('closing', msg);\n    // fig.ws.close()\n};\n\nmpl.figure.prototype.push_to_output = function (_remove_interactive) {\n    // Turn the data on the canvas into data in the output cell.\n    var width = this.canvas.width / this.ratio;\n    var dataURL = this.canvas.toDataURL();\n    this.cell_info[1]['text/html'] =\n        '<img src=\"' + dataURL + '\" width=\"' + width + '\">';\n};\n\nmpl.figure.prototype.updated_canvas_event = function () {\n    // Tell IPython that the notebook contents must change.\n    IPython.notebook.set_dirty(true);\n    this.send_message('ack', {});\n    var fig = this;\n    // Wait a second, then push the new image to the DOM so\n    // that it is saved nicely (might be nice to debounce this).\n    setTimeout(function () {\n        fig.push_to_output();\n    }, 1000);\n};\n\nmpl.figure.prototype._init_toolbar = function () {\n    var fig = this;\n\n    var toolbar = document.createElement('div');\n    toolbar.classList = 'btn-toolbar';\n    this.root.appendChild(toolbar);\n\n    function on_click_closure(name) {\n        return function (_event) {\n            return fig.toolbar_button_onclick(name);\n        };\n    }\n\n    function on_mouseover_closure(tooltip) {\n        return function (event) {\n            if (!event.currentTarget.disabled) {\n                return fig.toolbar_button_onmouseover(tooltip);\n            }\n        };\n    }\n\n    fig.buttons = {};\n    var buttonGroup = document.createElement('div');\n    buttonGroup.classList = 'btn-group';\n    var button;\n    for (var toolbar_ind in mpl.toolbar_items) {\n        var name = mpl.toolbar_items[toolbar_ind][0];\n        var tooltip = mpl.toolbar_items[toolbar_ind][1];\n        var image = mpl.toolbar_items[toolbar_ind][2];\n        var method_name = mpl.toolbar_items[toolbar_ind][3];\n\n        if (!name) {\n            /* Instead of a spacer, we start a new button group. */\n            if (buttonGroup.hasChildNodes()) {\n                toolbar.appendChild(buttonGroup);\n            }\n            buttonGroup = document.createElement('div');\n            buttonGroup.classList = 'btn-group';\n            continue;\n        }\n\n        button = fig.buttons[name] = document.createElement('button');\n        button.classList = 'btn btn-default';\n        button.href = '#';\n        button.title = name;\n        button.innerHTML = '<i class=\"fa ' + image + ' fa-lg\"></i>';\n        button.addEventListener('click', on_click_closure(method_name));\n        button.addEventListener('mouseover', on_mouseover_closure(tooltip));\n        buttonGroup.appendChild(button);\n    }\n\n    if (buttonGroup.hasChildNodes()) {\n        toolbar.appendChild(buttonGroup);\n    }\n\n    // Add the status bar.\n    var status_bar = document.createElement('span');\n    status_bar.classList = 'mpl-message pull-right';\n    toolbar.appendChild(status_bar);\n    this.message = status_bar;\n\n    // Add the close button to the window.\n    var buttongrp = document.createElement('div');\n    buttongrp.classList = 'btn-group inline pull-right';\n    button = document.createElement('button');\n    button.classList = 'btn btn-mini btn-primary';\n    button.href = '#';\n    button.title = 'Stop Interaction';\n    button.innerHTML = '<i class=\"fa fa-power-off icon-remove icon-large\"></i>';\n    button.addEventListener('click', function (_evt) {\n        fig.handle_close(fig, {});\n    });\n    button.addEventListener(\n        'mouseover',\n        on_mouseover_closure('Stop Interaction')\n    );\n    buttongrp.appendChild(button);\n    var titlebar = this.root.querySelector('.ui-dialog-titlebar');\n    titlebar.insertBefore(buttongrp, titlebar.firstChild);\n};\n\nmpl.figure.prototype._remove_fig_handler = function (event) {\n    var fig = event.data.fig;\n    if (event.target !== this) {\n        // Ignore bubbled events from children.\n        return;\n    }\n    fig.close_ws(fig, {});\n};\n\nmpl.figure.prototype._root_extra_style = function (el) {\n    el.style.boxSizing = 'content-box'; // override notebook setting of border-box.\n};\n\nmpl.figure.prototype._canvas_extra_style = function (el) {\n    // this is important to make the div 'focusable\n    el.setAttribute('tabindex', 0);\n    // reach out to IPython and tell the keyboard manager to turn it's self\n    // off when our div gets focus\n\n    // location in version 3\n    if (IPython.notebook.keyboard_manager) {\n        IPython.notebook.keyboard_manager.register_events(el);\n    } else {\n        // location in version 2\n        IPython.keyboard_manager.register_events(el);\n    }\n};\n\nmpl.figure.prototype._key_event_extra = function (event, _name) {\n    var manager = IPython.notebook.keyboard_manager;\n    if (!manager) {\n        manager = IPython.keyboard_manager;\n    }\n\n    // Check for shift+enter\n    if (event.shiftKey && event.which === 13) {\n        this.canvas_div.blur();\n        // select the cell after this one\n        var index = IPython.notebook.find_cell_index(this.cell_info[0]);\n        IPython.notebook.select(index + 1);\n    }\n};\n\nmpl.figure.prototype.handle_save = function (fig, _msg) {\n    fig.ondownload(fig, null);\n};\n\nmpl.find_output_cell = function (html_output) {\n    // Return the cell and output element which can be found *uniquely* in the notebook.\n    // Note - this is a bit hacky, but it is done because the \"notebook_saving.Notebook\"\n    // IPython event is triggered only after the cells have been serialised, which for\n    // our purposes (turning an active figure into a static one), is too late.\n    var cells = IPython.notebook.get_cells();\n    var ncells = cells.length;\n    for (var i = 0; i < ncells; i++) {\n        var cell = cells[i];\n        if (cell.cell_type === 'code') {\n            for (var j = 0; j < cell.output_area.outputs.length; j++) {\n                var data = cell.output_area.outputs[j];\n                if (data.data) {\n                    // IPython >= 3 moved mimebundle to data attribute of output\n                    data = data.data;\n                }\n                if (data['text/html'] === html_output) {\n                    return [cell, data, j];\n                }\n            }\n        }\n    }\n};\n\n// Register the function which deals with the matplotlib target/channel.\n// The kernel may be null if the page has been refreshed.\nif (IPython.notebook.kernel !== null) {\n    IPython.notebook.kernel.comm_manager.register_target(\n        'matplotlib',\n        mpl.mpl_figure_comm\n    );\n}\n"
     },
     "metadata": {}
    },
    {
     "output_type": "display_data",
     "data": {
      "text/plain": [
       "<IPython.core.display.HTML object>"
      ],
      "text/html": [
       "<div id='753b0013-39e7-4105-bd4a-e520c8b46221'></div>"
      ]
     },
     "metadata": {}
    }
   ],
   "metadata": {}
  },
  {
   "cell_type": "markdown",
   "source": [
    "Let's plot the center of mass of these poses. If they are not very erronous, they should all lie in a clumb near origin. "
   ],
   "metadata": {}
  },
  {
   "cell_type": "code",
   "execution_count": 5,
   "source": [
    "np.argwhere(coms[:,0])"
   ],
   "outputs": [
    {
     "output_type": "error",
     "ename": "NameError",
     "evalue": "name 'coms' is not defined",
     "traceback": [
      "\u001b[0;31m---------------------------------------------------------------------------\u001b[0m",
      "\u001b[0;31mNameError\u001b[0m                                 Traceback (most recent call last)",
      "\u001b[0;32m<ipython-input-5-49b95fdc43a0>\u001b[0m in \u001b[0;36m<module>\u001b[0;34m\u001b[0m\n\u001b[0;32m----> 1\u001b[0;31m \u001b[0mnp\u001b[0m\u001b[0;34m.\u001b[0m\u001b[0margwhere\u001b[0m\u001b[0;34m(\u001b[0m\u001b[0mcoms\u001b[0m\u001b[0;34m[\u001b[0m\u001b[0;34m:\u001b[0m\u001b[0;34m,\u001b[0m\u001b[0;36m0\u001b[0m\u001b[0;34m]\u001b[0m\u001b[0;34m)\u001b[0m\u001b[0;34m\u001b[0m\u001b[0;34m\u001b[0m\u001b[0m\n\u001b[0m",
      "\u001b[0;31mNameError\u001b[0m: name 'coms' is not defined"
     ]
    }
   ],
   "metadata": {}
  },
  {
   "cell_type": "code",
   "execution_count": 6,
   "source": [
    "ax.get_xlim()"
   ],
   "outputs": [
    {
     "output_type": "execute_result",
     "data": {
      "text/plain": [
       "(0.0, 1.0)"
      ]
     },
     "metadata": {},
     "execution_count": 6
    }
   ],
   "metadata": {}
  },
  {
   "cell_type": "code",
   "execution_count": 38,
   "source": [
    "alleh5s = np.concatenate(egoh5s, axis=0)\n",
    "alleh5s = alleh5s.reshape((-1, alleh5s.shape[1]//3, 3))\n",
    "coms = np.mean(alleh5s, axis=1)\n",
    "\n",
    "\n",
    "fig, ax = plt.subplots()\n",
    "ax.scatter(coms[:,0], coms[:,1], s=1)"
   ],
   "outputs": [
    {
     "output_type": "display_data",
     "data": {
      "text/plain": [
       "Canvas(toolbar=Toolbar(toolitems=[('Home', 'Reset original view', 'home', 'home'), ('Back', 'Back to previous …"
      ],
      "application/vnd.jupyter.widget-view+json": {
       "model_id": "0e7cf29d51b74363917cf16d2ab8fdc4",
       "version_major": 2,
       "version_minor": 0
      }
     },
     "metadata": {}
    },
    {
     "output_type": "execute_result",
     "data": {
      "text/plain": [
       "<matplotlib.collections.PathCollection at 0x7f31242be2e0>"
      ]
     },
     "metadata": {},
     "execution_count": 38
    }
   ],
   "metadata": {}
  },
  {
   "cell_type": "markdown",
   "source": [
    "Zoom in in the figure above to enclose only the central blob. Then run the cell below to select points that are in the central blob."
   ],
   "metadata": {}
  },
  {
   "cell_type": "code",
   "execution_count": 48,
   "source": [
    "xlim, ylim = ax.get_xlim(), ax.get_ylim()\n",
    "\n",
    "inds = np.where((coms[:,0]<xlim[1]) & (coms[:,0]>xlim[0]) & (coms[:,1]<ylim[1]) & (coms[:,1]>ylim[0]))[0]\n",
    "\n",
    "\n",
    "connections2 = [[5, 4, 6], [4,17,18], [11,12], [0,2,15,17,16,3,1], [13,9,7,18,8,10,14]]\n",
    "\n",
    "fig2, ax2 = plt.subplots()\n",
    "\n",
    "def animfunc(t):\n",
    "    ax2.clear()\n",
    "    lines = []\n",
    "    for conn in connections2:        \n",
    "        lines.append(ax2.plot(alleh5s[inds[t], conn, 0], alleh5s[inds[t], conn, 1])[0])\n",
    "    ax2.set_title('(%i/%i, %i)'%((t, len(inds), inds[t])))\n",
    "    ax2.set_xlim([-250, 250])\n",
    "    ax2.set_ylim([-300, 300])\n",
    "    return lines,\n",
    "\n",
    "anim = FuncAnimation(fig2, animfunc, frames=len(inds), repeat=False)\n"
   ],
   "outputs": [
    {
     "output_type": "display_data",
     "data": {
      "text/plain": [
       "Canvas(toolbar=Toolbar(toolitems=[('Home', 'Reset original view', 'home', 'home'), ('Back', 'Back to previous …"
      ],
      "application/vnd.jupyter.widget-view+json": {
       "model_id": "f92e201f457a40819d4ea9f11b273721",
       "version_major": 2,
       "version_minor": 0
      }
     },
     "metadata": {}
    }
   ],
   "metadata": {}
  },
  {
   "cell_type": "code",
   "execution_count": 49,
   "source": [
    "anim.event_source.stop()"
   ],
   "outputs": [],
   "metadata": {}
  },
  {
   "cell_type": "markdown",
   "source": [
    "So not all poses have a center of mass at origin, so we don't have a very clean pose data to start with. "
   ],
   "metadata": {}
  },
  {
   "cell_type": "code",
   "execution_count": 50,
   "source": [
    "alleh5s_clean = alleh5s[inds]"
   ],
   "outputs": [],
   "metadata": {}
  },
  {
   "cell_type": "markdown",
   "source": [
    "## Training AE model "
   ],
   "metadata": {}
  },
  {
   "cell_type": "markdown",
   "source": [
    "Before moving on to a variationa autoencoder, let's try to train a simple autoencode, and see if it is able to reconstruct poses with sufficiently low error. \n",
    "This also gives opportunity to change different parameters (activation functions, number of units) for the overall network architecture."
   ],
   "metadata": {}
  },
  {
   "cell_type": "code",
   "execution_count": 100,
   "source": [
    "alleh5s_clean.shape[0]/alleh5s.shape[0]"
   ],
   "outputs": [
    {
     "output_type": "execute_result",
     "data": {
      "text/plain": [
       "0.9994232202082776"
      ]
     },
     "metadata": {},
     "execution_count": 100
    }
   ],
   "metadata": {}
  },
  {
   "cell_type": "code",
   "execution_count": 189,
   "source": [
    "trainx = alleh5s_clean[::30].reshape((-1, 57)).astype('float32')\n",
    "valx = alleh5s_clean[15::60].reshape((-1, 57)).astype('float32')\n",
    "print(trainx.shape, valx.shape)\n",
    "print(trainx.min(), trainx.max())"
   ],
   "outputs": [
    {
     "output_type": "stream",
     "name": "stdout",
     "text": [
      "(109858, 57) (54929, 57)\n",
      "-224.95145 258.52106\n"
     ]
    }
   ],
   "metadata": {}
  },
  {
   "cell_type": "code",
   "execution_count": 53,
   "source": [
    "import tensorflow as tf\n",
    "import tensorflow.keras as k\n",
    "import os\n",
    "os.environ['CUDA_VISIBLE_DEVICES'] = '3'"
   ],
   "outputs": [],
   "metadata": {}
  },
  {
   "cell_type": "code",
   "execution_count": 229,
   "source": [
    "AE = tf.keras.Sequential([\n",
    "            tf.keras.layers.InputLayer(input_shape=(57,)),\n",
    "            tf.keras.layers.Dense(32, activation='relu'),\n",
    "            tf.keras.layers.Dense(16, activation='relu'),\n",
    "            tf.keras.layers.Dense(8, activation=None),\n",
    "            tf.keras.layers.Dense(16, activation='relu'),\n",
    "            tf.keras.layers.Dense(32, activation='relu'),\n",
    "            tf.keras.layers.Dense(57, activation=None)])\n",
    "\n",
    "AE.compile('adam', 'mse')"
   ],
   "outputs": [],
   "metadata": {}
  },
  {
   "cell_type": "code",
   "execution_count": 230,
   "source": [
    "AE.fit(trainx, trainx, batch_size=64, epochs=50, validation_data=(valx, valx), callbacks = [tf.keras.callbacks.ModelCheckpoint(\n",
    "    'MotionCapture_AE.h5', monitor=\"val_loss\", verbose=1, save_best_only=True)])"
   ],
   "outputs": [
    {
     "output_type": "stream",
     "name": "stdout",
     "text": [
      "Epoch 1/50\n",
      "1717/1717 [==============================] - 4s 2ms/step - loss: 304.7823 - val_loss: 35.5200\n",
      "\n",
      "Epoch 00001: val_loss improved from inf to 35.51999, saving model to MotionCapture_AE.h5\n",
      "Epoch 2/50\n",
      "1717/1717 [==============================] - 4s 2ms/step - loss: 34.4955 - val_loss: 31.0455\n",
      "\n",
      "Epoch 00002: val_loss improved from 35.51999 to 31.04551, saving model to MotionCapture_AE.h5\n",
      "Epoch 3/50\n",
      "1717/1717 [==============================] - 4s 2ms/step - loss: 30.0738 - val_loss: 26.7740\n",
      "\n",
      "Epoch 00003: val_loss improved from 31.04551 to 26.77399, saving model to MotionCapture_AE.h5\n",
      "Epoch 4/50\n",
      "1717/1717 [==============================] - 4s 2ms/step - loss: 26.3440 - val_loss: 24.8504\n",
      "\n",
      "Epoch 00004: val_loss improved from 26.77399 to 24.85043, saving model to MotionCapture_AE.h5\n",
      "Epoch 5/50\n",
      "1717/1717 [==============================] - 4s 2ms/step - loss: 24.7223 - val_loss: 22.2776\n",
      "\n",
      "Epoch 00005: val_loss improved from 24.85043 to 22.27761, saving model to MotionCapture_AE.h5\n",
      "Epoch 6/50\n",
      "1717/1717 [==============================] - 4s 2ms/step - loss: 22.5155 - val_loss: 21.4009\n",
      "\n",
      "Epoch 00006: val_loss improved from 22.27761 to 21.40092, saving model to MotionCapture_AE.h5\n",
      "Epoch 7/50\n",
      "1717/1717 [==============================] - 4s 2ms/step - loss: 21.4114 - val_loss: 20.8590\n",
      "\n",
      "Epoch 00007: val_loss improved from 21.40092 to 20.85896, saving model to MotionCapture_AE.h5\n",
      "Epoch 8/50\n",
      "1717/1717 [==============================] - 4s 2ms/step - loss: 20.6943 - val_loss: 20.3427\n",
      "\n",
      "Epoch 00008: val_loss improved from 20.85896 to 20.34272, saving model to MotionCapture_AE.h5\n",
      "Epoch 9/50\n",
      "1717/1717 [==============================] - 4s 2ms/step - loss: 20.2303 - val_loss: 19.6680\n",
      "\n",
      "Epoch 00009: val_loss improved from 20.34272 to 19.66800, saving model to MotionCapture_AE.h5\n",
      "Epoch 10/50\n",
      "1717/1717 [==============================] - 4s 2ms/step - loss: 19.7065 - val_loss: 19.5196\n",
      "\n",
      "Epoch 00010: val_loss improved from 19.66800 to 19.51957, saving model to MotionCapture_AE.h5\n",
      "Epoch 11/50\n",
      "1717/1717 [==============================] - 4s 2ms/step - loss: 19.6172 - val_loss: 19.1221\n",
      "\n",
      "Epoch 00011: val_loss improved from 19.51957 to 19.12211, saving model to MotionCapture_AE.h5\n",
      "Epoch 12/50\n",
      "1717/1717 [==============================] - 4s 2ms/step - loss: 19.4385 - val_loss: 18.9462\n",
      "\n",
      "Epoch 00012: val_loss improved from 19.12211 to 18.94622, saving model to MotionCapture_AE.h5\n",
      "Epoch 13/50\n",
      "1717/1717 [==============================] - 4s 2ms/step - loss: 19.1191 - val_loss: 18.8431\n",
      "\n",
      "Epoch 00013: val_loss improved from 18.94622 to 18.84306, saving model to MotionCapture_AE.h5\n",
      "Epoch 14/50\n",
      "1717/1717 [==============================] - 4s 2ms/step - loss: 18.8823 - val_loss: 18.7107\n",
      "\n",
      "Epoch 00014: val_loss improved from 18.84306 to 18.71068, saving model to MotionCapture_AE.h5\n",
      "Epoch 15/50\n",
      "1717/1717 [==============================] - 4s 2ms/step - loss: 18.7451 - val_loss: 18.5147\n",
      "\n",
      "Epoch 00015: val_loss improved from 18.71068 to 18.51466, saving model to MotionCapture_AE.h5\n",
      "Epoch 16/50\n",
      "1717/1717 [==============================] - 4s 2ms/step - loss: 18.8533 - val_loss: 18.5481\n",
      "\n",
      "Epoch 00016: val_loss did not improve from 18.51466\n",
      "Epoch 17/50\n",
      "1717/1717 [==============================] - 4s 2ms/step - loss: 18.5836 - val_loss: 18.2060\n",
      "\n",
      "Epoch 00017: val_loss improved from 18.51466 to 18.20600, saving model to MotionCapture_AE.h5\n",
      "Epoch 18/50\n",
      "1717/1717 [==============================] - 4s 2ms/step - loss: 18.4224 - val_loss: 18.3087\n",
      "\n",
      "Epoch 00018: val_loss did not improve from 18.20600\n",
      "Epoch 19/50\n",
      "1717/1717 [==============================] - 4s 2ms/step - loss: 18.3736 - val_loss: 17.9168\n",
      "\n",
      "Epoch 00019: val_loss improved from 18.20600 to 17.91683, saving model to MotionCapture_AE.h5\n",
      "Epoch 20/50\n",
      "1717/1717 [==============================] - 4s 2ms/step - loss: 18.2676 - val_loss: 17.7576\n",
      "\n",
      "Epoch 00020: val_loss improved from 17.91683 to 17.75757, saving model to MotionCapture_AE.h5\n",
      "Epoch 21/50\n",
      "1717/1717 [==============================] - 4s 2ms/step - loss: 18.0456 - val_loss: 17.7410\n",
      "\n",
      "Epoch 00021: val_loss improved from 17.75757 to 17.74102, saving model to MotionCapture_AE.h5\n",
      "Epoch 22/50\n",
      "1717/1717 [==============================] - 4s 2ms/step - loss: 17.8410 - val_loss: 18.1757\n",
      "\n",
      "Epoch 00022: val_loss did not improve from 17.74102\n",
      "Epoch 23/50\n",
      "1717/1717 [==============================] - 4s 2ms/step - loss: 18.0128 - val_loss: 17.5452\n",
      "\n",
      "Epoch 00023: val_loss improved from 17.74102 to 17.54516, saving model to MotionCapture_AE.h5\n",
      "Epoch 24/50\n",
      "1717/1717 [==============================] - 4s 2ms/step - loss: 17.7235 - val_loss: 17.5743\n",
      "\n",
      "Epoch 00024: val_loss did not improve from 17.54516\n",
      "Epoch 25/50\n",
      "1717/1717 [==============================] - 4s 2ms/step - loss: 17.6792 - val_loss: 17.4430\n",
      "\n",
      "Epoch 00025: val_loss improved from 17.54516 to 17.44297, saving model to MotionCapture_AE.h5\n",
      "Epoch 26/50\n",
      "1717/1717 [==============================] - 4s 2ms/step - loss: 17.9541 - val_loss: 17.4369\n",
      "\n",
      "Epoch 00026: val_loss improved from 17.44297 to 17.43691, saving model to MotionCapture_AE.h5\n",
      "Epoch 27/50\n",
      "1717/1717 [==============================] - 4s 2ms/step - loss: 17.6598 - val_loss: 17.5308\n",
      "\n",
      "Epoch 00027: val_loss did not improve from 17.43691\n",
      "Epoch 28/50\n",
      "1717/1717 [==============================] - 4s 2ms/step - loss: 17.7791 - val_loss: 17.4300\n",
      "\n",
      "Epoch 00028: val_loss improved from 17.43691 to 17.43001, saving model to MotionCapture_AE.h5\n",
      "Epoch 29/50\n",
      "1717/1717 [==============================] - 4s 2ms/step - loss: 17.4904 - val_loss: 17.6272\n",
      "\n",
      "Epoch 00029: val_loss did not improve from 17.43001\n",
      "Epoch 30/50\n",
      "1717/1717 [==============================] - 4s 2ms/step - loss: 17.5301 - val_loss: 17.2268\n",
      "\n",
      "Epoch 00030: val_loss improved from 17.43001 to 17.22677, saving model to MotionCapture_AE.h5\n",
      "Epoch 31/50\n",
      "1717/1717 [==============================] - 4s 2ms/step - loss: 17.2751 - val_loss: 17.1659\n",
      "\n",
      "Epoch 00031: val_loss improved from 17.22677 to 17.16586, saving model to MotionCapture_AE.h5\n",
      "Epoch 32/50\n",
      "1717/1717 [==============================] - 4s 2ms/step - loss: 17.4274 - val_loss: 16.9035\n",
      "\n",
      "Epoch 00032: val_loss improved from 17.16586 to 16.90348, saving model to MotionCapture_AE.h5\n",
      "Epoch 33/50\n",
      "1717/1717 [==============================] - 4s 2ms/step - loss: 17.2076 - val_loss: 17.2421\n",
      "\n",
      "Epoch 00033: val_loss did not improve from 16.90348\n",
      "Epoch 34/50\n",
      "1717/1717 [==============================] - 4s 2ms/step - loss: 17.0975 - val_loss: 16.9267\n",
      "\n",
      "Epoch 00034: val_loss did not improve from 16.90348\n",
      "Epoch 35/50\n",
      "1717/1717 [==============================] - 4s 2ms/step - loss: 17.2097 - val_loss: 16.8954\n",
      "\n",
      "Epoch 00035: val_loss improved from 16.90348 to 16.89540, saving model to MotionCapture_AE.h5\n",
      "Epoch 36/50\n",
      "1717/1717 [==============================] - 4s 2ms/step - loss: 17.3502 - val_loss: 17.2174\n",
      "\n",
      "Epoch 00036: val_loss did not improve from 16.89540\n",
      "Epoch 37/50\n",
      "1717/1717 [==============================] - 4s 2ms/step - loss: 17.2695 - val_loss: 16.7042\n",
      "\n",
      "Epoch 00037: val_loss improved from 16.89540 to 16.70418, saving model to MotionCapture_AE.h5\n",
      "Epoch 38/50\n",
      "1717/1717 [==============================] - 4s 2ms/step - loss: 16.9636 - val_loss: 16.6263\n",
      "\n",
      "Epoch 00038: val_loss improved from 16.70418 to 16.62633, saving model to MotionCapture_AE.h5\n",
      "Epoch 39/50\n",
      "1717/1717 [==============================] - 4s 2ms/step - loss: 16.8917 - val_loss: 16.6606\n",
      "\n",
      "Epoch 00039: val_loss did not improve from 16.62633\n",
      "Epoch 40/50\n",
      "1717/1717 [==============================] - 4s 2ms/step - loss: 16.9465 - val_loss: 16.8835\n",
      "\n",
      "Epoch 00040: val_loss did not improve from 16.62633\n",
      "Epoch 41/50\n",
      "1717/1717 [==============================] - 4s 2ms/step - loss: 16.8848 - val_loss: 16.4918\n",
      "\n",
      "Epoch 00041: val_loss improved from 16.62633 to 16.49178, saving model to MotionCapture_AE.h5\n",
      "Epoch 42/50\n",
      "1717/1717 [==============================] - 4s 2ms/step - loss: 16.6391 - val_loss: 16.7270\n",
      "\n",
      "Epoch 00042: val_loss did not improve from 16.49178\n",
      "Epoch 43/50\n",
      "1717/1717 [==============================] - 4s 2ms/step - loss: 16.5354 - val_loss: 16.5461\n",
      "\n",
      "Epoch 00043: val_loss did not improve from 16.49178\n",
      "Epoch 44/50\n",
      "1717/1717 [==============================] - 4s 2ms/step - loss: 16.5711 - val_loss: 16.3046\n",
      "\n",
      "Epoch 00044: val_loss improved from 16.49178 to 16.30462, saving model to MotionCapture_AE.h5\n",
      "Epoch 45/50\n",
      "1717/1717 [==============================] - 4s 2ms/step - loss: 16.4203 - val_loss: 16.5874\n",
      "\n",
      "Epoch 00045: val_loss did not improve from 16.30462\n",
      "Epoch 46/50\n",
      "1717/1717 [==============================] - 4s 2ms/step - loss: 16.3272 - val_loss: 16.3004\n",
      "\n",
      "Epoch 00046: val_loss improved from 16.30462 to 16.30036, saving model to MotionCapture_AE.h5\n",
      "Epoch 47/50\n",
      "1717/1717 [==============================] - 4s 2ms/step - loss: 16.4529 - val_loss: 16.1936\n",
      "\n",
      "Epoch 00047: val_loss improved from 16.30036 to 16.19357, saving model to MotionCapture_AE.h5\n",
      "Epoch 48/50\n",
      "1717/1717 [==============================] - 4s 2ms/step - loss: 16.3454 - val_loss: 16.1335\n",
      "\n",
      "Epoch 00048: val_loss improved from 16.19357 to 16.13345, saving model to MotionCapture_AE.h5\n",
      "Epoch 49/50\n",
      "1717/1717 [==============================] - 4s 2ms/step - loss: 16.4033 - val_loss: 16.1697\n",
      "\n",
      "Epoch 00049: val_loss did not improve from 16.13345\n",
      "Epoch 50/50\n",
      "1717/1717 [==============================] - 4s 2ms/step - loss: 16.3340 - val_loss: 16.1256\n",
      "\n",
      "Epoch 00050: val_loss improved from 16.13345 to 16.12562, saving model to MotionCapture_AE.h5\n"
     ]
    },
    {
     "output_type": "execute_result",
     "data": {
      "text/plain": [
       "<tensorflow.python.keras.callbacks.History at 0x7f2c5a95fe50>"
      ]
     },
     "metadata": {},
     "execution_count": 230
    }
   ],
   "metadata": {
    "scrolled": true,
    "tags": []
   }
  },
  {
   "cell_type": "markdown",
   "source": [
    "#all data AE error 70\n",
    "\n",
    "#clean data AE error 22\n",
    "\n",
    "\n",
    "\n",
    "            tf.keras.layers.InputLayer(input_shape=(57,)),\n",
    "            tf.keras.layers.Dense(32, activation='relu'),\n",
    "            tf.keras.layers.Dense(16, activation='relu'),\n",
    "            tf.keras.layers.Dense(8, activation='sigmoid'), #24 with 'tanh' here #16 with None!!!\n",
    "            tf.keras.layers.Dense(16, activation='relu'),\n",
    "            tf.keras.layers.Dense(32, activation='relu'),\n",
    "            tf.keras.layers.Dense(57, activation=None)])\n",
    "\n",
    "\n",
    "\n",
    "#clean data AE error 61\n",
    "\n",
    "\n",
    "\n",
    "            tf.keras.layers.InputLayer(input_shape=(57,)),\n",
    "            tf.keras.layers.Dense(32, activation=None),\n",
    "            tf.keras.layers.Dense(16, activation=None),\n",
    "            tf.keras.layers.Dense(8, activation='tanh'),\n",
    "            tf.keras.layers.Dense(16, activation=None),\n",
    "            tf.keras.layers.Dense(32, activation=None),\n",
    "            tf.keras.layers.Dense(57, activation=None)])\n",
    "\n",
    "\n",
    "\n",
    "#clean data AE error 41 with wonky activations - \n",
    "\n",
    "\n",
    "\n",
    "            tf.keras.layers.InputLayer(input_shape=(57,)),\n",
    "            tf.keras.layers.Dense(32, activation='sigmoid'),\n",
    "            tf.keras.layers.Dense(16, activation='relu'),\n",
    "            tf.keras.layers.Dense(8, activation='tanh'),\n",
    "            tf.keras.layers.Dense(16, activation='relu'),\n",
    "            tf.keras.layers.Dense(32, activation='sigmoid'),\n",
    "            tf.keras.layers.Dense(57, activation=None)])\n",
    "\n",
    "\n",
    "\n",
    "#clean data AE error 38 with wonky activations - \n",
    "\n",
    "\n",
    "\n",
    "            tf.keras.layers.InputLayer(input_shape=(57,)),\n",
    "            tf.keras.layers.Dense(32, activation='tanh'),\n",
    "            tf.keras.layers.Dense(16, activation='relu'),\n",
    "            tf.keras.layers.Dense(8, activation='sigmoid'),\n",
    "            tf.keras.layers.Dense(16, activation='tanh'),\n",
    "            tf.keras.layers.Dense(32, activation='relu'),\n",
    "            tf.keras.layers.Dense(57, activation=None)])\n",
    "\n",
    "\n",
    "\n",
    "#clean data AE error 66 with  - \n",
    "\n",
    "\n",
    "\n",
    "            tf.keras.layers.InputLayer(input_shape=(57,)),\n",
    "            tf.keras.layers.Dense(32, activation='sigmoid'),\n",
    "            tf.keras.layers.Dense(16, activation='sigmoid'),\n",
    "            tf.keras.layers.Dense(8, activation='sigmoid'),\n",
    "            tf.keras.layers.Dense(16, activation='sigmoid'),\n",
    "            tf.keras.layers.Dense(32, activation='sigmoid'),\n",
    "            tf.keras.layers.Dense(57, activation=None)])\n"
   ],
   "metadata": {}
  },
  {
   "cell_type": "code",
   "execution_count": 231,
   "source": [
    "valx_pred = AE.predict(valx, verbose=1)"
   ],
   "outputs": [
    {
     "output_type": "stream",
     "name": "stdout",
     "text": [
      "1717/1717 [==============================] - 1s 681us/step\n"
     ]
    }
   ],
   "metadata": {}
  },
  {
   "cell_type": "code",
   "execution_count": 232,
   "source": [
    "connections2 = [[5, 4, 6], [4,17,18], [11,12], [0,2,15,17,16,3,1], [13,9,7,18,8,10,14]]\n",
    "\n",
    "fig, ax = plt.subplots()\n",
    "\n",
    "def animfunc(t, skip=1):\n",
    "    ax.clear()\n",
    "    lines = []\n",
    "    for conn in connections2:\n",
    "        conn = [3*i for i in conn]\n",
    "        lines.append(ax.plot(valx[t*skip, conn], valx[t*skip, [i+1 for i in conn]], color='royalblue')[0])\n",
    "        lines.append(ax.plot(valx_pred[t*skip, conn], valx_pred[t*skip, [i+1 for i in conn]], color='firebrick')[0])\n",
    "    ax.set_title('(%i, %i)'%((t, t*skip)))\n",
    "    return lines,\n",
    "\n",
    "anim = FuncAnimation(fig, animfunc, frames=50, fargs=(1000,), repeat=False)\n",
    "        \n",
    "#anim.event_source.stop()        "
   ],
   "outputs": [
    {
     "output_type": "display_data",
     "data": {
      "text/plain": [
       "Canvas(toolbar=Toolbar(toolitems=[('Home', 'Reset original view', 'home', 'home'), ('Back', 'Back to previous …"
      ],
      "application/vnd.jupyter.widget-view+json": {
       "model_id": "5e11602be30a4e50a7f4ca0ab29d96e6",
       "version_major": 2,
       "version_minor": 0
      }
     },
     "metadata": {}
    }
   ],
   "metadata": {}
  },
  {
   "cell_type": "markdown",
   "source": [
    "Seems like the errors in the validation set are very close to less than 3px. That is great, \n",
    "especially since we did not normalize our data in any way. "
   ],
   "metadata": {}
  },
  {
   "cell_type": "code",
   "execution_count": 233,
   "source": [
    "errors = np.abs(valx_pred-valx).reshape((-1, 19, 3))\n",
    "np.mean(errors, axis=(0,1))"
   ],
   "outputs": [
    {
     "output_type": "execute_result",
     "data": {
      "text/plain": [
       "array([2.7490234, 2.8410492, 2.7641344], dtype=float32)"
      ]
     },
     "metadata": {},
     "execution_count": 233
    }
   ],
   "metadata": {}
  },
  {
   "cell_type": "markdown",
   "source": [
    "We can get the latent layer values by defining a new model with output from layer 2 of our autoencoder"
   ],
   "metadata": {}
  },
  {
   "cell_type": "code",
   "execution_count": 368,
   "source": [
    "AE.layers"
   ],
   "outputs": [
    {
     "output_type": "execute_result",
     "data": {
      "text/plain": [
       "[<tensorflow.python.keras.layers.core.Dense at 0x7f2c5a8ca430>,\n",
       " <tensorflow.python.keras.layers.core.Dense at 0x7f2c5afa6e20>,\n",
       " <tensorflow.python.keras.layers.core.Dense at 0x7f2c5afa62b0>,\n",
       " <tensorflow.python.keras.layers.core.Dense at 0x7f2c5afa61f0>,\n",
       " <tensorflow.python.keras.layers.core.Dense at 0x7f2c5afa6400>,\n",
       " <tensorflow.python.keras.layers.core.Dense at 0x7f2c5afa67f0>]"
      ]
     },
     "metadata": {},
     "execution_count": 368
    }
   ],
   "metadata": {}
  },
  {
   "cell_type": "code",
   "execution_count": 236,
   "source": [
    "AE2 = k.models.Model(inputs=AE.input, outputs=AE.layers[2].output)"
   ],
   "outputs": [],
   "metadata": {}
  },
  {
   "cell_type": "code",
   "execution_count": 237,
   "source": [
    "#check if the weights are same \n",
    "[np.all(w1==w2) for w1,w2 in zip(AE.get_weights(),AE2.get_weights())]"
   ],
   "outputs": [
    {
     "output_type": "execute_result",
     "data": {
      "text/plain": [
       "[True, True, True, True, True, True]"
      ]
     },
     "metadata": {},
     "execution_count": 237
    }
   ],
   "metadata": {}
  },
  {
   "cell_type": "code",
   "execution_count": 238,
   "source": [
    "alleh5s_clean_ae = AE2.predict(alleh5s_clean.reshape((-1, 57)).astype('float32'), verbose=1)\n",
    "alleh5s_clean_ae.shape"
   ],
   "outputs": [
    {
     "output_type": "stream",
     "name": "stdout",
     "text": [
      "102992/102992 [==============================] - 60s 585us/step\n"
     ]
    }
   ],
   "metadata": {}
  },
  {
   "cell_type": "markdown",
   "source": [
    "## Training a VAE Model\n",
    "\n",
    "Now that we have some idea of what network architecture works for our data, we can try to add the variational inference \n",
    "inside the network. "
   ],
   "metadata": {}
  },
  {
   "cell_type": "code",
   "execution_count": 307,
   "source": [
    "class Sampling(k.layers.Layer):\n",
    "    \"\"\"Uses (z_mean, z_log_var) to sample z, the vector encoding a digit.\"\"\"\n",
    "    def call(self, inputs):\n",
    "        z_mean, z_log_var = inputs\n",
    "        batch = tf.shape(z_mean)[0]\n",
    "        dim = tf.shape(z_mean)[1]\n",
    "        epsilon = tf.keras.backend.random_normal(shape=(batch, dim))\n",
    "        return z_mean + tf.exp(0.5 * z_log_var) * epsilon"
   ],
   "outputs": [],
   "metadata": {}
  },
  {
   "cell_type": "code",
   "execution_count": 365,
   "source": [
    "class VAEModel(k.Model):\n",
    "    def __init__(self, latent_dim=8, **kwargs):\n",
    "        super(VAEModel, self).__init__(**kwargs)\n",
    "        self.latent_dim = latent_dim\n",
    "        self.encoder = self.create_encoder()\n",
    "        self.decoder = self.create_decoder()\n",
    "        self.total_loss_tracker = k.metrics.Mean(name=\"total_loss\")\n",
    "        self.reconstruction_loss_tracker = k.metrics.Mean(name=\"reconstruction_loss\")\n",
    "        self.kl_loss_tracker = k.metrics.Mean(name=\"kl_loss\")\n",
    "\n",
    "    def create_encoder(self):\n",
    "        encoder_input = tf.keras.Sequential([\n",
    "                    tf.keras.layers.InputLayer(input_shape=(57,)),\n",
    "                    tf.keras.layers.Dense(32, activation='relu'),\n",
    "                   tf.keras.layers.Dense(16, activation='relu'),])\n",
    "\n",
    "        z_mean = k.layers.Dense(self.latent_dim, name=\"z_mean\", activation='tanh')(encoder_input.output)\n",
    "        z_log_var = k.layers.Dense(self.latent_dim, name=\"z_log_var\", activation='tanh')(encoder_input.output)\n",
    "\n",
    "        z = Sampling()([z_mean, z_log_var])\n",
    "        encoder = k.Model(encoder_input.input, [z_mean, z_log_var, z], name=\"encoder\")        \n",
    "        return encoder\n",
    "    \n",
    "    def create_decoder(self):\n",
    "        decoder = tf.keras.Sequential([\n",
    "            tf.keras.layers.InputLayer(input_shape=(self.latent_dim,)),\n",
    "           tf.keras.layers.Dense(16, activation='relu'),\n",
    "            tf.keras.layers.Dense(32, activation='relu'),\n",
    "            tf.keras.layers.Dense(57)])\n",
    "        return decoder\n",
    "\n",
    "    @property\n",
    "    def metrics(self):\n",
    "        return [\n",
    "            self.total_loss_tracker,\n",
    "            self.reconstruction_loss_tracker,\n",
    "            self.kl_loss_tracker,\n",
    "        ]\n",
    "\n",
    "    def train_step(self, data):\n",
    "        with tf.GradientTape() as tape:\n",
    "            z_mean, z_log_var, z = self.encoder(data)\n",
    "            reconstruction = self.decoder(z)\n",
    "            reconstruction_loss = tf.reduce_mean(\n",
    "                    k.losses.mean_squared_error(data, reconstruction))\n",
    "            kl_loss = -0.5 * (1 + z_log_var - tf.square(z_mean) - tf.exp(z_log_var))\n",
    "            kl_loss = tf.reduce_mean(kl_loss)\n",
    "            total_loss = reconstruction_loss + kl_loss\n",
    "        grads = tape.gradient(total_loss, self.trainable_weights)\n",
    "        self.optimizer.apply_gradients(zip(grads, self.trainable_weights))\n",
    "        self.total_loss_tracker.update_state(total_loss)\n",
    "        self.reconstruction_loss_tracker.update_state(reconstruction_loss)\n",
    "        self.kl_loss_tracker.update_state(kl_loss)\n",
    "        return {\n",
    "            \"loss\": self.total_loss_tracker.result(),\n",
    "            \"reconstruction_loss\": self.reconstruction_loss_tracker.result(),\n",
    "            \"kl_loss\": self.kl_loss_tracker.result(),\n",
    "        }\n",
    "\n",
    "    def call(self, data):\n",
    "        z_mean, z_log_var, z = self.encoder(data)\n",
    "        reconstruction = self.decoder(z)\n",
    "        return reconstruction"
   ],
   "outputs": [],
   "metadata": {}
  },
  {
   "cell_type": "code",
   "execution_count": 366,
   "source": [
    "figloss, axloss = plt.subplots(figsize=(16, 8))\n",
    "axloss2 = axloss.twinx()\n",
    "\n",
    "class LossPlot(k.callbacks.Callback):\n",
    "    def __init__(self):\n",
    "        self.losses = [0,0,0]\n",
    "        \n",
    "    def on_epoch_end(self, epoch, logs=None):\n",
    "        keys = list(logs.keys())\n",
    "        self.losses = np.vstack([self.losses, [logs['loss'], logs['reconstruction_loss'], logs['kl_loss']]])\n",
    "        axloss.clear()\n",
    "        axloss.plot(self.losses[1:,0], '-', color='black', label='loss')\n",
    "        axloss.plot(self.losses[1:,1], '-', color='royalblue', label='loss (recon)')\n",
    "        axloss2.plot(self.losses[1:,2], '-', color='firebrick', label='loss (kl)')\n",
    "        figloss.canvas.draw()"
   ],
   "outputs": [
    {
     "output_type": "display_data",
     "data": {
      "text/plain": [
       "Canvas(toolbar=Toolbar(toolitems=[('Home', 'Reset original view', 'home', 'home'), ('Back', 'Back to previous …"
      ],
      "application/vnd.jupyter.widget-view+json": {
       "model_id": "c0182f3d783f46b19408987df72f8ea5",
       "version_major": 2,
       "version_minor": 0
      }
     },
     "metadata": {}
    }
   ],
   "metadata": {}
  },
  {
   "cell_type": "code",
   "execution_count": 367,
   "source": [
    "vae = VAEModel(latent_dim=8)\n",
    "vae.compile(optimizer=k.optimizers.Adam(learning_rate=0.001))\n",
    "vae.fit(trainx, epochs=50, batch_size=64, workers=1, callbacks=LossPlot())"
   ],
   "outputs": [
    {
     "output_type": "stream",
     "name": "stdout",
     "text": [
      "Epoch 1/50\n",
      "1717/1717 [==============================] - 4s 2ms/step - loss: 743.9176 - reconstruction_loss: 442.6275 - kl_loss: 0.7584\n",
      "Epoch 2/50\n",
      "1717/1717 [==============================] - 4s 2ms/step - loss: 237.5290 - reconstruction_loss: 225.5734 - kl_loss: 0.7056\n",
      "Epoch 3/50\n",
      "1717/1717 [==============================] - 4s 2ms/step - loss: 202.7113 - reconstruction_loss: 194.2894 - kl_loss: 0.7028\n",
      "Epoch 4/50\n",
      "1717/1717 [==============================] - 4s 2ms/step - loss: 183.5383 - reconstruction_loss: 182.1982 - kl_loss: 0.7040\n",
      "Epoch 5/50\n",
      "1717/1717 [==============================] - 4s 2ms/step - loss: 179.6710 - reconstruction_loss: 175.8767 - kl_loss: 0.6940\n",
      "Epoch 6/50\n",
      "1717/1717 [==============================] - 4s 2ms/step - loss: 167.4005 - reconstruction_loss: 163.6813 - kl_loss: 0.6867\n",
      "Epoch 7/50\n",
      "1717/1717 [==============================] - 4s 2ms/step - loss: 155.4556 - reconstruction_loss: 151.8230 - kl_loss: 0.6850\n",
      "Epoch 8/50\n",
      "1717/1717 [==============================] - 4s 2ms/step - loss: 142.6866 - reconstruction_loss: 140.0252 - kl_loss: 0.6785\n",
      "Epoch 9/50\n",
      "1717/1717 [==============================] - 4s 2ms/step - loss: 135.9828 - reconstruction_loss: 134.5039 - kl_loss: 0.6788\n",
      "Epoch 10/50\n",
      "1717/1717 [==============================] - 4s 2ms/step - loss: 133.4236 - reconstruction_loss: 131.9398 - kl_loss: 0.6793\n",
      "Epoch 11/50\n",
      "1717/1717 [==============================] - 4s 2ms/step - loss: 131.1511 - reconstruction_loss: 129.9286 - kl_loss: 0.6794\n",
      "Epoch 12/50\n",
      "1717/1717 [==============================] - 4s 2ms/step - loss: 128.6672 - reconstruction_loss: 127.9846 - kl_loss: 0.6798\n",
      "Epoch 13/50\n",
      "1717/1717 [==============================] - 4s 2ms/step - loss: 126.6270 - reconstruction_loss: 125.4697 - kl_loss: 0.6799\n",
      "Epoch 14/50\n",
      "1717/1717 [==============================] - 4s 2ms/step - loss: 125.1427 - reconstruction_loss: 124.2723 - kl_loss: 0.6802\n",
      "Epoch 15/50\n",
      "1717/1717 [==============================] - 4s 2ms/step - loss: 124.9223 - reconstruction_loss: 123.6055 - kl_loss: 0.6805\n",
      "Epoch 16/50\n",
      "1717/1717 [==============================] - 4s 2ms/step - loss: 122.1641 - reconstruction_loss: 122.0545 - kl_loss: 0.6807\n",
      "Epoch 17/50\n",
      "1717/1717 [==============================] - 4s 2ms/step - loss: 121.6420 - reconstruction_loss: 121.1352 - kl_loss: 0.6808\n",
      "Epoch 18/50\n",
      "1717/1717 [==============================] - 4s 2ms/step - loss: 119.7899 - reconstruction_loss: 119.9349 - kl_loss: 0.6811\n",
      "Epoch 19/50\n",
      "1717/1717 [==============================] - 4s 2ms/step - loss: 120.0467 - reconstruction_loss: 119.1392 - kl_loss: 0.6813\n",
      "Epoch 20/50\n",
      "1717/1717 [==============================] - 4s 2ms/step - loss: 119.1281 - reconstruction_loss: 119.2967 - kl_loss: 0.6814\n",
      "Epoch 21/50\n",
      "1717/1717 [==============================] - 4s 2ms/step - loss: 119.5470 - reconstruction_loss: 118.5598 - kl_loss: 0.6814\n",
      "Epoch 22/50\n",
      "1717/1717 [==============================] - 4s 2ms/step - loss: 118.2307 - reconstruction_loss: 117.8780 - kl_loss: 0.6815\n",
      "Epoch 23/50\n",
      "1717/1717 [==============================] - 4s 2ms/step - loss: 118.5922 - reconstruction_loss: 116.7922 - kl_loss: 0.6816\n",
      "Epoch 24/50\n",
      "1717/1717 [==============================] - 4s 2ms/step - loss: 118.0421 - reconstruction_loss: 116.8401 - kl_loss: 0.6818\n",
      "Epoch 25/50\n",
      "1717/1717 [==============================] - 4s 2ms/step - loss: 115.9093 - reconstruction_loss: 116.1091 - kl_loss: 0.6817\n",
      "Epoch 26/50\n",
      "1717/1717 [==============================] - 4s 2ms/step - loss: 116.4362 - reconstruction_loss: 116.0590 - kl_loss: 0.6819\n",
      "Epoch 27/50\n",
      "1717/1717 [==============================] - 4s 2ms/step - loss: 116.5106 - reconstruction_loss: 115.9274 - kl_loss: 0.6820\n",
      "Epoch 28/50\n",
      "1717/1717 [==============================] - 4s 2ms/step - loss: 116.2087 - reconstruction_loss: 114.5834 - kl_loss: 0.6820\n",
      "Epoch 29/50\n",
      "1717/1717 [==============================] - 4s 2ms/step - loss: 115.6166 - reconstruction_loss: 114.2098 - kl_loss: 0.6821\n",
      "Epoch 30/50\n",
      "1717/1717 [==============================] - 4s 2ms/step - loss: 116.0353 - reconstruction_loss: 114.5154 - kl_loss: 0.6823\n",
      "Epoch 31/50\n",
      "1717/1717 [==============================] - 4s 2ms/step - loss: 116.6318 - reconstruction_loss: 115.0457 - kl_loss: 0.6824\n",
      "Epoch 32/50\n",
      "1717/1717 [==============================] - 4s 2ms/step - loss: 115.0418 - reconstruction_loss: 114.1803 - kl_loss: 0.6824\n",
      "Epoch 33/50\n",
      "1717/1717 [==============================] - 4s 2ms/step - loss: 115.1027 - reconstruction_loss: 114.1753 - kl_loss: 0.6824\n",
      "Epoch 34/50\n",
      "1717/1717 [==============================] - 4s 2ms/step - loss: 114.3538 - reconstruction_loss: 113.6228 - kl_loss: 0.6825\n",
      "Epoch 35/50\n",
      "1717/1717 [==============================] - 4s 2ms/step - loss: 114.7869 - reconstruction_loss: 113.7520 - kl_loss: 0.6826\n",
      "Epoch 36/50\n",
      "1717/1717 [==============================] - 4s 2ms/step - loss: 113.0772 - reconstruction_loss: 112.8552 - kl_loss: 0.6827\n",
      "Epoch 37/50\n",
      "1717/1717 [==============================] - 4s 2ms/step - loss: 113.0635 - reconstruction_loss: 113.3266 - kl_loss: 0.6827\n",
      "Epoch 38/50\n",
      "1717/1717 [==============================] - 4s 2ms/step - loss: 112.9881 - reconstruction_loss: 113.1148 - kl_loss: 0.6828\n",
      "Epoch 39/50\n",
      "1717/1717 [==============================] - 4s 2ms/step - loss: 114.1988 - reconstruction_loss: 114.0669 - kl_loss: 0.6828\n",
      "Epoch 40/50\n",
      "1717/1717 [==============================] - 4s 2ms/step - loss: 114.3219 - reconstruction_loss: 113.8043 - kl_loss: 0.6828\n",
      "Epoch 41/50\n",
      "1717/1717 [==============================] - 4s 2ms/step - loss: 114.4729 - reconstruction_loss: 114.2293 - kl_loss: 0.6829\n",
      "Epoch 42/50\n",
      "1717/1717 [==============================] - 4s 2ms/step - loss: 114.5143 - reconstruction_loss: 113.4602 - kl_loss: 0.6829\n",
      "Epoch 43/50\n",
      "1717/1717 [==============================] - 4s 2ms/step - loss: 113.8136 - reconstruction_loss: 113.1563 - kl_loss: 0.6830\n",
      "Epoch 44/50\n",
      "1717/1717 [==============================] - 4s 2ms/step - loss: 112.7099 - reconstruction_loss: 111.8251 - kl_loss: 0.6830\n",
      "Epoch 45/50\n",
      "1717/1717 [==============================] - 4s 2ms/step - loss: 111.9429 - reconstruction_loss: 111.9323 - kl_loss: 0.6831\n",
      "Epoch 46/50\n",
      "1717/1717 [==============================] - 4s 2ms/step - loss: 112.9634 - reconstruction_loss: 112.1743 - kl_loss: 0.6831\n",
      "Epoch 47/50\n",
      "1717/1717 [==============================] - 4s 2ms/step - loss: 113.4309 - reconstruction_loss: 112.6020 - kl_loss: 0.6831\n",
      "Epoch 48/50\n",
      "1717/1717 [==============================] - 4s 2ms/step - loss: 113.9783 - reconstruction_loss: 111.7618 - kl_loss: 0.6831\n",
      "Epoch 49/50\n",
      "1717/1717 [==============================] - 4s 2ms/step - loss: 112.8132 - reconstruction_loss: 111.6871 - kl_loss: 0.6831\n",
      "Epoch 50/50\n",
      "1717/1717 [==============================] - 4s 2ms/step - loss: 111.6153 - reconstruction_loss: 111.1216 - kl_loss: 0.6832\n"
     ]
    },
    {
     "output_type": "execute_result",
     "data": {
      "text/plain": [
       "<tensorflow.python.keras.callbacks.History at 0x7f2c5a0ba340>"
      ]
     },
     "metadata": {},
     "execution_count": 367
    }
   ],
   "metadata": {
    "scrolled": true,
    "tags": []
   }
  },
  {
   "cell_type": "code",
   "execution_count": 369,
   "source": [
    "valx_pred_vae = vae.predict(valx, verbose=1)"
   ],
   "outputs": [
    {
     "output_type": "stream",
     "name": "stdout",
     "text": [
      "1717/1717 [==============================] - 1s 785us/step\n"
     ]
    }
   ],
   "metadata": {}
  },
  {
   "cell_type": "code",
   "execution_count": 370,
   "source": [
    "connections2 = [[5, 4, 6], [4,17,18], [11,12], [0,2,15,17,16,3,1], [13,9,7,18,8,10,14]]\n",
    "\n",
    "fig, ax = plt.subplots()\n",
    "\n",
    "def animfunc(t, skip=1):\n",
    "    ax.clear()\n",
    "    lines = []\n",
    "    for conn in connections2:\n",
    "        conn = [3*i for i in conn]\n",
    "        lines.append(ax.plot(valx[t*skip, conn], valx[t*skip, [i+1 for i in conn]], color='royalblue')[0])\n",
    "        lines.append(ax.plot(valx_pred_vae[t*skip, conn], valx_pred_vae[t*skip, [i+1 for i in conn]], color='firebrick')[0])\n",
    "    ax.set_title('(%i, %i)'%((t, t*skip)))\n",
    "    return lines,\n",
    "\n",
    "anim = FuncAnimation(fig, animfunc, frames=50, fargs=(1000,), repeat=False)\n",
    "        \n",
    "#anim.event_source.stop()        "
   ],
   "outputs": [
    {
     "output_type": "display_data",
     "data": {
      "text/plain": [
       "Canvas(toolbar=Toolbar(toolitems=[('Home', 'Reset original view', 'home', 'home'), ('Back', 'Back to previous …"
      ],
      "application/vnd.jupyter.widget-view+json": {
       "model_id": "5e823fad52a741bfabb65d7139bfe0cf",
       "version_major": 2,
       "version_minor": 0
      }
     },
     "metadata": {}
    }
   ],
   "metadata": {}
  },
  {
   "cell_type": "markdown",
   "source": [
    "Seems like the errors in the validation set are around 7px (they were 3px w/ AE)"
   ],
   "metadata": {}
  },
  {
   "cell_type": "code",
   "execution_count": 371,
   "source": [
    "errors = np.abs(valx_pred_vae-valx).reshape((-1, 19, 3))\n",
    "np.mean(errors, axis=(0,1))"
   ],
   "outputs": [
    {
     "output_type": "execute_result",
     "data": {
      "text/plain": [
       "array([7.718824, 7.4027  , 7.435683], dtype=float32)"
      ]
     },
     "metadata": {},
     "execution_count": 371
    }
   ],
   "metadata": {}
  },
  {
   "cell_type": "markdown",
   "source": [
    "The latent layer values can be obtained using the VAE 'encoder' sub-model. "
   ],
   "metadata": {}
  },
  {
   "cell_type": "code",
   "execution_count": 374,
   "source": [
    "z_mean, z_log_var, z = vae.encoder.predict(alleh5s_clean.reshape((-1, 57)), verbose=1)"
   ],
   "outputs": [],
   "metadata": {}
  },
  {
   "cell_type": "code",
   "execution_count": 375,
   "source": [
    "print(z_mean.shape, z_log_var.shape, z.shape)"
   ],
   "outputs": [
    {
     "output_type": "stream",
     "name": "stdout",
     "text": [
      "(3295717, 8) (3295717, 8) (3295717, 8)\n"
     ]
    }
   ],
   "metadata": {}
  },
  {
   "cell_type": "code",
   "execution_count": null,
   "source": [],
   "outputs": [],
   "metadata": {}
  }
 ],
 "metadata": {
  "kernelspec": {
   "display_name": "Python 3",
   "language": "python",
   "name": "python3"
  },
  "language_info": {
   "codemirror_mode": {
    "name": "ipython",
    "version": 3
   },
   "file_extension": ".py",
   "mimetype": "text/x-python",
   "name": "python",
   "nbconvert_exporter": "python",
   "pygments_lexer": "ipython3",
   "version": "3.8.0"
  },
  "widgets": {
   "application/vnd.jupyter.widget-state+json": {
    "state": {
     "00bbf1c019ca42609bac652c8f97cd60": {
      "model_module": "jupyter-matplotlib",
      "model_module_version": "^0.9.0",
      "model_name": "MPLCanvasModel",
      "state": {
       "_cursor": "default",
       "_figure_label": "Figure 28",
       "_height": 360,
       "_width": 864,
       "layout": "IPY_MODEL_6707f1d85e2a465898e14b78896410bc",
       "toolbar": "IPY_MODEL_95ca2244a1b74449af753307a2aca747",
       "toolbar_position": "left"
      }
     },
     "00d95c317dc44e12a46830c8ef6bfb0c": {
      "model_module": "jupyter-matplotlib",
      "model_module_version": "^0.9.0",
      "model_name": "MPLCanvasModel",
      "state": {
       "_cursor": "default",
       "_figure_label": "Figure 27",
       "_height": 360,
       "_width": 864,
       "layout": "IPY_MODEL_e097ecdc2f124f7fb9e72fe25a0fe335",
       "toolbar": "IPY_MODEL_6793b12e78d64e3a9c67da8b190eb005",
       "toolbar_position": "left"
      }
     },
     "012f2d62823943339ec0f78305bb741e": {
      "model_module": "jupyter-matplotlib",
      "model_module_version": "^0.9.0",
      "model_name": "MPLCanvasModel",
      "state": {
       "_cursor": "default",
       "_figure_label": "Figure 23",
       "_height": 576,
       "_width": 864,
       "layout": "IPY_MODEL_f35e4eece78d4acdab08653956b7d94e",
       "toolbar": "IPY_MODEL_43068f96e6524570be1f03edb750f9c2",
       "toolbar_position": "left"
      }
     },
     "028b51637e114cde9e10cc4dac82d0b8": {
      "model_module": "@jupyter-widgets/base",
      "model_module_version": "1.2.0",
      "model_name": "LayoutModel",
      "state": {}
     },
     "047998e74baf43d7b15c076be50d7a3d": {
      "model_module": "jupyter-matplotlib",
      "model_module_version": "^0.9.0",
      "model_name": "ToolbarModel",
      "state": {
       "layout": "IPY_MODEL_d8fc6dcc0f7c406f887dcb7f86f6d0e7",
       "toolitems": [
        [
         "Home",
         "Reset original view",
         "home",
         "home"
        ],
        [
         "Back",
         "Back to previous view",
         "arrow-left",
         "back"
        ],
        [
         "Forward",
         "Forward to next view",
         "arrow-right",
         "forward"
        ],
        [
         "Pan",
         "Left button pans, Right button zooms\nx/y fixes axis, CTRL fixes aspect",
         "arrows",
         "pan"
        ],
        [
         "Zoom",
         "Zoom to rectangle\nx/y fixes axis, CTRL fixes aspect",
         "square-o",
         "zoom"
        ],
        [
         "Download",
         "Download plot",
         "floppy-o",
         "save_figure"
        ]
       ]
      }
     },
     "04adf30c07564078a833b77faeb2d6d1": {
      "model_module": "jupyter-matplotlib",
      "model_module_version": "^0.9.0",
      "model_name": "MPLCanvasModel",
      "state": {
       "_cursor": "default",
       "_figure_label": "Figure 30",
       "_height": 360,
       "_width": 864,
       "layout": "IPY_MODEL_3c8a5ae87f204c548fdc715a84c5d310",
       "toolbar": "IPY_MODEL_d20fce5322724c7e8e058e639e934821",
       "toolbar_position": "left"
      }
     },
     "093fbacb462b43d2a09705537dd61d2c": {
      "model_module": "jupyter-matplotlib",
      "model_module_version": "^0.9.0",
      "model_name": "MPLCanvasModel",
      "state": {
       "_cursor": "default",
       "_figure_label": "Figure 35",
       "_height": 720,
       "_width": 1152,
       "layout": "IPY_MODEL_327b6e6819524b49bf54336fa620ca3f",
       "toolbar": "IPY_MODEL_9b864356a3574131a2716d0626c670dc",
       "toolbar_position": "left"
      }
     },
     "0a4c09debcbb4bba90b8ccc92c0d15d4": {
      "model_module": "jupyter-matplotlib",
      "model_module_version": "^0.9.0",
      "model_name": "MPLCanvasModel",
      "state": {
       "_cursor": "default",
       "_figure_label": "Figure 24",
       "_height": 360,
       "_width": 864,
       "layout": "IPY_MODEL_cf16c1d40d00420c8a09c2dcf71d36de",
       "toolbar": "IPY_MODEL_326819bbfc654a58abbe44657b35bde8",
       "toolbar_position": "left"
      }
     },
     "0e7cf29d51b74363917cf16d2ab8fdc4": {
      "model_module": "jupyter-matplotlib",
      "model_module_version": "^0.9.0",
      "model_name": "MPLCanvasModel",
      "state": {
       "_cursor": "default",
       "_figure_label": "Figure 10",
       "_height": 288,
       "_message": "zoom rect",
       "_rubberband_y": 288,
       "_width": 432,
       "layout": "IPY_MODEL_eb11ad77b7fa40e7970bc426be9a549c",
       "toolbar": "IPY_MODEL_e88eed40b43e4ad6805ca2c9883c89c1",
       "toolbar_position": "left"
      }
     },
     "0f8d43223e514f4cb79dd8f614815106": {
      "model_module": "@jupyter-widgets/base",
      "model_module_version": "1.2.0",
      "model_name": "LayoutModel",
      "state": {}
     },
     "18279ee26771462aab820dce54e943d2": {
      "model_module": "@jupyter-widgets/base",
      "model_module_version": "1.2.0",
      "model_name": "LayoutModel",
      "state": {}
     },
     "19b8620948ea49de9b6bcc79265fd0ce": {
      "model_module": "jupyter-matplotlib",
      "model_module_version": "^0.9.0",
      "model_name": "ToolbarModel",
      "state": {
       "layout": "IPY_MODEL_ae6d2d6e0a0a4fd390df78ce17623c58",
       "toolitems": [
        [
         "Home",
         "Reset original view",
         "home",
         "home"
        ],
        [
         "Back",
         "Back to previous view",
         "arrow-left",
         "back"
        ],
        [
         "Forward",
         "Forward to next view",
         "arrow-right",
         "forward"
        ],
        [
         "Pan",
         "Left button pans, Right button zooms\nx/y fixes axis, CTRL fixes aspect",
         "arrows",
         "pan"
        ],
        [
         "Zoom",
         "Zoom to rectangle\nx/y fixes axis, CTRL fixes aspect",
         "square-o",
         "zoom"
        ],
        [
         "Download",
         "Download plot",
         "floppy-o",
         "save_figure"
        ]
       ]
      }
     },
     "1b14cc4c0a6c4f8d96c92ed8f9e1ea4b": {
      "model_module": "jupyter-matplotlib",
      "model_module_version": "^0.9.0",
      "model_name": "MPLCanvasModel",
      "state": {
       "_cursor": "default",
       "_figure_label": "Figure 21",
       "_height": 288,
       "_message": "x=0.308 y=0.654",
       "_width": 432,
       "layout": "IPY_MODEL_a89bd88bfc6542068d7a9055ad27b98f",
       "toolbar": "IPY_MODEL_7130b43f76144155aa9d0b8389453def",
       "toolbar_position": "left"
      }
     },
     "1eec482b89e6453c882ba6185ed39789": {
      "model_module": "jupyter-matplotlib",
      "model_module_version": "^0.9.0",
      "model_name": "MPLCanvasModel",
      "state": {
       "_cursor": "default",
       "_figure_label": "Figure 6",
       "_height": 288,
       "_message": "zoom rect",
       "_rubberband_y": 288,
       "_width": 432,
       "layout": "IPY_MODEL_2735adec02da474bbca9239b026b72d4",
       "toolbar": "IPY_MODEL_8e9a6cec2ae64f4abf0391c8d4b204fc",
       "toolbar_position": "left"
      }
     },
     "1efe2471f84d4cd49867372cdd1e0f0e": {
      "model_module": "jupyter-matplotlib",
      "model_module_version": "^0.9.0",
      "model_name": "ToolbarModel",
      "state": {
       "_current_action": "zoom",
       "layout": "IPY_MODEL_2331b278196f41fcbc6b94cf47e11e66",
       "toolitems": [
        [
         "Home",
         "Reset original view",
         "home",
         "home"
        ],
        [
         "Back",
         "Back to previous view",
         "arrow-left",
         "back"
        ],
        [
         "Forward",
         "Forward to next view",
         "arrow-right",
         "forward"
        ],
        [
         "Pan",
         "Left button pans, Right button zooms\nx/y fixes axis, CTRL fixes aspect",
         "arrows",
         "pan"
        ],
        [
         "Zoom",
         "Zoom to rectangle\nx/y fixes axis, CTRL fixes aspect",
         "square-o",
         "zoom"
        ],
        [
         "Download",
         "Download plot",
         "floppy-o",
         "save_figure"
        ]
       ]
      }
     },
     "20c35d984ee94bdfa5cfd47361cadf04": {
      "model_module": "@jupyter-widgets/base",
      "model_module_version": "1.2.0",
      "model_name": "LayoutModel",
      "state": {}
     },
     "21c1f651737f4e51af468b925bff9da4": {
      "model_module": "jupyter-matplotlib",
      "model_module_version": "^0.9.0",
      "model_name": "ToolbarModel",
      "state": {
       "layout": "IPY_MODEL_804f55611012493b80eee291fcf326af",
       "toolitems": [
        [
         "Home",
         "Reset original view",
         "home",
         "home"
        ],
        [
         "Back",
         "Back to previous view",
         "arrow-left",
         "back"
        ],
        [
         "Forward",
         "Forward to next view",
         "arrow-right",
         "forward"
        ],
        [
         "Pan",
         "Left button pans, Right button zooms\nx/y fixes axis, CTRL fixes aspect",
         "arrows",
         "pan"
        ],
        [
         "Zoom",
         "Zoom to rectangle\nx/y fixes axis, CTRL fixes aspect",
         "square-o",
         "zoom"
        ],
        [
         "Download",
         "Download plot",
         "floppy-o",
         "save_figure"
        ]
       ]
      }
     },
     "21fe9bd6afc3426cafeba34b19de0687": {
      "model_module": "jupyter-matplotlib",
      "model_module_version": "^0.9.0",
      "model_name": "ToolbarModel",
      "state": {
       "layout": "IPY_MODEL_18279ee26771462aab820dce54e943d2",
       "toolitems": [
        [
         "Home",
         "Reset original view",
         "home",
         "home"
        ],
        [
         "Back",
         "Back to previous view",
         "arrow-left",
         "back"
        ],
        [
         "Forward",
         "Forward to next view",
         "arrow-right",
         "forward"
        ],
        [
         "Pan",
         "Left button pans, Right button zooms\nx/y fixes axis, CTRL fixes aspect",
         "arrows",
         "pan"
        ],
        [
         "Zoom",
         "Zoom to rectangle\nx/y fixes axis, CTRL fixes aspect",
         "square-o",
         "zoom"
        ],
        [
         "Download",
         "Download plot",
         "floppy-o",
         "save_figure"
        ]
       ]
      }
     },
     "2331b278196f41fcbc6b94cf47e11e66": {
      "model_module": "@jupyter-widgets/base",
      "model_module_version": "1.2.0",
      "model_name": "LayoutModel",
      "state": {}
     },
     "26b530c4a09c462c8322b5eba1666e9c": {
      "model_module": "jupyter-matplotlib",
      "model_module_version": "^0.9.0",
      "model_name": "ToolbarModel",
      "state": {
       "layout": "IPY_MODEL_c9af6d7d481442eea7ffb32c937c31e8",
       "toolitems": [
        [
         "Home",
         "Reset original view",
         "home",
         "home"
        ],
        [
         "Back",
         "Back to previous view",
         "arrow-left",
         "back"
        ],
        [
         "Forward",
         "Forward to next view",
         "arrow-right",
         "forward"
        ],
        [
         "Pan",
         "Left button pans, Right button zooms\nx/y fixes axis, CTRL fixes aspect",
         "arrows",
         "pan"
        ],
        [
         "Zoom",
         "Zoom to rectangle\nx/y fixes axis, CTRL fixes aspect",
         "square-o",
         "zoom"
        ],
        [
         "Download",
         "Download plot",
         "floppy-o",
         "save_figure"
        ]
       ]
      }
     },
     "272e7a3eafdf415fa4b6119098d537bd": {
      "model_module": "jupyter-matplotlib",
      "model_module_version": "^0.9.0",
      "model_name": "ToolbarModel",
      "state": {
       "layout": "IPY_MODEL_d0cdfa46a90948f8a1cb40198ca8986a",
       "toolitems": [
        [
         "Home",
         "Reset original view",
         "home",
         "home"
        ],
        [
         "Back",
         "Back to previous view",
         "arrow-left",
         "back"
        ],
        [
         "Forward",
         "Forward to next view",
         "arrow-right",
         "forward"
        ],
        [
         "Pan",
         "Left button pans, Right button zooms\nx/y fixes axis, CTRL fixes aspect",
         "arrows",
         "pan"
        ],
        [
         "Zoom",
         "Zoom to rectangle\nx/y fixes axis, CTRL fixes aspect",
         "square-o",
         "zoom"
        ],
        [
         "Download",
         "Download plot",
         "floppy-o",
         "save_figure"
        ]
       ]
      }
     },
     "2735adec02da474bbca9239b026b72d4": {
      "model_module": "@jupyter-widgets/base",
      "model_module_version": "1.2.0",
      "model_name": "LayoutModel",
      "state": {}
     },
     "29442134e00942978bfbb394ca6845bc": {
      "model_module": "jupyter-matplotlib",
      "model_module_version": "^0.9.0",
      "model_name": "MPLCanvasModel",
      "state": {
       "_cursor": "default",
       "_figure_label": "Figure 4",
       "_height": 288,
       "_width": 432,
       "layout": "IPY_MODEL_89fdcb2bcf284e6db96968eddd77af64",
       "toolbar": "IPY_MODEL_cefe2cae434a430aa454bfa1eeabf239",
       "toolbar_position": "left"
      }
     },
     "29c16af36d834485857ca16f914aa4d0": {
      "model_module": "jupyter-matplotlib",
      "model_module_version": "^0.9.0",
      "model_name": "MPLCanvasModel",
      "state": {
       "_cursor": "default",
       "_figure_label": "Figure 34",
       "_height": 720,
       "_width": 1080,
       "layout": "IPY_MODEL_5fe3c06fee4346feb38cf3dcc5cad343",
       "toolbar": "IPY_MODEL_e22c1da0fb4542268dd38be350e65a64",
       "toolbar_position": "left"
      }
     },
     "2c922ea7cda140b787a994ba5c6ed896": {
      "model_module": "jupyter-matplotlib",
      "model_module_version": "^0.9.0",
      "model_name": "ToolbarModel",
      "state": {
       "layout": "IPY_MODEL_028b51637e114cde9e10cc4dac82d0b8",
       "toolitems": [
        [
         "Home",
         "Reset original view",
         "home",
         "home"
        ],
        [
         "Back",
         "Back to previous view",
         "arrow-left",
         "back"
        ],
        [
         "Forward",
         "Forward to next view",
         "arrow-right",
         "forward"
        ],
        [
         "Pan",
         "Left button pans, Right button zooms\nx/y fixes axis, CTRL fixes aspect",
         "arrows",
         "pan"
        ],
        [
         "Zoom",
         "Zoom to rectangle\nx/y fixes axis, CTRL fixes aspect",
         "square-o",
         "zoom"
        ],
        [
         "Download",
         "Download plot",
         "floppy-o",
         "save_figure"
        ]
       ]
      }
     },
     "2dd899936fc14fa6aaa905e3c6aa9448": {
      "model_module": "@jupyter-widgets/base",
      "model_module_version": "1.2.0",
      "model_name": "LayoutModel",
      "state": {}
     },
     "2f862d75ba2741dc8afc79d724adcfde": {
      "model_module": "jupyter-matplotlib",
      "model_module_version": "^0.9.0",
      "model_name": "MPLCanvasModel",
      "state": {
       "_cursor": "default",
       "_figure_label": "Figure 1",
       "_height": 288,
       "_message": "x=−10.1 y=12.8",
       "_width": 432,
       "layout": "IPY_MODEL_d8b3ab7df5cc440790c10abadef88e31",
       "toolbar": "IPY_MODEL_525a19feaa7a4de9961551797036e83d",
       "toolbar_position": "left"
      }
     },
     "310bbccebef64675823465544185affe": {
      "model_module": "jupyter-matplotlib",
      "model_module_version": "^0.9.0",
      "model_name": "MPLCanvasModel",
      "state": {
       "_cursor": "default",
       "_figure_label": "Figure 26",
       "_height": 360,
       "_width": 864,
       "layout": "IPY_MODEL_a445c832b0cf45dca42a98cfdc4183fb",
       "toolbar": "IPY_MODEL_26b530c4a09c462c8322b5eba1666e9c",
       "toolbar_position": "left"
      }
     },
     "315407326d5d481e8fd571eaab0b8ff3": {
      "model_module": "@jupyter-widgets/base",
      "model_module_version": "1.2.0",
      "model_name": "LayoutModel",
      "state": {}
     },
     "326819bbfc654a58abbe44657b35bde8": {
      "model_module": "jupyter-matplotlib",
      "model_module_version": "^0.9.0",
      "model_name": "ToolbarModel",
      "state": {
       "layout": "IPY_MODEL_20c35d984ee94bdfa5cfd47361cadf04",
       "toolitems": [
        [
         "Home",
         "Reset original view",
         "home",
         "home"
        ],
        [
         "Back",
         "Back to previous view",
         "arrow-left",
         "back"
        ],
        [
         "Forward",
         "Forward to next view",
         "arrow-right",
         "forward"
        ],
        [
         "Pan",
         "Left button pans, Right button zooms\nx/y fixes axis, CTRL fixes aspect",
         "arrows",
         "pan"
        ],
        [
         "Zoom",
         "Zoom to rectangle\nx/y fixes axis, CTRL fixes aspect",
         "square-o",
         "zoom"
        ],
        [
         "Download",
         "Download plot",
         "floppy-o",
         "save_figure"
        ]
       ]
      }
     },
     "3272976e6eb34a5d834afa11b4f96a8c": {
      "model_module": "@jupyter-widgets/base",
      "model_module_version": "1.2.0",
      "model_name": "LayoutModel",
      "state": {}
     },
     "327b6e6819524b49bf54336fa620ca3f": {
      "model_module": "@jupyter-widgets/base",
      "model_module_version": "1.2.0",
      "model_name": "LayoutModel",
      "state": {}
     },
     "39a8574fec1941e2b374db88eed10fcc": {
      "model_module": "@jupyter-widgets/base",
      "model_module_version": "1.2.0",
      "model_name": "LayoutModel",
      "state": {}
     },
     "3b56711557d541f490caae31fa4f6ba6": {
      "model_module": "jupyter-matplotlib",
      "model_module_version": "^0.9.0",
      "model_name": "ToolbarModel",
      "state": {
       "layout": "IPY_MODEL_b34db8c9336340c59d259a5b89f748f8",
       "toolitems": [
        [
         "Home",
         "Reset original view",
         "home",
         "home"
        ],
        [
         "Back",
         "Back to previous view",
         "arrow-left",
         "back"
        ],
        [
         "Forward",
         "Forward to next view",
         "arrow-right",
         "forward"
        ],
        [
         "Pan",
         "Left button pans, Right button zooms\nx/y fixes axis, CTRL fixes aspect",
         "arrows",
         "pan"
        ],
        [
         "Zoom",
         "Zoom to rectangle\nx/y fixes axis, CTRL fixes aspect",
         "square-o",
         "zoom"
        ],
        [
         "Download",
         "Download plot",
         "floppy-o",
         "save_figure"
        ]
       ]
      }
     },
     "3c8a5ae87f204c548fdc715a84c5d310": {
      "model_module": "@jupyter-widgets/base",
      "model_module_version": "1.2.0",
      "model_name": "LayoutModel",
      "state": {}
     },
     "3f3367c83c6a4ac0ae8c8cc23cbd9835": {
      "model_module": "jupyter-matplotlib",
      "model_module_version": "^0.9.0",
      "model_name": "ToolbarModel",
      "state": {
       "layout": "IPY_MODEL_0f8d43223e514f4cb79dd8f614815106",
       "toolitems": [
        [
         "Home",
         "Reset original view",
         "home",
         "home"
        ],
        [
         "Back",
         "Back to previous view",
         "arrow-left",
         "back"
        ],
        [
         "Forward",
         "Forward to next view",
         "arrow-right",
         "forward"
        ],
        [
         "Pan",
         "Left button pans, Right button zooms\nx/y fixes axis, CTRL fixes aspect",
         "arrows",
         "pan"
        ],
        [
         "Zoom",
         "Zoom to rectangle\nx/y fixes axis, CTRL fixes aspect",
         "square-o",
         "zoom"
        ],
        [
         "Download",
         "Download plot",
         "floppy-o",
         "save_figure"
        ]
       ]
      }
     },
     "43068f96e6524570be1f03edb750f9c2": {
      "model_module": "jupyter-matplotlib",
      "model_module_version": "^0.9.0",
      "model_name": "ToolbarModel",
      "state": {
       "layout": "IPY_MODEL_39a8574fec1941e2b374db88eed10fcc",
       "toolitems": [
        [
         "Home",
         "Reset original view",
         "home",
         "home"
        ],
        [
         "Back",
         "Back to previous view",
         "arrow-left",
         "back"
        ],
        [
         "Forward",
         "Forward to next view",
         "arrow-right",
         "forward"
        ],
        [
         "Pan",
         "Left button pans, Right button zooms\nx/y fixes axis, CTRL fixes aspect",
         "arrows",
         "pan"
        ],
        [
         "Zoom",
         "Zoom to rectangle\nx/y fixes axis, CTRL fixes aspect",
         "square-o",
         "zoom"
        ],
        [
         "Download",
         "Download plot",
         "floppy-o",
         "save_figure"
        ]
       ]
      }
     },
     "435290932a344054ba917d6582297d35": {
      "model_module": "jupyter-matplotlib",
      "model_module_version": "^0.9.0",
      "model_name": "ToolbarModel",
      "state": {
       "layout": "IPY_MODEL_d09e061dfab141bb88989469e179777b",
       "toolitems": [
        [
         "Home",
         "Reset original view",
         "home",
         "home"
        ],
        [
         "Back",
         "Back to previous view",
         "arrow-left",
         "back"
        ],
        [
         "Forward",
         "Forward to next view",
         "arrow-right",
         "forward"
        ],
        [
         "Pan",
         "Left button pans, Right button zooms\nx/y fixes axis, CTRL fixes aspect",
         "arrows",
         "pan"
        ],
        [
         "Zoom",
         "Zoom to rectangle\nx/y fixes axis, CTRL fixes aspect",
         "square-o",
         "zoom"
        ],
        [
         "Download",
         "Download plot",
         "floppy-o",
         "save_figure"
        ]
       ]
      }
     },
     "4365d4a46e7344e998390cae4ad68974": {
      "model_module": "@jupyter-widgets/base",
      "model_module_version": "1.2.0",
      "model_name": "LayoutModel",
      "state": {}
     },
     "46974c2189194eb391670f529e2691d5": {
      "model_module": "@jupyter-widgets/base",
      "model_module_version": "1.2.0",
      "model_name": "LayoutModel",
      "state": {}
     },
     "4831d029e5a54ac0ab5cc2ada60661ac": {
      "model_module": "@jupyter-widgets/base",
      "model_module_version": "1.2.0",
      "model_name": "LayoutModel",
      "state": {}
     },
     "4b877fa727db4d12876ac6ccd9925d33": {
      "model_module": "jupyter-matplotlib",
      "model_module_version": "^0.9.0",
      "model_name": "MPLCanvasModel",
      "state": {
       "_cursor": "default",
       "_figure_label": "Figure 16",
       "_height": 288,
       "_message": "x=61.8 y=−12.9",
       "_width": 432,
       "layout": "IPY_MODEL_f0235d240f3a4d69bd2949e09bcb660d",
       "toolbar": "IPY_MODEL_d0baa7d542d84800a15409b96e6cae1d",
       "toolbar_position": "left"
      }
     },
     "4c1d4323cb7044739119c3dc74f1274e": {
      "model_module": "jupyter-matplotlib",
      "model_module_version": "^0.9.0",
      "model_name": "MPLCanvasModel",
      "state": {
       "_cursor": "default",
       "_figure_label": "Figure 7",
       "_height": 288,
       "_width": 432,
       "layout": "IPY_MODEL_c8a56412795845de806a89f1c7b28849",
       "toolbar": "IPY_MODEL_21c1f651737f4e51af468b925bff9da4",
       "toolbar_position": "left"
      }
     },
     "4e155759eb8645a3a64d9292d19a67ce": {
      "model_module": "@jupyter-widgets/base",
      "model_module_version": "1.2.0",
      "model_name": "LayoutModel",
      "state": {}
     },
     "4e3f1792ddb049f0b1022b5609550661": {
      "model_module": "jupyter-matplotlib",
      "model_module_version": "^0.9.0",
      "model_name": "ToolbarModel",
      "state": {
       "layout": "IPY_MODEL_4365d4a46e7344e998390cae4ad68974",
       "toolitems": [
        [
         "Home",
         "Reset original view",
         "home",
         "home"
        ],
        [
         "Back",
         "Back to previous view",
         "arrow-left",
         "back"
        ],
        [
         "Forward",
         "Forward to next view",
         "arrow-right",
         "forward"
        ],
        [
         "Pan",
         "Left button pans, Right button zooms\nx/y fixes axis, CTRL fixes aspect",
         "arrows",
         "pan"
        ],
        [
         "Zoom",
         "Zoom to rectangle\nx/y fixes axis, CTRL fixes aspect",
         "square-o",
         "zoom"
        ],
        [
         "Download",
         "Download plot",
         "floppy-o",
         "save_figure"
        ]
       ]
      }
     },
     "4ec248476f474e7993b635edb74d0a7d": {
      "model_module": "jupyter-matplotlib",
      "model_module_version": "^0.9.0",
      "model_name": "MPLCanvasModel",
      "state": {
       "_cursor": "default",
       "_figure_label": "Figure 31",
       "_height": 360,
       "_width": 864,
       "layout": "IPY_MODEL_5262ee21e6004f6f8a3c9a3fb76c170a",
       "toolbar": "IPY_MODEL_a8a70c3982e044188b66c911fa2b16ef",
       "toolbar_position": "left"
      }
     },
     "525a19feaa7a4de9961551797036e83d": {
      "model_module": "jupyter-matplotlib",
      "model_module_version": "^0.9.0",
      "model_name": "ToolbarModel",
      "state": {
       "layout": "IPY_MODEL_ec8dc6921a394ff19033454930592693",
       "toolitems": [
        [
         "Home",
         "Reset original view",
         "home",
         "home"
        ],
        [
         "Back",
         "Back to previous view",
         "arrow-left",
         "back"
        ],
        [
         "Forward",
         "Forward to next view",
         "arrow-right",
         "forward"
        ],
        [
         "Pan",
         "Left button pans, Right button zooms\nx/y fixes axis, CTRL fixes aspect",
         "arrows",
         "pan"
        ],
        [
         "Zoom",
         "Zoom to rectangle\nx/y fixes axis, CTRL fixes aspect",
         "square-o",
         "zoom"
        ],
        [
         "Download",
         "Download plot",
         "floppy-o",
         "save_figure"
        ]
       ]
      }
     },
     "5262ee21e6004f6f8a3c9a3fb76c170a": {
      "model_module": "@jupyter-widgets/base",
      "model_module_version": "1.2.0",
      "model_name": "LayoutModel",
      "state": {}
     },
     "5305dee3f39b402aa349dd1b4810eb75": {
      "model_module": "@jupyter-widgets/base",
      "model_module_version": "1.2.0",
      "model_name": "LayoutModel",
      "state": {}
     },
     "531434c46ad849bf8f26d043be171ad1": {
      "model_module": "@jupyter-widgets/base",
      "model_module_version": "1.2.0",
      "model_name": "LayoutModel",
      "state": {}
     },
     "5417d285f0e842e0bd3da99349437de0": {
      "model_module": "jupyter-matplotlib",
      "model_module_version": "^0.9.0",
      "model_name": "MPLCanvasModel",
      "state": {
       "_cursor": "default",
       "_figure_label": "Figure 22",
       "_height": 288,
       "_width": 432,
       "layout": "IPY_MODEL_851b4b598a75481e889153fd84d27a23",
       "toolbar": "IPY_MODEL_435290932a344054ba917d6582297d35",
       "toolbar_position": "left"
      }
     },
     "5780cb42ba8a451cb7f2893378f66d37": {
      "model_module": "jupyter-matplotlib",
      "model_module_version": "^0.9.0",
      "model_name": "ToolbarModel",
      "state": {
       "layout": "IPY_MODEL_d67776e54a1840f99aab14a7f90f36b1",
       "toolitems": [
        [
         "Home",
         "Reset original view",
         "home",
         "home"
        ],
        [
         "Back",
         "Back to previous view",
         "arrow-left",
         "back"
        ],
        [
         "Forward",
         "Forward to next view",
         "arrow-right",
         "forward"
        ],
        [
         "Pan",
         "Left button pans, Right button zooms\nx/y fixes axis, CTRL fixes aspect",
         "arrows",
         "pan"
        ],
        [
         "Zoom",
         "Zoom to rectangle\nx/y fixes axis, CTRL fixes aspect",
         "square-o",
         "zoom"
        ],
        [
         "Download",
         "Download plot",
         "floppy-o",
         "save_figure"
        ]
       ]
      }
     },
     "58069f4780694b40b147295b88a1d1c1": {
      "model_module": "jupyter-matplotlib",
      "model_module_version": "^0.9.0",
      "model_name": "MPLCanvasModel",
      "state": {
       "_cursor": "default",
       "_figure_label": "Figure 5",
       "_height": 288,
       "_width": 432,
       "layout": "IPY_MODEL_87f2a28fa53d4a959f7c192553476e1e",
       "toolbar": "IPY_MODEL_8f4aa161f6ee4f0a8d3e9fbbf8ac54b4",
       "toolbar_position": "left"
      }
     },
     "5864b77cee28467d837d0d3fd9a43dcc": {
      "model_module": "@jupyter-widgets/base",
      "model_module_version": "1.2.0",
      "model_name": "LayoutModel",
      "state": {}
     },
     "5a50d3f4ab944891902a7c6569f25c6d": {
      "model_module": "jupyter-matplotlib",
      "model_module_version": "^0.9.0",
      "model_name": "ToolbarModel",
      "state": {
       "layout": "IPY_MODEL_d4b3cd89b23c45df9b6a6d378266e505",
       "toolitems": [
        [
         "Home",
         "Reset original view",
         "home",
         "home"
        ],
        [
         "Back",
         "Back to previous view",
         "arrow-left",
         "back"
        ],
        [
         "Forward",
         "Forward to next view",
         "arrow-right",
         "forward"
        ],
        [
         "Pan",
         "Left button pans, Right button zooms\nx/y fixes axis, CTRL fixes aspect",
         "arrows",
         "pan"
        ],
        [
         "Zoom",
         "Zoom to rectangle\nx/y fixes axis, CTRL fixes aspect",
         "square-o",
         "zoom"
        ],
        [
         "Download",
         "Download plot",
         "floppy-o",
         "save_figure"
        ]
       ]
      }
     },
     "5e11602be30a4e50a7f4ca0ab29d96e6": {
      "model_module": "jupyter-matplotlib",
      "model_module_version": "^0.9.0",
      "model_name": "MPLCanvasModel",
      "state": {
       "_cursor": "default",
       "_figure_label": "Figure 19",
       "_height": 288,
       "_width": 432,
       "layout": "IPY_MODEL_f386514c9b944879b45ed2dfa6c3f303",
       "toolbar": "IPY_MODEL_962d82e11d5641c99e9418d0105af9c3",
       "toolbar_position": "left"
      }
     },
     "5e5a999fd7614986907a03fe3dfe6661": {
      "model_module": "jupyter-matplotlib",
      "model_module_version": "^0.9.0",
      "model_name": "MPLCanvasModel",
      "state": {
       "_cursor": "default",
       "_figure_label": "Figure 29",
       "_height": 360,
       "_width": 864,
       "layout": "IPY_MODEL_4831d029e5a54ac0ab5cc2ada60661ac",
       "toolbar": "IPY_MODEL_86b51e441892433682e252f38582c138",
       "toolbar_position": "left"
      }
     },
     "5e6a846f7c7c46588bbebfec54d2dc9e": {
      "model_module": "@jupyter-widgets/base",
      "model_module_version": "1.2.0",
      "model_name": "LayoutModel",
      "state": {}
     },
     "5e823fad52a741bfabb65d7139bfe0cf": {
      "model_module": "jupyter-matplotlib",
      "model_module_version": "^0.9.0",
      "model_name": "MPLCanvasModel",
      "state": {
       "_cursor": "default",
       "_figure_label": "Figure 41",
       "_height": 288,
       "_width": 432,
       "layout": "IPY_MODEL_ea884a39217249d4aa28a36372473fe3",
       "toolbar": "IPY_MODEL_7c3e17cc862b40a69de370f11dd51a54",
       "toolbar_position": "left"
      }
     },
     "5fe3c06fee4346feb38cf3dcc5cad343": {
      "model_module": "@jupyter-widgets/base",
      "model_module_version": "1.2.0",
      "model_name": "LayoutModel",
      "state": {}
     },
     "6532e3dd99f04c04bd785692b7037fc9": {
      "model_module": "@jupyter-widgets/base",
      "model_module_version": "1.2.0",
      "model_name": "LayoutModel",
      "state": {}
     },
     "66e786c1321244e9b0f852739d125fb2": {
      "model_module": "@jupyter-widgets/base",
      "model_module_version": "1.2.0",
      "model_name": "LayoutModel",
      "state": {}
     },
     "6707f1d85e2a465898e14b78896410bc": {
      "model_module": "@jupyter-widgets/base",
      "model_module_version": "1.2.0",
      "model_name": "LayoutModel",
      "state": {}
     },
     "6793b12e78d64e3a9c67da8b190eb005": {
      "model_module": "jupyter-matplotlib",
      "model_module_version": "^0.9.0",
      "model_name": "ToolbarModel",
      "state": {
       "layout": "IPY_MODEL_d822b46d450a4325806075dc74ff87d9",
       "toolitems": [
        [
         "Home",
         "Reset original view",
         "home",
         "home"
        ],
        [
         "Back",
         "Back to previous view",
         "arrow-left",
         "back"
        ],
        [
         "Forward",
         "Forward to next view",
         "arrow-right",
         "forward"
        ],
        [
         "Pan",
         "Left button pans, Right button zooms\nx/y fixes axis, CTRL fixes aspect",
         "arrows",
         "pan"
        ],
        [
         "Zoom",
         "Zoom to rectangle\nx/y fixes axis, CTRL fixes aspect",
         "square-o",
         "zoom"
        ],
        [
         "Download",
         "Download plot",
         "floppy-o",
         "save_figure"
        ]
       ]
      }
     },
     "6c685b2b841745e3a98ff62c075889e8": {
      "model_module": "jupyter-matplotlib",
      "model_module_version": "^0.9.0",
      "model_name": "MPLCanvasModel",
      "state": {
       "_cursor": "default",
       "_figure_label": "Figure 14",
       "_height": 288,
       "_width": 432,
       "layout": "IPY_MODEL_aa348c107d6c4dc095ab6ff6669938c0",
       "toolbar": "IPY_MODEL_b3359aaa8fe041babd64097e265756cc",
       "toolbar_position": "left"
      }
     },
     "6e68e14042dc4ba5877998e70e7281f0": {
      "model_module": "jupyter-matplotlib",
      "model_module_version": "^0.9.0",
      "model_name": "MPLCanvasModel",
      "state": {
       "_cursor": "default",
       "_figure_label": "Figure 8",
       "_height": 288,
       "_width": 432,
       "layout": "IPY_MODEL_bebcd6b0005743d7b7951b1ac2765aec",
       "toolbar": "IPY_MODEL_19b8620948ea49de9b6bcc79265fd0ce",
       "toolbar_position": "left"
      }
     },
     "6f37bc6faed84c4f94198543a9879882": {
      "model_module": "jupyter-matplotlib",
      "model_module_version": "^0.9.0",
      "model_name": "ToolbarModel",
      "state": {
       "layout": "IPY_MODEL_f3be64e4854c4ca1a265c3aa4a1fd849",
       "toolitems": [
        [
         "Home",
         "Reset original view",
         "home",
         "home"
        ],
        [
         "Back",
         "Back to previous view",
         "arrow-left",
         "back"
        ],
        [
         "Forward",
         "Forward to next view",
         "arrow-right",
         "forward"
        ],
        [
         "Pan",
         "Left button pans, Right button zooms\nx/y fixes axis, CTRL fixes aspect",
         "arrows",
         "pan"
        ],
        [
         "Zoom",
         "Zoom to rectangle\nx/y fixes axis, CTRL fixes aspect",
         "square-o",
         "zoom"
        ],
        [
         "Download",
         "Download plot",
         "floppy-o",
         "save_figure"
        ]
       ]
      }
     },
     "7130b43f76144155aa9d0b8389453def": {
      "model_module": "jupyter-matplotlib",
      "model_module_version": "^0.9.0",
      "model_name": "ToolbarModel",
      "state": {
       "layout": "IPY_MODEL_e2ed79b6f1ad47f7b0478dcc21613b7d",
       "toolitems": [
        [
         "Home",
         "Reset original view",
         "home",
         "home"
        ],
        [
         "Back",
         "Back to previous view",
         "arrow-left",
         "back"
        ],
        [
         "Forward",
         "Forward to next view",
         "arrow-right",
         "forward"
        ],
        [
         "Pan",
         "Left button pans, Right button zooms\nx/y fixes axis, CTRL fixes aspect",
         "arrows",
         "pan"
        ],
        [
         "Zoom",
         "Zoom to rectangle\nx/y fixes axis, CTRL fixes aspect",
         "square-o",
         "zoom"
        ],
        [
         "Download",
         "Download plot",
         "floppy-o",
         "save_figure"
        ]
       ]
      }
     },
     "724d5f95ad1247aca1feb971bad0e786": {
      "model_module": "jupyter-matplotlib",
      "model_module_version": "^0.9.0",
      "model_name": "MPLCanvasModel",
      "state": {
       "_cursor": "default",
       "_figure_label": "Figure 20",
       "_height": 288,
       "_width": 432,
       "layout": "IPY_MODEL_531434c46ad849bf8f26d043be171ad1",
       "toolbar": "IPY_MODEL_2c922ea7cda140b787a994ba5c6ed896",
       "toolbar_position": "left"
      }
     },
     "74540a341b68406f8d19524c6d0c726c": {
      "model_module": "jupyter-matplotlib",
      "model_module_version": "^0.9.0",
      "model_name": "ToolbarModel",
      "state": {
       "layout": "IPY_MODEL_9d65b8bf89824c5f99dbc22ccec3adcb",
       "toolitems": [
        [
         "Home",
         "Reset original view",
         "home",
         "home"
        ],
        [
         "Back",
         "Back to previous view",
         "arrow-left",
         "back"
        ],
        [
         "Forward",
         "Forward to next view",
         "arrow-right",
         "forward"
        ],
        [
         "Pan",
         "Left button pans, Right button zooms\nx/y fixes axis, CTRL fixes aspect",
         "arrows",
         "pan"
        ],
        [
         "Zoom",
         "Zoom to rectangle\nx/y fixes axis, CTRL fixes aspect",
         "square-o",
         "zoom"
        ],
        [
         "Download",
         "Download plot",
         "floppy-o",
         "save_figure"
        ]
       ]
      }
     },
     "75821bb8f80c4fb88d663f01ab14379c": {
      "model_module": "jupyter-matplotlib",
      "model_module_version": "^0.9.0",
      "model_name": "MPLCanvasModel",
      "state": {
       "_cursor": "default",
       "_figure_label": "Figure 11",
       "_height": 288,
       "_message": "x=0.565 y=0.629",
       "_width": 432,
       "layout": "IPY_MODEL_e38c6ab73d34436995cf0565420536e2",
       "toolbar": "IPY_MODEL_4e3f1792ddb049f0b1022b5609550661",
       "toolbar_position": "left"
      }
     },
     "7979b888c31145128715b4fedeaf2ba3": {
      "model_module": "@jupyter-widgets/base",
      "model_module_version": "1.2.0",
      "model_name": "LayoutModel",
      "state": {}
     },
     "7c11c7f2b7854cdea9360db087e2a122": {
      "model_module": "@jupyter-widgets/base",
      "model_module_version": "1.2.0",
      "model_name": "LayoutModel",
      "state": {}
     },
     "7c3e17cc862b40a69de370f11dd51a54": {
      "model_module": "jupyter-matplotlib",
      "model_module_version": "^0.9.0",
      "model_name": "ToolbarModel",
      "state": {
       "layout": "IPY_MODEL_d4d18210ecf545a1b9dfc3df374e6c98",
       "toolitems": [
        [
         "Home",
         "Reset original view",
         "home",
         "home"
        ],
        [
         "Back",
         "Back to previous view",
         "arrow-left",
         "back"
        ],
        [
         "Forward",
         "Forward to next view",
         "arrow-right",
         "forward"
        ],
        [
         "Pan",
         "Left button pans, Right button zooms\nx/y fixes axis, CTRL fixes aspect",
         "arrows",
         "pan"
        ],
        [
         "Zoom",
         "Zoom to rectangle\nx/y fixes axis, CTRL fixes aspect",
         "square-o",
         "zoom"
        ],
        [
         "Download",
         "Download plot",
         "floppy-o",
         "save_figure"
        ]
       ]
      }
     },
     "7d6c041876b547aa83c2ca2a30e67242": {
      "model_module": "jupyter-matplotlib",
      "model_module_version": "^0.9.0",
      "model_name": "MPLCanvasModel",
      "state": {
       "_cursor": "default",
       "_figure_label": "Figure 12",
       "_height": 288,
       "_width": 432,
       "layout": "IPY_MODEL_b02540aa067549d0ba5b1fb367371319",
       "toolbar": "IPY_MODEL_5780cb42ba8a451cb7f2893378f66d37",
       "toolbar_position": "left"
      }
     },
     "7edac610b0e3458292f69a70329ad6d8": {
      "model_module": "@jupyter-widgets/base",
      "model_module_version": "1.2.0",
      "model_name": "LayoutModel",
      "state": {}
     },
     "804f55611012493b80eee291fcf326af": {
      "model_module": "@jupyter-widgets/base",
      "model_module_version": "1.2.0",
      "model_name": "LayoutModel",
      "state": {}
     },
     "81b9da88ef634def9ed9fbeb3f2563d1": {
      "model_module": "jupyter-matplotlib",
      "model_module_version": "^0.9.0",
      "model_name": "ToolbarModel",
      "state": {
       "layout": "IPY_MODEL_e7a94f5fb6fe487989536b7d488949a6",
       "toolitems": [
        [
         "Home",
         "Reset original view",
         "home",
         "home"
        ],
        [
         "Back",
         "Back to previous view",
         "arrow-left",
         "back"
        ],
        [
         "Forward",
         "Forward to next view",
         "arrow-right",
         "forward"
        ],
        [
         "Pan",
         "Left button pans, Right button zooms\nx/y fixes axis, CTRL fixes aspect",
         "arrows",
         "pan"
        ],
        [
         "Zoom",
         "Zoom to rectangle\nx/y fixes axis, CTRL fixes aspect",
         "square-o",
         "zoom"
        ],
        [
         "Download",
         "Download plot",
         "floppy-o",
         "save_figure"
        ]
       ]
      }
     },
     "82b45eec6d534baea30185efe3ae5fcc": {
      "model_module": "@jupyter-widgets/base",
      "model_module_version": "1.2.0",
      "model_name": "LayoutModel",
      "state": {}
     },
     "84c53b17ec994656b7762cdd3a04be36": {
      "model_module": "@jupyter-widgets/base",
      "model_module_version": "1.2.0",
      "model_name": "LayoutModel",
      "state": {}
     },
     "851b4b598a75481e889153fd84d27a23": {
      "model_module": "@jupyter-widgets/base",
      "model_module_version": "1.2.0",
      "model_name": "LayoutModel",
      "state": {}
     },
     "86b51e441892433682e252f38582c138": {
      "model_module": "jupyter-matplotlib",
      "model_module_version": "^0.9.0",
      "model_name": "ToolbarModel",
      "state": {
       "layout": "IPY_MODEL_7c11c7f2b7854cdea9360db087e2a122",
       "toolitems": [
        [
         "Home",
         "Reset original view",
         "home",
         "home"
        ],
        [
         "Back",
         "Back to previous view",
         "arrow-left",
         "back"
        ],
        [
         "Forward",
         "Forward to next view",
         "arrow-right",
         "forward"
        ],
        [
         "Pan",
         "Left button pans, Right button zooms\nx/y fixes axis, CTRL fixes aspect",
         "arrows",
         "pan"
        ],
        [
         "Zoom",
         "Zoom to rectangle\nx/y fixes axis, CTRL fixes aspect",
         "square-o",
         "zoom"
        ],
        [
         "Download",
         "Download plot",
         "floppy-o",
         "save_figure"
        ]
       ]
      }
     },
     "87f2a28fa53d4a959f7c192553476e1e": {
      "model_module": "@jupyter-widgets/base",
      "model_module_version": "1.2.0",
      "model_name": "LayoutModel",
      "state": {}
     },
     "8896f240a3104d12bef8100bee1fb34b": {
      "model_module": "@jupyter-widgets/base",
      "model_module_version": "1.2.0",
      "model_name": "LayoutModel",
      "state": {}
     },
     "89fdcb2bcf284e6db96968eddd77af64": {
      "model_module": "@jupyter-widgets/base",
      "model_module_version": "1.2.0",
      "model_name": "LayoutModel",
      "state": {}
     },
     "8a577bbc4d614465bb4dbff6c3651497": {
      "model_module": "jupyter-matplotlib",
      "model_module_version": "^0.9.0",
      "model_name": "MPLCanvasModel",
      "state": {
       "_cursor": "default",
       "_figure_label": "Figure 18",
       "_height": 288,
       "_message": "x=16.2 y=−20.1",
       "_width": 432,
       "layout": "IPY_MODEL_bef7c8771be44a638a848940cc511a48",
       "toolbar": "IPY_MODEL_3b56711557d541f490caae31fa4f6ba6",
       "toolbar_position": "left"
      }
     },
     "8e9a6cec2ae64f4abf0391c8d4b204fc": {
      "model_module": "jupyter-matplotlib",
      "model_module_version": "^0.9.0",
      "model_name": "ToolbarModel",
      "state": {
       "_current_action": "zoom",
       "layout": "IPY_MODEL_8896f240a3104d12bef8100bee1fb34b",
       "toolitems": [
        [
         "Home",
         "Reset original view",
         "home",
         "home"
        ],
        [
         "Back",
         "Back to previous view",
         "arrow-left",
         "back"
        ],
        [
         "Forward",
         "Forward to next view",
         "arrow-right",
         "forward"
        ],
        [
         "Pan",
         "Left button pans, Right button zooms\nx/y fixes axis, CTRL fixes aspect",
         "arrows",
         "pan"
        ],
        [
         "Zoom",
         "Zoom to rectangle\nx/y fixes axis, CTRL fixes aspect",
         "square-o",
         "zoom"
        ],
        [
         "Download",
         "Download plot",
         "floppy-o",
         "save_figure"
        ]
       ]
      }
     },
     "8f1c80cbf0e14538b36a055ce653f15b": {
      "model_module": "@jupyter-widgets/base",
      "model_module_version": "1.2.0",
      "model_name": "LayoutModel",
      "state": {}
     },
     "8f4aa161f6ee4f0a8d3e9fbbf8ac54b4": {
      "model_module": "jupyter-matplotlib",
      "model_module_version": "^0.9.0",
      "model_name": "ToolbarModel",
      "state": {
       "layout": "IPY_MODEL_db5c8afd22464b88bd549e7865827f22",
       "toolitems": [
        [
         "Home",
         "Reset original view",
         "home",
         "home"
        ],
        [
         "Back",
         "Back to previous view",
         "arrow-left",
         "back"
        ],
        [
         "Forward",
         "Forward to next view",
         "arrow-right",
         "forward"
        ],
        [
         "Pan",
         "Left button pans, Right button zooms\nx/y fixes axis, CTRL fixes aspect",
         "arrows",
         "pan"
        ],
        [
         "Zoom",
         "Zoom to rectangle\nx/y fixes axis, CTRL fixes aspect",
         "square-o",
         "zoom"
        ],
        [
         "Download",
         "Download plot",
         "floppy-o",
         "save_figure"
        ]
       ]
      }
     },
     "95ca2244a1b74449af753307a2aca747": {
      "model_module": "jupyter-matplotlib",
      "model_module_version": "^0.9.0",
      "model_name": "ToolbarModel",
      "state": {
       "layout": "IPY_MODEL_2dd899936fc14fa6aaa905e3c6aa9448",
       "toolitems": [
        [
         "Home",
         "Reset original view",
         "home",
         "home"
        ],
        [
         "Back",
         "Back to previous view",
         "arrow-left",
         "back"
        ],
        [
         "Forward",
         "Forward to next view",
         "arrow-right",
         "forward"
        ],
        [
         "Pan",
         "Left button pans, Right button zooms\nx/y fixes axis, CTRL fixes aspect",
         "arrows",
         "pan"
        ],
        [
         "Zoom",
         "Zoom to rectangle\nx/y fixes axis, CTRL fixes aspect",
         "square-o",
         "zoom"
        ],
        [
         "Download",
         "Download plot",
         "floppy-o",
         "save_figure"
        ]
       ]
      }
     },
     "962d82e11d5641c99e9418d0105af9c3": {
      "model_module": "jupyter-matplotlib",
      "model_module_version": "^0.9.0",
      "model_name": "ToolbarModel",
      "state": {
       "layout": "IPY_MODEL_8f1c80cbf0e14538b36a055ce653f15b",
       "toolitems": [
        [
         "Home",
         "Reset original view",
         "home",
         "home"
        ],
        [
         "Back",
         "Back to previous view",
         "arrow-left",
         "back"
        ],
        [
         "Forward",
         "Forward to next view",
         "arrow-right",
         "forward"
        ],
        [
         "Pan",
         "Left button pans, Right button zooms\nx/y fixes axis, CTRL fixes aspect",
         "arrows",
         "pan"
        ],
        [
         "Zoom",
         "Zoom to rectangle\nx/y fixes axis, CTRL fixes aspect",
         "square-o",
         "zoom"
        ],
        [
         "Download",
         "Download plot",
         "floppy-o",
         "save_figure"
        ]
       ]
      }
     },
     "970be8c1fa354f458b64c5f9b3c45ac9": {
      "model_module": "jupyter-matplotlib",
      "model_module_version": "^0.9.0",
      "model_name": "MPLCanvasModel",
      "state": {
       "_cursor": "default",
       "_figure_label": "Figure 3",
       "_height": 288,
       "_width": 432,
       "layout": "IPY_MODEL_6532e3dd99f04c04bd785692b7037fc9",
       "toolbar": "IPY_MODEL_c2f710aecef743e8a3cc3d44089b62d9",
       "toolbar_position": "left"
      }
     },
     "99f7b460e90641b6b1eb73331e0dc0d2": {
      "model_module": "jupyter-matplotlib",
      "model_module_version": "^0.9.0",
      "model_name": "ToolbarModel",
      "state": {
       "layout": "IPY_MODEL_e73822b78b114ad9ad8a71a22ce37df5",
       "toolitems": [
        [
         "Home",
         "Reset original view",
         "home",
         "home"
        ],
        [
         "Back",
         "Back to previous view",
         "arrow-left",
         "back"
        ],
        [
         "Forward",
         "Forward to next view",
         "arrow-right",
         "forward"
        ],
        [
         "Pan",
         "Left button pans, Right button zooms\nx/y fixes axis, CTRL fixes aspect",
         "arrows",
         "pan"
        ],
        [
         "Zoom",
         "Zoom to rectangle\nx/y fixes axis, CTRL fixes aspect",
         "square-o",
         "zoom"
        ],
        [
         "Download",
         "Download plot",
         "floppy-o",
         "save_figure"
        ]
       ]
      }
     },
     "9b864356a3574131a2716d0626c670dc": {
      "model_module": "jupyter-matplotlib",
      "model_module_version": "^0.9.0",
      "model_name": "ToolbarModel",
      "state": {
       "layout": "IPY_MODEL_315407326d5d481e8fd571eaab0b8ff3",
       "toolitems": [
        [
         "Home",
         "Reset original view",
         "home",
         "home"
        ],
        [
         "Back",
         "Back to previous view",
         "arrow-left",
         "back"
        ],
        [
         "Forward",
         "Forward to next view",
         "arrow-right",
         "forward"
        ],
        [
         "Pan",
         "Left button pans, Right button zooms\nx/y fixes axis, CTRL fixes aspect",
         "arrows",
         "pan"
        ],
        [
         "Zoom",
         "Zoom to rectangle\nx/y fixes axis, CTRL fixes aspect",
         "square-o",
         "zoom"
        ],
        [
         "Download",
         "Download plot",
         "floppy-o",
         "save_figure"
        ]
       ]
      }
     },
     "9c7a1f11fb84426fbfd8cbbf07680814": {
      "model_module": "jupyter-matplotlib",
      "model_module_version": "^0.9.0",
      "model_name": "MPLCanvasModel",
      "state": {
       "_cursor": "crosshair",
       "_figure_label": "Figure 2",
       "_height": 288,
       "_message": "x=−90.35 y=94.8",
       "_rubberband_y": 288,
       "_width": 432,
       "layout": "IPY_MODEL_dbc258d1c3674da49f9396bf59576eae",
       "toolbar": "IPY_MODEL_1efe2471f84d4cd49867372cdd1e0f0e",
       "toolbar_position": "left"
      }
     },
     "9d65b8bf89824c5f99dbc22ccec3adcb": {
      "model_module": "@jupyter-widgets/base",
      "model_module_version": "1.2.0",
      "model_name": "LayoutModel",
      "state": {}
     },
     "a445c832b0cf45dca42a98cfdc4183fb": {
      "model_module": "@jupyter-widgets/base",
      "model_module_version": "1.2.0",
      "model_name": "LayoutModel",
      "state": {}
     },
     "a4e0689472064f3199012f98a0e1d2f4": {
      "model_module": "jupyter-matplotlib",
      "model_module_version": "^0.9.0",
      "model_name": "MPLCanvasModel",
      "state": {
       "_cursor": "default",
       "_figure_label": "Figure 33",
       "_height": 576,
       "_width": 864,
       "layout": "IPY_MODEL_fc1c794a01c549e88ccfc71dc83ac305",
       "toolbar": "IPY_MODEL_5a50d3f4ab944891902a7c6569f25c6d",
       "toolbar_position": "left"
      }
     },
     "a80777ff188249c789d730dffb6d669e": {
      "model_module": "@jupyter-widgets/base",
      "model_module_version": "1.2.0",
      "model_name": "LayoutModel",
      "state": {}
     },
     "a89bd88bfc6542068d7a9055ad27b98f": {
      "model_module": "@jupyter-widgets/base",
      "model_module_version": "1.2.0",
      "model_name": "LayoutModel",
      "state": {}
     },
     "a8a70c3982e044188b66c911fa2b16ef": {
      "model_module": "jupyter-matplotlib",
      "model_module_version": "^0.9.0",
      "model_name": "ToolbarModel",
      "state": {
       "layout": "IPY_MODEL_eda8ea79a9d843e9a944ee301a5b45f9",
       "toolitems": [
        [
         "Home",
         "Reset original view",
         "home",
         "home"
        ],
        [
         "Back",
         "Back to previous view",
         "arrow-left",
         "back"
        ],
        [
         "Forward",
         "Forward to next view",
         "arrow-right",
         "forward"
        ],
        [
         "Pan",
         "Left button pans, Right button zooms\nx/y fixes axis, CTRL fixes aspect",
         "arrows",
         "pan"
        ],
        [
         "Zoom",
         "Zoom to rectangle\nx/y fixes axis, CTRL fixes aspect",
         "square-o",
         "zoom"
        ],
        [
         "Download",
         "Download plot",
         "floppy-o",
         "save_figure"
        ]
       ]
      }
     },
     "aa348c107d6c4dc095ab6ff6669938c0": {
      "model_module": "@jupyter-widgets/base",
      "model_module_version": "1.2.0",
      "model_name": "LayoutModel",
      "state": {}
     },
     "aa93940f839941e692e15ea8c21d5e35": {
      "model_module": "@jupyter-widgets/base",
      "model_module_version": "1.2.0",
      "model_name": "LayoutModel",
      "state": {}
     },
     "ae6d2d6e0a0a4fd390df78ce17623c58": {
      "model_module": "@jupyter-widgets/base",
      "model_module_version": "1.2.0",
      "model_name": "LayoutModel",
      "state": {}
     },
     "b02540aa067549d0ba5b1fb367371319": {
      "model_module": "@jupyter-widgets/base",
      "model_module_version": "1.2.0",
      "model_name": "LayoutModel",
      "state": {}
     },
     "b3359aaa8fe041babd64097e265756cc": {
      "model_module": "jupyter-matplotlib",
      "model_module_version": "^0.9.0",
      "model_name": "ToolbarModel",
      "state": {
       "layout": "IPY_MODEL_5305dee3f39b402aa349dd1b4810eb75",
       "toolitems": [
        [
         "Home",
         "Reset original view",
         "home",
         "home"
        ],
        [
         "Back",
         "Back to previous view",
         "arrow-left",
         "back"
        ],
        [
         "Forward",
         "Forward to next view",
         "arrow-right",
         "forward"
        ],
        [
         "Pan",
         "Left button pans, Right button zooms\nx/y fixes axis, CTRL fixes aspect",
         "arrows",
         "pan"
        ],
        [
         "Zoom",
         "Zoom to rectangle\nx/y fixes axis, CTRL fixes aspect",
         "square-o",
         "zoom"
        ],
        [
         "Download",
         "Download plot",
         "floppy-o",
         "save_figure"
        ]
       ]
      }
     },
     "b33ee3ec134f431aaa57a47e2e4bf74a": {
      "model_module": "@jupyter-widgets/base",
      "model_module_version": "1.2.0",
      "model_name": "LayoutModel",
      "state": {}
     },
     "b34db8c9336340c59d259a5b89f748f8": {
      "model_module": "@jupyter-widgets/base",
      "model_module_version": "1.2.0",
      "model_name": "LayoutModel",
      "state": {}
     },
     "b43ac9df4f684a52a77c265c27b93604": {
      "model_module": "@jupyter-widgets/base",
      "model_module_version": "1.2.0",
      "model_name": "LayoutModel",
      "state": {}
     },
     "b8995a3ccc654306af55207ea1a92488": {
      "model_module": "jupyter-matplotlib",
      "model_module_version": "^0.9.0",
      "model_name": "MPLCanvasModel",
      "state": {
       "_cursor": "default",
       "_figure_label": "Figure 17",
       "_height": 288,
       "_width": 432,
       "layout": "IPY_MODEL_db665b62cd47499bb752f0e3f707805e",
       "toolbar": "IPY_MODEL_6f37bc6faed84c4f94198543a9879882",
       "toolbar_position": "left"
      }
     },
     "bac1c1eafb2749609f0aeac1888f9061": {
      "model_module": "@jupyter-widgets/base",
      "model_module_version": "1.2.0",
      "model_name": "LayoutModel",
      "state": {}
     },
     "bebcd6b0005743d7b7951b1ac2765aec": {
      "model_module": "@jupyter-widgets/base",
      "model_module_version": "1.2.0",
      "model_name": "LayoutModel",
      "state": {}
     },
     "bef7c8771be44a638a848940cc511a48": {
      "model_module": "@jupyter-widgets/base",
      "model_module_version": "1.2.0",
      "model_name": "LayoutModel",
      "state": {}
     },
     "c0182f3d783f46b19408987df72f8ea5": {
      "model_module": "jupyter-matplotlib",
      "model_module_version": "^0.9.0",
      "model_name": "MPLCanvasModel",
      "state": {
       "_cursor": "default",
       "_figure_label": "Figure 40",
       "_height": 576,
       "_width": 1152,
       "layout": "IPY_MODEL_c75523ff8a8d46bca9ff4d091e659c6c",
       "toolbar": "IPY_MODEL_272e7a3eafdf415fa4b6119098d537bd",
       "toolbar_position": "left"
      }
     },
     "c2f710aecef743e8a3cc3d44089b62d9": {
      "model_module": "jupyter-matplotlib",
      "model_module_version": "^0.9.0",
      "model_name": "ToolbarModel",
      "state": {
       "layout": "IPY_MODEL_e59279e335e74b1398bde08304b40584",
       "toolitems": [
        [
         "Home",
         "Reset original view",
         "home",
         "home"
        ],
        [
         "Back",
         "Back to previous view",
         "arrow-left",
         "back"
        ],
        [
         "Forward",
         "Forward to next view",
         "arrow-right",
         "forward"
        ],
        [
         "Pan",
         "Left button pans, Right button zooms\nx/y fixes axis, CTRL fixes aspect",
         "arrows",
         "pan"
        ],
        [
         "Zoom",
         "Zoom to rectangle\nx/y fixes axis, CTRL fixes aspect",
         "square-o",
         "zoom"
        ],
        [
         "Download",
         "Download plot",
         "floppy-o",
         "save_figure"
        ]
       ]
      }
     },
     "c35047ac1b0f443db62dfabd019913a4": {
      "model_module": "jupyter-matplotlib",
      "model_module_version": "^0.9.0",
      "model_name": "MPLCanvasModel",
      "state": {
       "_cursor": "default",
       "_figure_label": "Figure 25",
       "_height": 360,
       "_message": "x=−0.0024 y=258.4",
       "_width": 864,
       "layout": "IPY_MODEL_a80777ff188249c789d730dffb6d669e",
       "toolbar": "IPY_MODEL_21fe9bd6afc3426cafeba34b19de0687",
       "toolbar_position": "left"
      }
     },
     "c63827b4036a4e4e8389637d38e30dfe": {
      "model_module": "jupyter-matplotlib",
      "model_module_version": "^0.9.0",
      "model_name": "ToolbarModel",
      "state": {
       "layout": "IPY_MODEL_5864b77cee28467d837d0d3fd9a43dcc",
       "toolitems": [
        [
         "Home",
         "Reset original view",
         "home",
         "home"
        ],
        [
         "Back",
         "Back to previous view",
         "arrow-left",
         "back"
        ],
        [
         "Forward",
         "Forward to next view",
         "arrow-right",
         "forward"
        ],
        [
         "Pan",
         "Left button pans, Right button zooms\nx/y fixes axis, CTRL fixes aspect",
         "arrows",
         "pan"
        ],
        [
         "Zoom",
         "Zoom to rectangle\nx/y fixes axis, CTRL fixes aspect",
         "square-o",
         "zoom"
        ],
        [
         "Download",
         "Download plot",
         "floppy-o",
         "save_figure"
        ]
       ]
      }
     },
     "c75523ff8a8d46bca9ff4d091e659c6c": {
      "model_module": "@jupyter-widgets/base",
      "model_module_version": "1.2.0",
      "model_name": "LayoutModel",
      "state": {}
     },
     "c7b6f73b3ead48349ae39a788a6c66de": {
      "model_module": "jupyter-matplotlib",
      "model_module_version": "^0.9.0",
      "model_name": "MPLCanvasModel",
      "state": {
       "_cursor": "default",
       "_figure_label": "Figure 13",
       "_height": 288,
       "_width": 432,
       "layout": "IPY_MODEL_84c53b17ec994656b7762cdd3a04be36",
       "toolbar": "IPY_MODEL_99f7b460e90641b6b1eb73331e0dc0d2",
       "toolbar_position": "left"
      }
     },
     "c8a56412795845de806a89f1c7b28849": {
      "model_module": "@jupyter-widgets/base",
      "model_module_version": "1.2.0",
      "model_name": "LayoutModel",
      "state": {}
     },
     "c9af6d7d481442eea7ffb32c937c31e8": {
      "model_module": "@jupyter-widgets/base",
      "model_module_version": "1.2.0",
      "model_name": "LayoutModel",
      "state": {}
     },
     "cefe2cae434a430aa454bfa1eeabf239": {
      "model_module": "jupyter-matplotlib",
      "model_module_version": "^0.9.0",
      "model_name": "ToolbarModel",
      "state": {
       "layout": "IPY_MODEL_66e786c1321244e9b0f852739d125fb2",
       "toolitems": [
        [
         "Home",
         "Reset original view",
         "home",
         "home"
        ],
        [
         "Back",
         "Back to previous view",
         "arrow-left",
         "back"
        ],
        [
         "Forward",
         "Forward to next view",
         "arrow-right",
         "forward"
        ],
        [
         "Pan",
         "Left button pans, Right button zooms\nx/y fixes axis, CTRL fixes aspect",
         "arrows",
         "pan"
        ],
        [
         "Zoom",
         "Zoom to rectangle\nx/y fixes axis, CTRL fixes aspect",
         "square-o",
         "zoom"
        ],
        [
         "Download",
         "Download plot",
         "floppy-o",
         "save_figure"
        ]
       ]
      }
     },
     "cf16c1d40d00420c8a09c2dcf71d36de": {
      "model_module": "@jupyter-widgets/base",
      "model_module_version": "1.2.0",
      "model_name": "LayoutModel",
      "state": {}
     },
     "d09e061dfab141bb88989469e179777b": {
      "model_module": "@jupyter-widgets/base",
      "model_module_version": "1.2.0",
      "model_name": "LayoutModel",
      "state": {}
     },
     "d0baa7d542d84800a15409b96e6cae1d": {
      "model_module": "jupyter-matplotlib",
      "model_module_version": "^0.9.0",
      "model_name": "ToolbarModel",
      "state": {
       "layout": "IPY_MODEL_b33ee3ec134f431aaa57a47e2e4bf74a",
       "toolitems": [
        [
         "Home",
         "Reset original view",
         "home",
         "home"
        ],
        [
         "Back",
         "Back to previous view",
         "arrow-left",
         "back"
        ],
        [
         "Forward",
         "Forward to next view",
         "arrow-right",
         "forward"
        ],
        [
         "Pan",
         "Left button pans, Right button zooms\nx/y fixes axis, CTRL fixes aspect",
         "arrows",
         "pan"
        ],
        [
         "Zoom",
         "Zoom to rectangle\nx/y fixes axis, CTRL fixes aspect",
         "square-o",
         "zoom"
        ],
        [
         "Download",
         "Download plot",
         "floppy-o",
         "save_figure"
        ]
       ]
      }
     },
     "d0cdfa46a90948f8a1cb40198ca8986a": {
      "model_module": "@jupyter-widgets/base",
      "model_module_version": "1.2.0",
      "model_name": "LayoutModel",
      "state": {}
     },
     "d118870be30c4ef0885a01e7aef50fd0": {
      "model_module": "jupyter-matplotlib",
      "model_module_version": "^0.9.0",
      "model_name": "MPLCanvasModel",
      "state": {
       "_cursor": "default",
       "_figure_label": "Figure 32",
       "_height": 360,
       "_message": "x=−4.5 y=0.6406",
       "_width": 864,
       "layout": "IPY_MODEL_fac78aee1d9e4c0ba64048331b3750c6",
       "toolbar": "IPY_MODEL_eab33a8f9be94db0a54b86289845b35f",
       "toolbar_position": "left"
      }
     },
     "d20fce5322724c7e8e058e639e934821": {
      "model_module": "jupyter-matplotlib",
      "model_module_version": "^0.9.0",
      "model_name": "ToolbarModel",
      "state": {
       "layout": "IPY_MODEL_46974c2189194eb391670f529e2691d5",
       "toolitems": [
        [
         "Home",
         "Reset original view",
         "home",
         "home"
        ],
        [
         "Back",
         "Back to previous view",
         "arrow-left",
         "back"
        ],
        [
         "Forward",
         "Forward to next view",
         "arrow-right",
         "forward"
        ],
        [
         "Pan",
         "Left button pans, Right button zooms\nx/y fixes axis, CTRL fixes aspect",
         "arrows",
         "pan"
        ],
        [
         "Zoom",
         "Zoom to rectangle\nx/y fixes axis, CTRL fixes aspect",
         "square-o",
         "zoom"
        ],
        [
         "Download",
         "Download plot",
         "floppy-o",
         "save_figure"
        ]
       ]
      }
     },
     "d238c8d8a46243da8e0fc6a0aaccc8fc": {
      "model_module": "jupyter-matplotlib",
      "model_module_version": "^0.9.0",
      "model_name": "MPLCanvasModel",
      "state": {
       "_cursor": "default",
       "_figure_label": "Figure 36",
       "_height": 576,
       "_width": 1152,
       "layout": "IPY_MODEL_82b45eec6d534baea30185efe3ae5fcc",
       "toolbar": "IPY_MODEL_047998e74baf43d7b15c076be50d7a3d",
       "toolbar_position": "left"
      }
     },
     "d3db3bf5205d46ab82b86d45b724e83d": {
      "model_module": "jupyter-matplotlib",
      "model_module_version": "^0.9.0",
      "model_name": "MPLCanvasModel",
      "state": {
       "_cursor": "default",
       "_figure_label": "Figure 38",
       "_height": 576,
       "_width": 1152,
       "layout": "IPY_MODEL_bac1c1eafb2749609f0aeac1888f9061",
       "toolbar": "IPY_MODEL_74540a341b68406f8d19524c6d0c726c",
       "toolbar_position": "left"
      }
     },
     "d4b3cd89b23c45df9b6a6d378266e505": {
      "model_module": "@jupyter-widgets/base",
      "model_module_version": "1.2.0",
      "model_name": "LayoutModel",
      "state": {}
     },
     "d4d18210ecf545a1b9dfc3df374e6c98": {
      "model_module": "@jupyter-widgets/base",
      "model_module_version": "1.2.0",
      "model_name": "LayoutModel",
      "state": {}
     },
     "d67776e54a1840f99aab14a7f90f36b1": {
      "model_module": "@jupyter-widgets/base",
      "model_module_version": "1.2.0",
      "model_name": "LayoutModel",
      "state": {}
     },
     "d822b46d450a4325806075dc74ff87d9": {
      "model_module": "@jupyter-widgets/base",
      "model_module_version": "1.2.0",
      "model_name": "LayoutModel",
      "state": {}
     },
     "d8b3ab7df5cc440790c10abadef88e31": {
      "model_module": "@jupyter-widgets/base",
      "model_module_version": "1.2.0",
      "model_name": "LayoutModel",
      "state": {}
     },
     "d8fc6dcc0f7c406f887dcb7f86f6d0e7": {
      "model_module": "@jupyter-widgets/base",
      "model_module_version": "1.2.0",
      "model_name": "LayoutModel",
      "state": {}
     },
     "db5c8afd22464b88bd549e7865827f22": {
      "model_module": "@jupyter-widgets/base",
      "model_module_version": "1.2.0",
      "model_name": "LayoutModel",
      "state": {}
     },
     "db665b62cd47499bb752f0e3f707805e": {
      "model_module": "@jupyter-widgets/base",
      "model_module_version": "1.2.0",
      "model_name": "LayoutModel",
      "state": {}
     },
     "dbc258d1c3674da49f9396bf59576eae": {
      "model_module": "@jupyter-widgets/base",
      "model_module_version": "1.2.0",
      "model_name": "LayoutModel",
      "state": {}
     },
     "df33ce8e785947228d6dab8f00f962e1": {
      "model_module": "jupyter-matplotlib",
      "model_module_version": "^0.9.0",
      "model_name": "ToolbarModel",
      "state": {
       "layout": "IPY_MODEL_faaa66de948b4dddb20e3709baa1bc64",
       "toolitems": [
        [
         "Home",
         "Reset original view",
         "home",
         "home"
        ],
        [
         "Back",
         "Back to previous view",
         "arrow-left",
         "back"
        ],
        [
         "Forward",
         "Forward to next view",
         "arrow-right",
         "forward"
        ],
        [
         "Pan",
         "Left button pans, Right button zooms\nx/y fixes axis, CTRL fixes aspect",
         "arrows",
         "pan"
        ],
        [
         "Zoom",
         "Zoom to rectangle\nx/y fixes axis, CTRL fixes aspect",
         "square-o",
         "zoom"
        ],
        [
         "Download",
         "Download plot",
         "floppy-o",
         "save_figure"
        ]
       ]
      }
     },
     "e097ecdc2f124f7fb9e72fe25a0fe335": {
      "model_module": "@jupyter-widgets/base",
      "model_module_version": "1.2.0",
      "model_name": "LayoutModel",
      "state": {}
     },
     "e22c1da0fb4542268dd38be350e65a64": {
      "model_module": "jupyter-matplotlib",
      "model_module_version": "^0.9.0",
      "model_name": "ToolbarModel",
      "state": {
       "layout": "IPY_MODEL_7979b888c31145128715b4fedeaf2ba3",
       "toolitems": [
        [
         "Home",
         "Reset original view",
         "home",
         "home"
        ],
        [
         "Back",
         "Back to previous view",
         "arrow-left",
         "back"
        ],
        [
         "Forward",
         "Forward to next view",
         "arrow-right",
         "forward"
        ],
        [
         "Pan",
         "Left button pans, Right button zooms\nx/y fixes axis, CTRL fixes aspect",
         "arrows",
         "pan"
        ],
        [
         "Zoom",
         "Zoom to rectangle\nx/y fixes axis, CTRL fixes aspect",
         "square-o",
         "zoom"
        ],
        [
         "Download",
         "Download plot",
         "floppy-o",
         "save_figure"
        ]
       ]
      }
     },
     "e2ed79b6f1ad47f7b0478dcc21613b7d": {
      "model_module": "@jupyter-widgets/base",
      "model_module_version": "1.2.0",
      "model_name": "LayoutModel",
      "state": {}
     },
     "e38c6ab73d34436995cf0565420536e2": {
      "model_module": "@jupyter-widgets/base",
      "model_module_version": "1.2.0",
      "model_name": "LayoutModel",
      "state": {}
     },
     "e59279e335e74b1398bde08304b40584": {
      "model_module": "@jupyter-widgets/base",
      "model_module_version": "1.2.0",
      "model_name": "LayoutModel",
      "state": {}
     },
     "e73822b78b114ad9ad8a71a22ce37df5": {
      "model_module": "@jupyter-widgets/base",
      "model_module_version": "1.2.0",
      "model_name": "LayoutModel",
      "state": {}
     },
     "e7a94f5fb6fe487989536b7d488949a6": {
      "model_module": "@jupyter-widgets/base",
      "model_module_version": "1.2.0",
      "model_name": "LayoutModel",
      "state": {}
     },
     "e88eed40b43e4ad6805ca2c9883c89c1": {
      "model_module": "jupyter-matplotlib",
      "model_module_version": "^0.9.0",
      "model_name": "ToolbarModel",
      "state": {
       "_current_action": "zoom",
       "layout": "IPY_MODEL_b43ac9df4f684a52a77c265c27b93604",
       "toolitems": [
        [
         "Home",
         "Reset original view",
         "home",
         "home"
        ],
        [
         "Back",
         "Back to previous view",
         "arrow-left",
         "back"
        ],
        [
         "Forward",
         "Forward to next view",
         "arrow-right",
         "forward"
        ],
        [
         "Pan",
         "Left button pans, Right button zooms\nx/y fixes axis, CTRL fixes aspect",
         "arrows",
         "pan"
        ],
        [
         "Zoom",
         "Zoom to rectangle\nx/y fixes axis, CTRL fixes aspect",
         "square-o",
         "zoom"
        ],
        [
         "Download",
         "Download plot",
         "floppy-o",
         "save_figure"
        ]
       ]
      }
     },
     "ea884a39217249d4aa28a36372473fe3": {
      "model_module": "@jupyter-widgets/base",
      "model_module_version": "1.2.0",
      "model_name": "LayoutModel",
      "state": {}
     },
     "eab33a8f9be94db0a54b86289845b35f": {
      "model_module": "jupyter-matplotlib",
      "model_module_version": "^0.9.0",
      "model_name": "ToolbarModel",
      "state": {
       "layout": "IPY_MODEL_3272976e6eb34a5d834afa11b4f96a8c",
       "toolitems": [
        [
         "Home",
         "Reset original view",
         "home",
         "home"
        ],
        [
         "Back",
         "Back to previous view",
         "arrow-left",
         "back"
        ],
        [
         "Forward",
         "Forward to next view",
         "arrow-right",
         "forward"
        ],
        [
         "Pan",
         "Left button pans, Right button zooms\nx/y fixes axis, CTRL fixes aspect",
         "arrows",
         "pan"
        ],
        [
         "Zoom",
         "Zoom to rectangle\nx/y fixes axis, CTRL fixes aspect",
         "square-o",
         "zoom"
        ],
        [
         "Download",
         "Download plot",
         "floppy-o",
         "save_figure"
        ]
       ]
      }
     },
     "eb11ad77b7fa40e7970bc426be9a549c": {
      "model_module": "@jupyter-widgets/base",
      "model_module_version": "1.2.0",
      "model_name": "LayoutModel",
      "state": {}
     },
     "ec8dc6921a394ff19033454930592693": {
      "model_module": "@jupyter-widgets/base",
      "model_module_version": "1.2.0",
      "model_name": "LayoutModel",
      "state": {}
     },
     "eda8ea79a9d843e9a944ee301a5b45f9": {
      "model_module": "@jupyter-widgets/base",
      "model_module_version": "1.2.0",
      "model_name": "LayoutModel",
      "state": {}
     },
     "edb7772aee9843cda6e2e48fde5c8cb2": {
      "model_module": "jupyter-matplotlib",
      "model_module_version": "^0.9.0",
      "model_name": "MPLCanvasModel",
      "state": {
       "_cursor": "default",
       "_figure_label": "Figure 39",
       "_height": 576,
       "_width": 1152,
       "layout": "IPY_MODEL_4e155759eb8645a3a64d9292d19a67ce",
       "toolbar": "IPY_MODEL_81b9da88ef634def9ed9fbeb3f2563d1",
       "toolbar_position": "left"
      }
     },
     "ef4933de43114e208f34c910c738a2a4": {
      "model_module": "jupyter-matplotlib",
      "model_module_version": "^0.9.0",
      "model_name": "MPLCanvasModel",
      "state": {
       "_cursor": "default",
       "_figure_label": "Figure 9",
       "_height": 288,
       "_width": 432,
       "layout": "IPY_MODEL_aa93940f839941e692e15ea8c21d5e35",
       "toolbar": "IPY_MODEL_3f3367c83c6a4ac0ae8c8cc23cbd9835",
       "toolbar_position": "left"
      }
     },
     "f0235d240f3a4d69bd2949e09bcb660d": {
      "model_module": "@jupyter-widgets/base",
      "model_module_version": "1.2.0",
      "model_name": "LayoutModel",
      "state": {}
     },
     "f35e4eece78d4acdab08653956b7d94e": {
      "model_module": "@jupyter-widgets/base",
      "model_module_version": "1.2.0",
      "model_name": "LayoutModel",
      "state": {}
     },
     "f386514c9b944879b45ed2dfa6c3f303": {
      "model_module": "@jupyter-widgets/base",
      "model_module_version": "1.2.0",
      "model_name": "LayoutModel",
      "state": {}
     },
     "f3be64e4854c4ca1a265c3aa4a1fd849": {
      "model_module": "@jupyter-widgets/base",
      "model_module_version": "1.2.0",
      "model_name": "LayoutModel",
      "state": {}
     },
     "f92e201f457a40819d4ea9f11b273721": {
      "model_module": "jupyter-matplotlib",
      "model_module_version": "^0.9.0",
      "model_name": "MPLCanvasModel",
      "state": {
       "_cursor": "default",
       "_figure_label": "Figure 15",
       "_height": 288,
       "_message": "x=−206.7 y=44.",
       "_width": 432,
       "layout": "IPY_MODEL_7edac610b0e3458292f69a70329ad6d8",
       "toolbar": "IPY_MODEL_c63827b4036a4e4e8389637d38e30dfe",
       "toolbar_position": "left"
      }
     },
     "faaa66de948b4dddb20e3709baa1bc64": {
      "model_module": "@jupyter-widgets/base",
      "model_module_version": "1.2.0",
      "model_name": "LayoutModel",
      "state": {}
     },
     "fac78aee1d9e4c0ba64048331b3750c6": {
      "model_module": "@jupyter-widgets/base",
      "model_module_version": "1.2.0",
      "model_name": "LayoutModel",
      "state": {}
     },
     "fc1c794a01c549e88ccfc71dc83ac305": {
      "model_module": "@jupyter-widgets/base",
      "model_module_version": "1.2.0",
      "model_name": "LayoutModel",
      "state": {}
     },
     "fd80225266d1491d8d3b6bd14d8773ab": {
      "model_module": "jupyter-matplotlib",
      "model_module_version": "^0.9.0",
      "model_name": "MPLCanvasModel",
      "state": {
       "_cursor": "default",
       "_figure_label": "Figure 37",
       "_height": 576,
       "_width": 1152,
       "layout": "IPY_MODEL_5e6a846f7c7c46588bbebfec54d2dc9e",
       "toolbar": "IPY_MODEL_df33ce8e785947228d6dab8f00f962e1",
       "toolbar_position": "left"
      }
     }
    },
    "version_major": 2,
    "version_minor": 0
   }
  }
 },
 "nbformat": 4,
 "nbformat_minor": 5
}