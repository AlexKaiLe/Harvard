{
 "cells": [
  {
   "cell_type": "markdown",
   "metadata": {},
   "source": [
    "# Imports"
   ]
  },
  {
   "cell_type": "code",
   "execution_count": null,
   "metadata": {},
   "outputs": [],
   "source": [
    "from IPython.core.display import display, HTML\n",
    "display(HTML(\"<style>.container { width:100% !important; }</style>\"))\n",
    "%load_ext autoreload\n",
    "%autoreload 2\n",
    "import matplotlib \n",
    "matplotlib.rcParams['figure.figsize'] = (12.0, 8.0) \n",
    "    "
   ]
  },
  {
   "cell_type": "code",
   "execution_count": null,
   "metadata": {},
   "outputs": [],
   "source": [
    "# LIDAR_PACKAGE_PATH = 'mocap_funct.py'\n",
    "# import sys\n",
    "# if LIDAR_PACKAGE_PATH not in sys.path: sys.path.append(LIDAR_PACKAGE_PATH)\n",
    "# import os \n",
    "# from LIDAR.nnet import generateTrainingSet, egoh5\n",
    "# from scripts.utils import print_d\n",
    "# from kinematics_utils import *\n",
    "\n",
    "%matplotlib notebook\n",
    "from mocap_func import *\n",
    "import h5py \n",
    "import matplotlib.pyplot as plt\n",
    "import numpy as np\n",
    "import glob\n",
    "from scipy.ndimage import median_filter\n",
    "import time"
   ]
  },
  {
   "cell_type": "markdown",
   "metadata": {},
   "source": [
    "# Reading Mocap Files"
   ]
  },
  {
   "cell_type": "code",
   "execution_count": null,
   "metadata": {},
   "outputs": [],
   "source": [
    "import time\n",
    "\n",
    "raw_dir ='/Users/alexle/Desktop/Harvard/VAE_mat_files'\n",
    "\n",
    "matnames = []\n",
    "errors = []\n",
    "\n",
    "matnames = glob.glob('temporal_data.mat')\n",
    "print(matnames)\n",
    "matfile = 'VAE_mat_files/temporal_data.mat'\n",
    "# matfile = h5py.File('VAE_mat_files/temporal_data.mat')\n"
   ]
  },
  {
   "cell_type": "code",
   "execution_count": null,
   "metadata": {},
   "outputs": [],
   "source": [
    "# for matfile in matnames:\n",
    "#     t1 = time.time()\n",
    "#     print('Loading '+ matfile.split('/')[-1])\n",
    "with h5py.File(matfile, 'r') as h5file:\n",
    "    open_file = h5file['aligned_mean_position']\n",
    "    keytofind = 'aligned_mean_position'\n",
    "    temp = list(h5file.keys()) \n",
    "    print(temp[0])\n",
    "    print(list(h5file.keys())[0])\n",
    "    print(np.array(h5file[keytofind]).shape)\n",
    "    print(np.array(h5file[keytofind]))\n",
    "\n",
    "\n",
    "\n",
    "    # tslen = h5file[keytofind][list(h5file[keytofind].keys())[0]].shape[1]            \n",
    "#     print('\\t Time series length : %i. Reading time series...\\t%0.02f'%(tslen, time.time()-t1))\n",
    "#     ts = np.zeros((tslen, 60))\n",
    "#     mat_bad_bool = np.zeros((tslen, 20), dtype=bool) \n",
    "#     for bind, bpart in enumerate(h5file[keytofind]):              \n",
    "#         print('\\t\\t%i, %s\\t%0.02f'%(bind, bpart, time.time()-t1), end='\\r')\n",
    "#         ts[:,bind*3:(bind+1)*3] = h5file[keytofind][bpart][:,:tslen].T\n",
    "#         mat_bad_bool[np.where(~np.any(np.abs(ts[:,bind*3:(bind+1)*3])>1e-2, axis=1))[0], bind] = True\n",
    "# errors.append(np.any(mat_bad_bool, axis=1).sum()*100/tslen)\n",
    "# print('%s : %0.02f%% error.'%(matfile.split('/')[-1][:-4], errors[-1]))\n",
    "    # np.save('mocap_ephys_positions/%s.npy'%(matfile.split('/')[-1][:-4]), ts)\n",
    "\n",
    "# errors = np.array(errors)"
   ]
  },
  {
   "cell_type": "markdown",
   "metadata": {},
   "source": [
    "# Reading Saved Raw Data (reading at 60FPS), processing and saving."
   ]
  },
  {
   "cell_type": "code",
   "execution_count": null,
   "metadata": {
    "scrolled": true
   },
   "outputs": [],
   "source": [
    "for i,mname in enumerate(matnames):\n",
    "    print('%i\\t%s'%(i,mname.split('/')[-1][:-4]))\n",
    "    t1 = time.time()\n",
    "    h5 = np.load('mocap_ephys_positions/%s.npy'%(mname.split('/')[-1][:-4]))[::5]\n",
    "    print('\\t Raw file loaded in %i seconds. Fixing bad indices now.'%(time.time()-t1))\n",
    "\n",
    "    t = time.time()\n",
    "    h5[np.isnan(h5)] = 0.0\n",
    "    goodinds = np.any(np.abs(h5).reshape((-1,20,3))>1e-2, axis=2)\n",
    "    goodbefore = np.all(goodinds, axis=1).sum()*100/goodinds.shape[0]\n",
    "    for bpart in range(goodinds.shape[1]):\n",
    "        badinds = np.where(~goodinds[:,bpart])[0]\n",
    "        if badinds.shape[0]==0:\n",
    "            continue\n",
    "        badinds = np.split(badinds, np.where(np.ediff1d(badinds)!=1)[0]+1)\n",
    "        fixed = 0\n",
    "        total = 0\n",
    "\n",
    "        for inds in badinds:\n",
    "            total += len(inds)\n",
    "            if len(inds) < 120:\n",
    "                if inds[-1]+1 == h5.shape[0]:\n",
    "                    continue\n",
    "                fixed += len(inds)\n",
    "                difftofill = (h5[inds[-1]+1, bpart*3:(bpart+1)*3] - h5[inds[0]-1, bpart*3:(bpart+1)*3])/(len(inds)+1)\n",
    "                h5[inds, bpart*3:(bpart+1)*3] = h5[inds[0]-1, bpart*3:(bpart+1)*3] + np.multiply(difftofill.reshape((3,1)), np.arange(1,len(inds)+1)).T\n",
    "#         print('Video %i, bpart %i, fixed %i of %i.'%(i, bpart, fixed, total))\n",
    "    print('\\t Fixed bad indices in %i seconds. Saving processed h5 now.'%(time.time()-t))\n",
    "    t = time.time()\n",
    "    np.save('mocap_ephys_positions/%s_processed.npy'%(mname.split('/')[-1][:-4]), h5)\n",
    "    print('\\t Saved in %i seconds.'%(time.time()-t))\n",
    "    \n",
    "    goodinds = np.any(np.abs(h5).reshape((-1,20,3))>1e-2, axis=2)\n",
    "    goodafter = np.all(goodinds, axis=1).sum()*100/goodinds.shape[0]\n",
    "\n",
    "    m, s = divmod(h5.shape[0]/60, 60)\n",
    "    h, m = divmod(m, 60)\n",
    "    print('Good before, after : %0.01f%%, %0.01f%%  \\t length : %i:%i:%0.01f. Time taken to process : %0.01f seconds.'%(goodbefore, goodafter, h, m, s, (time.time()-t1)))\n",
    "    print('\\n')\n",
    "\n"
   ]
  },
  {
   "cell_type": "markdown",
   "metadata": {},
   "source": [
    "# Reading Processed h5s"
   ]
  },
  {
   "cell_type": "code",
   "execution_count": null,
   "metadata": {},
   "outputs": [],
   "source": [
    "h5s = []\n",
    "goodframe_idxs = []\n",
    "goods = []\n",
    "for i,mname in enumerate(matnames):\n",
    "    print('%i\\t%s'%(i,mname.split('/')[-1][:-4]))\n",
    "    t1 = time.time()\n",
    "\n",
    "    h5 = np.load('mocap_ephys_positions/%s_processed.npy'%(mname.split('/')[-1][:-4]))\n",
    "    h5s.append(h5)\n",
    "    ginds = np.any(np.abs(h5).reshape((-1,20,3))>1e-2, axis=2)\n",
    "    goodframe_idxs.append(ginds)\n",
    "    goods.append(np.all(ginds, axis=1).sum()*100/ginds.shape[0])\n",
    "    \n",
    "    m, s = divmod(h5.shape[0]/60, 60)\n",
    "    h, m = divmod(m, 60)\n",
    "    print('%s \\t %0.01f%% good \\t length : %i:%i:%0.01f '%(mname.split('/')[-1], goods[-1], h, m, s))\n",
    "    print('\\t Done : %0.1f seconds.'%(time.time()-t1))\n",
    "h5s = np.array(h5s)\n",
    "print(h5s)"
   ]
  },
  {
   "cell_type": "markdown",
   "metadata": {},
   "source": [
    "# Egocenter h5s"
   ]
  },
  {
   "cell_type": "markdown",
   "metadata": {},
   "source": [
    "## Save Ego h5s"
   ]
  },
  {
   "cell_type": "code",
   "execution_count": null,
   "metadata": {},
   "outputs": [],
   "source": [
    "egoh5s = []\n",
    "for i in range(len(h5s)):\n",
    "    print(i, end='\\r')\n",
    "    mname = matnames[i]\n",
    "    h5 = h5s[i]\n",
    "    try:\n",
    "        tqdm._instances.clear()\n",
    "    except:\n",
    "        pass\n",
    "    h5 = h5.reshape((-1,20,3))\n",
    "    h5 = np.append(h5, h5[:,[4,6],:].mean(axis=1).reshape((-1,1,3)), axis=1)\n",
    "    h5 = h5.reshape((-1,h5.shape[1]*h5.shape[2]))\n",
    "    \n",
    "    eh5 = egoh5(h5, ndims=3, bindcenter=19, b1=20, b2=18, silent=True)[:,:57]\n",
    "    np.save('mocap_ephys_positions/%s_processed_eh5.npy'%(mname.split('/')[-1][:-4]), eh5)\n",
    "    egoh5s.append(eh5)\n",
    "\n",
    "# egoh5s = np.array(egoh5s)\n",
    "# print(egoh5s.shape)\n"
   ]
  },
  {
   "cell_type": "markdown",
   "metadata": {},
   "source": [
    "## Read Ego h5s"
   ]
  },
  {
   "cell_type": "code",
   "execution_count": null,
   "metadata": {},
   "outputs": [],
   "source": [
    "# egoh5s = []\n",
    "for i,mname in enumerate(matnames):\n",
    "    print('%i\\t%s'%(i,mname.split('/')[-1][:-4]))\n",
    "    t1 = time.time()\n",
    "\n",
    "    eh5 = np.load('mocap_ephys_positions/%s_processed_eh5.npy'%(mname.split('/')[-1][:-4]))\n",
    "    if np.any(np.isnan(eh5)):\n",
    "        print('\\t has nans.')\n",
    "    egoh5s.append(eh5)\n",
    "    print('\\t Done : %0.1f seconds.'%(time.time()-t1))\n",
    "    \n",
    "egoh5s = np.array(egoh5s)\n",
    "print(egoh5s.shape)"
   ]
  },
  {
   "cell_type": "markdown",
   "metadata": {},
   "source": [
    "## Check Ego h5s for nans"
   ]
  },
  {
   "cell_type": "code",
   "execution_count": null,
   "metadata": {},
   "outputs": [],
   "source": [
    "for i,mname in enumerate(matnames):\n",
    "    print('%i\\t%s'%(i,mname.split('/')[-1][:-4]))\n",
    "    t1 = time.time()\n",
    "\n",
    "    eh5 = np.load('mocap_ephys_positions/%s_processed_eh5.npy'%(mname.split('/')[-1][:-4]))\n",
    "    eh5[np.isnan(eh5)] = 0.0\n",
    "    np.save('mocap_ephys_positions/%s_processed_eh5.npy'%(mname.split('/')[-1][:-4]), eh5)\n",
    "    \n",
    "    badinds = np.isnan(eh5)\n",
    "    if np.any(badinds):\n",
    "        print('\\t\\t has nans. %i/%i'%(np.sum(np.any(badinds, axis=1)), eh5.shape[0]))\n",
    "        h5 = np.load('mocap_ephys_positions/%s_processed.npy'%(mname.split('/')[-1][:-4]))\n",
    "        badindsh5 = np.isnan(h5)\n",
    "        print('\\t\\t Processed has nans. %i/%i'%(np.sum(np.any(badindsh5, axis=1)), h5.shape[0]))\n",
    "    print('\\t Done : %0.1f seconds.'%(time.time()-t1))\n",
    "\n"
   ]
  },
  {
   "cell_type": "code",
   "execution_count": null,
   "metadata": {},
   "outputs": [],
   "source": [
    "bpartnames = ['ArmL', 'ArmR', 'ElbowL', 'ElbowR', 'HeadB', 'HeadF', 'HeadL', 'HipL', \n",
    "              'HipR', 'KneeL', 'KneeR', 'Offset1', 'Offset2', 'ShinL', 'ShinR', 'ShoulderL', \n",
    "              'ShoulderR', 'SpineF', 'SpineL', 'SpineM']\n",
    "\n",
    "connections = [[5, 4, 6], [4,17,19,18], [11,12], [0,2,15,17,16,3,1], [13,9,7,18,8,10,14]]\n",
    "connections2 = [[5, 4, 6], [4,17,18], [11,12], [0,2,15,17,16,3,1], [13,9,7,18,8,10,14]]\n"
   ]
  },
  {
   "cell_type": "markdown",
   "metadata": {},
   "source": [
    "# Check poses"
   ]
  },
  {
   "cell_type": "code",
   "execution_count": null,
   "metadata": {},
   "outputs": [],
   "source": [
    "%matplotlib inline\n",
    "# fig = plt.figure()\n",
    "# ax = fig.add_subplot(projection='3d')\n",
    "\n",
    "# h5s = np.array(h5s)\n",
    "# x = np.array(h5s[0][1][0::3])\n",
    "# y = np.array(h5s[0][1][1::3])\n",
    "# z = np.array(h5s[0][1][2::3])\n",
    "# ax.scatter(x,y,z, color='#ff5e5e', s =10, marker='x')\n",
    "# ax.plot()\n",
    "\n",
    "%matplotlib inline\n",
    "fig, ax = plt.subplots(figsize=(4,4))\n",
    "vind = 0\n",
    "t = 100000\n",
    "temp = np.array(h5s)\n",
    "print(temp.shape)\n",
    "for i in range(20):\n",
    "    ax.scatter(h5s[vind][t,3*i],h5s[vind][t,3*i+1],marker='$'+str(i)+'$',s=200)\n",
    "for conn in connections:\n",
    "    ax.plot(h5s[vind][t].reshape((20,3))[conn,0], h5s[vind][t].reshape((20,3))[conn,1])\n",
    "    \n",
    "    "
   ]
  },
  {
   "cell_type": "code",
   "execution_count": null,
   "metadata": {},
   "outputs": [],
   "source": [
    "%matplotlib inline\n",
    "fig, ax = plt.subplots(figsize=(4,4))\n",
    "vind = 0\n",
    "t = 100000\n",
    "\n",
    "for i in range(19):\n",
    "    ax.scatter(egoh5s[vind][t,3*i], egoh5s[vind][t,3*i+1],marker='$'+str(i)+'$',s=200)\n",
    "for conn in connections2:\n",
    "    ax.plot(egoh5s[vind][t].reshape((19,3))[conn,0], egoh5s[vind][t].reshape((19,3))[conn,1])\n",
    "    "
   ]
  },
  {
   "cell_type": "code",
   "execution_count": null,
   "metadata": {
    "collapsed": true,
    "jupyter": {
     "outputs_hidden": true
    }
   },
   "outputs": [],
   "source": [
    "vind = 0\n",
    "rawh5 = h5s[0].reshape((-1,20,3))\n",
    "badinds = np.all(goodframe_idxs[vind], axis=1)\n",
    "\n",
    "%matplotlib inline\n",
    "from mpl_toolkits.mplot3d import Axes3D\n",
    "fig = plt.figure(figsize=(4,4))\n",
    "ax1 = fig.add_subplot(111, projection='3d')\n",
    "# fig.subplots_adjust(0,0,1,1,0,0)\n",
    "plt.ion()\n",
    "fig.show()\n",
    "fig.canvas.draw()\n",
    "count = 0\n",
    "for t in np.setdiff1d(np.arange(rawh5.shape[0]), np.where(np.all(goodframe_idxs[vind], axis=1))[0]):\n",
    "    ax1.clear()\n",
    "    for conn in connections:\n",
    "        ax1.plot(rawh5[t,conn,0],rawh5[t,conn,1], rawh5[t,conn,2], 'o-', alpha=0.7)\n",
    "    ax1.set_xlim([-200, 200])\n",
    "    ax1.set_ylim([-200, 200])\n",
    "    ax1.set_zlim([-50, 150])\n",
    "    ax1.view_init(10, count)\n",
    "    count += 1\n",
    "#     ax1.grid('off')\n",
    "#     ax1.axis('off')\n",
    "    if np.all(goodframe_idxs[vind][t]):\n",
    "        ax.set_title('Good %i'%t, color='royalblue')\n",
    "    else:\n",
    "        ax.set_title('Good %i'%t, color='firebrick')\n",
    "\n",
    "    fig.canvas.draw()        "
   ]
  },
  {
   "cell_type": "code",
   "execution_count": null,
   "metadata": {},
   "outputs": [],
   "source": [
    "rawh5 = egoh5s[vind].reshape((-1,19,3))\n",
    "\n",
    "from mpl_toolkits.mplot3d import Axes3D\n",
    "fig = plt.figure(figsize=(5,5))\n",
    "ax1 = fig.add_subplot(111, projection='3d')\n",
    "# fig.subplots_adjust(0,0,1,1,0,0)\n",
    "plt.ion()\n",
    "fig.show()\n",
    "fig.canvas.draw()\n",
    "\n",
    "for t in np.arange(0,rawh5.shape[0],50):#range(0,10000,200)        \n",
    "    ax1.clear()\n",
    "    for conn in connections2:\n",
    "        ax1.plot(rawh5[t,conn,0],rawh5[t,conn,1], rawh5[t,conn,2], 'o-', alpha=0.7)\n",
    "    ax1.set_xlim([-200, 200])\n",
    "    ax1.set_ylim([-200, 200])\n",
    "    ax1.set_zlim([-50, 150])\n",
    "    ax1.view_init(75, 90)\n",
    "#     ax1.grid('off')\n",
    "#     ax1.axis('off')\n",
    "    if t in inds:\n",
    "        ax.set_title('Fixed %i'%t)\n",
    "    else:\n",
    "        ax.set_title('Original %i'%t)\n",
    "\n",
    "    fig.canvas.draw()        "
   ]
  },
  {
   "cell_type": "markdown",
   "metadata": {},
   "source": [
    "# Data Summary"
   ]
  },
  {
   "cell_type": "code",
   "execution_count": null,
   "metadata": {},
   "outputs": [],
   "source": [
    "%matplotlib inline\n",
    "fig, ax = plt.subplots(figsize=(12,5))\n",
    "\n",
    "\n",
    "barWidth = 0.04\n",
    "colors = matplotlib.cm.hsv(np.linspace(0,1,len(h5s)))\n",
    "\n",
    "for j,goodinds in enumerate(goodframe_idxs):\n",
    "    counts = np.histogram(np.sum(~goodinds, axis=1), bins = np.arange(21), density=False)\n",
    "    ax.bar(np.arange(1,21)-0.5+j*barWidth, counts[0], color=colors[j], width=barWidth, alpha=0.8)\n",
    "ax.set_xlabel('#Number of simultaneous errors')\n",
    "ax.set_ylabel('# of Frames (at 60 FPS)')\n",
    "ax.set_title('Colors represent different datasets')\n",
    "# ax.set_yscale('log')\n",
    "_ = ax.set_xticks(np.arange(1, 21, 1.0).astype('int'))\n"
   ]
  },
  {
   "cell_type": "code",
   "execution_count": null,
   "metadata": {},
   "outputs": [],
   "source": [
    "colors = matplotlib.cm.gist_ncar(np.linspace(0,0.9,len(h5s)))\n",
    "%matplotlib inline\n",
    "\n",
    "fig, (ax, ax2) = plt.subplots(2,1,figsize=(12.0,10.0), num=2)\n",
    "fig.subplots_adjust(0.05,0.05,0.98,0.95,0,0.2)\n",
    "barWidth = 0.04\n",
    "\n",
    "fracgood = []\n",
    "for j,h5 in enumerate(h5s):\n",
    "    goodinds = goodframe_idxs[j]\n",
    "    h5 = h5\n",
    "    cnot1 = (np.sum(~goodinds, axis=0)/h5.shape[0])\n",
    "    ax.bar(np.arange(20)+j*barWidth, cnot1, color=colors[j], width=barWidth, alpha=0.8)\n",
    "    fracgood.append(np.all(goodinds, axis=1).sum()/h5.shape[0])\n",
    "\n",
    "ax.set_xticks(np.arange(20)+barWidth*len(h5s)/2.0)\n",
    "ax.set_xticklabels(bpartnames, rotation=45)\n",
    "ax.set_title(\"Fraction of frames bad for each bodypart.\")\n",
    "# ax.set_ylim([0.7,1.02])\n",
    "ax.grid()\n",
    "ax2.bar(np.arange(len(h5s)), fracgood, color=colors, width=0.4, linewidth=4.0, edgecolor='k', alpha=0.8)\n",
    "ax2.set_xlabel('Video #')\n",
    "ax2.set_ylabel('Fraction of good frames in each video.')\n",
    "ax2.set_ylim([0.,1])\n",
    "ax2.grid()\n",
    "\n"
   ]
  },
  {
   "cell_type": "code",
   "execution_count": null,
   "metadata": {},
   "outputs": [],
   "source": [
    "%matplotlib inline\n",
    "fig, ax = plt.subplots(figsize=(12.0,4.0))\n",
    "goodsplits = []\n",
    "for j,h5 in enumerate(h5s):\n",
    "    goodinds = goodframe_idxs[j]\n",
    "    goodinds = np.where(np.all(goodinds, axis=1))[0]\n",
    "    splits = np.array(np.split(goodinds, np.where(np.ediff1d(goodinds)!=1)[0]+1))\n",
    "    split_lens = [len(split) for split in splits]\n",
    "    goodsplits.append([split for split in splits if len(split)>30000 ])\n",
    "    ax.hist(split_lens, bins=np.arange(0,np.max(split_lens)+500, step=500), alpha=0.8, label=str(j))\n",
    "_ = ax.set_yscale('log')\n",
    "# ax.legend()\n",
    "\n",
    "ax.grid()"
   ]
  },
  {
   "cell_type": "code",
   "execution_count": null,
   "metadata": {},
   "outputs": [],
   "source": [
    "%matplotlib inline\n",
    "import matplotlib\n",
    "min_length = 100000\n",
    "goodinds_thres = []\n",
    "\n",
    "colorslist = matplotlib.cm.gist_ncar(np.linspace(0,0.9,len(h5s)))\n",
    "# np.random.shuffle(colors)\n",
    "fig, ax = plt.subplots(figsize=(12.0, 15.0))\n",
    "fig.subplots_adjust(0.05,0.05,0.95,0.95,0,0)\n",
    "for j,h5 in enumerate(h5s):\n",
    "    print('Loading....%0.2f%%'%(j*100/len(h5s)), end='\\r')\n",
    "    h5 = h5\n",
    "    goodinds = goodframe_idxs[j]\n",
    "    goodinds = np.where(np.all(goodinds, axis=1))[0]\n",
    "    goodinds = np.array(np.split(goodinds, np.where(np.ediff1d(goodinds)!=1)[0]+1))\n",
    "    vel = np.linalg.norm(np.diff(np.mean(h5.reshape((h5.shape[0], int(h5.shape[1]/3), 3)), axis=1), axis=0), axis=1)\n",
    "    vel = np.concatenate(([vel[0]], vel), axis=0)\n",
    "    # vel = np.clip(vel, 0, 1)/1.0\n",
    "    for inds in goodinds:   \n",
    "        ax.scatter(inds, np.ones_like(inds)*j, color=colorslist[j], marker='|', s=10+vel[inds]*5000/vel.max())\n",
    "    ax.text(h5.shape[0]+2000, j-0.02, '%0.1f%% of %0.1f seconds'%(fracgood[j]*100, h5.shape[0]/60.0), fontweight='bold', color='k')\n",
    "    for g in goodinds:\n",
    "        if g.shape[0]>min_length:\n",
    "            rect = matplotlib.patches.Rectangle((g[0], j-0.4),g[-1]-g[0],0.8,linewidth=1,edgecolor='k',facecolor='none')\n",
    "            ax.add_patch(rect)\n",
    "    goodinds_thres.append([g for g in goodinds if g.shape[0]>min_length])\n",
    "    print('%i total frames are %i'%(j, np.sum([len(g) for g in goodinds if g.shape[0]>min_length])), end='\\r')\n",
    "ax.set_yticks(np.arange(len(h5s)))\n",
    "ax.set_title(\"Box lengths > %0.1f seconds\"%(min_length/60.0))\n",
    "print('Total frames in the box : %i'% np.sum([g.shape[0] for ginds in goodinds_thres for g in ginds]))"
   ]
  },
  {
   "cell_type": "code",
   "execution_count": null,
   "metadata": {},
   "outputs": [],
   "source": [
    "lengthlist = [[int(len(g)/3600) for g in ginds] for ginds in goodinds_thres]\n",
    "print('Length of good segments in mins :')\n",
    "lengthlist"
   ]
  },
  {
   "cell_type": "markdown",
   "metadata": {},
   "source": [
    "# Save these segments for VAE"
   ]
  },
  {
   "cell_type": "code",
   "execution_count": null,
   "metadata": {},
   "outputs": [],
   "source": [
    "outpath = '/mnt/HFSP_Data/scripts/Marshall_Data/VAE_RNN/mocap_clean_eh5/%s'\n",
    "for mname, eh5, ginds in zip(matnames, egoh5s, goodinds_thres):\n",
    "    if not ginds:\n",
    "        continue\n",
    "    glens = [len(g)/3600 for g in ginds]\n",
    "    g = ginds[np.argmax(glens)]\n",
    "\n",
    "    mname = mname.split('/')[-1][22:-4]+'_%i_%i.npy'%(g[0], g[-1])\n",
    "    print(mname)\n",
    "    \n",
    "    np.save(outpath%mname, eh5[g[0]:g[-1]])\n",
    "    \n"
   ]
  },
  {
   "cell_type": "code",
   "execution_count": null,
   "metadata": {},
   "outputs": [],
   "source": []
  }
 ],
 "metadata": {
  "interpreter": {
   "hash": "8de543a527d38bc21d309dfa8a60aed366b41867ed03b1c23b526625b89003b8"
  },
  "kernelspec": {
   "display_name": "Python 3.8.5 64-bit ('base': conda)",
   "name": "python3"
  },
  "language_info": {
   "name": "python",
   "version": ""
  },
  "toc-autonumbering": true,
  "toc-showcode": false,
  "toc-showmarkdowntxt": true,
  "widgets": {
   "application/vnd.jupyter.widget-state+json": {
    "state": {},
    "version_major": 2,
    "version_minor": 0
   }
  }
 },
 "nbformat": 4,
 "nbformat_minor": 4
}