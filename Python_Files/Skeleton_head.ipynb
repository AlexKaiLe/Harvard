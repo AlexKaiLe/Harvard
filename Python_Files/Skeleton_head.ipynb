{
 "cells": [
  {
   "cell_type": "code",
   "execution_count": 26,
   "source": [
    "import numpy as np\n",
    "import matplotlib.pyplot as plt\n",
    "from mpl_toolkits.mplot3d import Axes3D\n",
    "from scipy.io import loadmat\n",
    "import tensorflow as tf\n",
    "import random\n",
    "from tensorflow.keras.models import Sequential\n",
    "from tensorflow.keras.layers import Dense, Conv2D, Dropout, Flatten, MaxPooling2D, MaxPool2D, LeakyReLU"
   ],
   "outputs": [],
   "metadata": {}
  },
  {
   "cell_type": "code",
   "execution_count": 27,
   "source": [
    "joint_name = ['HeadF', 'HeadB', 'HeadL', 'SpineF', 'SpineM', 'SpineL', \n",
    "            'Offset1', 'Offset2', 'HipL', 'HipR', 'ElbowL', 'ArmL', \n",
    "            'ShoulderL', 'ShoulderR', 'ElbowR', 'ArmR', 'KneeR', \n",
    "            'KneeL', 'ShinL', 'ShinR']\n",
    "\n",
    "joints_idx = [[1, 2], [2, 3], [1, 3], [2, 4], [1, 4], [3, 4], [4, 5], \n",
    "            [5, 6], [4, 7], [7, 8], [5, 8], [5, 7], [6, 8], [6, 9], \n",
    "            [6, 10], [11, 12], [4, 13], [4, 14], [11, 13], [12, 13], \n",
    "            [14, 15], [14, 16], [15, 16], [9, 18], [10, 17], [18, 19], \n",
    "            [17, 20]]"
   ],
   "outputs": [],
   "metadata": {}
  },
  {
   "cell_type": "code",
   "execution_count": 28,
   "source": [
    "# Loading mat file and returning file\n",
    "def loadMatFile(fileName):\n",
    "    mat = loadmat('trainTestSplit.mat')[fileName]\n",
    "    return mat"
   ],
   "outputs": [],
   "metadata": {}
  },
  {
   "cell_type": "code",
   "execution_count": 33,
   "source": [
    "data_points = loadMatFile('split1True')\n",
    "head_points = data_points[:, :, 0:3]\n",
    "print(data_points.shape)\n",
    "print(head_points.shape)\n",
    "print(data_points[0].T)\n",
    "print(head_points[0].T)\n"
   ],
   "outputs": [
    {
     "output_type": "stream",
     "name": "stdout",
     "text": [
      "(80000, 3, 20)\n",
      "(80000, 3, 3)\n",
      "[[-148.32584724    7.45036855   95.17361888]\n",
      " [-147.35740925  -12.13259917   98.47824057]\n",
      " [-175.85115794  -13.91925855  107.72281218]\n",
      " [-167.16889907  -39.74449017   75.65284872]\n",
      " [-159.66678183  -65.84279387   93.29262788]\n",
      " [-142.62962653 -118.25691954   82.21962152]\n",
      " [-186.04472489  -60.53732984   77.79463213]\n",
      " [-178.73974191  -95.5538923    86.52594403]\n",
      " [-161.69047652 -133.75377288   67.69895397]\n",
      " [-119.29809543 -107.25901414   55.75947758]\n",
      " [-182.30184109  -51.60205279   20.63139119]\n",
      " [-184.45382482  -44.43323849   13.00982509]\n",
      " [-187.34977409  -44.03173298   68.2491732 ]\n",
      " [-150.82086669  -39.33996224   58.57484858]\n",
      " [-150.48590952  -42.87446123   20.81077635]\n",
      " [-156.80536485  -34.10066162   10.46731492]\n",
      " [-122.13027104  -88.61976976   45.11258056]\n",
      " [-179.70972321 -120.73952668   56.3539908 ]\n",
      " [-169.96490798 -126.22779069   35.22334471]\n",
      " [-119.77641359  -95.02500361   22.09429016]]\n",
      "[[-148.32584724    7.45036855   95.17361888]\n",
      " [-147.35740925  -12.13259917   98.47824057]\n",
      " [-175.85115794  -13.91925855  107.72281218]]\n"
     ]
    }
   ],
   "metadata": {}
  },
  {
   "cell_type": "code",
   "execution_count": 59,
   "source": [
    "head_distances = []\n",
    "for i in range(len(head_points)):\n",
    "    current_head = head_points[0].T\n",
    "    current_head = np.append(current_head, current_head[0]).reshape(4,3)\n",
    "    temp_head = []\n",
    "    for j in range(len(current_head)-1):\n",
    "        temp_head.append(measureDistance(current_head[j], current_head[j+1]))\n",
    "    head_distances.append(temp_head)"
   ],
   "outputs": [],
   "metadata": {}
  },
  {
   "cell_type": "code",
   "execution_count": 78,
   "source": [
    "head_distances = np.array(head_distances)\n",
    "print(head_distances.shape)\n",
    "average_dist = np.average(head_distances, axis=0)\n",
    "max_dist = head_distances.max(axis=0)\n",
    "min_dist = head_distances.min(axis=0)\n",
    "print(average_dist)\n",
    "print(max_dist)\n",
    "print(min_dist)"
   ],
   "outputs": [
    {
     "output_type": "stream",
     "name": "stdout",
     "text": [
      "(80000, 3)\n",
      "[19.88343586 30.00913145 37.03762876]\n",
      "[19.88343586 30.00913145 37.03762876]\n",
      "[19.88343586 30.00913145 37.03762876]\n"
     ]
    }
   ],
   "metadata": {}
  },
  {
   "cell_type": "code",
   "execution_count": 34,
   "source": [
    "def measureDistance(a, b):\n",
    "    x = (a[0] - b[0])\n",
    "    y = (a[1] - b[1])\n",
    "    z = (a[2] - b[2])\n",
    "    return float(np.sqrt(x**2 + y**2 + z**2))"
   ],
   "outputs": [],
   "metadata": {}
  },
  {
   "cell_type": "code",
   "execution_count": 160,
   "source": [
    "one = np.random.randint(400, size=(20, 20))\n",
    "two = np.random.randint(400, size=(20, 20))\n",
    "three = np.random.randint(400, size=(20, 20))\n",
    "out = []\n",
    "for i in range(20):\n",
    "    temp = np.array([one[i], two[i], three[i]])\n",
    "    first = temp[:,1:4].T\n",
    "    second = temp[:,3:14]\n",
    "    second = second [ :, second[0].argsort()]\n",
    "    first = first [ :, first[0].argsort()]\n",
    "    output = np.concatenate((first, second), axis =1)\n",
    "    out.append(output)\n",
    "out= np.array(out)\n",
    "print(out.shape)\n",
    "print(out[1])\n",
    "plt.imshow(out[1])\n",
    "plt.show()\n",
    "# out = []\n",
    "# for i in range(3, 20):\n",
    "#     temp = np.array([one[i], two[i], three[i]]).T\n",
    "#     temp = temp[temp[:,0].argsort()].T\n",
    "#     out.append(temp)\n",
    "# out= np.array(out)\n",
    "# print(out.shape)\n",
    "# plt.imshow(out[1])\n"
   ],
   "outputs": [
    {
     "output_type": "stream",
     "name": "stdout",
     "text": [
      "(20, 3, 14)\n",
      "[[239 244 325 127 133 168 201 212 213 246 258 308 339 352]\n",
      " [143 132  94 255 290  22  72 392 146 232 243 349 308  48]\n",
      " [336  22 168 191 159 336  46 140 288 339 377  30 395 121]]\n"
     ]
    },
    {
     "output_type": "display_data",
     "data": {
      "text/plain": [
       "<Figure size 432x288 with 1 Axes>"
      ],
      "image/png": "[encoded data removed]"
     },
     "metadata": {
      "needs_background": "light"
     }
    }
   ],
   "metadata": {}
  },
  {
   "cell_type": "code",
   "execution_count": 163,
   "source": [
    "# temp = np.random.randint(60, size=(3, 20))\n",
    "temp = np.arange(60).reshape(3,20)\n",
    "print(temp)\n",
    "temp = temp.reshape((20, -1))\n",
    "print(temp)\n"
   ],
   "outputs": [
    {
     "output_type": "stream",
     "name": "stdout",
     "text": [
      "[[ 0  1  2  3  4  5  6  7  8  9 10 11 12 13 14 15 16 17 18 19]\n",
      " [20 21 22 23 24 25 26 27 28 29 30 31 32 33 34 35 36 37 38 39]\n",
      " [40 41 42 43 44 45 46 47 48 49 50 51 52 53 54 55 56 57 58 59]]\n",
      "[[ 0  1  2]\n",
      " [ 3  4  5]\n",
      " [ 6  7  8]\n",
      " [ 9 10 11]\n",
      " [12 13 14]\n",
      " [15 16 17]\n",
      " [18 19 20]\n",
      " [21 22 23]\n",
      " [24 25 26]\n",
      " [27 28 29]\n",
      " [30 31 32]\n",
      " [33 34 35]\n",
      " [36 37 38]\n",
      " [39 40 41]\n",
      " [42 43 44]\n",
      " [45 46 47]\n",
      " [48 49 50]\n",
      " [51 52 53]\n",
      " [54 55 56]\n",
      " [57 58 59]]\n"
     ]
    }
   ],
   "metadata": {}
  }
 ],
 "metadata": {
  "orig_nbformat": 4,
  "language_info": {
   "name": "python"
  }
 },
 "nbformat": 4,
 "nbformat_minor": 2
}