{
 "cells": [
  {
   "cell_type": "code",
   "execution_count": 1,
   "metadata": {},
   "outputs": [],
   "source": [
    "import numpy as np\n",
    "from numpy import save\n",
    "from numpy import asarray\n",
    "from numpy import load\n",
    "import os\n",
    "\n",
    "import matplotlib.pyplot as plt\n",
    "from mpl_toolkits.mplot3d import Axes3D\n",
    "from scipy.io import loadmat\n",
    "import tensorflow as tf\n",
    "import statistics \n",
    "import random\n",
    "import progressbar\n",
    "from tensorflow.keras.models import Sequential\n",
    "from tensorflow.keras.layers import Dense, Conv2D, Dropout, Flatten, MaxPooling2D, MaxPool2D, LeakyReLU\n"
   ]
  },
  {
   "cell_type": "code",
   "execution_count": 2,
   "metadata": {},
   "outputs": [],
   "source": [
    "joint_name = ['HeadF', 'HeadB', 'HeadL', 'SpineF', 'SpineM', 'SpineL', \n",
    "            'Offset1', 'Offset2', 'HipL', 'HipR', 'ElbowL', 'ArmL', \n",
    "            'ShoulderL', 'ShoulderR', 'ElbowR', 'ArmR', 'KneeR', \n",
    "            'KneeL', 'ShinL', 'ShinR']\n",
    "\n",
    "joints_idx = [[1, 2], [2, 3], [1, 3], [2, 4], [1, 4], [3, 4], [4, 5], \n",
    "            [5, 6], [4, 7], [7, 8], [5, 8], [5, 7], [6, 8], [6, 9], \n",
    "            [6, 10], [11, 12], [4, 13], [4, 14], [11, 13], [12, 13], \n",
    "            [14, 15], [14, 16], [15, 16], [9, 18], [10, 17], [18, 19], \n",
    "            [17, 20]]\n",
    "folder = 'datasets/data_5/'"
   ]
  },
  {
   "cell_type": "code",
   "execution_count": 3,
   "metadata": {},
   "outputs": [],
   "source": [
    "# normalizes a matrix\n",
    "def normalize(matrix):\n",
    "    max_numb = max(matrix[~np.isnan(matrix)])\n",
    "    norm = matrix/max_numb\n",
    "    return np.array(norm)\n",
    "    # return matrix"
   ]
  },
  {
   "cell_type": "code",
   "execution_count": 4,
   "metadata": {},
   "outputs": [],
   "source": [
    "from scipy.spatial.distance import cdist\n",
    "# Get the distance to every single point \n",
    "def getAllDistances(matFile, numb):\n",
    "    mat = matFile[numb]\n",
    "    mat = mat.T\n",
    "    dist = cdist(mat, mat, 'euclidean')\n",
    "    norm = normalize(dist)\n",
    "    max_dist = max(dist.flatten())\n",
    "    return norm, max_dist"
   ]
  },
  {
   "cell_type": "code",
   "execution_count": 5,
   "metadata": {},
   "outputs": [],
   "source": [
    "# Get the absolute height difference to every single point \n",
    "def getAllHeights(matFile, numb):\n",
    "    mat = matFile[numb]\n",
    "    z = mat[2]\n",
    "    reshaped = int(matFile.shape[2])\n",
    "    height = []\n",
    "\n",
    "    for i in range(reshaped):\n",
    "        for j in range(reshaped):\n",
    "            if np.nan in [z[i], z[j]]:\n",
    "                height.append(np.nan)\n",
    "            else:\n",
    "                height.append(np.abs(z[i]-z[j]))\n",
    "\n",
    "    # normalizes height data\n",
    "    height = normalize(np.array(height).reshape(reshaped, reshaped))\n",
    "    return height, max(height.flatten())\n"
   ]
  },
  {
   "cell_type": "code",
   "execution_count": 6,
   "metadata": {},
   "outputs": [],
   "source": [
    "# Get the angle to every single point \n",
    "def getAllAngles(matFile, numb):\n",
    "    mat = matFile[numb]\n",
    "    mat = mat.T\n",
    "    angle = cdist(mat, mat, 'cosine')\n",
    "    return normalize(angle), max(angle.flatten())"
   ]
  },
  {
   "cell_type": "code",
   "execution_count": 7,
   "metadata": {},
   "outputs": [],
   "source": [
    "def getData(data, numb): \n",
    "    cnn_inputs = []\n",
    "    max_dist_list = []\n",
    "    max_height_list = []\n",
    "    max_angle_list = []\n",
    "\n",
    "    bar = progressbar.ProgressBar()\n",
    "\n",
    "    for i in bar(range(numb)):\n",
    "        dist, max_dist = getAllDistances(data, i) \n",
    "        height, max_height = getAllHeights(data, i)\n",
    "        angle, max_angle = getAllAngles(data, i)\n",
    "\n",
    "        # max_dist_list.append(max_dist)\n",
    "        # max_height_list.append(max_height)\n",
    "        # max_angle_list.append(max_angle)\n",
    "\n",
    "        for j in range(0, data.shape[2]):\n",
    "            temp = np.array([dist[j], height[j], angle[j]])\n",
    "            first = temp[:,0:3]\n",
    "            second = temp[:,3:20]\n",
    "            first = first [ :, first[0].argsort()]\n",
    "            second = second [ :, second[0].argsort()]\n",
    "            output = np.concatenate((first, second), axis =1)\n",
    "            cnn_inputs.append(output)\n",
    "\n",
    "            big = output[:,:13]\n",
    "            where_are_NaNs = np.isnan(big)\n",
    "            big[where_are_NaNs] = 0\n",
    "            max_dist_list.append(np.max(big[0]))\n",
    "            max_height_list.append(np.max(big[1]))\n",
    "            max_angle_list.append(np.max(big[2]))\n",
    "# median \n",
    "    avg_max_dist = statistics.median(max_dist_list)\n",
    "    avg_max_height = statistics.median(max_height_list)\n",
    "    avg_max_angle = statistics.median(max_angle_list)\n",
    "    avg_max = [avg_max_dist, avg_max_height, avg_max_angle]\n",
    "\n",
    "    cnn_inputs = np.array(cnn_inputs)[:,:,:13]\n",
    "    final = []\n",
    "    for i in range(len(cnn_inputs)):\n",
    "        for j in range(3):\n",
    "            final.append(cnn_inputs[i][j]/avg_max[j])\n",
    "    \n",
    "    cnn_inputs = np.array(final).reshape((cnn_inputs.shape[0], 39))\n",
    "    where_are_NaNs = np.isnan(cnn_inputs)\n",
    "    cnn_inputs[where_are_NaNs] = 0\n",
    "    return cnn_inputs\n"
   ]
  },
  {
   "cell_type": "code",
   "execution_count": 7,
   "metadata": {},
   "outputs": [],
   "source": [
    "train_file = loadmat('mat_files/bigSet1.mat')\n",
    "test_file = loadmat('mat_files/bigSet2.mat')"
   ]
  },
  {
   "cell_type": "code",
   "execution_count": null,
   "metadata": {},
   "outputs": [],
   "source": [
    "train_data = train_file['bigSet1']\n",
    "test_data = test_file['bigSet2']\n",
    "train_labels = train_file['labels1']\n",
    "test_labels = test_file['labels2']\n",
    "# set numb of data used\n",
    "numb_train = len(train_data)\n",
    "numb_test = 10000\n",
    "\n",
    "# Take some frames from the list to use as trian and test data\n",
    "# index_train = np.linspace(0, len(train_labels), num = numb_train, endpoint=False).astype(int)\n",
    "index_test = np.linspace(0, len(test_labels), num = numb_test, endpoint=False).astype(int)\n",
    "# pre_train_data = train_data[index_train]\n",
    "# pre_train_labels = train_labels[index_train]\n",
    "pre_train_data = train_data\n",
    "pre_train_labels = train_labels\n",
    "pre_test_data = test_data[index_test]\n",
    "pre_test_labels = test_labels[index_test]\n",
    "\n",
    "print(\"Shape of pre_train_data:\", pre_train_data.shape)\n",
    "print(\"Shape of pre_test_data:\", pre_test_data.shape)\n",
    "print(\"Shape of pre_train_labels:\", pre_train_labels.shape)\n",
    "print(\"Shape of pre_test_labels:\", pre_test_labels.shape)\n"
   ]
  },
  {
   "cell_type": "code",
   "execution_count": null,
   "metadata": {},
   "outputs": [],
   "source": [
    "# Get measurement data for every 3D point\n",
    "train_data = getData(pre_train_data, numb_train)\n",
    "test_data = getData(pre_test_data, numb_test)\n",
    "\n",
    "# Flatten the trian labels to fit dimentions of data\n",
    "train_labels = pre_train_labels.flatten()[0:(numb_train*20)]-1\n",
    "test_labels = pre_test_labels.flatten()[0:(numb_test*20)]-1\n",
    "\n",
    "print(\"Shape of train_data:\", train_data.shape)\n",
    "print(\"Shape of test_data:\", test_data.shape)\n",
    "print(\"Shape of train_labels:\", train_labels.shape)\n",
    "print(\"Shape of test_labels:\", test_labels.shape)"
   ]
  },
  {
   "cell_type": "code",
   "execution_count": null,
   "metadata": {},
   "outputs": [],
   "source": [
    "# Get index where the data is all 0\n",
    "nans_train = np.sort(np.where(~train_data.any(axis=1))[0])[::-1]\n",
    "nans_test = np.sort(np.where(~test_data.any(axis=1))[0])[::-1]\n",
    "\n",
    "# Turn data into lists\n",
    "train_data_new = list(train_data)\n",
    "test_data_new = list(test_data)\n",
    "train_labels_new = list(train_labels)\n",
    "test_labels_new = list(test_labels)\n",
    "\n",
    "bar = progressbar.ProgressBar()\n",
    "# Remove the nan values \n",
    "for i in bar(nans_train):\n",
    "    train_data_new.pop(i)\n",
    "    train_labels_new.pop(i)\n",
    "bar = progressbar.ProgressBar()\n",
    "for i in bar(nans_test):\n",
    "    test_data_new.pop(i)\n",
    "    test_labels_new.pop(i)\n",
    "\n",
    "# Turn data back into array\n",
    "train_data_new = np.array(train_data_new)\n",
    "train_labels_new = np.array(train_labels_new)\n",
    "test_data_new = np.array(test_data_new)\n",
    "test_labels_new = np.array(test_labels_new)\n",
    "\n",
    "print(\"Shape of train_data_new:\", train_data_new.shape)\n",
    "print(\"Shape of test_data_new:\", test_data_new.shape)\n",
    "print(\"Shape of train_labels_new:\", train_labels_new.shape)\n",
    "print(\"Shape of test_labels_new:\", test_labels_new.shape)"
   ]
  },
  {
   "cell_type": "code",
   "execution_count": 8,
   "metadata": {},
   "outputs": [],
   "source": [
    "# Creates the ML training platform to predict rat joints\n",
    "def ml_traning(train_data, train_labels, test_data, test_labels):\n",
    "    # DIMENTION CHANGE\n",
    "    train_data = train_data.reshape(train_data.shape[0], 39)\n",
    "    test_data = test_data.reshape(test_data.shape[0], 39)\n",
    "    # train_data = train_data.reshape(train_data.shape[0], 60)\n",
    "    # test_data = test_data.reshape(test_data.shape[0], 60)\n",
    "    train_data = train_data.astype('float32')\n",
    "    test_data = test_data.astype('float32')\n",
    "\n",
    "    model = createModel()\n",
    "    ml_folder = os.path.join(folder,\"training_2\")\n",
    "    if not os.path.isdir(ml_folder):\n",
    "        os.mkdir(ml_folder)\n",
    "    checkpoint_path = ml_folder + \"/cp.ckpt\"\n",
    "    cp_callback = tf.keras.callbacks.ModelCheckpoint(filepath=checkpoint_path, save_weights_only=True, monitor='val_accuracy', mode='max', save_best_only=True)\n",
    "\n",
    "    model.fit(x=train_data,y=train_labels, verbose='auto', batch_size=20, epochs=2, validation_data=(test_data, test_labels), callbacks=[cp_callback])\n",
    "    \n",
    "    loss, acc = model.evaluate(test_data, test_labels, verbose=1)\n",
    "    print(\"Loss:\", loss)\n",
    "    print(\"Accuracy:\", acc*100)\n",
    "    return model\n",
    "\n",
    "# Creates the model for the CNN\n",
    "def createModel():\n",
    "    model = Sequential()\n",
    "    model.add(Dense(640, activation= LeakyReLU()))\n",
    "    model.add(Dense(320, activation= LeakyReLU()))\n",
    "    # model.add(Dropout(rate=0.25))\n",
    "    model.add(Dense(80, activation= LeakyReLU()))\n",
    "    model.add(Dense(len(joint_name), activation = \"softmax\"))\n",
    "    model.compile(optimizer='adam',loss='sparse_categorical_crossentropy', metrics=['accuracy'])\n",
    "    return model"
   ]
  },
  {
   "cell_type": "code",
   "execution_count": 9,
   "metadata": {},
   "outputs": [],
   "source": [
    "# if not os.path.isdir(folder):\n",
    "#     os.mkdir(folder)\n",
    "# save(folder + 'train_data.npy', asarray(train_data_new))\n",
    "# save(folder + 'train_labels.npy', asarray(train_labels_new))\n",
    "# save(folder + 'test_data.npy', asarray(test_data_new))\n",
    "# save(folder + 'test_labels.npy', asarray(test_labels_new))\n",
    "folder = \"datasets/data_2/\"\n",
    "train_data_new = load(folder + 'train_data.npy')\n",
    "train_labels_new = load(folder + 'train_labels.npy')\n",
    "test_data_new = load(folder + 'test_data.npy')\n",
    "test_labels_new = load(folder + 'test_labels.npy')"
   ]
  },
  {
   "cell_type": "code",
   "execution_count": 10,
   "metadata": {},
   "outputs": [
    {
     "name": "stdout",
     "output_type": "stream",
     "text": [
      "(182109, 39) (182109,)\n"
     ]
    }
   ],
   "source": [
    "print(test_data_new.shape, test_labels_new.shape)"
   ]
  },
  {
   "cell_type": "code",
   "execution_count": 11,
   "metadata": {},
   "outputs": [],
   "source": [
    "# skeleton_model = ml_traning(train_data_new, train_labels_new, test_data_new, test_labels_new)"
   ]
  },
  {
   "cell_type": "code",
   "execution_count": 12,
   "metadata": {},
   "outputs": [
    {
     "name": "stdout",
     "output_type": "stream",
     "text": [
      "5691/5691 [==============================] - 12s 2ms/step - loss: 0.6652 - accuracy: 0.8245\n",
      "Restored model, accuracy: 82.45%\n"
     ]
    }
   ],
   "source": [
    "checkpoint_path = folder + \"training_2/cp.ckpt\"\n",
    "skeleton_model = createModel()\n",
    "skeleton_model.load_weights(checkpoint_path).expect_partial()\n",
    "\n",
    "# Re-evaluate the model\n",
    "loss, acc = skeleton_model.evaluate(test_data_new, test_labels_new)\n",
    "print(\"Restored model, accuracy: {:5.2f}%\".format(100 * acc))"
   ]
  },
  {
   "cell_type": "code",
   "execution_count": 13,
   "metadata": {},
   "outputs": [],
   "source": [
    "test_pred = np.argmax(skeleton_model.predict(test_data_new), axis=-1)\n",
    "con_mat = tf.math.confusion_matrix(labels=test_labels_new, predictions=test_pred).numpy()"
   ]
  },
  {
   "cell_type": "code",
   "execution_count": 14,
   "metadata": {},
   "outputs": [],
   "source": [
    "row_sums = con_mat.sum(axis=1)\n",
    "new_matrix = con_mat / row_sums[:, np.newaxis]"
   ]
  },
  {
   "cell_type": "code",
   "execution_count": 15,
   "metadata": {},
   "outputs": [
    {
     "data": {
      "image/png": "[encoded data removed]",
      "text/plain": [
       "<Figure size 432x288 with 2 Axes>"
      ]
     },
     "metadata": {
      "needs_background": "light"
     },
     "output_type": "display_data"
    }
   ],
   "source": [
    "%matplotlib inline\n",
    "# %matplotlib tk\n",
    "fig, ax = plt.subplots()\n",
    "ax.set_title(\"Confusion Matrix\")\n",
    "ax.set_xticks((0,1,2,3,4,5,6,7,8,9,10,11,12,13,14,15,16,17,18,19))\n",
    "ax.set_xticklabels(joint_name, rotation=90)\n",
    "ax.set_yticks((0,1,2,3,4,5,6,7,8,9,10,11,12,13,14,15,16,17,18,19))\n",
    "ax.set_yticklabels(joint_name)\n",
    "ax.xaxis.tick_top()\n",
    "temp = ax.imshow(new_matrix,interpolation='nearest', aspect=1)\n",
    "plt.colorbar(temp, ax=ax)\n",
    "plt.tight_layout()\n",
    "fig.savefig(\"cm.tiff\")"
   ]
  },
  {
   "cell_type": "code",
   "execution_count": 16,
   "metadata": {},
   "outputs": [],
   "source": [
    "# Tests individual points and tells you if the CNN worked\n",
    "def handTest(image_index, test_data, label, model, maxNumb):\n",
    "    max_index = len(joint_name)*maxNumb-1\n",
    "    if image_index <= max_index:\n",
    "        predict(test_data, image_index, label, model)\n",
    "    else:\n",
    "        print(\"ERROR: Your predict_index must be below\", max_index)\n",
    "\n",
    "# Showing individual predictions\n",
    "def predict(data, image_index, label, model):\n",
    "    img = [data[image_index]]\n",
    "    # DIMENTION CHANGE\n",
    "    img = np.array(img).reshape(3,13)\n",
    "    # img = np.array(img).reshape(3,20)\n",
    "    plt.imshow(img)\n",
    "    plt.show()\n",
    "\n",
    "    pred = model.predict(img.reshape(1, 39))\n",
    "    # pred = model.predict(img.reshape(1, 60))\n",
    "    predict = pred.argmax()\n",
    "    actual = label[image_index]\n",
    "\n",
    "    print(\"Actual:\", actual)\n",
    "    print(\"Predicted:\", predict)\n",
    "    \n",
    "    if predict == actual:\n",
    "        print(\"YAY ✿(ᵔ‿ᵔ)\")\n",
    "    else:\n",
    "        print(\"Wrong (◕︵◕)\")\n",
    "\n",
    "    "
   ]
  },
  {
   "cell_type": "code",
   "execution_count": 17,
   "metadata": {},
   "outputs": [],
   "source": [
    "# for i in range(420,440):\n",
    "#     handTest(i, test_data, test_labels, skeleton_model, numb_test)"
   ]
  },
  {
   "cell_type": "code",
   "execution_count": 17,
   "metadata": {},
   "outputs": [
    {
     "name": "stdout",
     "output_type": "stream",
     "text": [
      "<KeysViewHDF5 ['alteredM', 'labelsM']>\n"
     ]
    }
   ],
   "source": [
    "import h5py\n",
    "temporal_file = h5py.File('mat_files/JDM25baseline_Ext4_timematched_controltsne_analysis_struct_mocapdata.mat', 'r') \n",
    "print(temporal_file.keys())"
   ]
  },
  {
   "cell_type": "code",
   "execution_count": 18,
   "metadata": {},
   "outputs": [],
   "source": [
    "temp_data = temporal_file['alteredM'][:]\n",
    "temp_labels = temporal_file['labelsM'][:]"
   ]
  },
  {
   "cell_type": "code",
   "execution_count": 19,
   "metadata": {},
   "outputs": [],
   "source": [
    "temporal_file.close()"
   ]
  },
  {
   "cell_type": "code",
   "execution_count": 20,
   "metadata": {},
   "outputs": [],
   "source": [
    "copy_data = temp_data.copy()\n",
    "copy_labels = temp_labels.copy()"
   ]
  },
  {
   "cell_type": "code",
   "execution_count": 41,
   "metadata": {},
   "outputs": [
    {
     "name": "stdout",
     "output_type": "stream",
     "text": [
      "(20, 3, 1000) (20, 1000)\n"
     ]
    }
   ],
   "source": [
    "new_temp_data = copy_data[:,:,:1000]\n",
    "new_temp_labels = copy_labels[:,:1000]\n",
    "print(new_temp_data.shape, new_temp_labels.shape)"
   ]
  },
  {
   "cell_type": "code",
   "execution_count": 22,
   "metadata": {},
   "outputs": [
    {
     "data": {
      "text/plain": [
       "<matplotlib.image.AxesImage at 0x7fd14e1b7c40>"
      ]
     },
     "execution_count": 22,
     "metadata": {},
     "output_type": "execute_result"
    },
    {
     "data": {
      "image/png": "[encoded data removed]",
      "text/plain": [
       "<Figure size 432x288 with 1 Axes>"
      ]
     },
     "metadata": {
      "needs_background": "light"
     },
     "output_type": "display_data"
    }
   ],
   "source": [
    "plt.imshow(temp_labels[:,:300])"
   ]
  },
  {
   "cell_type": "code",
   "execution_count": 44,
   "metadata": {},
   "outputs": [
    {
     "name": "stderr",
     "output_type": "stream",
     "text": [
      "100% (40 of 40) |########################| Elapsed Time: 0:00:00 Time:  0:00:00\n"
     ]
    }
   ],
   "source": [
    "%matplotlib inline\n",
    "final_data = []\n",
    "labels = []\n",
    "bar = progressbar.ProgressBar()\n",
    "for i in bar(range(40)):\n",
    "    label = new_temp_labels[:,i]\n",
    "    data = new_temp_data[:,:,i]\n",
    "#     Z = [data for _,x in sorted(zip(label,data))]\n",
    "#     final_data.append(Z)\n",
    "    sort = label.argsort()\n",
    "    sorted_labels = label[sort[::-1]]\n",
    "    sorted_data = data[sort[::-1]]\n",
    "    final_data.append(sorted_data)\n",
    "    labels.append(label)"
   ]
  },
  {
   "cell_type": "code",
   "execution_count": null,
   "metadata": {},
   "outputs": [],
   "source": [
    "print(np.array(final_data)[0])\n",
    "print(np.array(labels)[0])"
   ]
  },
  {
   "cell_type": "code",
   "execution_count": 743,
   "metadata": {},
   "outputs": [
    {
     "name": "stdout",
     "output_type": "stream",
     "text": [
      "<KeysViewHDF5 ['markers']>\n"
     ]
    }
   ],
   "source": [
    "import h5py\n",
    "temporal_file = h5py.File('mat_files/JDM32baseline_Ext4_timematched_controltsne_analysis_struct_mocapdata.mat', 'r') \n",
    "print(temporal_file.keys())"
   ]
  },
  {
   "cell_type": "code",
   "execution_count": 744,
   "metadata": {},
   "outputs": [],
   "source": [
    "temp_data = temporal_file['markers'][:]"
   ]
  },
  {
   "cell_type": "code",
   "execution_count": 745,
   "metadata": {},
   "outputs": [],
   "source": [
    "temporal_file.close()"
   ]
  },
  {
   "cell_type": "code",
   "execution_count": 746,
   "metadata": {},
   "outputs": [
    {
     "name": "stdout",
     "output_type": "stream",
     "text": [
      "(20, 3, 9040006)\n",
      "<class 'numpy.ndarray'>\n"
     ]
    }
   ],
   "source": [
    "print(temp_data.shape)\n",
    "print(type(temp_data))"
   ]
  },
  {
   "cell_type": "code",
   "execution_count": 747,
   "metadata": {},
   "outputs": [],
   "source": [
    "temp_data[temp_data < .1] = np.nan"
   ]
  },
  {
   "cell_type": "code",
   "execution_count": 748,
   "metadata": {},
   "outputs": [],
   "source": [
    "xyz_data = temp_data.reshape(60,9040006)"
   ]
  },
  {
   "cell_type": "code",
   "execution_count": 757,
   "metadata": {},
   "outputs": [
    {
     "data": {
      "image/png": "[encoded data removed]",
      "text/plain": [
       "<Figure size 432x288 with 1 Axes>"
      ]
     },
     "metadata": {
      "needs_background": "light"
     },
     "output_type": "display_data"
    }
   ],
   "source": [
    "%matplotlib inline\n",
    "num_fms = 3000\n",
    "num_pts = int(xyz_data.shape[0]/3) #22\n",
    "# raw_pts = xyz_data\n",
    "raw_pts = xyz_data[:,:num_fms]\n",
    "\n",
    "num_fms = np.array(test_pts).shape[1]\n",
    "\n",
    "plt.imshow(raw_pts, interpolation='nearest', aspect=\"auto\")\n",
    "plt.show()"
   ]
  },
  {
   "cell_type": "code",
   "execution_count": 760,
   "metadata": {},
   "outputs": [
    {
     "data": {
      "image/png": "[encoded data removed]",
      "text/plain": [
       "<Figure size 432x288 with 1 Axes>"
      ]
     },
     "metadata": {
      "needs_background": "light"
     },
     "output_type": "display_data"
    }
   ],
   "source": [
    "import random\n",
    "test_pts = raw_pts.copy()\n",
    "for i in range(3,num_pts):\n",
    "    times = random.randint(10,20)\n",
    "    for j in range(times):\n",
    "        length_gap = random.randint(0,100)\n",
    "        start_gap = random.randint(0,num_fms-1)\n",
    "        end_gap = start_gap + length_gap\n",
    "        test_pts[i*3][start_gap:end_gap] = np.nan\n",
    "        test_pts[i*3+1][start_gap:end_gap] = np.nan\n",
    "        test_pts[i*3+2][start_gap:end_gap] = np.nan\n",
    "plt.imshow(test_pts, interpolation='nearest', aspect=\"auto\")\n",
    "plt.show()"
   ]
  },
  {
   "cell_type": "code",
   "execution_count": 761,
   "metadata": {},
   "outputs": [],
   "source": [
    "input_pts = test_pts.reshape(num_pts, 3, num_fms).T"
   ]
  },
  {
   "cell_type": "code",
   "execution_count": 762,
   "metadata": {},
   "outputs": [
    {
     "name": "stderr",
     "output_type": "stream",
     "text": [
      "100% (3000 of 3000) |####################| Elapsed Time: 0:00:08 Time:  0:00:08\n"
     ]
    }
   ],
   "source": [
    "processed_time = getData(input_pts, len(input_pts))"
   ]
  },
  {
   "cell_type": "code",
   "execution_count": 763,
   "metadata": {},
   "outputs": [],
   "source": [
    "process_pts = processed_time.reshape(num_fms, num_pts, 39)\n",
    "temp = processed_time.reshape(num_fms, num_pts, 39)\n",
    "processed = np.transpose(temp,(1, 0, 2))"
   ]
  },
  {
   "cell_type": "code",
   "execution_count": 764,
   "metadata": {},
   "outputs": [
    {
     "name": "stdout",
     "output_type": "stream",
     "text": [
      "(20, 3000, 39)\n"
     ]
    }
   ],
   "source": [
    "print(processed.shape)"
   ]
  },
  {
   "cell_type": "code",
   "execution_count": 765,
   "metadata": {},
   "outputs": [
    {
     "name": "stderr",
     "output_type": "stream",
     "text": [
      "100% (20 of 20) |########################| Elapsed Time: 0:00:00 Time:  0:00:00\n"
     ]
    }
   ],
   "source": [
    "chunks = []\n",
    "temp = np.ones((num_pts,num_fms))\n",
    "bar = progressbar.ProgressBar()\n",
    "# run through all the registered points (0,22)\n",
    "for i in bar(range(num_pts)):\n",
    "    # get every third row\n",
    "    row = i*3\n",
    "    row_list = []\n",
    "    temp_list = []\n",
    "\n",
    "    # run through length of each row (0,3000)\n",
    "    for j in range(num_fms): \n",
    "        # not a nan, add index to list\n",
    "        if not np.isnan(test_pts[row][j]):\n",
    "            temp_list.append(j)\n",
    "            temp[i][j] = temp[i][j]*2\n",
    "        # if element is a nan and the current list is not empty\n",
    "        elif len(temp_list) > 0:\n",
    "            # add list to output and clear the list\n",
    "            row_list.append([temp_list[0], temp_list[-1]])\n",
    "            temp_list = []\n",
    "    # edge case, add to output if the list still contains values\n",
    "    if len(temp_list) > 0:\n",
    "        row_list.append([temp_list[0], temp_list[-1]])\n",
    "    chunks.append(row_list)"
   ]
  },
  {
   "cell_type": "code",
   "execution_count": 766,
   "metadata": {},
   "outputs": [
    {
     "name": "stdout",
     "output_type": "stream",
     "text": [
      "Point: 0, Chunks: 1\n",
      "Point: 1, Chunks: 1\n",
      "Point: 2, Chunks: 4\n",
      "Point: 3, Chunks: 13\n",
      "Point: 4, Chunks: 12\n",
      "Point: 5, Chunks: 9\n",
      "Point: 6, Chunks: 13\n",
      "Point: 7, Chunks: 13\n",
      "Point: 8, Chunks: 13\n",
      "Point: 9, Chunks: 13\n",
      "Point: 10, Chunks: 14\n",
      "Point: 11, Chunks: 22\n",
      "Point: 12, Chunks: 10\n",
      "Point: 13, Chunks: 11\n",
      "Point: 14, Chunks: 11\n",
      "Point: 15, Chunks: 13\n",
      "Point: 16, Chunks: 10\n",
      "Point: 17, Chunks: 13\n",
      "Point: 18, Chunks: 11\n",
      "Point: 19, Chunks: 14\n"
     ]
    }
   ],
   "source": [
    "# Check the chunk list\n",
    "chunks = np.array(chunks, dtype=list)\n",
    "for i in range(len(chunks)):\n",
    "    print(\"Point: \"+str(i) +\", Chunks: \" + str(len(chunks[i])))"
   ]
  },
  {
   "cell_type": "code",
   "execution_count": 767,
   "metadata": {},
   "outputs": [
    {
     "name": "stdout",
     "output_type": "stream",
     "text": [
      "[5 6 7]\n"
     ]
    }
   ],
   "source": [
    "temp = np.arange(20)\n",
    "print(temp[5:8])"
   ]
  },
  {
   "cell_type": "code",
   "execution_count": 820,
   "metadata": {},
   "outputs": [
    {
     "name": "stdout",
     "output_type": "stream",
     "text": [
      "\n",
      "Point: 0, Segments: 1\n",
      "\n",
      "Point: 1, Segments: 1\n",
      "\n",
      "Point: 2, Segments: 4\n",
      "\n",
      "Point: 3, Segments: 13\n",
      "\n",
      "Point: 4, Segments: 12\n",
      "\n",
      "Point: 5, Segments: 9\n",
      "\n",
      "Point: 6, Segments: 13\n",
      "\n",
      "Point: 7, Segments: 13\n",
      "\n",
      "Point: 8, Segments: 13\n",
      "\n",
      "Point: 9, Segments: 13\n",
      "\n",
      "Point: 10, Segments: 14\n",
      "\n",
      "Point: 11, Segments: 22\n",
      "\n",
      "Point: 12, Segments: 10\n",
      "\n",
      "Point: 13, Segments: 11\n",
      "\n",
      "Point: 14, Segments: 11\n",
      "\n",
      "Point: 15, Segments: 13\n",
      "\n",
      "Point: 16, Segments: 10\n",
      "\n",
      "Point: 17, Segments: 13\n",
      "\n",
      "Point: 18, Segments: 11\n",
      "\n",
      "Point: 19, Segments: 14\n"
     ]
    }
   ],
   "source": [
    "%matplotlib inline\n",
    "from scipy import stats\n",
    "temporal_data = []\n",
    "# loop through all the points (0,22)\n",
    "for i in range(len(chunks)):\n",
    "    prediction = []\n",
    "    confidence = []\n",
    "    data = chunks[i] # list of chunks in a given row\n",
    "    model_pred = skeleton_model.predict(processed[i])\n",
    "    print(\"\\nPoint: \"+ str(i) + \", Segments: \" + str(len(data)))\n",
    "    for j in range(len(data)):\n",
    "        seg_range = data[j] \n",
    "        lower = seg_range[0]\n",
    "        upper = seg_range[1]+1\n",
    "        seg_len = upper - lower\n",
    "        seg = model_pred[lower:upper]\n",
    "        \n",
    "        # get the predictions per frame\n",
    "        pred_frame = seg.argmax(axis=-1)\n",
    "        # adding up all the confident scores together\n",
    "        conf_sum = np.sum(seg, axis=0)/seg_len\n",
    "        # get the prediction with highest confident score\n",
    "        pred = conf_sum.argmax()\n",
    "        # get the highest confident score \n",
    "        conf = conf_sum.max()\n",
    "        # count how many times the prediction apppears per chunk \n",
    "        pred_count = np.sum(pred == pred_frame)\n",
    "        # get the percent of how many times it appears \n",
    "        pred_mode = pred_count/seg_len\n",
    "        # get the list of predictions in decending order \n",
    "        rank_pred = np.argsort(conf_sum.argsort())\n",
    "\n",
    "#         print(i, \": (\", j+1, \"/\", len(data), \"):\", pred ,\"[\", lower, \",\", upper, \"], (\", pred_count, \"/\", seg_len, \") =\", pred_mode, \",\", conf)\n",
    "        add_data = [i, rank_pred, seg_range, pred_count, seg_len, pred_mode, conf, conf_sum]\n",
    "#         print(add_data)\n",
    "        prediction.append(add_data)\n",
    "    temporal_data.append(prediction)\n"
   ]
  },
  {
   "cell_type": "code",
   "execution_count": 801,
   "metadata": {},
   "outputs": [],
   "source": [
    "# save(folder + 'temporal_data.npy', asarray(temporal_data, dtype=object))\n",
    "# save(folder + 'confidence_levels.npy', asarray(confidence_levels, dtype=object))\n",
    "# save(folder + 'predict_numbs.npy', asarray(predict_numbs, dtype=object))\n",
    "\n",
    "# temporal_data = load(folder + 'temporal_data.npy', allow_pickle=True)"
   ]
  },
  {
   "cell_type": "code",
   "execution_count": 821,
   "metadata": {},
   "outputs": [
    {
     "data": {
      "text/plain": [
       "<matplotlib.image.AxesImage at 0x7f9c7183b970>"
      ]
     },
     "execution_count": 821,
     "metadata": {},
     "output_type": "execute_result"
    },
    {
     "data": {
      "image/png": "[encoded data removed]",
      "text/plain": [
       "<Figure size 432x288 with 2 Axes>"
      ]
     },
     "metadata": {
      "needs_background": "light"
     },
     "output_type": "display_data"
    }
   ],
   "source": [
    "temp_new = np.ones((num_pts,num_fms))\n",
    "for i in range(len(temporal_data)):\n",
    "    for j in range(len(temporal_data[i])):\n",
    "        start = temporal_data[i][j][2][0]\n",
    "        end = temporal_data[i][j][2][1] + 1\n",
    "        for k in range(start, end):\n",
    "            temp_new[i][k] +=1\n",
    "fig, (ax1, ax2) = plt.subplots(2)\n",
    "ax1.imshow(temp_new, interpolation='nearest', aspect=\"auto\")\n",
    "ax2.imshow(test_pts[::3], interpolation='nearest', aspect=\"auto\")"
   ]
  },
  {
   "cell_type": "code",
   "execution_count": 822,
   "metadata": {},
   "outputs": [],
   "source": [
    "temp_copy = temporal_data.copy()\n",
    "temp_data = np.array(temp_copy, dtype=object)\n",
    "conf_copy = confidence_data.copy()\n",
    "conf_data = np.array(conf_copy, dtype=object)"
   ]
  },
  {
   "cell_type": "code",
   "execution_count": 823,
   "metadata": {},
   "outputs": [
    {
     "name": "stdout",
     "output_type": "stream",
     "text": [
      "(20,)\n"
     ]
    }
   ],
   "source": [
    "print(temp_data.shape)"
   ]
  },
  {
   "cell_type": "code",
   "execution_count": 824,
   "metadata": {},
   "outputs": [
    {
     "name": "stdout",
     "output_type": "stream",
     "text": [
      "0 1\n",
      "1 1\n",
      "2 4\n",
      "3 11\n",
      "4 15\n",
      "5 5\n",
      "6 11\n",
      "7 44\n",
      "8 2\n",
      "9 0\n",
      "10 24\n",
      "11 16\n",
      "12 11\n",
      "13 6\n",
      "14 37\n",
      "15 1\n",
      "16 1\n",
      "17 12\n",
      "18 15\n",
      "19 4\n"
     ]
    }
   ],
   "source": [
    "chunk_data = []\n",
    "\n",
    "for i in range(20):\n",
    "    chunk_data.append([])\n",
    "    \n",
    "# putting the preditions into buckets\n",
    "for i in range(num_pts):\n",
    "    index = temp_data[i]\n",
    "    for j in range(len(index)):\n",
    "        chunk_data[index[j][1].argmax()].append(index[j])\n",
    "\n",
    "for i in range(len(chunk_data)):\n",
    "    print(i, len(chunk_data[i]))\n",
    "#     for j in range(len(chunk_data[i])):\n",
    "#         print(chunk_data[i][j])"
   ]
  },
  {
   "cell_type": "code",
   "execution_count": 825,
   "metadata": {},
   "outputs": [
    {
     "name": "stdout",
     "output_type": "stream",
     "text": [
      "[[0, array([19, 17, 18, 10, 11, 12, 15, 13,  4, 16,  5,  9, 14,  1,  3,  6,  0,\n",
      "        2,  8,  7]), [0, 2999], 2665, 3000, 0.8883333333333333, 0.87054825, array([8.7054825e-01, 5.7022650e-02, 6.9136478e-02, 8.6612482e-07,\n",
      "       1.5186400e-05, 8.4619940e-05, 4.9517618e-04, 2.7776699e-04,\n",
      "       1.2901897e-07, 1.9390908e-03, 1.6281612e-07, 6.8644931e-07,\n",
      "       4.7819913e-04, 2.6927722e-08, 9.6006502e-08, 2.5784928e-07,\n",
      "       1.3883131e-08, 7.4579027e-08, 3.6897359e-07, 2.8419888e-07],\n",
      "      dtype=float32)]]\n"
     ]
    }
   ],
   "source": [
    "print(chunk_data[0])"
   ]
  },
  {
   "cell_type": "code",
   "execution_count": 883,
   "metadata": {},
   "outputs": [],
   "source": [
    "def squish(chunk_data):\n",
    "    unprocessed_pts = []\n",
    "    processed_pts = []\n",
    "    # squish all the data points\n",
    "    for i in range(20): \n",
    "        numb_index = []\n",
    "        unprocessed = []\n",
    "        bounds = None\n",
    "        current = chunk_data[i]\n",
    "        cert = chunk_data[i]\n",
    "        sorted_current = sorted(current,key=lambda x: x[4])\n",
    "        \n",
    "        for j in reversed(range(len(sorted_current))):\n",
    "            input_index = sorted_current[j]\n",
    "            current_bounds = np.arange(input_index[2][0], input_index[2][1]+1).tolist()\n",
    "\n",
    "            if len(numb_index) == 0:\n",
    "                numb_index.append(input_index)\n",
    "                bounds = current_bounds\n",
    "            else:\n",
    "                same = list(set(current_bounds) & set(bounds)) # gets overlapping elements \n",
    "                # no overlapp between the two lists\n",
    "                if len(same) == 0:\n",
    "                    numb_index.append(input_index)\n",
    "                    bounds += current_bounds\n",
    "                else: #if there is overlap between the two lists\n",
    "                    if current_bounds[0] in bounds or current_bounds[-1] in bounds:\n",
    "#                         print(str(i) + \") Can't add index in range [\" + str(current_bounds[0]) + \", \" + str(current_bounds[-1]) + \"] to [\" + str(bounds[0])+ \", \" + str(bounds[-1]) + \"]\")\n",
    "                        unprocessed.append(input_index)\n",
    "                        pass\n",
    "                    elif current_bounds[0] in bounds:\n",
    "                        print(\"Lower bound inside current bounds\")\n",
    "                        pass\n",
    "                    elif current_bounds[-1] in bounds:\n",
    "                        print(\"Upper bound inside current bounds\")\n",
    "                        pass\n",
    "            bounds = sorted(bounds)\n",
    "        processed_pts.append(numb_index)\n",
    "        unprocessed_pts.append(unprocessed)\n",
    "    processed_pts = np.array(processed_pts, dtype = object)\n",
    "    unprocessed_pts = np.array(unprocessed_pts, dtype = object)\n",
    "    return processed_pts, unprocessed_pts\n",
    " "
   ]
  },
  {
   "cell_type": "code",
   "execution_count": 884,
   "metadata": {},
   "outputs": [],
   "source": [
    "processed_pts, unprocessed_pts = squish(chunk_data)"
   ]
  },
  {
   "cell_type": "code",
   "execution_count": 885,
   "metadata": {},
   "outputs": [],
   "source": [
    "# unproc_pts = np.copy(unprocessed_pts)"
   ]
  },
  {
   "cell_type": "code",
   "execution_count": 886,
   "metadata": {},
   "outputs": [],
   "source": [
    "# new_conf = []\n",
    "# for i in range(len(unproc_pts)):\n",
    "#     if len(unproc_pts[i]) == 0:\n",
    "#         new_conf.append([])\n",
    "#     else:\n",
    "#         temp_new_conf = []\n",
    "#         for j in range(len(unproc_pts[i])):\n",
    "#             conf = np.copy(unproc_pts[i][j][1])\n",
    "#             max_index = conf.argmax()\n",
    "#             conf[max_index] = 0\n",
    "#             new_max = conf.argmax()\n",
    "#             add_data = [new_max] + [conf] + unproc_pts[i][j][2:8]\n",
    "#             temp_new_conf.append(add_data)\n",
    "#         new_conf.append(temp_new_conf)"
   ]
  },
  {
   "cell_type": "code",
   "execution_count": 887,
   "metadata": {},
   "outputs": [],
   "source": [
    "# processed_pts_2, unprocessed_pts_2 = squish(new_conf)"
   ]
  },
  {
   "cell_type": "code",
   "execution_count": 888,
   "metadata": {},
   "outputs": [
    {
     "name": "stdout",
     "output_type": "stream",
     "text": [
      "Point: 0 --> 0, \n",
      "Point: 1 --> 1, \n",
      "Point: 2 --> 2, 2, 2, 2, \n",
      "Point: 3 --> 3, 3, 3, 3, 3, 3, 3, 3, 3, 3, 3, \n",
      "Point: 4 --> 4, 4, 4, 4, 4, 4, 4, 4, 4, 4, 4, 4, 16, \n",
      "Point: 5 --> 5, 5, 5, 8, 8, \n",
      "Point: 6 --> 6, 6, 6, 6, 6, 6, 6, 6, 6, 6, \n",
      "Point: 7 --> 8, 5, 9, 5, 8, 5, 8, 9, \n",
      "Point: 8 --> 8, 3, \n",
      "Point: 9 --> \n",
      "Point: 10 --> 10, 10, 12, 10, 10, 10, 10, 10, 10, 10, 11, \n",
      "Point: 11 --> 13, 13, 11, 10, 11, 10, 11, 11, 11, 11, \n",
      "Point: 12 --> 12, 12, 12, 12, 12, 12, 12, 12, 12, \n",
      "Point: 13 --> 13, 13, 13, 13, 13, 13, \n",
      "Point: 14 --> 14, 14, 15, 14, 14, 14, 15, 14, 14, 15, \n",
      "Point: 15 --> 13, \n",
      "Point: 16 --> 19, \n",
      "Point: 17 --> 17, 17, 17, 17, 17, 17, 17, 17, 18, 17, 17, \n",
      "Point: 18 --> 16, 16, 18, 18, 18, 18, 18, \n",
      "Point: 19 --> 16, 16, 6, 6, \n"
     ]
    }
   ],
   "source": [
    "for i in range(len(processed_pts)):\n",
    "    print(\"Point:\", i, end = \" --> \")\n",
    "    for j in range(len(processed_pts[i])):\n",
    "        print(processed_pts[i][j][0], end = \", \")\n",
    "    print(\"\")"
   ]
  },
  {
   "cell_type": "code",
   "execution_count": 889,
   "metadata": {},
   "outputs": [],
   "source": [
    "final_points = []\n",
    "point_coord = np.ones((60,num_fms))*np.nan\n",
    "\n",
    "for i in range(len(processed_pts)):\n",
    "    index = [i*3, i*3+1, i*3+2]\n",
    "    coord = [[],[],[]]\n",
    "\n",
    "    for j in range(len(processed_pts[i])):\n",
    "        seg_range = processed_pts[i][j]\n",
    "        org_index = seg_range[0]\n",
    "        start = seg_range[2][0]\n",
    "        end = seg_range[2][1]\n",
    "        index_xyz = [org_index*3, org_index*3+1, org_index*3+2]\n",
    "\n",
    "        for k in range(start, end):\n",
    "            point_coord[index[0]][k] = test_pts[index_xyz[0]][k]\n",
    "            point_coord[index[1]][k] = test_pts[index_xyz[1]][k]\n",
    "            point_coord[index[2]][k] = test_pts[index_xyz[2]][k]\n",
    "            if np.isnan(test_pts[index_xyz[0]][k]):\n",
    "                print(\"big error\", seg_range)"
   ]
  },
  {
   "cell_type": "code",
   "execution_count": 932,
   "metadata": {},
   "outputs": [
    {
     "data": {
      "image/png": "[encoded data removed]",
      "text/plain": [
       "<Figure size 432x288 with 1 Axes>"
      ]
     },
     "metadata": {
      "needs_background": "light"
     },
     "output_type": "display_data"
    },
    {
     "data": {
      "image/png": "[encoded data removed]",
      "text/plain": [
       "<Figure size 432x288 with 1 Axes>"
      ]
     },
     "metadata": {
      "needs_background": "light"
     },
     "output_type": "display_data"
    }
   ],
   "source": [
    "%matplotlib inline\n",
    "plt.imshow(test_pts, interpolation='nearest', aspect=\"auto\")\n",
    "plt.show()\n",
    "plt.imshow(point_coord, interpolation='nearest', aspect=\"auto\")\n",
    "plt.show()"
   ]
  },
  {
   "cell_type": "code",
   "execution_count": 891,
   "metadata": {},
   "outputs": [],
   "source": [
    "# Draw major lines in the rat model\n",
    "def drawLines(ax,x, y, z):\n",
    "    # run through all the connections to draw the points\n",
    "    for i in range(len(joints_idx)):\n",
    "        try: \n",
    "            # Getting both points to draw line\n",
    "            idx = joints_idx[i]\n",
    "            first_pt = idx[0]-1\n",
    "            second_pt = idx[1]-1\n",
    "            x_line = [x[first_pt], x[second_pt]]\n",
    "            y_line = [y[first_pt], y[second_pt]]\n",
    "            z_line = [z[first_pt], z[second_pt]]\n",
    "            # Draw lines\n",
    "            if i < 3: \n",
    "                ax.plot(x_line, y_line, z_line, c=\"#064ea1\", linewidth=4)\n",
    "            elif i < 6:\n",
    "                ax.plot(x_line, y_line, z_line, c=\"#64ccd1\", linewidth=4)\n",
    "            else:\n",
    "                ax.plot(x_line, y_line, z_line, c=\"#46b8a7\", linewidth=4)\n",
    "        except:\n",
    "            pass\n",
    "\n",
    "# Draw all line from every point \n",
    "def drawAllLines(ax,x, y, z):\n",
    "    joint_len = len(joint_name)\n",
    "    all_lines = []\n",
    "    for i in range(joint_len):\n",
    "        for j in range(joint_len):\n",
    "            if (not([i,j] in all_lines)):\n",
    "                x_line = [x[i], x[j]]\n",
    "                y_line = [y[i], y[j]]\n",
    "                z_line = [z[i], z[j]]\n",
    "                ax.plot(x_line, y_line, z_line, color='#b1d8fc', linewidth=0.5)\n",
    "                all_lines.append([i,j])\n",
    "                all_lines.append([j,i])\n",
    "\n",
    "def addLabels(ax, x, y, z):\n",
    "    # run through all the points to add labels\n",
    "    for i in range(len(x)):\n",
    "        try:\n",
    "            # points_array.append([x[i], y[i], z[i]])\n",
    "            # label = np.around(points_array[i]).astype(int)\n",
    "            label = joint_name[i]\n",
    "            if not np.isnan(x[i]):\n",
    "                ax.text(x[i], y[i], z[i], label)\n",
    "            # print(i, \":\", points_array[i], joint_name[i])\n",
    "        except:\n",
    "            pass"
   ]
  },
  {
   "cell_type": "code",
   "execution_count": 892,
   "metadata": {},
   "outputs": [],
   "source": [
    "# %matplotlib tk\n",
    "\n",
    "# Plot 3D points given file and frame number\n",
    "def plotFrame(pts, frame, draw):\n",
    "    x = frame[0]\n",
    "    y = frame[1]\n",
    "    z = frame[2]\n",
    "    x_pts = pts[0]\n",
    "    y_pts = pts[1]\n",
    "    z_pts = pts[2]\n",
    "\n",
    "    # plt.imshow([x, y,z])\n",
    "    # plt.show()\n",
    "\n",
    "    # loading plot\n",
    "    fig = plt.figure()\n",
    "    ax = fig.add_subplot(projection='3d')\n",
    "\n",
    "    # adding points, labels and lines\n",
    "    try:\n",
    "        ax.scatter(x,y,z, color='#ff5e5e', s =10, marker='x')\n",
    "        ax.scatter(x_pts,y_pts,z_pts, color='b', s =10)\n",
    "    except:\n",
    "        pass\n",
    "    if draw == 0:\n",
    "        drawLines(ax, x, y, z)\n",
    "        addLabels(ax, x, y, z)\n",
    "        \n",
    "    # Labeling plot\n",
    "    ax.set_title(\"Rat positioning\")\n",
    "    ax.set_xlabel(\"X axis\")\n",
    "    ax.set_ylabel(\"Y axis\")\n",
    "    ax.set_zlabel(\"Z axis\")\n",
    "    # rotate the axes and update\n",
    "#     for angle in range(0, 90):\n",
    "#         ax.view_init(30, angle)\n",
    "#         plt.draw()\n",
    "#         plt.pause(.001)\n"
   ]
  },
  {
   "cell_type": "code",
   "execution_count": 893,
   "metadata": {},
   "outputs": [],
   "source": [
    "temp = point_coord.copy()\n",
    "temp_2 = np.transpose(temp.T.reshape(num_fms, 20, 3), (0,2,1))\n",
    "temp_3 = test_pts.copy()\n",
    "temp_4 = np.transpose(temp_3.T.reshape(num_fms, num_pts, 3), (0,2,1))"
   ]
  },
  {
   "cell_type": "code",
   "execution_count": 894,
   "metadata": {},
   "outputs": [],
   "source": [
    "%matplotlib qt\n",
    "plotFrame(temp_4[2500], temp_2[2500], 0)\n",
    "plt.show()"
   ]
  },
  {
   "cell_type": "code",
   "execution_count": 895,
   "metadata": {},
   "outputs": [
    {
     "name": "stdout",
     "output_type": "stream",
     "text": [
      "(60, 3000)\n"
     ]
    }
   ],
   "source": [
    "print(point_coord.shape)"
   ]
  },
  {
   "cell_type": "code",
   "execution_count": 942,
   "metadata": {},
   "outputs": [],
   "source": [
    "%matplotlib qt\n",
    "import mpl_toolkits.mplot3d.axes3d as p3\n",
    "from matplotlib.animation import FuncAnimation\n",
    "\n",
    "connections = [[0,1,2,0], [2,3,4,5], [3,6,7,5], [10, 11, 12, 3, 13, 14, 15], [18,17,8,5,9,16,19]]\n",
    "fig = plt.figure()\n",
    "ax = p3.Axes3D(fig, auto_add_to_figure=False )\n",
    "fig.add_axes(ax)\n",
    "\n",
    "def animfunc(t):\n",
    "    ax.clear()\n",
    "    \n",
    "    lines = []\n",
    "    frame = t\n",
    "    figure = temp\n",
    "    for conn in connections:\n",
    "        x = [3*i for i in conn]\n",
    "        y = [i+1 for i in x]\n",
    "        z = [i+2 for i in x]\n",
    "        lines.append(ax.scatter(figure[x, frame], figure[y,frame],  figure[z, frame], color='b', s =10))\n",
    "        lines.append(ax.plot(figure[x, frame], figure[y,frame],  figure[z, frame], linewidth=3))\n",
    "    return lines,\n",
    "        \n",
    "anim = FuncAnimation(fig, animfunc, frames=2000, interval=100, repeat=False)\n",
    "# for angle in range(0, 180):\n",
    "#     ax.view_init(30, angle)\n",
    "#     plt.draw()\n",
    "#     plt.pause(.001)"
   ]
  },
  {
   "cell_type": "code",
   "execution_count": null,
   "metadata": {},
   "outputs": [],
   "source": []
  }
 ],
 "metadata": {
  "interpreter": {
   "hash": "8de543a527d38bc21d309dfa8a60aed366b41867ed03b1c23b526625b89003b8"
  },
  "kernelspec": {
   "display_name": "Python 3",
   "language": "python",
   "name": "python3"
  },
  "language_info": {
   "codemirror_mode": {
    "name": "ipython",
    "version": 3
   },
   "file_extension": ".py",
   "mimetype": "text/x-python",
   "name": "python",
   "nbconvert_exporter": "python",
   "pygments_lexer": "ipython3",
   "version": "3.8.5"
  }
 },
 "nbformat": 4,
 "nbformat_minor": 2
}
