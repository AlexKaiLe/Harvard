{
 "cells": [
  {
   "cell_type": "code",
   "execution_count": 2,
   "source": [
    "import numpy as np\n",
    "import matplotlib.pyplot as plt\n",
    "from mpl_toolkits.mplot3d import Axes3D\n",
    "from scipy.io import loadmat\n",
    "import tensorflow as tf\n",
    "import random\n",
    "from tensorflow.keras.models import Sequential\n",
    "from tensorflow.keras.layers import Dense, Conv2D, Dropout, Flatten, MaxPooling2D, MaxPool2D, LeakyReLU"
   ],
   "outputs": [],
   "metadata": {}
  },
  {
   "cell_type": "code",
   "execution_count": 3,
   "source": [
    "joint_name = ['HeadF', 'HeadB', 'HeadL', 'SpineF', 'SpineM', 'SpineL', \n",
    "            'Offset1', 'Offset2', 'HipL', 'HipR', 'ElbowL', 'ArmL', \n",
    "            'ShoulderL', 'ShoulderR', 'ElbowR', 'ArmR', 'KneeR', \n",
    "            'KneeL', 'ShinL', 'ShinR']\n",
    "\n",
    "joints_idx = [[1, 2], [2, 3], [1, 3], [2, 4], [1, 4], [3, 4], [4, 5], \n",
    "            [5, 6], [4, 7], [7, 8], [5, 8], [5, 7], [6, 8], [6, 9], \n",
    "            [6, 10], [11, 12], [4, 13], [4, 14], [11, 13], [12, 13], \n",
    "            [14, 15], [14, 16], [15, 16], [9, 18], [10, 17], [18, 19], \n",
    "            [17, 20]]"
   ],
   "outputs": [],
   "metadata": {}
  },
  {
   "cell_type": "code",
   "execution_count": 4,
   "source": [
    "# Loading mat file and returning file\n",
    "def loadMatFile(fileName):\n",
    "    mat = loadmat('trainTestSplit.mat')[fileName]\n",
    "    return mat"
   ],
   "outputs": [],
   "metadata": {}
  },
  {
   "cell_type": "code",
   "execution_count": 5,
   "source": [
    "# Plot 3D points given file and frame number\n",
    "def plotKnownOrder(matFile, numb):\n",
    "    mat = matFile[numb]\n",
    "    x = mat[0]\n",
    "    y = mat[1]\n",
    "    z = mat[2]\n",
    "\n",
    "    # loading plot\n",
    "    fig = plt.figure()\n",
    "    ax = fig.add_subplot(projection='3d')\n",
    "\n",
    "    # adding points, labels and lines\n",
    "    try:\n",
    "        ax.scatter(x,y,z, color='#ff5e5e', s =10, marker='x')\n",
    "    except:\n",
    "        pass\n",
    "    # addLabels(ax, x, y, z)\n",
    "    drawLines(ax, x, y, z)\n",
    "    drawAllLines(ax, x, y, z)\n",
    "\n",
    "    # Labeling plot\n",
    "    ax.set_title(\"Rat positioning\")\n",
    "    ax.set_xlabel(\"X axis\")\n",
    "    ax.set_ylabel(\"Y axis\")\n",
    "    ax.set_zlabel(\"Z axis\")\n",
    "    plt.show()\n",
    "\n",
    "# Draw major lines in the rat model\n",
    "def drawLines(ax,x, y, z):\n",
    "    # run through all the connections to draw the points\n",
    "    for i in range(len(joints_idx)):\n",
    "        try: \n",
    "            # Getting both points to draw line\n",
    "            idx = joints_idx[i]\n",
    "            x_line = [x[idx[0]-1], x[idx[1]-1]]\n",
    "            y_line = [y[idx[0]-1], y[idx[1]-1]]\n",
    "            z_line = [z[idx[0]-1], z[idx[1]-1]]\n",
    "            z_coord_1 = x[idx[0]-1], y[idx[0]-1], z[idx[0]-1]\n",
    "            z_coord_2 = x[idx[1]-1], y[idx[1]-1], z[idx[1]-1]\n",
    "\n",
    "            # Draw lines\n",
    "            if i < 3: \n",
    "                ax.plot(x_line, y_line, z_line, c=\"#064ea1\", linewidth=4)\n",
    "            elif i < 6:\n",
    "                ax.plot(x_line, y_line, z_line, c=\"#64ccd1\", linewidth=4)\n",
    "            else:\n",
    "                ax.plot(x_line, y_line, z_line, c=\"#46b8a7\", linewidth=4)\n",
    "        except:\n",
    "            pass\n",
    "\n",
    "# Draw all line from every point \n",
    "def drawAllLines(ax,x, y, z):\n",
    "    joint_len = len(joint_name)\n",
    "    all_lines = []\n",
    "    distance = []\n",
    "\n",
    "    for i in range(joint_len):\n",
    "        point_dist = []\n",
    "        for j in range(joint_len):\n",
    "            point_dist.append(measureDistance(x[i], y[i], z[i], x[j], y[j], z[j]))\n",
    "            if (not([i,j] in all_lines)):\n",
    "                x_line = [x[i], x[j]]\n",
    "                y_line = [y[i], y[j]]\n",
    "                z_line = [z[i], z[j]]\n",
    "                ax.plot(x_line, y_line, z_line, color='#b1d8fc', linewidth=0.5)\n",
    "                all_lines.append([i,j])\n",
    "                all_lines.append([j,i])\n",
    "        distance.append(point_dist)\n",
    "    return distance"
   ],
   "outputs": [],
   "metadata": {}
  },
  {
   "cell_type": "code",
   "execution_count": 6,
   "source": [
    "# Get the distance to every single point \n",
    "def getAllDistances(matFile, numb, showMatrix):\n",
    "    joint_len = len(joint_name)\n",
    "    mat = matFile[numb]\n",
    "    x = mat[0]\n",
    "    y = mat[1]\n",
    "    z = mat[2]\n",
    "    distance = []\n",
    "\n",
    "    for i in range(joint_len):\n",
    "        point_dist = []\n",
    "        for j in range(joint_len):\n",
    "            point_dist.append(measureDistance(x[i], y[i], z[i], x[j], y[j], z[j]))\n",
    "        distance.append(point_dist)\n",
    "\n",
    "    # normalizes distance data\n",
    "    distance = normalize(distance)\n",
    "\n",
    "    # Displays heat map \n",
    "    if (showMatrix == 1 or showMatrix == 3):\n",
    "        ax = heatMap(distance)\n",
    "        ax.set_title(\"Distance Matrix\")\n",
    "        ax.set_xlabel(\"Distance from POI to other points\")\n",
    "        ax.set_ylabel(\"Point of interest (POI)\")\n",
    "   \n",
    "    # if (showMatrix == 2 or showMatrix == 3):\n",
    "    #     ax = heatMap(distance)\n",
    "    #     ax.set_title(\"Sorted Distance Matrix\")\n",
    "    #     ax.set_xlabel(\"Distance from POI to other points\")\n",
    "    #     ax.set_ylabel(\"Point of interest (POI)\")\n",
    "    return distance\n",
    "\n",
    "# Gets the distance in a 3D coordinate system of 2 points\n",
    "def measureDistance(x_1, y_1, z_1, x_2, y_2, z_2):\n",
    "    if np.nan in [x_1, y_1, z_1, x_2, y_2, z_2]:\n",
    "        return np.nan\n",
    "    else:\n",
    "        x = (x_1 - x_2)\n",
    "        y = (y_1 - y_2)\n",
    "        z = (z_1 - z_2)\n",
    "        return float(np.sqrt(x**2 + y**2 + z**2))\n",
    "\n",
    "# Displays a heat map of inputed array\n",
    "def heatMap(array):\n",
    "    fig = plt.figure()\n",
    "    ax = fig.add_subplot(111)\n",
    "    plt.imshow(array, cmap='YlOrRd') \n",
    "    plt.colorbar()\n",
    "    plt.grid(False)\n",
    "    return ax"
   ],
   "outputs": [],
   "metadata": {}
  },
  {
   "cell_type": "code",
   "execution_count": 7,
   "source": [
    "# normalizes a matrix\n",
    "def normalize(matrix):\n",
    "    matrix = np.array(matrix)\n",
    "    norm = []\n",
    "    max_numb = max(matrix[~np.isnan(matrix)])\n",
    "\n",
    "    for i in range(len(matrix)):\n",
    "        norm_line = []\n",
    "        for j in range(len(matrix[i])):\n",
    "            if np.isnan(matrix[i][j]):\n",
    "                norm_line.append(np.nan)\n",
    "            else:\n",
    "                norm_line.append(matrix[i][j]/max_numb)\n",
    "        norm_line = np.sort(norm_line)\n",
    "        norm.append(norm_line)\n",
    "    # norm = np.array(norm)\n",
    "    # plt.imshow(norm)\n",
    "    # plt.show()\n",
    "    return norm"
   ],
   "outputs": [],
   "metadata": {}
  },
  {
   "cell_type": "code",
   "execution_count": 8,
   "source": [
    "# Get the absolute height difference to every single point \n",
    "def getAllHeights(matFile, numb, showMatrix):\n",
    "    joint_len = len(joint_name)\n",
    "    mat = matFile[numb]\n",
    "    z = mat[2]\n",
    "    height = []\n",
    "\n",
    "    for i in range(joint_len):\n",
    "        point_dist = []\n",
    "        for j in range(joint_len):\n",
    "            if np.nan in [z[i], z[j]]:\n",
    "                point_dist.append(np.nan)\n",
    "            else:\n",
    "                point_dist.append(np.abs(z[i]-z[j]))\n",
    "        height.append(point_dist)\n",
    "\n",
    "    # normalizes height data\n",
    "    height = normalize(height)\n",
    "\n",
    "    # Displays heat map \n",
    "    if (showMatrix == 1 or showMatrix == 3):\n",
    "        ax = heatMap(height)\n",
    "        ax.set_title(\"Height Matrix\")\n",
    "        ax.set_xlabel(\"Distance from POI to other points\")\n",
    "        ax.set_ylabel(\"Point of interest (POI)\")\n",
    "\n",
    "    # if (showMatrix == 2 or showMatrix == 3):\n",
    "    #     ax = heatMap(height)\n",
    "    #     ax.set_title(\"Sorted Height Matrix\")\n",
    "    #     ax.set_xlabel(\"Distance from POI to other points\")\n",
    "    #     ax.set_ylabel(\"Point of interest (POI)\")\n",
    "    return height\n"
   ],
   "outputs": [],
   "metadata": {}
  },
  {
   "cell_type": "code",
   "execution_count": 9,
   "source": [
    "# Get the angle to every single point \n",
    "def getAllAngles(matFile, numb, showMatrix):\n",
    "    joint_len = len(joint_name)\n",
    "    mat = matFile[numb]\n",
    "    x = mat[0]\n",
    "    y = mat[1]\n",
    "    z = mat[2]\n",
    "    angle = []\n",
    "\n",
    "    for i in range(joint_len):\n",
    "        point_dist = []\n",
    "        for j in range(joint_len):\n",
    "            ref_point = [x[i], y[i], z[i]]\n",
    "            target_point = [x[j], y[j], z[j]]\n",
    "            contain_none = (np.nan in target_point) or (np.nan in ref_point)\n",
    "            if (np.array_equal(ref_point, target_point)) or (contain_none):\n",
    "                point_dist.append(np.nan)\n",
    "            else:\n",
    "                point_dist.append(getAngles(np.array(ref_point), np.array(target_point)))\n",
    "        angle.append(point_dist)\n",
    "\n",
    "    # normalizes distance data\n",
    "    angle = normalize(angle)\n",
    "\n",
    "    # Displays heat map \n",
    "    if (showMatrix == 1 or showMatrix == 3):\n",
    "        ax = heatMap(angle)\n",
    "        ax.set_title(\"Angle Matrix\")\n",
    "        ax.set_xlabel(\"Distance from POI to other points\")\n",
    "        ax.set_ylabel(\"Point of interest (POI)\")\n",
    "\n",
    "    # if (showMatrix == 2 or showMatrix == 3):\n",
    "    #     ax = heatMap(angle)\n",
    "    #     ax.set_title(\"Sorted Angle Matrix\")\n",
    "    #     ax.set_xlabel(\"Distance from POI to other points\")\n",
    "    #     ax.set_ylabel(\"Point of interest (POI)\")\n",
    "\n",
    "    return angle\n",
    "\n",
    "def getAngles(a, b):\n",
    "    c = np.array([b[0], b[1], a[2]])\n",
    "    ab = a - b\n",
    "    ac = a - c\n",
    "    cosine = np.dot(ab, ac) / (np.linalg.norm(ab) * np.linalg.norm(ac))\n",
    "    angle = np.arccos(cosine)\n",
    "    return np.degrees(angle)"
   ],
   "outputs": [],
   "metadata": {}
  },
  {
   "cell_type": "code",
   "execution_count": 10,
   "source": [
    "def getTrainingLabels(numb):\n",
    "    point_labels = np.arange(0, len(joint_name))\n",
    "    all_labels = np.tile(point_labels, numb)\n",
    "    return all_labels\n"
   ],
   "outputs": [],
   "metadata": {}
  },
  {
   "cell_type": "code",
   "execution_count": 11,
   "source": [
    "# Make training data out of clean data\n",
    "def getTrainingData(mat, traningNumb):\n",
    "    raw = mat[:traningNumb]\n",
    "    raw_copy = np.array(raw.copy())\n",
    "\n",
    "    for i in range(raw_copy.shape[0]):\n",
    "        rand_numb = np.random.randint(1, 4)\n",
    "        rand_index = random.sample(range(3, 20), rand_numb)\n",
    "        for j in range(rand_numb):\n",
    "            raw_copy[i][:,rand_index[j]] = np.nan\n",
    "    return raw_copy\n",
    "\n",
    "def getTestingData(mat, testingNumb):\n",
    "    raw = mat[:testingNumb]\n",
    "    test_data = []\n",
    "    for i in range(len(raw)):\n",
    "        temp_test = []\n",
    "        for j in range(len(raw[i])):\n",
    "            temp_test.append(np.sort(raw[i][j]))\n",
    "        test_data.append(temp_test)\n",
    "    return test_data\n",
    "    "
   ],
   "outputs": [],
   "metadata": {}
  },
  {
   "cell_type": "code",
   "execution_count": 19,
   "source": [
    "# Major function that gets the data\n",
    "def getData(matFile, traningNumb, showMatrix, training):\n",
    "    mat = loadMatFile(matFile)\n",
    "    print(\"Loaded file:\", matFile)\n",
    "    traning_labels = getTrainingLabels(traningNumb)\n",
    "\n",
    "    cnn_inputs = []\n",
    "    # if we are collecting training data, create training data\n",
    "    if training:\n",
    "        mat = getTrainingData(mat, traningNumb)\n",
    "    else: \n",
    "        mat = mat[:traningNumb]\n",
    "    \n",
    "    for i in range (traningNumb):\n",
    "        # plotKnownOrder(mat, i)\n",
    "        dist = getAllDistances(mat, i, showMatrix)  \n",
    "        height = getAllHeights(mat, i, showMatrix)\n",
    "        angle = getAllAngles(mat, i, showMatrix)\n",
    "        cnn_inputs.append([dist, height, angle])\n",
    "    cnn_inputs = np.array(cnn_inputs).reshape((traningNumb*20, 60))\n",
    "    # return_cnn = cnn_inputs.reshape((traningNumb*20), -1)\n",
    "    where_are_NaNs = np.isnan(cnn_inputs)\n",
    "    cnn_inputs[where_are_NaNs] = 0\n",
    "    return cnn_inputs, traning_labels"
   ],
   "outputs": [],
   "metadata": {}
  },
  {
   "cell_type": "code",
   "execution_count": 13,
   "source": [
    "# Creates the ML training platform to predict rat joints\n",
    "def ml_traning(train_data, train_labels, test_data, test_labels):\n",
    "    train_data = train_data.reshape(train_data.shape[0], 60)\n",
    "    test_data = test_data.reshape(test_data.shape[0], 60)\n",
    "    train_data = train_data.astype('float32')\n",
    "    test_data = test_data.astype('float32')\n",
    "\n",
    "    model = createModel()\n",
    "    model.compile(optimizer='adam',\n",
    "                loss='sparse_categorical_crossentropy', \n",
    "                metrics=['accuracy'])\n",
    "    model.fit(x=train_data,y=train_labels, verbose='auto', batch_size=20, epochs=20)\n",
    "    \n",
    "    output = model.evaluate(test_data, test_labels)\n",
    "    print(\"Loss:\", output[0])\n",
    "    print(\"Accuracy:\", output[1])\n",
    "\n",
    "    return model\n",
    "\n",
    "# Creates the model for the CNN\n",
    "def createModel():\n",
    "    model = Sequential()\n",
    "    # model.add(Conv2D(40, 3, 1, padding=\"same\", activation=\"relu\"))\n",
    "    # model.add(Conv2D(40, 3, 1, padding=\"same\", activation=\"relu\"))\n",
    "    # model.add(Dropout(rate=0.25))\n",
    "    # model.add(MaxPool2D(2))\n",
    "\n",
    "    # model.add(Flatten())\n",
    "    model.add(Dense(80, activation= LeakyReLU()))\n",
    "    # model.add(Dense(160, activation= LeakyReLU()))\n",
    "    # model.add(Dropout(rate=0.25))\n",
    "    # model.add(Dense(320, activation= LeakyReLU()))\n",
    "    # model.add(Dense(160, activation= LeakyReLU()))\n",
    "    # model.add(Dropout(rate=0.25))\n",
    "    # model.add(Dense(80, activation= LeakyReLU()))\n",
    "    # model.add(Dense(80, activation= LeakyReLU()))\n",
    "    # model.add(Dropout(rate=0.25))\n",
    "    model.add(Dense(40, activation= LeakyReLU()))\n",
    "    # model.add(Dropout(rate=0.25))\n",
    "    model.add(Dense(len(joint_name), activation = \"softmax\"))\n",
    "    return model\n",
    "\n",
    "# Displays what one of the inputs looks likes\n",
    "def inputExample(train_data, train_labels):\n",
    "    image_index =  1\n",
    "    print(train_labels[image_index]) \n",
    "    plt.imshow(train_data[image_index])"
   ],
   "outputs": [],
   "metadata": {}
  },
  {
   "cell_type": "code",
   "execution_count": 20,
   "source": [
    "traning_numb = 500\n",
    "testing_numb = 500\n",
    "train_data, train_labels = getData('split1True', traning_numb, 0, True)\n",
    "test_data, test_labels = getData('split2True', testing_numb, 0, True)"
   ],
   "outputs": [
    {
     "output_type": "stream",
     "name": "stdout",
     "text": [
      "Loaded file: split1True\n",
      "Loaded file: split2True\n"
     ]
    }
   ],
   "metadata": {}
  },
  {
   "cell_type": "code",
   "execution_count": 22,
   "source": [
    "print(train_data.shape)\n",
    "print(test_labels.shape)\n",
    "plt.imshow(train_data[0].reshape(3,20))"
   ],
   "outputs": [
    {
     "output_type": "stream",
     "name": "stdout",
     "text": [
      "(10000, 60)\n",
      "(10000,)\n"
     ]
    },
    {
     "output_type": "execute_result",
     "data": {
      "text/plain": [
       "<matplotlib.image.AxesImage at 0x7fc906b839d0>"
      ]
     },
     "metadata": {},
     "execution_count": 22
    },
    {
     "output_type": "display_data",
     "data": {
      "text/plain": [
       "<Figure size 432x288 with 1 Axes>"
      ],
      "image/png": "[encoded data removed]"
     },
     "metadata": {
      "needs_background": "light"
     }
    }
   ],
   "metadata": {}
  },
  {
   "cell_type": "code",
   "execution_count": 23,
   "source": [
    "skeleton_model = ml_traning(train_data, train_labels, test_data, test_labels)"
   ],
   "outputs": [
    {
     "output_type": "stream",
     "name": "stdout",
     "text": [
      "Epoch 1/20\n",
      "500/500 [==============================] - 2s 2ms/step - loss: 2.2114 - accuracy: 0.3292\n",
      "Epoch 2/20\n",
      "500/500 [==============================] - 1s 2ms/step - loss: 1.4476 - accuracy: 0.5812\n",
      "Epoch 3/20\n",
      "500/500 [==============================] - 1s 2ms/step - loss: 1.0978 - accuracy: 0.6904\n",
      "Epoch 4/20\n",
      "500/500 [==============================] - 1s 3ms/step - loss: 0.9040 - accuracy: 0.7462\n",
      "Epoch 5/20\n",
      "500/500 [==============================] - 1s 3ms/step - loss: 0.7870 - accuracy: 0.7777\n",
      "Epoch 6/20\n",
      "500/500 [==============================] - 1s 3ms/step - loss: 0.7113 - accuracy: 0.7969\n",
      "Epoch 7/20\n",
      "500/500 [==============================] - 1s 3ms/step - loss: 0.6533 - accuracy: 0.8143\n",
      "Epoch 8/20\n",
      "500/500 [==============================] - 1s 3ms/step - loss: 0.6080 - accuracy: 0.8232\n",
      "Epoch 9/20\n",
      "500/500 [==============================] - 1s 2ms/step - loss: 0.5620 - accuracy: 0.8390\n",
      "Epoch 10/20\n",
      "500/500 [==============================] - 1s 3ms/step - loss: 0.5376 - accuracy: 0.8459\n",
      "Epoch 11/20\n",
      "500/500 [==============================] - 2s 3ms/step - loss: 0.5112 - accuracy: 0.8552\n",
      "Epoch 12/20\n",
      "500/500 [==============================] - 1s 2ms/step - loss: 0.4915 - accuracy: 0.8602\n",
      "Epoch 13/20\n",
      "500/500 [==============================] - 1s 3ms/step - loss: 0.4756 - accuracy: 0.8663\n",
      "Epoch 14/20\n",
      "500/500 [==============================] - 2s 3ms/step - loss: 0.4579 - accuracy: 0.8679\n",
      "Epoch 15/20\n",
      "500/500 [==============================] - 1s 3ms/step - loss: 0.4413 - accuracy: 0.8760\n",
      "Epoch 16/20\n",
      "500/500 [==============================] - 1s 3ms/step - loss: 0.4311 - accuracy: 0.8768\n",
      "Epoch 17/20\n",
      "500/500 [==============================] - 1s 2ms/step - loss: 0.4211 - accuracy: 0.8783\n",
      "Epoch 18/20\n",
      "500/500 [==============================] - 1s 3ms/step - loss: 0.4138 - accuracy: 0.8809\n",
      "Epoch 19/20\n",
      "500/500 [==============================] - 1s 2ms/step - loss: 0.4071 - accuracy: 0.8827\n",
      "Epoch 20/20\n",
      "500/500 [==============================] - 1s 3ms/step - loss: 0.3946 - accuracy: 0.8847\n",
      "313/313 [==============================] - 1s 2ms/step - loss: 0.4039 - accuracy: 0.8833\n",
      "Loss: 0.40391290187835693\n",
      "Accuracy: 0.8833000063896179\n"
     ]
    }
   ],
   "metadata": {}
  },
  {
   "cell_type": "code",
   "execution_count": 26,
   "source": [
    "# Showing individual predictions\n",
    "def predict(image_index, model):\n",
    "    img = [test_data[image_index]]\n",
    "    img = np.array(img)\n",
    "    plt.imshow(img.reshape(3,20))\n",
    "    plt.show()\n",
    "\n",
    "    pred = model.predict(img.reshape(1, 60))\n",
    "    predict = pred.argmax()\n",
    "    actual = test_labels[image_index]\n",
    "\n",
    "    print(\"Actual\", actual)\n",
    "    print(\"Predicted\", predict)\n",
    "    \n",
    "    if predict == actual:\n",
    "        print(\"YAY ✿(ᵔ‿ᵔ)\")\n",
    "    else:\n",
    "        print(\"Wrong (◕︵◕)\")\n",
    "        \n",
    "# Tests individual points and tells you if the CNN worked\n",
    "def handTestModel(predict_index):\n",
    "    max_index = len(joint_name*testing_numb)-1\n",
    "    if predict_index <= max_index:\n",
    "        predict(predict_index, skeleton_model)\n",
    "    else:\n",
    "        print(\"ERROR: Your predict_index must be below\", max_index)\n",
    "\n",
    "# Shows example of tain_data and test_data\n",
    "def example(train_data, test_data, testnumb):\n",
    "    print(train_data.shape)\n",
    "    print(test_data.shape)\n",
    "    example_train = [train_data[testnumb]]\n",
    "    example_test = [test_data[testnumb]]\n",
    "    fig, ax = plt.subplots(2,1, figsize=(10,2))\n",
    "    ax[0].imshow(example_train, aspect=\"auto\")\n",
    "    ax[1].imshow(example_test, aspect=\"auto\")\n",
    "    ax[0].set_title(\"Example of train and test data\")\n",
    "\n",
    "def show_input_example(numb):\n",
    "    # Showing what split files look like\n",
    "    mat = loadMatFile('split2')\n",
    "    print(\"Loaded file:\", 'split2')\n",
    "    mat = mat[:numb]\n",
    "    fig_1, ax_1 = plt.subplots(numb,1, figsize=(20,5))\n",
    "    for i in range(len(mat)):\n",
    "        output = np.squeeze(mat[i])\n",
    "        ax_1[i].imshow(output)\n",
    "    ax_1[0].set_title(\"split2 data\")\n",
    "    plt.show()\n",
    "\n",
    "    # Showing what splitTrue files look like after I remove random points\n",
    "    mat = loadMatFile('split1True')\n",
    "    output = getTrainingData(mat, numb)\n",
    "    fig_2, ax_2 = plt.subplots(numb,1, figsize=(20,5))\n",
    "    for i in range(len(output)):\n",
    "        ax_2[i].imshow(output[i])\n",
    "    ax_2[0].set_title(\"Processed split1True data\")\n",
    "    plt.show()\n",
    "    "
   ],
   "outputs": [],
   "metadata": {}
  },
  {
   "cell_type": "code",
   "execution_count": 27,
   "source": [
    "handTestModel(1234)"
   ],
   "outputs": [
    {
     "output_type": "display_data",
     "data": {
      "text/plain": [
       "<Figure size 432x288 with 1 Axes>"
      ],
      "image/png": "[encoded data removed]"
     },
     "metadata": {
      "needs_background": "light"
     }
    },
    {
     "output_type": "stream",
     "name": "stdout",
     "text": [
      "Actual 14\n",
      "Predicted 14\n",
      "YAY ✿(ᵔ‿ᵔ)\n"
     ]
    }
   ],
   "metadata": {}
  },
  {
   "cell_type": "code",
   "execution_count": 28,
   "source": [
    "example(train_data, test_data, 123)\n",
    "show_input_example(3)"
   ],
   "outputs": [
    {
     "output_type": "stream",
     "name": "stdout",
     "text": [
      "(10000, 60)\n",
      "(10000, 60)\n",
      "Loaded file: split2\n"
     ]
    },
    {
     "output_type": "display_data",
     "data": {
      "text/plain": [
       "<Figure size 720x144 with 2 Axes>"
      ],
      "image/png": "[encoded data removed]"
     },
     "metadata": {
      "needs_background": "light"
     }
    },
    {
     "output_type": "display_data",
     "data": {
      "text/plain": [
       "<Figure size 1440x360 with 3 Axes>"
      ],
      "image/png": "[encoded data removed]"
     },
     "metadata": {
      "needs_background": "light"
     }
    },
    {
     "output_type": "display_data",
     "data": {
      "text/plain": [
       "<Figure size 1440x360 with 3 Axes>"
      ],
      "image/png": "[encoded data removed]"
     },
     "metadata": {
      "needs_background": "light"
     }
    }
   ],
   "metadata": {}
  },
  {
   "cell_type": "code",
   "execution_count": 38,
   "source": [
    "def loadMat(matFile):\n",
    "    mat = loadMatFile(matFile)\n",
    "    print(\"Loaded file:\", matFile)\n",
    "    return mat\n",
    "\n",
    "# Showing individual predictions for unlabeled image\n",
    "def blindPredict(mat, model, image_index):\n",
    "    image_index = image_index/20\n",
    "    frame = int(image_index)\n",
    "    index = (20 *(image_index % 1))\n",
    "    index = int(index)\n",
    "    print(\"Frame\", frame)\n",
    "    print(\"Index\", index)\n",
    "\n",
    "    dist = getAllDistances(mat, frame, 0)  \n",
    "    height = getAllHeights(mat, frame, 0)\n",
    "    angle = getAllAngles(mat, frame, 0)\n",
    "\n",
    "\n",
    "    temp = np.array([dist[index], height[index], angle[index]])\n",
    "    cnn_inputs = np.array(temp)\n",
    "    # img = cnn_inputs.reshape(1, -1)\n",
    "    where_are_NaNs = np.isnan(cnn_inputs)\n",
    "    cnn_inputs[where_are_NaNs] = 0\n",
    "    # print(cnn_inputs)\n",
    "    plt.imshow(cnn_inputs)\n",
    "    plt.show()\n",
    "\n",
    "    cnn_inputs = cnn_inputs.reshape(1, 60)\n",
    "    plt.imshow(cnn_inputs)\n",
    "    plt.show()\n",
    "    pred = model.predict(cnn_inputs)\n",
    "    predict = pred.argmax()\n",
    "    print(\"Predicted\", predict)\n"
   ],
   "outputs": [],
   "metadata": {}
  },
  {
   "cell_type": "code",
   "execution_count": 30,
   "source": [
    "mat = loadMat('split2')"
   ],
   "outputs": [
    {
     "output_type": "stream",
     "name": "stdout",
     "text": [
      "Loaded file: split2\n"
     ]
    }
   ],
   "metadata": {}
  },
  {
   "cell_type": "code",
   "execution_count": 39,
   "source": [
    "blindPredict(mat, skeleton_model, 0)"
   ],
   "outputs": [
    {
     "output_type": "stream",
     "name": "stdout",
     "text": [
      "Frame 0\n",
      "Index 0\n"
     ]
    },
    {
     "output_type": "display_data",
     "data": {
      "text/plain": [
       "<Figure size 432x288 with 1 Axes>"
      ],
      "image/png": "[encoded data removed]"
     },
     "metadata": {
      "needs_background": "light"
     }
    },
    {
     "output_type": "display_data",
     "data": {
      "text/plain": [
       "<Figure size 432x288 with 1 Axes>"
      ],
      "image/png": "[encoded data removed]"
     },
     "metadata": {
      "needs_background": "light"
     }
    },
    {
     "output_type": "stream",
     "name": "stdout",
     "text": [
      "Predicted 8\n"
     ]
    }
   ],
   "metadata": {}
  }
 ],
 "metadata": {
  "interpreter": {
   "hash": "8de543a527d38bc21d309dfa8a60aed366b41867ed03b1c23b526625b89003b8"
  },
  "kernelspec": {
   "display_name": "Python 3.8.5 64-bit ('base': conda)",
   "name": "python3"
  },
  "language_info": {
   "codemirror_mode": {
    "name": "ipython",
    "version": 3
   },
   "file_extension": ".py",
   "mimetype": "text/x-python",
   "name": "python",
   "nbconvert_exporter": "python",
   "pygments_lexer": "ipython3",
   "version": "3.8.5"
  },
  "orig_nbformat": 4
 },
 "nbformat": 4,
 "nbformat_minor": 2
}