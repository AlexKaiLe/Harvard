{
 "cells": [
  {
   "cell_type": "code",
   "execution_count": 1,
   "source": [
    "import numpy as np\n",
    "import matplotlib.pyplot as plt\n",
    "from mpl_toolkits.mplot3d import Axes3D\n",
    "from scipy.io import loadmat\n",
    "import tensorflow as tf\n",
    "import random\n",
    "from tensorflow.keras.models import Sequential\n",
    "from tensorflow.keras.layers import Dense, Conv2D, Dropout, Flatten, MaxPooling2D, MaxPool2D, LeakyReLU"
   ],
   "outputs": [],
   "metadata": {}
  },
  {
   "cell_type": "code",
   "execution_count": 2,
   "source": [
    "joint_name = ['HeadF', 'HeadB', 'HeadL', 'SpineF', 'SpineM', 'SpineL', \n",
    "            'Offset1', 'Offset2', 'HipL', 'HipR', 'ElbowL', 'ArmL', \n",
    "            'ShoulderL', 'ShoulderR', 'ElbowR', 'ArmR', 'KneeR', \n",
    "            'KneeL', 'ShinL', 'ShinR']\n",
    "\n",
    "joints_idx = [[1, 2], [2, 3], [1, 3], [2, 4], [1, 4], [3, 4], [4, 5], \n",
    "            [5, 6], [4, 7], [7, 8], [5, 8], [5, 7], [6, 8], [6, 9], \n",
    "            [6, 10], [11, 12], [4, 13], [4, 14], [11, 13], [12, 13], \n",
    "            [14, 15], [14, 16], [15, 16], [9, 18], [10, 17], [18, 19], \n",
    "            [17, 20]]"
   ],
   "outputs": [],
   "metadata": {}
  },
  {
   "cell_type": "code",
   "execution_count": 3,
   "source": [
    "# Loading mat file and returning file\n",
    "def loadMatFile(fileName, key):\n",
    "    mat = loadmat(fileName)[key]\n",
    "    print(\"Loaded:\",fileName, key)\n",
    "    return mat"
   ],
   "outputs": [],
   "metadata": {}
  },
  {
   "cell_type": "code",
   "execution_count": 4,
   "source": [
    "# Plot 3D points given file and frame number\n",
    "def plotKnownOrder(matFile, numb):\n",
    "    mat = matFile[numb]\n",
    "    x = mat[0]\n",
    "    y = mat[1]\n",
    "    z = mat[2]\n",
    "\n",
    "    # loading plot\n",
    "    fig = plt.figure()\n",
    "    ax = fig.add_subplot(projection='3d')\n",
    "\n",
    "    # adding points, labels and lines\n",
    "    try:\n",
    "        ax.scatter(x,y,z, color='#ff5e5e', s =10, marker='x')\n",
    "    except:\n",
    "        pass\n",
    "    # addLabels(ax, x, y, z)\n",
    "    drawLines(ax, x, y, z)\n",
    "    drawAllLines(ax, x, y, z)\n",
    "\n",
    "    # Labeling plot\n",
    "    ax.set_title(\"Rat positioning\")\n",
    "    ax.set_xlabel(\"X axis\")\n",
    "    ax.set_ylabel(\"Y axis\")\n",
    "    ax.set_zlabel(\"Z axis\")\n",
    "    plt.show()\n",
    "\n",
    "# Draw major lines in the rat model\n",
    "def drawLines(ax,x, y, z):\n",
    "    # run through all the connections to draw the points\n",
    "    for i in range(len(joints_idx)):\n",
    "        try: \n",
    "            # Getting both points to draw line\n",
    "            idx = joints_idx[i]\n",
    "            x_line = [x[idx[0]-1], x[idx[1]-1]]\n",
    "            y_line = [y[idx[0]-1], y[idx[1]-1]]\n",
    "            z_line = [z[idx[0]-1], z[idx[1]-1]]\n",
    "            z_coord_1 = x[idx[0]-1], y[idx[0]-1], z[idx[0]-1]\n",
    "            z_coord_2 = x[idx[1]-1], y[idx[1]-1], z[idx[1]-1]\n",
    "\n",
    "            # Draw lines\n",
    "            if i < 3: \n",
    "                ax.plot(x_line, y_line, z_line, c=\"#064ea1\", linewidth=4)\n",
    "            elif i < 6:\n",
    "                ax.plot(x_line, y_line, z_line, c=\"#64ccd1\", linewidth=4)\n",
    "            else:\n",
    "                ax.plot(x_line, y_line, z_line, c=\"#46b8a7\", linewidth=4)\n",
    "        except:\n",
    "            pass\n",
    "\n",
    "# Draw all line from every point \n",
    "def drawAllLines(ax,x, y, z):\n",
    "    joint_len = len(joint_name)\n",
    "    all_lines = []\n",
    "    for i in range(joint_len):\n",
    "        for j in range(joint_len):\n",
    "            if (not([i,j] in all_lines)):\n",
    "                x_line = [x[i], x[j]]\n",
    "                y_line = [y[i], y[j]]\n",
    "                z_line = [z[i], z[j]]\n",
    "                ax.plot(x_line, y_line, z_line, color='#b1d8fc', linewidth=0.5)\n",
    "                all_lines.append([i,j])\n",
    "                all_lines.append([j,i])"
   ],
   "outputs": [],
   "metadata": {}
  },
  {
   "cell_type": "code",
   "execution_count": 5,
   "source": [
    "# normalizes a matrix\n",
    "def normalize(matrix):\n",
    "    max_numb = max(matrix[~np.isnan(matrix)])\n",
    "    norm = matrix/max_numb\n",
    "    return np.array(norm)"
   ],
   "outputs": [],
   "metadata": {}
  },
  {
   "cell_type": "code",
   "execution_count": 6,
   "source": [
    "from scipy.spatial.distance import cdist\n",
    "# Get the distance to every single point \n",
    "def getAllDistances(matFile, numb):\n",
    "    # print(numb)\n",
    "    mat = matFile[numb]\n",
    "    mat = mat.T\n",
    "    dist = cdist(mat, mat, 'euclidean')\n",
    "    # print(normalize(dist).shape)\n",
    "    return normalize(dist)"
   ],
   "outputs": [],
   "metadata": {}
  },
  {
   "cell_type": "code",
   "execution_count": 7,
   "source": [
    "# Get the absolute height difference to every single point \n",
    "def getAllHeights(matFile, numb):\n",
    "    mat = matFile[numb]\n",
    "    z = mat[2]\n",
    "    reshaped = int(matFile.shape[2])\n",
    "    height = []\n",
    "\n",
    "    for i in range(reshaped):\n",
    "        for j in range(reshaped):\n",
    "            if np.nan in [z[i], z[j]]:\n",
    "                height.append(np.nan)\n",
    "            else:\n",
    "                height.append(np.abs(z[i]-z[j]))\n",
    "\n",
    "    # normalizes height data\n",
    "    height = normalize(np.array(height).reshape(reshaped, reshaped))\n",
    "    return height\n"
   ],
   "outputs": [],
   "metadata": {}
  },
  {
   "cell_type": "code",
   "execution_count": 8,
   "source": [
    "# Get the angle to every single point \n",
    "def getAllAngles(matFile, numb):\n",
    "    mat = matFile[numb]\n",
    "    mat = mat.T\n",
    "    angle = cdist(mat, mat, 'cosine')\n",
    "    return normalize(angle)"
   ],
   "outputs": [],
   "metadata": {}
  },
  {
   "cell_type": "code",
   "execution_count": 9,
   "source": [
    "def addNans(raw):\n",
    "    raw_copy = np.array(raw.copy())\n",
    "\n",
    "    for i in range(raw_copy.shape[0]):\n",
    "        rand_numb = np.random.randint(0, 4)\n",
    "        rand_index = random.sample(range(3, 20), rand_numb)\n",
    "        for j in range(rand_numb):\n",
    "            raw_copy[i][:,rand_index[j]] = np.nan\n",
    "    return raw_copy\n"
   ],
   "outputs": [],
   "metadata": {}
  },
  {
   "cell_type": "code",
   "execution_count": 10,
   "source": [
    "def getData(data, numb): \n",
    "    cnn_inputs = []\n",
    "    for i in range(numb):\n",
    "        dist = getAllDistances(data, i) \n",
    "        height = getAllHeights(data, i)\n",
    "        angle = getAllAngles(data, i)\n",
    "        # print(angle.shape)\n",
    "        for j in range(0, data.shape[2]):\n",
    "            temp = np.array([dist[j], height[j], angle[j]])\n",
    "            first = temp[:,0:3]\n",
    "            second = temp[:,3:20]\n",
    "            first = first [ :, first[0].argsort()]\n",
    "            second = second [ :, second[0].argsort()]\n",
    "            output = np.concatenate((first, second), axis =1)\n",
    "            cnn_inputs.append(output)\n",
    "\n",
    "    # DIMENTION CHANGE\n",
    "    # cnn_inputs = np.array(cnn_inputs)[:,:,:13]\n",
    "    cnn_inputs = np.array(cnn_inputs)[:,:,:20]\n",
    "    # cnn_inputs = np.array(cnn_inputs).reshape((numb*20, 39))\n",
    "    cnn_inputs = np.array(cnn_inputs).reshape((numb*data.shape[2], 60))\n",
    "    where_are_NaNs = np.isnan(cnn_inputs)\n",
    "    cnn_inputs[where_are_NaNs] = 0\n",
    "    return cnn_inputs\n"
   ],
   "outputs": [],
   "metadata": {}
  },
  {
   "cell_type": "code",
   "execution_count": 11,
   "source": [
    "def oneFileTestTrain():\n",
    "    mat_file = loadmat('mat_files/markerSplit_1_shuffled.mat')\n",
    "    data = mat_file['alteredM']\n",
    "    labels = mat_file['labelsM']\n",
    "\n",
    "    # set numb of data used\n",
    "    numb_train = 2000\n",
    "    numb_test = 2000\n",
    "\n",
    "    # find length of data\n",
    "    mat_len = int(len(labels))\n",
    "    mat_half = int(mat_len/2)\n",
    "\n",
    "    # Take some frames from the list to use as trian and test data\n",
    "    index_train = np.linspace(0, mat_half, num = numb_train, endpoint=False).astype(int)\n",
    "    index_test = np.linspace(mat_half, mat_len, num = numb_test, endpoint=False).astype(int)\n",
    "    pre_train_data = data[index_train]\n",
    "    pre_train_labels = labels[index_train]\n",
    "    pre_test_data = data[index_test]\n",
    "    pre_test_labels = labels[index_test]\n",
    "\n",
    "    print(\"Shape of pre_train_data:\", pre_train_data.shape)\n",
    "    print(\"Shape of pre_test_data:\", pre_test_data.shape)\n",
    "    print(\"Shape of pre_train_labels:\", pre_train_labels.shape)\n",
    "    print(\"Shape of pre_test_labels:\", pre_test_labels.shape)\n",
    "    return pre_train_data, pre_test_data, pre_train_labels, pre_test_labels"
   ],
   "outputs": [],
   "metadata": {}
  },
  {
   "cell_type": "code",
   "execution_count": 12,
   "source": [
    "train_file = loadmat('mat_files/bigSet1.mat')\n",
    "test_file = loadmat('mat_files/bigSet2.mat')"
   ],
   "outputs": [],
   "metadata": {}
  },
  {
   "cell_type": "code",
   "execution_count": 13,
   "source": [
    "train_data = train_file['bigSet1']\n",
    "test_data = test_file['bigSet2']\n",
    "train_labels = train_file['labels1']\n",
    "test_labels = test_file['labels2']\n",
    "# set numb of data used\n",
    "numb_train = 5000\n",
    "numb_test = 1000\n",
    "\n",
    "# Take some frames from the list to use as trian and test data\n",
    "index_train = np.linspace(0, len(train_labels), num = numb_train, endpoint=False).astype(int)\n",
    "index_test = np.linspace(0, len(test_labels), num = numb_test, endpoint=False).astype(int)\n",
    "pre_train_data = train_data[index_train]\n",
    "pre_train_labels = train_labels[index_train]\n",
    "pre_test_data = test_data[index_test]\n",
    "pre_test_labels = test_labels[index_test]\n",
    "\n",
    "print(\"Shape of pre_train_data:\", pre_train_data.shape)\n",
    "print(\"Shape of pre_test_data:\", pre_test_data.shape)\n",
    "print(\"Shape of pre_train_labels:\", pre_train_labels.shape)\n",
    "print(\"Shape of pre_test_labels:\", pre_test_labels.shape)\n"
   ],
   "outputs": [
    {
     "output_type": "stream",
     "name": "stdout",
     "text": [
      "Shape of pre_train_data: (5000, 3, 20)\n",
      "Shape of pre_test_data: (1000, 3, 20)\n",
      "Shape of pre_train_labels: (5000, 20)\n",
      "Shape of pre_test_labels: (1000, 20)\n"
     ]
    }
   ],
   "metadata": {}
  },
  {
   "cell_type": "code",
   "execution_count": 14,
   "source": [
    "# Get measurement data for every 3D point\n",
    "train_data = getData(pre_train_data, numb_train)\n",
    "test_data = getData(pre_test_data, numb_test)\n",
    "\n",
    "# Flatten the trian labels to fit dimentions of data\n",
    "train_labels = pre_train_labels.flatten()[0:(numb_train*20)]-1\n",
    "test_labels = pre_test_labels.flatten()[0:(numb_test*20)]-1\n",
    "\n",
    "print(\"Shape of train_data:\", train_data.shape)\n",
    "print(\"Shape of test_data:\", test_data.shape)\n",
    "print(\"Shape of train_labels:\", train_labels.shape)\n",
    "print(\"Shape of test_labels:\", test_labels.shape)"
   ],
   "outputs": [
    {
     "output_type": "stream",
     "name": "stdout",
     "text": [
      "Shape of train_data: (100000, 60)\n",
      "Shape of test_data: (20000, 60)\n",
      "Shape of train_labels: (100000,)\n",
      "Shape of test_labels: (20000,)\n"
     ]
    }
   ],
   "metadata": {}
  },
  {
   "cell_type": "code",
   "execution_count": 15,
   "source": [
    "# Get index where the data is all 0\n",
    "nans_train = np.sort(np.where(~train_data.any(axis=1))[0])[::-1]\n",
    "nans_test = np.sort(np.where(~test_data.any(axis=1))[0])[::-1]\n",
    "\n",
    "# Turn data into lists\n",
    "train_data_new = list(train_data)\n",
    "test_data_new = list(test_data)\n",
    "train_labels_new = list(train_labels)\n",
    "test_labels_new = list(test_labels)\n",
    "\n",
    "# Remove the nan values \n",
    "for i in nans_train:\n",
    "    train_data_new.pop(i)\n",
    "    train_labels_new.pop(i)\n",
    "for i in nans_test:\n",
    "    test_data_new.pop(i)\n",
    "    test_labels_new.pop(i)\n",
    "\n",
    "# Turn data back into array\n",
    "train_data_new = np.array(train_data_new)\n",
    "train_labels_new = np.array(train_labels_new)\n",
    "test_data_new = np.array(test_data_new)\n",
    "test_labels_new = np.array(test_labels_new)\n",
    "\n",
    "print(\"Shape of train_data_new:\", train_data_new.shape)\n",
    "print(\"Shape of test_data_new:\", test_data_new.shape)\n",
    "print(\"Shape of train_labels_new:\", train_labels_new.shape)\n",
    "print(\"Shape of test_labels_new:\", test_labels_new.shape)"
   ],
   "outputs": [
    {
     "output_type": "stream",
     "name": "stdout",
     "text": [
      "Shape of train_data_new: (91010, 60)\n",
      "Shape of test_data_new: (18259, 60)\n",
      "Shape of train_labels_new: (91010,)\n",
      "Shape of test_labels_new: (18259,)\n"
     ]
    }
   ],
   "metadata": {}
  },
  {
   "cell_type": "code",
   "execution_count": 16,
   "source": [
    "# Creates the ML training platform to predict rat joints\n",
    "def ml_traning(train_data, train_labels, test_data, test_labels):\n",
    "    # DIMENTION CHANGE\n",
    "    # train_data = train_data.reshape(train_data.shape[0], 39)\n",
    "    # test_data = test_data.reshape(test_data.shape[0], 39)\n",
    "    train_data = train_data.reshape(train_data.shape[0], 60)\n",
    "    test_data = test_data.reshape(test_data.shape[0], 60)\n",
    "    train_data = train_data.astype('float32')\n",
    "    test_data = test_data.astype('float32')\n",
    "\n",
    "    model = createModel()\n",
    "    model.compile(optimizer='adam',loss='sparse_categorical_crossentropy', metrics=['accuracy'])\n",
    "    model.fit(x=train_data,y=train_labels, verbose='auto', batch_size=20, epochs=20)\n",
    "    \n",
    "    output = model.evaluate(test_data, test_labels)\n",
    "    print(\"Loss:\", output[0])\n",
    "    print(\"Accuracy:\", output[1]*100)\n",
    "    return model\n",
    "\n",
    "# Creates the model for the CNN\n",
    "def createModel():\n",
    "    model = Sequential()\n",
    "    model.add(Dense(80, activation= LeakyReLU()))\n",
    "    model.add(Dense(320, activation= LeakyReLU()))\n",
    "    model.add(Dropout(rate=0.25))\n",
    "    model.add(Dense(80, activation= LeakyReLU()))\n",
    "    model.add(Dense(len(joint_name), activation = \"softmax\"))\n",
    "    return model"
   ],
   "outputs": [],
   "metadata": {}
  },
  {
   "cell_type": "code",
   "execution_count": 17,
   "source": [
    "skeleton_model = ml_traning(train_data_new, train_labels_new, test_data_new, test_labels_new)"
   ],
   "outputs": [
    {
     "output_type": "stream",
     "name": "stdout",
     "text": [
      "Epoch 1/20\n",
      "4551/4551 [==============================] - 9s 2ms/step - loss: 1.3854 - accuracy: 0.5149\n",
      "Epoch 2/20\n",
      "4551/4551 [==============================] - 9s 2ms/step - loss: 1.0864 - accuracy: 0.6263\n",
      "Epoch 3/20\n",
      "4551/4551 [==============================] - 8s 2ms/step - loss: 0.9617 - accuracy: 0.6733\n",
      "Epoch 4/20\n",
      "4551/4551 [==============================] - 11s 2ms/step - loss: 0.8774 - accuracy: 0.7045\n",
      "Epoch 5/20\n",
      "4551/4551 [==============================] - 10s 2ms/step - loss: 0.8200 - accuracy: 0.7239\n",
      "Epoch 6/20\n",
      "4551/4551 [==============================] - 20s 4ms/step - loss: 0.7811 - accuracy: 0.7365\n",
      "Epoch 7/20\n",
      "4551/4551 [==============================] - 7s 2ms/step - loss: 0.7476 - accuracy: 0.7471\n",
      "Epoch 8/20\n",
      "4551/4551 [==============================] - 9s 2ms/step - loss: 0.7283 - accuracy: 0.7550\n",
      "Epoch 9/20\n",
      "4551/4551 [==============================] - 8s 2ms/step - loss: 0.7084 - accuracy: 0.7618\n",
      "Epoch 10/20\n",
      "4551/4551 [==============================] - 7s 2ms/step - loss: 0.6916 - accuracy: 0.7665\n",
      "Epoch 11/20\n",
      "4551/4551 [==============================] - 7s 2ms/step - loss: 0.6737 - accuracy: 0.7746\n",
      "Epoch 12/20\n",
      "4551/4551 [==============================] - 8s 2ms/step - loss: 0.6609 - accuracy: 0.7776\n",
      "Epoch 13/20\n",
      "4551/4551 [==============================] - 8s 2ms/step - loss: 0.6494 - accuracy: 0.7824\n",
      "Epoch 14/20\n",
      "4551/4551 [==============================] - 8s 2ms/step - loss: 0.6387 - accuracy: 0.7850\n",
      "Epoch 15/20\n",
      "4551/4551 [==============================] - 8s 2ms/step - loss: 0.6299 - accuracy: 0.7883\n",
      "Epoch 16/20\n",
      "4551/4551 [==============================] - 7s 2ms/step - loss: 0.6176 - accuracy: 0.7916\n",
      "Epoch 17/20\n",
      "4551/4551 [==============================] - 8s 2ms/step - loss: 0.6109 - accuracy: 0.7952\n",
      "Epoch 18/20\n",
      "4551/4551 [==============================] - 8s 2ms/step - loss: 0.5998 - accuracy: 0.7983\n",
      "Epoch 19/20\n",
      "4551/4551 [==============================] - 8s 2ms/step - loss: 0.5970 - accuracy: 0.7995\n",
      "Epoch 20/20\n",
      "4551/4551 [==============================] - 9s 2ms/step - loss: 0.5896 - accuracy: 0.8026\n",
      "571/571 [==============================] - 1s 1ms/step - loss: 0.7170 - accuracy: 0.7874\n",
      "Loss: 0.7170173525810242\n",
      "Accuracy: 78.73924970626831\n"
     ]
    }
   ],
   "metadata": {}
  },
  {
   "cell_type": "code",
   "execution_count": 18,
   "source": [
    "# Tests individual points and tells you if the CNN worked\n",
    "def handTest(image_index, test_data, label, model, maxNumb):\n",
    "    max_index = len(joint_name)*maxNumb-1\n",
    "    if image_index <= max_index:\n",
    "        predict(test_data, image_index, label, model)\n",
    "    else:\n",
    "        print(\"ERROR: Your predict_index must be below\", max_index)\n",
    "\n",
    "# Showing individual predictions\n",
    "def predict(data, image_index, label, model):\n",
    "    img = [data[image_index]]\n",
    "    # DIMENTION CHANGE\n",
    "    # img = np.array(img).reshape(3,13)\n",
    "    img = np.array(img).reshape(3,20)\n",
    "    plt.imshow(img)\n",
    "    plt.show()\n",
    "\n",
    "    # pred = model.predict(img.reshape(1, 39))\n",
    "    pred = model.predict(img.reshape(1, 60))\n",
    "    predict = pred.argmax()\n",
    "    actual = label[image_index]\n",
    "\n",
    "    print(\"Actual:\", actual)\n",
    "    print(\"Predicted:\", predict)\n",
    "    \n",
    "    if predict == actual:\n",
    "        print(\"YAY ✿(ᵔ‿ᵔ)\")\n",
    "    else:\n",
    "        print(\"Wrong (◕︵◕)\")\n",
    "\n",
    "    "
   ],
   "outputs": [],
   "metadata": {}
  },
  {
   "cell_type": "code",
   "execution_count": 19,
   "source": [
    "for i in range(5):\n",
    "    handTest(i, test_data, test_labels, skeleton_model, numb_test)"
   ],
   "outputs": [
    {
     "output_type": "display_data",
     "data": {
      "text/plain": [
       "<Figure size 432x288 with 1 Axes>"
      ],
      "image/png": "[encoded data removed]"
     },
     "metadata": {
      "needs_background": "light"
     }
    },
    {
     "output_type": "stream",
     "name": "stdout",
     "text": [
      "Actual: 0\n",
      "Predicted: 0\n",
      "YAY ✿(ᵔ‿ᵔ)\n"
     ]
    },
    {
     "output_type": "display_data",
     "data": {
      "text/plain": [
       "<Figure size 432x288 with 1 Axes>"
      ],
      "image/png": "[encoded data removed]"
     },
     "metadata": {
      "needs_background": "light"
     }
    },
    {
     "output_type": "stream",
     "name": "stdout",
     "text": [
      "Actual: 1\n",
      "Predicted: 1\n",
      "YAY ✿(ᵔ‿ᵔ)\n"
     ]
    },
    {
     "output_type": "display_data",
     "data": {
      "text/plain": [
       "<Figure size 432x288 with 1 Axes>"
      ],
      "image/png": "[encoded data removed]"
     },
     "metadata": {
      "needs_background": "light"
     }
    },
    {
     "output_type": "stream",
     "name": "stdout",
     "text": [
      "Actual: 2\n",
      "Predicted: 2\n",
      "YAY ✿(ᵔ‿ᵔ)\n"
     ]
    },
    {
     "output_type": "display_data",
     "data": {
      "text/plain": [
       "<Figure size 432x288 with 1 Axes>"
      ],
      "image/png": "[encoded data removed]"
     },
     "metadata": {
      "needs_background": "light"
     }
    },
    {
     "output_type": "stream",
     "name": "stdout",
     "text": [
      "Actual: 18\n",
      "Predicted: 18\n",
      "YAY ✿(ᵔ‿ᵔ)\n"
     ]
    },
    {
     "output_type": "display_data",
     "data": {
      "text/plain": [
       "<Figure size 432x288 with 1 Axes>"
      ],
      "image/png": "[encoded data removed]"
     },
     "metadata": {
      "needs_background": "light"
     }
    },
    {
     "output_type": "stream",
     "name": "stdout",
     "text": [
      "Actual: 13\n",
      "Predicted: 13\n",
      "YAY ✿(ᵔ‿ᵔ)\n"
     ]
    }
   ],
   "metadata": {}
  },
  {
   "cell_type": "code",
   "execution_count": 20,
   "source": [
    "index = 1234\n",
    "frame = int(index/20)\n",
    "\n",
    "print(\"Train input\")\n",
    "plt.imshow(pre_train_data[frame].reshape(3,20))\n",
    "plt.show()\n",
    "# DIMENTION CHANGE\n",
    "# plt.imshow(train_data[index].reshape(3,13))\n",
    "plt.imshow(train_data[index].reshape(3,20))\n",
    "plt.show()\n",
    "\n",
    "print(\"Test input\")\n",
    "plt.imshow(pre_test_data[frame].reshape(3,20))\n",
    "plt.show()\n",
    "# plt.imshow(test_data[index].reshape(3,13))\n",
    "plt.imshow(test_data[index].reshape(3,20))\n",
    "plt.show()"
   ],
   "outputs": [
    {
     "output_type": "stream",
     "name": "stdout",
     "text": [
      "Train input\n"
     ]
    },
    {
     "output_type": "display_data",
     "data": {
      "text/plain": [
       "<Figure size 432x288 with 1 Axes>"
      ],
      "image/png": "[encoded data removed]"
     },
     "metadata": {
      "needs_background": "light"
     }
    },
    {
     "output_type": "display_data",
     "data": {
      "text/plain": [
       "<Figure size 432x288 with 1 Axes>"
      ],
      "image/png": "[encoded data removed]"
     },
     "metadata": {
      "needs_background": "light"
     }
    },
    {
     "output_type": "stream",
     "name": "stdout",
     "text": [
      "Test input\n"
     ]
    },
    {
     "output_type": "display_data",
     "data": {
      "text/plain": [
       "<Figure size 432x288 with 1 Axes>"
      ],
      "image/png": "[encoded data removed]"
     },
     "metadata": {
      "needs_background": "light"
     }
    },
    {
     "output_type": "display_data",
     "data": {
      "text/plain": [
       "<Figure size 432x288 with 1 Axes>"
      ],
      "image/png": "[encoded data removed]"
     },
     "metadata": {
      "needs_background": "light"
     }
    }
   ],
   "metadata": {}
  },
  {
   "cell_type": "code",
   "execution_count": 21,
   "source": [
    "temporal = loadmat('mat_files/test_temportal_new.mat')"
   ],
   "outputs": [],
   "metadata": {}
  },
  {
   "cell_type": "code",
   "execution_count": 65,
   "source": [
    "file_times = temporal['combed']\n",
    "time_data = file_times.reshape((len(file_times), 3*file_times.shape[2]))\n",
    "# print(time_data.shape)\n",
    "# print(time_data[0])"
   ],
   "outputs": [],
   "metadata": {}
  },
  {
   "cell_type": "code",
   "execution_count": 215,
   "source": [
    "numb_times = 200\n",
    "index_time = np.linspace(0, len(time_data), num = numb_times, endpoint=False).astype(int)\n",
    "select_time = time_data[index_time]\n",
    "input_time = select_time.reshape(select_time.shape[0], 3, int(select_time.shape[1]/3)).astype(float)\n",
    "print(input_time.shape)\n",
    "# print(input_time[0])"
   ],
   "outputs": [
    {
     "output_type": "stream",
     "name": "stdout",
     "text": [
      "(200, 3, 22)\n"
     ]
    }
   ],
   "metadata": {}
  },
  {
   "cell_type": "code",
   "execution_count": 214,
   "source": [
    "processed_time = getData(input_time, numb_times)\n",
    "print(processed_time.shape)"
   ],
   "outputs": [
    {
     "output_type": "stream",
     "name": "stdout",
     "text": [
      "(4400, 60)\n"
     ]
    }
   ],
   "metadata": {}
  },
  {
   "cell_type": "code",
   "execution_count": 25,
   "source": [
    "# print(\"Showing input measurements\")\n",
    "# for i in range(420, 423):\n",
    "#     plt.imshow(processed_time[i].reshape(3, 20))\n",
    "#     plt.show()"
   ],
   "outputs": [],
   "metadata": {}
  },
  {
   "cell_type": "code",
   "execution_count": 465,
   "source": [
    "import progressbar\n",
    "\n",
    "def temporalpredict(data, model):\n",
    "    pred = []\n",
    "    pred_max = []\n",
    "    pred_cert = []\n",
    "\n",
    "    zeros = np.zeros((60))\n",
    "    bar = progressbar.ProgressBar()\n",
    "    for i in bar(range(len(data))):        \n",
    "        if(np.array_equal(zeros,np.array(data[i]))):\n",
    "            pred.append(np.zeros((20)))\n",
    "            pred_max.append(np.nan)\n",
    "            pred_cert.append(0.0)\n",
    "        else:\n",
    "            pred_model = model.predict(data[i].reshape(1, 60))\n",
    "            pred.append(pred_model[0])\n",
    "            pred_max.append(pred_model.argmax())\n",
    "            pred_cert.append(pred_model.max())\n",
    "    pred = np.array(pred)\n",
    "    pred_max = np.array(pred_max)\n",
    "    pred_cert = np.array(pred_cert)\n",
    "\n",
    "    return pred, pred_max, pred_cert"
   ],
   "outputs": [],
   "metadata": {}
  },
  {
   "cell_type": "code",
   "execution_count": 466,
   "source": [
    "pred, pred_max, pred_cert = temporalpredict(processed_time, skeleton_model)"
   ],
   "outputs": [
    {
     "output_type": "stream",
     "name": "stderr",
     "text": [
      "100% (4400 of 4400) |####################| Elapsed Time: 0:02:29 Time:  0:02:29\n"
     ]
    }
   ],
   "metadata": {}
  },
  {
   "cell_type": "code",
   "execution_count": 537,
   "source": [
    "import numpy as np\n",
    "from scipy import stats\n",
    "\n",
    "pt_max = pred_max.reshape(numb_times, input_time.shape[2])\n",
    "pt_cert = pred_cert.reshape(numb_times, input_time.shape[2])\n",
    "\n",
    "mode = stats.mode(pt_max,  axis = 0)\n",
    "pred_init = mode[0].flatten()\n",
    "pred_count= mode[1].flatten()\n",
    "pred_trans = pt_max.T\n",
    "\n",
    "certainty_pred = []\n",
    "non_nan = []\n",
    "for i in range(len(pred_init)):\n",
    "    cert_array= pt_cert[np.where(pt_max == pred_init[i])]\n",
    "    certainty_pred.append(sum(cert_array)/len(cert_array))\n",
    "    non_nan.append(sum(~np.isnan(pred_trans[i])))\n",
    "certainty_pred = np.array(certainty_pred)\n",
    "counted_percent = np.array(pred_count/non_nan)\n",
    "\n",
    "\n",
    "print(\"Initial predition:\\n\", pred_init)\n",
    "print(\"Confidence mode is correct:\\n\", certainty_pred)\n",
    "print(\"Percent mode appeared:\\n\", counted_percent)\n",
    "print(pt_max.shape)"
   ],
   "outputs": [
    {
     "output_type": "stream",
     "name": "stdout",
     "text": [
      "Initial predition:\n",
      " [ 2.  0.  0.  0.  8. 17. 17. 15. 17.  8.  6. 18.  3. 15. 18.  8. 10. 15.\n",
      " 12. 12. 19. 18.]\n",
      "Confidence mode is correct:\n",
      " [0.94895595 0.98810557 0.98810557 0.98810557 0.83827565 0.70468124\n",
      " 0.70468124 0.66768211 0.70468124 0.83827565 0.6629918  0.66466021\n",
      " 0.75304715 0.66768211 0.66466021 0.83827565 0.5123005  0.66768211\n",
      " 0.56424927 0.56424927 0.63800513 0.66466021]\n",
      "Percent mode appeared:\n",
      " [1.         1.         0.995      0.98       0.78       0.585\n",
      " 0.745      0.55294118 0.51530612 0.57360406 0.665      0.4974359\n",
      " 0.84       0.38961039 0.27419355 0.46875    0.32142857 0.515625\n",
      " 0.28272251 0.6557377  0.5125     0.51351351]\n",
      "(200, 22)\n"
     ]
    }
   ],
   "metadata": {}
  },
  {
   "cell_type": "code",
   "execution_count": 468,
   "source": [
    "pt_pred = pred.reshape(numb_times, input_time.shape[2], 20)"
   ],
   "outputs": [],
   "metadata": {}
  },
  {
   "cell_type": "code",
   "execution_count": 545,
   "source": [
    "def manual(pred):\n",
    "    predict = pred.copy()\n",
    "    pred_all = []\n",
    "    pred_cert = []\n",
    "\n",
    "    zeros = np.zeros((20))\n",
    "\n",
    "    for i in range(len(predict)):\n",
    "        temp_all = []\n",
    "        temp_cert = []\n",
    "        for j in range(20):\n",
    "            if(np.array_equal(zeros,np.array(predict[i]))):\n",
    "                temp_all.append(np.nan)\n",
    "                temp_cert.append(np.nan)\n",
    "            else:\n",
    "                current = predict[i]\n",
    "                temp_all.append(current.argmax())\n",
    "                temp_cert.append(current.max())\n",
    "                current[current.argmax()] = 0.0\n",
    "        pred_all.append(temp_all)\n",
    "        pred_cert.append(temp_cert)\n",
    "    pred_all = np.array(pred_all).T.reshape(20,200,22)\n",
    "    pred_cert = np.array(pred_cert).T.reshape(20,200,22)\n",
    "    return pred_all, pred_cert"
   ],
   "outputs": [],
   "metadata": {}
  },
  {
   "cell_type": "code",
   "execution_count": 576,
   "source": [
    "pred_all, conf_all = manual(pred)"
   ],
   "outputs": [],
   "metadata": {}
  },
  {
   "cell_type": "code",
   "execution_count": 642,
   "source": [
    "predictions = []\n",
    "for level in range(20):\n",
    "    pt_max = pred_all[level]\n",
    "    pt_cert = conf_all[level]\n",
    "\n",
    "    temp_mode = np.array(stats.mode(pt_max, axis = 0))\n",
    "    pred_init = temp_mode[0].flatten()\n",
    "    pred_count = temp_mode[1].flatten()\n",
    "    certainty_pred = []\n",
    "    non_nan = []\n",
    "\n",
    "    for i in range(len(pred_init)):\n",
    "        # index of where the mode predicted index is also the same as the predicted index per frame\n",
    "        cert_array = np.array(np.where(pt_max.T[i] == pred_init[i])).flatten()\n",
    "        cert_sum = np.take(pt_cert.T[i], cert_array)\n",
    "        certainty_pred.append(sum(cert_sum)/len(cert_sum))\n",
    "        non_nan.append(sum(~np.isnan(pt_max.T[i])))\n",
    "\n",
    "    certainty_pred = np.array(certainty_pred)\n",
    "    counted_percent = np.array(pred_count/non_nan)\n",
    "    predictions.append([pred_init, certainty_pred, counted_percent])\n"
   ],
   "outputs": [],
   "metadata": {}
  },
  {
   "cell_type": "code",
   "execution_count": 643,
   "source": [
    "print(predictions[2])"
   ],
   "outputs": [
    {
     "output_type": "stream",
     "name": "stdout",
     "text": [
      "[array([13., 17., 17.,  8., 17.,  8.,  8., 11., 16., 17., 17.,  9.,  4.,\n",
      "       14., 19., 17., 11., 11., 13., 14., 14., 17.]), array([1.51779129e-03, 6.47553504e-07, 1.58597879e-07, 8.31327369e-04,\n",
      "       3.92480934e-03, 6.02339387e-02, 3.89658058e-02, 1.92627938e-02,\n",
      "       8.62874484e-02, 1.22366322e-01, 3.87258366e-02, 4.57895670e-02,\n",
      "       4.70255740e-02, 1.27982038e-01, 9.09038607e-02, 3.48307705e-02,\n",
      "       6.22201778e-02, 8.03313019e-02, 9.73514743e-02, 9.00449242e-03,\n",
      "       6.09174855e-02, 2.86643752e-02]), array([0.465     , 0.505     , 0.38      , 0.395     , 0.305     ,\n",
      "       0.325     , 0.495     , 0.36470588, 0.33163265, 0.41624365,\n",
      "       0.195     , 0.66666667, 0.19      , 0.41558442, 0.16129032,\n",
      "       0.4375    , 0.32142857, 0.4453125 , 0.32984293, 0.44262295,\n",
      "       0.3875    , 0.44144144])]\n"
     ]
    }
   ],
   "metadata": {}
  }
 ],
 "metadata": {
  "interpreter": {
   "hash": "8de543a527d38bc21d309dfa8a60aed366b41867ed03b1c23b526625b89003b8"
  },
  "kernelspec": {
   "display_name": "Python 3.8.5 64-bit ('base': conda)",
   "name": "python3"
  },
  "language_info": {
   "codemirror_mode": {
    "name": "ipython",
    "version": 3
   },
   "file_extension": ".py",
   "mimetype": "text/x-python",
   "name": "python",
   "nbconvert_exporter": "python",
   "pygments_lexer": "ipython3",
   "version": "3.8.5"
  },
  "orig_nbformat": 4
 },
 "nbformat": 4,
 "nbformat_minor": 2
}