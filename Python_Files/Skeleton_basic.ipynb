{
 "cells": [
  {
   "cell_type": "code",
   "execution_count": 2,
   "source": [
    "import numpy as np\n",
    "import matplotlib.pyplot as plt\n",
    "from mpl_toolkits.mplot3d import Axes3D\n",
    "from scipy.io import loadmat\n",
    "import tensorflow as tf\n",
    "import random\n",
    "import progressbar\n",
    "from tensorflow.keras.models import Sequential\n",
    "from tensorflow.keras.layers import Dense, Conv2D, Dropout, Flatten, MaxPooling2D, MaxPool2D, LeakyReLU"
   ],
   "outputs": [],
   "metadata": {}
  },
  {
   "cell_type": "code",
   "execution_count": 3,
   "source": [
    "joint_name = ['HeadF', 'HeadB', 'HeadL', 'SpineF', 'SpineM', 'SpineL', \n",
    "            'Offset1', 'Offset2', 'HipL', 'HipR', 'ElbowL', 'ArmL', \n",
    "            'ShoulderL', 'ShoulderR', 'ElbowR', 'ArmR', 'KneeR', \n",
    "            'KneeL', 'ShinL', 'ShinR']\n",
    "\n",
    "joints_idx = [[1, 2], [2, 3], [1, 3], [2, 4], [1, 4], [3, 4], [4, 5], \n",
    "            [5, 6], [4, 7], [7, 8], [5, 8], [5, 7], [6, 8], [6, 9], \n",
    "            [6, 10], [11, 12], [4, 13], [4, 14], [11, 13], [12, 13], \n",
    "            [14, 15], [14, 16], [15, 16], [9, 18], [10, 17], [18, 19], \n",
    "            [17, 20]]"
   ],
   "outputs": [],
   "metadata": {}
  },
  {
   "cell_type": "code",
   "execution_count": 4,
   "source": [
    "# Loading mat file and returning file\n",
    "def loadMatFile(fileName, key):\n",
    "    mat = loadmat(fileName)[key]\n",
    "    print(\"Loaded:\",fileName, key)\n",
    "    return mat"
   ],
   "outputs": [],
   "metadata": {}
  },
  {
   "cell_type": "code",
   "execution_count": 5,
   "source": [
    "# Plot 3D points given file and frame number\n",
    "def plotKnownOrder(matFile, numb):\n",
    "    mat = matFile[numb]\n",
    "    x = mat[0]\n",
    "    y = mat[1]\n",
    "    z = mat[2]\n",
    "\n",
    "    # loading plot\n",
    "    fig = plt.figure()\n",
    "    ax = fig.add_subplot(projection='3d')\n",
    "\n",
    "    # adding points, labels and lines\n",
    "    try:\n",
    "        ax.scatter(x,y,z, color='#ff5e5e', s =10, marker='x')\n",
    "    except:\n",
    "        pass\n",
    "    # addLabels(ax, x, y, z)\n",
    "    drawLines(ax, x, y, z)\n",
    "    drawAllLines(ax, x, y, z)\n",
    "\n",
    "    # Labeling plot\n",
    "    ax.set_title(\"Rat positioning\")\n",
    "    ax.set_xlabel(\"X axis\")\n",
    "    ax.set_ylabel(\"Y axis\")\n",
    "    ax.set_zlabel(\"Z axis\")\n",
    "    plt.show()\n",
    "\n",
    "# Draw major lines in the rat model\n",
    "def drawLines(ax,x, y, z):\n",
    "    # run through all the connections to draw the points\n",
    "    for i in range(len(joints_idx)):\n",
    "        try: \n",
    "            # Getting both points to draw line\n",
    "            idx = joints_idx[i]\n",
    "            x_line = [x[idx[0]-1], x[idx[1]-1]]\n",
    "            y_line = [y[idx[0]-1], y[idx[1]-1]]\n",
    "            z_line = [z[idx[0]-1], z[idx[1]-1]]\n",
    "            z_coord_1 = x[idx[0]-1], y[idx[0]-1], z[idx[0]-1]\n",
    "            z_coord_2 = x[idx[1]-1], y[idx[1]-1], z[idx[1]-1]\n",
    "\n",
    "            # Draw lines\n",
    "            if i < 3: \n",
    "                ax.plot(x_line, y_line, z_line, c=\"#064ea1\", linewidth=4)\n",
    "            elif i < 6:\n",
    "                ax.plot(x_line, y_line, z_line, c=\"#64ccd1\", linewidth=4)\n",
    "            else:\n",
    "                ax.plot(x_line, y_line, z_line, c=\"#46b8a7\", linewidth=4)\n",
    "        except:\n",
    "            pass\n",
    "\n",
    "# Draw all line from every point \n",
    "def drawAllLines(ax,x, y, z):\n",
    "    joint_len = len(joint_name)\n",
    "    all_lines = []\n",
    "    for i in range(joint_len):\n",
    "        for j in range(joint_len):\n",
    "            if (not([i,j] in all_lines)):\n",
    "                x_line = [x[i], x[j]]\n",
    "                y_line = [y[i], y[j]]\n",
    "                z_line = [z[i], z[j]]\n",
    "                ax.plot(x_line, y_line, z_line, color='#b1d8fc', linewidth=0.5)\n",
    "                all_lines.append([i,j])\n",
    "                all_lines.append([j,i])"
   ],
   "outputs": [],
   "metadata": {}
  },
  {
   "cell_type": "code",
   "execution_count": 6,
   "source": [
    "# normalizes a matrix\n",
    "def normalize(matrix):\n",
    "    max_numb = max(matrix[~np.isnan(matrix)])\n",
    "    norm = matrix/max_numb\n",
    "    return np.array(norm)\n",
    "    # return matrix"
   ],
   "outputs": [],
   "metadata": {}
  },
  {
   "cell_type": "code",
   "execution_count": 7,
   "source": [
    "from scipy.spatial.distance import cdist\n",
    "# Get the distance to every single point \n",
    "def getAllDistances(matFile, numb):\n",
    "    mat = matFile[numb]\n",
    "    mat = mat.T\n",
    "    dist = cdist(mat, mat, 'euclidean')\n",
    "    return normalize(dist)"
   ],
   "outputs": [],
   "metadata": {}
  },
  {
   "cell_type": "code",
   "execution_count": 8,
   "source": [
    "# Get the absolute height difference to every single point \n",
    "def getAllHeights(matFile, numb):\n",
    "    mat = matFile[numb]\n",
    "    z = mat[2]\n",
    "    reshaped = int(matFile.shape[2])\n",
    "    height = []\n",
    "\n",
    "    for i in range(reshaped):\n",
    "        for j in range(reshaped):\n",
    "            if np.nan in [z[i], z[j]]:\n",
    "                height.append(np.nan)\n",
    "            else:\n",
    "                height.append(np.abs(z[i]-z[j]))\n",
    "\n",
    "    # normalizes height data\n",
    "    height = normalize(np.array(height).reshape(reshaped, reshaped))\n",
    "    return height\n"
   ],
   "outputs": [],
   "metadata": {}
  },
  {
   "cell_type": "code",
   "execution_count": 9,
   "source": [
    "# Get the angle to every single point \n",
    "def getAllAngles(matFile, numb):\n",
    "    mat = matFile[numb]\n",
    "    mat = mat.T\n",
    "    angle = cdist(mat, mat, 'cosine')\n",
    "    return normalize(angle)"
   ],
   "outputs": [],
   "metadata": {}
  },
  {
   "cell_type": "code",
   "execution_count": 10,
   "source": [
    "def addNans(raw):\n",
    "    raw_copy = np.array(raw.copy())\n",
    "\n",
    "    for i in range(raw_copy.shape[0]):\n",
    "        rand_numb = np.random.randint(0, 4)\n",
    "        rand_index = random.sample(range(3, 20), rand_numb)\n",
    "        for j in range(rand_numb):\n",
    "            raw_copy[i][:,rand_index[j]] = np.nan\n",
    "    return raw_copy\n"
   ],
   "outputs": [],
   "metadata": {}
  },
  {
   "cell_type": "code",
   "execution_count": 11,
   "source": [
    "def getData(data, numb): \n",
    "    cnn_inputs = []\n",
    "    bar = progressbar.ProgressBar()\n",
    "\n",
    "    for i in bar(range(numb)):\n",
    "        dist = getAllDistances(data, i) \n",
    "        height = getAllHeights(data, i)\n",
    "        angle = getAllAngles(data, i)\n",
    "        for j in range(0, data.shape[2]):\n",
    "            temp = np.array([dist[j], height[j], angle[j]])\n",
    "            first = temp[:,0:3]\n",
    "            second = temp[:,3:20]\n",
    "            first = first [ :, first[0].argsort()]\n",
    "            second = second [ :, second[0].argsort()]\n",
    "            output = np.concatenate((first, second), axis =1)\n",
    "            cnn_inputs.append(output)\n",
    "\n",
    "    # DIMENTION CHANGE\n",
    "    cnn_inputs = np.array(cnn_inputs)[:,:,:13]\n",
    "    # cnn_inputs = np.array(cnn_inputs)[:,:,:20]\n",
    "    cnn_inputs = np.array(cnn_inputs).reshape((cnn_inputs.shape[0], 39))\n",
    "    # cnn_inputs = np.array(cnn_inputs).reshape((numb*data.shape[2], 60))\n",
    "    where_are_NaNs = np.isnan(cnn_inputs)\n",
    "    cnn_inputs[where_are_NaNs] = 0\n",
    "    return cnn_inputs\n"
   ],
   "outputs": [],
   "metadata": {}
  },
  {
   "cell_type": "code",
   "execution_count": 12,
   "source": [
    "def oneFileTestTrain():\n",
    "    mat_file = loadmat('mat_files/markerSplit_1_shuffled.mat')\n",
    "    data = mat_file['alteredM']\n",
    "    labels = mat_file['labelsM']\n",
    "\n",
    "    # set numb of data used\n",
    "    numb_train = 2000\n",
    "    numb_test = 2000\n",
    "\n",
    "    # find length of data\n",
    "    mat_len = int(len(labels))\n",
    "    mat_half = int(mat_len/2)\n",
    "\n",
    "    # Take some frames from the list to use as trian and test data\n",
    "    index_train = np.linspace(0, mat_half, num = numb_train, endpoint=False).astype(int)\n",
    "    index_test = np.linspace(mat_half, mat_len, num = numb_test, endpoint=False).astype(int)\n",
    "    pre_train_data = data[index_train]\n",
    "    pre_train_labels = labels[index_train]\n",
    "    pre_test_data = data[index_test]\n",
    "    pre_test_labels = labels[index_test]\n",
    "\n",
    "    print(\"Shape of pre_train_data:\", pre_train_data.shape)\n",
    "    print(\"Shape of pre_test_data:\", pre_test_data.shape)\n",
    "    print(\"Shape of pre_train_labels:\", pre_train_labels.shape)\n",
    "    print(\"Shape of pre_test_labels:\", pre_test_labels.shape)\n",
    "    return pre_train_data, pre_test_data, pre_train_labels, pre_test_labels"
   ],
   "outputs": [],
   "metadata": {}
  },
  {
   "cell_type": "code",
   "execution_count": 13,
   "source": [
    "train_file = loadmat('mat_files/bigSet1.mat')\n",
    "test_file = loadmat('mat_files/bigSet2.mat')"
   ],
   "outputs": [],
   "metadata": {}
  },
  {
   "cell_type": "code",
   "execution_count": 14,
   "source": [
    "train_data = train_file['bigSet1']\n",
    "test_data = test_file['bigSet2']\n",
    "train_labels = train_file['labels1']\n",
    "test_labels = test_file['labels2']\n",
    "# set numb of data used\n",
    "numb_train = len(train_data)\n",
    "numb_test = 1000\n",
    "\n",
    "# Take some frames from the list to use as trian and test data\n",
    "index_train = np.linspace(0, len(train_labels), num = numb_train, endpoint=False).astype(int)\n",
    "index_test = np.linspace(0, len(test_labels), num = numb_test, endpoint=False).astype(int)\n",
    "# pre_train_data = train_data[index_train]\n",
    "# pre_train_labels = train_labels[index_train]\n",
    "pre_train_data = train_data\n",
    "pre_train_labels = train_labels\n",
    "pre_test_data = test_data[index_test]\n",
    "pre_test_labels = test_labels[index_test]\n",
    "\n",
    "print(\"Shape of pre_train_data:\", pre_train_data.shape)\n",
    "print(\"Shape of pre_test_data:\", pre_test_data.shape)\n",
    "print(\"Shape of pre_train_labels:\", pre_train_labels.shape)\n",
    "print(\"Shape of pre_test_labels:\", pre_test_labels.shape)\n"
   ],
   "outputs": [
    {
     "output_type": "stream",
     "name": "stdout",
     "text": [
      "Shape of pre_train_data: (221147, 3, 20)\n",
      "Shape of pre_test_data: (1000, 3, 20)\n",
      "Shape of pre_train_labels: (221147, 20)\n",
      "Shape of pre_test_labels: (1000, 20)\n"
     ]
    }
   ],
   "metadata": {}
  },
  {
   "cell_type": "code",
   "execution_count": 15,
   "source": [
    "# Get measurement data for every 3D point\n",
    "train_data = getData(pre_train_data, numb_train)\n",
    "test_data = getData(pre_test_data, numb_test)\n",
    "\n",
    "# Flatten the trian labels to fit dimentions of data\n",
    "train_labels = pre_train_labels.flatten()[0:(numb_train*20)]-1\n",
    "test_labels = pre_test_labels.flatten()[0:(numb_test*20)]-1\n",
    "\n",
    "print(\"Shape of train_data:\", train_data.shape)\n",
    "print(\"Shape of test_data:\", test_data.shape)\n",
    "print(\"Shape of train_labels:\", train_labels.shape)\n",
    "print(\"Shape of test_labels:\", test_labels.shape)"
   ],
   "outputs": [
    {
     "output_type": "stream",
     "name": "stderr",
     "text": [
      "100% (221147 of 221147) |################| Elapsed Time: 0:07:22 Time:  0:07:22\n",
      "100% (1000 of 1000) |####################| Elapsed Time: 0:00:01 Time:  0:00:01\n"
     ]
    },
    {
     "output_type": "stream",
     "name": "stdout",
     "text": [
      "Shape of train_data: (4422940, 39)\n",
      "Shape of test_data: (20000, 39)\n",
      "Shape of train_labels: (4422940,)\n",
      "Shape of test_labels: (20000,)\n"
     ]
    }
   ],
   "metadata": {}
  },
  {
   "cell_type": "code",
   "execution_count": 17,
   "source": [
    "# Get index where the data is all 0\n",
    "nans_train = np.sort(np.where(~train_data.any(axis=1))[0])[::-1]\n",
    "nans_test = np.sort(np.where(~test_data.any(axis=1))[0])[::-1]\n",
    "\n",
    "# Turn data into lists\n",
    "train_data_new = list(train_data)\n",
    "test_data_new = list(test_data)\n",
    "train_labels_new = list(train_labels)\n",
    "test_labels_new = list(test_labels)\n",
    "\n",
    "bar = progressbar.ProgressBar()\n",
    "# Remove the nan values \n",
    "for i in bar(nans_train):\n",
    "    train_data_new.pop(i)\n",
    "    train_labels_new.pop(i)\n",
    "bar = progressbar.ProgressBar()\n",
    "for i in bar(nans_test):\n",
    "    test_data_new.pop(i)\n",
    "    test_labels_new.pop(i)\n",
    "\n",
    "# Turn data back into array\n",
    "train_data_new = np.array(train_data_new)\n",
    "train_labels_new = np.array(train_labels_new)\n",
    "test_data_new = np.array(test_data_new)\n",
    "test_labels_new = np.array(test_labels_new)\n",
    "\n",
    "print(\"Shape of train_data_new:\", train_data_new.shape)\n",
    "print(\"Shape of test_data_new:\", test_data_new.shape)\n",
    "print(\"Shape of train_labels_new:\", train_labels_new.shape)\n",
    "print(\"Shape of test_labels_new:\", test_labels_new.shape)"
   ],
   "outputs": [
    {
     "output_type": "stream",
     "name": "stderr",
     "text": [
      "100% (397563 of 397563) |################| Elapsed Time: 0:39:58 Time:  0:39:58\n",
      "100% (1741 of 1741) |####################| Elapsed Time: 0:00:00 Time:  0:00:00\n"
     ]
    },
    {
     "output_type": "stream",
     "name": "stdout",
     "text": [
      "Shape of train_data_new: (4025377, 39)\n",
      "Shape of test_data_new: (18259, 39)\n",
      "Shape of train_labels_new: (4025377,)\n",
      "Shape of test_labels_new: (18259,)\n"
     ]
    }
   ],
   "metadata": {}
  },
  {
   "cell_type": "code",
   "execution_count": 18,
   "source": [
    "# Creates the ML training platform to predict rat joints\n",
    "def ml_traning(train_data, train_labels, test_data, test_labels):\n",
    "    # DIMENTION CHANGE\n",
    "    train_data = train_data.reshape(train_data.shape[0], 39)\n",
    "    test_data = test_data.reshape(test_data.shape[0], 39)\n",
    "    # train_data = train_data.reshape(train_data.shape[0], 60)\n",
    "    # test_data = test_data.reshape(test_data.shape[0], 60)\n",
    "    train_data = train_data.astype('float32')\n",
    "    test_data = test_data.astype('float32')\n",
    "\n",
    "    model = createModel()\n",
    "    model.compile(optimizer='adam',loss='sparse_categorical_crossentropy', metrics=['accuracy'])\n",
    "    model.fit(x=train_data,y=train_labels, verbose='auto', batch_size=20, epochs=2)\n",
    "    \n",
    "    output = model.evaluate(test_data, test_labels)\n",
    "    print(\"Loss:\", output[0])\n",
    "    print(\"Accuracy:\", output[1]*100)\n",
    "    return model\n",
    "\n",
    "# Creates the model for the CNN\n",
    "def createModel():\n",
    "    model = Sequential()\n",
    "    model.add(Dense(120, activation= LeakyReLU()))\n",
    "    model.add(Dense(320, activation= LeakyReLU()))\n",
    "    # model.add(Dropout(rate=0.25))\n",
    "    model.add(Dense(80, activation= LeakyReLU()))\n",
    "    # model.add(Dense(13, activation = \"softmax\"))\n",
    "    model.add(Dense(len(joint_name), activation = \"softmax\"))\n",
    "    return model"
   ],
   "outputs": [],
   "metadata": {}
  },
  {
   "cell_type": "code",
   "execution_count": 19,
   "source": [
    "skeleton_model = ml_traning(train_data_new, train_labels_new, test_data_new, test_labels_new)"
   ],
   "outputs": [
    {
     "output_type": "stream",
     "name": "stdout",
     "text": [
      "Epoch 1/2\n",
      "201269/201269 [==============================] - 400s 2ms/step - loss: 0.5561 - accuracy: 0.8178\n",
      "Epoch 2/2\n",
      "201269/201269 [==============================] - 452s 2ms/step - loss: 0.3809 - accuracy: 0.8772\n",
      "571/571 [==============================] - 1s 2ms/step - loss: 0.6724 - accuracy: 0.8200\n",
      "Loss: 0.672447144985199\n",
      "Accuracy: 82.00339674949646\n"
     ]
    }
   ],
   "metadata": {}
  },
  {
   "cell_type": "code",
   "execution_count": 20,
   "source": [
    "# Tests individual points and tells you if the CNN worked\n",
    "def handTest(image_index, test_data, label, model, maxNumb):\n",
    "    max_index = len(joint_name)*maxNumb-1\n",
    "    if image_index <= max_index:\n",
    "        predict(test_data, image_index, label, model)\n",
    "    else:\n",
    "        print(\"ERROR: Your predict_index must be below\", max_index)\n",
    "\n",
    "# Showing individual predictions\n",
    "def predict(data, image_index, label, model):\n",
    "    img = [data[image_index]]\n",
    "    # DIMENTION CHANGE\n",
    "    img = np.array(img).reshape(3,13)\n",
    "    # img = np.array(img).reshape(3,20)\n",
    "    plt.imshow(img)\n",
    "    plt.show()\n",
    "\n",
    "    pred = model.predict(img.reshape(1, 39))\n",
    "    # pred = model.predict(img.reshape(1, 60))\n",
    "    predict = pred.argmax()\n",
    "    actual = label[image_index]\n",
    "\n",
    "    print(\"Actual:\", actual)\n",
    "    print(\"Predicted:\", predict)\n",
    "    \n",
    "    if predict == actual:\n",
    "        print(\"YAY ✿(ᵔ‿ᵔ)\")\n",
    "    else:\n",
    "        print(\"Wrong (◕︵◕)\")\n",
    "\n",
    "    "
   ],
   "outputs": [],
   "metadata": {}
  },
  {
   "cell_type": "code",
   "execution_count": 21,
   "source": [
    "# temp = test_data[0].reshape(3,13)\n",
    "# print(temp)\n",
    "# plt.imshow(temp)"
   ],
   "outputs": [],
   "metadata": {}
  },
  {
   "cell_type": "code",
   "execution_count": 22,
   "source": [
    "for i in range(420,440):\n",
    "    handTest(i, test_data, test_labels, skeleton_model, numb_test)"
   ],
   "outputs": [
    {
     "output_type": "display_data",
     "data": {
      "text/plain": [
       "<Figure size 432x288 with 1 Axes>"
      ],
      "image/png": "[encoded data removed]"
     },
     "metadata": {
      "needs_background": "light"
     }
    },
    {
     "output_type": "stream",
     "name": "stdout",
     "text": [
      "Actual: 0\n",
      "Predicted: 0\n",
      "YAY ✿(ᵔ‿ᵔ)\n"
     ]
    },
    {
     "output_type": "display_data",
     "data": {
      "text/plain": [
       "<Figure size 432x288 with 1 Axes>"
      ],
      "image/png": "[encoded data removed]"
     },
     "metadata": {
      "needs_background": "light"
     }
    },
    {
     "output_type": "stream",
     "name": "stdout",
     "text": [
      "Actual: 1\n",
      "Predicted: 1\n",
      "YAY ✿(ᵔ‿ᵔ)\n"
     ]
    },
    {
     "output_type": "display_data",
     "data": {
      "text/plain": [
       "<Figure size 432x288 with 1 Axes>"
      ],
      "image/png": "[encoded data removed]"
     },
     "metadata": {
      "needs_background": "light"
     }
    },
    {
     "output_type": "stream",
     "name": "stdout",
     "text": [
      "Actual: 2\n",
      "Predicted: 2\n",
      "YAY ✿(ᵔ‿ᵔ)\n"
     ]
    },
    {
     "output_type": "display_data",
     "data": {
      "text/plain": [
       "<Figure size 432x288 with 1 Axes>"
      ],
      "image/png": "[encoded data removed]"
     },
     "metadata": {
      "needs_background": "light"
     }
    },
    {
     "output_type": "stream",
     "name": "stdout",
     "text": [
      "Actual: 7\n",
      "Predicted: 7\n",
      "YAY ✿(ᵔ‿ᵔ)\n"
     ]
    },
    {
     "output_type": "display_data",
     "data": {
      "text/plain": [
       "<Figure size 432x288 with 1 Axes>"
      ],
      "image/png": "[encoded data removed]"
     },
     "metadata": {
      "needs_background": "light"
     }
    },
    {
     "output_type": "stream",
     "name": "stdout",
     "text": [
      "Actual: 5\n",
      "Predicted: 5\n",
      "YAY ✿(ᵔ‿ᵔ)\n"
     ]
    },
    {
     "output_type": "display_data",
     "data": {
      "text/plain": [
       "<Figure size 432x288 with 1 Axes>"
      ],
      "image/png": "[encoded data removed]"
     },
     "metadata": {
      "needs_background": "light"
     }
    },
    {
     "output_type": "stream",
     "name": "stdout",
     "text": [
      "Actual: 10\n",
      "Predicted: 10\n",
      "YAY ✿(ᵔ‿ᵔ)\n"
     ]
    },
    {
     "output_type": "display_data",
     "data": {
      "text/plain": [
       "<Figure size 432x288 with 1 Axes>"
      ],
      "image/png": "[encoded data removed]"
     },
     "metadata": {
      "needs_background": "light"
     }
    },
    {
     "output_type": "stream",
     "name": "stdout",
     "text": [
      "Actual: 11\n",
      "Predicted: 10\n",
      "Wrong (◕︵◕)\n"
     ]
    },
    {
     "output_type": "display_data",
     "data": {
      "text/plain": [
       "<Figure size 432x288 with 1 Axes>"
      ],
      "image/png": "[encoded data removed]"
     },
     "metadata": {
      "needs_background": "light"
     }
    },
    {
     "output_type": "stream",
     "name": "stdout",
     "text": [
      "Actual: 13\n",
      "Predicted: 13\n",
      "YAY ✿(ᵔ‿ᵔ)\n"
     ]
    },
    {
     "output_type": "display_data",
     "data": {
      "text/plain": [
       "<Figure size 432x288 with 1 Axes>"
      ],
      "image/png": "[encoded data removed]"
     },
     "metadata": {
      "needs_background": "light"
     }
    },
    {
     "output_type": "stream",
     "name": "stdout",
     "text": [
      "Actual: 19\n",
      "Predicted: 18\n",
      "Wrong (◕︵◕)\n"
     ]
    },
    {
     "output_type": "display_data",
     "data": {
      "text/plain": [
       "<Figure size 432x288 with 1 Axes>"
      ],
      "image/png": "[encoded data removed]"
     },
     "metadata": {
      "needs_background": "light"
     }
    },
    {
     "output_type": "stream",
     "name": "stdout",
     "text": [
      "Actual: 12\n",
      "Predicted: 12\n",
      "YAY ✿(ᵔ‿ᵔ)\n"
     ]
    },
    {
     "output_type": "display_data",
     "data": {
      "text/plain": [
       "<Figure size 432x288 with 1 Axes>"
      ],
      "image/png": "[encoded data removed]"
     },
     "metadata": {
      "needs_background": "light"
     }
    },
    {
     "output_type": "stream",
     "name": "stdout",
     "text": [
      "Actual: 14\n",
      "Predicted: 10\n",
      "Wrong (◕︵◕)\n"
     ]
    },
    {
     "output_type": "display_data",
     "data": {
      "text/plain": [
       "<Figure size 432x288 with 1 Axes>"
      ],
      "image/png": "[encoded data removed]"
     },
     "metadata": {
      "needs_background": "light"
     }
    },
    {
     "output_type": "stream",
     "name": "stdout",
     "text": [
      "Actual: 3\n",
      "Predicted: 3\n",
      "YAY ✿(ᵔ‿ᵔ)\n"
     ]
    },
    {
     "output_type": "display_data",
     "data": {
      "text/plain": [
       "<Figure size 432x288 with 1 Axes>"
      ],
      "image/png": "[encoded data removed]"
     },
     "metadata": {
      "needs_background": "light"
     }
    },
    {
     "output_type": "stream",
     "name": "stdout",
     "text": [
      "Actual: 6\n",
      "Predicted: 6\n",
      "YAY ✿(ᵔ‿ᵔ)\n"
     ]
    },
    {
     "output_type": "display_data",
     "data": {
      "text/plain": [
       "<Figure size 432x288 with 1 Axes>"
      ],
      "image/png": "[encoded data removed]"
     },
     "metadata": {
      "needs_background": "light"
     }
    },
    {
     "output_type": "stream",
     "name": "stdout",
     "text": [
      "Actual: 9\n",
      "Predicted: 9\n",
      "YAY ✿(ᵔ‿ᵔ)\n"
     ]
    },
    {
     "output_type": "display_data",
     "data": {
      "text/plain": [
       "<Figure size 432x288 with 1 Axes>"
      ],
      "image/png": "[encoded data removed]"
     },
     "metadata": {
      "needs_background": "light"
     }
    },
    {
     "output_type": "stream",
     "name": "stdout",
     "text": [
      "Actual: 17\n",
      "Predicted: 17\n",
      "YAY ✿(ᵔ‿ᵔ)\n"
     ]
    },
    {
     "output_type": "display_data",
     "data": {
      "text/plain": [
       "<Figure size 432x288 with 1 Axes>"
      ],
      "image/png": "[encoded data removed]"
     },
     "metadata": {
      "needs_background": "light"
     }
    },
    {
     "output_type": "stream",
     "name": "stdout",
     "text": [
      "Actual: 8\n",
      "Predicted: 10\n",
      "Wrong (◕︵◕)\n"
     ]
    },
    {
     "output_type": "display_data",
     "data": {
      "text/plain": [
       "<Figure size 432x288 with 1 Axes>"
      ],
      "image/png": "[encoded data removed]"
     },
     "metadata": {
      "needs_background": "light"
     }
    },
    {
     "output_type": "stream",
     "name": "stdout",
     "text": [
      "Actual: 15\n",
      "Predicted: 15\n",
      "YAY ✿(ᵔ‿ᵔ)\n"
     ]
    },
    {
     "output_type": "display_data",
     "data": {
      "text/plain": [
       "<Figure size 432x288 with 1 Axes>"
      ],
      "image/png": "[encoded data removed]"
     },
     "metadata": {
      "needs_background": "light"
     }
    },
    {
     "output_type": "stream",
     "name": "stdout",
     "text": [
      "Actual: 16\n",
      "Predicted: 16\n",
      "YAY ✿(ᵔ‿ᵔ)\n"
     ]
    },
    {
     "output_type": "display_data",
     "data": {
      "text/plain": [
       "<Figure size 432x288 with 1 Axes>"
      ],
      "image/png": "[encoded data removed]"
     },
     "metadata": {
      "needs_background": "light"
     }
    },
    {
     "output_type": "stream",
     "name": "stdout",
     "text": [
      "Actual: 4\n",
      "Predicted: 4\n",
      "YAY ✿(ᵔ‿ᵔ)\n"
     ]
    },
    {
     "output_type": "display_data",
     "data": {
      "text/plain": [
       "<Figure size 432x288 with 1 Axes>"
      ],
      "image/png": "[encoded data removed]"
     },
     "metadata": {
      "needs_background": "light"
     }
    },
    {
     "output_type": "stream",
     "name": "stdout",
     "text": [
      "Actual: 18\n",
      "Predicted: 18\n",
      "YAY ✿(ᵔ‿ᵔ)\n"
     ]
    }
   ],
   "metadata": {}
  },
  {
   "cell_type": "code",
   "execution_count": 23,
   "source": [
    "index = 1234\n",
    "frame = int(index/20)\n",
    "\n",
    "print(\"Train input\")\n",
    "plt.imshow(pre_train_data[frame].reshape(3,20))\n",
    "plt.show()\n",
    "# DIMENTION CHANGE\n",
    "plt.imshow(train_data[index].reshape(3,13))\n",
    "# plt.imshow(train_data[index].reshape(3,20))\n",
    "plt.show()\n",
    "\n",
    "print(\"Test input\")\n",
    "plt.imshow(pre_test_data[frame].reshape(3,20))\n",
    "plt.show()\n",
    "plt.imshow(test_data[index].reshape(3,13))\n",
    "# plt.imshow(test_data[index].reshape(3,20))\n",
    "plt.show()"
   ],
   "outputs": [
    {
     "output_type": "stream",
     "name": "stdout",
     "text": [
      "Train input\n"
     ]
    },
    {
     "output_type": "display_data",
     "data": {
      "text/plain": [
       "<Figure size 432x288 with 1 Axes>"
      ],
      "image/png": "[encoded data removed]"
     },
     "metadata": {
      "needs_background": "light"
     }
    },
    {
     "output_type": "display_data",
     "data": {
      "text/plain": [
       "<Figure size 432x288 with 1 Axes>"
      ],
      "image/png": "[encoded data removed]"
     },
     "metadata": {
      "needs_background": "light"
     }
    },
    {
     "output_type": "stream",
     "name": "stdout",
     "text": [
      "Test input\n"
     ]
    },
    {
     "output_type": "display_data",
     "data": {
      "text/plain": [
       "<Figure size 432x288 with 1 Axes>"
      ],
      "image/png": "[encoded data removed]"
     },
     "metadata": {
      "needs_background": "light"
     }
    },
    {
     "output_type": "display_data",
     "data": {
      "text/plain": [
       "<Figure size 432x288 with 1 Axes>"
      ],
      "image/png": "[encoded data removed]"
     },
     "metadata": {
      "needs_background": "light"
     }
    }
   ],
   "metadata": {}
  },
  {
   "cell_type": "code",
   "execution_count": 24,
   "source": [
    "temporal = loadmat('mat_files/newcombed.mat')"
   ],
   "outputs": [],
   "metadata": {}
  },
  {
   "cell_type": "code",
   "execution_count": 64,
   "source": [
    "file_times = temporal['Newcombed']\n",
    "transpose_time = file_times.reshape((len(file_times), 3*file_times.shape[2])).T\n",
    "print(transpose_time.shape)\n",
    "numb_times = 3000\n",
    "test_time = transpose_time[:,:numb_times]"
   ],
   "outputs": [
    {
     "output_type": "stream",
     "name": "stdout",
     "text": [
      "(66, 540000)\n"
     ]
    }
   ],
   "metadata": {}
  },
  {
   "cell_type": "code",
   "execution_count": 237,
   "source": [
    "chunks = []\n",
    "bar = progressbar.ProgressBar()\n",
    "for i in bar(range(int(test_time.shape[0]/3))):\n",
    "    row = i*3\n",
    "    row_list = []\n",
    "    temp_list = []\n",
    "    for j in range(test_time.shape[1]):\n",
    "        if ~np.isnan(test_time[i][j]):\n",
    "            temp_list.append(j)\n",
    "        else:\n",
    "            if len(temp_list) > 0:\n",
    "                row_list.append(temp_list)\n",
    "                temp_list = []\n",
    "    if len(temp_list) > 0:\n",
    "        row_list.append(temp_list)\n",
    "    chunks.append([i, row_list])"
   ],
   "outputs": [
    {
     "output_type": "stream",
     "name": "stderr",
     "text": [
      "100% (22 of 22) |########################| Elapsed Time: 0:00:00 Time:  0:00:00\n"
     ]
    }
   ],
   "metadata": {}
  },
  {
   "cell_type": "code",
   "execution_count": 203,
   "source": [
    "time_data = file_times.reshape((len(file_times), 3*file_times.shape[2]))\n",
    "select_time = time_data[:numb_times]\n",
    "input_time = select_time.reshape(select_time.shape[0], 3, int(select_time.shape[1]/3)).astype(float)\n",
    "processed_time = getData(input_time, numb_times)\n",
    "print(processed_time.shape)"
   ],
   "outputs": [
    {
     "output_type": "stream",
     "name": "stderr",
     "text": [
      "100% (3000 of 3000) |####################| Elapsed Time: 0:00:08 Time:  0:00:08\n"
     ]
    },
    {
     "output_type": "stream",
     "name": "stdout",
     "text": [
      "(66000, 39)\n"
     ]
    }
   ],
   "metadata": {}
  },
  {
   "cell_type": "code",
   "execution_count": 196,
   "source": [
    "presplit_process = np.transpose(processed_time.reshape(numb_times, int(test_time.shape[0]/3), processed_time.shape[1]),(1, 0, 2))\n",
    "# zeros = np.zeros(39)\n",
    "# print(presplit_process.shape)\n",
    "# cur = []\n",
    "# i = 7\n",
    "# for j in range(numb_times):\n",
    "#     if np.array_equal(zeros, np.array(presplit_process[i][j])):\n",
    "#         cur.append(i)\n",
    "# print(len(cur))\n"
   ],
   "outputs": [
    {
     "output_type": "stream",
     "name": "stdout",
     "text": [
      "(22, 3000, 39)\n",
      "1502\n"
     ]
    }
   ],
   "metadata": {}
  },
  {
   "cell_type": "code",
   "execution_count": 291,
   "source": [
    "chunks = np.array(chunks, dtype=object)\n",
    "print(chunks.shape)\n",
    "# for i in range(22):\n",
    "#     print(np.array(chunks[i][0]), np.array(chunks[i][1], dtype=object).shape, np.array(chunks[i][1][0], dtype=object).shape)\n",
    "for i in range(len(chunks[1][1])):\n",
    "    print(len(chunks[1][1][i]))"
   ],
   "outputs": [
    {
     "output_type": "stream",
     "name": "stdout",
     "text": [
      "(22, 2)\n",
      "3000\n"
     ]
    }
   ],
   "metadata": {}
  },
  {
   "cell_type": "code",
   "execution_count": 442,
   "source": [
    "print(\"hi\"+str(1))"
   ],
   "outputs": [
    {
     "output_type": "stream",
     "name": "stdout",
     "text": [
      "hi1\n"
     ]
    }
   ],
   "metadata": {}
  },
  {
   "cell_type": "code",
   "execution_count": 502,
   "source": [
    "from scipy import stats\n",
    "temporal_data = []\n",
    "for i in range(len(chunks)):\n",
    "# for i in range(1):\n",
    "    chunck_range = []\n",
    "    predict = []\n",
    "    certianty = []\n",
    "\n",
    "    point = chunks[i][0]\n",
    "    chuck_data = chunks[i][1]\n",
    "    print(\"\\nPoint: (\"+ str(point) + \", \" + str(len(chuck_data))+\")\")\n",
    "\n",
    "    for j in range(len(chuck_data)):\n",
    "        first = chunks[i][1][j][0]\n",
    "        last = chunks[i][1][j][-1]\n",
    "        range_output = []\n",
    "\n",
    "        if first is not last:\n",
    "            range_output = [point, first, last]\n",
    "        else:\n",
    "            range_output = [point, first, first]\n",
    "        chunck_range.append(range_output)\n",
    "        chunk_length = last-first+1\n",
    "\n",
    "        temp_pred = []\n",
    "        temp_certianty = []\n",
    "        for k in (range(first, (last+1))): \n",
    "            processed_data = presplit_process[i][k]\n",
    "            model_pred = skeleton_model.predict(processed_data.reshape(1, 39))\n",
    "            if len(temp_pred) == 0: \n",
    "                temp_pred = model_pred[0]\n",
    "            else:\n",
    "                temp_pred += model_pred[0]\n",
    "            temp_certianty.append(model_pred.argmax())\n",
    "        \n",
    "        temp_pred = np.array(temp_pred)\n",
    "        temp_certianty = np.array(temp_certianty)\n",
    "        \n",
    "        mode = stats.mode(temp_certianty, axis = 0)\n",
    "        mode_pred = mode[0].flatten()[0]\n",
    "        mode_count = mode[1].flatten()[0]\n",
    "        mode_conf = mode_count/chunk_length\n",
    "\n",
    "        certianty_pred = temp_pred.argmax()\n",
    "        certianty_conf = temp_pred.max()/chunk_length\n",
    "        certianty_count = (temp_certianty == certianty_pred).sum()\n",
    "\n",
    "        predict.append([mode_pred, mode_conf, mode_count, chunk_length])\n",
    "        certianty.append([certianty_pred, certianty_conf, certianty_count, chunk_length])\n",
    "\n",
    "        print(str(j) + \") (\" + str(mode_pred) + \", \" + str(certianty_pred) + \") ( [\" + str(mode_count) + \", \" + str(certianty_count) + \"] /\", chunk_length, \")\", end = \" \")\n",
    "        if (mode_pred == certianty_pred):\n",
    "            print(\"Yay\")\n",
    "        else:\n",
    "            print(\"Conflict\")\n",
    "\n",
    "    temporal_data.append([point, chunck_range, predict, certianty])"
   ],
   "outputs": [
    {
     "output_type": "stream",
     "name": "stdout",
     "text": [
      "\n",
      "Point: (0, 1)\n",
      "0) (2, 2) ( [2517, 2517] / 3000 ) Yay\n",
      "\n",
      "Point: (1, 1)\n",
      "0) (1, 1) ( [3000, 3000] / 3000 ) Yay\n",
      "\n",
      "Point: (2, 1)\n",
      "0) (0, 0) ( [2019, 2019] / 3000 ) Yay\n",
      "\n",
      "Point: (3, 1)\n",
      "0) (4, 4) ( [2908, 2908] / 3000 ) Yay\n",
      "\n",
      "Point: (4, 1)\n",
      "0) (5, 5) ( [2877, 2877] / 3000 ) Yay\n",
      "\n",
      "Point: (5, 1)\n",
      "0) (7, 5) ( [1535, 1390] / 3000 ) Conflict\n",
      "\n",
      "Point: (6, 1)\n",
      "0) (5, 5) ( [2890, 2890] / 3000 ) Yay\n",
      "\n",
      "Point: (7, 11)\n",
      "0) (15, 15) ( [188, 188] / 191 ) Yay\n",
      "1) (15, 15) ( [23, 23] / 23 ) Yay\n",
      "2) (15, 15) ( [115, 115] / 129 ) Yay\n",
      "3) (15, 15) ( [569, 569] / 1087 ) Yay\n",
      "4) (11, 11) ( [12, 12] / 12 ) Yay\n",
      "5) (11, 11) ( [15, 15] / 15 ) Yay\n",
      "6) (14, 14) ( [1, 1] / 1 ) Yay\n",
      "7) (15, 15) ( [4, 4] / 4 ) Yay\n",
      "8) (15, 15) ( [2, 2] / 2 ) Yay\n",
      "9) (15, 15) ( [28, 28] / 28 ) Yay\n",
      "10) (10, 11) ( [3, 2] / 6 ) Conflict\n",
      "\n",
      "Point: (8, 1)\n",
      "0) (17, 17) ( [2265, 2265] / 3000 ) Yay\n",
      "\n",
      "Point: (9, 1)\n",
      "0) (16, 16) ( [2729, 2729] / 3000 ) Yay\n",
      "\n",
      "Point: (10, 1)\n",
      "0) (7, 7) ( [1986, 1986] / 3000 ) Yay\n",
      "\n",
      "Point: (11, 12)\n",
      "0) (15, 15) ( [45, 45] / 45 ) Yay\n",
      "1) (15, 15) ( [13, 13] / 13 ) Yay\n",
      "2) (15, 15) ( [12, 12] / 12 ) Yay\n",
      "3) (15, 15) ( [5, 5] / 5 ) Yay\n",
      "4) (15, 15) ( [1, 1] / 1 ) Yay\n",
      "5) (15, 15) ( [1, 1] / 1 ) Yay\n",
      "6) (15, 15) ( [1, 1] / 1 ) Yay\n",
      "7) (16, 16) ( [1, 1] / 1 ) Yay\n",
      "8) (15, 15) ( [12, 12] / 12 ) Yay\n",
      "9) (19, 10) ( [16, 0] / 26 ) Conflict\n",
      "10) (18, 18) ( [154, 154] / 245 ) Yay\n",
      "11) (19, 19) ( [71, 71] / 137 ) Yay\n",
      "\n",
      "Point: (12, 1)\n",
      "0) (3, 3) ( [1940, 1940] / 3000 ) Yay\n",
      "\n",
      "Point: (13, 7)\n",
      "0) (13, 13) ( [745, 745] / 765 ) Yay\n",
      "1) (13, 13) ( [3, 3] / 3 ) Yay\n",
      "2) (13, 13) ( [15, 15] / 15 ) Yay\n",
      "3) (13, 13) ( [12, 12] / 12 ) Yay\n",
      "4) (13, 13) ( [5, 5] / 5 ) Yay\n",
      "5) (13, 13) ( [12, 12] / 12 ) Yay\n",
      "6) (13, 13) ( [1276, 1276] / 1547 ) Yay\n",
      "\n",
      "Point: (14, 1)\n",
      "0) (8, 8) ( [2848, 2848] / 3000 ) Yay\n",
      "\n",
      "Point: (15, 27)\n",
      "0) (10, 10) ( [2137, 2137] / 2321 ) Yay\n",
      "1) (5, 5) ( [2, 2] / 2 ) Yay\n",
      "2) (5, 5) ( [2, 2] / 2 ) Yay\n",
      "3) (5, 5) ( [3, 3] / 3 ) Yay\n",
      "4) (5, 5) ( [3, 3] / 3 ) Yay\n",
      "5) (5, 5) ( [1, 1] / 1 ) Yay\n",
      "6) (5, 5) ( [1, 1] / 1 ) Yay\n",
      "7) (5, 5) ( [1, 1] / 1 ) Yay\n",
      "8) (5, 5) ( [1, 1] / 1 ) Yay\n",
      "9) (5, 5) ( [1, 1] / 1 ) Yay\n",
      "10) (5, 5) ( [2, 2] / 2 ) Yay\n",
      "11) (11, 11) ( [1, 1] / 1 ) Yay\n",
      "12) (5, 5) ( [2, 2] / 2 ) Yay\n",
      "13) (5, 5) ( [2, 2] / 2 ) Yay\n",
      "14) (5, 5) ( [1, 1] / 1 ) Yay\n",
      "15) (5, 5) ( [4, 4] / 4 ) Yay\n",
      "16) (5, 5) ( [5, 5] / 5 ) Yay\n",
      "17) (5, 5) ( [1, 1] / 1 ) Yay\n",
      "18) (5, 5) ( [4, 4] / 4 ) Yay\n",
      "19) (5, 5) ( [1, 1] / 1 ) Yay\n",
      "20) (5, 5) ( [3, 3] / 3 ) Yay\n",
      "21) (5, 5) ( [1, 1] / 1 ) Yay\n",
      "22) (5, 5) ( [1, 1] / 1 ) Yay\n",
      "23) (5, 5) ( [1, 1] / 1 ) Yay\n",
      "24) (5, 5) ( [4, 4] / 4 ) Yay\n",
      "25) (5, 5) ( [2, 2] / 2 ) Yay\n",
      "26) (5, 5) ( [1, 1] / 1 ) Yay\n",
      "\n",
      "Point: (16, 9)\n",
      "0) (15, 15) ( [25, 25] / 25 ) Yay\n",
      "1) (15, 15) ( [13, 13] / 13 ) Yay\n",
      "2) (15, 15) ( [4, 4] / 4 ) Yay\n",
      "3) (15, 15) ( [215, 215] / 215 ) Yay\n",
      "4) (15, 15) ( [36, 36] / 36 ) Yay\n",
      "5) (15, 15) ( [7, 7] / 7 ) Yay\n",
      "6) (15, 15) ( [5, 5] / 5 ) Yay\n",
      "7) (15, 15) ( [1978, 1978] / 2535 ) Yay\n",
      "8) (15, 15) ( [86, 86] / 135 ) Yay\n",
      "\n",
      "Point: (17, 34)\n",
      "0) (3, 3) ( [2, 2] / 2 ) Yay\n",
      "1) (11, 11) ( [4, 4] / 4 ) Yay\n",
      "2) (11, 11) ( [1, 1] / 1 ) Yay\n",
      "3) (11, 11) ( [1, 1] / 1 ) Yay\n",
      "4) (11, 11) ( [2, 2] / 2 ) Yay\n",
      "5) (11, 11) ( [1, 1] / 1 ) Yay\n",
      "6) (3, 3) ( [1, 1] / 1 ) Yay\n",
      "7) (3, 3) ( [2, 2] / 2 ) Yay\n",
      "8) (12, 12) ( [722, 722] / 859 ) Yay\n",
      "9) (13, 13) ( [3, 3] / 3 ) Yay\n",
      "10) (13, 13) ( [5, 5] / 5 ) Yay\n",
      "11) (13, 13) ( [9, 9] / 9 ) Yay\n",
      "12) (13, 13) ( [7, 7] / 7 ) Yay\n",
      "13) (13, 13) ( [1, 1] / 1 ) Yay\n",
      "14) (13, 13) ( [1, 1] / 1 ) Yay\n",
      "15) (3, 13) ( [14, 10] / 24 ) Conflict\n",
      "16) (3, 13) ( [8, 1] / 9 ) Conflict\n",
      "17) (3, 3) ( [4, 4] / 4 ) Yay\n",
      "18) (3, 3) ( [3, 3] / 3 ) Yay\n",
      "19) (3, 3) ( [4, 4] / 4 ) Yay\n",
      "20) (3, 3) ( [5, 5] / 5 ) Yay\n",
      "21) (3, 3) ( [2, 2] / 2 ) Yay\n",
      "22) (3, 3) ( [15, 15] / 15 ) Yay\n",
      "23) (3, 3) ( [8, 8] / 8 ) Yay\n",
      "24) (3, 3) ( [1, 1] / 1 ) Yay\n",
      "25) (3, 3) ( [1, 1] / 1 ) Yay\n",
      "26) (3, 3) ( [2, 2] / 2 ) Yay\n",
      "27) (10, 10) ( [1, 1] / 1 ) Yay\n",
      "28) (11, 11) ( [1, 1] / 1 ) Yay\n",
      "29) (10, 11) ( [5, 5] / 12 ) Conflict\n",
      "30) (10, 10) ( [1, 1] / 1 ) Yay\n",
      "31) (10, 10) ( [1, 1] / 1 ) Yay\n",
      "32) (10, 10) ( [1, 1] / 1 ) Yay\n",
      "33) (10, 10) ( [69, 69] / 92 ) Yay\n",
      "\n",
      "Point: (18, 26)\n",
      "0) (11, 11) ( [1, 1] / 1 ) Yay\n",
      "1) (11, 11) ( [4, 4] / 4 ) Yay\n",
      "2) (11, 11) ( [1, 1] / 1 ) Yay\n",
      "3) (11, 11) ( [1, 1] / 1 ) Yay\n",
      "4) (11, 11) ( [6, 6] / 6 ) Yay\n",
      "5) (11, 11) ( [1, 1] / 1 ) Yay\n",
      "6) (11, 11) ( [1, 1] / 1 ) Yay\n",
      "7) (11, 11) ( [1, 1] / 1 ) Yay\n",
      "8) (11, 11) ( [8, 8] / 8 ) Yay\n",
      "9) (11, 11) ( [1, 1] / 1 ) Yay\n",
      "10) (11, 11) ( [1, 1] / 1 ) Yay\n",
      "11) (11, 11) ( [1, 1] / 1 ) Yay\n",
      "12) (11, 11) ( [1431, 1431] / 1431 ) Yay\n",
      "13) (11, 11) ( [1, 1] / 1 ) Yay\n",
      "14) (11, 11) ( [1, 1] / 1 ) Yay\n",
      "15) (11, 11) ( [1, 1] / 1 ) Yay\n",
      "16) (15, 15) ( [3, 3] / 3 ) Yay\n",
      "17) (15, 15) ( [1, 1] / 1 ) Yay\n",
      "18) (11, 11) ( [8, 8] / 11 ) Yay\n",
      "19) (15, 15) ( [3, 3] / 3 ) Yay\n",
      "20) (15, 15) ( [4, 4] / 5 ) Yay\n",
      "21) (15, 15) ( [1, 1] / 1 ) Yay\n",
      "22) (15, 15) ( [9, 9] / 9 ) Yay\n",
      "23) (15, 15) ( [1, 1] / 1 ) Yay\n",
      "24) (15, 15) ( [37, 37] / 37 ) Yay\n",
      "25) (11, 11) ( [1, 1] / 2 ) Yay\n",
      "\n",
      "Point: (19, 18)\n",
      "0) (15, 15) ( [1, 1] / 1 ) Yay\n",
      "1) (15, 15) ( [1, 1] / 1 ) Yay\n",
      "2) (15, 15) ( [1, 1] / 1 ) Yay\n",
      "3) (3, 3) ( [3, 3] / 3 ) Yay\n",
      "4) (3, 3) ( [19, 19] / 19 ) Yay\n",
      "5) (11, 11) ( [1, 1] / 1 ) Yay\n",
      "6) (5, 5) ( [2, 2] / 2 ) Yay\n",
      "7) (11, 11) ( [3, 3] / 3 ) Yay\n",
      "8) (11, 11) ( [1, 1] / 1 ) Yay\n",
      "9) (5, 5) ( [1, 1] / 1 ) Yay\n",
      "10) (5, 5) ( [1, 1] / 1 ) Yay\n",
      "11) (5, 5) ( [6, 6] / 6 ) Yay\n",
      "12) (5, 11) ( [2, 2] / 4 ) Conflict\n",
      "13) (11, 11) ( [1, 1] / 1 ) Yay\n",
      "14) (11, 11) ( [1, 1] / 1 ) Yay\n",
      "15) (5, 5) ( [2, 2] / 2 ) Yay\n",
      "16) (11, 11) ( [1, 1] / 1 ) Yay\n",
      "17) (11, 11) ( [3, 3] / 5 ) Yay\n",
      "\n",
      "Point: (20, 12)\n",
      "0) (2, 2) ( [1, 1] / 1 ) Yay\n",
      "1) (2, 2) ( [1, 1] / 1 ) Yay\n",
      "2) (8, 8) ( [2, 2] / 2 ) Yay\n",
      "3) (1, 1) ( [1, 1] / 1 ) Yay\n",
      "4) (1, 1) ( [3, 3] / 3 ) Yay\n",
      "5) (1, 1) ( [1, 1] / 1 ) Yay\n",
      "6) (1, 1) ( [1, 1] / 1 ) Yay\n",
      "7) (1, 1) ( [2, 2] / 2 ) Yay\n",
      "8) (1, 1) ( [1, 1] / 1 ) Yay\n",
      "9) (1, 1) ( [5, 5] / 5 ) Yay\n",
      "10) (1, 1) ( [5, 5] / 5 ) Yay\n",
      "11) (1, 1) ( [1, 1] / 1 ) Yay\n",
      "\n",
      "Point: (21, 24)\n",
      "0) (0, 0) ( [5, 5] / 5 ) Yay\n",
      "1) (0, 0) ( [1, 1] / 1 ) Yay\n",
      "2) (0, 0) ( [4, 4] / 4 ) Yay\n",
      "3) (0, 0) ( [5, 5] / 5 ) Yay\n",
      "4) (0, 0) ( [2, 2] / 2 ) Yay\n",
      "5) (0, 0) ( [1, 1] / 1 ) Yay\n",
      "6) (0, 0) ( [1, 1] / 1 ) Yay\n",
      "7) (0, 0) ( [1, 1] / 2 ) Yay\n",
      "8) (0, 0) ( [6, 6] / 6 ) Yay\n",
      "9) (0, 0) ( [9, 9] / 9 ) Yay\n",
      "10) (0, 0) ( [1, 1] / 1 ) Yay\n",
      "11) (0, 0) ( [1, 1] / 1 ) Yay\n",
      "12) (0, 1) ( [13, 13] / 26 ) Conflict\n",
      "13) (1, 1) ( [3, 3] / 3 ) Yay\n",
      "14) (1, 1) ( [4, 4] / 6 ) Yay\n",
      "15) (1, 1) ( [1, 1] / 1 ) Yay\n",
      "16) (1, 1) ( [1, 1] / 1 ) Yay\n",
      "17) (1, 1) ( [3, 3] / 3 ) Yay\n",
      "18) (1, 1) ( [1, 1] / 1 ) Yay\n",
      "19) (1, 1) ( [1, 1] / 1 ) Yay\n",
      "20) (1, 1) ( [1, 1] / 1 ) Yay\n",
      "21) (1, 1) ( [1, 1] / 1 ) Yay\n",
      "22) (1, 1) ( [2, 2] / 2 ) Yay\n",
      "23) (10, 10) ( [82, 82] / 132 ) Yay\n"
     ]
    }
   ],
   "metadata": {}
  },
  {
   "cell_type": "code",
   "execution_count": 448,
   "source": [
    "for i in range(4): \n",
    "    print(temporal_data[7][i], \"\\n\")"
   ],
   "outputs": [
    {
     "output_type": "stream",
     "name": "stdout",
     "text": [
      "7 \n",
      "\n",
      "[[7, 0, 190], [7, 192, 214], [7, 216, 344], [7, 346, 1432], [7, 2231, 2242], [7, 2247, 2261], [7, 2282], [7, 2392, 2395], [7, 2397, 2398], [7, 2450, 2477], [7, 2859, 2864]] \n",
      "\n",
      "[[15, 0.9842931937172775, 188, 191], [15, 1.0, 23, 23], [15, 0.8914728682170543, 115, 129], [15, 0.5234590616375345, 569, 1087], [11, 1.0, 12, 12], [11, 1.0, 15, 15], [14, 1.0, 1, 1], [15, 1.0, 4, 4], [15, 1.0, 2, 2], [15, 1.0, 28, 28], [10, 0.5, 3, 6]] \n",
      "\n",
      "[[15, 0.8245362286792376, 188, 191], [15, 0.8126996081808339, 23, 23], [15, 0.772588567216267, 115, 129], [15, 0.5513905347106428, 569, 1087], [11, 0.7387017409006754, 12, 12], [11, 0.7627864837646484, 15, 15], [14, 0.7719788551330566, 1, 1], [15, 0.8472898006439209, 4, 4], [15, 0.9344401955604553, 2, 2], [15, 0.7398898260934013, 28, 28], [11, 0.34896183013916016, 2, 6]] \n",
      "\n"
     ]
    }
   ],
   "metadata": {}
  },
  {
   "cell_type": "code",
   "execution_count": 513,
   "source": [
    "temp_copy = temporal_data.copy()\n",
    "pred_data = np.array(temp_copy, dtype=object)\n",
    "chunk_data = []\n",
    "\n",
    "# print(pred_data[:,1][21])\n",
    "# print(pred_data[:,2][21])\n",
    "# print(pred_data[:,3][21])\n",
    "\n",
    "for i in range(20):\n",
    "    chunk_data.append([])\n",
    "\n",
    "for i in range(22):\n",
    "    index = pred_data[:,1][i]\n",
    "    # pred = pred_data[:,2][i] # mode\n",
    "    pred = pred_data[:,3][i] # certainty \n",
    "    for j in range(len(index)):\n",
    "        if len(index[j]) == 3:\n",
    "            length = index[j][2]-index[j][1] + 1\n",
    "        else:\n",
    "            length = 1\n",
    "        add_data = pred[j] + [length] + index[j]\n",
    "        chunk_data[add_data[0]].append(add_data)\n",
    "\n",
    "for i in range(len(chunk_data)):\n",
    "    print(i, len(chunk_data[i]))"
   ],
   "outputs": [
    {
     "output_type": "stream",
     "name": "stdout",
     "text": [
      "0 13\n",
      "1 21\n",
      "2 3\n",
      "3 16\n",
      "4 1\n",
      "5 33\n",
      "6 0\n",
      "7 1\n",
      "8 2\n",
      "9 0\n",
      "10 8\n",
      "11 37\n",
      "12 1\n",
      "13 15\n",
      "14 1\n",
      "15 35\n",
      "16 2\n",
      "17 1\n",
      "18 1\n",
      "19 1\n"
     ]
    }
   ],
   "metadata": {}
  },
  {
   "cell_type": "code",
   "execution_count": 504,
   "source": [
    "print(chunk_data[3])"
   ],
   "outputs": [
    {
     "output_type": "stream",
     "name": "stdout",
     "text": [
      "[[3, 0.5306800944010417, 1940, 3000, 3000, 12, 0, 2999], [3, 0.660064697265625, 2, 2, 2, 17, 102, 103], [3, 0.8709016442298889, 1, 1, 1, 17, 1136, 1136], [3, 0.8354716897010803, 2, 2, 2, 17, 1148, 1149], [3, 0.44531741738319397, 4, 4, 4, 17, 2359, 2362], [3, 0.4699004491170247, 3, 3, 3, 17, 2365, 2367], [3, 0.48637187480926514, 4, 4, 4, 17, 2377, 2380], [3, 0.46294326782226564, 5, 5, 5, 17, 2393, 2397], [3, 0.5199193954467773, 2, 2, 2, 17, 2399, 2400], [3, 0.5233662605285645, 15, 15, 15, 17, 2406, 2420], [3, 0.5213212370872498, 8, 8, 8, 17, 2422, 2429], [3, 0.5221855640411377, 1, 1, 1, 17, 2438, 2438], [3, 0.524651050567627, 1, 1, 1, 17, 2440, 2440], [3, 0.5175662040710449, 2, 2, 2, 17, 2446, 2447], [3, 0.9995989004770914, 3, 3, 3, 19, 1236, 1238], [3, 0.9999302311947471, 19, 19, 19, 19, 1335, 1353]]\n"
     ]
    }
   ],
   "metadata": {}
  },
  {
   "cell_type": "code",
   "execution_count": 615,
   "source": [
    "prepross = []\n",
    "# for i in range(len(chunk_data)): \n",
    "for i in range(20): \n",
    "    current = chunk_data[i]\n",
    "    sorted_current = sorted(current,key=lambda x: x[4])\n",
    "    numb_index = []\n",
    "    bounds = None\n",
    "    for j in reversed(range(len(sorted_current))):\n",
    "        input_index = sorted_current[j][5:8]\n",
    "        current_bounds = np.arange(input_index[1], input_index[2]+1)\n",
    "        if len(numb_index) == 0:\n",
    "            numb_index.append(input_index)\n",
    "            bounds = current_bounds.tolist()\n",
    "        else:\n",
    "            temp_curent = current_bounds.tolist()\n",
    "            # gets overlapping elements \n",
    "            same = list(set(temp_curent) & set(bounds))\n",
    "\n",
    "            # no overlapp between the two lists\n",
    "            if len(same) == 0:\n",
    "                numb_index.append(input_index)\n",
    "                bounds += temp_curent\n",
    "            else:\n",
    "                if temp_curent[0] in bounds and temp_curent[-1] in bounds:\n",
    "                    # print(\"Can't add index in range [\" + str(temp_curent[0]) + \", \" + str(temp_curent[-1]) + \"] to [\" + str(bounds[0])+ \", \" + str(bounds[-1]) + \"]\")\n",
    "                    break\n",
    "                \n",
    "                # just in case\n",
    "                \n",
    "                # lower bound is inside current bound\n",
    "                if temp_curent[0] in bounds:\n",
    "                    print(\"lower\", temp_curent[0], bounds[-1], temp_curent[0], temp_curent[-1])\n",
    "                    lower = bounds[-1]\n",
    "                    higher = temp_curent[-1]\n",
    "                    new_index = [input_index[0],lower, higher]\n",
    "                    new_bounds = np.arange(lower, higher+1).tolist()\n",
    "\n",
    "                    numb_index.append(new_index)\n",
    "                    bounds += new_bounds\n",
    "                # higher bound is inside current bound\n",
    "                elif temp_curent[-1] in bounds:\n",
    "                    print(\"upper\")\n",
    "                    lower = temp_curent[0]\n",
    "                    higher = bounds[0]\n",
    "                    new_index = [input_index[0],lower, higher]\n",
    "                    new_bounds = np.arange(lower, higher+1).tolist()\n",
    "\n",
    "                    numb_index.append(new_index)\n",
    "                    bounds += new_bounds\n",
    "        bounds = sorted(bounds)\n",
    "    prepross.append([i, numb_index, bounds])        \n",
    "\n",
    "    # print(i, numb_index)\n",
    "    # pic = np.zeros(3001)\n",
    "    # for j in range(len(numb_index)):\n",
    "    #     temp_range = np.arange(numb_index[j][1], numb_index[j][2]+1)\n",
    "    #     for k in temp_range:\n",
    "    #         pic[k] += 1\n",
    "    # plt.imshow([pic], interpolation='nearest', aspect=300)\n",
    "    # plt.show()\n",
    "    \n",
    " "
   ],
   "outputs": [],
   "metadata": {}
  }
 ],
 "metadata": {
  "interpreter": {
   "hash": "8de543a527d38bc21d309dfa8a60aed366b41867ed03b1c23b526625b89003b8"
  },
  "kernelspec": {
   "name": "python3",
   "display_name": "Python 3.8.5 64-bit ('base': conda)"
  },
  "language_info": {
   "codemirror_mode": {
    "name": "ipython",
    "version": 3
   },
   "file_extension": ".py",
   "mimetype": "text/x-python",
   "name": "python",
   "nbconvert_exporter": "python",
   "pygments_lexer": "ipython3",
   "version": "3.8.5"
  },
  "orig_nbformat": 4
 },
 "nbformat": 4,
 "nbformat_minor": 2
}