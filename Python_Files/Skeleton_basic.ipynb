{
 "cells": [
  {
   "cell_type": "code",
   "execution_count": 1,
   "source": [
    "import numpy as np\n",
    "import matplotlib.pyplot as plt\n",
    "from mpl_toolkits.mplot3d import Axes3D\n",
    "from scipy.io import loadmat\n",
    "import tensorflow as tf\n",
    "import random\n",
    "from tensorflow.keras.models import Sequential\n",
    "from tensorflow.keras.layers import Dense, Conv2D, Dropout, Flatten, MaxPooling2D, MaxPool2D, LeakyReLU"
   ],
   "outputs": [],
   "metadata": {}
  },
  {
   "cell_type": "code",
   "execution_count": 2,
   "source": [
    "joint_name = ['HeadF', 'HeadB', 'HeadL', 'SpineF', 'SpineM', 'SpineL', \n",
    "            'Offset1', 'Offset2', 'HipL', 'HipR', 'ElbowL', 'ArmL', \n",
    "            'ShoulderL', 'ShoulderR', 'ElbowR', 'ArmR', 'KneeR', \n",
    "            'KneeL', 'ShinL', 'ShinR']\n",
    "\n",
    "joints_idx = [[1, 2], [2, 3], [1, 3], [2, 4], [1, 4], [3, 4], [4, 5], \n",
    "            [5, 6], [4, 7], [7, 8], [5, 8], [5, 7], [6, 8], [6, 9], \n",
    "            [6, 10], [11, 12], [4, 13], [4, 14], [11, 13], [12, 13], \n",
    "            [14, 15], [14, 16], [15, 16], [9, 18], [10, 17], [18, 19], \n",
    "            [17, 20]]"
   ],
   "outputs": [],
   "metadata": {}
  },
  {
   "cell_type": "code",
   "execution_count": 3,
   "source": [
    "# Loading mat file and returning file\n",
    "def loadMatFile(fileName, key):\n",
    "    mat = loadmat(fileName)[key]\n",
    "    print(\"Loaded:\",fileName, key)\n",
    "    return mat"
   ],
   "outputs": [],
   "metadata": {}
  },
  {
   "cell_type": "code",
   "execution_count": 4,
   "source": [
    "# Plot 3D points given file and frame number\n",
    "def plotKnownOrder(matFile, numb):\n",
    "    mat = matFile[numb]\n",
    "    x = mat[0]\n",
    "    y = mat[1]\n",
    "    z = mat[2]\n",
    "\n",
    "    # loading plot\n",
    "    fig = plt.figure()\n",
    "    ax = fig.add_subplot(projection='3d')\n",
    "\n",
    "    # adding points, labels and lines\n",
    "    try:\n",
    "        ax.scatter(x,y,z, color='#ff5e5e', s =10, marker='x')\n",
    "    except:\n",
    "        pass\n",
    "    # addLabels(ax, x, y, z)\n",
    "    drawLines(ax, x, y, z)\n",
    "    drawAllLines(ax, x, y, z)\n",
    "\n",
    "    # Labeling plot\n",
    "    ax.set_title(\"Rat positioning\")\n",
    "    ax.set_xlabel(\"X axis\")\n",
    "    ax.set_ylabel(\"Y axis\")\n",
    "    ax.set_zlabel(\"Z axis\")\n",
    "    plt.show()\n",
    "\n",
    "# Draw major lines in the rat model\n",
    "def drawLines(ax,x, y, z):\n",
    "    # run through all the connections to draw the points\n",
    "    for i in range(len(joints_idx)):\n",
    "        try: \n",
    "            # Getting both points to draw line\n",
    "            idx = joints_idx[i]\n",
    "            x_line = [x[idx[0]-1], x[idx[1]-1]]\n",
    "            y_line = [y[idx[0]-1], y[idx[1]-1]]\n",
    "            z_line = [z[idx[0]-1], z[idx[1]-1]]\n",
    "            z_coord_1 = x[idx[0]-1], y[idx[0]-1], z[idx[0]-1]\n",
    "            z_coord_2 = x[idx[1]-1], y[idx[1]-1], z[idx[1]-1]\n",
    "\n",
    "            # Draw lines\n",
    "            if i < 3: \n",
    "                ax.plot(x_line, y_line, z_line, c=\"#064ea1\", linewidth=4)\n",
    "            elif i < 6:\n",
    "                ax.plot(x_line, y_line, z_line, c=\"#64ccd1\", linewidth=4)\n",
    "            else:\n",
    "                ax.plot(x_line, y_line, z_line, c=\"#46b8a7\", linewidth=4)\n",
    "        except:\n",
    "            pass\n",
    "\n",
    "# Draw all line from every point \n",
    "def drawAllLines(ax,x, y, z):\n",
    "    joint_len = len(joint_name)\n",
    "    all_lines = []\n",
    "    for i in range(joint_len):\n",
    "        for j in range(joint_len):\n",
    "            if (not([i,j] in all_lines)):\n",
    "                x_line = [x[i], x[j]]\n",
    "                y_line = [y[i], y[j]]\n",
    "                z_line = [z[i], z[j]]\n",
    "                ax.plot(x_line, y_line, z_line, color='#b1d8fc', linewidth=0.5)\n",
    "                all_lines.append([i,j])\n",
    "                all_lines.append([j,i])"
   ],
   "outputs": [],
   "metadata": {}
  },
  {
   "cell_type": "code",
   "execution_count": 5,
   "source": [
    "# normalizes a matrix\n",
    "def normalize(matrix):\n",
    "    max_numb = max(matrix[~np.isnan(matrix)])\n",
    "    norm = matrix/max_numb\n",
    "    return np.array(norm)"
   ],
   "outputs": [],
   "metadata": {}
  },
  {
   "cell_type": "code",
   "execution_count": 6,
   "source": [
    "from scipy.spatial.distance import cdist\n",
    "# Get the distance to every single point \n",
    "def getAllDistances(matFile, numb):\n",
    "    mat = matFile[numb]\n",
    "    mat = mat.T\n",
    "    dist = cdist(mat, mat, 'euclidean')\n",
    "    return normalize(dist)"
   ],
   "outputs": [],
   "metadata": {}
  },
  {
   "cell_type": "code",
   "execution_count": 7,
   "source": [
    "# Get the absolute height difference to every single point \n",
    "def getAllHeights(matFile, numb):\n",
    "    mat = matFile[numb]\n",
    "    z = mat[2]\n",
    "    height = []\n",
    "\n",
    "    for i in range(len(joint_name)):\n",
    "        for j in range(len(joint_name)):\n",
    "            if np.nan in [z[i], z[j]]:\n",
    "                height.append(np.nan)\n",
    "            else:\n",
    "                height.append(np.abs(z[i]-z[j]))\n",
    "\n",
    "    # normalizes height data\n",
    "    height = normalize(np.array(height).reshape(20,20))\n",
    "    return height\n"
   ],
   "outputs": [],
   "metadata": {}
  },
  {
   "cell_type": "code",
   "execution_count": 8,
   "source": [
    "# Get the angle to every single point \n",
    "def getAllAngles(matFile, numb):\n",
    "    mat = matFile[numb]\n",
    "    mat = mat.T\n",
    "    angle = cdist(mat, mat, 'cosine')\n",
    "    return normalize(angle)"
   ],
   "outputs": [],
   "metadata": {}
  },
  {
   "cell_type": "code",
   "execution_count": 9,
   "source": [
    "def addNans(raw):\n",
    "    raw_copy = np.array(raw.copy())\n",
    "\n",
    "    for i in range(raw_copy.shape[0]):\n",
    "        rand_numb = np.random.randint(0, 4)\n",
    "        rand_index = random.sample(range(3, 20), rand_numb)\n",
    "        for j in range(rand_numb):\n",
    "            raw_copy[i][:,rand_index[j]] = np.nan\n",
    "    return raw_copy\n"
   ],
   "outputs": [],
   "metadata": {}
  },
  {
   "cell_type": "code",
   "execution_count": 10,
   "source": [
    "def getData(data, numb): \n",
    "    cnn_inputs = []\n",
    "    for i in range(numb):\n",
    "        dist = getAllDistances(data, i) \n",
    "        height = getAllHeights(data, i)\n",
    "        angle = getAllAngles(data, i)\n",
    "        for j in range(0, len(joint_name)):\n",
    "            temp = np.array([dist[j], height[j], angle[j]])\n",
    "            first = temp[:,0:3]\n",
    "            second = temp[:,3:20]\n",
    "            first = first [ :, first[0].argsort()]\n",
    "            second = second [ :, second[0].argsort()]\n",
    "            output = np.concatenate((first, second), axis =1)\n",
    "            cnn_inputs.append(output)\n",
    "\n",
    "    # DIMENTION CHANGE\n",
    "    # cnn_inputs = np.array(cnn_inputs)[:,:,:13]\n",
    "    cnn_inputs = np.array(cnn_inputs)[:,:,:20]\n",
    "    # cnn_inputs = np.array(cnn_inputs).reshape((numb*20, 39))\n",
    "    cnn_inputs = np.array(cnn_inputs).reshape((numb*20, 60))\n",
    "    where_are_NaNs = np.isnan(cnn_inputs)\n",
    "    cnn_inputs[where_are_NaNs] = 0\n",
    "    return cnn_inputs\n"
   ],
   "outputs": [],
   "metadata": {}
  },
  {
   "cell_type": "code",
   "execution_count": 11,
   "source": [
    "# Creates the ML training platform to predict rat joints\n",
    "def ml_traning(train_data, train_labels, test_data, test_labels):\n",
    "    # DIMENTION CHANGE\n",
    "    # train_data = train_data.reshape(train_data.shape[0], 39)\n",
    "    # test_data = test_data.reshape(test_data.shape[0], 39)\n",
    "    train_data = train_data.reshape(train_data.shape[0], 60)\n",
    "    test_data = test_data.reshape(test_data.shape[0], 60)\n",
    "    train_data = train_data.astype('float32')\n",
    "    test_data = test_data.astype('float32')\n",
    "\n",
    "    model = createModel()\n",
    "    model.compile(optimizer='adam',loss='sparse_categorical_crossentropy', metrics=['accuracy'])\n",
    "    model.fit(x=train_data,y=train_labels, verbose='auto', batch_size=20, epochs=10)\n",
    "    \n",
    "    output = model.evaluate(test_data, test_labels)\n",
    "    print(\"Loss:\", output[0])\n",
    "    print(\"Accuracy:\", output[1]*100)\n",
    "    return model\n",
    "\n",
    "# Creates the model for the CNN\n",
    "def createModel():\n",
    "    model = Sequential()\n",
    "    # model.add(Dense(320, activation= LeakyReLU()))\n",
    "    # model.add(Dense(320, activation= LeakyReLU()))\n",
    "    # model.add(Dense(80, activation= LeakyReLU()))\n",
    "    model.add(Dense(40, activation= LeakyReLU()))\n",
    "    # model.add(Dropout(rate=0.25))\n",
    "    model.add(Dense(len(joint_name), activation = \"softmax\"))\n",
    "    return model"
   ],
   "outputs": [],
   "metadata": {}
  },
  {
   "cell_type": "code",
   "execution_count": 12,
   "source": [
    "train_numb = 500\n",
    "test_numb = 500\n",
    "mat_file = loadmat('markerSplit_1_shuffled.mat')"
   ],
   "outputs": [],
   "metadata": {}
  },
  {
   "cell_type": "code",
   "execution_count": 26,
   "source": [
    "data = mat_file['alteredM']\n",
    "labels = mat_file['labelsM']\n",
    "\n",
    "# mat_len = int(len(labels))\n",
    "# mat_half = int(mat_len/2)\n",
    "mat_len = 2000\n",
    "mat_half = 1000\n",
    "\n",
    "pre_train_data = addNans(data[0:mat_half])\n",
    "pre_test_data = addNans(data[(mat_half):mat_len])\n",
    "pre_train_labels = labels[0:mat_half]\n",
    "pre_test_labels = labels[(mat_half):mat_len]\n",
    "\n",
    "print(pre_train_data.shape)\n",
    "print(pre_test_data.shape)\n",
    "print(pre_train_labels.shape)\n",
    "print(pre_test_labels.shape)"
   ],
   "outputs": [
    {
     "output_type": "stream",
     "name": "stdout",
     "text": [
      "(1000, 3, 20)\n",
      "(1000, 3, 20)\n",
      "(1000, 20)\n",
      "(1000, 20)\n"
     ]
    }
   ],
   "metadata": {}
  },
  {
   "cell_type": "code",
   "execution_count": 27,
   "source": [
    "train_data = getData(pre_train_data, train_numb)\n",
    "test_data = getData(pre_test_data, test_numb)\n",
    "train_labels = pre_train_labels.flatten()[0:(train_numb*20)]-1\n",
    "test_labels = pre_test_labels.flatten()[0:(test_numb*20)]-1\n",
    "print(train_data.shape)\n",
    "print(test_data.shape)\n",
    "print(train_labels.shape)\n",
    "print(test_labels.shape)"
   ],
   "outputs": [
    {
     "output_type": "stream",
     "name": "stdout",
     "text": [
      "(10000, 60)\n",
      "(10000, 60)\n",
      "(10000,)\n",
      "(10000,)\n"
     ]
    }
   ],
   "metadata": {}
  },
  {
   "cell_type": "code",
   "execution_count": 28,
   "source": [
    "nans_train = np.sort(np.where(~train_data.any(axis=1))[0])[::-1]\n",
    "nans_test = np.sort(np.where(~test_data.any(axis=1))[0])[::-1]\n",
    "\n",
    "train_data_new = list(train_data)\n",
    "test_data_new = list(test_data)\n",
    "train_labels_new = list(train_labels)\n",
    "test_labels_new = list(test_labels)\n",
    "\n",
    "for i in nans_train:\n",
    "    train_data_new.pop(i)\n",
    "    train_labels_new.pop(i)\n",
    "for i in nans_test:\n",
    "    test_data_new.pop(i)\n",
    "    test_labels_new.pop(i)\n",
    "\n",
    "train_data_new = np.array(train_data_new)\n",
    "train_labels_new = np.array(train_labels_new)\n",
    "test_data_new = np.array(test_data_new)\n",
    "test_labels_new = np.array(test_labels_new)\n",
    "\n",
    "print(train_data_new.shape)\n",
    "print(train_labels_new.shape)\n",
    "print(test_data_new.shape)\n",
    "print(test_labels_new.shape)\n"
   ],
   "outputs": [
    {
     "output_type": "stream",
     "name": "stdout",
     "text": [
      "(8425, 60)\n",
      "(8425,)\n",
      "(8408, 60)\n",
      "(8408,)\n"
     ]
    }
   ],
   "metadata": {}
  },
  {
   "cell_type": "code",
   "execution_count": 29,
   "source": [
    "skeleton_model = ml_traning(train_data_new, train_labels_new, test_data_new, test_labels_new)"
   ],
   "outputs": [
    {
     "output_type": "stream",
     "name": "stdout",
     "text": [
      "Epoch 1/10\n",
      "422/422 [==============================] - 2s 3ms/step - loss: 2.0762 - accuracy: 0.4845\n",
      "Epoch 2/10\n",
      "422/422 [==============================] - 1s 3ms/step - loss: 0.7865 - accuracy: 0.9366\n",
      "Epoch 3/10\n",
      "422/422 [==============================] - 1s 3ms/step - loss: 0.3407 - accuracy: 0.9821\n",
      "Epoch 4/10\n",
      "422/422 [==============================] - 1s 3ms/step - loss: 0.1841 - accuracy: 0.9901\n",
      "Epoch 5/10\n",
      "422/422 [==============================] - 1s 3ms/step - loss: 0.1140 - accuracy: 0.9925\n",
      "Epoch 6/10\n",
      "422/422 [==============================] - 1s 2ms/step - loss: 0.0769 - accuracy: 0.9954\n",
      "Epoch 7/10\n",
      "422/422 [==============================] - 1s 3ms/step - loss: 0.0547 - accuracy: 0.9972\n",
      "Epoch 8/10\n",
      "422/422 [==============================] - 2s 4ms/step - loss: 0.0404 - accuracy: 0.9977\n",
      "Epoch 9/10\n",
      "422/422 [==============================] - 1s 3ms/step - loss: 0.0306 - accuracy: 0.9987\n",
      "Epoch 10/10\n",
      "422/422 [==============================] - 1s 3ms/step - loss: 0.0238 - accuracy: 0.9987\n",
      "263/263 [==============================] - 1s 3ms/step - loss: 0.0246 - accuracy: 0.9968\n",
      "Loss: 0.02462477795779705\n",
      "Accuracy: 99.67887997627258\n"
     ]
    }
   ],
   "metadata": {}
  },
  {
   "cell_type": "code",
   "execution_count": 30,
   "source": [
    "# Tests individual points and tells you if the CNN worked\n",
    "def handTest(image_index, test_data, label, model, maxNumb):\n",
    "    max_index = len(joint_name)*maxNumb-1\n",
    "    if image_index <= max_index:\n",
    "        predict(test_data, image_index, label, model)\n",
    "    else:\n",
    "        print(\"ERROR: Your predict_index must be below\", max_index)\n",
    "\n",
    "# Showing individual predictions\n",
    "def predict(data, image_index, label, model):\n",
    "    img = [data[image_index]]\n",
    "    # DIMENTION CHANGE\n",
    "    # img = np.array(img).reshape(3,13)\n",
    "    img = np.array(img).reshape(3,20)\n",
    "    plt.imshow(img)\n",
    "    plt.show()\n",
    "\n",
    "    # pred = model.predict(img.reshape(1, 39))\n",
    "    pred = model.predict(img.reshape(1, 60))\n",
    "    predict = pred.argmax()\n",
    "    actual = label[image_index]\n",
    "\n",
    "    print(\"Actual:\", actual)\n",
    "    print(\"Predicted:\", predict)\n",
    "    \n",
    "    if predict == actual:\n",
    "        print(\"YAY ✿(ᵔ‿ᵔ)\")\n",
    "    else:\n",
    "        print(\"Wrong (◕︵◕)\")\n",
    "\n",
    "    "
   ],
   "outputs": [],
   "metadata": {}
  },
  {
   "cell_type": "code",
   "execution_count": 35,
   "source": [
    "for i in range(420,440):\n",
    "    handTest(i, test_data, test_labels, skeleton_model, test_numb)"
   ],
   "outputs": [
    {
     "output_type": "display_data",
     "data": {
      "text/plain": [
       "<Figure size 432x288 with 1 Axes>"
      ],
      "image/png": "[encoded data removed]"
     },
     "metadata": {
      "needs_background": "light"
     }
    },
    {
     "output_type": "stream",
     "name": "stdout",
     "text": [
      "Actual: 0\n",
      "Predicted: 0\n",
      "YAY ✿(ᵔ‿ᵔ)\n"
     ]
    },
    {
     "output_type": "display_data",
     "data": {
      "text/plain": [
       "<Figure size 432x288 with 1 Axes>"
      ],
      "image/png": "[encoded data removed]"
     },
     "metadata": {
      "needs_background": "light"
     }
    },
    {
     "output_type": "stream",
     "name": "stdout",
     "text": [
      "Actual: 1\n",
      "Predicted: 1\n",
      "YAY ✿(ᵔ‿ᵔ)\n"
     ]
    },
    {
     "output_type": "display_data",
     "data": {
      "text/plain": [
       "<Figure size 432x288 with 1 Axes>"
      ],
      "image/png": "[encoded data removed]"
     },
     "metadata": {
      "needs_background": "light"
     }
    },
    {
     "output_type": "stream",
     "name": "stdout",
     "text": [
      "Actual: 2\n",
      "Predicted: 2\n",
      "YAY ✿(ᵔ‿ᵔ)\n"
     ]
    },
    {
     "output_type": "display_data",
     "data": {
      "text/plain": [
       "<Figure size 432x288 with 1 Axes>"
      ],
      "image/png": "[encoded data removed]"
     },
     "metadata": {
      "needs_background": "light"
     }
    },
    {
     "output_type": "stream",
     "name": "stdout",
     "text": [
      "Actual: 6\n",
      "Predicted: 6\n",
      "YAY ✿(ᵔ‿ᵔ)\n"
     ]
    },
    {
     "output_type": "display_data",
     "data": {
      "text/plain": [
       "<Figure size 432x288 with 1 Axes>"
      ],
      "image/png": "[encoded data removed]"
     },
     "metadata": {
      "needs_background": "light"
     }
    },
    {
     "output_type": "stream",
     "name": "stdout",
     "text": [
      "Actual: 3\n",
      "Predicted: 3\n",
      "YAY ✿(ᵔ‿ᵔ)\n"
     ]
    },
    {
     "output_type": "display_data",
     "data": {
      "text/plain": [
       "<Figure size 432x288 with 1 Axes>"
      ],
      "image/png": "[encoded data removed]"
     },
     "metadata": {
      "needs_background": "light"
     }
    },
    {
     "output_type": "stream",
     "name": "stdout",
     "text": [
      "Actual: 10\n",
      "Predicted: 10\n",
      "YAY ✿(ᵔ‿ᵔ)\n"
     ]
    },
    {
     "output_type": "display_data",
     "data": {
      "text/plain": [
       "<Figure size 432x288 with 1 Axes>"
      ],
      "image/png": "[encoded data removed]"
     },
     "metadata": {
      "needs_background": "light"
     }
    },
    {
     "output_type": "stream",
     "name": "stdout",
     "text": [
      "Actual: 19\n",
      "Predicted: 19\n",
      "YAY ✿(ᵔ‿ᵔ)\n"
     ]
    },
    {
     "output_type": "display_data",
     "data": {
      "text/plain": [
       "<Figure size 432x288 with 1 Axes>"
      ],
      "image/png": "[encoded data removed]"
     },
     "metadata": {
      "needs_background": "light"
     }
    },
    {
     "output_type": "stream",
     "name": "stdout",
     "text": [
      "Actual: 8\n",
      "Predicted: 8\n",
      "YAY ✿(ᵔ‿ᵔ)\n"
     ]
    },
    {
     "output_type": "display_data",
     "data": {
      "text/plain": [
       "<Figure size 432x288 with 1 Axes>"
      ],
      "image/png": "[encoded data removed]"
     },
     "metadata": {
      "needs_background": "light"
     }
    },
    {
     "output_type": "stream",
     "name": "stdout",
     "text": [
      "Actual: 12\n",
      "Predicted: 3\n",
      "Wrong (◕︵◕)\n"
     ]
    },
    {
     "output_type": "display_data",
     "data": {
      "text/plain": [
       "<Figure size 432x288 with 1 Axes>"
      ],
      "image/png": "[encoded data removed]"
     },
     "metadata": {
      "needs_background": "light"
     }
    },
    {
     "output_type": "stream",
     "name": "stdout",
     "text": [
      "Actual: 9\n",
      "Predicted: 9\n",
      "YAY ✿(ᵔ‿ᵔ)\n"
     ]
    },
    {
     "output_type": "display_data",
     "data": {
      "text/plain": [
       "<Figure size 432x288 with 1 Axes>"
      ],
      "image/png": "[encoded data removed]"
     },
     "metadata": {
      "needs_background": "light"
     }
    },
    {
     "output_type": "stream",
     "name": "stdout",
     "text": [
      "Actual: 16\n",
      "Predicted: 16\n",
      "YAY ✿(ᵔ‿ᵔ)\n"
     ]
    },
    {
     "output_type": "display_data",
     "data": {
      "text/plain": [
       "<Figure size 432x288 with 1 Axes>"
      ],
      "image/png": "[encoded data removed]"
     },
     "metadata": {
      "needs_background": "light"
     }
    },
    {
     "output_type": "stream",
     "name": "stdout",
     "text": [
      "Actual: 14\n",
      "Predicted: 14\n",
      "YAY ✿(ᵔ‿ᵔ)\n"
     ]
    },
    {
     "output_type": "display_data",
     "data": {
      "text/plain": [
       "<Figure size 432x288 with 1 Axes>"
      ],
      "image/png": "[encoded data removed]"
     },
     "metadata": {
      "needs_background": "light"
     }
    },
    {
     "output_type": "stream",
     "name": "stdout",
     "text": [
      "Actual: 4\n",
      "Predicted: 4\n",
      "YAY ✿(ᵔ‿ᵔ)\n"
     ]
    },
    {
     "output_type": "display_data",
     "data": {
      "text/plain": [
       "<Figure size 432x288 with 1 Axes>"
      ],
      "image/png": "[encoded data removed]"
     },
     "metadata": {
      "needs_background": "light"
     }
    },
    {
     "output_type": "stream",
     "name": "stdout",
     "text": [
      "Actual: 17\n",
      "Predicted: 17\n",
      "YAY ✿(ᵔ‿ᵔ)\n"
     ]
    },
    {
     "output_type": "display_data",
     "data": {
      "text/plain": [
       "<Figure size 432x288 with 1 Axes>"
      ],
      "image/png": "[encoded data removed]"
     },
     "metadata": {
      "needs_background": "light"
     }
    },
    {
     "output_type": "stream",
     "name": "stdout",
     "text": [
      "Actual: 18\n",
      "Predicted: 18\n",
      "YAY ✿(ᵔ‿ᵔ)\n"
     ]
    },
    {
     "output_type": "display_data",
     "data": {
      "text/plain": [
       "<Figure size 432x288 with 1 Axes>"
      ],
      "image/png": "[encoded data removed]"
     },
     "metadata": {
      "needs_background": "light"
     }
    },
    {
     "output_type": "stream",
     "name": "stdout",
     "text": [
      "Actual: 7\n",
      "Predicted: 3\n",
      "Wrong (◕︵◕)\n"
     ]
    },
    {
     "output_type": "display_data",
     "data": {
      "text/plain": [
       "<Figure size 432x288 with 1 Axes>"
      ],
      "image/png": "[encoded data removed]"
     },
     "metadata": {
      "needs_background": "light"
     }
    },
    {
     "output_type": "stream",
     "name": "stdout",
     "text": [
      "Actual: 5\n",
      "Predicted: 5\n",
      "YAY ✿(ᵔ‿ᵔ)\n"
     ]
    },
    {
     "output_type": "display_data",
     "data": {
      "text/plain": [
       "<Figure size 432x288 with 1 Axes>"
      ],
      "image/png": "[encoded data removed]"
     },
     "metadata": {
      "needs_background": "light"
     }
    },
    {
     "output_type": "stream",
     "name": "stdout",
     "text": [
      "Actual: 11\n",
      "Predicted: 11\n",
      "YAY ✿(ᵔ‿ᵔ)\n"
     ]
    },
    {
     "output_type": "display_data",
     "data": {
      "text/plain": [
       "<Figure size 432x288 with 1 Axes>"
      ],
      "image/png": "[encoded data removed]"
     },
     "metadata": {
      "needs_background": "light"
     }
    },
    {
     "output_type": "stream",
     "name": "stdout",
     "text": [
      "Actual: 15\n",
      "Predicted: 15\n",
      "YAY ✿(ᵔ‿ᵔ)\n"
     ]
    },
    {
     "output_type": "display_data",
     "data": {
      "text/plain": [
       "<Figure size 432x288 with 1 Axes>"
      ],
      "image/png": "[encoded data removed]"
     },
     "metadata": {
      "needs_background": "light"
     }
    },
    {
     "output_type": "stream",
     "name": "stdout",
     "text": [
      "Actual: 13\n",
      "Predicted: 13\n",
      "YAY ✿(ᵔ‿ᵔ)\n"
     ]
    }
   ],
   "metadata": {}
  },
  {
   "cell_type": "code",
   "execution_count": 32,
   "source": [
    "index = 1234\n",
    "frame = int(index/20)\n",
    "\n",
    "print(\"Train input\")\n",
    "plt.imshow(pre_train_data[frame].reshape(3,20))\n",
    "plt.show()\n",
    "# DIMENTION CHANGE\n",
    "# plt.imshow(train_data[index].reshape(3,13))\n",
    "plt.imshow(train_data[index].reshape(3,20))\n",
    "plt.show()\n",
    "\n",
    "print(\"Test input\")\n",
    "plt.imshow(pre_test_data[frame].reshape(3,20))\n",
    "plt.show()\n",
    "# plt.imshow(test_data[index].reshape(3,13))\n",
    "plt.imshow(test_data[index].reshape(3,20))\n",
    "plt.show()"
   ],
   "outputs": [
    {
     "output_type": "stream",
     "name": "stdout",
     "text": [
      "Train input\n"
     ]
    },
    {
     "output_type": "display_data",
     "data": {
      "text/plain": [
       "<Figure size 432x288 with 1 Axes>"
      ],
      "image/png": "[encoded data removed]"
     },
     "metadata": {
      "needs_background": "light"
     }
    },
    {
     "output_type": "display_data",
     "data": {
      "text/plain": [
       "<Figure size 432x288 with 1 Axes>"
      ],
      "image/png": "[encoded data removed]"
     },
     "metadata": {
      "needs_background": "light"
     }
    },
    {
     "output_type": "stream",
     "name": "stdout",
     "text": [
      "Test input\n"
     ]
    },
    {
     "output_type": "display_data",
     "data": {
      "text/plain": [
       "<Figure size 432x288 with 1 Axes>"
      ],
      "image/png": "[encoded data removed]"
     },
     "metadata": {
      "needs_background": "light"
     }
    },
    {
     "output_type": "display_data",
     "data": {
      "text/plain": [
       "<Figure size 432x288 with 1 Axes>"
      ],
      "image/png": "[encoded data removed]"
     },
     "metadata": {
      "needs_background": "light"
     }
    }
   ],
   "metadata": {}
  }
 ],
 "metadata": {
  "interpreter": {
   "hash": "8de543a527d38bc21d309dfa8a60aed366b41867ed03b1c23b526625b89003b8"
  },
  "kernelspec": {
   "display_name": "Python 3.8.5 64-bit ('base': conda)",
   "name": "python3"
  },
  "language_info": {
   "codemirror_mode": {
    "name": "ipython",
    "version": 3
   },
   "file_extension": ".py",
   "mimetype": "text/x-python",
   "name": "python",
   "nbconvert_exporter": "python",
   "pygments_lexer": "ipython3",
   "version": "3.8.5"
  },
  "orig_nbformat": 4
 },
 "nbformat": 4,
 "nbformat_minor": 2
}