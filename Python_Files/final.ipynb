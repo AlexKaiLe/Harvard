{
 "cells": [
  {
   "cell_type": "code",
   "execution_count": 1,
   "source": [
    "import numpy as np\n",
    "import matplotlib.pyplot as plt\n",
    "from mpl_toolkits.mplot3d import Axes3D\n",
    "from scipy.io import loadmat\n",
    "import tensorflow as tf\n",
    "import random\n",
    "import progressbar\n",
    "from tensorflow.keras.models import Sequential\n",
    "from tensorflow.keras.layers import Dense, LeakyReLU"
   ],
   "outputs": [],
   "metadata": {}
  },
  {
   "cell_type": "code",
   "execution_count": 2,
   "source": [
    "joint_name = ['HeadF', 'HeadB', 'HeadL', 'SpineF', 'SpineM', 'SpineL', \n",
    "            'Offset1', 'Offset2', 'HipL', 'HipR', 'ElbowL', 'ArmL', \n",
    "            'ShoulderL', 'ShoulderR', 'ElbowR', 'ArmR', 'KneeR', \n",
    "            'KneeL', 'ShinL', 'ShinR']\n",
    "\n",
    "joints_idx = [[1, 2], [2, 3], [1, 3], [2, 4], [1, 4], [3, 4], [4, 5], \n",
    "            [5, 6], [4, 7], [7, 8], [5, 8], [5, 7], [6, 8], [6, 9], \n",
    "            [6, 10], [11, 12], [4, 13], [4, 14], [11, 13], [12, 13], \n",
    "            [14, 15], [14, 16], [15, 16], [9, 18], [10, 17], [18, 19], \n",
    "            [17, 20]]"
   ],
   "outputs": [],
   "metadata": {}
  },
  {
   "cell_type": "code",
   "execution_count": 3,
   "source": [
    "# normalizes a matrix\n",
    "def normalize(matrix):\n",
    "    max_numb = max(matrix[~np.isnan(matrix)])\n",
    "    norm = matrix/max_numb\n",
    "    return np.array(norm)\n",
    "    # return matrix"
   ],
   "outputs": [],
   "metadata": {}
  },
  {
   "cell_type": "code",
   "execution_count": 4,
   "source": [
    "from scipy.spatial.distance import cdist\n",
    "# Get the distance to every single point \n",
    "def getAllDistances(matFile, numb):\n",
    "    mat = matFile[numb]\n",
    "    mat = mat.T\n",
    "    dist = cdist(mat, mat, 'euclidean')\n",
    "    return normalize(dist)"
   ],
   "outputs": [],
   "metadata": {}
  },
  {
   "cell_type": "code",
   "execution_count": 5,
   "source": [
    "# Get the absolute height difference to every single point \n",
    "def getAllHeights(matFile, numb):\n",
    "    mat = matFile[numb]\n",
    "    z = mat[2]\n",
    "    reshaped = int(matFile.shape[2])\n",
    "    height = []\n",
    "\n",
    "    for i in range(reshaped):\n",
    "        for j in range(reshaped):\n",
    "            if np.nan in [z[i], z[j]]:\n",
    "                height.append(np.nan)\n",
    "            else:\n",
    "                height.append(np.abs(z[i]-z[j]))\n",
    "\n",
    "    # normalizes height data\n",
    "    height = normalize(np.array(height).reshape(reshaped, reshaped))\n",
    "    return height\n"
   ],
   "outputs": [],
   "metadata": {}
  },
  {
   "cell_type": "code",
   "execution_count": 6,
   "source": [
    "# Get the angle to every single point \n",
    "def getAllAngles(matFile, numb):\n",
    "    mat = matFile[numb]\n",
    "    mat = mat.T\n",
    "    angle = cdist(mat, mat, 'cosine')\n",
    "    return normalize(angle)"
   ],
   "outputs": [],
   "metadata": {}
  },
  {
   "cell_type": "code",
   "execution_count": 7,
   "source": [
    "def addNans(raw):\n",
    "    raw_copy = np.array(raw.copy())\n",
    "\n",
    "    for i in range(raw_copy.shape[0]):\n",
    "        rand_numb = np.random.randint(0, 4)\n",
    "        rand_index = random.sample(range(3, 20), rand_numb)\n",
    "        for j in range(rand_numb):\n",
    "            raw_copy[i][:,rand_index[j]] = np.nan\n",
    "    return raw_copy\n"
   ],
   "outputs": [],
   "metadata": {}
  },
  {
   "cell_type": "code",
   "execution_count": 8,
   "source": [
    "def getData(data, numb): \n",
    "    cnn_inputs = []\n",
    "    bar = progressbar.ProgressBar()\n",
    "\n",
    "    for i in bar(range(numb)):\n",
    "        dist = getAllDistances(data, i) \n",
    "        height = getAllHeights(data, i)\n",
    "        angle = getAllAngles(data, i)\n",
    "        for j in range(0, data.shape[2]):\n",
    "            temp = np.array([dist[j], height[j], angle[j]])\n",
    "            first = temp[:,0:3]\n",
    "            second = temp[:,3:20]\n",
    "            first = first [ :, first[0].argsort()]\n",
    "            second = second [ :, second[0].argsort()]\n",
    "            output = np.concatenate((first, second), axis =1)\n",
    "            cnn_inputs.append(output)\n",
    "\n",
    "    # DIMENTION CHANGE\n",
    "    cnn_inputs = np.array(cnn_inputs)[:,:,:13]\n",
    "    # cnn_inputs = np.array(cnn_inputs)[:,:,:20]\n",
    "    cnn_inputs = np.array(cnn_inputs).reshape((cnn_inputs.shape[0], 39))\n",
    "    # cnn_inputs = np.array(cnn_inputs).reshape((numb*data.shape[2], 60))\n",
    "    where_are_NaNs = np.isnan(cnn_inputs)\n",
    "    cnn_inputs[where_are_NaNs] = 0\n",
    "    return cnn_inputs\n"
   ],
   "outputs": [],
   "metadata": {}
  },
  {
   "cell_type": "code",
   "execution_count": 9,
   "source": [
    "train_file = loadmat('mat_files/bigSet1.mat')\n",
    "test_file = loadmat('mat_files/bigSet2.mat')"
   ],
   "outputs": [],
   "metadata": {}
  },
  {
   "cell_type": "code",
   "execution_count": 10,
   "source": [
    "train_data = train_file['bigSet1']\n",
    "test_data = test_file['bigSet2']\n",
    "train_labels = train_file['labels1']\n",
    "test_labels = test_file['labels2']\n",
    "# set numb of data used\n",
    "numb_train = len(train_data)\n",
    "numb_test = 1000\n",
    "\n",
    "# Take some frames from the list to use as trian and test data\n",
    "index_train = np.linspace(0, len(train_labels), num = numb_train, endpoint=False).astype(int)\n",
    "index_test = np.linspace(0, len(test_labels), num = numb_test, endpoint=False).astype(int)\n",
    "# pre_train_data = train_data[index_train]\n",
    "# pre_train_labels = train_labels[index_train]\n",
    "pre_train_data = train_data\n",
    "pre_train_labels = train_labels\n",
    "pre_test_data = test_data[index_test]\n",
    "pre_test_labels = test_labels[index_test]\n",
    "\n",
    "print(\"Shape of pre_train_data:\", pre_train_data.shape)\n",
    "print(\"Shape of pre_test_data:\", pre_test_data.shape)\n",
    "print(\"Shape of pre_train_labels:\", pre_train_labels.shape)\n",
    "print(\"Shape of pre_test_labels:\", pre_test_labels.shape)\n"
   ],
   "outputs": [
    {
     "output_type": "stream",
     "name": "stdout",
     "text": [
      "Shape of pre_train_data: (221147, 3, 20)\n",
      "Shape of pre_test_data: (1000, 3, 20)\n",
      "Shape of pre_train_labels: (221147, 20)\n",
      "Shape of pre_test_labels: (1000, 20)\n"
     ]
    }
   ],
   "metadata": {}
  },
  {
   "cell_type": "code",
   "execution_count": 11,
   "source": [
    "# Get measurement data for every 3D point\n",
    "train_data = getData(pre_train_data, numb_train)\n",
    "test_data = getData(pre_test_data, numb_test)\n",
    "\n",
    "# Flatten the trian labels to fit dimentions of data\n",
    "train_labels = pre_train_labels.flatten()[0:(numb_train*20)]-1\n",
    "test_labels = pre_test_labels.flatten()[0:(numb_test*20)]-1\n",
    "\n",
    "print(\"Shape of train_data:\", train_data.shape)\n",
    "print(\"Shape of test_data:\", test_data.shape)\n",
    "print(\"Shape of train_labels:\", train_labels.shape)\n",
    "print(\"Shape of test_labels:\", test_labels.shape)"
   ],
   "outputs": [
    {
     "output_type": "stream",
     "name": "stderr",
     "text": [
      "100% (221147 of 221147) |################| Elapsed Time: 0:08:01 Time:  0:08:01\n",
      "100% (1000 of 1000) |####################| Elapsed Time: 0:00:01 Time:  0:00:01\n"
     ]
    },
    {
     "output_type": "stream",
     "name": "stdout",
     "text": [
      "Shape of train_data: (4422940, 39)\n",
      "Shape of test_data: (20000, 39)\n",
      "Shape of train_labels: (4422940,)\n",
      "Shape of test_labels: (20000,)\n"
     ]
    }
   ],
   "metadata": {}
  },
  {
   "cell_type": "code",
   "execution_count": 12,
   "source": [
    "# Get index where the data is all 0\n",
    "nans_train = np.sort(np.where(~train_data.any(axis=1))[0])[::-1]\n",
    "nans_test = np.sort(np.where(~test_data.any(axis=1))[0])[::-1]\n",
    "\n",
    "# Turn data into lists\n",
    "train_data_new = list(train_data)\n",
    "test_data_new = list(test_data)\n",
    "train_labels_new = list(train_labels)\n",
    "test_labels_new = list(test_labels)\n",
    "\n",
    "bar = progressbar.ProgressBar()\n",
    "# Remove the nan values \n",
    "for i in bar(nans_train):\n",
    "    train_data_new.pop(i)\n",
    "    train_labels_new.pop(i)\n",
    "bar = progressbar.ProgressBar()\n",
    "for i in bar(nans_test):\n",
    "    test_data_new.pop(i)\n",
    "    test_labels_new.pop(i)\n",
    "\n",
    "# Turn data back into array\n",
    "train_data_new = np.array(train_data_new)\n",
    "train_labels_new = np.array(train_labels_new)\n",
    "test_data_new = np.array(test_data_new)\n",
    "test_labels_new = np.array(test_labels_new)\n",
    "\n",
    "print(\"Shape of train_data_new:\", train_data_new.shape)\n",
    "print(\"Shape of test_data_new:\", test_data_new.shape)\n",
    "print(\"Shape of train_labels_new:\", train_labels_new.shape)\n",
    "print(\"Shape of test_labels_new:\", test_labels_new.shape)"
   ],
   "outputs": [
    {
     "output_type": "stream",
     "name": "stderr",
     "text": [
      "100% (397563 of 397563) |################| Elapsed Time: 0:26:36 Time:  0:26:36\n",
      "100% (1741 of 1741) |####################| Elapsed Time: 0:00:00 Time:  0:00:00\n"
     ]
    },
    {
     "output_type": "stream",
     "name": "stdout",
     "text": [
      "Shape of train_data_new: (4025377, 39)\n",
      "Shape of test_data_new: (18259, 39)\n",
      "Shape of train_labels_new: (4025377,)\n",
      "Shape of test_labels_new: (18259,)\n"
     ]
    }
   ],
   "metadata": {}
  },
  {
   "cell_type": "code",
   "execution_count": 13,
   "source": [
    "# Creates the ML training platform to predict rat joints\n",
    "def ml_traning(train_data, train_labels, test_data, test_labels):\n",
    "    # DIMENTION CHANGE\n",
    "    train_data = train_data.reshape(train_data.shape[0], 39)\n",
    "    test_data = test_data.reshape(test_data.shape[0], 39)\n",
    "    # train_data = train_data.reshape(train_data.shape[0], 60)\n",
    "    # test_data = test_data.reshape(test_data.shape[0], 60)\n",
    "    train_data = train_data.astype('float32')\n",
    "    test_data = test_data.astype('float32')\n",
    "\n",
    "    model = createModel()\n",
    "    model.compile(optimizer='adam',loss='sparse_categorical_crossentropy', metrics=['accuracy'])\n",
    "    model.fit(x=train_data,y=train_labels, verbose='auto', batch_size=20, epochs=2)\n",
    "    \n",
    "    output = model.evaluate(test_data, test_labels)\n",
    "    print(\"Loss:\", output[0])\n",
    "    print(\"Accuracy:\", output[1]*100)\n",
    "    return model\n",
    "\n",
    "# Creates the model for the CNN\n",
    "def createModel():\n",
    "    model = Sequential()\n",
    "    model.add(Dense(120, activation= LeakyReLU()))\n",
    "    model.add(Dense(320, activation= LeakyReLU()))\n",
    "    # model.add(Dropout(rate=0.25))\n",
    "    model.add(Dense(80, activation= LeakyReLU()))\n",
    "    # model.add(Dense(13, activation = \"softmax\"))\n",
    "    model.add(Dense(len(joint_name), activation = \"softmax\"))\n",
    "    return model"
   ],
   "outputs": [],
   "metadata": {}
  },
  {
   "cell_type": "code",
   "execution_count": 14,
   "source": [
    "skeleton_model = ml_traning(train_data_new, train_labels_new, test_data_new, test_labels_new)"
   ],
   "outputs": [
    {
     "output_type": "stream",
     "name": "stdout",
     "text": [
      "Epoch 1/2\n",
      "201269/201269 [==============================] - 508s 3ms/step - loss: 0.5545 - accuracy: 0.8183\n",
      "Epoch 2/2\n",
      "201269/201269 [==============================] - 458s 2ms/step - loss: 0.3828 - accuracy: 0.8765\n",
      "571/571 [==============================] - 1s 1ms/step - loss: 0.6577 - accuracy: 0.8286\n",
      "Loss: 0.6576606631278992\n",
      "Accuracy: 82.86324739456177\n"
     ]
    }
   ],
   "metadata": {}
  },
  {
   "cell_type": "code",
   "execution_count": 15,
   "source": [
    "# Tests individual points and tells you if the CNN worked\n",
    "def handTest(image_index, test_data, label, model, maxNumb):\n",
    "    max_index = len(joint_name)*maxNumb-1\n",
    "    if image_index <= max_index:\n",
    "        predict(test_data, image_index, label, model)\n",
    "    else:\n",
    "        print(\"ERROR: Your predict_index must be below\", max_index)\n",
    "\n",
    "# Showing individual predictions\n",
    "def predict(data, image_index, label, model):\n",
    "    img = [data[image_index]]\n",
    "    # DIMENTION CHANGE\n",
    "    img = np.array(img).reshape(3,13)\n",
    "    # img = np.array(img).reshape(3,20)\n",
    "    plt.imshow(img)\n",
    "    plt.show()\n",
    "\n",
    "    pred = model.predict(img.reshape(1, 39))\n",
    "    # pred = model.predict(img.reshape(1, 60))\n",
    "    predict = pred.argmax()\n",
    "    actual = label[image_index]\n",
    "\n",
    "    print(\"Actual:\", actual)\n",
    "    print(\"Predicted:\", predict)\n",
    "    \n",
    "    if predict == actual:\n",
    "        print(\"YAY ✿(ᵔ‿ᵔ)\")\n",
    "    else:\n",
    "        print(\"Wrong (◕︵◕)\")\n",
    "\n",
    "    "
   ],
   "outputs": [],
   "metadata": {}
  },
  {
   "cell_type": "code",
   "execution_count": 16,
   "source": [
    "# temp = test_data[0].reshape(3,13)\n",
    "# print(temp)\n",
    "# plt.imshow(temp)"
   ],
   "outputs": [],
   "metadata": {}
  },
  {
   "cell_type": "code",
   "execution_count": 43,
   "source": [
    "for i in range(420,440):\n",
    "    handTest(i, test_data, test_labels, skeleton_model, numb_test)"
   ],
   "outputs": [
    {
     "output_type": "stream",
     "name": "stdout",
     "text": [
      "Actual: 0\n",
      "Predicted: 0\n",
      "YAY ✿(ᵔ‿ᵔ)\n",
      "Actual: 1\n",
      "Predicted: 1\n",
      "YAY ✿(ᵔ‿ᵔ)\n",
      "Actual: 2\n",
      "Predicted: 2\n",
      "YAY ✿(ᵔ‿ᵔ)\n",
      "Actual: 7\n",
      "Predicted: 7\n",
      "YAY ✿(ᵔ‿ᵔ)\n",
      "Actual: 5\n",
      "Predicted: 5\n",
      "YAY ✿(ᵔ‿ᵔ)\n",
      "Actual: 10\n",
      "Predicted: 11\n",
      "Wrong (◕︵◕)\n",
      "Actual: 11\n",
      "Predicted: 10\n",
      "Wrong (◕︵◕)\n",
      "Actual: 13\n",
      "Predicted: 10\n",
      "Wrong (◕︵◕)\n",
      "Actual: 19\n",
      "Predicted: 19\n",
      "YAY ✿(ᵔ‿ᵔ)\n",
      "Actual: 12\n",
      "Predicted: 12\n",
      "YAY ✿(ᵔ‿ᵔ)\n",
      "Actual: 14\n",
      "Predicted: 10\n",
      "Wrong (◕︵◕)\n",
      "Actual: 3\n",
      "Predicted: 3\n",
      "YAY ✿(ᵔ‿ᵔ)\n",
      "Actual: 6\n",
      "Predicted: 6\n",
      "YAY ✿(ᵔ‿ᵔ)\n",
      "Actual: 9\n",
      "Predicted: 9\n",
      "YAY ✿(ᵔ‿ᵔ)\n",
      "Actual: 17\n",
      "Predicted: 17\n",
      "YAY ✿(ᵔ‿ᵔ)\n",
      "Actual: 8\n",
      "Predicted: 10\n",
      "Wrong (◕︵◕)\n",
      "Actual: 15\n",
      "Predicted: 15\n",
      "YAY ✿(ᵔ‿ᵔ)\n",
      "Actual: 16\n",
      "Predicted: 19\n",
      "Wrong (◕︵◕)\n",
      "Actual: 4\n",
      "Predicted: 4\n",
      "YAY ✿(ᵔ‿ᵔ)\n",
      "Actual: 18\n",
      "Predicted: 18\n",
      "YAY ✿(ᵔ‿ᵔ)\n"
     ]
    }
   ],
   "metadata": {}
  },
  {
   "cell_type": "code",
   "execution_count": 18,
   "source": [
    "index = 1234\n",
    "frame = int(index/20)\n",
    "\n",
    "print(\"Train input\")\n",
    "plt.imshow(pre_train_data[frame].reshape(3,20))\n",
    "plt.show()\n",
    "# DIMENTION CHANGE\n",
    "plt.imshow(train_data[index].reshape(3,13))\n",
    "# plt.imshow(train_data[index].reshape(3,20))\n",
    "plt.show()\n",
    "\n",
    "print(\"Test input\")\n",
    "plt.imshow(pre_test_data[frame].reshape(3,20))\n",
    "plt.show()\n",
    "plt.imshow(test_data[index].reshape(3,13))\n",
    "# plt.imshow(test_data[index].reshape(3,20))\n",
    "plt.show()"
   ],
   "outputs": [
    {
     "output_type": "stream",
     "name": "stdout",
     "text": [
      "Train input\n"
     ]
    },
    {
     "output_type": "display_data",
     "data": {
      "text/plain": [
       "<Figure size 432x288 with 1 Axes>"
      ],
      "image/png": "[encoded data removed]"
     },
     "metadata": {
      "needs_background": "light"
     }
    },
    {
     "output_type": "display_data",
     "data": {
      "text/plain": [
       "<Figure size 432x288 with 1 Axes>"
      ],
      "image/png": "[encoded data removed]"
     },
     "metadata": {
      "needs_background": "light"
     }
    },
    {
     "output_type": "stream",
     "name": "stdout",
     "text": [
      "Test input\n"
     ]
    },
    {
     "output_type": "display_data",
     "data": {
      "text/plain": [
       "<Figure size 432x288 with 1 Axes>"
      ],
      "image/png": "[encoded data removed]"
     },
     "metadata": {
      "needs_background": "light"
     }
    },
    {
     "output_type": "display_data",
     "data": {
      "text/plain": [
       "<Figure size 432x288 with 1 Axes>"
      ],
      "image/png": "[encoded data removed]"
     },
     "metadata": {
      "needs_background": "light"
     }
    }
   ],
   "metadata": {}
  },
  {
   "cell_type": "code",
   "execution_count": 19,
   "source": [
    "temporal = loadmat('mat_files/test_temp.mat')"
   ],
   "outputs": [],
   "metadata": {}
  },
  {
   "cell_type": "code",
   "execution_count": 20,
   "source": [
    "time_pts = temporal['new_combed']\n",
    "num_fms = 3000\n",
    "num_pts = int(time_pts.shape[0]/3) #22\n",
    "test_pts = time_pts[:,:num_fms]\n",
    "\n",
    "plt.imshow(time_pts, interpolation='nearest', aspect=\"auto\")\n",
    "plt.show()\n",
    "plt.imshow(test_pts, interpolation='nearest', aspect=\"auto\")\n",
    "plt.show()"
   ],
   "outputs": [
    {
     "output_type": "display_data",
     "data": {
      "text/plain": [
       "<Figure size 432x288 with 1 Axes>"
      ],
      "image/png": "[encoded data removed]"
     },
     "metadata": {
      "needs_background": "light"
     }
    },
    {
     "output_type": "display_data",
     "data": {
      "text/plain": [
       "<Figure size 432x288 with 1 Axes>"
      ],
      "image/png": "[encoded data removed]"
     },
     "metadata": {
      "needs_background": "light"
     }
    }
   ],
   "metadata": {}
  },
  {
   "cell_type": "code",
   "execution_count": 21,
   "source": [
    "input_pts = test_pts.reshape(num_pts, 3, num_fms).T"
   ],
   "outputs": [],
   "metadata": {}
  },
  {
   "cell_type": "code",
   "execution_count": 22,
   "source": [
    "# check if input_pt is a valid way\n",
    "\n",
    "# test_index = 123\n",
    "# plt.imshow(test_pts[:,test_index].reshape((22,3)).T, interpolation='nearest', aspect=\"auto\")\n",
    "# plt.show()\n",
    "# plt.imshow(input_pts[test_index], interpolation='nearest', aspect=\"auto\")\n",
    "# plt.show()"
   ],
   "outputs": [],
   "metadata": {}
  },
  {
   "cell_type": "code",
   "execution_count": 23,
   "source": [
    "processed_time = getData(input_pts, len(input_pts))\n",
    "process_pts = processed_time.reshape(3000, 22, 39)"
   ],
   "outputs": [
    {
     "output_type": "stream",
     "name": "stderr",
     "text": [
      "100% (3000 of 3000) |####################| Elapsed Time: 0:00:06 Time:  0:00:06\n"
     ]
    }
   ],
   "metadata": {}
  },
  {
   "cell_type": "code",
   "execution_count": 24,
   "source": [
    "# Check if process_pts is valid\n",
    "\n",
    "# frame_index = 2999\n",
    "# pt = 2\n",
    "# plt.imshow(input_pts[frame_index].reshape(3,num_pts), interpolation='nearest', aspect=\"auto\")\n",
    "# plt.show()\n",
    "\n",
    "# plt.imshow(process_pts[frame_index], interpolation='nearest', aspect=\"auto\")\n",
    "# # plt.imshow([process_pts[frame_index][18]], interpolation='nearest', aspect=\"auto\")\n",
    "# plt.show()\n",
    "\n",
    "# temp = processed_time.reshape(3000, 22, 39)\n",
    "# presplit_process = np.transpose(temp,(1, 0, 2))\n",
    "\n",
    "# # plt.imshow([presplit_process[frame_index]], interpolation='nearest', aspect=\"auto\")\n",
    "# plt.imshow(presplit_process[:,frame_index], interpolation='nearest', aspect=\"auto\")\n",
    "# plt.show()"
   ],
   "outputs": [],
   "metadata": {}
  },
  {
   "cell_type": "code",
   "execution_count": 25,
   "source": [
    "chunks = []\n",
    "temp = np.ones((22,3000))\n",
    "bar = progressbar.ProgressBar()\n",
    "# run through all the registered points (0,22)\n",
    "for i in bar(range(num_pts)):\n",
    "    # get every third row\n",
    "    row = i*3\n",
    "    row_list = []\n",
    "    temp_list = []\n",
    "\n",
    "    # run through length of each row (0,3000)\n",
    "    for j in range(num_fms): \n",
    "        # not a nan, add index to list\n",
    "        if not np.isnan(test_pts[row][j]):\n",
    "            temp_list.append(j)\n",
    "            temp[i][j] = temp[i][j]*2\n",
    "        # if element is a nan and the current list is not empty\n",
    "        elif len(temp_list) > 0:\n",
    "            # add list to output and clear the list\n",
    "            row_list.append([temp_list[0], temp_list[-1]])\n",
    "            temp_list = []\n",
    "    # edge case, add to output if the list still contains values\n",
    "    if len(temp_list) > 0:\n",
    "        row_list.append([temp_list[0], temp_list[-1]])\n",
    "    chunks.append(row_list)"
   ],
   "outputs": [
    {
     "output_type": "stream",
     "name": "stderr",
     "text": [
      "100% (22 of 22) |########################| Elapsed Time: 0:00:00 Time:  0:00:00\n"
     ]
    }
   ],
   "metadata": {}
  },
  {
   "cell_type": "code",
   "execution_count": 26,
   "source": [
    "fig, (ax1, ax2) = plt.subplots(2)\n",
    "ax1.imshow(temp, interpolation='nearest', aspect=\"auto\")\n",
    "ax2.imshow(test_pts[::3], interpolation='nearest', aspect=\"auto\")"
   ],
   "outputs": [
    {
     "output_type": "execute_result",
     "data": {
      "text/plain": [
       "<matplotlib.image.AxesImage at 0x7ff9228fccd0>"
      ]
     },
     "metadata": {},
     "execution_count": 26
    },
    {
     "output_type": "display_data",
     "data": {
      "text/plain": [
       "<Figure size 432x288 with 2 Axes>"
      ],
      "image/png": "[encoded data removed]"
     },
     "metadata": {
      "needs_background": "light"
     }
    }
   ],
   "metadata": {}
  },
  {
   "cell_type": "code",
   "execution_count": 27,
   "source": [
    "# Check the chunk list\n",
    "chunks = np.array(chunks, dtype=list)\n",
    "# (0,21)\n",
    "for i in range(len(chunks)):\n",
    "    print(\"Point: \"+str(i) +\", Chunks: \" + str(len(chunks[i])))\n",
    "    # # length of chunk\n",
    "    # for j in range(len(chunks[i])):\n",
    "    #     begin = chunks[i][j][0]\n",
    "    #     end = chunks[i][j][-1]\n",
    "    #     print(\"        \" + str(end-begin+1)+ \" [\"+ str(begin)+ \", \" + str(end) + \"]\")"
   ],
   "outputs": [
    {
     "output_type": "stream",
     "name": "stdout",
     "text": [
      "Point: 0, Chunks: 1\n",
      "Point: 1, Chunks: 1\n",
      "Point: 2, Chunks: 1\n",
      "Point: 3, Chunks: 1\n",
      "Point: 4, Chunks: 1\n",
      "Point: 5, Chunks: 1\n",
      "Point: 6, Chunks: 1\n",
      "Point: 7, Chunks: 11\n",
      "Point: 8, Chunks: 1\n",
      "Point: 9, Chunks: 1\n",
      "Point: 10, Chunks: 1\n",
      "Point: 11, Chunks: 12\n",
      "Point: 12, Chunks: 1\n",
      "Point: 13, Chunks: 7\n",
      "Point: 14, Chunks: 1\n",
      "Point: 15, Chunks: 27\n",
      "Point: 16, Chunks: 9\n",
      "Point: 17, Chunks: 34\n",
      "Point: 18, Chunks: 26\n",
      "Point: 19, Chunks: 18\n",
      "Point: 20, Chunks: 12\n",
      "Point: 21, Chunks: 24\n"
     ]
    }
   ],
   "metadata": {}
  },
  {
   "cell_type": "code",
   "execution_count": 28,
   "source": [
    "# for i in range(20):\n",
    "#     plt.imshow(process_pts[i][2].reshape(3,13))\n",
    "#     plt.show()"
   ],
   "outputs": [],
   "metadata": {}
  },
  {
   "cell_type": "code",
   "execution_count": 29,
   "source": [
    "# processed = np.transpose(processed_time.reshape(3000, 22, 39),(1, 0, 2))"
   ],
   "outputs": [],
   "metadata": {}
  },
  {
   "cell_type": "code",
   "execution_count": 30,
   "source": [
    "from scipy import stats\n",
    "temporal_data = []\n",
    "# segment_range = []\n",
    "confidence_levels = []\n",
    "\n",
    "# loop through all the points (0,22)\n",
    "for i in range(len(chunks)):\n",
    "# for i in range(3):\n",
    "    seg_range = []\n",
    "    mode_predict = []\n",
    "    conf_predict = []\n",
    "    conf_level = []\n",
    "\n",
    "    # list of chunks in a row\n",
    "    data = chunks[i]\n",
    "    print(\"\\nPoint: \"+ str(i) + \", Segments: \" + str(len(data)))\n",
    "    \n",
    "    # loop through all the chunks per row (0,1)\n",
    "    for j in range(len(data)):\n",
    "        conf = []\n",
    "        pred = []\n",
    "        seg = data[j] #segment range ie. [0,2999]\n",
    "        lower = seg[0]\n",
    "        upper = seg[1]+1\n",
    "        seg_len = upper - lower\n",
    "        \n",
    "        # loop through range of each chunk (0,3000)\n",
    "        for k in range(lower, upper): \n",
    "            # process_pts[frame num][point num] \n",
    "            model_pred = skeleton_model.predict(process_pts[k][i].reshape(1,39))\n",
    "\n",
    "            # get the confidence of predicition\n",
    "            if len(conf) == 0: \n",
    "                conf = model_pred[0]\n",
    "            else:\n",
    "                conf += model_pred[0]\n",
    "\n",
    "            # get prediction\n",
    "            pred.append(model_pred.argmax())\n",
    "            \n",
    "        # turn into arrays\n",
    "        conf = np.array(conf)\n",
    "        pred = np.array(pred)\n",
    "\n",
    "        # get mode predictions\n",
    "        mode_data = stats.mode(pred, axis = 0)\n",
    "        mode_pred = mode_data[0].flatten()[0]\n",
    "        mode_count = mode_data[1].flatten()[0]\n",
    "        mode_conf = mode_count/seg_len\n",
    "\n",
    "        # get confidence predictions\n",
    "        conf_pred = conf.argmax()\n",
    "        conf_count = np.sum(pred == conf_pred)\n",
    "        conf_conf = conf.max()/seg_len\n",
    "\n",
    "        # adding to output arrays\n",
    "        # seg_range.append(seg)\n",
    "        conf_level.append(conf)\n",
    "        mode_predict.append([mode_pred, mode_conf, seg, (seg_len-mode_count), mode_count, seg_len])\n",
    "        conf_predict.append([conf_pred, conf_conf, seg, (seg_len-conf_count), conf_count, seg_len])\n",
    "\n",
    "        # Display current state\n",
    "        print(\"Segment: \"+str(j) + \")\", seg, \"Predicted point: (M:\" + str(mode_pred) + \", C:\" + str(conf_pred) + \"), [\" + str(mode_count) + \", \" + str(conf_count) + \"] /\", seg_len, end = \" \")\n",
    "        if (mode_pred == conf_pred):\n",
    "            print(\"Yay\")\n",
    "        else:\n",
    "            print(\"Conflict\")\n",
    "    \n",
    "    # adding to output arrays\n",
    "    confidence_levels.append(conf_level)\n",
    "    # segment_range.append(sorted(seg_range))\n",
    "    temporal_data.append([mode_predict, conf_predict])"
   ],
   "outputs": [
    {
     "output_type": "stream",
     "name": "stdout",
     "text": [
      "\n",
      "Point: 0, Segments: 1\n",
      "Segment: 0) [0, 2999] Predicted point: (M:2, C:2), [2898, 2898] / 3000 Yay\n",
      "\n",
      "Point: 1, Segments: 1\n",
      "Segment: 0) [0, 2999] Predicted point: (M:1, C:1), [3000, 3000] / 3000 Yay\n",
      "\n",
      "Point: 2, Segments: 1\n",
      "Segment: 0) [0, 2999] Predicted point: (M:1, C:1), [2470, 2470] / 3000 Yay\n",
      "\n",
      "Point: 3, Segments: 1\n",
      "Segment: 0) [0, 2999] Predicted point: (M:8, C:5), [1550, 1449] / 3000 Conflict\n",
      "\n",
      "Point: 4, Segments: 1\n",
      "Segment: 0) [0, 2999] Predicted point: (M:8, C:8), [2902, 2902] / 3000 Yay\n",
      "\n",
      "Point: 5, Segments: 1\n",
      "Segment: 0) [0, 2999] Predicted point: (M:18, C:18), [1170, 1170] / 3000 Yay\n",
      "\n",
      "Point: 6, Segments: 1\n",
      "Segment: 0) [0, 2999] Predicted point: (M:8, C:8), [2323, 2323] / 3000 Yay\n",
      "\n",
      "Point: 7, Segments: 11\n",
      "Segment: 0) [0, 190] Predicted point: (M:19, C:19), [191, 191] / 191 Yay\n",
      "Segment: 1) [192, 214] Predicted point: (M:19, C:19), [23, 23] / 23 Yay\n",
      "Segment: 2) [216, 344] Predicted point: (M:19, C:19), [129, 129] / 129 Yay\n",
      "Segment: 3) [346, 1432] Predicted point: (M:19, C:19), [1087, 1087] / 1087 Yay\n",
      "Segment: 4) [2231, 2242] Predicted point: (M:15, C:15), [12, 12] / 12 Yay\n",
      "Segment: 5) [2247, 2261] Predicted point: (M:15, C:15), [15, 15] / 15 Yay\n",
      "Segment: 6) [2282, 2282] Predicted point: (M:15, C:15), [1, 1] / 1 Yay\n",
      "Segment: 7) [2392, 2395] Predicted point: (M:5, C:5), [2, 2] / 4 Yay\n",
      "Segment: 8) [2397, 2398] Predicted point: (M:19, C:19), [2, 2] / 2 Yay\n",
      "Segment: 9) [2450, 2477] Predicted point: (M:19, C:19), [28, 28] / 28 Yay\n",
      "Segment: 10) [2859, 2864] Predicted point: (M:11, C:11), [4, 4] / 6 Yay\n",
      "\n",
      "Point: 8, Segments: 1\n",
      "Segment: 0) [0, 2999] Predicted point: (M:18, C:18), [3000, 3000] / 3000 Yay\n",
      "\n",
      "Point: 9, Segments: 1\n",
      "Segment: 0) [0, 2999] Predicted point: (M:18, C:18), [1753, 1753] / 3000 Yay\n",
      "\n",
      "Point: 10, Segments: 1\n",
      "Segment: 0) [0, 2999] Predicted point: (M:6, C:6), [2157, 2157] / 3000 Yay\n",
      "\n",
      "Point: 11, Segments: 12\n",
      "Segment: 0) [0, 44] Predicted point: (M:19, C:19), [45, 45] / 45 Yay\n",
      "Segment: 1) [337, 349] Predicted point: (M:19, C:19), [9, 9] / 13 Yay\n",
      "Segment: 2) [362, 373] Predicted point: (M:19, C:19), [12, 12] / 12 Yay\n",
      "Segment: 3) [396, 400] Predicted point: (M:19, C:19), [5, 5] / 5 Yay\n",
      "Segment: 4) [452, 452] Predicted point: (M:19, C:19), [1, 1] / 1 Yay\n",
      "Segment: 5) [1236, 1236] Predicted point: (M:5, C:5), [1, 1] / 1 Yay\n",
      "Segment: 6) [1306, 1306] Predicted point: (M:5, C:5), [1, 1] / 1 Yay\n",
      "Segment: 7) [1431, 1431] Predicted point: (M:8, C:8), [1, 1] / 1 Yay\n",
      "Segment: 8) [2192, 2203] Predicted point: (M:19, C:19), [12, 12] / 12 Yay\n",
      "Segment: 9) [2321, 2346] Predicted point: (M:18, C:18), [16, 16] / 26 Yay\n",
      "Segment: 10) [2479, 2723] Predicted point: (M:18, C:18), [241, 241] / 245 Yay\n",
      "Segment: 11) [2725, 2861] Predicted point: (M:18, C:18), [119, 119] / 137 Yay\n",
      "\n",
      "Point: 12, Segments: 1\n",
      "Segment: 0) [0, 2999] Predicted point: (M:3, C:3), [1273, 1273] / 3000 Yay\n",
      "\n",
      "Point: 13, Segments: 7\n",
      "Segment: 0) [0, 764] Predicted point: (M:3, C:3), [675, 675] / 765 Yay\n",
      "Segment: 1) [1160, 1162] Predicted point: (M:3, C:3), [3, 3] / 3 Yay\n",
      "Segment: 2) [1167, 1181] Predicted point: (M:19, C:19), [12, 12] / 15 Yay\n",
      "Segment: 3) [1354, 1365] Predicted point: (M:3, C:19), [6, 4] / 12 Conflict\n",
      "Segment: 4) [1417, 1421] Predicted point: (M:18, C:18), [4, 4] / 5 Yay\n",
      "Segment: 5) [1428, 1439] Predicted point: (M:3, C:3), [7, 7] / 12 Yay\n",
      "Segment: 6) [1453, 2999] Predicted point: (M:14, C:14), [799, 799] / 1547 Yay\n",
      "\n",
      "Point: 14, Segments: 1\n",
      "Segment: 0) [0, 2999] Predicted point: (M:9, C:9), [1244, 1244] / 3000 Yay\n",
      "\n",
      "Point: 15, Segments: 27\n",
      "Segment: 0) [0, 2320] Predicted point: (M:10, C:10), [1529, 1529] / 2321 Yay\n",
      "Segment: 1) [2798, 2799] Predicted point: (M:5, C:5), [2, 2] / 2 Yay\n",
      "Segment: 2) [2801, 2802] Predicted point: (M:5, C:5), [2, 2] / 2 Yay\n",
      "Segment: 3) [2805, 2807] Predicted point: (M:5, C:5), [3, 3] / 3 Yay\n",
      "Segment: 4) [2810, 2812] Predicted point: (M:5, C:5), [3, 3] / 3 Yay\n",
      "Segment: 5) [2816, 2816] Predicted point: (M:5, C:5), [1, 1] / 1 Yay\n",
      "Segment: 6) [2839, 2839] Predicted point: (M:5, C:5), [1, 1] / 1 Yay\n",
      "Segment: 7) [2846, 2846] Predicted point: (M:5, C:5), [1, 1] / 1 Yay\n",
      "Segment: 8) [2848, 2848] Predicted point: (M:5, C:5), [1, 1] / 1 Yay\n",
      "Segment: 9) [2850, 2850] Predicted point: (M:5, C:5), [1, 1] / 1 Yay\n",
      "Segment: 10) [2858, 2859] Predicted point: (M:5, C:5), [2, 2] / 2 Yay\n",
      "Segment: 11) [2867, 2867] Predicted point: (M:5, C:5), [1, 1] / 1 Yay\n",
      "Segment: 12) [2876, 2877] Predicted point: (M:5, C:5), [2, 2] / 2 Yay\n",
      "Segment: 13) [2879, 2880] Predicted point: (M:5, C:5), [2, 2] / 2 Yay\n",
      "Segment: 14) [2887, 2887] Predicted point: (M:5, C:5), [1, 1] / 1 Yay\n",
      "Segment: 15) [2889, 2892] Predicted point: (M:5, C:5), [4, 4] / 4 Yay\n",
      "Segment: 16) [2895, 2899] Predicted point: (M:5, C:5), [5, 5] / 5 Yay\n",
      "Segment: 17) [2902, 2902] Predicted point: (M:5, C:5), [1, 1] / 1 Yay\n",
      "Segment: 18) [2913, 2916] Predicted point: (M:5, C:5), [4, 4] / 4 Yay\n",
      "Segment: 19) [2923, 2923] Predicted point: (M:5, C:5), [1, 1] / 1 Yay\n",
      "Segment: 20) [2928, 2930] Predicted point: (M:5, C:5), [3, 3] / 3 Yay\n",
      "Segment: 21) [2932, 2932] Predicted point: (M:5, C:5), [1, 1] / 1 Yay\n",
      "Segment: 22) [2936, 2936] Predicted point: (M:5, C:5), [1, 1] / 1 Yay\n",
      "Segment: 23) [2939, 2939] Predicted point: (M:5, C:5), [1, 1] / 1 Yay\n",
      "Segment: 24) [2943, 2946] Predicted point: (M:5, C:5), [4, 4] / 4 Yay\n",
      "Segment: 25) [2952, 2953] Predicted point: (M:5, C:5), [2, 2] / 2 Yay\n",
      "Segment: 26) [2956, 2956] Predicted point: (M:5, C:5), [1, 1] / 1 Yay\n",
      "\n",
      "Point: 16, Segments: 9\n",
      "Segment: 0) [0, 24] Predicted point: (M:14, C:14), [25, 25] / 25 Yay\n",
      "Segment: 1) [26, 38] Predicted point: (M:14, C:14), [13, 13] / 13 Yay\n",
      "Segment: 2) [41, 44] Predicted point: (M:14, C:14), [4, 4] / 4 Yay\n",
      "Segment: 3) [47, 261] Predicted point: (M:19, C:19), [131, 131] / 215 Yay\n",
      "Segment: 4) [263, 298] Predicted point: (M:19, C:19), [36, 36] / 36 Yay\n",
      "Segment: 5) [302, 308] Predicted point: (M:19, C:19), [7, 7] / 7 Yay\n",
      "Segment: 6) [311, 315] Predicted point: (M:14, C:19), [3, 2] / 5 Conflict\n",
      "Segment: 7) [324, 2858] Predicted point: (M:10, C:10), [833, 833] / 2535 Yay\n",
      "Segment: 8) [2865, 2999] Predicted point: (M:11, C:14), [69, 47] / 135 Conflict\n",
      "\n",
      "Point: 17, Segments: 34\n",
      "Segment: 0) [102, 103] Predicted point: (M:1, C:1), [2, 2] / 2 Yay\n",
      "Segment: 1) [341, 344] Predicted point: (M:13, C:13), [4, 4] / 4 Yay\n",
      "Segment: 2) [1118, 1118] Predicted point: (M:5, C:5), [1, 1] / 1 Yay\n",
      "Segment: 3) [1125, 1125] Predicted point: (M:5, C:5), [1, 1] / 1 Yay\n",
      "Segment: 4) [1128, 1129] Predicted point: (M:5, C:5), [2, 2] / 2 Yay\n",
      "Segment: 5) [1131, 1131] Predicted point: (M:5, C:5), [1, 1] / 1 Yay\n",
      "Segment: 6) [1136, 1136] Predicted point: (M:5, C:5), [1, 1] / 1 Yay\n",
      "Segment: 7) [1148, 1149] Predicted point: (M:5, C:5), [2, 2] / 2 Yay\n",
      "Segment: 8) [1418, 2276] Predicted point: (M:3, C:3), [618, 618] / 859 Yay\n",
      "Segment: 9) [2279, 2281] Predicted point: (M:15, C:15), [3, 3] / 3 Yay\n",
      "Segment: 10) [2285, 2289] Predicted point: (M:13, C:13), [5, 5] / 5 Yay\n",
      "Segment: 11) [2295, 2303] Predicted point: (M:13, C:13), [7, 7] / 9 Yay\n",
      "Segment: 12) [2306, 2312] Predicted point: (M:13, C:15), [5, 2] / 7 Conflict\n",
      "Segment: 13) [2314, 2314] Predicted point: (M:13, C:13), [1, 1] / 1 Yay\n",
      "Segment: 14) [2316, 2316] Predicted point: (M:15, C:15), [1, 1] / 1 Yay\n",
      "Segment: 15) [2323, 2346] Predicted point: (M:15, C:15), [14, 14] / 24 Yay\n",
      "Segment: 16) [2349, 2357] Predicted point: (M:15, C:15), [8, 8] / 9 Yay\n",
      "Segment: 17) [2359, 2362] Predicted point: (M:15, C:15), [4, 4] / 4 Yay\n",
      "Segment: 18) [2365, 2367] Predicted point: (M:15, C:15), [3, 3] / 3 Yay\n",
      "Segment: 19) [2377, 2380] Predicted point: (M:15, C:15), [4, 4] / 4 Yay\n",
      "Segment: 20) [2393, 2397] Predicted point: (M:12, C:12), [4, 4] / 5 Yay\n",
      "Segment: 21) [2399, 2400] Predicted point: (M:15, C:15), [2, 2] / 2 Yay\n",
      "Segment: 22) [2406, 2420] Predicted point: (M:15, C:15), [15, 15] / 15 Yay\n",
      "Segment: 23) [2422, 2429] Predicted point: (M:15, C:15), [8, 8] / 8 Yay\n",
      "Segment: 24) [2438, 2438] Predicted point: (M:15, C:15), [1, 1] / 1 Yay\n",
      "Segment: 25) [2440, 2440] Predicted point: (M:15, C:15), [1, 1] / 1 Yay\n",
      "Segment: 26) [2446, 2447] Predicted point: (M:15, C:15), [2, 2] / 2 Yay\n",
      "Segment: 27) [2843, 2843] Predicted point: (M:15, C:15), [1, 1] / 1 Yay\n",
      "Segment: 28) [2851, 2851] Predicted point: (M:15, C:15), [1, 1] / 1 Yay\n",
      "Segment: 29) [2855, 2866] Predicted point: (M:15, C:15), [6, 6] / 12 Yay\n",
      "Segment: 30) [2868, 2868] Predicted point: (M:15, C:15), [1, 1] / 1 Yay\n",
      "Segment: 31) [2873, 2873] Predicted point: (M:15, C:15), [1, 1] / 1 Yay\n",
      "Segment: 32) [2875, 2875] Predicted point: (M:15, C:15), [1, 1] / 1 Yay\n",
      "Segment: 33) [2908, 2999] Predicted point: (M:15, C:15), [92, 92] / 92 Yay\n",
      "\n",
      "Point: 18, Segments: 26\n",
      "Segment: 0) [113, 113] Predicted point: (M:19, C:19), [1, 1] / 1 Yay\n",
      "Segment: 1) [118, 121] Predicted point: (M:19, C:19), [4, 4] / 4 Yay\n",
      "Segment: 2) [123, 123] Predicted point: (M:19, C:19), [1, 1] / 1 Yay\n",
      "Segment: 3) [425, 425] Predicted point: (M:19, C:19), [1, 1] / 1 Yay\n",
      "Segment: 4) [446, 451] Predicted point: (M:19, C:19), [6, 6] / 6 Yay\n",
      "Segment: 5) [481, 481] Predicted point: (M:19, C:19), [1, 1] / 1 Yay\n",
      "Segment: 6) [572, 572] Predicted point: (M:19, C:19), [1, 1] / 1 Yay\n",
      "Segment: 7) [698, 698] Predicted point: (M:19, C:19), [1, 1] / 1 Yay\n",
      "Segment: 8) [701, 708] Predicted point: (M:19, C:19), [8, 8] / 8 Yay\n",
      "Segment: 9) [710, 710] Predicted point: (M:19, C:19), [1, 1] / 1 Yay\n",
      "Segment: 10) [726, 726] Predicted point: (M:19, C:19), [1, 1] / 1 Yay\n",
      "Segment: 11) [730, 730] Predicted point: (M:19, C:19), [1, 1] / 1 Yay\n",
      "Segment: 12) [733, 2163] Predicted point: (M:11, C:11), [1339, 1339] / 1431 Yay\n",
      "Segment: 13) [2295, 2295] Predicted point: (M:5, C:5), [1, 1] / 1 Yay\n",
      "Segment: 14) [2303, 2303] Predicted point: (M:5, C:5), [1, 1] / 1 Yay\n",
      "Segment: 15) [2309, 2309] Predicted point: (M:5, C:5), [1, 1] / 1 Yay\n",
      "Segment: 16) [2456, 2458] Predicted point: (M:14, C:14), [3, 3] / 3 Yay\n",
      "Segment: 17) [2460, 2460] Predicted point: (M:14, C:14), [1, 1] / 1 Yay\n",
      "Segment: 18) [2462, 2472] Predicted point: (M:14, C:14), [11, 11] / 11 Yay\n",
      "Segment: 19) [2479, 2481] Predicted point: (M:19, C:19), [3, 3] / 3 Yay\n",
      "Segment: 20) [2490, 2494] Predicted point: (M:19, C:19), [4, 4] / 5 Yay\n",
      "Segment: 21) [2496, 2496] Predicted point: (M:19, C:19), [1, 1] / 1 Yay\n",
      "Segment: 22) [2498, 2506] Predicted point: (M:19, C:19), [9, 9] / 9 Yay\n",
      "Segment: 23) [2547, 2547] Predicted point: (M:19, C:19), [1, 1] / 1 Yay\n",
      "Segment: 24) [2775, 2811] Predicted point: (M:19, C:19), [27, 27] / 37 Yay\n",
      "Segment: 25) [2859, 2860] Predicted point: (M:12, C:19), [1, 1] / 2 Conflict\n",
      "\n",
      "Point: 19, Segments: 18\n",
      "Segment: 0) [198, 198] Predicted point: (M:5, C:5), [1, 1] / 1 Yay\n",
      "Segment: 1) [725, 725] Predicted point: (M:5, C:5), [1, 1] / 1 Yay\n",
      "Segment: 2) [729, 729] Predicted point: (M:5, C:5), [1, 1] / 1 Yay\n",
      "Segment: 3) [1236, 1238] Predicted point: (M:5, C:5), [3, 3] / 3 Yay\n",
      "Segment: 4) [1335, 1353] Predicted point: (M:5, C:5), [19, 19] / 19 Yay\n",
      "Segment: 5) [2125, 2125] Predicted point: (M:17, C:17), [1, 1] / 1 Yay\n",
      "Segment: 6) [2264, 2265] Predicted point: (M:5, C:5), [2, 2] / 2 Yay\n",
      "Segment: 7) [2278, 2280] Predicted point: (M:5, C:5), [3, 3] / 3 Yay\n",
      "Segment: 8) [2316, 2316] Predicted point: (M:5, C:5), [1, 1] / 1 Yay\n",
      "Segment: 9) [2325, 2325] Predicted point: (M:5, C:5), [1, 1] / 1 Yay\n",
      "Segment: 10) [2327, 2327] Predicted point: (M:5, C:5), [1, 1] / 1 Yay\n",
      "Segment: 11) [2329, 2334] Predicted point: (M:5, C:5), [6, 6] / 6 Yay\n",
      "Segment: 12) [2345, 2348] Predicted point: (M:5, C:5), [4, 4] / 4 Yay\n",
      "Segment: 13) [2483, 2483] Predicted point: (M:5, C:5), [1, 1] / 1 Yay\n",
      "Segment: 14) [2491, 2491] Predicted point: (M:5, C:5), [1, 1] / 1 Yay\n",
      "Segment: 15) [2612, 2613] Predicted point: (M:5, C:5), [2, 2] / 2 Yay\n",
      "Segment: 16) [2794, 2794] Predicted point: (M:5, C:5), [1, 1] / 1 Yay\n",
      "Segment: 17) [2863, 2867] Predicted point: (M:16, C:16), [5, 5] / 5 Yay\n",
      "\n",
      "Point: 20, Segments: 12\n",
      "Segment: 0) [773, 773] Predicted point: (M:1, C:1), [1, 1] / 1 Yay\n",
      "Segment: 1) [1370, 1370] Predicted point: (M:0, C:0), [1, 1] / 1 Yay\n",
      "Segment: 2) [2143, 2144] Predicted point: (M:8, C:8), [2, 2] / 2 Yay\n",
      "Segment: 3) [2281, 2281] Predicted point: (M:19, C:19), [1, 1] / 1 Yay\n",
      "Segment: 4) [2374, 2376] Predicted point: (M:1, C:1), [3, 3] / 3 Yay\n",
      "Segment: 5) [2828, 2828] Predicted point: (M:1, C:1), [1, 1] / 1 Yay\n",
      "Segment: 6) [2832, 2832] Predicted point: (M:1, C:1), [1, 1] / 1 Yay\n",
      "Segment: 7) [2835, 2836] Predicted point: (M:1, C:1), [2, 2] / 2 Yay\n",
      "Segment: 8) [2838, 2838] Predicted point: (M:1, C:1), [1, 1] / 1 Yay\n",
      "Segment: 9) [2848, 2852] Predicted point: (M:1, C:1), [5, 5] / 5 Yay\n",
      "Segment: 10) [2954, 2958] Predicted point: (M:1, C:1), [5, 5] / 5 Yay\n",
      "Segment: 11) [2960, 2960] Predicted point: (M:1, C:1), [1, 1] / 1 Yay\n",
      "\n",
      "Point: 21, Segments: 24\n",
      "Segment: 0) [869, 873] Predicted point: (M:8, C:8), [5, 5] / 5 Yay\n",
      "Segment: 1) [1240, 1240] Predicted point: (M:8, C:8), [1, 1] / 1 Yay\n",
      "Segment: 2) [1242, 1245] Predicted point: (M:8, C:8), [4, 4] / 4 Yay\n",
      "Segment: 3) [1284, 1288] Predicted point: (M:8, C:8), [5, 5] / 5 Yay\n",
      "Segment: 4) [1290, 1291] Predicted point: (M:8, C:8), [2, 2] / 2 Yay\n",
      "Segment: 5) [1294, 1294] Predicted point: (M:8, C:8), [1, 1] / 1 Yay\n",
      "Segment: 6) [1298, 1298] Predicted point: (M:8, C:8), [1, 1] / 1 Yay\n",
      "Segment: 7) [1306, 1307] Predicted point: (M:8, C:8), [2, 2] / 2 Yay\n",
      "Segment: 8) [2080, 2085] Predicted point: (M:1, C:1), [6, 6] / 6 Yay\n",
      "Segment: 9) [2087, 2095] Predicted point: (M:1, C:1), [9, 9] / 9 Yay\n",
      "Segment: 10) [2099, 2099] Predicted point: (M:1, C:1), [1, 1] / 1 Yay\n",
      "Segment: 11) [2102, 2102] Predicted point: (M:1, C:1), [1, 1] / 1 Yay\n",
      "Segment: 12) [2106, 2131] Predicted point: (M:1, C:1), [26, 26] / 26 Yay\n",
      "Segment: 13) [2270, 2272] Predicted point: (M:2, C:2), [3, 3] / 3 Yay\n",
      "Segment: 14) [2279, 2284] Predicted point: (M:2, C:2), [3, 3] / 6 Yay\n",
      "Segment: 15) [2292, 2292] Predicted point: (M:2, C:2), [1, 1] / 1 Yay\n",
      "Segment: 16) [2294, 2294] Predicted point: (M:2, C:2), [1, 1] / 1 Yay\n",
      "Segment: 17) [2304, 2306] Predicted point: (M:2, C:2), [3, 3] / 3 Yay\n",
      "Segment: 18) [2313, 2313] Predicted point: (M:2, C:2), [1, 1] / 1 Yay\n",
      "Segment: 19) [2351, 2351] Predicted point: (M:2, C:2), [1, 1] / 1 Yay\n",
      "Segment: 20) [2806, 2806] Predicted point: (M:1, C:1), [1, 1] / 1 Yay\n",
      "Segment: 21) [2830, 2830] Predicted point: (M:1, C:1), [1, 1] / 1 Yay\n",
      "Segment: 22) [2839, 2840] Predicted point: (M:1, C:1), [2, 2] / 2 Yay\n",
      "Segment: 23) [2868, 2999] Predicted point: (M:14, C:14), [110, 110] / 132 Yay\n"
     ]
    }
   ],
   "metadata": {}
  },
  {
   "cell_type": "code",
   "execution_count": 31,
   "source": [
    "# for i in range(21,22):\n",
    "#     print(\"Index:\", i)\n",
    "#     for j in range(len(segment_range[i])):\n",
    "#         # print(segment_range[i][j])\n",
    "#         print(temporal_data[i][0][j])\n",
    "#         print(temporal_data[i][1][j])\n",
    "#         plt.imshow([confidence_levels[i][j]], interpolation='nearest')\n",
    "#         plt.show()"
   ],
   "outputs": [],
   "metadata": {}
  },
  {
   "cell_type": "code",
   "execution_count": 32,
   "source": [
    "for i in range(len(temporal_data[7][1])): \n",
    "    print(chunks[7][i])\n",
    "    print(temporal_data[7][0][i], \"\\n\")"
   ],
   "outputs": [
    {
     "output_type": "stream",
     "name": "stdout",
     "text": [
      "[0, 190]\n",
      "[19, 1.0, [0, 190], 0, 191, 191] \n",
      "\n",
      "[192, 214]\n",
      "[19, 1.0, [192, 214], 0, 23, 23] \n",
      "\n",
      "[216, 344]\n",
      "[19, 1.0, [216, 344], 0, 129, 129] \n",
      "\n",
      "[346, 1432]\n",
      "[19, 1.0, [346, 1432], 0, 1087, 1087] \n",
      "\n",
      "[2231, 2242]\n",
      "[15, 1.0, [2231, 2242], 0, 12, 12] \n",
      "\n",
      "[2247, 2261]\n",
      "[15, 1.0, [2247, 2261], 0, 15, 15] \n",
      "\n",
      "[2282, 2282]\n",
      "[15, 1.0, [2282, 2282], 0, 1, 1] \n",
      "\n",
      "[2392, 2395]\n",
      "[5, 0.5, [2392, 2395], 2, 2, 4] \n",
      "\n",
      "[2397, 2398]\n",
      "[19, 1.0, [2397, 2398], 0, 2, 2] \n",
      "\n",
      "[2450, 2477]\n",
      "[19, 1.0, [2450, 2477], 0, 28, 28] \n",
      "\n",
      "[2859, 2864]\n",
      "[11, 0.6666666666666666, [2859, 2864], 2, 4, 6] \n",
      "\n"
     ]
    }
   ],
   "metadata": {}
  },
  {
   "cell_type": "code",
   "execution_count": 33,
   "source": [
    "temp_new = np.ones((22,3000))\n",
    "for i in range(len(temporal_data)):\n",
    "    for j in range(len(temporal_data[i])):\n",
    "        for k in range(len(temporal_data[i][j])):\n",
    "            start = temporal_data[i][j][k][2][0]\n",
    "            end = temporal_data[i][j][k][2][1] + 1\n",
    "            for k in range(start, end):\n",
    "                temp_new[i][k] +=1\n",
    "fig, (ax1, ax2) = plt.subplots(2)\n",
    "ax1.imshow(temp_new, interpolation='nearest', aspect=\"auto\")\n",
    "ax2.imshow(test_pts[::3], interpolation='nearest', aspect=\"auto\")"
   ],
   "outputs": [
    {
     "output_type": "execute_result",
     "data": {
      "text/plain": [
       "<matplotlib.image.AxesImage at 0x7ff8c2c7f220>"
      ]
     },
     "metadata": {},
     "execution_count": 33
    },
    {
     "output_type": "display_data",
     "data": {
      "text/plain": [
       "<Figure size 432x288 with 2 Axes>"
      ],
      "image/png": "[encoded data removed]"
     },
     "metadata": {
      "needs_background": "light"
     }
    }
   ],
   "metadata": {}
  },
  {
   "cell_type": "code",
   "execution_count": 34,
   "source": [
    "temp_copy = temporal_data.copy()\n",
    "temp_data = np.array(temp_copy, dtype=object)\n",
    "chunk_data = []\n",
    "pred_data = temp_data[:,1] # 1 for confidence\n",
    "# pred_data = temp_data[:,0] # 0 for mode\n",
    "print(pred_data.shape)\n",
    "\n",
    "for i in range(20):\n",
    "    chunk_data.append([])\n",
    "\n",
    "# putting the preditions into buckets\n",
    "for i in range(20):\n",
    "    index = pred_data[i]\n",
    "    for j in range(len(index)):\n",
    "        chunk_data[index[j][0]].append([i]+index[j])\n",
    "\n",
    "for i in range(len(chunk_data)):\n",
    "    print(i, len(chunk_data[i]))\n",
    "\n",
    "check = chunk_data[19]\n",
    "for i in range(len(check)):\n",
    "    print(check[i])"
   ],
   "outputs": [
    {
     "output_type": "stream",
     "name": "stdout",
     "text": [
      "(22,)\n",
      "0 0\n",
      "1 3\n",
      "2 1\n",
      "3 5\n",
      "4 0\n",
      "5 55\n",
      "6 1\n",
      "7 0\n",
      "8 3\n",
      "9 1\n",
      "10 2\n",
      "11 2\n",
      "12 1\n",
      "13 4\n",
      "14 8\n",
      "15 24\n",
      "16 1\n",
      "17 1\n",
      "18 7\n",
      "19 37\n",
      "[7, 19, 0.9462026226582951, [0, 190], 0, 191, 191]\n",
      "[7, 19, 0.9727963157322096, [192, 214], 0, 23, 23]\n",
      "[7, 19, 0.9563859451648801, [216, 344], 0, 129, 129]\n",
      "[7, 19, 0.9435351248059453, [346, 1432], 0, 1087, 1087]\n",
      "[7, 19, 0.44772621989250183, [2397, 2398], 0, 2, 2]\n",
      "[7, 19, 0.5410772051130023, [2450, 2477], 0, 28, 28]\n",
      "[11, 19, 0.5456300947401259, [0, 44], 0, 45, 45]\n",
      "[11, 19, 0.5427223352285532, [337, 349], 4, 9, 13]\n",
      "[11, 19, 0.5816935698191324, [362, 373], 0, 12, 12]\n",
      "[11, 19, 0.5828347206115723, [396, 400], 0, 5, 5]\n",
      "[11, 19, 0.584930419921875, [452, 452], 0, 1, 1]\n",
      "[11, 19, 0.5203190644582113, [2192, 2203], 0, 12, 12]\n",
      "[13, 19, 0.3694218635559082, [1167, 1181], 3, 12, 15]\n",
      "[13, 19, 0.23474909861882529, [1354, 1365], 8, 4, 12]\n",
      "[16, 19, 0.25422026168468387, [47, 261], 84, 131, 215]\n",
      "[16, 19, 0.3077503840128581, [263, 298], 0, 36, 36]\n",
      "[16, 19, 0.2734241315296718, [302, 308], 0, 7, 7]\n",
      "[16, 19, 0.24886980056762695, [311, 315], 3, 2, 5]\n",
      "[18, 19, 0.8742430806159973, [113, 113], 0, 1, 1]\n",
      "[18, 19, 0.8810486197471619, [118, 121], 0, 4, 4]\n",
      "[18, 19, 0.8887950778007507, [123, 123], 0, 1, 1]\n",
      "[18, 19, 0.8662664294242859, [425, 425], 0, 1, 1]\n",
      "[18, 19, 0.8703247706095377, [446, 451], 0, 6, 6]\n",
      "[18, 19, 0.8691863417625427, [481, 481], 0, 1, 1]\n",
      "[18, 19, 0.857737123966217, [572, 572], 0, 1, 1]\n",
      "[18, 19, 0.7494590878486633, [698, 698], 0, 1, 1]\n",
      "[18, 19, 0.7336788773536682, [701, 708], 0, 8, 8]\n",
      "[18, 19, 0.7310057878494263, [710, 710], 0, 1, 1]\n",
      "[18, 19, 0.7516528367996216, [726, 726], 0, 1, 1]\n",
      "[18, 19, 0.7549391984939575, [730, 730], 0, 1, 1]\n",
      "[18, 19, 0.6963818868001302, [2479, 2481], 0, 3, 3]\n",
      "[18, 19, 0.5327347755432129, [2490, 2494], 1, 4, 5]\n",
      "[18, 19, 0.6664988398551941, [2496, 2496], 0, 1, 1]\n",
      "[18, 19, 0.6633649402194552, [2498, 2506], 0, 9, 9]\n",
      "[18, 19, 0.6272940635681152, [2547, 2547], 0, 1, 1]\n",
      "[18, 19, 0.5576789443557327, [2775, 2811], 10, 27, 37]\n",
      "[18, 19, 0.32917892932891846, [2859, 2860], 1, 1, 2]\n"
     ]
    }
   ],
   "metadata": {}
  },
  {
   "cell_type": "code",
   "execution_count": 35,
   "source": [
    "processed_pts = []\n",
    "\n",
    "# squish all the data points\n",
    "for i in range(20): \n",
    "    numb_index = []\n",
    "    bounds = None\n",
    "    current = chunk_data[i]\n",
    "    sorted_current = sorted(current,key=lambda x: x[4])\n",
    "\n",
    "    for j in reversed(range(len(sorted_current))):\n",
    "        input_index = sorted_current[j]\n",
    "        current_bounds = np.arange(input_index[3][0], input_index[3][1]+1).tolist()\n",
    "\n",
    "        if len(numb_index) == 0:\n",
    "            numb_index.append(input_index)\n",
    "            bounds = current_bounds\n",
    "        else:\n",
    "            same = list(set(current_bounds) & set(bounds)) # gets overlapping elements \n",
    "            # no overlapp between the two lists\n",
    "            if len(same) == 0:\n",
    "                numb_index.append(input_index)\n",
    "                bounds += current_bounds\n",
    "            else: #if there is overlap between the two lists\n",
    "                if current_bounds[0] in bounds and current_bounds[-1] in bounds:\n",
    "                    # print(str(i) + \") Can't add index in range [\" + str(current_bounds[0]) + \", \" + str(current_bounds[-1]) + \"] to [\" + str(bounds[0])+ \", \" + str(bounds[-1]) + \"]\")\n",
    "                    pass\n",
    "                elif current_bounds[0] in bounds:\n",
    "                    print(\"Lower bound inside current bounds\")\n",
    "                    pass\n",
    "                elif current_bounds[-1] in bounds:\n",
    "                    print(\"Upper bound inside current bounds\")\n",
    "                    pass\n",
    "        bounds = sorted(bounds)\n",
    "    processed_pts.append(numb_index)\n",
    "    #             # else: # just in case\n",
    "    #             #     # lower bound is inside current bound\n",
    "    #             #     if temp_curent[0] in bounds:\n",
    "    #             #         print(\"lower\", temp_curent[0], temp_curent[-1], bounds[0], bounds[-1])\n",
    "    #             #         # lower = bounds[-1]\n",
    "    #             #         # higher = temp_curent[-1]\n",
    "    #             #         # new_index = [input_index[0],lower, higher]\n",
    "    #             #         # new_bounds = np.arange(lower, higher+1).tolist()\n",
    "\n",
    "    #             #         # numb_index.append(new_index)\n",
    "    #             #         # bounds += new_bounds\n",
    "    #             #     # higher bound is inside current bound\n",
    "    #             #     if temp_curent[-1] in bounds:\n",
    "    #             #         print(\"upper\", temp_curent[0], temp_curent[-1], bounds[0], bounds[-1])\n",
    "    #             #         # lower = temp_curent[0]\n",
    "    #             #         # higher = bounds[0]\n",
    "    #             #         # new_index = [input_index[0],lower, higher]\n",
    "    #             #         # new_bounds = np.arange(lower, higher+1).tolist()\n",
    "\n",
    "    #             #         # numb_index.append(new_index)\n",
    "    #             #         # bounds += new_bounds\n",
    "    # new_index = sorted(numb_index, key=lambda x: x[1])\n",
    "    # # print(new_index)\n",
    "    # processed_pts.append(new_index)        \n",
    " "
   ],
   "outputs": [
    {
     "output_type": "stream",
     "name": "stdout",
     "text": [
      "Upper bound inside current bounds\n",
      "Lower bound inside current bounds\n"
     ]
    }
   ],
   "metadata": {}
  },
  {
   "cell_type": "code",
   "execution_count": 36,
   "source": [
    "processed_pts = np.array(processed_pts, dtype = object)\n",
    "for i in range(len(processed_pts)):\n",
    "    print(\"Point:\", i, end = \" --> \")\n",
    "    for j in range(len(processed_pts[i])):\n",
    "        print(processed_pts[i][j][0], end = \", \")\n",
    "    print(\"\\n\")"
   ],
   "outputs": [
    {
     "output_type": "stream",
     "name": "stdout",
     "text": [
      "Point: 0 --> \n",
      "\n",
      "Point: 1 --> 2, \n",
      "\n",
      "Point: 2 --> 0, \n",
      "\n",
      "Point: 3 --> 12, \n",
      "\n",
      "Point: 4 --> \n",
      "\n",
      "Point: 5 --> 3, \n",
      "\n",
      "Point: 6 --> 10, \n",
      "\n",
      "Point: 7 --> \n",
      "\n",
      "Point: 8 --> 6, \n",
      "\n",
      "Point: 9 --> 14, \n",
      "\n",
      "Point: 10 --> 16, \n",
      "\n",
      "Point: 11 --> 18, 7, \n",
      "\n",
      "Point: 12 --> 17, \n",
      "\n",
      "Point: 13 --> 17, 17, 17, 17, \n",
      "\n",
      "Point: 14 --> 13, 16, 16, 16, \n",
      "\n",
      "Point: 15 --> 17, 17, 17, 17, 17, 17, 17, 17, 17, 17, 17, 17, 17, 17, 17, 17, 17, 17, 17, 17, 17, 7, 7, 7, \n",
      "\n",
      "Point: 16 --> 19, \n",
      "\n",
      "Point: 17 --> 19, \n",
      "\n",
      "Point: 18 --> 5, \n",
      "\n",
      "Point: 19 --> 16, 18, 13, 11, 16, 13, 18, 18, 18, 18, 18, 18, 18, 18, 18, 18, 18, 18, 18, 18, 18, 16, 16, 11, 11, 11, 11, 11, 7, 7, \n",
      "\n"
     ]
    }
   ],
   "metadata": {}
  },
  {
   "cell_type": "code",
   "execution_count": 37,
   "source": [
    "final_points = []\n",
    "point_coord = np.ones((60,3000))*np.nan\n",
    "\n",
    "for i in range(len(processed_pts)):\n",
    "    index = [i*3, i*3+1, i*3+2]\n",
    "    coord = [[],[],[]]\n",
    "\n",
    "    for j in range(len(processed_pts[i])):\n",
    "        seg_range = processed_pts[i][j]\n",
    "        org_index = seg_range[0]\n",
    "        start = seg_range[3][0]\n",
    "        end = seg_range[3][1]\n",
    "        # print(i,org_index,start,end)\n",
    "        index_xyz = [org_index*3, org_index*3+1, org_index*3+2]\n",
    "\n",
    "        for k in range(start, end):\n",
    "            point_coord[index[0]][k] = test_pts[index_xyz[0]][k]\n",
    "            point_coord[index[1]][k] = test_pts[index_xyz[1]][k]\n",
    "            point_coord[index[2]][k] = test_pts[index_xyz[2]][k]\n",
    "            if np.isnan(test_pts[index_xyz[0]][k]):\n",
    "                print(\"big error\", org_index, k)"
   ],
   "outputs": [],
   "metadata": {}
  },
  {
   "cell_type": "code",
   "execution_count": 38,
   "source": [
    "plt.imshow(point_coord, interpolation='nearest', aspect=\"auto\")\n",
    "plt.show()"
   ],
   "outputs": [
    {
     "output_type": "display_data",
     "data": {
      "text/plain": [
       "<Figure size 432x288 with 1 Axes>"
      ],
      "image/png": "[encoded data removed]"
     },
     "metadata": {
      "needs_background": "light"
     }
    }
   ],
   "metadata": {}
  },
  {
   "cell_type": "code",
   "execution_count": 39,
   "source": [
    "temp = point_coord.copy()\n",
    "temp_2 = np.transpose(temp.T.reshape(3000, 20, 3), (0,2,1))\n",
    "plt.imshow(temp_2[2500])\n",
    "plt.show()"
   ],
   "outputs": [
    {
     "output_type": "display_data",
     "data": {
      "text/plain": [
       "<Figure size 432x288 with 1 Axes>"
      ],
      "image/png": "[encoded data removed]"
     },
     "metadata": {
      "needs_background": "light"
     }
    }
   ],
   "metadata": {}
  },
  {
   "cell_type": "code",
   "execution_count": 40,
   "source": [
    "# Draw major lines in the rat model\n",
    "def drawLines(ax,x, y, z):\n",
    "    # run through all the connections to draw the points\n",
    "    for i in range(len(joints_idx)):\n",
    "        try: \n",
    "            # Getting both points to draw line\n",
    "            idx = joints_idx[i]\n",
    "            first_pt = idx[0]-1\n",
    "            second_pt = idx[1]-1\n",
    "            x_line = [x[first_pt], x[second_pt]]\n",
    "            y_line = [y[first_pt], y[second_pt]]\n",
    "            z_line = [z[first_pt], z[second_pt]]\n",
    "            # Draw lines\n",
    "            if i < 3: \n",
    "                ax.plot(x_line, y_line, z_line, c=\"#064ea1\", linewidth=4)\n",
    "            elif i < 6:\n",
    "                ax.plot(x_line, y_line, z_line, c=\"#64ccd1\", linewidth=4)\n",
    "            else:\n",
    "                ax.plot(x_line, y_line, z_line, c=\"#46b8a7\", linewidth=4)\n",
    "        except:\n",
    "            pass\n",
    "\n",
    "# Draw all line from every point \n",
    "def drawAllLines(ax,x, y, z):\n",
    "    joint_len = len(joint_name)\n",
    "    all_lines = []\n",
    "    for i in range(joint_len):\n",
    "        for j in range(joint_len):\n",
    "            if (not([i,j] in all_lines)):\n",
    "                x_line = [x[i], x[j]]\n",
    "                y_line = [y[i], y[j]]\n",
    "                z_line = [z[i], z[j]]\n",
    "                ax.plot(x_line, y_line, z_line, color='#b1d8fc', linewidth=0.5)\n",
    "                all_lines.append([i,j])\n",
    "                all_lines.append([j,i])\n",
    "\n",
    "def addLabels(ax, x, y, z):\n",
    "    # run through all the points to add labels\n",
    "    for i in range(len(x)):\n",
    "        try:\n",
    "            # points_array.append([x[i], y[i], z[i]])\n",
    "            # label = np.around(points_array[i]).astype(int)\n",
    "            label = joint_name[i]\n",
    "            if not np.isnan(x[i]):\n",
    "                ax.text(x[i], y[i], z[i], label)\n",
    "            # print(i, \":\", points_array[i], joint_name[i])\n",
    "        except:\n",
    "            pass"
   ],
   "outputs": [],
   "metadata": {}
  },
  {
   "cell_type": "code",
   "execution_count": 41,
   "source": [
    "%matplotlib tk\n",
    "\n",
    "# Plot 3D points given file and frame number\n",
    "def plotFrame(frame):\n",
    "    x = frame[0]\n",
    "    y = frame[1]\n",
    "    z = frame[2]\n",
    "\n",
    "    # plt.imshow([x, y,z])\n",
    "    # plt.show()\n",
    "\n",
    "    # loading plot\n",
    "    fig = plt.figure()\n",
    "    ax = fig.add_subplot(projection='3d')\n",
    "\n",
    "    # adding points, labels and lines\n",
    "    try:\n",
    "        ax.scatter(x,y,z, color='#ff5e5e', s =10, marker='x')\n",
    "    except:\n",
    "        pass\n",
    "    addLabels(ax, x, y, z)\n",
    "    drawLines(ax, x, y, z)\n",
    "    # drawAllLines(ax, x, y, z)\n",
    "\n",
    "    # Labeling plot\n",
    "    ax.set_title(\"Rat positioning\")\n",
    "    ax.set_xlabel(\"X axis\")\n",
    "    ax.set_ylabel(\"Y axis\")\n",
    "    ax.set_zlabel(\"Z axis\")\n",
    "    plt.show()\n",
    "\n",
    "plotFrame(temp_2[2000])"
   ],
   "outputs": [],
   "metadata": {}
  },
  {
   "cell_type": "code",
   "execution_count": 42,
   "source": [
    "%matplotlib tk\n",
    "plt.plot([1, 2])"
   ],
   "outputs": [
    {
     "output_type": "execute_result",
     "data": {
      "text/plain": [
       "[<matplotlib.lines.Line2D at 0x7ff8c5680310>]"
      ]
     },
     "metadata": {},
     "execution_count": 42
    }
   ],
   "metadata": {}
  }
 ],
 "metadata": {
  "interpreter": {
   "hash": "8de543a527d38bc21d309dfa8a60aed366b41867ed03b1c23b526625b89003b8"
  },
  "kernelspec": {
   "name": "python3",
   "display_name": "Python 3.8.5 64-bit ('base': conda)"
  },
  "language_info": {
   "codemirror_mode": {
    "name": "ipython",
    "version": 3
   },
   "file_extension": ".py",
   "mimetype": "text/x-python",
   "name": "python",
   "nbconvert_exporter": "python",
   "pygments_lexer": "ipython3",
   "version": "3.8.5"
  },
  "orig_nbformat": 4
 },
 "nbformat": 4,
 "nbformat_minor": 2
}