{
 "cells": [
  {
   "cell_type": "code",
   "execution_count": 1,
   "metadata": {},
   "outputs": [],
   "source": [
    "from scipy.io import loadmat\n",
    "\n",
    "def loadMatFile(fileName):\n",
    "    mat = loadmat('trainTestSplit.mat')[fileName]\n",
    "    return mat"
   ]
  },
  {
   "cell_type": "code",
   "execution_count": 22,
   "metadata": {},
   "outputs": [],
   "source": [
    "import numpy as np\n",
    "mat = np.array(loadMatFile('split1True'))"
   ]
  },
  {
   "cell_type": "code",
   "execution_count": 34,
   "metadata": {},
   "outputs": [
    {
     "name": "stdout",
     "output_type": "stream",
     "text": [
      "[0, 1, 2, 3, 4, 5, 6, 7, 8, 9, 10, 11, 12, 13, 14, 15, 16, 17, 18, 19]\n",
      "[[  7.21153961          nan  12.95717769  32.5156768  124.01163232\n",
      "  132.19098011          nan 116.18691985 123.17364582 127.26893492\n",
      "   68.37621005          nan  80.80495285          nan  79.70314424\n",
      "   69.58907245 114.27608729 102.28834053  96.1629236  105.57887966]\n",
      " [270.17205125          nan 239.35739661 181.95542895 255.39546869\n",
      "  247.14235925          nan 231.81982802 227.98343355 272.41044932\n",
      "  277.78478105          nan 254.88851475          nan 301.51863079\n",
      "  298.00960646 284.41230205 223.72104306 227.0726099  285.47769268]\n",
      " [ 82.82244608          nan 102.42539587 154.0820938  108.87796953\n",
      "   55.53556747          nan  84.63114597  45.27385356  35.7336246\n",
      "   75.5606625           nan 120.83800125          nan  93.64472234\n",
      "   81.44292629  42.53326598  49.18684035  30.31383008  18.18057589]]\n"
     ]
    }
   ],
   "source": [
    "raw = mat[:500]\n",
    "raw_copy = raw.copy()\n",
    "import random\n",
    "temp = random.sample(range(20), 20)\n",
    "print(sorted(temp))\n",
    "\n",
    "for i in range(raw_copy.shape[0]):\n",
    "    rand_numb = random.randint(1, 4)\n",
    "    rand_index = random.sample(range(20), rand_numb)\n",
    "    for j in range(rand_numb):\n",
    "        raw_copy[i][:,rand_index[j]] = None\n",
    "print(raw_copy[3])\n"
   ]
  },
  {
   "cell_type": "code",
   "execution_count": 35,
   "metadata": {},
   "outputs": [
    {
     "name": "stdout",
     "output_type": "stream",
     "text": [
      "True\n"
     ]
    }
   ],
   "source": [
    "temp_list = [None, 1, 3,5, 67,7,8,9,3,54,63,3,5,7,2,3]\n",
    "print(None in temp_list)"
   ]
  }
 ],
 "metadata": {
  "interpreter": {
   "hash": "8de543a527d38bc21d309dfa8a60aed366b41867ed03b1c23b526625b89003b8"
  },
  "kernelspec": {
   "display_name": "Python 3.8.5 64-bit ('base': conda)",
   "name": "python3"
  },
  "language_info": {
   "codemirror_mode": {
    "name": "ipython",
    "version": 3
   },
   "file_extension": ".py",
   "mimetype": "text/x-python",
   "name": "python",
   "nbconvert_exporter": "python",
   "pygments_lexer": "ipython3",
   "version": "3.8.5"
  },
  "orig_nbformat": 4
 },
 "nbformat": 4,
 "nbformat_minor": 2
}