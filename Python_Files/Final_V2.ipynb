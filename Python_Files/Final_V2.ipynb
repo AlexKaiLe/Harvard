{
 "cells": [
  {
   "cell_type": "code",
   "execution_count": 1,
   "source": [
    "import numpy as np\n",
    "from numpy import save\n",
    "from numpy import asarray\n",
    "from numpy import load\n",
    "\n",
    "import matplotlib.pyplot as plt\n",
    "from mpl_toolkits.mplot3d import Axes3D\n",
    "from scipy.io import loadmat\n",
    "import tensorflow as tf\n",
    "from statistics import mean\n",
    "import random\n",
    "import progressbar\n",
    "from tensorflow.keras.models import Sequential\n",
    "from tensorflow.keras.layers import Dense, Conv2D, Dropout, Flatten, MaxPooling2D, MaxPool2D, LeakyReLU\n"
   ],
   "outputs": [],
   "metadata": {}
  },
  {
   "cell_type": "code",
   "execution_count": 2,
   "source": [
    "joint_name = ['HeadF', 'HeadB', 'HeadL', 'SpineF', 'SpineM', 'SpineL', \n",
    "            'Offset1', 'Offset2', 'HipL', 'HipR', 'ElbowL', 'ArmL', \n",
    "            'ShoulderL', 'ShoulderR', 'ElbowR', 'ArmR', 'KneeR', \n",
    "            'KneeL', 'ShinL', 'ShinR']\n",
    "\n",
    "joints_idx = [[1, 2], [2, 3], [1, 3], [2, 4], [1, 4], [3, 4], [4, 5], \n",
    "            [5, 6], [4, 7], [7, 8], [5, 8], [5, 7], [6, 8], [6, 9], \n",
    "            [6, 10], [11, 12], [4, 13], [4, 14], [11, 13], [12, 13], \n",
    "            [14, 15], [14, 16], [15, 16], [9, 18], [10, 17], [18, 19], \n",
    "            [17, 20]]"
   ],
   "outputs": [],
   "metadata": {}
  },
  {
   "cell_type": "code",
   "execution_count": 3,
   "source": [
    "# normalizes a matrix\n",
    "def normalize(matrix):\n",
    "    max_numb = max(matrix[~np.isnan(matrix)])\n",
    "    norm = matrix/max_numb\n",
    "    return np.array(norm)\n",
    "    # return matrix"
   ],
   "outputs": [],
   "metadata": {}
  },
  {
   "cell_type": "code",
   "execution_count": 4,
   "source": [
    "from scipy.spatial.distance import cdist\n",
    "# Get the distance to every single point \n",
    "def getAllDistances(matFile, numb):\n",
    "    mat = matFile[numb]\n",
    "    mat = mat.T\n",
    "    dist = cdist(mat, mat, 'euclidean')\n",
    "    norm = normalize(dist)\n",
    "    max_dist = max(dist.flatten())\n",
    "    return norm, max_dist"
   ],
   "outputs": [],
   "metadata": {}
  },
  {
   "cell_type": "code",
   "execution_count": 5,
   "source": [
    "# Get the absolute height difference to every single point \n",
    "def getAllHeights(matFile, numb):\n",
    "    mat = matFile[numb]\n",
    "    z = mat[2]\n",
    "    reshaped = int(matFile.shape[2])\n",
    "    height = []\n",
    "\n",
    "    for i in range(reshaped):\n",
    "        for j in range(reshaped):\n",
    "            if np.nan in [z[i], z[j]]:\n",
    "                height.append(np.nan)\n",
    "            else:\n",
    "                height.append(np.abs(z[i]-z[j]))\n",
    "\n",
    "    # normalizes height data\n",
    "    height = normalize(np.array(height).reshape(reshaped, reshaped))\n",
    "    return height, max(height.flatten())\n"
   ],
   "outputs": [],
   "metadata": {}
  },
  {
   "cell_type": "code",
   "execution_count": 6,
   "source": [
    "# Get the angle to every single point \n",
    "def getAllAngles(matFile, numb):\n",
    "    mat = matFile[numb]\n",
    "    mat = mat.T\n",
    "    angle = cdist(mat, mat, 'cosine')\n",
    "    return normalize(angle), max(angle.flatten())"
   ],
   "outputs": [],
   "metadata": {}
  },
  {
   "cell_type": "code",
   "execution_count": 7,
   "source": [
    "def getData(data, numb): \n",
    "    cnn_inputs = []\n",
    "    max_dist_list = []\n",
    "    max_height_list = []\n",
    "    max_angle_list = []\n",
    "\n",
    "    bar = progressbar.ProgressBar()\n",
    "\n",
    "    for i in bar(range(numb)):\n",
    "        dist, max_dist = getAllDistances(data, i) \n",
    "        height, max_height = getAllHeights(data, i)\n",
    "        angle, max_angle = getAllAngles(data, i)\n",
    "\n",
    "        # max_dist_list.append(max_dist)\n",
    "        # max_height_list.append(max_height)\n",
    "        # max_angle_list.append(max_angle)\n",
    "\n",
    "        for j in range(0, data.shape[2]):\n",
    "            temp = np.array([dist[j], height[j], angle[j]])\n",
    "            first = temp[:,0:3]\n",
    "            second = temp[:,3:20]\n",
    "            first = first [ :, first[0].argsort()]\n",
    "            second = second [ :, second[0].argsort()]\n",
    "            output = np.concatenate((first, second), axis =1)\n",
    "            cnn_inputs.append(output)\n",
    "\n",
    "            big = output[:,:13]\n",
    "            where_are_NaNs = np.isnan(big)\n",
    "            big[where_are_NaNs] = 0\n",
    "            max_dist_list.append(np.max(big[0]))\n",
    "            max_height_list.append(np.max(big[1]))\n",
    "            max_angle_list.append(np.max(big[2]))\n",
    "\n",
    "    avg_max_dist = mean(max_dist_list)\n",
    "    avg_max_height = mean(max_height_list)\n",
    "    avg_max_angle = mean(max_angle_list)\n",
    "    avg_max = [avg_max_dist, avg_max_height, avg_max_angle]\n",
    "\n",
    "    cnn_inputs = np.array(cnn_inputs)[:,:,:13]\n",
    "    final = []\n",
    "    for i in range(len(cnn_inputs)):\n",
    "        for j in range(3):\n",
    "            final.append(cnn_inputs[i][j]/avg_max[j])\n",
    "    \n",
    "    cnn_inputs = np.array(final).reshape((cnn_inputs.shape[0], 39))\n",
    "    where_are_NaNs = np.isnan(cnn_inputs)\n",
    "    cnn_inputs[where_are_NaNs] = 0\n",
    "    return cnn_inputs\n"
   ],
   "outputs": [],
   "metadata": {}
  },
  {
   "cell_type": "code",
   "execution_count": 8,
   "source": [
    "train_file = loadmat('mat_files/bigSet2.mat')\n",
    "test_file = loadmat('mat_files/bigSet3.mat')"
   ],
   "outputs": [],
   "metadata": {}
  },
  {
   "cell_type": "code",
   "execution_count": 9,
   "source": [
    "train_data = train_file['bigSet2']\n",
    "test_data = test_file['bigSet3']\n",
    "train_labels = train_file['labels2']\n",
    "test_labels = test_file['labels3']\n",
    "# set numb of data used\n",
    "numb_train = len(train_data)\n",
    "numb_test = 1000\n",
    "\n",
    "# Take some frames from the list to use as trian and test data\n",
    "# index_train = np.linspace(0, len(train_labels), num = numb_train, endpoint=False).astype(int)\n",
    "index_test = np.linspace(0, len(test_labels), num = numb_test, endpoint=False).astype(int)\n",
    "# pre_train_data = train_data[index_train]\n",
    "# pre_train_labels = train_labels[index_train]\n",
    "pre_train_data = train_data\n",
    "pre_train_labels = train_labels\n",
    "pre_test_data = test_data[index_test]\n",
    "pre_test_labels = test_labels[index_test]\n",
    "\n",
    "print(\"Shape of pre_train_data:\", pre_train_data.shape)\n",
    "print(\"Shape of pre_test_data:\", pre_test_data.shape)\n",
    "print(\"Shape of pre_train_labels:\", pre_train_labels.shape)\n",
    "print(\"Shape of pre_test_labels:\", pre_test_labels.shape)\n"
   ],
   "outputs": [
    {
     "output_type": "stream",
     "name": "stdout",
     "text": [
      "Shape of pre_train_data: (221151, 3, 20)\n",
      "Shape of pre_test_data: (1000, 3, 20)\n",
      "Shape of pre_train_labels: (221151, 20)\n",
      "Shape of pre_test_labels: (1000, 20)\n"
     ]
    }
   ],
   "metadata": {}
  },
  {
   "cell_type": "code",
   "execution_count": 10,
   "source": [
    "# Get measurement data for every 3D point\n",
    "train_data = getData(pre_train_data, numb_train)\n",
    "test_data = getData(pre_test_data, numb_test)\n",
    "\n",
    "# Flatten the trian labels to fit dimentions of data\n",
    "train_labels = pre_train_labels.flatten()[0:(numb_train*20)]-1\n",
    "test_labels = pre_test_labels.flatten()[0:(numb_test*20)]-1\n",
    "\n",
    "print(\"Shape of train_data:\", train_data.shape)\n",
    "print(\"Shape of test_data:\", test_data.shape)\n",
    "print(\"Shape of train_labels:\", train_labels.shape)\n",
    "print(\"Shape of test_labels:\", test_labels.shape)"
   ],
   "outputs": [
    {
     "output_type": "stream",
     "name": "stderr",
     "text": [
      "100% (221151 of 221151) |################| Elapsed Time: 0:14:36 Time:  0:14:36\n",
      "100% (1000 of 1000) |####################| Elapsed Time: 0:00:02 Time:  0:00:02\n"
     ]
    },
    {
     "output_type": "stream",
     "name": "stdout",
     "text": [
      "Shape of train_data: (4423020, 39)\n",
      "Shape of test_data: (20000, 39)\n",
      "Shape of train_labels: (4423020,)\n",
      "Shape of test_labels: (20000,)\n"
     ]
    }
   ],
   "metadata": {}
  },
  {
   "cell_type": "code",
   "execution_count": 11,
   "source": [
    "# Get index where the data is all 0\n",
    "nans_train = np.sort(np.where(~train_data.any(axis=1))[0])[::-1]\n",
    "nans_test = np.sort(np.where(~test_data.any(axis=1))[0])[::-1]\n",
    "\n",
    "# Turn data into lists\n",
    "train_data_new = list(train_data)\n",
    "test_data_new = list(test_data)\n",
    "train_labels_new = list(train_labels)\n",
    "test_labels_new = list(test_labels)\n",
    "\n",
    "bar = progressbar.ProgressBar()\n",
    "# Remove the nan values \n",
    "for i in bar(nans_train):\n",
    "    train_data_new.pop(i)\n",
    "    train_labels_new.pop(i)\n",
    "bar = progressbar.ProgressBar()\n",
    "for i in bar(nans_test):\n",
    "    test_data_new.pop(i)\n",
    "    test_labels_new.pop(i)\n",
    "\n",
    "# Turn data back into array\n",
    "train_data_new = np.array(train_data_new)\n",
    "train_labels_new = np.array(train_labels_new)\n",
    "test_data_new = np.array(test_data_new)\n",
    "test_labels_new = np.array(test_labels_new)\n",
    "\n",
    "print(\"Shape of train_data_new:\", train_data_new.shape)\n",
    "print(\"Shape of test_data_new:\", test_data_new.shape)\n",
    "print(\"Shape of train_labels_new:\", train_labels_new.shape)\n",
    "print(\"Shape of test_labels_new:\", test_labels_new.shape)"
   ],
   "outputs": [
    {
     "output_type": "stream",
     "name": "stderr",
     "text": [
      "100% (397728 of 397728) |################| Elapsed Time: 0:31:49 Time:  0:31:49\n",
      "100% (1819 of 1819) |####################| Elapsed Time: 0:00:00 Time:  0:00:00\n"
     ]
    },
    {
     "output_type": "stream",
     "name": "stdout",
     "text": [
      "Shape of train_data_new: (4025292, 39)\n",
      "Shape of test_data_new: (18181, 39)\n",
      "Shape of train_labels_new: (4025292,)\n",
      "Shape of test_labels_new: (18181,)\n"
     ]
    }
   ],
   "metadata": {}
  },
  {
   "cell_type": "code",
   "execution_count": 12,
   "source": [
    "# Creates the ML training platform to predict rat joints\n",
    "def ml_traning(train_data, train_labels, test_data, test_labels):\n",
    "    # DIMENTION CHANGE\n",
    "    train_data = train_data.reshape(train_data.shape[0], 39)\n",
    "    test_data = test_data.reshape(test_data.shape[0], 39)\n",
    "    # train_data = train_data.reshape(train_data.shape[0], 60)\n",
    "    # test_data = test_data.reshape(test_data.shape[0], 60)\n",
    "    train_data = train_data.astype('float32')\n",
    "    test_data = test_data.astype('float32')\n",
    "\n",
    "    model = createModel()\n",
    "    checkpoint_path = \"training_1/cp.ckpt\"\n",
    "    cp_callback = tf.keras.callbacks.ModelCheckpoint(filepath=checkpoint_path, save_weights_only=True, verbose=1)\n",
    "\n",
    "    model.fit(x=train_data,y=train_labels, verbose='auto', batch_size=20, epochs=2, validation_data=(test_data, test_labels), callbacks=[cp_callback])\n",
    "    \n",
    "    loss, acc = model.evaluate(test_data, test_labels, verbose=2)\n",
    "    print(\"Loss:\", loss)\n",
    "    print(\"Accuracy:\", acc*100)\n",
    "    return model\n",
    "\n",
    "# Creates the model for the CNN\n",
    "def createModel():\n",
    "    model = Sequential()\n",
    "    model.add(Dense(120, activation= LeakyReLU()))\n",
    "    model.add(Dense(320, activation= LeakyReLU()))\n",
    "    # model.add(Dropout(rate=0.25))\n",
    "    model.add(Dense(80, activation= LeakyReLU()))\n",
    "    model.add(Dense(len(joint_name), activation = \"softmax\"))\n",
    "    model.compile(optimizer='adam',loss='sparse_categorical_crossentropy', metrics=['accuracy'])\n",
    "    return model"
   ],
   "outputs": [],
   "metadata": {}
  },
  {
   "cell_type": "code",
   "execution_count": 77,
   "source": [
    "save_train_data = asarray(train_data_new)\n",
    "save_train_labels = asarray(train_labels_new)\n",
    "save_test_data = asarray(test_data_new)\n",
    "save_test_labels = asarray(test_labels_new)\n",
    "folder = 'datasets/data_2/'\n",
    "save(folder + 'train_data.npy', save_train_data)\n",
    "save(folder + 'train_labels.npy', save_train_labels)\n",
    "save(folder + 'test_data.npy', save_test_data)\n",
    "save(folder + 'test_labels.npy', save_test_labels)\n",
    "\n",
    "# train_data_new = load(folder + 'train_data.npy')\n",
    "# train_labels_new = load(folder + 'train_labels.npy')\n",
    "# test_data_new = load(folder + 'test_data.npy')\n",
    "# test_labels_new = load(folder + 'test_labels.npy')"
   ],
   "outputs": [],
   "metadata": {}
  },
  {
   "cell_type": "code",
   "execution_count": 15,
   "source": [
    "skeleton_model = ml_traning(train_data_new, train_labels_new, test_data_new, test_labels_new)"
   ],
   "outputs": [
    {
     "output_type": "stream",
     "name": "stdout",
     "text": [
      "Epoch 1/2\n",
      "201265/201265 [==============================] - 388s 2ms/step - loss: 0.4920 - accuracy: 0.8394 - val_loss: 0.8740 - val_accuracy: 0.7767\n",
      "\n",
      "Epoch 00001: saving model to training_1/cp.ckpt\n",
      "Epoch 2/2\n",
      "201265/201265 [==============================] - 493s 2ms/step - loss: 0.3434 - accuracy: 0.8895 - val_loss: 0.8310 - val_accuracy: 0.7958\n",
      "\n",
      "Epoch 00002: saving model to training_1/cp.ckpt\n",
      "569/569 - 1s - loss: 0.8310 - accuracy: 0.7958\n",
      "Loss: 0.8310147523880005\n",
      "Accuracy: 79.5775830745697\n"
     ]
    }
   ],
   "metadata": {}
  },
  {
   "cell_type": "code",
   "execution_count": 16,
   "source": [
    "# # skeleton_model = ml_traning(train_data_new, train_labels_new, test_data_new, test_labels_new)\n",
    "# checkpoint_path = \"training_2/cp.ckpt\"\n",
    "# temp_model = createModel()\n",
    "# temp_model.load_weights(checkpoint_path).expect_partial()\n",
    "\n",
    "# # Re-evaluate the model\n",
    "# loss, acc = temp_model.evaluate(test_data, test_labels, verbose=2)\n",
    "# print(\"Restored model, accuracy: {:5.2f}%\".format(100 * acc))"
   ],
   "outputs": [],
   "metadata": {}
  },
  {
   "cell_type": "code",
   "execution_count": 17,
   "source": [
    "# Tests individual points and tells you if the CNN worked\n",
    "def handTest(image_index, test_data, label, model, maxNumb):\n",
    "    max_index = len(joint_name)*maxNumb-1\n",
    "    if image_index <= max_index:\n",
    "        predict(test_data, image_index, label, model)\n",
    "    else:\n",
    "        print(\"ERROR: Your predict_index must be below\", max_index)\n",
    "\n",
    "# Showing individual predictions\n",
    "def predict(data, image_index, label, model):\n",
    "    img = [data[image_index]]\n",
    "    # DIMENTION CHANGE\n",
    "    img = np.array(img).reshape(3,13)\n",
    "    # img = np.array(img).reshape(3,20)\n",
    "    plt.imshow(img)\n",
    "    plt.show()\n",
    "\n",
    "    pred = model.predict(img.reshape(1, 39))\n",
    "    # pred = model.predict(img.reshape(1, 60))\n",
    "    predict = pred.argmax()\n",
    "    actual = label[image_index]\n",
    "\n",
    "    print(\"Actual:\", actual)\n",
    "    print(\"Predicted:\", predict)\n",
    "    \n",
    "    if predict == actual:\n",
    "        print(\"YAY ✿(ᵔ‿ᵔ)\")\n",
    "    else:\n",
    "        print(\"Wrong (◕︵◕)\")\n",
    "\n",
    "    "
   ],
   "outputs": [],
   "metadata": {}
  },
  {
   "cell_type": "code",
   "execution_count": 18,
   "source": [
    "# for i in range(420,440):\n",
    "#     handTest(i, test_data, test_labels, skeleton_model, numb_test)"
   ],
   "outputs": [],
   "metadata": {}
  },
  {
   "cell_type": "code",
   "execution_count": 19,
   "source": [
    "# index = 1234\n",
    "# frame = int(index/20)\n",
    "\n",
    "# print(\"Train input\")\n",
    "# plt.imshow(pre_train_data[frame].reshape(3,20))\n",
    "# plt.show()\n",
    "# # DIMENTION CHANGE\n",
    "# plt.imshow(train_data[index].reshape(3,13))\n",
    "# plt.show()\n",
    "\n",
    "# print(\"Test input\")\n",
    "# plt.imshow(pre_test_data[frame].reshape(3,20))\n",
    "# plt.show()\n",
    "# plt.imshow(test_data[index].reshape(3,13))\n",
    "# plt.show()"
   ],
   "outputs": [],
   "metadata": {}
  },
  {
   "cell_type": "code",
   "execution_count": 20,
   "source": [
    "temporal = loadmat('mat_files/test_temp.mat')"
   ],
   "outputs": [],
   "metadata": {}
  },
  {
   "cell_type": "code",
   "execution_count": 21,
   "source": [
    "time_pts = temporal['new_combed']\n",
    "num_fms = 3000\n",
    "num_pts = int(time_pts.shape[0]/3) #22\n",
    "test_pts = time_pts[:,:num_fms]\n",
    "\n",
    "plt.imshow(time_pts, interpolation='nearest', aspect=\"auto\")\n",
    "plt.show()\n",
    "# plt.imshow(test_pts, interpolation='nearest', aspect=\"auto\")\n",
    "# plt.show()"
   ],
   "outputs": [
    {
     "output_type": "display_data",
     "data": {
      "text/plain": [
       "<Figure size 432x288 with 1 Axes>"
      ],
      "image/png": "[encoded data removed]"
     },
     "metadata": {
      "needs_background": "light"
     }
    }
   ],
   "metadata": {}
  },
  {
   "cell_type": "code",
   "execution_count": 22,
   "source": [
    "input_pts = test_pts.reshape(num_pts, 3, num_fms).T"
   ],
   "outputs": [],
   "metadata": {}
  },
  {
   "cell_type": "code",
   "execution_count": 23,
   "source": [
    "processed_time = getData(input_pts, len(input_pts))\n",
    "process_pts = processed_time.reshape(3000, 22, 39)\n",
    "temp = processed_time.reshape(3000, 22, 39)\n",
    "processed = np.transpose(temp,(1, 0, 2))"
   ],
   "outputs": [
    {
     "output_type": "stream",
     "name": "stderr",
     "text": [
      "100% (3000 of 3000) |####################| Elapsed Time: 0:00:11 Time:  0:00:11\n"
     ]
    }
   ],
   "metadata": {}
  },
  {
   "cell_type": "code",
   "execution_count": 24,
   "source": [
    "# # Check if process_pts is valid\n",
    "\n",
    "# frame_index = 2999\n",
    "# pt = 2\n",
    "# plt.imshow(input_pts[frame_index].reshape(3,num_pts))\n",
    "# plt.show()\n",
    "\n",
    "# plt.imshow(process_pts[frame_index], interpolation='nearest', aspect=\"auto\")\n",
    "# plt.show()\n",
    "\n",
    "\n",
    "\n",
    "# # plt.imshow([presplit_process[frame_index]], interpolation='nearest', aspect=\"auto\")\n",
    "# plt.imshow(processed[:,frame_index], interpolation='nearest', aspect=\"auto\")\n",
    "# plt.show()\n",
    "\n",
    "# plt.imshow(process_pts[frame_index][pt].reshape(3,13))\n",
    "# plt.show()\n",
    "# plt.imshow(processed[pt][frame_index].reshape(3,13))\n",
    "# plt.show()"
   ],
   "outputs": [],
   "metadata": {}
  },
  {
   "cell_type": "code",
   "execution_count": 25,
   "source": [
    "chunks = []\n",
    "temp = np.ones((22,3000))\n",
    "bar = progressbar.ProgressBar()\n",
    "# run through all the registered points (0,22)\n",
    "for i in bar(range(num_pts)):\n",
    "    # get every third row\n",
    "    row = i*3\n",
    "    row_list = []\n",
    "    temp_list = []\n",
    "\n",
    "    # run through length of each row (0,3000)\n",
    "    for j in range(num_fms): \n",
    "        # not a nan, add index to list\n",
    "        if not np.isnan(test_pts[row][j]):\n",
    "            temp_list.append(j)\n",
    "            temp[i][j] = temp[i][j]*2\n",
    "        # if element is a nan and the current list is not empty\n",
    "        elif len(temp_list) > 0:\n",
    "            # add list to output and clear the list\n",
    "            row_list.append([temp_list[0], temp_list[-1]])\n",
    "            temp_list = []\n",
    "    # edge case, add to output if the list still contains values\n",
    "    if len(temp_list) > 0:\n",
    "        row_list.append([temp_list[0], temp_list[-1]])\n",
    "    chunks.append(row_list)"
   ],
   "outputs": [
    {
     "output_type": "stream",
     "name": "stderr",
     "text": [
      "100% (22 of 22) |########################| Elapsed Time: 0:00:00 Time:  0:00:00\n"
     ]
    }
   ],
   "metadata": {}
  },
  {
   "cell_type": "code",
   "execution_count": 26,
   "source": [
    "# plt.imshow(temp, interpolation='nearest', aspect=\"auto\")\n",
    "# plt.show\n",
    "# plt.imshow(test_pts, interpolation='nearest', aspect=\"auto\")\n",
    "# plt.show"
   ],
   "outputs": [],
   "metadata": {}
  },
  {
   "cell_type": "code",
   "execution_count": 27,
   "source": [
    "# Check the chunk list\n",
    "chunks = np.array(chunks, dtype=list)\n",
    "for i in range(len(chunks)):\n",
    "    print(\"Point: \"+str(i) +\", Chunks: \" + str(len(chunks[i])))"
   ],
   "outputs": [
    {
     "output_type": "stream",
     "name": "stdout",
     "text": [
      "Point: 0, Chunks: 1\n",
      "Point: 1, Chunks: 1\n",
      "Point: 2, Chunks: 1\n",
      "Point: 3, Chunks: 1\n",
      "Point: 4, Chunks: 1\n",
      "Point: 5, Chunks: 1\n",
      "Point: 6, Chunks: 1\n",
      "Point: 7, Chunks: 11\n",
      "Point: 8, Chunks: 1\n",
      "Point: 9, Chunks: 1\n",
      "Point: 10, Chunks: 1\n",
      "Point: 11, Chunks: 12\n",
      "Point: 12, Chunks: 1\n",
      "Point: 13, Chunks: 7\n",
      "Point: 14, Chunks: 1\n",
      "Point: 15, Chunks: 27\n",
      "Point: 16, Chunks: 9\n",
      "Point: 17, Chunks: 34\n",
      "Point: 18, Chunks: 26\n",
      "Point: 19, Chunks: 18\n",
      "Point: 20, Chunks: 12\n",
      "Point: 21, Chunks: 24\n"
     ]
    }
   ],
   "metadata": {}
  },
  {
   "cell_type": "code",
   "execution_count": 28,
   "source": [
    "from scipy import stats\n",
    "temporal_data = []\n",
    "predict_numbs = []\n",
    "confidence_levels = []\n",
    "\n",
    "# loop through all the points (0,22)\n",
    "for i in range(len(chunks)):\n",
    "# for i in range(3):\n",
    "    seg_range = []\n",
    "    mode_predict = []\n",
    "    conf_predict = []\n",
    "    conf_level = []\n",
    "    pred_numbs = []\n",
    "\n",
    "\n",
    "    # list of chunks in a row\n",
    "    data = chunks[i]\n",
    "    print(\"\\nPoint: \"+ str(i) + \", Segments: \" + str(len(data)))\n",
    "    # loop through all the chunks per row (0,1)\n",
    "    for j in range(len(data)):\n",
    "        conf = []\n",
    "        pred = []\n",
    "        seg = data[j] #segment range ie. [0,2999]\n",
    "        lower = seg[0]\n",
    "        upper = seg[1]+1\n",
    "        seg_len = upper - lower\n",
    "        \n",
    "        # loop through range of each chunk (0,3000)\n",
    "        bar = progressbar.ProgressBar()\n",
    "        for k in range(lower, upper): \n",
    "        # for k in range(100):\n",
    "            # if k < 5:\n",
    "            #     plt.imshow(processed[i][k].reshape(3,13))\n",
    "            #     plt.show()\n",
    "            model_pred = skeleton_model.predict(processed[i][k].reshape(1,39))\n",
    "\n",
    "            # get the confidence of predicition\n",
    "            if len(conf) == 0: \n",
    "                conf = model_pred[0]\n",
    "            else:\n",
    "                conf += model_pred[0]\n",
    "\n",
    "            # get prediction\n",
    "            pred.append(model_pred.argmax())\n",
    "            \n",
    "        # turn into arrays\n",
    "        conf = np.array(conf)\n",
    "        pred = np.array(pred)\n",
    "\n",
    "        # get mode predictions\n",
    "        mode_data = stats.mode(pred, axis = 0)\n",
    "        mode_pred = mode_data[0].flatten()[0]\n",
    "        mode_count = mode_data[1].flatten()[0]\n",
    "        mode_conf = mode_count/seg_len\n",
    "\n",
    "        # get confidence predictions\n",
    "        conf_pred = conf.argmax()\n",
    "        conf_count = np.sum(pred == conf_pred)\n",
    "        conf_conf = conf.max()/seg_len\n",
    "\n",
    "        # adding to output arrays\n",
    "        # seg_range.append(seg)\n",
    "        conf_level.append(conf)\n",
    "        pred_numbs.append(pred)\n",
    "        mode_predict.append([mode_pred, mode_conf, seg, (seg_len-mode_count), mode_count, seg_len])\n",
    "        conf_predict.append([conf_pred, conf_conf, seg, (seg_len-conf_count), conf_count, seg_len])\n",
    "\n",
    "        # Display current state\n",
    "        print(\"Segment: \"+str(j) + \")\", seg, \"Predicted point: (M:\" + str(mode_pred) + \", C:\" + str(conf_pred) + \"), [\" + str(mode_count) + \", \" + str(conf_count) + \"] /\", seg_len, end = \" \")\n",
    "        if (mode_pred == conf_pred):\n",
    "            print(\"Yay\")\n",
    "        else:\n",
    "            print(\"Conflict\")\n",
    "    \n",
    "    # adding to output arrays\n",
    "    confidence_levels.append(conf_level)\n",
    "    predict_numbs.append(pred_numbs)\n",
    "    temporal_data.append([mode_predict, conf_predict])"
   ],
   "outputs": [
    {
     "output_type": "stream",
     "name": "stdout",
     "text": [
      "\n",
      "Point: 0, Segments: 1\n",
      "Segment: 0) [0, 2999] Predicted point: (M:2, C:2), [2840, 2840] / 3000 Yay\n",
      "\n",
      "Point: 1, Segments: 1\n",
      "Segment: 0) [0, 2999] Predicted point: (M:0, C:0), [2411, 2411] / 3000 Yay\n",
      "\n",
      "Point: 2, Segments: 1\n",
      "Segment: 0) [0, 2999] Predicted point: (M:8, C:8), [1602, 1602] / 3000 Yay\n",
      "\n",
      "Point: 3, Segments: 1\n",
      "Segment: 0) [0, 2999] Predicted point: (M:8, C:8), [2882, 2882] / 3000 Yay\n",
      "\n",
      "Point: 4, Segments: 1\n",
      "Segment: 0) [0, 2999] Predicted point: (M:8, C:8), [2888, 2888] / 3000 Yay\n",
      "\n",
      "Point: 5, Segments: 1\n",
      "Segment: 0) [0, 2999] Predicted point: (M:17, C:17), [2483, 2483] / 3000 Yay\n",
      "\n",
      "Point: 6, Segments: 1\n",
      "Segment: 0) [0, 2999] Predicted point: (M:8, C:8), [2898, 2898] / 3000 Yay\n",
      "\n",
      "Point: 7, Segments: 11\n",
      "Segment: 0) [0, 190] Predicted point: (M:19, C:19), [144, 144] / 191 Yay\n",
      "Segment: 1) [192, 214] Predicted point: (M:19, C:19), [23, 23] / 23 Yay\n",
      "Segment: 2) [216, 344] Predicted point: (M:19, C:19), [111, 111] / 129 Yay\n",
      "Segment: 3) [346, 1432] Predicted point: (M:11, C:11), [563, 563] / 1087 Yay\n",
      "Segment: 4) [2231, 2242] Predicted point: (M:19, C:19), [12, 12] / 12 Yay\n",
      "Segment: 5) [2247, 2261] Predicted point: (M:19, C:19), [15, 15] / 15 Yay\n",
      "Segment: 6) [2282, 2282] Predicted point: (M:18, C:18), [1, 1] / 1 Yay\n",
      "Segment: 7) [2392, 2395] Predicted point: (M:18, C:18), [4, 4] / 4 Yay\n",
      "Segment: 8) [2397, 2398] Predicted point: (M:18, C:18), [2, 2] / 2 Yay\n",
      "Segment: 9) [2450, 2477] Predicted point: (M:18, C:18), [28, 28] / 28 Yay\n",
      "Segment: 10) [2859, 2864] Predicted point: (M:18, C:18), [3, 3] / 6 Yay\n",
      "\n",
      "Point: 8, Segments: 1\n",
      "Segment: 0) [0, 2999] Predicted point: (M:18, C:18), [2683, 2683] / 3000 Yay\n",
      "\n",
      "Point: 9, Segments: 1\n",
      "Segment: 0) [0, 2999] Predicted point: (M:18, C:18), [2824, 2824] / 3000 Yay\n",
      "\n",
      "Point: 10, Segments: 1\n",
      "Segment: 0) [0, 2999] Predicted point: (M:17, C:17), [1070, 1070] / 3000 Yay\n",
      "\n",
      "Point: 11, Segments: 12\n",
      "Segment: 0) [0, 44] Predicted point: (M:18, C:18), [45, 45] / 45 Yay\n",
      "Segment: 1) [337, 349] Predicted point: (M:18, C:18), [13, 13] / 13 Yay\n",
      "Segment: 2) [362, 373] Predicted point: (M:18, C:18), [12, 12] / 12 Yay\n",
      "Segment: 3) [396, 400] Predicted point: (M:18, C:18), [5, 5] / 5 Yay\n",
      "Segment: 4) [452, 452] Predicted point: (M:18, C:18), [1, 1] / 1 Yay\n",
      "Segment: 5) [1236, 1236] Predicted point: (M:8, C:8), [1, 1] / 1 Yay\n",
      "Segment: 6) [1306, 1306] Predicted point: (M:8, C:8), [1, 1] / 1 Yay\n",
      "Segment: 7) [1431, 1431] Predicted point: (M:8, C:8), [1, 1] / 1 Yay\n",
      "Segment: 8) [2192, 2203] Predicted point: (M:18, C:18), [9, 9] / 12 Yay\n",
      "Segment: 9) [2321, 2346] Predicted point: (M:18, C:18), [26, 26] / 26 Yay\n",
      "Segment: 10) [2479, 2723] Predicted point: (M:18, C:18), [245, 245] / 245 Yay\n",
      "Segment: 11) [2725, 2861] Predicted point: (M:18, C:18), [134, 134] / 137 Yay\n",
      "\n",
      "Point: 12, Segments: 1\n",
      "Segment: 0) [0, 2999] Predicted point: (M:3, C:3), [1005, 1005] / 3000 Yay\n",
      "\n",
      "Point: 13, Segments: 7\n",
      "Segment: 0) [0, 764] Predicted point: (M:15, C:15), [689, 689] / 765 Yay\n",
      "Segment: 1) [1160, 1162] Predicted point: (M:15, C:15), [3, 3] / 3 Yay\n",
      "Segment: 2) [1167, 1181] Predicted point: (M:15, C:15), [15, 15] / 15 Yay\n",
      "Segment: 3) [1354, 1365] Predicted point: (M:15, C:15), [12, 12] / 12 Yay\n",
      "Segment: 4) [1417, 1421] Predicted point: (M:15, C:15), [5, 5] / 5 Yay\n",
      "Segment: 5) [1428, 1439] Predicted point: (M:15, C:15), [11, 11] / 12 Yay\n",
      "Segment: 6) [1453, 2999] Predicted point: (M:15, C:15), [1070, 1070] / 1547 Yay\n",
      "\n",
      "Point: 14, Segments: 1\n",
      "Segment: 0) [0, 2999] Predicted point: (M:8, C:8), [2300, 2300] / 3000 Yay\n",
      "\n",
      "Point: 15, Segments: 27\n",
      "Segment: 0) [0, 2320] Predicted point: (M:10, C:10), [1426, 1426] / 2321 Yay\n",
      "Segment: 1) [2798, 2799] Predicted point: (M:18, C:18), [2, 2] / 2 Yay\n",
      "Segment: 2) [2801, 2802] Predicted point: (M:18, C:18), [2, 2] / 2 Yay\n",
      "Segment: 3) [2805, 2807] Predicted point: (M:18, C:18), [3, 3] / 3 Yay\n",
      "Segment: 4) [2810, 2812] Predicted point: (M:18, C:18), [3, 3] / 3 Yay\n",
      "Segment: 5) [2816, 2816] Predicted point: (M:18, C:18), [1, 1] / 1 Yay\n",
      "Segment: 6) [2839, 2839] Predicted point: (M:18, C:18), [1, 1] / 1 Yay\n",
      "Segment: 7) [2846, 2846] Predicted point: (M:18, C:18), [1, 1] / 1 Yay\n",
      "Segment: 8) [2848, 2848] Predicted point: (M:18, C:18), [1, 1] / 1 Yay\n",
      "Segment: 9) [2850, 2850] Predicted point: (M:18, C:18), [1, 1] / 1 Yay\n",
      "Segment: 10) [2858, 2859] Predicted point: (M:15, C:18), [1, 1] / 2 Conflict\n",
      "Segment: 11) [2867, 2867] Predicted point: (M:18, C:18), [1, 1] / 1 Yay\n",
      "Segment: 12) [2876, 2877] Predicted point: (M:18, C:18), [2, 2] / 2 Yay\n",
      "Segment: 13) [2879, 2880] Predicted point: (M:18, C:18), [2, 2] / 2 Yay\n",
      "Segment: 14) [2887, 2887] Predicted point: (M:18, C:18), [1, 1] / 1 Yay\n",
      "Segment: 15) [2889, 2892] Predicted point: (M:18, C:18), [4, 4] / 4 Yay\n",
      "Segment: 16) [2895, 2899] Predicted point: (M:18, C:18), [5, 5] / 5 Yay\n",
      "Segment: 17) [2902, 2902] Predicted point: (M:18, C:18), [1, 1] / 1 Yay\n",
      "Segment: 18) [2913, 2916] Predicted point: (M:18, C:18), [4, 4] / 4 Yay\n",
      "Segment: 19) [2923, 2923] Predicted point: (M:18, C:18), [1, 1] / 1 Yay\n",
      "Segment: 20) [2928, 2930] Predicted point: (M:18, C:18), [3, 3] / 3 Yay\n",
      "Segment: 21) [2932, 2932] Predicted point: (M:18, C:18), [1, 1] / 1 Yay\n",
      "Segment: 22) [2936, 2936] Predicted point: (M:18, C:18), [1, 1] / 1 Yay\n",
      "Segment: 23) [2939, 2939] Predicted point: (M:18, C:18), [1, 1] / 1 Yay\n",
      "Segment: 24) [2943, 2946] Predicted point: (M:18, C:18), [4, 4] / 4 Yay\n",
      "Segment: 25) [2952, 2953] Predicted point: (M:18, C:18), [2, 2] / 2 Yay\n",
      "Segment: 26) [2956, 2956] Predicted point: (M:18, C:18), [1, 1] / 1 Yay\n",
      "\n",
      "Point: 16, Segments: 9\n",
      "Segment: 0) [0, 24] Predicted point: (M:19, C:19), [25, 25] / 25 Yay\n",
      "Segment: 1) [26, 38] Predicted point: (M:19, C:19), [13, 13] / 13 Yay\n",
      "Segment: 2) [41, 44] Predicted point: (M:19, C:19), [4, 4] / 4 Yay\n",
      "Segment: 3) [47, 261] Predicted point: (M:19, C:19), [213, 213] / 215 Yay\n",
      "Segment: 4) [263, 298] Predicted point: (M:19, C:19), [36, 36] / 36 Yay\n",
      "Segment: 5) [302, 308] Predicted point: (M:19, C:19), [7, 7] / 7 Yay\n",
      "Segment: 6) [311, 315] Predicted point: (M:19, C:19), [5, 5] / 5 Yay\n",
      "Segment: 7) [324, 2858] Predicted point: (M:19, C:19), [1821, 1821] / 2535 Yay\n",
      "Segment: 8) [2865, 2999] Predicted point: (M:15, C:15), [117, 117] / 135 Yay\n",
      "\n",
      "Point: 17, Segments: 34\n",
      "Segment: 0) [102, 103] Predicted point: (M:8, C:8), [2, 2] / 2 Yay\n",
      "Segment: 1) [341, 344] Predicted point: (M:8, C:8), [4, 4] / 4 Yay\n",
      "Segment: 2) [1118, 1118] Predicted point: (M:17, C:17), [1, 1] / 1 Yay\n",
      "Segment: 3) [1125, 1125] Predicted point: (M:17, C:17), [1, 1] / 1 Yay\n",
      "Segment: 4) [1128, 1129] Predicted point: (M:17, C:17), [2, 2] / 2 Yay\n",
      "Segment: 5) [1131, 1131] Predicted point: (M:17, C:17), [1, 1] / 1 Yay\n",
      "Segment: 6) [1136, 1136] Predicted point: (M:17, C:17), [1, 1] / 1 Yay\n",
      "Segment: 7) [1148, 1149] Predicted point: (M:17, C:17), [2, 2] / 2 Yay\n",
      "Segment: 8) [1418, 2276] Predicted point: (M:3, C:6), [389, 208] / 859 Conflict\n",
      "Segment: 9) [2279, 2281] Predicted point: (M:6, C:6), [3, 3] / 3 Yay\n",
      "Segment: 10) [2285, 2289] Predicted point: (M:6, C:6), [5, 5] / 5 Yay\n",
      "Segment: 11) [2295, 2303] Predicted point: (M:6, C:6), [9, 9] / 9 Yay\n",
      "Segment: 12) [2306, 2312] Predicted point: (M:6, C:6), [7, 7] / 7 Yay\n",
      "Segment: 13) [2314, 2314] Predicted point: (M:6, C:6), [1, 1] / 1 Yay\n",
      "Segment: 14) [2316, 2316] Predicted point: (M:6, C:6), [1, 1] / 1 Yay\n",
      "Segment: 15) [2323, 2346] Predicted point: (M:6, C:6), [14, 14] / 24 Yay\n",
      "Segment: 16) [2349, 2357] Predicted point: (M:6, C:6), [8, 8] / 9 Yay\n",
      "Segment: 17) [2359, 2362] Predicted point: (M:6, C:6), [4, 4] / 4 Yay\n",
      "Segment: 18) [2365, 2367] Predicted point: (M:6, C:6), [3, 3] / 3 Yay\n",
      "Segment: 19) [2377, 2380] Predicted point: (M:6, C:6), [4, 4] / 4 Yay\n",
      "Segment: 20) [2393, 2397] Predicted point: (M:6, C:6), [5, 5] / 5 Yay\n",
      "Segment: 21) [2399, 2400] Predicted point: (M:6, C:6), [2, 2] / 2 Yay\n",
      "Segment: 22) [2406, 2420] Predicted point: (M:6, C:6), [15, 15] / 15 Yay\n",
      "Segment: 23) [2422, 2429] Predicted point: (M:6, C:6), [8, 8] / 8 Yay\n",
      "Segment: 24) [2438, 2438] Predicted point: (M:6, C:6), [1, 1] / 1 Yay\n",
      "Segment: 25) [2440, 2440] Predicted point: (M:6, C:6), [1, 1] / 1 Yay\n",
      "Segment: 26) [2446, 2447] Predicted point: (M:6, C:6), [2, 2] / 2 Yay\n",
      "Segment: 27) [2843, 2843] Predicted point: (M:15, C:15), [1, 1] / 1 Yay\n",
      "Segment: 28) [2851, 2851] Predicted point: (M:14, C:14), [1, 1] / 1 Yay\n",
      "Segment: 29) [2855, 2866] Predicted point: (M:14, C:14), [6, 6] / 12 Yay\n",
      "Segment: 30) [2868, 2868] Predicted point: (M:15, C:15), [1, 1] / 1 Yay\n",
      "Segment: 31) [2873, 2873] Predicted point: (M:15, C:15), [1, 1] / 1 Yay\n",
      "Segment: 32) [2875, 2875] Predicted point: (M:15, C:15), [1, 1] / 1 Yay\n",
      "Segment: 33) [2908, 2999] Predicted point: (M:15, C:15), [69, 69] / 92 Yay\n",
      "\n",
      "Point: 18, Segments: 26\n",
      "Segment: 0) [113, 113] Predicted point: (M:18, C:18), [1, 1] / 1 Yay\n",
      "Segment: 1) [118, 121] Predicted point: (M:18, C:18), [4, 4] / 4 Yay\n",
      "Segment: 2) [123, 123] Predicted point: (M:18, C:18), [1, 1] / 1 Yay\n",
      "Segment: 3) [425, 425] Predicted point: (M:18, C:18), [1, 1] / 1 Yay\n",
      "Segment: 4) [446, 451] Predicted point: (M:18, C:18), [6, 6] / 6 Yay\n",
      "Segment: 5) [481, 481] Predicted point: (M:18, C:18), [1, 1] / 1 Yay\n",
      "Segment: 6) [572, 572] Predicted point: (M:18, C:18), [1, 1] / 1 Yay\n",
      "Segment: 7) [698, 698] Predicted point: (M:18, C:18), [1, 1] / 1 Yay\n",
      "Segment: 8) [701, 708] Predicted point: (M:18, C:18), [8, 8] / 8 Yay\n",
      "Segment: 9) [710, 710] Predicted point: (M:18, C:18), [1, 1] / 1 Yay\n",
      "Segment: 10) [726, 726] Predicted point: (M:18, C:18), [1, 1] / 1 Yay\n",
      "Segment: 11) [730, 730] Predicted point: (M:18, C:18), [1, 1] / 1 Yay\n",
      "Segment: 12) [733, 2163] Predicted point: (M:18, C:11), [823, 605] / 1431 Conflict\n",
      "Segment: 13) [2295, 2295] Predicted point: (M:18, C:18), [1, 1] / 1 Yay\n",
      "Segment: 14) [2303, 2303] Predicted point: (M:18, C:18), [1, 1] / 1 Yay\n",
      "Segment: 15) [2309, 2309] Predicted point: (M:18, C:18), [1, 1] / 1 Yay\n",
      "Segment: 16) [2456, 2458] Predicted point: (M:19, C:19), [3, 3] / 3 Yay\n",
      "Segment: 17) [2460, 2460] Predicted point: (M:19, C:19), [1, 1] / 1 Yay\n",
      "Segment: 18) [2462, 2472] Predicted point: (M:19, C:19), [11, 11] / 11 Yay\n",
      "Segment: 19) [2479, 2481] Predicted point: (M:19, C:19), [3, 3] / 3 Yay\n",
      "Segment: 20) [2490, 2494] Predicted point: (M:19, C:19), [4, 4] / 5 Yay\n",
      "Segment: 21) [2496, 2496] Predicted point: (M:19, C:19), [1, 1] / 1 Yay\n",
      "Segment: 22) [2498, 2506] Predicted point: (M:19, C:19), [9, 9] / 9 Yay\n",
      "Segment: 23) [2547, 2547] Predicted point: (M:15, C:15), [1, 1] / 1 Yay\n",
      "Segment: 24) [2775, 2811] Predicted point: (M:19, C:19), [27, 27] / 37 Yay\n",
      "Segment: 25) [2859, 2860] Predicted point: (M:5, C:5), [1, 1] / 2 Yay\n",
      "\n",
      "Point: 19, Segments: 18\n",
      "Segment: 0) [198, 198] Predicted point: (M:15, C:15), [1, 1] / 1 Yay\n",
      "Segment: 1) [725, 725] Predicted point: (M:15, C:15), [1, 1] / 1 Yay\n",
      "Segment: 2) [729, 729] Predicted point: (M:15, C:15), [1, 1] / 1 Yay\n",
      "Segment: 3) [1236, 1238] Predicted point: (M:10, C:10), [3, 3] / 3 Yay\n",
      "Segment: 4) [1335, 1353] Predicted point: (M:10, C:10), [19, 19] / 19 Yay\n",
      "Segment: 5) [2125, 2125] Predicted point: (M:15, C:15), [1, 1] / 1 Yay\n",
      "Segment: 6) [2264, 2265] Predicted point: (M:18, C:18), [2, 2] / 2 Yay\n",
      "Segment: 7) [2278, 2280] Predicted point: (M:18, C:18), [3, 3] / 3 Yay\n",
      "Segment: 8) [2316, 2316] Predicted point: (M:18, C:18), [1, 1] / 1 Yay\n",
      "Segment: 9) [2325, 2325] Predicted point: (M:18, C:18), [1, 1] / 1 Yay\n",
      "Segment: 10) [2327, 2327] Predicted point: (M:18, C:18), [1, 1] / 1 Yay\n",
      "Segment: 11) [2329, 2334] Predicted point: (M:18, C:18), [6, 6] / 6 Yay\n",
      "Segment: 12) [2345, 2348] Predicted point: (M:18, C:18), [4, 4] / 4 Yay\n",
      "Segment: 13) [2483, 2483] Predicted point: (M:18, C:18), [1, 1] / 1 Yay\n",
      "Segment: 14) [2491, 2491] Predicted point: (M:18, C:18), [1, 1] / 1 Yay\n",
      "Segment: 15) [2612, 2613] Predicted point: (M:18, C:18), [2, 2] / 2 Yay\n",
      "Segment: 16) [2794, 2794] Predicted point: (M:18, C:18), [1, 1] / 1 Yay\n",
      "Segment: 17) [2863, 2867] Predicted point: (M:9, C:9), [5, 5] / 5 Yay\n",
      "\n",
      "Point: 20, Segments: 12\n",
      "Segment: 0) [773, 773] Predicted point: (M:0, C:0), [1, 1] / 1 Yay\n",
      "Segment: 1) [1370, 1370] Predicted point: (M:0, C:0), [1, 1] / 1 Yay\n",
      "Segment: 2) [2143, 2144] Predicted point: (M:8, C:8), [2, 2] / 2 Yay\n",
      "Segment: 3) [2281, 2281] Predicted point: (M:19, C:19), [1, 1] / 1 Yay\n",
      "Segment: 4) [2374, 2376] Predicted point: (M:1, C:1), [3, 3] / 3 Yay\n",
      "Segment: 5) [2828, 2828] Predicted point: (M:1, C:1), [1, 1] / 1 Yay\n",
      "Segment: 6) [2832, 2832] Predicted point: (M:1, C:1), [1, 1] / 1 Yay\n",
      "Segment: 7) [2835, 2836] Predicted point: (M:1, C:1), [2, 2] / 2 Yay\n",
      "Segment: 8) [2838, 2838] Predicted point: (M:1, C:1), [1, 1] / 1 Yay\n",
      "Segment: 9) [2848, 2852] Predicted point: (M:1, C:1), [5, 5] / 5 Yay\n",
      "Segment: 10) [2954, 2958] Predicted point: (M:1, C:1), [4, 4] / 5 Yay\n",
      "Segment: 11) [2960, 2960] Predicted point: (M:1, C:1), [1, 1] / 1 Yay\n",
      "\n",
      "Point: 21, Segments: 24\n",
      "Segment: 0) [869, 873] Predicted point: (M:0, C:0), [5, 5] / 5 Yay\n",
      "Segment: 1) [1240, 1240] Predicted point: (M:0, C:0), [1, 1] / 1 Yay\n",
      "Segment: 2) [1242, 1245] Predicted point: (M:0, C:0), [4, 4] / 4 Yay\n",
      "Segment: 3) [1284, 1288] Predicted point: (M:8, C:8), [3, 3] / 5 Yay\n",
      "Segment: 4) [1290, 1291] Predicted point: (M:0, C:0), [1, 1] / 2 Yay\n",
      "Segment: 5) [1294, 1294] Predicted point: (M:0, C:0), [1, 1] / 1 Yay\n",
      "Segment: 6) [1298, 1298] Predicted point: (M:0, C:0), [1, 1] / 1 Yay\n",
      "Segment: 7) [1306, 1307] Predicted point: (M:8, C:8), [2, 2] / 2 Yay\n",
      "Segment: 8) [2080, 2085] Predicted point: (M:0, C:0), [6, 6] / 6 Yay\n",
      "Segment: 9) [2087, 2095] Predicted point: (M:0, C:0), [8, 8] / 9 Yay\n",
      "Segment: 10) [2099, 2099] Predicted point: (M:0, C:0), [1, 1] / 1 Yay\n",
      "Segment: 11) [2102, 2102] Predicted point: (M:0, C:0), [1, 1] / 1 Yay\n",
      "Segment: 12) [2106, 2131] Predicted point: (M:0, C:0), [19, 19] / 26 Yay\n",
      "Segment: 13) [2270, 2272] Predicted point: (M:0, C:0), [3, 3] / 3 Yay\n",
      "Segment: 14) [2279, 2284] Predicted point: (M:0, C:0), [4, 4] / 6 Yay\n",
      "Segment: 15) [2292, 2292] Predicted point: (M:0, C:0), [1, 1] / 1 Yay\n",
      "Segment: 16) [2294, 2294] Predicted point: (M:0, C:0), [1, 1] / 1 Yay\n",
      "Segment: 17) [2304, 2306] Predicted point: (M:0, C:0), [3, 3] / 3 Yay\n",
      "Segment: 18) [2313, 2313] Predicted point: (M:0, C:0), [1, 1] / 1 Yay\n",
      "Segment: 19) [2351, 2351] Predicted point: (M:0, C:0), [1, 1] / 1 Yay\n",
      "Segment: 20) [2806, 2806] Predicted point: (M:1, C:1), [1, 1] / 1 Yay\n",
      "Segment: 21) [2830, 2830] Predicted point: (M:1, C:1), [1, 1] / 1 Yay\n",
      "Segment: 22) [2839, 2840] Predicted point: (M:1, C:1), [2, 2] / 2 Yay\n",
      "Segment: 23) [2868, 2999] Predicted point: (M:10, C:10), [67, 67] / 132 Yay\n"
     ]
    }
   ],
   "metadata": {}
  },
  {
   "cell_type": "code",
   "execution_count": 80,
   "source": [
    "# temporal_data\n",
    "# save_temporal_data = asarray(temporal_data, dtype=object)\n",
    "# save_confidence_levels = asarray(confidence_levels, dtype=object)\n",
    "# save_predict_numbs = asarray(predict_numbs, dtype=object)\n",
    "# # save(folder + 'temporal_data.npy', save_temporal_data)\n",
    "# save(folder + 'confidence_levels.npy', confidence_levels)\n",
    "# save(folder + 'predict_numbs.npy', predict_numbs)\n",
    "\n",
    "# confidence_levels\n",
    "# predict_numbs\n",
    "temporal_data = load(folder + 'temporal_data.npy', allow_pickle=True)"
   ],
   "outputs": [
    {
     "output_type": "stream",
     "name": "stderr",
     "text": [
      "/Users/alexle/opt/anaconda3/lib/python3.8/site-packages/numpy/core/_asarray.py:136: VisibleDeprecationWarning: Creating an ndarray from ragged nested sequences (which is a list-or-tuple of lists-or-tuples-or ndarrays with different lengths or shapes) is deprecated. If you meant to do this, you must specify 'dtype=object' when creating the ndarray\n",
      "  return array(a, dtype, copy=False, order=order, subok=True)\n"
     ]
    }
   ],
   "metadata": {}
  },
  {
   "cell_type": "code",
   "execution_count": 30,
   "source": [
    "temp_new = np.ones((22,3000))\n",
    "for i in range(len(temporal_data)):\n",
    "    for j in range(len(temporal_data[i])):\n",
    "        for k in range(len(temporal_data[i][j])):\n",
    "            start = temporal_data[i][j][k][2][0]\n",
    "            end = temporal_data[i][j][k][2][1] + 1\n",
    "            for k in range(start, end):\n",
    "                temp_new[i][k] +=1\n",
    "fig, (ax1, ax2) = plt.subplots(2)\n",
    "ax1.imshow(temp_new, interpolation='nearest', aspect=\"auto\")\n",
    "ax2.imshow(test_pts[::3], interpolation='nearest', aspect=\"auto\")"
   ],
   "outputs": [
    {
     "output_type": "execute_result",
     "data": {
      "text/plain": [
       "<matplotlib.image.AxesImage at 0x7ff6cf3663d0>"
      ]
     },
     "metadata": {},
     "execution_count": 30
    },
    {
     "output_type": "display_data",
     "data": {
      "text/plain": [
       "<Figure size 432x288 with 2 Axes>"
      ],
      "image/png": "[encoded data removed]"
     },
     "metadata": {
      "needs_background": "light"
     }
    }
   ],
   "metadata": {}
  },
  {
   "cell_type": "code",
   "execution_count": 58,
   "source": [
    "temp_copy = temporal_data.copy()\n",
    "temp_data = np.array(temp_copy, dtype=object)\n",
    "# conf_copy = confidence_levels.copy()\n",
    "# conf_data = np.array(conf_copy, dtype=object)\n",
    "\n",
    "\n",
    "chunk_data = []\n",
    "chunk_conf = []\n",
    "pred_data = temp_data[:,1] # 1 for confidence\n",
    "# pred_data = temp_data[:,0] # 0 for mode\n",
    "print(pred_data.shape)\n",
    "\n",
    "for i in range(20):\n",
    "    chunk_data.append([])\n",
    "    # chunk_conf.append([])\n",
    "\n",
    "# putting the preditions into buckets\n",
    "for i in range(20):\n",
    "    index = pred_data[i]\n",
    "    # conf = conf_data[i]\n",
    "    for j in range(len(index)):\n",
    "        chunk_data[index[j][0]].append([i]+index[j])\n",
    "        # chunk_conf[index[j][0]].append([i]+conf[j])\n",
    "\n",
    "for i in range(len(chunk_data)):\n",
    "    print(i, len(chunk_data[i]))"
   ],
   "outputs": [
    {
     "output_type": "stream",
     "name": "stdout",
     "text": [
      "(22,)\n",
      "0 1\n",
      "1 1\n",
      "2 1\n",
      "3 2\n",
      "4 7\n",
      "5 16\n",
      "6 2\n",
      "7 1\n",
      "8 54\n",
      "9 1\n",
      "10 5\n",
      "11 0\n",
      "12 8\n",
      "13 20\n",
      "14 19\n",
      "15 2\n",
      "16 0\n",
      "17 1\n",
      "18 15\n",
      "19 0\n"
     ]
    }
   ],
   "metadata": {}
  },
  {
   "cell_type": "code",
   "execution_count": 53,
   "source": [
    "def squish(chunk_data):\n",
    "    processed_pts = []\n",
    "    unprocessed_pts = []\n",
    "\n",
    "    # squish all the data points\n",
    "    for i in range(20): \n",
    "        numb_index = []\n",
    "        unprocessed = []\n",
    "        bounds = None\n",
    "        current = chunk_data[i]\n",
    "        sorted_current = sorted(current,key=lambda x: x[4])\n",
    "\n",
    "        for j in reversed(range(len(sorted_current))):\n",
    "            input_index = sorted_current[j]\n",
    "            current_bounds = np.arange(input_index[3][0], input_index[3][1]+1).tolist()\n",
    "\n",
    "            if len(numb_index) == 0:\n",
    "                numb_index.append(input_index)\n",
    "                bounds = current_bounds\n",
    "            else:\n",
    "                same = list(set(current_bounds) & set(bounds)) # gets overlapping elements \n",
    "                # no overlapp between the two lists\n",
    "                if len(same) == 0:\n",
    "                    numb_index.append(input_index)\n",
    "                    bounds += current_bounds\n",
    "                else: #if there is overlap between the two lists\n",
    "                    if current_bounds[0] in bounds or current_bounds[-1] in bounds:\n",
    "                        # print(str(i) + \") Can't add index in range [\" + str(current_bounds[0]) + \", \" + str(current_bounds[-1]) + \"] to [\" + str(bounds[0])+ \", \" + str(bounds[-1]) + \"]\")\n",
    "                        unprocessed.append(input_index)\n",
    "                        pass\n",
    "                    elif current_bounds[0] in bounds:\n",
    "                        print(\"Lower bound inside current bounds\")\n",
    "                        pass\n",
    "                    elif current_bounds[-1] in bounds:\n",
    "                        print(\"Upper bound inside current bounds\")\n",
    "                        pass\n",
    "            bounds = sorted(bounds)\n",
    "        processed_pts.append(numb_index)\n",
    "        unprocessed_pts.append(unprocessed)\n",
    "    processed_pts = np.array(processed_pts, dtype = object)\n",
    "    unprocessed_pts = np.array(unprocessed_pts, dtype = object)\n",
    "    return processed_pts, unprocessed_pts\n",
    " "
   ],
   "outputs": [],
   "metadata": {}
  },
  {
   "cell_type": "code",
   "execution_count": 61,
   "source": [
    "processed_pts, unprocessed_pts = squish(chunk_data)"
   ],
   "outputs": [],
   "metadata": {}
  },
  {
   "cell_type": "code",
   "execution_count": 43,
   "source": [
    "# print(unprocessed_pts[3][0])"
   ],
   "outputs": [],
   "metadata": {}
  },
  {
   "cell_type": "code",
   "execution_count": 44,
   "source": [
    "# for i in range(len(unprocessed_pts)):\n",
    "#     for j in range(len(unprocessed_pts[i])):\n",
    "#         print(unprocessed_pts[i][j])\n",
    "#         plt.imshow(confidence_levels[i][j])"
   ],
   "outputs": [],
   "metadata": {}
  },
  {
   "cell_type": "code",
   "execution_count": 62,
   "source": [
    "for i in range(len(processed_pts)):\n",
    "    print(\"Point:\", i, end = \" --> \")\n",
    "    for j in range(len(processed_pts[i])):\n",
    "        print(processed_pts[i][j][0], end = \", \")\n",
    "    print(\"\")"
   ],
   "outputs": [
    {
     "output_type": "stream",
     "name": "stdout",
     "text": [
      "Point: 0 --> 0, \n",
      "Point: 1 --> 1, \n",
      "Point: 2 --> 2, \n",
      "Point: 3 --> 12, \n",
      "Point: 4 --> 11, 11, 11, 19, 19, 19, \n",
      "Point: 5 --> 5, \n",
      "Point: 6 --> 13, 13, \n",
      "Point: 7 --> 10, \n",
      "Point: 8 --> 7, 7, 19, 7, 19, 19, 19, 19, 19, 19, 19, 19, 19, 18, 18, 18, 15, 15, 15, 15, 15, 15, 15, 15, 15, 15, 15, 15, 15, 15, 15, 15, 15, 15, 15, 15, 15, 15, 15, 15, 15, \n",
      "Point: 9 --> 18, \n",
      "Point: 10 --> 18, 16, 18, 17, 17, \n",
      "Point: 11 --> \n",
      "Point: 12 --> 16, 16, 16, 16, 16, 16, 16, 16, \n",
      "Point: 13 --> 17, 17, 17, 17, 17, 17, 17, 17, 17, 17, 17, 17, 17, 17, 17, 17, 17, 17, 7, 7, \n",
      "Point: 14 --> 15, 17, 17, 19, 19, 17, 17, 17, 17, 17, \n",
      "Point: 15 --> 13, 13, \n",
      "Point: 16 --> \n",
      "Point: 17 --> 8, \n",
      "Point: 18 --> 9, \n",
      "Point: 19 --> \n"
     ]
    }
   ],
   "metadata": {}
  },
  {
   "cell_type": "code",
   "execution_count": 63,
   "source": [
    "final_points = []\n",
    "point_coord = np.ones((60,3000))*np.nan\n",
    "\n",
    "for i in range(len(processed_pts)):\n",
    "    index = [i*3, i*3+1, i*3+2]\n",
    "    coord = [[],[],[]]\n",
    "\n",
    "    for j in range(len(processed_pts[i])):\n",
    "        seg_range = processed_pts[i][j]\n",
    "        org_index = seg_range[0]\n",
    "        start = seg_range[3][0]\n",
    "        end = seg_range[3][1]\n",
    "        # print(i,org_index,start,end)\n",
    "        index_xyz = [org_index*3, org_index*3+1, org_index*3+2]\n",
    "\n",
    "        for k in range(start, end):\n",
    "            point_coord[index[0]][k] = test_pts[index_xyz[0]][k]\n",
    "            point_coord[index[1]][k] = test_pts[index_xyz[1]][k]\n",
    "            point_coord[index[2]][k] = test_pts[index_xyz[2]][k]\n",
    "            if np.isnan(test_pts[index_xyz[0]][k]):\n",
    "                print(\"big error\", org_index, k)"
   ],
   "outputs": [],
   "metadata": {}
  },
  {
   "cell_type": "code",
   "execution_count": 64,
   "source": [
    "plt.imshow(point_coord, interpolation='nearest', aspect=\"auto\")\n",
    "plt.show()"
   ],
   "outputs": [
    {
     "output_type": "display_data",
     "data": {
      "text/plain": [
       "<Figure size 432x288 with 1 Axes>"
      ],
      "image/png": "[encoded data removed]"
     },
     "metadata": {
      "needs_background": "light"
     }
    }
   ],
   "metadata": {}
  },
  {
   "cell_type": "code",
   "execution_count": 65,
   "source": [
    "# Draw major lines in the rat model\n",
    "def drawLines(ax,x, y, z):\n",
    "    # run through all the connections to draw the points\n",
    "    for i in range(len(joints_idx)):\n",
    "        try: \n",
    "            # Getting both points to draw line\n",
    "            idx = joints_idx[i]\n",
    "            first_pt = idx[0]-1\n",
    "            second_pt = idx[1]-1\n",
    "            x_line = [x[first_pt], x[second_pt]]\n",
    "            y_line = [y[first_pt], y[second_pt]]\n",
    "            z_line = [z[first_pt], z[second_pt]]\n",
    "            # Draw lines\n",
    "            if i < 3: \n",
    "                ax.plot(x_line, y_line, z_line, c=\"#064ea1\", linewidth=4)\n",
    "            elif i < 6:\n",
    "                ax.plot(x_line, y_line, z_line, c=\"#64ccd1\", linewidth=4)\n",
    "            else:\n",
    "                ax.plot(x_line, y_line, z_line, c=\"#46b8a7\", linewidth=4)\n",
    "        except:\n",
    "            pass\n",
    "\n",
    "# Draw all line from every point \n",
    "def drawAllLines(ax,x, y, z):\n",
    "    joint_len = len(joint_name)\n",
    "    all_lines = []\n",
    "    for i in range(joint_len):\n",
    "        for j in range(joint_len):\n",
    "            if (not([i,j] in all_lines)):\n",
    "                x_line = [x[i], x[j]]\n",
    "                y_line = [y[i], y[j]]\n",
    "                z_line = [z[i], z[j]]\n",
    "                ax.plot(x_line, y_line, z_line, color='#b1d8fc', linewidth=0.5)\n",
    "                all_lines.append([i,j])\n",
    "                all_lines.append([j,i])\n",
    "\n",
    "def addLabels(ax, x, y, z):\n",
    "    # run through all the points to add labels\n",
    "    for i in range(len(x)):\n",
    "        try:\n",
    "            # points_array.append([x[i], y[i], z[i]])\n",
    "            # label = np.around(points_array[i]).astype(int)\n",
    "            label = joint_name[i]\n",
    "            if not np.isnan(x[i]):\n",
    "                ax.text(x[i], y[i], z[i], label)\n",
    "            # print(i, \":\", points_array[i], joint_name[i])\n",
    "        except:\n",
    "            pass"
   ],
   "outputs": [],
   "metadata": {}
  },
  {
   "cell_type": "code",
   "execution_count": 84,
   "source": [
    "# %matplotlib tk\n",
    "\n",
    "# Plot 3D points given file and frame number\n",
    "def plotFrame(pts, frame, draw):\n",
    "    x = frame[0]\n",
    "    y = frame[1]\n",
    "    z = frame[2]\n",
    "    x_pts = pts[0]\n",
    "    y_pts = pts[1]\n",
    "    z_pts = pts[2]\n",
    "\n",
    "    # plt.imshow([x, y,z])\n",
    "    # plt.show()\n",
    "\n",
    "    # loading plot\n",
    "    fig = plt.figure()\n",
    "    ax = fig.add_subplot(projection='3d')\n",
    "\n",
    "    # adding points, labels and lines\n",
    "    try:\n",
    "        ax.scatter(x,y,z, color='#ff5e5e', s =10, marker='x')\n",
    "        ax.scatter(x_pts,y_pts,z_pts, color='b', s =10,)\n",
    "    except:\n",
    "        pass\n",
    "    if draw == 0:\n",
    "        drawLines(ax, x, y, z)\n",
    "        addLabels(ax, x, y, z)\n",
    "    # drawAllLines(ax, x, y, z)\n",
    "\n",
    "    # Labeling plot\n",
    "    ax.set_title(\"Rat positioning\")\n",
    "    ax.set_xlabel(\"X axis\")\n",
    "    ax.set_ylabel(\"Y axis\")\n",
    "    ax.set_zlabel(\"Z axis\")\n",
    "    # rotate the axes and update\n",
    "    for angle in range(0, 360):\n",
    "        ax.view_init(30, angle)\n",
    "        plt.draw()\n",
    "        plt.pause(.001)\n"
   ],
   "outputs": [],
   "metadata": {}
  },
  {
   "cell_type": "code",
   "execution_count": 67,
   "source": [
    "temp = point_coord.copy()\n",
    "temp_2 = np.transpose(temp.T.reshape(3000, 20, 3), (0,2,1))\n",
    "temp_3 = test_pts.copy()\n",
    "temp_4 = np.transpose(temp_3.T.reshape(3000, 22, 3), (0,2,1))\n",
    "\n",
    "plt.imshow(temp_4[2500])\n",
    "plt.show()"
   ],
   "outputs": [
    {
     "output_type": "display_data",
     "data": {
      "text/plain": [
       "<Figure size 432x288 with 1 Axes>"
      ],
      "image/png": "[encoded data removed]"
     },
     "metadata": {
      "needs_background": "light"
     }
    }
   ],
   "metadata": {}
  },
  {
   "cell_type": "code",
   "execution_count": 85,
   "source": [
    "%matplotlib qt\n",
    "plotFrame(temp_4[2500], temp_2[2500], 0)\n",
    "plt.show()"
   ],
   "outputs": [],
   "metadata": {}
  }
 ],
 "metadata": {
  "interpreter": {
   "hash": "8de543a527d38bc21d309dfa8a60aed366b41867ed03b1c23b526625b89003b8"
  },
  "kernelspec": {
   "name": "python3",
   "display_name": "Python 3.8.5 64-bit ('base': conda)"
  },
  "language_info": {
   "codemirror_mode": {
    "name": "ipython",
    "version": 3
   },
   "file_extension": ".py",
   "mimetype": "text/x-python",
   "name": "python",
   "nbconvert_exporter": "python",
   "pygments_lexer": "ipython3",
   "version": "3.8.5"
  },
  "orig_nbformat": 4
 },
 "nbformat": 4,
 "nbformat_minor": 2
}